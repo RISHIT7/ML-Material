{
 "cells": [
  {
   "cell_type": "code",
   "execution_count": 9,
   "id": "bbc3b4e6",
   "metadata": {},
   "outputs": [
    {
     "data": {
      "text/html": [
       "<div>\n",
       "<style scoped>\n",
       "    .dataframe tbody tr th:only-of-type {\n",
       "        vertical-align: middle;\n",
       "    }\n",
       "\n",
       "    .dataframe tbody tr th {\n",
       "        vertical-align: top;\n",
       "    }\n",
       "\n",
       "    .dataframe thead th {\n",
       "        text-align: right;\n",
       "    }\n",
       "</style>\n",
       "<table border=\"1\" class=\"dataframe\">\n",
       "  <thead>\n",
       "    <tr style=\"text-align: right;\">\n",
       "      <th></th>\n",
       "      <th>Country Name</th>\n",
       "      <th>Country Code</th>\n",
       "      <th>Year</th>\n",
       "      <th>Value</th>\n",
       "      <th>GDP</th>\n",
       "    </tr>\n",
       "  </thead>\n",
       "  <tbody>\n",
       "    <tr>\n",
       "      <th>0</th>\n",
       "      <td>Arab World</td>\n",
       "      <td>ARB</td>\n",
       "      <td>1968</td>\n",
       "      <td>2.576068e+10</td>\n",
       "      <td>0.00</td>\n",
       "    </tr>\n",
       "    <tr>\n",
       "      <th>1</th>\n",
       "      <td>Arab World</td>\n",
       "      <td>ARB</td>\n",
       "      <td>1969</td>\n",
       "      <td>2.843420e+10</td>\n",
       "      <td>10.38</td>\n",
       "    </tr>\n",
       "    <tr>\n",
       "      <th>2</th>\n",
       "      <td>Arab World</td>\n",
       "      <td>ARB</td>\n",
       "      <td>1970</td>\n",
       "      <td>3.138550e+10</td>\n",
       "      <td>10.38</td>\n",
       "    </tr>\n",
       "    <tr>\n",
       "      <th>3</th>\n",
       "      <td>Arab World</td>\n",
       "      <td>ARB</td>\n",
       "      <td>1971</td>\n",
       "      <td>3.642691e+10</td>\n",
       "      <td>16.06</td>\n",
       "    </tr>\n",
       "    <tr>\n",
       "      <th>4</th>\n",
       "      <td>Arab World</td>\n",
       "      <td>ARB</td>\n",
       "      <td>1972</td>\n",
       "      <td>4.331606e+10</td>\n",
       "      <td>18.91</td>\n",
       "    </tr>\n",
       "  </tbody>\n",
       "</table>\n",
       "</div>"
      ],
      "text/plain": [
       "  Country Name Country Code  Year         Value    GDP\n",
       "0   Arab World          ARB  1968  2.576068e+10   0.00\n",
       "1   Arab World          ARB  1969  2.843420e+10  10.38\n",
       "2   Arab World          ARB  1970  3.138550e+10  10.38\n",
       "3   Arab World          ARB  1971  3.642691e+10  16.06\n",
       "4   Arab World          ARB  1972  4.331606e+10  18.91"
      ]
     },
     "execution_count": 9,
     "metadata": {},
     "output_type": "execute_result"
    }
   ],
   "source": [
    "import os\n",
    "import pandas as pd\n",
    "import plotly.express as px\n",
    "import plotly.offline as pyo\n",
    "\n",
    "df = pd.read_csv('gdp.csv')\n",
    "\n",
    "final_data = []\n",
    "\n",
    "for country_name in df['Country Name'].unique():\n",
    "    df_pr = df[df['Country Name'] == country_name]\n",
    "    data = df_pr.values\n",
    "    gdp_change = [0]\n",
    "\n",
    "    for i in range(1,len(data)):\n",
    "        prev = data[i-1][3]\n",
    "        cur = data[i][3]\n",
    "        gdp_change.append(round(((cur - prev) / prev)*100,2))\n",
    "\n",
    "    df_pr = df_pr.assign(GDP = gdp_change)\n",
    "    final_data.append(df_pr)\n",
    "    \n",
    "df = pd.concat(final_data, axis = 0)\n",
    "\n",
    "df.head()"
   ]
  },
  {
   "cell_type": "markdown",
   "id": "72d5746b",
   "metadata": {},
   "source": [
    "## GDP Growth Comparison between Specific Countries"
   ]
  },
  {
   "cell_type": "code",
   "execution_count": 10,
   "id": "0ae45909",
   "metadata": {},
   "outputs": [],
   "source": [
    "def compare_gdp(lst, isOpen):\n",
    "    \n",
    "    dfs = []\n",
    "    for i in lst:\n",
    "        dfs.append(df[df['Country Code'] == i])\n",
    "\n",
    "        df_pr = pd.concat(dfs, axis = 0)\n",
    "        \n",
    "    fig = px.line(df_pr, x = 'Year', y = 'GDP', title = 'GDP Comparison - ' + '|'.join(lst), \n",
    "                  color = 'Country Name')\n",
    "    pyo.plot(fig, filename = '|'.join(lst) + '.html', auto_open = isOpen)\n",
    "    "
   ]
  },
  {
   "cell_type": "code",
   "execution_count": 11,
   "id": "bd34f586",
   "metadata": {},
   "outputs": [
    {
     "ename": "OSError",
     "evalue": "[Errno 22] Invalid argument: 'IND|USA|ITA|CHN.html'",
     "output_type": "error",
     "traceback": [
      "\u001b[1;31m---------------------------------------------------------------------------\u001b[0m",
      "\u001b[1;31mOSError\u001b[0m                                   Traceback (most recent call last)",
      "\u001b[1;32m~\\AppData\\Local\\Temp\\ipykernel_8104\\1647001835.py\u001b[0m in \u001b[0;36m<module>\u001b[1;34m\u001b[0m\n\u001b[1;32m----> 1\u001b[1;33m \u001b[0mcompare_gdp\u001b[0m\u001b[1;33m(\u001b[0m\u001b[1;33m[\u001b[0m\u001b[1;34m'IND'\u001b[0m\u001b[1;33m,\u001b[0m\u001b[1;34m'USA'\u001b[0m\u001b[1;33m,\u001b[0m\u001b[1;34m'ITA'\u001b[0m\u001b[1;33m,\u001b[0m\u001b[1;34m'CHN'\u001b[0m\u001b[1;33m]\u001b[0m\u001b[1;33m,\u001b[0m \u001b[1;32mTrue\u001b[0m\u001b[1;33m)\u001b[0m\u001b[1;33m\u001b[0m\u001b[1;33m\u001b[0m\u001b[0m\n\u001b[0m",
      "\u001b[1;32m~\\AppData\\Local\\Temp\\ipykernel_8104\\1178919916.py\u001b[0m in \u001b[0;36mcompare_gdp\u001b[1;34m(lst, isOpen)\u001b[0m\n\u001b[0;32m      9\u001b[0m     fig = px.line(df_pr, x = 'Year', y = 'GDP', title = 'GDP Comparison - ' + '|'.join(lst), \n\u001b[0;32m     10\u001b[0m                   color = 'Country Name')\n\u001b[1;32m---> 11\u001b[1;33m     \u001b[0mpyo\u001b[0m\u001b[1;33m.\u001b[0m\u001b[0mplot\u001b[0m\u001b[1;33m(\u001b[0m\u001b[0mfig\u001b[0m\u001b[1;33m,\u001b[0m \u001b[0mfilename\u001b[0m \u001b[1;33m=\u001b[0m \u001b[1;34m'|'\u001b[0m\u001b[1;33m.\u001b[0m\u001b[0mjoin\u001b[0m\u001b[1;33m(\u001b[0m\u001b[0mlst\u001b[0m\u001b[1;33m)\u001b[0m \u001b[1;33m+\u001b[0m \u001b[1;34m'.html'\u001b[0m\u001b[1;33m,\u001b[0m \u001b[0mauto_open\u001b[0m \u001b[1;33m=\u001b[0m \u001b[0misOpen\u001b[0m\u001b[1;33m)\u001b[0m\u001b[1;33m\u001b[0m\u001b[1;33m\u001b[0m\u001b[0m\n\u001b[0m\u001b[0;32m     12\u001b[0m \u001b[1;33m\u001b[0m\u001b[0m\n",
      "\u001b[1;32mc:\\Users\\rishi\\anaconda3\\lib\\site-packages\\plotly\\offline\\offline.py\u001b[0m in \u001b[0;36mplot\u001b[1;34m(figure_or_data, show_link, link_text, validate, output_type, include_plotlyjs, filename, auto_open, image, image_filename, image_width, image_height, config, include_mathjax, auto_play, animation_opts)\u001b[0m\n\u001b[0;32m    584\u001b[0m \u001b[1;33m\u001b[0m\u001b[0m\n\u001b[0;32m    585\u001b[0m     \u001b[1;32mif\u001b[0m \u001b[0moutput_type\u001b[0m \u001b[1;33m==\u001b[0m \u001b[1;34m\"file\"\u001b[0m\u001b[1;33m:\u001b[0m\u001b[1;33m\u001b[0m\u001b[1;33m\u001b[0m\u001b[0m\n\u001b[1;32m--> 586\u001b[1;33m         pio.write_html(\n\u001b[0m\u001b[0;32m    587\u001b[0m             \u001b[0mfigure\u001b[0m\u001b[1;33m,\u001b[0m\u001b[1;33m\u001b[0m\u001b[1;33m\u001b[0m\u001b[0m\n\u001b[0;32m    588\u001b[0m             \u001b[0mfilename\u001b[0m\u001b[1;33m,\u001b[0m\u001b[1;33m\u001b[0m\u001b[1;33m\u001b[0m\u001b[0m\n",
      "\u001b[1;32mc:\\Users\\rishi\\anaconda3\\lib\\site-packages\\plotly\\io\\_html.py\u001b[0m in \u001b[0;36mwrite_html\u001b[1;34m(fig, file, config, auto_play, include_plotlyjs, include_mathjax, post_script, full_html, animation_opts, validate, default_width, default_height, auto_open, div_id)\u001b[0m\n\u001b[0;32m    535\u001b[0m     \u001b[1;32mif\u001b[0m \u001b[0mpath\u001b[0m \u001b[1;32mis\u001b[0m \u001b[1;32mnot\u001b[0m \u001b[1;32mNone\u001b[0m\u001b[1;33m:\u001b[0m\u001b[1;33m\u001b[0m\u001b[1;33m\u001b[0m\u001b[0m\n\u001b[0;32m    536\u001b[0m         \u001b[1;31m# To use a different file encoding, pass a file descriptor\u001b[0m\u001b[1;33m\u001b[0m\u001b[1;33m\u001b[0m\u001b[0m\n\u001b[1;32m--> 537\u001b[1;33m         \u001b[0mpath\u001b[0m\u001b[1;33m.\u001b[0m\u001b[0mwrite_text\u001b[0m\u001b[1;33m(\u001b[0m\u001b[0mhtml_str\u001b[0m\u001b[1;33m,\u001b[0m \u001b[1;34m\"utf-8\"\u001b[0m\u001b[1;33m)\u001b[0m\u001b[1;33m\u001b[0m\u001b[1;33m\u001b[0m\u001b[0m\n\u001b[0m\u001b[0;32m    538\u001b[0m     \u001b[1;32melse\u001b[0m\u001b[1;33m:\u001b[0m\u001b[1;33m\u001b[0m\u001b[1;33m\u001b[0m\u001b[0m\n\u001b[0;32m    539\u001b[0m         \u001b[0mfile\u001b[0m\u001b[1;33m.\u001b[0m\u001b[0mwrite\u001b[0m\u001b[1;33m(\u001b[0m\u001b[0mhtml_str\u001b[0m\u001b[1;33m)\u001b[0m\u001b[1;33m\u001b[0m\u001b[1;33m\u001b[0m\u001b[0m\n",
      "\u001b[1;32mc:\\Users\\rishi\\anaconda3\\lib\\pathlib.py\u001b[0m in \u001b[0;36mwrite_text\u001b[1;34m(self, data, encoding, errors)\u001b[0m\n\u001b[0;32m   1283\u001b[0m             raise TypeError('data must be str, not %s' %\n\u001b[0;32m   1284\u001b[0m                             data.__class__.__name__)\n\u001b[1;32m-> 1285\u001b[1;33m         \u001b[1;32mwith\u001b[0m \u001b[0mself\u001b[0m\u001b[1;33m.\u001b[0m\u001b[0mopen\u001b[0m\u001b[1;33m(\u001b[0m\u001b[0mmode\u001b[0m\u001b[1;33m=\u001b[0m\u001b[1;34m'w'\u001b[0m\u001b[1;33m,\u001b[0m \u001b[0mencoding\u001b[0m\u001b[1;33m=\u001b[0m\u001b[0mencoding\u001b[0m\u001b[1;33m,\u001b[0m \u001b[0merrors\u001b[0m\u001b[1;33m=\u001b[0m\u001b[0merrors\u001b[0m\u001b[1;33m)\u001b[0m \u001b[1;32mas\u001b[0m \u001b[0mf\u001b[0m\u001b[1;33m:\u001b[0m\u001b[1;33m\u001b[0m\u001b[1;33m\u001b[0m\u001b[0m\n\u001b[0m\u001b[0;32m   1286\u001b[0m             \u001b[1;32mreturn\u001b[0m \u001b[0mf\u001b[0m\u001b[1;33m.\u001b[0m\u001b[0mwrite\u001b[0m\u001b[1;33m(\u001b[0m\u001b[0mdata\u001b[0m\u001b[1;33m)\u001b[0m\u001b[1;33m\u001b[0m\u001b[1;33m\u001b[0m\u001b[0m\n\u001b[0;32m   1287\u001b[0m \u001b[1;33m\u001b[0m\u001b[0m\n",
      "\u001b[1;32mc:\\Users\\rishi\\anaconda3\\lib\\pathlib.py\u001b[0m in \u001b[0;36mopen\u001b[1;34m(self, mode, buffering, encoding, errors, newline)\u001b[0m\n\u001b[0;32m   1250\u001b[0m         \u001b[0mthe\u001b[0m \u001b[0mbuilt\u001b[0m\u001b[1;33m-\u001b[0m\u001b[1;32min\u001b[0m \u001b[0mopen\u001b[0m\u001b[1;33m(\u001b[0m\u001b[1;33m)\u001b[0m \u001b[0mfunction\u001b[0m \u001b[0mdoes\u001b[0m\u001b[1;33m.\u001b[0m\u001b[1;33m\u001b[0m\u001b[1;33m\u001b[0m\u001b[0m\n\u001b[0;32m   1251\u001b[0m         \"\"\"\n\u001b[1;32m-> 1252\u001b[1;33m         return io.open(self, mode, buffering, encoding, errors, newline,\n\u001b[0m\u001b[0;32m   1253\u001b[0m                        opener=self._opener)\n\u001b[0;32m   1254\u001b[0m \u001b[1;33m\u001b[0m\u001b[0m\n",
      "\u001b[1;32mc:\\Users\\rishi\\anaconda3\\lib\\pathlib.py\u001b[0m in \u001b[0;36m_opener\u001b[1;34m(self, name, flags, mode)\u001b[0m\n\u001b[0;32m   1118\u001b[0m     \u001b[1;32mdef\u001b[0m \u001b[0m_opener\u001b[0m\u001b[1;33m(\u001b[0m\u001b[0mself\u001b[0m\u001b[1;33m,\u001b[0m \u001b[0mname\u001b[0m\u001b[1;33m,\u001b[0m \u001b[0mflags\u001b[0m\u001b[1;33m,\u001b[0m \u001b[0mmode\u001b[0m\u001b[1;33m=\u001b[0m\u001b[1;36m0o666\u001b[0m\u001b[1;33m)\u001b[0m\u001b[1;33m:\u001b[0m\u001b[1;33m\u001b[0m\u001b[1;33m\u001b[0m\u001b[0m\n\u001b[0;32m   1119\u001b[0m         \u001b[1;31m# A stub for the opener argument to built-in open()\u001b[0m\u001b[1;33m\u001b[0m\u001b[1;33m\u001b[0m\u001b[0m\n\u001b[1;32m-> 1120\u001b[1;33m         \u001b[1;32mreturn\u001b[0m \u001b[0mself\u001b[0m\u001b[1;33m.\u001b[0m\u001b[0m_accessor\u001b[0m\u001b[1;33m.\u001b[0m\u001b[0mopen\u001b[0m\u001b[1;33m(\u001b[0m\u001b[0mself\u001b[0m\u001b[1;33m,\u001b[0m \u001b[0mflags\u001b[0m\u001b[1;33m,\u001b[0m \u001b[0mmode\u001b[0m\u001b[1;33m)\u001b[0m\u001b[1;33m\u001b[0m\u001b[1;33m\u001b[0m\u001b[0m\n\u001b[0m\u001b[0;32m   1121\u001b[0m \u001b[1;33m\u001b[0m\u001b[0m\n\u001b[0;32m   1122\u001b[0m     \u001b[1;32mdef\u001b[0m \u001b[0m_raw_open\u001b[0m\u001b[1;33m(\u001b[0m\u001b[0mself\u001b[0m\u001b[1;33m,\u001b[0m \u001b[0mflags\u001b[0m\u001b[1;33m,\u001b[0m \u001b[0mmode\u001b[0m\u001b[1;33m=\u001b[0m\u001b[1;36m0o777\u001b[0m\u001b[1;33m)\u001b[0m\u001b[1;33m:\u001b[0m\u001b[1;33m\u001b[0m\u001b[1;33m\u001b[0m\u001b[0m\n",
      "\u001b[1;31mOSError\u001b[0m: [Errno 22] Invalid argument: 'IND|USA|ITA|CHN.html'"
     ]
    }
   ],
   "source": [
    "compare_gdp(['IND','USA','ITA','CHN'], True)"
   ]
  },
  {
   "cell_type": "markdown",
   "id": "87308406",
   "metadata": {},
   "source": [
    "## GDP Growth Comparies of All the Countries"
   ]
  },
  {
   "cell_type": "code",
   "execution_count": 12,
   "id": "7df78179",
   "metadata": {},
   "outputs": [
    {
     "data": {
      "text/plain": [
       "'GDP Growth.html'"
      ]
     },
     "execution_count": 12,
     "metadata": {},
     "output_type": "execute_result"
    }
   ],
   "source": [
    "fig = px.line(df, x = 'Year', y = 'GDP', title = 'GDP Comparison', color = 'Country Name')\n",
    "pyo.plot(fig, filename = 'GDP Growth.html', auto_open = True)"
   ]
  },
  {
   "cell_type": "markdown",
   "id": "a87288df",
   "metadata": {},
   "source": [
    "## GDP Growth of All Countries Graph Individual"
   ]
  },
  {
   "cell_type": "code",
   "execution_count": 13,
   "id": "73cff924",
   "metadata": {},
   "outputs": [],
   "source": [
    "os.mkdir('GDP Growth Individual')\n",
    "\n",
    "for country_name in df['Country Code'].unique():\n",
    "\n",
    "    df_pr = df[df['Country Code'] == country_name]\n",
    "\n",
    "    fig = px.line(df_pr, x = 'Year', y = 'GDP', title = country_name)\n",
    "    pyo.plot(fig, filename = 'GDP Growth Individual/' + country_name + '.html', auto_open = False)"
   ]
  },
  {
   "cell_type": "markdown",
   "id": "151e86af",
   "metadata": {},
   "source": [
    "## GDP Growth between 1960 - 2016"
   ]
  },
  {
   "cell_type": "code",
   "execution_count": 14,
   "id": "1004bd97",
   "metadata": {},
   "outputs": [],
   "source": [
    "dfs = []\n",
    "\n",
    "for country_name in df['Country Name'].unique():\n",
    "    df_pr = df[df['Country Name'] == country_name]\n",
    "    \n",
    "    if (len(df_pr) == 57):\n",
    "        dfs.append(df_pr)\n",
    "        \n",
    "df_pr = pd.concat(dfs, axis = 0)"
   ]
  },
  {
   "cell_type": "code",
   "execution_count": 15,
   "id": "7d6285db",
   "metadata": {},
   "outputs": [
    {
     "data": {
      "text/html": [
       "<div>\n",
       "<style scoped>\n",
       "    .dataframe tbody tr th:only-of-type {\n",
       "        vertical-align: middle;\n",
       "    }\n",
       "\n",
       "    .dataframe tbody tr th {\n",
       "        vertical-align: top;\n",
       "    }\n",
       "\n",
       "    .dataframe thead th {\n",
       "        text-align: right;\n",
       "    }\n",
       "</style>\n",
       "<table border=\"1\" class=\"dataframe\">\n",
       "  <thead>\n",
       "    <tr style=\"text-align: right;\">\n",
       "      <th></th>\n",
       "      <th>Country Name</th>\n",
       "      <th>Country Code</th>\n",
       "      <th>Year</th>\n",
       "      <th>Value</th>\n",
       "      <th>GDP</th>\n",
       "    </tr>\n",
       "  </thead>\n",
       "  <tbody>\n",
       "    <tr>\n",
       "      <th>49</th>\n",
       "      <td>Caribbean small states</td>\n",
       "      <td>CSS</td>\n",
       "      <td>1960</td>\n",
       "      <td>2.004785e+09</td>\n",
       "      <td>0.00</td>\n",
       "    </tr>\n",
       "    <tr>\n",
       "      <th>50</th>\n",
       "      <td>Caribbean small states</td>\n",
       "      <td>CSS</td>\n",
       "      <td>1961</td>\n",
       "      <td>2.169733e+09</td>\n",
       "      <td>8.23</td>\n",
       "    </tr>\n",
       "    <tr>\n",
       "      <th>51</th>\n",
       "      <td>Caribbean small states</td>\n",
       "      <td>CSS</td>\n",
       "      <td>1962</td>\n",
       "      <td>2.289495e+09</td>\n",
       "      <td>5.52</td>\n",
       "    </tr>\n",
       "    <tr>\n",
       "      <th>52</th>\n",
       "      <td>Caribbean small states</td>\n",
       "      <td>CSS</td>\n",
       "      <td>1963</td>\n",
       "      <td>2.431592e+09</td>\n",
       "      <td>6.21</td>\n",
       "    </tr>\n",
       "    <tr>\n",
       "      <th>53</th>\n",
       "      <td>Caribbean small states</td>\n",
       "      <td>CSS</td>\n",
       "      <td>1964</td>\n",
       "      <td>2.626896e+09</td>\n",
       "      <td>8.03</td>\n",
       "    </tr>\n",
       "    <tr>\n",
       "      <th>...</th>\n",
       "      <td>...</td>\n",
       "      <td>...</td>\n",
       "      <td>...</td>\n",
       "      <td>...</td>\n",
       "      <td>...</td>\n",
       "    </tr>\n",
       "    <tr>\n",
       "      <th>11502</th>\n",
       "      <td>Zimbabwe</td>\n",
       "      <td>ZWE</td>\n",
       "      <td>2012</td>\n",
       "      <td>1.424249e+10</td>\n",
       "      <td>17.72</td>\n",
       "    </tr>\n",
       "    <tr>\n",
       "      <th>11503</th>\n",
       "      <td>Zimbabwe</td>\n",
       "      <td>ZWE</td>\n",
       "      <td>2013</td>\n",
       "      <td>1.545177e+10</td>\n",
       "      <td>8.49</td>\n",
       "    </tr>\n",
       "    <tr>\n",
       "      <th>11504</th>\n",
       "      <td>Zimbabwe</td>\n",
       "      <td>ZWE</td>\n",
       "      <td>2014</td>\n",
       "      <td>1.589105e+10</td>\n",
       "      <td>2.84</td>\n",
       "    </tr>\n",
       "    <tr>\n",
       "      <th>11505</th>\n",
       "      <td>Zimbabwe</td>\n",
       "      <td>ZWE</td>\n",
       "      <td>2015</td>\n",
       "      <td>1.630467e+10</td>\n",
       "      <td>2.60</td>\n",
       "    </tr>\n",
       "    <tr>\n",
       "      <th>11506</th>\n",
       "      <td>Zimbabwe</td>\n",
       "      <td>ZWE</td>\n",
       "      <td>2016</td>\n",
       "      <td>1.661996e+10</td>\n",
       "      <td>1.93</td>\n",
       "    </tr>\n",
       "  </tbody>\n",
       "</table>\n",
       "<p>6840 rows × 5 columns</p>\n",
       "</div>"
      ],
      "text/plain": [
       "                 Country Name Country Code  Year         Value    GDP\n",
       "49     Caribbean small states          CSS  1960  2.004785e+09   0.00\n",
       "50     Caribbean small states          CSS  1961  2.169733e+09   8.23\n",
       "51     Caribbean small states          CSS  1962  2.289495e+09   5.52\n",
       "52     Caribbean small states          CSS  1963  2.431592e+09   6.21\n",
       "53     Caribbean small states          CSS  1964  2.626896e+09   8.03\n",
       "...                       ...          ...   ...           ...    ...\n",
       "11502                Zimbabwe          ZWE  2012  1.424249e+10  17.72\n",
       "11503                Zimbabwe          ZWE  2013  1.545177e+10   8.49\n",
       "11504                Zimbabwe          ZWE  2014  1.589105e+10   2.84\n",
       "11505                Zimbabwe          ZWE  2015  1.630467e+10   2.60\n",
       "11506                Zimbabwe          ZWE  2016  1.661996e+10   1.93\n",
       "\n",
       "[6840 rows x 5 columns]"
      ]
     },
     "execution_count": 15,
     "metadata": {},
     "output_type": "execute_result"
    }
   ],
   "source": [
    "df_pr"
   ]
  },
  {
   "cell_type": "code",
   "execution_count": 16,
   "id": "1f8c6580",
   "metadata": {},
   "outputs": [
    {
     "data": {
      "text/plain": [
       "'GDP Growth.html'"
      ]
     },
     "execution_count": 16,
     "metadata": {},
     "output_type": "execute_result"
    }
   ],
   "source": [
    "fig = px.line(df_pr, x = 'Year', y = 'GDP', title = 'GDP Growth', color = 'Country Name')\n",
    "\n",
    "pyo.plot(fig, filename = 'GDP Growth.html', auto_open = True)"
   ]
  },
  {
   "cell_type": "code",
   "execution_count": null,
   "id": "1e63ffb0",
   "metadata": {},
   "outputs": [],
   "source": []
  },
  {
   "cell_type": "code",
   "execution_count": null,
   "id": "7c21a705",
   "metadata": {},
   "outputs": [],
   "source": []
  }
 ],
 "metadata": {
  "kernelspec": {
   "display_name": "Python 3",
   "language": "python",
   "name": "python3"
  },
  "language_info": {
   "codemirror_mode": {
    "name": "ipython",
    "version": 3
   },
   "file_extension": ".py",
   "mimetype": "text/x-python",
   "name": "python",
   "nbconvert_exporter": "python",
   "pygments_lexer": "ipython3",
   "version": "3.9.13"
  }
 },
 "nbformat": 4,
 "nbformat_minor": 5
}
