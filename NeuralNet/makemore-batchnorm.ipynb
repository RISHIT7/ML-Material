{
 "cells": [
  {
   "cell_type": "code",
   "execution_count": 1,
   "id": "861f9e50",
   "metadata": {
    "_cell_guid": "b1076dfc-b9ad-4769-8c92-a6c4dae69d19",
    "_uuid": "8f2839f25d086af736a60e9eeb907d3b93b6e0e5",
    "execution": {
     "iopub.execute_input": "2024-05-22T04:47:36.665249Z",
     "iopub.status.busy": "2024-05-22T04:47:36.664830Z",
     "iopub.status.idle": "2024-05-22T04:47:40.316879Z",
     "shell.execute_reply": "2024-05-22T04:47:40.315605Z"
    },
    "papermill": {
     "duration": 3.665525,
     "end_time": "2024-05-22T04:47:40.319711",
     "exception": false,
     "start_time": "2024-05-22T04:47:36.654186",
     "status": "completed"
    },
    "tags": []
   },
   "outputs": [],
   "source": [
    "import torch\n",
    "import torch.nn.functional as F\n",
    "import matplotlib.pyplot as plt\n",
    "%matplotlib inline"
   ]
  },
  {
   "cell_type": "code",
   "execution_count": 2,
   "id": "f88bf999",
   "metadata": {
    "execution": {
     "iopub.execute_input": "2024-05-22T04:47:40.338384Z",
     "iopub.status.busy": "2024-05-22T04:47:40.337857Z",
     "iopub.status.idle": "2024-05-22T04:47:42.031230Z",
     "shell.execute_reply": "2024-05-22T04:47:42.029777Z"
    },
    "papermill": {
     "duration": 1.705935,
     "end_time": "2024-05-22T04:47:42.034098",
     "exception": false,
     "start_time": "2024-05-22T04:47:40.328163",
     "status": "completed"
    },
    "tags": []
   },
   "outputs": [
    {
     "name": "stdout",
     "output_type": "stream",
     "text": [
      "--2024-05-22 04:47:41--  https://raw.githubusercontent.com/karpathy/makemore/master/names.txt\r\n",
      "Resolving raw.githubusercontent.com (raw.githubusercontent.com)... 185.199.108.133, 185.199.109.133, 185.199.110.133, ...\r\n",
      "Connecting to raw.githubusercontent.com (raw.githubusercontent.com)|185.199.108.133|:443... connected.\r\n",
      "HTTP request sent, awaiting response... 200 OK\r\n",
      "Length: 228145 (223K) [text/plain]\r\n",
      "Saving to: 'names.txt'\r\n",
      "\r\n",
      "names.txt           100%[===================>] 222.80K  --.-KB/s    in 0.1s    \r\n",
      "\r\n",
      "2024-05-22 04:47:41 (1.85 MB/s) - 'names.txt' saved [228145/228145]\r\n",
      "\r\n"
     ]
    }
   ],
   "source": [
    "!wget https://raw.githubusercontent.com/karpathy/makemore/master/names.txt"
   ]
  },
  {
   "cell_type": "markdown",
   "id": "d148ac2c",
   "metadata": {
    "papermill": {
     "duration": 0.008626,
     "end_time": "2024-05-22T04:47:42.053195",
     "exception": false,
     "start_time": "2024-05-22T04:47:42.044569",
     "status": "completed"
    },
    "tags": []
   },
   "source": [
    "Loading Corpus"
   ]
  },
  {
   "cell_type": "code",
   "execution_count": 3,
   "id": "742b88fd",
   "metadata": {
    "execution": {
     "iopub.execute_input": "2024-05-22T04:47:42.073029Z",
     "iopub.status.busy": "2024-05-22T04:47:42.072063Z",
     "iopub.status.idle": "2024-05-22T04:47:42.086832Z",
     "shell.execute_reply": "2024-05-22T04:47:42.085495Z"
    },
    "papermill": {
     "duration": 0.027444,
     "end_time": "2024-05-22T04:47:42.089301",
     "exception": false,
     "start_time": "2024-05-22T04:47:42.061857",
     "status": "completed"
    },
    "tags": []
   },
   "outputs": [
    {
     "data": {
      "text/plain": [
       "['emma', 'olivia', 'ava', 'isabella', 'sophia', 'charlotte', 'mia', 'amelia']"
      ]
     },
     "execution_count": 3,
     "metadata": {},
     "output_type": "execute_result"
    }
   ],
   "source": [
    "words = open('names.txt', 'r').read().splitlines()\n",
    "words[:8]"
   ]
  },
  {
   "cell_type": "code",
   "execution_count": 4,
   "id": "ea244b11",
   "metadata": {
    "execution": {
     "iopub.execute_input": "2024-05-22T04:47:42.109263Z",
     "iopub.status.busy": "2024-05-22T04:47:42.108812Z",
     "iopub.status.idle": "2024-05-22T04:47:42.115898Z",
     "shell.execute_reply": "2024-05-22T04:47:42.114744Z"
    },
    "papermill": {
     "duration": 0.020011,
     "end_time": "2024-05-22T04:47:42.118477",
     "exception": false,
     "start_time": "2024-05-22T04:47:42.098466",
     "status": "completed"
    },
    "tags": []
   },
   "outputs": [
    {
     "data": {
      "text/plain": [
       "32033"
      ]
     },
     "execution_count": 4,
     "metadata": {},
     "output_type": "execute_result"
    }
   ],
   "source": [
    "len(words)"
   ]
  },
  {
   "cell_type": "markdown",
   "id": "0d61a384",
   "metadata": {
    "papermill": {
     "duration": 0.008692,
     "end_time": "2024-05-22T04:47:42.136508",
     "exception": false,
     "start_time": "2024-05-22T04:47:42.127816",
     "status": "completed"
    },
    "tags": []
   },
   "source": [
    "Populating Vocabulary"
   ]
  },
  {
   "cell_type": "code",
   "execution_count": 5,
   "id": "4e741820",
   "metadata": {
    "execution": {
     "iopub.execute_input": "2024-05-22T04:47:42.156816Z",
     "iopub.status.busy": "2024-05-22T04:47:42.156363Z",
     "iopub.status.idle": "2024-05-22T04:47:42.168035Z",
     "shell.execute_reply": "2024-05-22T04:47:42.166737Z"
    },
    "papermill": {
     "duration": 0.024586,
     "end_time": "2024-05-22T04:47:42.170335",
     "exception": false,
     "start_time": "2024-05-22T04:47:42.145749",
     "status": "completed"
    },
    "tags": []
   },
   "outputs": [],
   "source": [
    "chars = sorted(list(set(''.join(words))))\n",
    "stoi = {s:i+1 for i, s in enumerate(chars)}\n",
    "stoi['.'] = 0\n",
    "itos = {i:s for s, i in stoi.items()}\n",
    "vocab_size = len(itos)"
   ]
  },
  {
   "cell_type": "markdown",
   "id": "ff1ae816",
   "metadata": {
    "papermill": {
     "duration": 0.008659,
     "end_time": "2024-05-22T04:47:42.188081",
     "exception": false,
     "start_time": "2024-05-22T04:47:42.179422",
     "status": "completed"
    },
    "tags": []
   },
   "source": [
    "Bulding Dataset"
   ]
  },
  {
   "cell_type": "code",
   "execution_count": 6,
   "id": "2577ac3c",
   "metadata": {
    "execution": {
     "iopub.execute_input": "2024-05-22T04:47:42.208997Z",
     "iopub.status.busy": "2024-05-22T04:47:42.208565Z",
     "iopub.status.idle": "2024-05-22T04:47:42.217731Z",
     "shell.execute_reply": "2024-05-22T04:47:42.216501Z"
    },
    "papermill": {
     "duration": 0.023407,
     "end_time": "2024-05-22T04:47:42.220360",
     "exception": false,
     "start_time": "2024-05-22T04:47:42.196953",
     "status": "completed"
    },
    "tags": []
   },
   "outputs": [],
   "source": [
    "block_size = 3 # context_length\n",
    "\n",
    "def build_dataset(words):\n",
    "    X, Y = [], []\n",
    "    \n",
    "    for w in words:\n",
    "        context = [0]*block_size\n",
    "        for ch in w + '.':\n",
    "            ix = stoi[ch]\n",
    "            X.append(context)\n",
    "            Y.append(ix)\n",
    "            \n",
    "            context = context[1:] + [ix]\n",
    "    \n",
    "    X = torch.tensor(X)\n",
    "    Y = torch.tensor(Y)\n",
    "    print(X.shape, Y.shape)\n",
    "    \n",
    "    return X, Y"
   ]
  },
  {
   "cell_type": "code",
   "execution_count": 7,
   "id": "1e609205",
   "metadata": {
    "execution": {
     "iopub.execute_input": "2024-05-22T04:47:42.240126Z",
     "iopub.status.busy": "2024-05-22T04:47:42.239675Z",
     "iopub.status.idle": "2024-05-22T04:47:42.244769Z",
     "shell.execute_reply": "2024-05-22T04:47:42.243628Z"
    },
    "papermill": {
     "duration": 0.017914,
     "end_time": "2024-05-22T04:47:42.247346",
     "exception": false,
     "start_time": "2024-05-22T04:47:42.229432",
     "status": "completed"
    },
    "tags": []
   },
   "outputs": [],
   "source": [
    "import random"
   ]
  },
  {
   "cell_type": "code",
   "execution_count": 8,
   "id": "89f72dd4",
   "metadata": {
    "execution": {
     "iopub.execute_input": "2024-05-22T04:47:42.267349Z",
     "iopub.status.busy": "2024-05-22T04:47:42.266931Z",
     "iopub.status.idle": "2024-05-22T04:47:43.361812Z",
     "shell.execute_reply": "2024-05-22T04:47:43.360645Z"
    },
    "papermill": {
     "duration": 1.10814,
     "end_time": "2024-05-22T04:47:43.364565",
     "exception": false,
     "start_time": "2024-05-22T04:47:42.256425",
     "status": "completed"
    },
    "tags": []
   },
   "outputs": [
    {
     "name": "stdout",
     "output_type": "stream",
     "text": [
      "torch.Size([182625, 3]) torch.Size([182625])\n",
      "torch.Size([22655, 3]) torch.Size([22655])\n",
      "torch.Size([22866, 3]) torch.Size([22866])\n"
     ]
    }
   ],
   "source": [
    "random.seed(42)\n",
    "random.shuffle(words)\n",
    "n1 = int(0.8*len(words))\n",
    "n2 = int(0.9*len(words))\n",
    "\n",
    "Xtr, Ytr = build_dataset(words[:n1])\n",
    "Xdev, Ydev = build_dataset(words[n1:n2])\n",
    "Xte, Yte = build_dataset(words[n2:])"
   ]
  },
  {
   "cell_type": "markdown",
   "id": "a3d21c79",
   "metadata": {
    "papermill": {
     "duration": 0.008845,
     "end_time": "2024-05-22T04:47:43.382621",
     "exception": false,
     "start_time": "2024-05-22T04:47:43.373776",
     "status": "completed"
    },
    "tags": []
   },
   "source": [
    "### MLP"
   ]
  },
  {
   "cell_type": "code",
   "execution_count": 9,
   "id": "af7a51c6",
   "metadata": {
    "execution": {
     "iopub.execute_input": "2024-05-22T04:47:43.403173Z",
     "iopub.status.busy": "2024-05-22T04:47:43.402377Z",
     "iopub.status.idle": "2024-05-22T04:47:43.453355Z",
     "shell.execute_reply": "2024-05-22T04:47:43.452222Z"
    },
    "papermill": {
     "duration": 0.064901,
     "end_time": "2024-05-22T04:47:43.456799",
     "exception": false,
     "start_time": "2024-05-22T04:47:43.391898",
     "status": "completed"
    },
    "tags": []
   },
   "outputs": [],
   "source": [
    "# MLP Revisited\n",
    "n_embd = 10 # the dimensionality of the dense char embedding vector\n",
    "n_hidden = 200 # the number of neurons in the hidden layer\n",
    "\n",
    "g = torch.Generator().manual_seed(2147483647)\n",
    "C = torch.randn((vocab_size, n_embd), generator = g)\n",
    "W1 = torch.randn((n_hidden, n_embd * block_size), generator = g).T*(5/3)/((n_embd*block_size)**0.5)\n",
    "# b1 = torch.randn(n_hidden, generator=g)*0.00\n",
    "W2 = torch.randn((vocab_size, n_hidden), generator = g).T * 0.01\n",
    "b2 = torch.randn(vocab_size, generator = g) * 0.00"
   ]
  },
  {
   "cell_type": "markdown",
   "id": "63c8161f",
   "metadata": {
    "papermill": {
     "duration": 0.011473,
     "end_time": "2024-05-22T04:47:43.480890",
     "exception": false,
     "start_time": "2024-05-22T04:47:43.469417",
     "status": "completed"
    },
    "tags": []
   },
   "source": [
    "### Batch Normalisaiton"
   ]
  },
  {
   "cell_type": "code",
   "execution_count": 10,
   "id": "a5ad168d",
   "metadata": {
    "execution": {
     "iopub.execute_input": "2024-05-22T04:47:43.507539Z",
     "iopub.status.busy": "2024-05-22T04:47:43.507081Z",
     "iopub.status.idle": "2024-05-22T04:47:43.517512Z",
     "shell.execute_reply": "2024-05-22T04:47:43.516127Z"
    },
    "papermill": {
     "duration": 0.028038,
     "end_time": "2024-05-22T04:47:43.521402",
     "exception": false,
     "start_time": "2024-05-22T04:47:43.493364",
     "status": "completed"
    },
    "tags": []
   },
   "outputs": [],
   "source": [
    "bngain = torch.ones((1, n_hidden))\n",
    "bnbias = torch.zeros((1, n_hidden))\n",
    "bnmean_running = torch.zeros((1, n_hidden))\n",
    "bnstd_running = torch.ones((1, n_hidden))"
   ]
  },
  {
   "cell_type": "markdown",
   "id": "04d23c95",
   "metadata": {
    "papermill": {
     "duration": 0.008809,
     "end_time": "2024-05-22T04:47:43.540547",
     "exception": false,
     "start_time": "2024-05-22T04:47:43.531738",
     "status": "completed"
    },
    "tags": []
   },
   "source": [
    "### Motivation for correct normalising constants"
   ]
  },
  {
   "cell_type": "code",
   "execution_count": 11,
   "id": "aa7ba4f7",
   "metadata": {
    "execution": {
     "iopub.execute_input": "2024-05-22T04:47:43.561137Z",
     "iopub.status.busy": "2024-05-22T04:47:43.560677Z",
     "iopub.status.idle": "2024-05-22T04:47:45.395099Z",
     "shell.execute_reply": "2024-05-22T04:47:45.393883Z"
    },
    "papermill": {
     "duration": 1.848211,
     "end_time": "2024-05-22T04:47:45.397805",
     "exception": false,
     "start_time": "2024-05-22T04:47:43.549594",
     "status": "completed"
    },
    "tags": []
   },
   "outputs": [
    {
     "name": "stdout",
     "output_type": "stream",
     "text": [
      "tensor(0.0118) tensor(0.9914)\n",
      "tensor(-0.0023) tensor(3.0996)\n"
     ]
    },
    {
     "data": {
      "text/plain": [
       "(array([7.18774293e-06, 0.00000000e+00, 2.15632288e-05, 2.15632288e-05,\n",
       "        5.75019435e-05, 5.75019435e-05, 1.15003887e-04, 1.72505830e-04,\n",
       "        2.87509717e-04, 6.10958149e-04, 7.69088494e-04, 1.24347953e-03,\n",
       "        2.02694351e-03, 3.37823918e-03, 5.43393366e-03, 8.27309212e-03,\n",
       "        1.21329101e-02, 1.88462620e-02, 2.79387568e-02, 3.95613371e-02,\n",
       "        5.45765321e-02, 7.03967543e-02, 9.21540521e-02, 1.11323763e-01,\n",
       "        1.29314683e-01, 1.39348772e-01, 1.37997477e-01, 1.29357810e-01,\n",
       "        1.12811625e-01, 9.33112788e-02, 7.24524488e-02, 5.40662023e-02,\n",
       "        3.87131834e-02, 2.75506187e-02, 1.90331433e-02, 1.19029023e-02,\n",
       "        7.97120691e-03, 5.35486849e-03, 3.07635398e-03, 2.22101257e-03,\n",
       "        1.43754859e-03, 8.55341409e-04, 6.03770406e-04, 2.94697460e-04,\n",
       "        1.72505830e-04, 1.36567116e-04, 6.46896864e-05, 5.03142005e-05,\n",
       "        2.15632288e-05, 2.15632288e-05]),\n",
       " array([-1.80901699e+01, -1.73945412e+01, -1.66989126e+01, -1.60032839e+01,\n",
       "        -1.53076553e+01, -1.46120266e+01, -1.39163979e+01, -1.32207693e+01,\n",
       "        -1.25251406e+01, -1.18295119e+01, -1.11338833e+01, -1.04382546e+01,\n",
       "        -9.74262596e+00, -9.04699730e+00, -8.35136864e+00, -7.65573997e+00,\n",
       "        -6.96011131e+00, -6.26448265e+00, -5.56885399e+00, -4.87322533e+00,\n",
       "        -4.17759666e+00, -3.48196800e+00, -2.78633934e+00, -2.09071068e+00,\n",
       "        -1.39508202e+00, -6.99453354e-01, -3.82469177e-03,  6.91803970e-01,\n",
       "         1.38743263e+00,  2.08306129e+00,  2.77868996e+00,  3.47431862e+00,\n",
       "         4.16994728e+00,  4.86557594e+00,  5.56120461e+00,  6.25683327e+00,\n",
       "         6.95246193e+00,  7.64809059e+00,  8.34371925e+00,  9.03934792e+00,\n",
       "         9.73497658e+00,  1.04306052e+01,  1.11262339e+01,  1.18218626e+01,\n",
       "         1.25174912e+01,  1.32131199e+01,  1.39087486e+01,  1.46043772e+01,\n",
       "         1.53000059e+01,  1.59956345e+01,  1.66912632e+01]),\n",
       " <BarContainer object of 50 artists>)"
      ]
     },
     "execution_count": 11,
     "metadata": {},
     "output_type": "execute_result"
    },
    {
     "data": {
      "image/png": "[encoded data removed]",
      "text/plain": [
       "<Figure size 2000x500 with 2 Axes>"
      ]
     },
     "metadata": {},
     "output_type": "display_data"
    }
   ],
   "source": [
    "x = torch.randn(1000, 10)\n",
    "w = torch.randn(10, 200)\n",
    "y = x @ w\n",
    "print(x.mean(), x.std())\n",
    "print(y.mean(), y.std())\n",
    "plt.figure(figsize = (20, 5))\n",
    "plt.subplot(121)\n",
    "plt.hist(x.view(-1).tolist(), 50, density = True)\n",
    "plt.subplot(122)\n",
    "plt.hist(y.view(-1).tolist(), 50, density = True)"
   ]
  },
  {
   "cell_type": "markdown",
   "id": "8e516a03",
   "metadata": {
    "papermill": {
     "duration": 0.009394,
     "end_time": "2024-05-22T04:47:45.417128",
     "exception": false,
     "start_time": "2024-05-22T04:47:45.407734",
     "status": "completed"
    },
    "tags": []
   },
   "source": [
    "Mean remains the same, but std div has expanded, but we dont want that \\\n",
    "so we must scale w, correctly suchthat it preserves the gaussian \\\n",
    "Mathematically comes out to be divided by the squareroot of fan in, that is shape[0]\n",
    "```\n",
    "W1 = torch.randn((n_hidden, n_embd * block_size), generator = g).T*(5/3)/((n_embd*block_size)**0.5)\n",
    "```\n",
    "\n",
    "Most people use the inbuild `kaiming_normalisation` \n",
    "\n",
    "and we also need a gain included in this std normalisation as tanh is a contractive activation"
   ]
  },
  {
   "cell_type": "markdown",
   "id": "2b61d216",
   "metadata": {
    "papermill": {
     "duration": 0.009546,
     "end_time": "2024-05-22T04:47:45.436554",
     "exception": false,
     "start_time": "2024-05-22T04:47:45.427008",
     "status": "completed"
    },
    "tags": []
   },
   "source": [
    "### Preparing for grad"
   ]
  },
  {
   "cell_type": "code",
   "execution_count": 12,
   "id": "807d7345",
   "metadata": {
    "execution": {
     "iopub.execute_input": "2024-05-22T04:47:45.458383Z",
     "iopub.status.busy": "2024-05-22T04:47:45.457383Z",
     "iopub.status.idle": "2024-05-22T04:47:45.464458Z",
     "shell.execute_reply": "2024-05-22T04:47:45.463327Z"
    },
    "papermill": {
     "duration": 0.020564,
     "end_time": "2024-05-22T04:47:45.466817",
     "exception": false,
     "start_time": "2024-05-22T04:47:45.446253",
     "status": "completed"
    },
    "tags": []
   },
   "outputs": [
    {
     "name": "stdout",
     "output_type": "stream",
     "text": [
      "12097\n"
     ]
    }
   ],
   "source": [
    "parameters = [C, W1, W2, b2, bngain, bnbias]\n",
    "print(sum(p.nelement() for p in parameters))\n",
    "for p in parameters:\n",
    "    p.requires_grad = True"
   ]
  },
  {
   "cell_type": "code",
   "execution_count": 13,
   "id": "87ceba9a",
   "metadata": {
    "execution": {
     "iopub.execute_input": "2024-05-22T04:47:45.489275Z",
     "iopub.status.busy": "2024-05-22T04:47:45.488108Z",
     "iopub.status.idle": "2024-05-22T04:51:18.262767Z",
     "shell.execute_reply": "2024-05-22T04:51:18.261664Z"
    },
    "papermill": {
     "duration": 212.789238,
     "end_time": "2024-05-22T04:51:18.265957",
     "exception": false,
     "start_time": "2024-05-22T04:47:45.476719",
     "status": "completed"
    },
    "tags": []
   },
   "outputs": [
    {
     "name": "stdout",
     "output_type": "stream",
     "text": [
      "      0/ 200000: 3.2944\n",
      "  10000/ 200000: 2.1204\n",
      "  20000/ 200000: 2.6738\n",
      "  30000/ 200000: 1.9978\n",
      "  40000/ 200000: 2.2211\n",
      "  50000/ 200000: 1.8527\n",
      "  60000/ 200000: 2.0737\n",
      "  70000/ 200000: 2.2758\n",
      "  80000/ 200000: 2.3699\n",
      "  90000/ 200000: 2.1287\n",
      " 100000/ 200000: 2.2205\n",
      " 110000/ 200000: 2.4661\n",
      " 120000/ 200000: 1.7136\n",
      " 130000/ 200000: 2.0199\n",
      " 140000/ 200000: 2.1848\n",
      " 150000/ 200000: 1.9880\n",
      " 160000/ 200000: 2.0510\n",
      " 170000/ 200000: 2.4521\n",
      " 180000/ 200000: 2.1227\n",
      " 190000/ 200000: 2.1528\n"
     ]
    }
   ],
   "source": [
    "# same optimization as last time\n",
    "max_steps = 200000\n",
    "batch_size = 32\n",
    "lossi = []\n",
    "\n",
    "for i in range(max_steps):\n",
    "  \n",
    "    # minibatch construct\n",
    "    ix = torch.randint(0, Xtr.shape[0], (batch_size,), generator=g)\n",
    "    Xb, Yb = Xtr[ix], Ytr[ix] # batch X,Y\n",
    "\n",
    "    # forward pass\n",
    "    emb = C[Xb] # embed the characters into vectors\n",
    "    embcat = emb.view(emb.shape[0], -1) # concatenate the vectors\n",
    "    # Linear layer\n",
    "    hpreact = embcat @ W1 #+ b1 # hidden layer pre-activation\n",
    "    # Normalisation\n",
    "    # -------------------------------------------------------------\n",
    "    bnmeani = hpreact.mean(0, keepdim=True)\n",
    "    bnstdi = hpreact.std(0, keepdim=True)\n",
    "    hpreact = bngain * (hpreact - bnmeani) / bnstdi + bnbias\n",
    "    with torch.no_grad():\n",
    "        bnmean_running = 0.999 * bnmean_running + 0.001 * bnmeani\n",
    "        bnstd_running = 0.999 * bnstd_running + 0.001 * bnstdi\n",
    "    # -------------------------------------------------------------\n",
    "    # Non-linearity\n",
    "    h = torch.tanh(hpreact) # hidden layer\n",
    "    logits = h @ W2 + b2 # output layer\n",
    "    loss = F.cross_entropy(logits, Yb) # loss function\n",
    "\n",
    "    # backward pass\n",
    "    for p in parameters:\n",
    "        p.grad = None\n",
    "    loss.backward()\n",
    "    \n",
    "    # update\n",
    "    lr = 0.1 if i < 100000 else 0.01 # step learning rate decay\n",
    "    for p in parameters:\n",
    "        p.data += -lr * p.grad\n",
    "\n",
    "    # track stats\n",
    "    if i % 10000 == 0: # print every once in a while\n",
    "        print(f'{i:7d}/{max_steps:7d}: {loss.item():.4f}')\n",
    "    lossi.append(loss.log10().item())\n"
   ]
  },
  {
   "cell_type": "code",
   "execution_count": 14,
   "id": "47c8b27f",
   "metadata": {
    "execution": {
     "iopub.execute_input": "2024-05-22T04:51:18.291932Z",
     "iopub.status.busy": "2024-05-22T04:51:18.291516Z",
     "iopub.status.idle": "2024-05-22T04:51:19.455785Z",
     "shell.execute_reply": "2024-05-22T04:51:19.454580Z"
    },
    "papermill": {
     "duration": 1.180437,
     "end_time": "2024-05-22T04:51:19.458271",
     "exception": false,
     "start_time": "2024-05-22T04:51:18.277834",
     "status": "completed"
    },
    "tags": []
   },
   "outputs": [
    {
     "data": {
      "text/plain": [
       "[<matplotlib.lines.Line2D at 0x78d2c29eac50>]"
      ]
     },
     "execution_count": 14,
     "metadata": {},
     "output_type": "execute_result"
    },
    {
     "data": {
      "image/png": "[encoded data removed]",
      "text/plain": [
       "<Figure size 640x480 with 1 Axes>"
      ]
     },
     "metadata": {},
     "output_type": "display_data"
    }
   ],
   "source": [
    "plt.plot(lossi)"
   ]
  },
  {
   "cell_type": "code",
   "execution_count": 15,
   "id": "a6c9b6a1",
   "metadata": {
    "execution": {
     "iopub.execute_input": "2024-05-22T04:51:19.486048Z",
     "iopub.status.busy": "2024-05-22T04:51:19.485582Z",
     "iopub.status.idle": "2024-05-22T04:51:19.880888Z",
     "shell.execute_reply": "2024-05-22T04:51:19.879652Z"
    },
    "papermill": {
     "duration": 0.412297,
     "end_time": "2024-05-22T04:51:19.883722",
     "exception": false,
     "start_time": "2024-05-22T04:51:19.471425",
     "status": "completed"
    },
    "tags": []
   },
   "outputs": [],
   "source": [
    "# calibrate the batch norm at the end of training\n",
    "\n",
    "with torch.no_grad():\n",
    "    # pass the training set through\n",
    "    emb = C[Xtr]\n",
    "    embcat = emb.view(emb.shape[0], -1)\n",
    "    hpreact = embcat @ W1 # + b1\n",
    "    # measure the mean/std over the entire training set\n",
    "    bnmean = hpreact.mean(0, keepdim=True)\n",
    "    bnstd = hpreact.std(0, keepdim=True)"
   ]
  },
  {
   "cell_type": "code",
   "execution_count": 16,
   "id": "3de6fba9",
   "metadata": {
    "execution": {
     "iopub.execute_input": "2024-05-22T04:51:19.911301Z",
     "iopub.status.busy": "2024-05-22T04:51:19.910905Z",
     "iopub.status.idle": "2024-05-22T04:51:20.585240Z",
     "shell.execute_reply": "2024-05-22T04:51:20.584032Z"
    },
    "papermill": {
     "duration": 0.691894,
     "end_time": "2024-05-22T04:51:20.588260",
     "exception": false,
     "start_time": "2024-05-22T04:51:19.896366",
     "status": "completed"
    },
    "tags": []
   },
   "outputs": [
    {
     "name": "stdout",
     "output_type": "stream",
     "text": [
      "train 2.0679590702056885\n",
      "val 2.1088221073150635\n"
     ]
    }
   ],
   "source": [
    "@torch.no_grad()\n",
    "def split_loss(split):\n",
    "    x, y = {\n",
    "        'train' : {Xtr, Ytr},\n",
    "        'val' : {Xdev, Ydev},\n",
    "        'test' : {Xte, Yte}\n",
    "    }[split]\n",
    "    emb = C[x]\n",
    "    embcat = emb.view(emb.shape[0], -1)\n",
    "    hpreact = embcat @ W1 # + b1\n",
    "    hpreact =  bngain * (hpreact - bnmean_running)/bnstd_running + bnbias\n",
    "    h = torch.tanh(hpreact)\n",
    "    logits = h @ W2 + b2\n",
    "    loss = F.cross_entropy(logits, y)\n",
    "    print(split, loss.item())\n",
    "\n",
    "split_loss('train')\n",
    "split_loss('val')"
   ]
  },
  {
   "cell_type": "code",
   "execution_count": 17,
   "id": "f9bc0f30",
   "metadata": {
    "execution": {
     "iopub.execute_input": "2024-05-22T04:51:20.615492Z",
     "iopub.status.busy": "2024-05-22T04:51:20.615086Z",
     "iopub.status.idle": "2024-05-22T04:51:20.687515Z",
     "shell.execute_reply": "2024-05-22T04:51:20.686249Z"
    },
    "papermill": {
     "duration": 0.089384,
     "end_time": "2024-05-22T04:51:20.690401",
     "exception": false,
     "start_time": "2024-05-22T04:51:20.601017",
     "status": "completed"
    },
    "tags": []
   },
   "outputs": [
    {
     "name": "stdout",
     "output_type": "stream",
     "text": [
      "briah.\n",
      "myazlieenmilynn.\n",
      "sabellascengrlot.\n",
      "shelydanliths.\n",
      "girenleyegssandalissathi.\n",
      "shqayce.\n",
      "shub.\n",
      "roxhiriestin.\n",
      "joxcelshnnicolfsubfatvenshyldur.\n",
      "els.\n",
      "gianghstlyanshinshalyanshupubialventen.\n",
      "try.\n",
      "bronaoellafrdin.\n",
      "brookobh.\n",
      "gicibroretty.\n",
      "brhun.\n",
      "bluisaqiifelvondwriah.\n",
      "xtharshzthed.\n",
      "silvissif.\n",
      "fadvissivliviennakelandiyaxabiguhmi.\n"
     ]
    }
   ],
   "source": [
    "g = torch.Generator().manual_seed(2147483647 + 10)\n",
    "\n",
    "for _ in range(20):\n",
    "    \n",
    "    out = []\n",
    "    context = [0]*block_size\n",
    "    while True:\n",
    "        # forward pass the neural net\n",
    "        emb = C[torch.tensor([context])]\n",
    "        h = torch.tanh(emb.view(1, -1) @ W1) # + b1)\n",
    "        logits = h @ W2 + b2\n",
    "        probs = F.softmax(logits, dim = 1)\n",
    "        # sample from the distribution\n",
    "        ix = torch.multinomial(probs, num_samples = 1, generator = g).item()\n",
    "        # shift the context window and track the samples\n",
    "        context = context[1:] + [ix]\n",
    "        out.append(ix)\n",
    "        # if we sample the special '.' token, break \n",
    "        if ix == 0:\n",
    "            break\n",
    "        \n",
    "    print(''.join(itos[i] for i in out)) # decodeand print the generated word"
   ]
  },
  {
   "cell_type": "code",
   "execution_count": null,
   "id": "c54e5852",
   "metadata": {
    "papermill": {
     "duration": 0.012248,
     "end_time": "2024-05-22T04:51:20.715430",
     "exception": false,
     "start_time": "2024-05-22T04:51:20.703182",
     "status": "completed"
    },
    "tags": []
   },
   "outputs": [],
   "source": []
  }
 ],
 "metadata": {
  "kaggle": {
   "accelerator": "none",
   "dataSources": [],
   "dockerImageVersionId": 30698,
   "isGpuEnabled": false,
   "isInternetEnabled": true,
   "language": "python",
   "sourceType": "notebook"
  },
  "kernelspec": {
   "display_name": "Python 3",
   "language": "python",
   "name": "python3"
  },
  "language_info": {
   "codemirror_mode": {
    "name": "ipython",
    "version": 3
   },
   "file_extension": ".py",
   "mimetype": "text/x-python",
   "name": "python",
   "nbconvert_exporter": "python",
   "pygments_lexer": "ipython3",
   "version": "3.10.13"
  },
  "papermill": {
   "default_parameters": {},
   "duration": 228.165783,
   "end_time": "2024-05-22T04:51:21.752534",
   "environment_variables": {},
   "exception": null,
   "input_path": "__notebook__.ipynb",
   "output_path": "__notebook__.ipynb",
   "parameters": {},
   "start_time": "2024-05-22T04:47:33.586751",
   "version": "2.5.0"
  }
 },
 "nbformat": 4,
 "nbformat_minor": 5
}
