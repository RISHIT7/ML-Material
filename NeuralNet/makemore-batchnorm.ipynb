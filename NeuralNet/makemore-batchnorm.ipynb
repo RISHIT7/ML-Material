{
 "cells": [
  {
   "cell_type": "code",
   "execution_count": 1,
   "id": "d2ab58f9",
   "metadata": {
    "_cell_guid": "b1076dfc-b9ad-4769-8c92-a6c4dae69d19",
    "_uuid": "8f2839f25d086af736a60e9eeb907d3b93b6e0e5",
    "execution": {
     "iopub.execute_input": "2024-05-22T05:44:21.889357Z",
     "iopub.status.busy": "2024-05-22T05:44:21.888395Z",
     "iopub.status.idle": "2024-05-22T05:44:24.907438Z",
     "shell.execute_reply": "2024-05-22T05:44:24.906485Z"
    },
    "papermill": {
     "duration": 3.031622,
     "end_time": "2024-05-22T05:44:24.909873",
     "exception": false,
     "start_time": "2024-05-22T05:44:21.878251",
     "status": "completed"
    },
    "tags": []
   },
   "outputs": [],
   "source": [
    "import torch\n",
    "import torch.nn.functional as F\n",
    "import matplotlib.pyplot as plt\n",
    "%matplotlib inline"
   ]
  },
  {
   "cell_type": "code",
   "execution_count": 2,
   "id": "3ab6e6c8",
   "metadata": {
    "execution": {
     "iopub.execute_input": "2024-05-22T05:44:24.926958Z",
     "iopub.status.busy": "2024-05-22T05:44:24.926432Z",
     "iopub.status.idle": "2024-05-22T05:44:26.537276Z",
     "shell.execute_reply": "2024-05-22T05:44:26.536116Z"
    },
    "papermill": {
     "duration": 1.622541,
     "end_time": "2024-05-22T05:44:26.540192",
     "exception": false,
     "start_time": "2024-05-22T05:44:24.917651",
     "status": "completed"
    },
    "tags": []
   },
   "outputs": [
    {
     "name": "stdout",
     "output_type": "stream",
     "text": [
      "--2024-05-22 05:44:25--  https://raw.githubusercontent.com/karpathy/makemore/master/names.txt\r\n",
      "Resolving raw.githubusercontent.com (raw.githubusercontent.com)... 185.199.108.133, 185.199.111.133, 185.199.110.133, ...\r\n",
      "Connecting to raw.githubusercontent.com (raw.githubusercontent.com)|185.199.108.133|:443... connected.\r\n",
      "HTTP request sent, awaiting response... 200 OK\r\n",
      "Length: 228145 (223K) [text/plain]\r\n",
      "Saving to: 'names.txt'\r\n",
      "\r\n",
      "names.txt           100%[===================>] 222.80K  --.-KB/s    in 0.1s    \r\n",
      "\r\n",
      "2024-05-22 05:44:26 (1.87 MB/s) - 'names.txt' saved [228145/228145]\r\n",
      "\r\n"
     ]
    }
   ],
   "source": [
    "!wget https://raw.githubusercontent.com/karpathy/makemore/master/names.txt"
   ]
  },
  {
   "cell_type": "markdown",
   "id": "f06743e6",
   "metadata": {
    "papermill": {
     "duration": 0.007645,
     "end_time": "2024-05-22T05:44:26.556007",
     "exception": false,
     "start_time": "2024-05-22T05:44:26.548362",
     "status": "completed"
    },
    "tags": []
   },
   "source": [
    "Loading Corpus"
   ]
  },
  {
   "cell_type": "code",
   "execution_count": 3,
   "id": "17e3b794",
   "metadata": {
    "execution": {
     "iopub.execute_input": "2024-05-22T05:44:26.574292Z",
     "iopub.status.busy": "2024-05-22T05:44:26.573867Z",
     "iopub.status.idle": "2024-05-22T05:44:26.586199Z",
     "shell.execute_reply": "2024-05-22T05:44:26.585169Z"
    },
    "papermill": {
     "duration": 0.024489,
     "end_time": "2024-05-22T05:44:26.588418",
     "exception": false,
     "start_time": "2024-05-22T05:44:26.563929",
     "status": "completed"
    },
    "tags": []
   },
   "outputs": [
    {
     "data": {
      "text/plain": [
       "['emma', 'olivia', 'ava', 'isabella', 'sophia', 'charlotte', 'mia', 'amelia']"
      ]
     },
     "execution_count": 3,
     "metadata": {},
     "output_type": "execute_result"
    }
   ],
   "source": [
    "words = open('names.txt', 'r').read().splitlines()\n",
    "words[:8]"
   ]
  },
  {
   "cell_type": "code",
   "execution_count": 4,
   "id": "e6f00b57",
   "metadata": {
    "execution": {
     "iopub.execute_input": "2024-05-22T05:44:26.606653Z",
     "iopub.status.busy": "2024-05-22T05:44:26.605702Z",
     "iopub.status.idle": "2024-05-22T05:44:26.612126Z",
     "shell.execute_reply": "2024-05-22T05:44:26.611080Z"
    },
    "papermill": {
     "duration": 0.017594,
     "end_time": "2024-05-22T05:44:26.614138",
     "exception": false,
     "start_time": "2024-05-22T05:44:26.596544",
     "status": "completed"
    },
    "tags": []
   },
   "outputs": [
    {
     "data": {
      "text/plain": [
       "32033"
      ]
     },
     "execution_count": 4,
     "metadata": {},
     "output_type": "execute_result"
    }
   ],
   "source": [
    "len(words)"
   ]
  },
  {
   "cell_type": "markdown",
   "id": "ab934000",
   "metadata": {
    "papermill": {
     "duration": 0.00783,
     "end_time": "2024-05-22T05:44:26.630161",
     "exception": false,
     "start_time": "2024-05-22T05:44:26.622331",
     "status": "completed"
    },
    "tags": []
   },
   "source": [
    "Populating Vocabulary"
   ]
  },
  {
   "cell_type": "code",
   "execution_count": 5,
   "id": "47cf8300",
   "metadata": {
    "execution": {
     "iopub.execute_input": "2024-05-22T05:44:26.649262Z",
     "iopub.status.busy": "2024-05-22T05:44:26.648436Z",
     "iopub.status.idle": "2024-05-22T05:44:26.658602Z",
     "shell.execute_reply": "2024-05-22T05:44:26.657503Z"
    },
    "papermill": {
     "duration": 0.021619,
     "end_time": "2024-05-22T05:44:26.660734",
     "exception": false,
     "start_time": "2024-05-22T05:44:26.639115",
     "status": "completed"
    },
    "tags": []
   },
   "outputs": [],
   "source": [
    "chars = sorted(list(set(''.join(words))))\n",
    "stoi = {s:i+1 for i, s in enumerate(chars)}\n",
    "stoi['.'] = 0\n",
    "itos = {i:s for s, i in stoi.items()}\n",
    "vocab_size = len(itos)"
   ]
  },
  {
   "cell_type": "markdown",
   "id": "7e865681",
   "metadata": {
    "papermill": {
     "duration": 0.007711,
     "end_time": "2024-05-22T05:44:26.676708",
     "exception": false,
     "start_time": "2024-05-22T05:44:26.668997",
     "status": "completed"
    },
    "tags": []
   },
   "source": [
    "Bulding Dataset"
   ]
  },
  {
   "cell_type": "code",
   "execution_count": 6,
   "id": "a494a137",
   "metadata": {
    "execution": {
     "iopub.execute_input": "2024-05-22T05:44:26.694273Z",
     "iopub.status.busy": "2024-05-22T05:44:26.693883Z",
     "iopub.status.idle": "2024-05-22T05:44:26.701340Z",
     "shell.execute_reply": "2024-05-22T05:44:26.700273Z"
    },
    "papermill": {
     "duration": 0.018975,
     "end_time": "2024-05-22T05:44:26.703554",
     "exception": false,
     "start_time": "2024-05-22T05:44:26.684579",
     "status": "completed"
    },
    "tags": []
   },
   "outputs": [],
   "source": [
    "block_size = 3 # context_length\n",
    "\n",
    "def build_dataset(words):\n",
    "    X, Y = [], []\n",
    "    \n",
    "    for w in words:\n",
    "        context = [0]*block_size\n",
    "        for ch in w + '.':\n",
    "            ix = stoi[ch]\n",
    "            X.append(context)\n",
    "            Y.append(ix)\n",
    "            \n",
    "            context = context[1:] + [ix]\n",
    "    \n",
    "    X = torch.tensor(X)\n",
    "    Y = torch.tensor(Y)\n",
    "    print(X.shape, Y.shape)\n",
    "    \n",
    "    return X, Y"
   ]
  },
  {
   "cell_type": "code",
   "execution_count": 7,
   "id": "a010f07d",
   "metadata": {
    "execution": {
     "iopub.execute_input": "2024-05-22T05:44:26.721543Z",
     "iopub.status.busy": "2024-05-22T05:44:26.721188Z",
     "iopub.status.idle": "2024-05-22T05:44:26.725523Z",
     "shell.execute_reply": "2024-05-22T05:44:26.724576Z"
    },
    "papermill": {
     "duration": 0.01584,
     "end_time": "2024-05-22T05:44:26.727552",
     "exception": false,
     "start_time": "2024-05-22T05:44:26.711712",
     "status": "completed"
    },
    "tags": []
   },
   "outputs": [],
   "source": [
    "import random"
   ]
  },
  {
   "cell_type": "code",
   "execution_count": 8,
   "id": "65b884aa",
   "metadata": {
    "execution": {
     "iopub.execute_input": "2024-05-22T05:44:26.746174Z",
     "iopub.status.busy": "2024-05-22T05:44:26.745377Z",
     "iopub.status.idle": "2024-05-22T05:44:27.520879Z",
     "shell.execute_reply": "2024-05-22T05:44:27.519743Z"
    },
    "papermill": {
     "duration": 0.78751,
     "end_time": "2024-05-22T05:44:27.523252",
     "exception": false,
     "start_time": "2024-05-22T05:44:26.735742",
     "status": "completed"
    },
    "tags": []
   },
   "outputs": [
    {
     "name": "stdout",
     "output_type": "stream",
     "text": [
      "torch.Size([182625, 3]) torch.Size([182625])\n",
      "torch.Size([22655, 3]) torch.Size([22655])\n",
      "torch.Size([22866, 3]) torch.Size([22866])\n"
     ]
    }
   ],
   "source": [
    "random.seed(42)\n",
    "random.shuffle(words)\n",
    "n1 = int(0.8*len(words))\n",
    "n2 = int(0.9*len(words))\n",
    "\n",
    "Xtr, Ytr = build_dataset(words[:n1])\n",
    "Xdev, Ydev = build_dataset(words[n1:n2])\n",
    "Xte, Yte = build_dataset(words[n2:])"
   ]
  },
  {
   "cell_type": "markdown",
   "id": "9727b3eb",
   "metadata": {
    "papermill": {
     "duration": 0.008167,
     "end_time": "2024-05-22T05:44:27.539514",
     "exception": false,
     "start_time": "2024-05-22T05:44:27.531347",
     "status": "completed"
    },
    "tags": []
   },
   "source": [
    "### MLP"
   ]
  },
  {
   "cell_type": "code",
   "execution_count": 9,
   "id": "e2e25d0e",
   "metadata": {
    "execution": {
     "iopub.execute_input": "2024-05-22T05:44:27.558142Z",
     "iopub.status.busy": "2024-05-22T05:44:27.557740Z",
     "iopub.status.idle": "2024-05-22T05:44:27.597288Z",
     "shell.execute_reply": "2024-05-22T05:44:27.596164Z"
    },
    "papermill": {
     "duration": 0.051797,
     "end_time": "2024-05-22T05:44:27.599785",
     "exception": false,
     "start_time": "2024-05-22T05:44:27.547988",
     "status": "completed"
    },
    "tags": []
   },
   "outputs": [],
   "source": [
    "# MLP Revisited\n",
    "n_embd = 10 # the dimensionality of the dense char embedding vector\n",
    "n_hidden = 200 # the number of neurons in the hidden layer\n",
    "\n",
    "g = torch.Generator().manual_seed(2147483647)\n",
    "C = torch.randn((vocab_size, n_embd), generator = g)\n",
    "W1 = torch.randn((n_hidden, n_embd * block_size), generator = g).T*(5/3)/((n_embd*block_size)**0.5)\n",
    "# b1 = torch.randn(n_hidden, generator=g)*0.00\n",
    "W2 = torch.randn((vocab_size, n_hidden), generator = g).T * 0.01\n",
    "b2 = torch.randn(vocab_size, generator = g) * 0.00"
   ]
  },
  {
   "cell_type": "markdown",
   "id": "365a9ca7",
   "metadata": {
    "papermill": {
     "duration": 0.007827,
     "end_time": "2024-05-22T05:44:27.615902",
     "exception": false,
     "start_time": "2024-05-22T05:44:27.608075",
     "status": "completed"
    },
    "tags": []
   },
   "source": [
    "### Batch Normalisaiton"
   ]
  },
  {
   "cell_type": "code",
   "execution_count": 10,
   "id": "ce3d69ca",
   "metadata": {
    "execution": {
     "iopub.execute_input": "2024-05-22T05:44:27.633981Z",
     "iopub.status.busy": "2024-05-22T05:44:27.633218Z",
     "iopub.status.idle": "2024-05-22T05:44:27.642742Z",
     "shell.execute_reply": "2024-05-22T05:44:27.641754Z"
    },
    "papermill": {
     "duration": 0.021218,
     "end_time": "2024-05-22T05:44:27.645095",
     "exception": false,
     "start_time": "2024-05-22T05:44:27.623877",
     "status": "completed"
    },
    "tags": []
   },
   "outputs": [],
   "source": [
    "bngain = torch.ones((1, n_hidden))\n",
    "bnbias = torch.zeros((1, n_hidden))\n",
    "bnmean_running = torch.zeros((1, n_hidden))\n",
    "bnstd_running = torch.ones((1, n_hidden))"
   ]
  },
  {
   "cell_type": "markdown",
   "id": "12be5ce0",
   "metadata": {
    "papermill": {
     "duration": 0.007809,
     "end_time": "2024-05-22T05:44:27.661010",
     "exception": false,
     "start_time": "2024-05-22T05:44:27.653201",
     "status": "completed"
    },
    "tags": []
   },
   "source": [
    "### Motivation for correct normalising constants"
   ]
  },
  {
   "cell_type": "code",
   "execution_count": 11,
   "id": "3d4eb5b6",
   "metadata": {
    "execution": {
     "iopub.execute_input": "2024-05-22T05:44:27.678642Z",
     "iopub.status.busy": "2024-05-22T05:44:27.678284Z",
     "iopub.status.idle": "2024-05-22T05:44:28.937062Z",
     "shell.execute_reply": "2024-05-22T05:44:28.936117Z"
    },
    "papermill": {
     "duration": 1.270145,
     "end_time": "2024-05-22T05:44:28.939272",
     "exception": false,
     "start_time": "2024-05-22T05:44:27.669127",
     "status": "completed"
    },
    "tags": []
   },
   "outputs": [
    {
     "name": "stdout",
     "output_type": "stream",
     "text": [
      "tensor(0.0035) tensor(0.9930)\n",
      "tensor(0.0034) tensor(3.1627)\n"
     ]
    },
    {
     "data": {
      "text/plain": [
       "(array([1.95434951e-05, 6.51449835e-06, 1.95434951e-05, 1.30289967e-05,\n",
       "        2.60579934e-05, 1.95434951e-05, 6.51449835e-05, 1.69376957e-04,\n",
       "        2.99666924e-04, 5.60246858e-04, 9.05515271e-04, 1.70028407e-03,\n",
       "        2.89895177e-03, 5.25068567e-03, 8.10403595e-03, 1.28791632e-02,\n",
       "        1.98366475e-02, 3.09829542e-02, 4.40119509e-02, 6.08779871e-02,\n",
       "        8.17634688e-02, 1.02121276e-01, 1.20251125e-01, 1.32100998e-01,\n",
       "        1.33534187e-01, 1.24466006e-01, 1.10270914e-01, 9.02258022e-02,\n",
       "        6.94901539e-02, 5.02658693e-02, 3.56343060e-02, 2.43446803e-02,\n",
       "        1.54067886e-02, 9.56979808e-03, 6.14317195e-03, 3.75886555e-03,\n",
       "        2.24750193e-03, 1.26381268e-03, 5.34188865e-04, 4.16927895e-04,\n",
       "        1.95434951e-04, 1.17260970e-04, 6.51449835e-05, 3.25724918e-05,\n",
       "        1.30289967e-05, 0.00000000e+00, 1.30289967e-05, 0.00000000e+00,\n",
       "        0.00000000e+00, 6.51449835e-06]),\n",
       " array([-18.57216835, -17.80464954, -17.03713074, -16.26961193,\n",
       "        -15.50209312, -14.73457432, -13.96705551, -13.19953671,\n",
       "        -12.4320179 , -11.66449909, -10.89698029, -10.12946148,\n",
       "         -9.36194267,  -8.59442387,  -7.82690506,  -7.05938625,\n",
       "         -6.29186745,  -5.52434864,  -4.75682983,  -3.98931103,\n",
       "         -3.22179222,  -2.45427341,  -1.68675461,  -0.9192358 ,\n",
       "         -0.151717  ,   0.61580181,   1.38332062,   2.15083942,\n",
       "          2.91835823,   3.68587704,   4.45339584,   5.22091465,\n",
       "          5.98843346,   6.75595226,   7.52347107,   8.29098988,\n",
       "          9.05850868,   9.82602749,  10.5935463 ,  11.3610651 ,\n",
       "         12.12858391,  12.89610271,  13.66362152,  14.43114033,\n",
       "         15.19865913,  15.96617794,  16.73369675,  17.50121555,\n",
       "         18.26873436,  19.03625317,  19.80377197]),\n",
       " <BarContainer object of 50 artists>)"
      ]
     },
     "execution_count": 11,
     "metadata": {},
     "output_type": "execute_result"
    },
    {
     "data": {
      "image/png": "[encoded data removed]",
      "text/plain": [
       "<Figure size 2000x500 with 2 Axes>"
      ]
     },
     "metadata": {},
     "output_type": "display_data"
    }
   ],
   "source": [
    "x = torch.randn(1000, 10)\n",
    "w = torch.randn(10, 200)\n",
    "y = x @ w\n",
    "print(x.mean(), x.std())\n",
    "print(y.mean(), y.std())\n",
    "plt.figure(figsize = (20, 5))\n",
    "plt.subplot(121)\n",
    "plt.hist(x.view(-1).tolist(), 50, density = True)\n",
    "plt.subplot(122)\n",
    "plt.hist(y.view(-1).tolist(), 50, density = True)"
   ]
  },
  {
   "cell_type": "markdown",
   "id": "20e811bc",
   "metadata": {
    "papermill": {
     "duration": 0.008439,
     "end_time": "2024-05-22T05:44:28.956541",
     "exception": false,
     "start_time": "2024-05-22T05:44:28.948102",
     "status": "completed"
    },
    "tags": []
   },
   "source": [
    "Mean remains the same, but std div has expanded, but we dont want that \\\n",
    "so we must scale w, correctly suchthat it preserves the gaussian \\\n",
    "Mathematically comes out to be divided by the squareroot of fan in, that is shape[0]\n",
    "```\n",
    "W1 = torch.randn((n_hidden, n_embd * block_size), generator = g).T*(5/3)/((n_embd*block_size)**0.5)\n",
    "```\n",
    "\n",
    "Most people use the inbuild `kaiming_normalisation` \n",
    "\n",
    "and we also need a gain included in this std normalisation as tanh is a contractive activation"
   ]
  },
  {
   "cell_type": "markdown",
   "id": "882752a6",
   "metadata": {
    "papermill": {
     "duration": 0.008741,
     "end_time": "2024-05-22T05:44:28.974007",
     "exception": false,
     "start_time": "2024-05-22T05:44:28.965266",
     "status": "completed"
    },
    "tags": []
   },
   "source": [
    "### Preparing for grad"
   ]
  },
  {
   "cell_type": "code",
   "execution_count": 12,
   "id": "adc2c773",
   "metadata": {
    "execution": {
     "iopub.execute_input": "2024-05-22T05:44:28.999666Z",
     "iopub.status.busy": "2024-05-22T05:44:28.999076Z",
     "iopub.status.idle": "2024-05-22T05:44:29.006992Z",
     "shell.execute_reply": "2024-05-22T05:44:29.005821Z"
    },
    "papermill": {
     "duration": 0.024668,
     "end_time": "2024-05-22T05:44:29.010063",
     "exception": false,
     "start_time": "2024-05-22T05:44:28.985395",
     "status": "completed"
    },
    "tags": []
   },
   "outputs": [
    {
     "name": "stdout",
     "output_type": "stream",
     "text": [
      "12097\n"
     ]
    }
   ],
   "source": [
    "parameters = [C, W1, W2, b2, bngain, bnbias]\n",
    "print(sum(p.nelement() for p in parameters))\n",
    "for p in parameters:\n",
    "    p.requires_grad = True"
   ]
  },
  {
   "cell_type": "code",
   "execution_count": 13,
   "id": "0f2ff70d",
   "metadata": {
    "execution": {
     "iopub.execute_input": "2024-05-22T05:44:29.038735Z",
     "iopub.status.busy": "2024-05-22T05:44:29.037920Z",
     "iopub.status.idle": "2024-05-22T05:47:33.212533Z",
     "shell.execute_reply": "2024-05-22T05:47:33.211549Z"
    },
    "papermill": {
     "duration": 184.190916,
     "end_time": "2024-05-22T05:47:33.215071",
     "exception": false,
     "start_time": "2024-05-22T05:44:29.024155",
     "status": "completed"
    },
    "tags": []
   },
   "outputs": [
    {
     "name": "stdout",
     "output_type": "stream",
     "text": [
      "      0/ 200000: 3.2944\n",
      "  10000/ 200000: 2.1204\n",
      "  20000/ 200000: 2.6738\n",
      "  30000/ 200000: 1.9978\n",
      "  40000/ 200000: 2.2211\n",
      "  50000/ 200000: 1.8527\n",
      "  60000/ 200000: 2.0737\n",
      "  70000/ 200000: 2.2758\n",
      "  80000/ 200000: 2.3699\n",
      "  90000/ 200000: 2.1287\n",
      " 100000/ 200000: 2.2205\n",
      " 110000/ 200000: 2.4661\n",
      " 120000/ 200000: 1.7136\n",
      " 130000/ 200000: 2.0199\n",
      " 140000/ 200000: 2.1848\n",
      " 150000/ 200000: 1.9880\n",
      " 160000/ 200000: 2.0510\n",
      " 170000/ 200000: 2.4521\n",
      " 180000/ 200000: 2.1227\n",
      " 190000/ 200000: 2.1528\n"
     ]
    }
   ],
   "source": [
    "# same optimization as last time\n",
    "max_steps = 200000\n",
    "batch_size = 32\n",
    "lossi = []\n",
    "\n",
    "for i in range(max_steps):\n",
    "  \n",
    "    # minibatch construct\n",
    "    ix = torch.randint(0, Xtr.shape[0], (batch_size,), generator=g)\n",
    "    Xb, Yb = Xtr[ix], Ytr[ix] # batch X,Y\n",
    "\n",
    "    # forward pass\n",
    "    emb = C[Xb] # embed the characters into vectors\n",
    "    embcat = emb.view(emb.shape[0], -1) # concatenate the vectors\n",
    "    # Linear layer\n",
    "    hpreact = embcat @ W1 #+ b1 # hidden layer pre-activation\n",
    "    # Normalisation\n",
    "    # -------------------------------------------------------------\n",
    "    bnmeani = hpreact.mean(0, keepdim=True)\n",
    "    bnstdi = hpreact.std(0, keepdim=True)\n",
    "    hpreact = bngain * (hpreact - bnmeani) / bnstdi + bnbias\n",
    "    with torch.no_grad():\n",
    "        bnmean_running = 0.999 * bnmean_running + 0.001 * bnmeani\n",
    "        bnstd_running = 0.999 * bnstd_running + 0.001 * bnstdi\n",
    "    # -------------------------------------------------------------\n",
    "    # Non-linearity\n",
    "    h = torch.tanh(hpreact) # hidden layer\n",
    "    logits = h @ W2 + b2 # output layer\n",
    "    loss = F.cross_entropy(logits, Yb) # loss function\n",
    "\n",
    "    # backward pass\n",
    "    for p in parameters:\n",
    "        p.grad = None\n",
    "    loss.backward()\n",
    "    \n",
    "    # update\n",
    "    lr = 0.1 if i < 100000 else 0.01 # step learning rate decay\n",
    "    for p in parameters:\n",
    "        p.data += -lr * p.grad\n",
    "\n",
    "    # track stats\n",
    "    if i % 10000 == 0: # print every once in a while\n",
    "        print(f'{i:7d}/{max_steps:7d}: {loss.item():.4f}')\n",
    "    lossi.append(loss.log10().item())\n"
   ]
  },
  {
   "cell_type": "code",
   "execution_count": 14,
   "id": "7997c763",
   "metadata": {
    "execution": {
     "iopub.execute_input": "2024-05-22T05:47:33.237275Z",
     "iopub.status.busy": "2024-05-22T05:47:33.236904Z",
     "iopub.status.idle": "2024-05-22T05:47:34.323380Z",
     "shell.execute_reply": "2024-05-22T05:47:34.322280Z"
    },
    "papermill": {
     "duration": 1.100161,
     "end_time": "2024-05-22T05:47:34.325710",
     "exception": false,
     "start_time": "2024-05-22T05:47:33.225549",
     "status": "completed"
    },
    "tags": []
   },
   "outputs": [
    {
     "data": {
      "text/plain": [
       "[<matplotlib.lines.Line2D at 0x784915b29690>]"
      ]
     },
     "execution_count": 14,
     "metadata": {},
     "output_type": "execute_result"
    },
    {
     "data": {
      "image/png": "[encoded data removed]",
      "text/plain": [
       "<Figure size 640x480 with 1 Axes>"
      ]
     },
     "metadata": {},
     "output_type": "display_data"
    }
   ],
   "source": [
    "plt.plot(lossi)"
   ]
  },
  {
   "cell_type": "code",
   "execution_count": 15,
   "id": "47a73baa",
   "metadata": {
    "execution": {
     "iopub.execute_input": "2024-05-22T05:47:34.349667Z",
     "iopub.status.busy": "2024-05-22T05:47:34.349296Z",
     "iopub.status.idle": "2024-05-22T05:47:34.708933Z",
     "shell.execute_reply": "2024-05-22T05:47:34.707915Z"
    },
    "papermill": {
     "duration": 0.374439,
     "end_time": "2024-05-22T05:47:34.711446",
     "exception": false,
     "start_time": "2024-05-22T05:47:34.337007",
     "status": "completed"
    },
    "tags": []
   },
   "outputs": [],
   "source": [
    "# calibrate the batch norm at the end of training\n",
    "\n",
    "with torch.no_grad():\n",
    "    # pass the training set through\n",
    "    emb = C[Xtr]\n",
    "    embcat = emb.view(emb.shape[0], -1)\n",
    "    hpreact = embcat @ W1 # + b1\n",
    "    # measure the mean/std over the entire training set\n",
    "    bnmean = hpreact.mean(0, keepdim=True)\n",
    "    bnstd = hpreact.std(0, keepdim=True)"
   ]
  },
  {
   "cell_type": "code",
   "execution_count": 16,
   "id": "4e0a087f",
   "metadata": {
    "execution": {
     "iopub.execute_input": "2024-05-22T05:47:34.735028Z",
     "iopub.status.busy": "2024-05-22T05:47:34.734638Z",
     "iopub.status.idle": "2024-05-22T05:47:35.350499Z",
     "shell.execute_reply": "2024-05-22T05:47:35.349101Z"
    },
    "papermill": {
     "duration": 0.630593,
     "end_time": "2024-05-22T05:47:35.352985",
     "exception": false,
     "start_time": "2024-05-22T05:47:34.722392",
     "status": "completed"
    },
    "tags": []
   },
   "outputs": [
    {
     "name": "stdout",
     "output_type": "stream",
     "text": [
      "train 2.0679590702056885\n",
      "val 2.1088221073150635\n"
     ]
    }
   ],
   "source": [
    "@torch.no_grad()\n",
    "def split_loss(split):\n",
    "    x, y = {\n",
    "        'train' : {Xtr, Ytr},\n",
    "        'val' : {Xdev, Ydev},\n",
    "        'test' : {Xte, Yte}\n",
    "    }[split]\n",
    "    emb = C[x]\n",
    "    embcat = emb.view(emb.shape[0], -1)\n",
    "    hpreact = embcat @ W1 # + b1\n",
    "    hpreact =  bngain * (hpreact - bnmean_running)/bnstd_running + bnbias\n",
    "    h = torch.tanh(hpreact)\n",
    "    logits = h @ W2 + b2\n",
    "    loss = F.cross_entropy(logits, y)\n",
    "    print(split, loss.item())\n",
    "\n",
    "split_loss('train')\n",
    "split_loss('val')"
   ]
  },
  {
   "cell_type": "code",
   "execution_count": 17,
   "id": "eeb6d82b",
   "metadata": {
    "execution": {
     "iopub.execute_input": "2024-05-22T05:47:35.376491Z",
     "iopub.status.busy": "2024-05-22T05:47:35.376094Z",
     "iopub.status.idle": "2024-05-22T05:47:35.435637Z",
     "shell.execute_reply": "2024-05-22T05:47:35.434451Z"
    },
    "papermill": {
     "duration": 0.074487,
     "end_time": "2024-05-22T05:47:35.438412",
     "exception": false,
     "start_time": "2024-05-22T05:47:35.363925",
     "status": "completed"
    },
    "tags": []
   },
   "outputs": [
    {
     "name": "stdout",
     "output_type": "stream",
     "text": [
      "briah.\n",
      "myazlieenmilynn.\n",
      "sabellascengrlot.\n",
      "shelydanliths.\n",
      "girenleyegssandalissathi.\n",
      "shqayce.\n",
      "shub.\n",
      "roxhiriestin.\n",
      "joxcelshnnicolfsubfatvenshyldur.\n",
      "els.\n",
      "gianghstlyanshinshalyanshupubialventen.\n",
      "try.\n",
      "bronaoellafrdin.\n",
      "brookobh.\n",
      "gicibroretty.\n",
      "brhun.\n",
      "bluisaqiifelvondwriah.\n",
      "xtharshzthed.\n",
      "silvissif.\n",
      "fadvissivliviennakelandiyaxabiguhmi.\n"
     ]
    }
   ],
   "source": [
    "g = torch.Generator().manual_seed(2147483647 + 10)\n",
    "\n",
    "for _ in range(20):\n",
    "    \n",
    "    out = []\n",
    "    context = [0]*block_size\n",
    "    while True:\n",
    "        # forward pass the neural net\n",
    "        emb = C[torch.tensor([context])]\n",
    "        h = torch.tanh(emb.view(1, -1) @ W1) # + b1)\n",
    "        logits = h @ W2 + b2\n",
    "        probs = F.softmax(logits, dim = 1)\n",
    "        # sample from the distribution\n",
    "        ix = torch.multinomial(probs, num_samples = 1, generator = g).item()\n",
    "        # shift the context window and track the samples\n",
    "        context = context[1:] + [ix]\n",
    "        out.append(ix)\n",
    "        # if we sample the special '.' token, break \n",
    "        if ix == 0:\n",
    "            break\n",
    "        \n",
    "    print(''.join(itos[i] for i in out)) # decodeand print the generated word"
   ]
  },
  {
   "cell_type": "code",
   "execution_count": 18,
   "id": "28da6d00",
   "metadata": {
    "execution": {
     "iopub.execute_input": "2024-05-22T05:47:35.462098Z",
     "iopub.status.busy": "2024-05-22T05:47:35.461710Z",
     "iopub.status.idle": "2024-05-22T05:47:35.466524Z",
     "shell.execute_reply": "2024-05-22T05:47:35.465560Z"
    },
    "papermill": {
     "duration": 0.019172,
     "end_time": "2024-05-22T05:47:35.468748",
     "exception": false,
     "start_time": "2024-05-22T05:47:35.449576",
     "status": "completed"
    },
    "tags": []
   },
   "outputs": [],
   "source": [
    "# SUMMARY + PYTORCHIFYING"
   ]
  },
  {
   "cell_type": "markdown",
   "id": "6da752a4",
   "metadata": {
    "papermill": {
     "duration": 0.010464,
     "end_time": "2024-05-22T05:47:35.490079",
     "exception": false,
     "start_time": "2024-05-22T05:47:35.479615",
     "status": "completed"
    },
    "tags": []
   },
   "source": [
    "## Linear"
   ]
  },
  {
   "cell_type": "code",
   "execution_count": 19,
   "id": "49cd4ef8",
   "metadata": {
    "execution": {
     "iopub.execute_input": "2024-05-22T05:47:35.513591Z",
     "iopub.status.busy": "2024-05-22T05:47:35.513216Z",
     "iopub.status.idle": "2024-05-22T05:47:35.521182Z",
     "shell.execute_reply": "2024-05-22T05:47:35.519815Z"
    },
    "papermill": {
     "duration": 0.022296,
     "end_time": "2024-05-22T05:47:35.523288",
     "exception": false,
     "start_time": "2024-05-22T05:47:35.500992",
     "status": "completed"
    },
    "tags": []
   },
   "outputs": [],
   "source": [
    "class Linear:\n",
    "    def __init__(self, fan_in, fan_out, bias = True):\n",
    "        g = torch.Generator()\n",
    "        self.W = torch.randn((fan_out, fan_in), generator = g)/(fan_in**0.5)\n",
    "        self.b = torch.randn(fan_out, generator = g) if bias else None\n",
    "    \n",
    "    def __call__(self, X):\n",
    "        self.out = self.W @ X\n",
    "        if self.b is not None:\n",
    "            self.out += self.b\n",
    "        return self.out\n",
    "    \n",
    "    def parameters(self):\n",
    "        return [self.W] + ([] if self.b is None else [self.b])"
   ]
  },
  {
   "cell_type": "code",
   "execution_count": 20,
   "id": "d70d03cc",
   "metadata": {
    "execution": {
     "iopub.execute_input": "2024-05-22T05:47:35.547278Z",
     "iopub.status.busy": "2024-05-22T05:47:35.546874Z",
     "iopub.status.idle": "2024-05-22T05:47:35.555096Z",
     "shell.execute_reply": "2024-05-22T05:47:35.553988Z"
    },
    "papermill": {
     "duration": 0.023051,
     "end_time": "2024-05-22T05:47:35.557332",
     "exception": false,
     "start_time": "2024-05-22T05:47:35.534281",
     "status": "completed"
    },
    "tags": []
   },
   "outputs": [
    {
     "data": {
      "text/plain": [
       "[tensor([[ 0.5642,  0.6679, -0.2198],\n",
       "         [ 0.7231, -0.1772, -0.8490],\n",
       "         [-0.6106,  1.1113, -0.3092],\n",
       "         [-0.9023, -0.1175,  0.0178]]),\n",
       " tensor([ 1.7897,  0.5161, -1.5476, -2.6149])]"
      ]
     },
     "execution_count": 20,
     "metadata": {},
     "output_type": "execute_result"
    }
   ],
   "source": [
    "layer = Linear(3, 4)\n",
    "layer.parameters()"
   ]
  },
  {
   "cell_type": "code",
   "execution_count": 21,
   "id": "f5d46c54",
   "metadata": {
    "execution": {
     "iopub.execute_input": "2024-05-22T05:47:35.581458Z",
     "iopub.status.busy": "2024-05-22T05:47:35.581057Z",
     "iopub.status.idle": "2024-05-22T05:47:35.591197Z",
     "shell.execute_reply": "2024-05-22T05:47:35.590139Z"
    },
    "papermill": {
     "duration": 0.024764,
     "end_time": "2024-05-22T05:47:35.593367",
     "exception": false,
     "start_time": "2024-05-22T05:47:35.568603",
     "status": "completed"
    },
    "tags": []
   },
   "outputs": [],
   "source": [
    "class BatchNorm1d:\n",
    "    def __init__(self, dim, eps = 1e-5, momentum=0.1):\n",
    "        self.eps = eps\n",
    "        self.momentum = momentum\n",
    "        self.training = True\n",
    "        # parameters (trained with backprop)\n",
    "        self.gamma = torch.ones(dim) # bngain\n",
    "        self.beta = torch.zeros(dim) # bnbias\n",
    "        # buffers (trined with a running 'momentum update')\n",
    "        self.running_mean = torch.zeros(dim)\n",
    "        self.running_var = torch.ones(dim)\n",
    "    \n",
    "    def __call__(self, x):\n",
    "        # here x, is h_preactivation\n",
    "        # calulate the forward pass\n",
    "        if self.training:\n",
    "            xmean = x.mean(0, keepdims = True) # batch mean\n",
    "            xvar = x.var(0, keepdims = True) # batch var\n",
    "        else:\n",
    "            xmean = self.running_mean\n",
    "            xvar = self.running_var\n",
    "        xhat = (x - xmean)/torch.sqrt(xvar + self.eps)\n",
    "        self.out = self.gamma * xhat + self.beta\n",
    "        \n",
    "        # update the buffers\n",
    "        if self.training:\n",
    "            with torch.no_grad():\n",
    "                self.running_mean = (1- self.momentum) * self.running_mean + self.momentum * xmean\n",
    "                self.running_var = (1-self.momentum) * self.running_var + self.momentum* xvar\n",
    "        \n",
    "        return self.out\n",
    "    \n",
    "    def parameters(self):\n",
    "        return [self.gamma, self.beta]\n",
    "    \n",
    "class Tanh:\n",
    "    def __call__(self, x):\n",
    "        self.out = torch.tanh(x)\n",
    "        return self.out\n",
    "    \n",
    "    def parameters(self):\n",
    "        return []"
   ]
  },
  {
   "cell_type": "code",
   "execution_count": 22,
   "id": "b04ced8e",
   "metadata": {
    "execution": {
     "iopub.execute_input": "2024-05-22T05:47:35.617397Z",
     "iopub.status.busy": "2024-05-22T05:47:35.616469Z",
     "iopub.status.idle": "2024-05-22T05:47:35.630828Z",
     "shell.execute_reply": "2024-05-22T05:47:35.629835Z"
    },
    "papermill": {
     "duration": 0.028454,
     "end_time": "2024-05-22T05:47:35.632960",
     "exception": false,
     "start_time": "2024-05-22T05:47:35.604506",
     "status": "completed"
    },
    "tags": []
   },
   "outputs": [
    {
     "data": {
      "text/plain": [
       "tensor([[ 0.4845,  0.8802, -0.9850,  ...,  1.4902, -1.0554, -0.8905],\n",
       "        [-0.0621,  0.6297,  0.8404,  ..., -0.4603, -0.4871,  0.6373],\n",
       "        [ 2.0732,  0.7235, -0.8648,  ..., -0.5073, -0.1223, -1.1811],\n",
       "        ...,\n",
       "        [-1.7272,  0.2821, -0.9750,  ...,  0.6151,  0.6059,  0.7223],\n",
       "        [-0.2366,  1.0119, -0.1695,  ...,  1.3968, -0.0196, -0.1863],\n",
       "        [ 0.7236,  0.9421,  0.8139,  ..., -1.8993,  1.4639, -0.3141]])"
      ]
     },
     "execution_count": 22,
     "metadata": {},
     "output_type": "execute_result"
    }
   ],
   "source": [
    "# With Learnable Parameters\n",
    "m = BatchNorm1d(100)\n",
    "input = torch.randn(20, 100)\n",
    "output = m(input)\n",
    "output"
   ]
  },
  {
   "cell_type": "markdown",
   "id": "99d40356",
   "metadata": {
    "papermill": {
     "duration": 0.010839,
     "end_time": "2024-05-22T05:47:35.654864",
     "exception": false,
     "start_time": "2024-05-22T05:47:35.644025",
     "status": "completed"
    },
    "tags": []
   },
   "source": [
    "## Building MLP"
   ]
  },
  {
   "cell_type": "code",
   "execution_count": 23,
   "id": "9cc639a6",
   "metadata": {
    "execution": {
     "iopub.execute_input": "2024-05-22T05:47:35.678542Z",
     "iopub.status.busy": "2024-05-22T05:47:35.678159Z",
     "iopub.status.idle": "2024-05-22T05:47:35.686382Z",
     "shell.execute_reply": "2024-05-22T05:47:35.685356Z"
    },
    "papermill": {
     "duration": 0.02263,
     "end_time": "2024-05-22T05:47:35.688607",
     "exception": false,
     "start_time": "2024-05-22T05:47:35.665977",
     "status": "completed"
    },
    "tags": []
   },
   "outputs": [],
   "source": [
    "n_embd = 10\n",
    "n_hidden = 100\n",
    "g = torch.Generator().manual_seed(2147483647)\n",
    "\n",
    "C = torch.randn((vocab_size, n_embd), generator = g)\n",
    "layers = [\n",
    "    Linear(n_embd * block_size, n_hidden, bias = False), BatchNorm1d(n_hidden), Tanh(),\n",
    "    Linear(n_hidden, n_hidden, bias = False), BatchNorm1d(n_hidden), Tanh(),\n",
    "    Linear(n_hidden, n_hidden, bias = False), BatchNorm1d(n_hidden), Tanh(),\n",
    "    Linear(n_hidden, n_hidden, bias = False), BatchNorm1d(n_hidden), Tanh(),\n",
    "    Linear(n_hidden, n_hidden, bias = False), BatchNorm1d(n_hidden), Tanh(),\n",
    "    Linear(n_hidden, vocab_size, bias = False), BatchNorm1d(vocab_size),\n",
    "]"
   ]
  },
  {
   "cell_type": "code",
   "execution_count": 24,
   "id": "92969bf5",
   "metadata": {
    "execution": {
     "iopub.execute_input": "2024-05-22T05:47:35.712712Z",
     "iopub.status.busy": "2024-05-22T05:47:35.712333Z",
     "iopub.status.idle": "2024-05-22T05:47:35.718181Z",
     "shell.execute_reply": "2024-05-22T05:47:35.717162Z"
    },
    "papermill": {
     "duration": 0.020555,
     "end_time": "2024-05-22T05:47:35.720275",
     "exception": false,
     "start_time": "2024-05-22T05:47:35.699720",
     "status": "completed"
    },
    "tags": []
   },
   "outputs": [],
   "source": [
    "with torch.no_grad():\n",
    "    layers[-1].gamma *= 0.1\n",
    "    for layer in layers[:-1]:\n",
    "        if isinstance(layer, Linear):\n",
    "            layer.W *= 5/3"
   ]
  },
  {
   "cell_type": "code",
   "execution_count": 25,
   "id": "c63f699e",
   "metadata": {
    "execution": {
     "iopub.execute_input": "2024-05-22T05:47:35.744922Z",
     "iopub.status.busy": "2024-05-22T05:47:35.744110Z",
     "iopub.status.idle": "2024-05-22T05:47:35.750237Z",
     "shell.execute_reply": "2024-05-22T05:47:35.749069Z"
    },
    "papermill": {
     "duration": 0.020726,
     "end_time": "2024-05-22T05:47:35.752477",
     "exception": false,
     "start_time": "2024-05-22T05:47:35.731751",
     "status": "completed"
    },
    "tags": []
   },
   "outputs": [
    {
     "name": "stdout",
     "output_type": "stream",
     "text": [
      "47024\n"
     ]
    }
   ],
   "source": [
    "parameters = [C] + [p for layer in layers for p in layer.parameters()]\n",
    "print(sum(p.nelement() for p in parameters))\n",
    "for p in parameters:\n",
    "    p.requires_grad = True"
   ]
  },
  {
   "cell_type": "code",
   "execution_count": null,
   "id": "3728cc32",
   "metadata": {
    "papermill": {
     "duration": 0.012007,
     "end_time": "2024-05-22T05:47:35.775576",
     "exception": false,
     "start_time": "2024-05-22T05:47:35.763569",
     "status": "completed"
    },
    "tags": []
   },
   "outputs": [],
   "source": []
  }
 ],
 "metadata": {
  "kaggle": {
   "accelerator": "none",
   "dataSources": [],
   "dockerImageVersionId": 30698,
   "isGpuEnabled": false,
   "isInternetEnabled": true,
   "language": "python",
   "sourceType": "notebook"
  },
  "kernelspec": {
   "display_name": "Python 3",
   "language": "python",
   "name": "python3"
  },
  "language_info": {
   "codemirror_mode": {
    "name": "ipython",
    "version": 3
   },
   "file_extension": ".py",
   "mimetype": "text/x-python",
   "name": "python",
   "nbconvert_exporter": "python",
   "pygments_lexer": "ipython3",
   "version": "3.10.13"
  },
  "papermill": {
   "default_parameters": {},
   "duration": 197.403064,
   "end_time": "2024-05-22T05:47:36.609088",
   "environment_variables": {},
   "exception": null,
   "input_path": "__notebook__.ipynb",
   "output_path": "__notebook__.ipynb",
   "parameters": {},
   "start_time": "2024-05-22T05:44:19.206024",
   "version": "2.5.0"
  }
 },
 "nbformat": 4,
 "nbformat_minor": 5
}
