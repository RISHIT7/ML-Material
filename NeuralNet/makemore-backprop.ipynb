{
 "cells": [
  {
   "cell_type": "markdown",
   "id": "61242b2b",
   "metadata": {
    "papermill": {
     "duration": 0.009911,
     "end_time": "2024-05-23T06:26:45.911979",
     "exception": false,
     "start_time": "2024-05-23T06:26:45.902068",
     "status": "completed"
    },
    "tags": []
   },
   "source": [
    "# makemore: becoming a backprop ninja"
   ]
  },
  {
   "cell_type": "code",
   "execution_count": 1,
   "id": "f8ab0e8c",
   "metadata": {
    "execution": {
     "iopub.execute_input": "2024-05-23T06:26:45.929701Z",
     "iopub.status.busy": "2024-05-23T06:26:45.929224Z",
     "iopub.status.idle": "2024-05-23T06:26:49.492685Z",
     "shell.execute_reply": "2024-05-23T06:26:49.491515Z"
    },
    "papermill": {
     "duration": 3.575504,
     "end_time": "2024-05-23T06:26:49.495431",
     "exception": false,
     "start_time": "2024-05-23T06:26:45.919927",
     "status": "completed"
    },
    "tags": []
   },
   "outputs": [],
   "source": [
    "import torch\n",
    "import torch.nn.functional as F\n",
    "import matplotlib.pyplot as plt # for making figures\n",
    "%matplotlib inline"
   ]
  },
  {
   "cell_type": "code",
   "execution_count": 2,
   "id": "b8e29883",
   "metadata": {
    "execution": {
     "iopub.execute_input": "2024-05-23T06:26:49.513346Z",
     "iopub.status.busy": "2024-05-23T06:26:49.512849Z",
     "iopub.status.idle": "2024-05-23T06:26:50.840938Z",
     "shell.execute_reply": "2024-05-23T06:26:50.839401Z"
    },
    "papermill": {
     "duration": 1.340102,
     "end_time": "2024-05-23T06:26:50.843763",
     "exception": false,
     "start_time": "2024-05-23T06:26:49.503661",
     "status": "completed"
    },
    "tags": []
   },
   "outputs": [
    {
     "name": "stdout",
     "output_type": "stream",
     "text": [
      "--2024-05-23 06:26:50--  https://raw.githubusercontent.com/karpathy/makemore/master/names.txt\r\n",
      "Resolving raw.githubusercontent.com (raw.githubusercontent.com)... 185.199.108.133, 185.199.109.133, 185.199.110.133, ...\r\n",
      "Connecting to raw.githubusercontent.com (raw.githubusercontent.com)|185.199.108.133|:443... connected.\r\n",
      "HTTP request sent, awaiting response... 200 OK\r\n",
      "Length: 228145 (223K) [text/plain]\r\n",
      "Saving to: 'names.txt'\r\n",
      "\r\n",
      "names.txt           100%[===================>] 222.80K  --.-KB/s    in 0.04s   \r\n",
      "\r\n",
      "2024-05-23 06:26:50 (6.12 MB/s) - 'names.txt' saved [228145/228145]\r\n",
      "\r\n"
     ]
    }
   ],
   "source": [
    "# download the names.txt file from github\n",
    "!wget https://raw.githubusercontent.com/karpathy/makemore/master/names.txt"
   ]
  },
  {
   "cell_type": "code",
   "execution_count": 3,
   "id": "bb9d18a7",
   "metadata": {
    "execution": {
     "iopub.execute_input": "2024-05-23T06:26:50.863711Z",
     "iopub.status.busy": "2024-05-23T06:26:50.862757Z",
     "iopub.status.idle": "2024-05-23T06:26:50.879934Z",
     "shell.execute_reply": "2024-05-23T06:26:50.878334Z"
    },
    "papermill": {
     "duration": 0.030523,
     "end_time": "2024-05-23T06:26:50.882698",
     "exception": false,
     "start_time": "2024-05-23T06:26:50.852175",
     "status": "completed"
    },
    "tags": []
   },
   "outputs": [
    {
     "name": "stdout",
     "output_type": "stream",
     "text": [
      "32033\n",
      "15\n",
      "['emma', 'olivia', 'ava', 'isabella', 'sophia', 'charlotte', 'mia', 'amelia']\n"
     ]
    }
   ],
   "source": [
    "# read in all the words\n",
    "words = open('names.txt', 'r').read().splitlines()\n",
    "print(len(words))\n",
    "print(max(len(w) for w in words))\n",
    "print(words[:8])"
   ]
  },
  {
   "cell_type": "code",
   "execution_count": 4,
   "id": "c4a3667d",
   "metadata": {
    "execution": {
     "iopub.execute_input": "2024-05-23T06:26:50.901582Z",
     "iopub.status.busy": "2024-05-23T06:26:50.901146Z",
     "iopub.status.idle": "2024-05-23T06:26:50.913398Z",
     "shell.execute_reply": "2024-05-23T06:26:50.912207Z"
    },
    "papermill": {
     "duration": 0.025019,
     "end_time": "2024-05-23T06:26:50.916190",
     "exception": false,
     "start_time": "2024-05-23T06:26:50.891171",
     "status": "completed"
    },
    "tags": []
   },
   "outputs": [
    {
     "name": "stdout",
     "output_type": "stream",
     "text": [
      "{1: 'a', 2: 'b', 3: 'c', 4: 'd', 5: 'e', 6: 'f', 7: 'g', 8: 'h', 9: 'i', 10: 'j', 11: 'k', 12: 'l', 13: 'm', 14: 'n', 15: 'o', 16: 'p', 17: 'q', 18: 'r', 19: 's', 20: 't', 21: 'u', 22: 'v', 23: 'w', 24: 'x', 25: 'y', 26: 'z', 0: '.'}\n",
      "27\n"
     ]
    }
   ],
   "source": [
    "# build the vocabulary of characters and mappings to/from integers\n",
    "chars = sorted(list(set(''.join(words))))\n",
    "stoi = {s:i+1 for i,s in enumerate(chars)}\n",
    "stoi['.'] = 0\n",
    "itos = {i:s for s,i in stoi.items()}\n",
    "vocab_size = len(itos)\n",
    "print(itos)\n",
    "print(vocab_size)"
   ]
  },
  {
   "cell_type": "code",
   "execution_count": 5,
   "id": "6c3e76d6",
   "metadata": {
    "execution": {
     "iopub.execute_input": "2024-05-23T06:26:50.936480Z",
     "iopub.status.busy": "2024-05-23T06:26:50.935554Z",
     "iopub.status.idle": "2024-05-23T06:26:52.098052Z",
     "shell.execute_reply": "2024-05-23T06:26:52.096568Z"
    },
    "papermill": {
     "duration": 1.175826,
     "end_time": "2024-05-23T06:26:52.101066",
     "exception": false,
     "start_time": "2024-05-23T06:26:50.925240",
     "status": "completed"
    },
    "tags": []
   },
   "outputs": [
    {
     "name": "stdout",
     "output_type": "stream",
     "text": [
      "torch.Size([182625, 3]) torch.Size([182625])\n",
      "torch.Size([22655, 3]) torch.Size([22655])\n",
      "torch.Size([22866, 3]) torch.Size([22866])\n"
     ]
    }
   ],
   "source": [
    "# build the dataset\n",
    "block_size = 3 # context length: how many characters do we take to predict the next one?\n",
    "\n",
    "def build_dataset(words):  \n",
    "  X, Y = [], []\n",
    "  \n",
    "  for w in words:\n",
    "    context = [0] * block_size\n",
    "    for ch in w + '.':\n",
    "      ix = stoi[ch]\n",
    "      X.append(context)\n",
    "      Y.append(ix)\n",
    "      context = context[1:] + [ix] # crop and append\n",
    "\n",
    "  X = torch.tensor(X)\n",
    "  Y = torch.tensor(Y)\n",
    "  print(X.shape, Y.shape)\n",
    "  return X, Y\n",
    "\n",
    "import random\n",
    "random.seed(42)\n",
    "random.shuffle(words)\n",
    "n1 = int(0.8*len(words))\n",
    "n2 = int(0.9*len(words))\n",
    "\n",
    "Xtr,  Ytr  = build_dataset(words[:n1])     # 80%\n",
    "Xdev, Ydev = build_dataset(words[n1:n2])   # 10%\n",
    "Xte,  Yte  = build_dataset(words[n2:])     # 10%"
   ]
  },
  {
   "cell_type": "code",
   "execution_count": 6,
   "id": "b8d4a00d",
   "metadata": {
    "execution": {
     "iopub.execute_input": "2024-05-23T06:26:52.120285Z",
     "iopub.status.busy": "2024-05-23T06:26:52.119844Z",
     "iopub.status.idle": "2024-05-23T06:26:52.126983Z",
     "shell.execute_reply": "2024-05-23T06:26:52.125771Z"
    },
    "papermill": {
     "duration": 0.019728,
     "end_time": "2024-05-23T06:26:52.129576",
     "exception": false,
     "start_time": "2024-05-23T06:26:52.109848",
     "status": "completed"
    },
    "tags": []
   },
   "outputs": [],
   "source": [
    "# utility function we will use later when comparing manual gradients to PyTorch gradients\n",
    "def cmp(s, dt, t):\n",
    "    ex = torch.all(dt == t.grad).item()\n",
    "    app = torch.allclose(dt, t.grad)\n",
    "    maxdiff = (dt - t.grad).abs().max().item()\n",
    "    print(f'{s:15s} | exact: {str(app):5s} | approximate: {str(app):5s} | maxdiff: {maxdiff}')"
   ]
  },
  {
   "cell_type": "code",
   "execution_count": 7,
   "id": "6833dd88",
   "metadata": {
    "execution": {
     "iopub.execute_input": "2024-05-23T06:26:52.148631Z",
     "iopub.status.busy": "2024-05-23T06:26:52.148190Z",
     "iopub.status.idle": "2024-05-23T06:26:52.207771Z",
     "shell.execute_reply": "2024-05-23T06:26:52.206177Z"
    },
    "papermill": {
     "duration": 0.072165,
     "end_time": "2024-05-23T06:26:52.210376",
     "exception": false,
     "start_time": "2024-05-23T06:26:52.138211",
     "status": "completed"
    },
    "tags": []
   },
   "outputs": [
    {
     "name": "stdout",
     "output_type": "stream",
     "text": [
      "4137\n"
     ]
    }
   ],
   "source": [
    "n_embd = 10 # the dimensionality of the character embedding vectors\n",
    "n_hidden = 64 # the number of neurons in the hidden layer of the MLP\n",
    "\n",
    "g = torch.Generator().manual_seed(2147483647) # for reproducibility\n",
    "C  = torch.randn((vocab_size, n_embd),            generator=g)\n",
    "# Layer 1\n",
    "W1 = torch.randn((n_embd * block_size, n_hidden), generator=g) * (5/3)/((n_embd * block_size)**0.5)\n",
    "b1 = torch.randn(n_hidden,                        generator=g) * 0.1 # using b1 just for fun, it's useless because of BN\n",
    "# Layer 2\n",
    "W2 = torch.randn((n_hidden, vocab_size),          generator=g) * 0.1\n",
    "b2 = torch.randn(vocab_size,                      generator=g) * 0.1\n",
    "# BatchNorm parameters\n",
    "bngain = torch.randn((1, n_hidden))*0.1 + 1.0\n",
    "bnbias = torch.randn((1, n_hidden))*0.1\n",
    "\n",
    "# Note: I am initializating many of these parameters in non-standard ways\n",
    "# because sometimes initializating with e.g. all zeros could mask an incorrect\n",
    "# implementation of the backward pass.\n",
    "\n",
    "parameters = [C, W1, b1, W2, b2, bngain, bnbias]\n",
    "print(sum(p.nelement() for p in parameters)) # number of parameters in total\n",
    "for p in parameters:\n",
    "  p.requires_grad = True"
   ]
  },
  {
   "cell_type": "code",
   "execution_count": 8,
   "id": "a5d34516",
   "metadata": {
    "execution": {
     "iopub.execute_input": "2024-05-23T06:26:52.230347Z",
     "iopub.status.busy": "2024-05-23T06:26:52.229321Z",
     "iopub.status.idle": "2024-05-23T06:26:52.252321Z",
     "shell.execute_reply": "2024-05-23T06:26:52.251262Z"
    },
    "papermill": {
     "duration": 0.035933,
     "end_time": "2024-05-23T06:26:52.255138",
     "exception": false,
     "start_time": "2024-05-23T06:26:52.219205",
     "status": "completed"
    },
    "tags": []
   },
   "outputs": [],
   "source": [
    "batch_size = 32\n",
    "n = batch_size # a shorter variable also, for convenience\n",
    "# construct a minibatch\n",
    "ix = torch.randint(0, Xtr.shape[0], (batch_size,), generator=g)\n",
    "Xb, Yb = Xtr[ix], Ytr[ix] # batch X,Y"
   ]
  },
  {
   "cell_type": "code",
   "execution_count": 9,
   "id": "3ab04671",
   "metadata": {
    "execution": {
     "iopub.execute_input": "2024-05-23T06:26:52.275575Z",
     "iopub.status.busy": "2024-05-23T06:26:52.275134Z",
     "iopub.status.idle": "2024-05-23T06:26:52.401319Z",
     "shell.execute_reply": "2024-05-23T06:26:52.399960Z"
    },
    "papermill": {
     "duration": 0.140554,
     "end_time": "2024-05-23T06:26:52.404430",
     "exception": false,
     "start_time": "2024-05-23T06:26:52.263876",
     "status": "completed"
    },
    "tags": []
   },
   "outputs": [
    {
     "data": {
      "text/plain": [
       "tensor(3.3133, grad_fn=<NegBackward0>)"
      ]
     },
     "execution_count": 9,
     "metadata": {},
     "output_type": "execute_result"
    }
   ],
   "source": [
    "# forward pass, \"chunkated\" into smaller steps that are possible to backward one at a time\n",
    "\n",
    "emb = C[Xb] # embed the characters into vectors\n",
    "embcat = emb.view(emb.shape[0], -1) # concatenate the vectors\n",
    "# Linear layer 1\n",
    "hprebn = embcat @ W1 + b1 # hidden layer pre-activation\n",
    "# BatchNorm layer\n",
    "bnmeani = 1/n*hprebn.sum(0, keepdim=True)\n",
    "bndiff = hprebn - bnmeani\n",
    "bndiff2 = bndiff**2\n",
    "bnvar = 1/(n-1)*(bndiff2).sum(0, keepdim=True) # note: Bessel's correction (dividing by n-1, not n)\n",
    "bnvar_inv = (bnvar + 1e-5)**-0.5\n",
    "bnraw = bndiff * bnvar_inv\n",
    "hpreact = bngain * bnraw + bnbias\n",
    "# Non-linearity\n",
    "h = torch.tanh(hpreact) # hidden layer\n",
    "# Linear layer 2\n",
    "logits = h @ W2 + b2 # output layer\n",
    "# cross entropy loss (same as F.cross_entropy(logits, Yb))\n",
    "logit_maxes = logits.max(1, keepdim=True).values\n",
    "norm_logits = logits - logit_maxes # subtract max for numerical stability\n",
    "counts = norm_logits.exp()\n",
    "counts_sum = counts.sum(1, keepdims=True)\n",
    "counts_sum_inv = counts_sum**-1 # if I use (1.0 / counts_sum) instead then I can't get backprop to be bit exact...\n",
    "probs = counts * counts_sum_inv\n",
    "logprobs = probs.log()\n",
    "loss = -logprobs[range(n), Yb].mean()\n",
    "\n",
    "# PyTorch backward pass\n",
    "for p in parameters:\n",
    "  p.grad = None\n",
    "for t in [logprobs, probs, counts, counts_sum, counts_sum_inv, # afaik there is no cleaner way\n",
    "          norm_logits, logit_maxes, logits, h, hpreact, bnraw,\n",
    "         bnvar_inv, bnvar, bndiff2, bndiff, hprebn, bnmeani,\n",
    "         embcat, emb]:\n",
    "  t.retain_grad()\n",
    "loss.backward()\n",
    "loss"
   ]
  },
  {
   "cell_type": "markdown",
   "id": "fae48a81",
   "metadata": {
    "papermill": {
     "duration": 0.009127,
     "end_time": "2024-05-23T06:26:52.422550",
     "exception": false,
     "start_time": "2024-05-23T06:26:52.413423",
     "status": "completed"
    },
    "tags": []
   },
   "source": [
    "C -> (vocab_size, n_embd) \\\n",
    "emb -> (batch_size, block_size, n_embd) \\\n",
    "Xb -> (batch_size, block_size)"
   ]
  },
  {
   "cell_type": "code",
   "execution_count": 10,
   "id": "cb01931d",
   "metadata": {
    "execution": {
     "iopub.execute_input": "2024-05-23T06:26:52.442693Z",
     "iopub.status.busy": "2024-05-23T06:26:52.442265Z",
     "iopub.status.idle": "2024-05-23T06:26:52.492315Z",
     "shell.execute_reply": "2024-05-23T06:26:52.491014Z"
    },
    "papermill": {
     "duration": 0.063885,
     "end_time": "2024-05-23T06:26:52.495534",
     "exception": false,
     "start_time": "2024-05-23T06:26:52.431649",
     "status": "completed"
    },
    "tags": []
   },
   "outputs": [
    {
     "name": "stdout",
     "output_type": "stream",
     "text": [
      "logprobs        | exact: True  | approximate: True  | maxdiff: 0.0\n",
      "probs           | exact: True  | approximate: True  | maxdiff: 0.0\n",
      "counts_sum_inv  | exact: True  | approximate: True  | maxdiff: 0.0\n",
      "counts_sum      | exact: True  | approximate: True  | maxdiff: 0.0\n",
      "counts          | exact: True  | approximate: True  | maxdiff: 0.0\n",
      "norm_logits     | exact: True  | approximate: True  | maxdiff: 0.0\n",
      "logit_maxes     | exact: True  | approximate: True  | maxdiff: 0.0\n",
      "logits          | exact: True  | approximate: True  | maxdiff: 0.0\n",
      "h               | exact: True  | approximate: True  | maxdiff: 0.0\n",
      "W2              | exact: True  | approximate: True  | maxdiff: 0.0\n",
      "b2              | exact: True  | approximate: True  | maxdiff: 0.0\n",
      "hpreact         | exact: True  | approximate: True  | maxdiff: 4.656612873077393e-10\n",
      "bngain          | exact: True  | approximate: True  | maxdiff: 1.862645149230957e-09\n",
      "bnbias          | exact: True  | approximate: True  | maxdiff: 3.725290298461914e-09\n",
      "bnraw           | exact: True  | approximate: True  | maxdiff: 9.313225746154785e-10\n",
      "bnvar_inv       | exact: True  | approximate: True  | maxdiff: 7.450580596923828e-09\n",
      "bnvar           | exact: True  | approximate: True  | maxdiff: 4.656612873077393e-10\n",
      "bndiff2         | exact: True  | approximate: True  | maxdiff: 1.4551915228366852e-11\n",
      "bndiff          | exact: True  | approximate: True  | maxdiff: 4.656612873077393e-10\n",
      "bnmeani         | exact: True  | approximate: True  | maxdiff: 2.7939677238464355e-09\n",
      "hprebn          | exact: True  | approximate: True  | maxdiff: 5.820766091346741e-10\n",
      "embcat          | exact: True  | approximate: True  | maxdiff: 1.3969838619232178e-09\n",
      "W1              | exact: True  | approximate: True  | maxdiff: 5.587935447692871e-09\n",
      "b1              | exact: True  | approximate: True  | maxdiff: 5.587935447692871e-09\n",
      "emb             | exact: True  | approximate: True  | maxdiff: 1.3969838619232178e-09\n",
      "C               | exact: True  | approximate: True  | maxdiff: 7.450580596923828e-09\n"
     ]
    }
   ],
   "source": [
    "# Exercise 1: backprop through the whole thing manually, \n",
    "# backpropagating through exactly all of the variables \n",
    "# as they are defined in the forward pass above, one by one\n",
    "\n",
    "dlogprobs = torch.zeros_like(logprobs)\n",
    "dlogprobs[range(n), Yb] = -1.0/n\n",
    "\n",
    "dprobs = dlogprobs/probs\n",
    "\n",
    "dcounts_sum_inv = (counts * dprobs).sum(axis = 1, keepdims = True) # due to the multiplication we have the coefficient, due to the replication we add\n",
    "\n",
    "dcounts = counts_sum_inv * dprobs # first contribution\n",
    "\n",
    "dcounts_sum = (-1/counts_sum**2) * dcounts_sum_inv\n",
    "\n",
    "dcounts += torch.ones_like(counts)*dcounts_sum # second contribution\n",
    "\n",
    "dnorm_logits = counts * dcounts\n",
    "\n",
    "dlogits = dnorm_logits.clone() # first contribution\n",
    "\n",
    "dlogit_maxes = -dnorm_logits.sum(1, keepdims = True)\n",
    "\n",
    "\n",
    "\n",
    "# since we are just using logit maxes for numerical stability, the grdients should be 0, or atleast close to 0\n",
    "# that is exactly what we see, here\n",
    "\n",
    "# also, since logits maxes is a max opertaion the back prop should be 1 for the max indices, and 0 for the rest, this is done bas belows\n",
    "dlogits += F.one_hot(logits.max(1).indices, num_classes = logits.shape[1]) * dlogit_maxes\n",
    "\n",
    "# for further calculation\n",
    "# figure that w = a @ b + c\n",
    "# self.grad = out.grad @ b.T\n",
    "# self.grad = a.T @ out.grad\n",
    "# self.grad = out.grad.sum(axis = 0)\n",
    "dh = dlogits @ W2.T # figure this out yourself, on pen and paper :)\n",
    "dW2 = h.T @ dlogits\n",
    "db2 = dlogits.sum(axis = 0)\n",
    "\n",
    "dhpreact = (torch.tensor([1.0])-torch.pow(h, 2))*dh\n",
    "\n",
    "# batch norm params\n",
    "dbngain = (bnraw * dhpreact).sum(0, keepdims = True)\n",
    "dbnraw = (bngain * dhpreact)\n",
    "dbnbias = dhpreact.sum(0, keepdims = True)\n",
    "\n",
    "# followed\n",
    "dbndiff = bnvar_inv * dbnraw # first contribution\n",
    "dbnvar_inv = (bndiff * dbnraw).sum(0, keepdims = True)\n",
    "dbnvar = -0.5*(bnvar + 1e-5)**(-1.5) * dbnvar_inv\n",
    "dbndiff2 = 1/(n-1) * torch.ones_like(bndiff2) * dbnvar\n",
    "dbndiff += 2*bndiff*dbndiff2 # second contribution\n",
    "\n",
    "# followed\n",
    "dbnmeani = -1*(dbndiff.sum(axis = 0, keepdims = True))\n",
    "dhprebn = torch.clone(dbndiff) # first contribution\n",
    "dhprebn += 1/n * torch.ones_like(hprebn) * dbnmeani\n",
    "\n",
    "# embedded layer\n",
    "# using mat mul diff rules\n",
    "dembcat = (dhprebn @ W1.T)\n",
    "dW1 = (embcat.T @ dhprebn)\n",
    "db1 = (dhprebn.sum(axis = 0, keepdims= True))\n",
    "demb = dembcat.view(*emb.shape)\n",
    "\n",
    "# the hardest as to understand\n",
    "dC = torch.zeros_like(C)\n",
    "for k in range(Xb.shape[0]):\n",
    "    for j in range(Xb.shape[1]):\n",
    "        ix = Xb[k, j]\n",
    "        dC[ix] += demb[k, j]\n",
    "\n",
    "cmp('logprobs', dlogprobs, logprobs)\n",
    "cmp('probs', dprobs, probs)\n",
    "cmp('counts_sum_inv', dcounts_sum_inv, counts_sum_inv)\n",
    "cmp('counts_sum', dcounts_sum, counts_sum)\n",
    "cmp('counts', dcounts, counts)\n",
    "cmp('norm_logits', dnorm_logits, norm_logits)\n",
    "cmp('logit_maxes', dlogit_maxes, logit_maxes)\n",
    "cmp('logits', dlogits, logits)\n",
    "cmp('h', dh, h)\n",
    "cmp('W2', dW2, W2)\n",
    "cmp('b2', db2, b2)\n",
    "cmp('hpreact', dhpreact, hpreact)\n",
    "cmp('bngain', dbngain, bngain)\n",
    "cmp('bnbias', dbnbias, bnbias)\n",
    "cmp('bnraw', dbnraw, bnraw)\n",
    "cmp('bnvar_inv', dbnvar_inv, bnvar_inv)\n",
    "cmp('bnvar', dbnvar, bnvar)\n",
    "cmp('bndiff2', dbndiff2, bndiff2)\n",
    "cmp('bndiff', dbndiff, bndiff)\n",
    "cmp('bnmeani', dbnmeani, bnmeani)\n",
    "cmp('hprebn', dhprebn, hprebn)\n",
    "cmp('embcat', dembcat, embcat)\n",
    "cmp('W1', dW1, W1)\n",
    "cmp('b1', db1, b1)\n",
    "cmp('emb', demb, emb)\n",
    "cmp('C', dC, C)"
   ]
  },
  {
   "cell_type": "code",
   "execution_count": 11,
   "id": "cd9ff322",
   "metadata": {
    "execution": {
     "iopub.execute_input": "2024-05-23T06:26:52.516300Z",
     "iopub.status.busy": "2024-05-23T06:26:52.515265Z",
     "iopub.status.idle": "2024-05-23T06:26:52.526715Z",
     "shell.execute_reply": "2024-05-23T06:26:52.525238Z"
    },
    "papermill": {
     "duration": 0.024875,
     "end_time": "2024-05-23T06:26:52.529627",
     "exception": false,
     "start_time": "2024-05-23T06:26:52.504752",
     "status": "completed"
    },
    "tags": []
   },
   "outputs": [
    {
     "name": "stdout",
     "output_type": "stream",
     "text": [
      "3.313318967819214 diff: 2.384185791015625e-07\n"
     ]
    }
   ],
   "source": [
    "# Exercise 2: backprop through cross_entropy but all in one go\n",
    "# to complete this challenge look at the mathematical expression of the loss,\n",
    "# take the derivative, simplify the expression, and just write it out\n",
    "\n",
    "# forward pass\n",
    "\n",
    "# before:\n",
    "# logit_maxes = logits.max(1, keepdim=True).values\n",
    "# norm_logits = logits - logit_maxes # subtract max for numerical stability\n",
    "# counts = norm_logits.exp()\n",
    "# counts_sum = counts.sum(1, keepdims=True)\n",
    "# counts_sum_inv = counts_sum**-1 # if I use (1.0 / counts_sum) instead then I can't get backprop to be bit exact...\n",
    "# probs = counts * counts_sum_inv\n",
    "# logprobs = probs.log()\n",
    "# loss = -logprobs[range(n), Yb].mean()\n",
    "\n",
    "# now:\n",
    "loss_fast = F.cross_entropy(logits, Yb)\n",
    "print(loss_fast.item(), 'diff:', (loss_fast - loss).item())"
   ]
  },
  {
   "cell_type": "code",
   "execution_count": 12,
   "id": "d6e5486e",
   "metadata": {
    "execution": {
     "iopub.execute_input": "2024-05-23T06:26:52.550020Z",
     "iopub.status.busy": "2024-05-23T06:26:52.549588Z",
     "iopub.status.idle": "2024-05-23T06:26:52.561420Z",
     "shell.execute_reply": "2024-05-23T06:26:52.560158Z"
    },
    "papermill": {
     "duration": 0.025075,
     "end_time": "2024-05-23T06:26:52.564005",
     "exception": false,
     "start_time": "2024-05-23T06:26:52.538930",
     "status": "completed"
    },
    "tags": []
   },
   "outputs": [
    {
     "name": "stdout",
     "output_type": "stream",
     "text": [
      "logits          | exact: True  | approximate: True  | maxdiff: 4.6566128730773926e-09\n"
     ]
    }
   ],
   "source": [
    "# backward pass\n",
    "\n",
    "# -----------------\n",
    "dlogits = F.softmax(logits, 1)\n",
    "dlogits[range(n), Yb] -= 1\n",
    "dlogits/= n\n",
    "# -----------------\n",
    "\n",
    "cmp('logits', dlogits, logits) # I can only get approximate to be true, my maxdiff is 6e-9"
   ]
  },
  {
   "cell_type": "code",
   "execution_count": 13,
   "id": "a0c5e617",
   "metadata": {
    "execution": {
     "iopub.execute_input": "2024-05-23T06:26:52.584617Z",
     "iopub.status.busy": "2024-05-23T06:26:52.584196Z",
     "iopub.status.idle": "2024-05-23T06:26:52.597227Z",
     "shell.execute_reply": "2024-05-23T06:26:52.596004Z"
    },
    "papermill": {
     "duration": 0.026663,
     "end_time": "2024-05-23T06:26:52.600077",
     "exception": false,
     "start_time": "2024-05-23T06:26:52.573414",
     "status": "completed"
    },
    "tags": []
   },
   "outputs": [
    {
     "name": "stdout",
     "output_type": "stream",
     "text": [
      "max diff: tensor(4.7684e-07, grad_fn=<MaxBackward1>)\n"
     ]
    }
   ],
   "source": [
    "# Exercise 3: backprop through batchnorm but all in one go\n",
    "# to complete this challenge look at the mathematical expression of the output of batchnorm,\n",
    "# take the derivative w.r.t. its input, simplify the expression, and just write it out\n",
    "# BatchNorm paper: https://arxiv.org/abs/1502.03167\n",
    "\n",
    "# forward pass\n",
    "\n",
    "# before:\n",
    "# bnmeani = 1/n*hprebn.sum(0, keepdim=True)\n",
    "# bndiff = hprebn - bnmeani\n",
    "# bndiff2 = bndiff**2\n",
    "# bnvar = 1/(n-1)*(bndiff2).sum(0, keepdim=True) # note: Bessel's correction (dividing by n-1, not n)\n",
    "# bnvar_inv = (bnvar + 1e-5)**-0.5\n",
    "# bnraw = bndiff * bnvar_inv\n",
    "# hpreact = bngain * bnraw + bnbias\n",
    "\n",
    "# now:\n",
    "hpreact_fast = bngain * (hprebn - hprebn.mean(0, keepdim=True)) / torch.sqrt(hprebn.var(0, keepdim=True, unbiased=True) + 1e-5) + bnbias\n",
    "print('max diff:', (hpreact_fast - hpreact).abs().max())"
   ]
  },
  {
   "cell_type": "code",
   "execution_count": 14,
   "id": "1b5a9505",
   "metadata": {
    "execution": {
     "iopub.execute_input": "2024-05-23T06:26:52.620981Z",
     "iopub.status.busy": "2024-05-23T06:26:52.620555Z",
     "iopub.status.idle": "2024-05-23T06:26:52.630061Z",
     "shell.execute_reply": "2024-05-23T06:26:52.628693Z"
    },
    "papermill": {
     "duration": 0.022841,
     "end_time": "2024-05-23T06:26:52.632688",
     "exception": false,
     "start_time": "2024-05-23T06:26:52.609847",
     "status": "completed"
    },
    "tags": []
   },
   "outputs": [
    {
     "name": "stdout",
     "output_type": "stream",
     "text": [
      "hprebn          | exact: True  | approximate: True  | maxdiff: 9.313225746154785e-10\n"
     ]
    }
   ],
   "source": [
    "# backward pass\n",
    "\n",
    "# before we had:\n",
    "# dbnraw = bngain * dhpreact\n",
    "# dbndiff = bnvar_inv * dbnraw\n",
    "# dbnvar_inv = (bndiff * dbnraw).sum(0, keepdim=True)\n",
    "# dbnvar = (-0.5*(bnvar + 1e-5)**-1.5) * dbnvar_inv\n",
    "# dbndiff2 = (1.0/(n-1))*torch.ones_like(bndiff2) * dbnvar\n",
    "# dbndiff += (2*bndiff) * dbndiff2\n",
    "# dhprebn = dbndiff.clone()\n",
    "# dbnmeani = (-dbndiff).sum(0)\n",
    "# dhprebn += 1.0/n * (torch.ones_like(hprebn) * dbnmeani)\n",
    "\n",
    "# calculate dhprebn given dhpreact (i.e. backprop through the batchnorm)\n",
    "# (you'll also need to use some of the variables from the forward pass up above)\n",
    "\n",
    "# -----------------\n",
    "dhprebn = bngain*(bnvar_inv)/n * (n*dhpreact - dhpreact.sum(0, keepdims = True) - n/(n-1)*bnraw*(dhpreact*bnraw).sum(0))\n",
    "# -----------------\n",
    "\n",
    "cmp('hprebn', dhprebn, hprebn) # I can only get approximate to be true, my maxdiff is 9e-10"
   ]
  },
  {
   "cell_type": "code",
   "execution_count": 15,
   "id": "17c0666b",
   "metadata": {
    "execution": {
     "iopub.execute_input": "2024-05-23T06:26:52.654437Z",
     "iopub.status.busy": "2024-05-23T06:26:52.654009Z",
     "iopub.status.idle": "2024-05-23T06:36:51.534869Z",
     "shell.execute_reply": "2024-05-23T06:36:51.533622Z"
    },
    "papermill": {
     "duration": 598.895347,
     "end_time": "2024-05-23T06:36:51.537875",
     "exception": false,
     "start_time": "2024-05-23T06:26:52.642528",
     "status": "completed"
    },
    "tags": []
   },
   "outputs": [
    {
     "name": "stdout",
     "output_type": "stream",
     "text": [
      "12297\n",
      "      0/ 200000: 3.7712\n",
      "  10000/ 200000: 2.1586\n",
      "  20000/ 200000: 2.4281\n",
      "  30000/ 200000: 2.4750\n",
      "  40000/ 200000: 1.9708\n",
      "  50000/ 200000: 2.3092\n",
      "  60000/ 200000: 2.3229\n",
      "  70000/ 200000: 2.0848\n",
      "  80000/ 200000: 2.3006\n",
      "  90000/ 200000: 2.2011\n",
      " 100000/ 200000: 1.9621\n",
      " 110000/ 200000: 2.3406\n",
      " 120000/ 200000: 1.9784\n",
      " 130000/ 200000: 2.4810\n",
      " 140000/ 200000: 2.2743\n",
      " 150000/ 200000: 2.1618\n",
      " 160000/ 200000: 1.9620\n",
      " 170000/ 200000: 1.7930\n",
      " 180000/ 200000: 2.0741\n",
      " 190000/ 200000: 1.8426\n"
     ]
    }
   ],
   "source": [
    "# Exercise 4: putting it all together!\n",
    "# Train the MLP neural net with your own backward pass\n",
    "\n",
    "# init\n",
    "n_embd = 10 # the dimensionality of the character embedding vectors\n",
    "n_hidden = 200 # the number of neurons in the hidden layer of the MLP\n",
    "\n",
    "g = torch.Generator().manual_seed(2147483647) # for reproducibility\n",
    "C  = torch.randn((vocab_size, n_embd),            generator=g)\n",
    "# Layer 1\n",
    "W1 = torch.randn((n_embd * block_size, n_hidden), generator=g) * (5/3)/((n_embd * block_size)**0.5)\n",
    "b1 = torch.randn(n_hidden,                        generator=g) * 0.1\n",
    "# Layer 2\n",
    "W2 = torch.randn((n_hidden, vocab_size),          generator=g) * 0.1\n",
    "b2 = torch.randn(vocab_size,                      generator=g) * 0.1\n",
    "# BatchNorm parameters\n",
    "bngain = torch.randn((1, n_hidden))*0.1 + 1.0\n",
    "bnbias = torch.randn((1, n_hidden))*0.1\n",
    "\n",
    "parameters = [C, W1, b1, W2, b2, bngain, bnbias]\n",
    "print(sum(p.nelement() for p in parameters)) # number of parameters in total\n",
    "for p in parameters:\n",
    "  p.requires_grad = True\n",
    "\n",
    "# same optimization as last time\n",
    "max_steps = 200000\n",
    "batch_size = 32\n",
    "n = batch_size # convenience\n",
    "lossi = []\n",
    "\n",
    "# use this context manager for efficiency once your backward pass is written (TODO)\n",
    "with torch.no_grad():\n",
    "\n",
    "  # kick off optimization\n",
    "  for i in range(max_steps):\n",
    "\n",
    "    # minibatch construct\n",
    "    ix = torch.randint(0, Xtr.shape[0], (batch_size,), generator=g)\n",
    "    Xb, Yb = Xtr[ix], Ytr[ix] # batch X,Y\n",
    "\n",
    "    # forward pass\n",
    "    emb = C[Xb] # embed the characters into vectors\n",
    "    embcat = emb.view(emb.shape[0], -1) # concatenate the vectors\n",
    "    # Linear layer\n",
    "    hprebn = embcat @ W1 + b1 # hidden layer pre-activation\n",
    "    # BatchNorm layer\n",
    "    # -------------------------------------------------------------\n",
    "    bnmean = hprebn.mean(0, keepdim=True)\n",
    "    bnvar = hprebn.var(0, keepdim=True, unbiased=True)\n",
    "    bnvar_inv = (bnvar + 1e-5)**-0.5\n",
    "    bnraw = (hprebn - bnmean) * bnvar_inv\n",
    "    hpreact = bngain * bnraw + bnbias\n",
    "    # -------------------------------------------------------------\n",
    "    # Non-linearity\n",
    "    h = torch.tanh(hpreact) # hidden layer\n",
    "    logits = h @ W2 + b2 # output layer\n",
    "    loss = F.cross_entropy(logits, Yb) # loss function\n",
    "\n",
    "    # backward pass\n",
    "    for p in parameters:\n",
    "      p.grad = None\n",
    "    #loss.backward() # use this for correctness comparisons, delete it later!\n",
    "\n",
    "    # manual backprop! #swole_doge_meme\n",
    "    # -----------------\n",
    "    dlogits = F.softmax(logits, 1)\n",
    "    dlogits[range(n), Yb] -= 1\n",
    "    dlogits /= n\n",
    "    # 2nd layer backprop\n",
    "    dh = dlogits @ W2.T\n",
    "    dW2 = h.T @ dlogits\n",
    "    db2 = dlogits.sum(0)\n",
    "    # tanh\n",
    "    dhpreact = (1.0 - h**2) * dh\n",
    "    # batchnorm backprop\n",
    "    dbngain = (bnraw * dhpreact).sum(0, keepdim=True)\n",
    "    dbnbias = dhpreact.sum(0, keepdim=True)\n",
    "    dhprebn = bngain*bnvar_inv/n * (n*dhpreact - dhpreact.sum(0) - n/(n-1)*bnraw*(dhpreact*bnraw).sum(0))\n",
    "    # 1st layer\n",
    "    dembcat = dhprebn @ W1.T\n",
    "    dW1 = embcat.T @ dhprebn\n",
    "    db1 = dhprebn.sum(0)\n",
    "    # embedding\n",
    "    demb = dembcat.view(emb.shape)\n",
    "    dC = torch.zeros_like(C)\n",
    "    for k in range(Xb.shape[0]):\n",
    "      for j in range(Xb.shape[1]):\n",
    "        ix = Xb[k,j]\n",
    "        dC[ix] += demb[k,j]\n",
    "    grads = [dC, dW1, db1, dW2, db2, dbngain, dbnbias]\n",
    "    # -----------------\n",
    "\n",
    "    # update\n",
    "    lr = 0.1 if i < 100000 else 0.01 # step learning rate decay\n",
    "    for p, grad in zip(parameters, grads):\n",
    "      #p.data += -lr * p.grad # old way of cheems doge (using PyTorch grad from .backward())\n",
    "      p.data += -lr * grad # new way of swole doge TODO: enable\n",
    "\n",
    "    # track stats\n",
    "    if i % 10000 == 0: # print every once in a while\n",
    "      print(f'{i:7d}/{max_steps:7d}: {loss.item():.4f}')\n",
    "    lossi.append(loss.log10().item())\n",
    "\n",
    "  #   if i >= 100: # TODO: delete early breaking when you're ready to train the full net\n",
    "  #     break"
   ]
  },
  {
   "cell_type": "code",
   "execution_count": 16,
   "id": "ed0e1b11",
   "metadata": {
    "execution": {
     "iopub.execute_input": "2024-05-23T06:36:51.563329Z",
     "iopub.status.busy": "2024-05-23T06:36:51.562901Z",
     "iopub.status.idle": "2024-05-23T06:36:52.069940Z",
     "shell.execute_reply": "2024-05-23T06:36:52.068662Z"
    },
    "papermill": {
     "duration": 0.522929,
     "end_time": "2024-05-23T06:36:52.072924",
     "exception": false,
     "start_time": "2024-05-23T06:36:51.549995",
     "status": "completed"
    },
    "tags": []
   },
   "outputs": [],
   "source": [
    "# calibrate the batch norm at the end of training\n",
    "\n",
    "with torch.no_grad():\n",
    "  # pass the training set through\n",
    "  emb = C[Xtr]\n",
    "  embcat = emb.view(emb.shape[0], -1)\n",
    "  hpreact = embcat @ W1 + b1\n",
    "  # measure the mean/std over the entire training set\n",
    "  bnmean = hpreact.mean(0, keepdim=True)\n",
    "  bnvar = hpreact.var(0, keepdim=True, unbiased=True)\n"
   ]
  },
  {
   "cell_type": "code",
   "execution_count": 17,
   "id": "9548435c",
   "metadata": {
    "execution": {
     "iopub.execute_input": "2024-05-23T06:36:52.097501Z",
     "iopub.status.busy": "2024-05-23T06:36:52.097062Z",
     "iopub.status.idle": "2024-05-23T06:36:52.855242Z",
     "shell.execute_reply": "2024-05-23T06:36:52.853682Z"
    },
    "papermill": {
     "duration": 0.773364,
     "end_time": "2024-05-23T06:36:52.857884",
     "exception": false,
     "start_time": "2024-05-23T06:36:52.084520",
     "status": "completed"
    },
    "tags": []
   },
   "outputs": [
    {
     "name": "stdout",
     "output_type": "stream",
     "text": [
      "train 2.0714666843414307\n",
      "val 2.110018253326416\n"
     ]
    }
   ],
   "source": [
    "# evaluate train and val loss\n",
    "\n",
    "@torch.no_grad() # this decorator disables gradient tracking\n",
    "def split_loss(split):\n",
    "  x,y = {\n",
    "    'train': (Xtr, Ytr),\n",
    "    'val': (Xdev, Ydev),\n",
    "    'test': (Xte, Yte),\n",
    "  }[split]\n",
    "  emb = C[x] # (N, block_size, n_embd)\n",
    "  embcat = emb.view(emb.shape[0], -1) # concat into (N, block_size * n_embd)\n",
    "  hpreact = embcat @ W1 + b1\n",
    "  hpreact = bngain * (hpreact - bnmean) * (bnvar + 1e-5)**-0.5 + bnbias\n",
    "  h = torch.tanh(hpreact) # (N, n_hidden)\n",
    "  logits = h @ W2 + b2 # (N, vocab_size)\n",
    "  loss = F.cross_entropy(logits, y)\n",
    "  print(split, loss.item())\n",
    "\n",
    "split_loss('train')\n",
    "split_loss('val')"
   ]
  },
  {
   "cell_type": "code",
   "execution_count": 18,
   "id": "7d2d9374",
   "metadata": {
    "execution": {
     "iopub.execute_input": "2024-05-23T06:36:52.883682Z",
     "iopub.status.busy": "2024-05-23T06:36:52.883249Z",
     "iopub.status.idle": "2024-05-23T06:36:52.943558Z",
     "shell.execute_reply": "2024-05-23T06:36:52.941974Z"
    },
    "papermill": {
     "duration": 0.07573,
     "end_time": "2024-05-23T06:36:52.946415",
     "exception": false,
     "start_time": "2024-05-23T06:36:52.870685",
     "status": "completed"
    },
    "tags": []
   },
   "outputs": [
    {
     "name": "stdout",
     "output_type": "stream",
     "text": [
      "mora.\n",
      "mayah.\n",
      "see.\n",
      "madhayla.\n",
      "renyra.\n",
      "endraegan.\n",
      "chedielin.\n",
      "shi.\n",
      "jen.\n",
      "eden.\n",
      "estanaraelynn.\n",
      "hoka.\n",
      "miyshubergihiriel.\n",
      "kindreelynn.\n",
      "novana.\n",
      "ubrence.\n",
      "ryyah.\n",
      "faeh.\n",
      "yuva.\n",
      "myston.\n"
     ]
    }
   ],
   "source": [
    "# sample from the model\n",
    "g = torch.Generator().manual_seed(2147483647 + 10)\n",
    "\n",
    "for _ in range(20):\n",
    "    \n",
    "    out = []\n",
    "    context = [0] * block_size # initialize with all ...\n",
    "    while True:\n",
    "      # forward pass\n",
    "      emb = C[torch.tensor([context])] # (1,block_size,d)      \n",
    "      embcat = emb.view(emb.shape[0], -1) # concat into (N, block_size * n_embd)\n",
    "      hpreact = embcat @ W1 + b1\n",
    "      hpreact = bngain * (hpreact - bnmean) * (bnvar + 1e-5)**-0.5 + bnbias\n",
    "      h = torch.tanh(hpreact) # (N, n_hidden)\n",
    "      logits = h @ W2 + b2 # (N, vocab_size)\n",
    "      # sample\n",
    "      probs = F.softmax(logits, dim=1)\n",
    "      ix = torch.multinomial(probs, num_samples=1, generator=g).item()\n",
    "      context = context[1:] + [ix]\n",
    "      out.append(ix)\n",
    "      if ix == 0:\n",
    "        break\n",
    "    \n",
    "    print(''.join(itos[i] for i in out))"
   ]
  },
  {
   "cell_type": "code",
   "execution_count": null,
   "id": "8cede0b5",
   "metadata": {
    "papermill": {
     "duration": 0.011168,
     "end_time": "2024-05-23T06:36:52.969109",
     "exception": false,
     "start_time": "2024-05-23T06:36:52.957941",
     "status": "completed"
    },
    "tags": []
   },
   "outputs": [],
   "source": []
  },
  {
   "cell_type": "code",
   "execution_count": null,
   "id": "bacf5f41",
   "metadata": {
    "papermill": {
     "duration": 0.01108,
     "end_time": "2024-05-23T06:36:52.991724",
     "exception": false,
     "start_time": "2024-05-23T06:36:52.980644",
     "status": "completed"
    },
    "tags": []
   },
   "outputs": [],
   "source": []
  }
 ],
 "metadata": {
  "kaggle": {
   "accelerator": "none",
   "dataSources": [],
   "dockerImageVersionId": 30698,
   "isGpuEnabled": false,
   "isInternetEnabled": true,
   "language": "python",
   "sourceType": "notebook"
  },
  "kernelspec": {
   "display_name": "Python 3",
   "language": "python",
   "name": "python3"
  },
  "language_info": {
   "codemirror_mode": {
    "name": "ipython",
    "version": 3
   },
   "file_extension": ".py",
   "mimetype": "text/x-python",
   "name": "python",
   "nbconvert_exporter": "python",
   "pygments_lexer": "ipython3",
   "version": "3.10.13"
  },
  "papermill": {
   "default_parameters": {},
   "duration": 611.06821,
   "end_time": "2024-05-23T06:36:53.927104",
   "environment_variables": {},
   "exception": null,
   "input_path": "__notebook__.ipynb",
   "output_path": "__notebook__.ipynb",
   "parameters": {},
   "start_time": "2024-05-23T06:26:42.858894",
   "version": "2.5.0"
  }
 },
 "nbformat": 4,
 "nbformat_minor": 5
}
