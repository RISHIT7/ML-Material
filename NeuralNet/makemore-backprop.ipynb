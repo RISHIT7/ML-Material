{
 "cells": [
  {
   "cell_type": "markdown",
   "id": "46c6ac07",
   "metadata": {
    "papermill": {
     "duration": 0.005461,
     "end_time": "2024-05-22T11:27:30.950115",
     "exception": false,
     "start_time": "2024-05-22T11:27:30.944654",
     "status": "completed"
    },
    "tags": []
   },
   "source": [
    "# makemore: becoming a backprop ninja"
   ]
  },
  {
   "cell_type": "code",
   "execution_count": 1,
   "id": "6a174ea6",
   "metadata": {
    "execution": {
     "iopub.execute_input": "2024-05-22T11:27:30.962664Z",
     "iopub.status.busy": "2024-05-22T11:27:30.962170Z",
     "iopub.status.idle": "2024-05-22T11:27:34.852937Z",
     "shell.execute_reply": "2024-05-22T11:27:34.851467Z"
    },
    "papermill": {
     "duration": 3.900711,
     "end_time": "2024-05-22T11:27:34.856145",
     "exception": false,
     "start_time": "2024-05-22T11:27:30.955434",
     "status": "completed"
    },
    "tags": []
   },
   "outputs": [],
   "source": [
    "import torch\n",
    "import torch.nn.functional as F\n",
    "import matplotlib.pyplot as plt # for making figures\n",
    "%matplotlib inline"
   ]
  },
  {
   "cell_type": "code",
   "execution_count": 2,
   "id": "b9e2e70b",
   "metadata": {
    "execution": {
     "iopub.execute_input": "2024-05-22T11:27:34.868305Z",
     "iopub.status.busy": "2024-05-22T11:27:34.867686Z",
     "iopub.status.idle": "2024-05-22T11:27:36.159002Z",
     "shell.execute_reply": "2024-05-22T11:27:36.157063Z"
    },
    "papermill": {
     "duration": 1.300997,
     "end_time": "2024-05-22T11:27:36.162280",
     "exception": false,
     "start_time": "2024-05-22T11:27:34.861283",
     "status": "completed"
    },
    "tags": []
   },
   "outputs": [
    {
     "name": "stdout",
     "output_type": "stream",
     "text": [
      "--2024-05-22 11:27:35--  https://raw.githubusercontent.com/karpathy/makemore/master/names.txt\r\n",
      "Resolving raw.githubusercontent.com (raw.githubusercontent.com)... 185.199.108.133, 185.199.110.133, 185.199.109.133, ...\r\n",
      "Connecting to raw.githubusercontent.com (raw.githubusercontent.com)|185.199.108.133|:443... connected.\r\n",
      "HTTP request sent, awaiting response... 200 OK\r\n",
      "Length: 228145 (223K) [text/plain]\r\n",
      "Saving to: 'names.txt'\r\n",
      "\r\n",
      "names.txt           100%[===================>] 222.80K  --.-KB/s    in 0.04s   \r\n",
      "\r\n",
      "2024-05-22 11:27:36 (5.21 MB/s) - 'names.txt' saved [228145/228145]\r\n",
      "\r\n"
     ]
    }
   ],
   "source": [
    "# download the names.txt file from github\n",
    "!wget https://raw.githubusercontent.com/karpathy/makemore/master/names.txt"
   ]
  },
  {
   "cell_type": "code",
   "execution_count": 3,
   "id": "5404892a",
   "metadata": {
    "execution": {
     "iopub.execute_input": "2024-05-22T11:27:36.181069Z",
     "iopub.status.busy": "2024-05-22T11:27:36.180360Z",
     "iopub.status.idle": "2024-05-22T11:27:36.198690Z",
     "shell.execute_reply": "2024-05-22T11:27:36.196886Z"
    },
    "papermill": {
     "duration": 0.032298,
     "end_time": "2024-05-22T11:27:36.202085",
     "exception": false,
     "start_time": "2024-05-22T11:27:36.169787",
     "status": "completed"
    },
    "tags": []
   },
   "outputs": [
    {
     "name": "stdout",
     "output_type": "stream",
     "text": [
      "32033\n",
      "15\n",
      "['emma', 'olivia', 'ava', 'isabella', 'sophia', 'charlotte', 'mia', 'amelia']\n"
     ]
    }
   ],
   "source": [
    "# read in all the words\n",
    "words = open('names.txt', 'r').read().splitlines()\n",
    "print(len(words))\n",
    "print(max(len(w) for w in words))\n",
    "print(words[:8])"
   ]
  },
  {
   "cell_type": "code",
   "execution_count": 4,
   "id": "c4eeddc8",
   "metadata": {
    "execution": {
     "iopub.execute_input": "2024-05-22T11:27:36.222675Z",
     "iopub.status.busy": "2024-05-22T11:27:36.221395Z",
     "iopub.status.idle": "2024-05-22T11:27:36.238611Z",
     "shell.execute_reply": "2024-05-22T11:27:36.236382Z"
    },
    "papermill": {
     "duration": 0.030507,
     "end_time": "2024-05-22T11:27:36.242175",
     "exception": false,
     "start_time": "2024-05-22T11:27:36.211668",
     "status": "completed"
    },
    "tags": []
   },
   "outputs": [
    {
     "name": "stdout",
     "output_type": "stream",
     "text": [
      "{1: 'a', 2: 'b', 3: 'c', 4: 'd', 5: 'e', 6: 'f', 7: 'g', 8: 'h', 9: 'i', 10: 'j', 11: 'k', 12: 'l', 13: 'm', 14: 'n', 15: 'o', 16: 'p', 17: 'q', 18: 'r', 19: 's', 20: 't', 21: 'u', 22: 'v', 23: 'w', 24: 'x', 25: 'y', 26: 'z', 0: '.'}\n",
      "27\n"
     ]
    }
   ],
   "source": [
    "# build the vocabulary of characters and mappings to/from integers\n",
    "chars = sorted(list(set(''.join(words))))\n",
    "stoi = {s:i+1 for i,s in enumerate(chars)}\n",
    "stoi['.'] = 0\n",
    "itos = {i:s for s,i in stoi.items()}\n",
    "vocab_size = len(itos)\n",
    "print(itos)\n",
    "print(vocab_size)"
   ]
  },
  {
   "cell_type": "code",
   "execution_count": 5,
   "id": "1e875183",
   "metadata": {
    "execution": {
     "iopub.execute_input": "2024-05-22T11:27:36.260447Z",
     "iopub.status.busy": "2024-05-22T11:27:36.259345Z",
     "iopub.status.idle": "2024-05-22T11:27:37.387643Z",
     "shell.execute_reply": "2024-05-22T11:27:37.386049Z"
    },
    "papermill": {
     "duration": 1.141106,
     "end_time": "2024-05-22T11:27:37.390529",
     "exception": false,
     "start_time": "2024-05-22T11:27:36.249423",
     "status": "completed"
    },
    "tags": []
   },
   "outputs": [
    {
     "name": "stdout",
     "output_type": "stream",
     "text": [
      "torch.Size([182625, 3]) torch.Size([182625])\n",
      "torch.Size([22655, 3]) torch.Size([22655])\n",
      "torch.Size([22866, 3]) torch.Size([22866])\n"
     ]
    }
   ],
   "source": [
    "# build the dataset\n",
    "block_size = 3 # context length: how many characters do we take to predict the next one?\n",
    "\n",
    "def build_dataset(words):  \n",
    "  X, Y = [], []\n",
    "  \n",
    "  for w in words:\n",
    "    context = [0] * block_size\n",
    "    for ch in w + '.':\n",
    "      ix = stoi[ch]\n",
    "      X.append(context)\n",
    "      Y.append(ix)\n",
    "      context = context[1:] + [ix] # crop and append\n",
    "\n",
    "  X = torch.tensor(X)\n",
    "  Y = torch.tensor(Y)\n",
    "  print(X.shape, Y.shape)\n",
    "  return X, Y\n",
    "\n",
    "import random\n",
    "random.seed(42)\n",
    "random.shuffle(words)\n",
    "n1 = int(0.8*len(words))\n",
    "n2 = int(0.9*len(words))\n",
    "\n",
    "Xtr,  Ytr  = build_dataset(words[:n1])     # 80%\n",
    "Xdev, Ydev = build_dataset(words[n1:n2])   # 10%\n",
    "Xte,  Yte  = build_dataset(words[n2:])     # 10%"
   ]
  },
  {
   "cell_type": "code",
   "execution_count": 6,
   "id": "72911969",
   "metadata": {
    "execution": {
     "iopub.execute_input": "2024-05-22T11:27:37.404120Z",
     "iopub.status.busy": "2024-05-22T11:27:37.403676Z",
     "iopub.status.idle": "2024-05-22T11:27:37.410809Z",
     "shell.execute_reply": "2024-05-22T11:27:37.409574Z"
    },
    "papermill": {
     "duration": 0.017141,
     "end_time": "2024-05-22T11:27:37.413549",
     "exception": false,
     "start_time": "2024-05-22T11:27:37.396408",
     "status": "completed"
    },
    "tags": []
   },
   "outputs": [],
   "source": [
    "# utility function we will use later when comparing manual gradients to PyTorch gradients\n",
    "def cmp(s, dt, t):\n",
    "  ex = torch.all(dt == t.grad).item()\n",
    "  app = torch.allclose(dt, t.grad)\n",
    "  maxdiff = (dt - t.grad).abs().max().item()\n",
    "  print(f'{s:15s} | exact: {str(ex):5s} | approximate: {str(app):5s} | maxdiff: {maxdiff}')"
   ]
  },
  {
   "cell_type": "code",
   "execution_count": 7,
   "id": "43fa270b",
   "metadata": {
    "execution": {
     "iopub.execute_input": "2024-05-22T11:27:37.427055Z",
     "iopub.status.busy": "2024-05-22T11:27:37.426603Z",
     "iopub.status.idle": "2024-05-22T11:27:37.483171Z",
     "shell.execute_reply": "2024-05-22T11:27:37.481787Z"
    },
    "papermill": {
     "duration": 0.066721,
     "end_time": "2024-05-22T11:27:37.486014",
     "exception": false,
     "start_time": "2024-05-22T11:27:37.419293",
     "status": "completed"
    },
    "tags": []
   },
   "outputs": [
    {
     "name": "stdout",
     "output_type": "stream",
     "text": [
      "4137\n"
     ]
    }
   ],
   "source": [
    "n_embd = 10 # the dimensionality of the character embedding vectors\n",
    "n_hidden = 64 # the number of neurons in the hidden layer of the MLP\n",
    "\n",
    "g = torch.Generator().manual_seed(2147483647) # for reproducibility\n",
    "C  = torch.randn((vocab_size, n_embd),            generator=g)\n",
    "# Layer 1\n",
    "W1 = torch.randn((n_embd * block_size, n_hidden), generator=g) * (5/3)/((n_embd * block_size)**0.5)\n",
    "b1 = torch.randn(n_hidden,                        generator=g) * 0.1 # using b1 just for fun, it's useless because of BN\n",
    "# Layer 2\n",
    "W2 = torch.randn((n_hidden, vocab_size),          generator=g) * 0.1\n",
    "b2 = torch.randn(vocab_size,                      generator=g) * 0.1\n",
    "# BatchNorm parameters\n",
    "bngain = torch.randn((1, n_hidden))*0.1 + 1.0\n",
    "bnbias = torch.randn((1, n_hidden))*0.1\n",
    "\n",
    "# Note: I am initializating many of these parameters in non-standard ways\n",
    "# because sometimes initializating with e.g. all zeros could mask an incorrect\n",
    "# implementation of the backward pass.\n",
    "\n",
    "parameters = [C, W1, b1, W2, b2, bngain, bnbias]\n",
    "print(sum(p.nelement() for p in parameters)) # number of parameters in total\n",
    "for p in parameters:\n",
    "  p.requires_grad = True"
   ]
  },
  {
   "cell_type": "code",
   "execution_count": 8,
   "id": "a4260afa",
   "metadata": {
    "execution": {
     "iopub.execute_input": "2024-05-22T11:27:37.499816Z",
     "iopub.status.busy": "2024-05-22T11:27:37.499404Z",
     "iopub.status.idle": "2024-05-22T11:27:37.521084Z",
     "shell.execute_reply": "2024-05-22T11:27:37.519423Z"
    },
    "papermill": {
     "duration": 0.032067,
     "end_time": "2024-05-22T11:27:37.524129",
     "exception": false,
     "start_time": "2024-05-22T11:27:37.492062",
     "status": "completed"
    },
    "tags": []
   },
   "outputs": [],
   "source": [
    "batch_size = 32\n",
    "n = batch_size # a shorter variable also, for convenience\n",
    "# construct a minibatch\n",
    "ix = torch.randint(0, Xtr.shape[0], (batch_size,), generator=g)\n",
    "Xb, Yb = Xtr[ix], Ytr[ix] # batch X,Y"
   ]
  },
  {
   "cell_type": "code",
   "execution_count": 9,
   "id": "1e7811e1",
   "metadata": {
    "execution": {
     "iopub.execute_input": "2024-05-22T11:27:37.539169Z",
     "iopub.status.busy": "2024-05-22T11:27:37.537926Z",
     "iopub.status.idle": "2024-05-22T11:27:37.676132Z",
     "shell.execute_reply": "2024-05-22T11:27:37.674697Z"
    },
    "papermill": {
     "duration": 0.148302,
     "end_time": "2024-05-22T11:27:37.678781",
     "exception": false,
     "start_time": "2024-05-22T11:27:37.530479",
     "status": "completed"
    },
    "tags": []
   },
   "outputs": [
    {
     "data": {
      "text/plain": [
       "tensor(3.3365, grad_fn=<NegBackward0>)"
      ]
     },
     "execution_count": 9,
     "metadata": {},
     "output_type": "execute_result"
    }
   ],
   "source": [
    "# forward pass, \"chunkated\" into smaller steps that are possible to backward one at a time\n",
    "\n",
    "emb = C[Xb] # embed the characters into vectors\n",
    "embcat = emb.view(emb.shape[0], -1) # concatenate the vectors\n",
    "# Linear layer 1\n",
    "hprebn = embcat @ W1 + b1 # hidden layer pre-activation\n",
    "# BatchNorm layer\n",
    "bnmeani = 1/n*hprebn.sum(0, keepdim=True)\n",
    "bndiff = hprebn - bnmeani\n",
    "bndiff2 = bndiff**2\n",
    "bnvar = 1/(n-1)*(bndiff2).sum(0, keepdim=True) # note: Bessel's correction (dividing by n-1, not n)\n",
    "bnvar_inv = (bnvar + 1e-5)**-0.5\n",
    "bnraw = bndiff * bnvar_inv\n",
    "hpreact = bngain * bnraw + bnbias\n",
    "# Non-linearity\n",
    "h = torch.tanh(hpreact) # hidden layer\n",
    "# Linear layer 2\n",
    "logits = h @ W2 + b2 # output layer\n",
    "# cross entropy loss (same as F.cross_entropy(logits, Yb))\n",
    "logit_maxes = logits.max(1, keepdim=True).values\n",
    "norm_logits = logits - logit_maxes # subtract max for numerical stability\n",
    "counts = norm_logits.exp()\n",
    "counts_sum = counts.sum(1, keepdims=True)\n",
    "counts_sum_inv = counts_sum**-1 # if I use (1.0 / counts_sum) instead then I can't get backprop to be bit exact...\n",
    "probs = counts * counts_sum_inv\n",
    "logprobs = probs.log()\n",
    "loss = -logprobs[range(n), Yb].mean()\n",
    "\n",
    "# PyTorch backward pass\n",
    "for p in parameters:\n",
    "  p.grad = None\n",
    "for t in [logprobs, probs, counts, counts_sum, counts_sum_inv, # afaik there is no cleaner way\n",
    "          norm_logits, logit_maxes, logits, h, hpreact, bnraw,\n",
    "         bnvar_inv, bnvar, bndiff2, bndiff, hprebn, bnmeani,\n",
    "         embcat, emb]:\n",
    "  t.retain_grad()\n",
    "loss.backward()\n",
    "loss"
   ]
  },
  {
   "cell_type": "code",
   "execution_count": 10,
   "id": "7adcb8a6",
   "metadata": {
    "execution": {
     "iopub.execute_input": "2024-05-22T11:27:37.692924Z",
     "iopub.status.busy": "2024-05-22T11:27:37.692498Z",
     "iopub.status.idle": "2024-05-22T11:27:37.727443Z",
     "shell.execute_reply": "2024-05-22T11:27:37.726072Z"
    },
    "papermill": {
     "duration": 0.04563,
     "end_time": "2024-05-22T11:27:37.730458",
     "exception": false,
     "start_time": "2024-05-22T11:27:37.684828",
     "status": "completed"
    },
    "tags": []
   },
   "outputs": [
    {
     "name": "stdout",
     "output_type": "stream",
     "text": [
      "logprobs        | exact: True  | approximate: True  | maxdiff: 0.0\n",
      "probs           | exact: True  | approximate: True  | maxdiff: 0.0\n",
      "counts_sum_inv  | exact: True  | approximate: True  | maxdiff: 0.0\n",
      "counts_sum      | exact: True  | approximate: True  | maxdiff: 0.0\n",
      "counts          | exact: True  | approximate: True  | maxdiff: 0.0\n",
      "norm_logits     | exact: True  | approximate: True  | maxdiff: 0.0\n",
      "logit_maxes     | exact: True  | approximate: True  | maxdiff: 0.0\n",
      "logits          | exact: True  | approximate: True  | maxdiff: 0.0\n",
      "h               | exact: True  | approximate: True  | maxdiff: 0.0\n",
      "W2              | exact: True  | approximate: True  | maxdiff: 0.0\n",
      "b2              | exact: True  | approximate: True  | maxdiff: 0.0\n"
     ]
    }
   ],
   "source": [
    "# Exercise 1: backprop through the whole thing manually, \n",
    "# backpropagating through exactly all of the variables \n",
    "# as they are defined in the forward pass above, one by one\n",
    "\n",
    "dlogprobs = torch.zeros_like(logprobs)\n",
    "dlogprobs[range(n), Yb] = -1.0/n\n",
    "\n",
    "dprobs = dlogprobs/probs\n",
    "\n",
    "dcounts_sum_inv = (counts * dprobs).sum(axis = 1, keepdims = True) # due to the multiplication we have the coefficient, due to the replication we add\n",
    "\n",
    "dcounts = counts_sum_inv * dprobs # first contribution\n",
    "\n",
    "dcounts_sum = (-1/counts_sum**2) * dcounts_sum_inv\n",
    "\n",
    "dcounts += torch.ones_like(counts)*dcounts_sum # second contribution\n",
    "\n",
    "dnorm_logits = counts * dcounts\n",
    "\n",
    "dlogits = dnorm_logits.clone() # first contribution\n",
    "\n",
    "dlogit_maxes = -dnorm_logits.sum(1, keepdims = True)\n",
    "\n",
    "\n",
    "\n",
    "# since we are just using logit maxes for numerical stability, the grdients should be 0, or atleast close to 0\n",
    "# that is exactly what we see, here\n",
    "\n",
    "# also, since logits maxes is a max opertaion the back prop should be 1 for the max indices, and 0 for the rest, this is done bas belows\n",
    "dlogits += F.one_hot(logits.max(1).indices, num_classes = logits.shape[1]) * dlogit_maxes\n",
    "\n",
    "# for further calculation\n",
    "# figure that w = a @ b + c\n",
    "# self.grad = out.grad @ b.T\n",
    "# self.grad = a.T @ out.grad\n",
    "# self.grad = out.grad.sum(axis = 0)\n",
    "dh = dlogits @ W2.T # figure this out yourself, on pen and paper :)\n",
    "dW2 = h.T @ dlogits\n",
    "db2 = dlogits.sum(axis = 0)\n",
    "\n",
    "cmp('logprobs', dlogprobs, logprobs)\n",
    "cmp('probs', dprobs, probs)\n",
    "cmp('counts_sum_inv', dcounts_sum_inv, counts_sum_inv)\n",
    "cmp('counts_sum', dcounts_sum, counts_sum)\n",
    "cmp('counts', dcounts, counts)\n",
    "cmp('norm_logits', dnorm_logits, norm_logits)\n",
    "cmp('logit_maxes', dlogit_maxes, logit_maxes)\n",
    "cmp('logits', dlogits, logits)\n",
    "cmp('h', dh, h)\n",
    "cmp('W2', dW2, W2)\n",
    "cmp('b2', db2, b2)\n",
    "# cmp('hpreact', dhpreact, hpreact)\n",
    "# cmp('bngain', dbngain, bngain)\n",
    "# cmp('bnbias', dbnbias, bnbias)\n",
    "# cmp('bnraw', dbnraw, bnraw)\n",
    "# cmp('bnvar_inv', dbnvar_inv, bnvar_inv)\n",
    "# cmp('bnvar', dbnvar, bnvar)\n",
    "# cmp('bndiff2', dbndiff2, bndiff2)\n",
    "# cmp('bndiff', dbndiff, bndiff)\n",
    "# cmp('bnmeani', dbnmeani, bnmeani)\n",
    "# cmp('hprebn', dhprebn, hprebn)\n",
    "# cmp('embcat', dembcat, embcat)\n",
    "# cmp('W1', dW1, W1)\n",
    "# cmp('b1', db1, b1)\n",
    "# cmp('emb', demb, emb)\n",
    "# cmp('C', dC, C)"
   ]
  },
  {
   "cell_type": "code",
   "execution_count": null,
   "id": "2246074c",
   "metadata": {
    "papermill": {
     "duration": 0.006256,
     "end_time": "2024-05-22T11:27:37.743004",
     "exception": false,
     "start_time": "2024-05-22T11:27:37.736748",
     "status": "completed"
    },
    "tags": []
   },
   "outputs": [],
   "source": []
  }
 ],
 "metadata": {
  "kaggle": {
   "accelerator": "none",
   "dataSources": [],
   "dockerImageVersionId": 30698,
   "isGpuEnabled": false,
   "isInternetEnabled": true,
   "language": "python",
   "sourceType": "notebook"
  },
  "kernelspec": {
   "display_name": "Python 3",
   "language": "python",
   "name": "python3"
  },
  "language_info": {
   "codemirror_mode": {
    "name": "ipython",
    "version": 3
   },
   "file_extension": ".py",
   "mimetype": "text/x-python",
   "name": "python",
   "nbconvert_exporter": "python",
   "pygments_lexer": "ipython3",
   "version": "3.10.13"
  },
  "papermill": {
   "default_parameters": {},
   "duration": 10.992263,
   "end_time": "2024-05-22T11:27:38.672363",
   "environment_variables": {},
   "exception": null,
   "input_path": "__notebook__.ipynb",
   "output_path": "__notebook__.ipynb",
   "parameters": {},
   "start_time": "2024-05-22T11:27:27.680100",
   "version": "2.5.0"
  }
 },
 "nbformat": 4,
 "nbformat_minor": 5
}
