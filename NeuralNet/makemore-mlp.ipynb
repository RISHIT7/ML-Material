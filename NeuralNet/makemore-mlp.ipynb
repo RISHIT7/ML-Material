{
 "cells": [
  {
   "cell_type": "code",
   "execution_count": 1,
   "id": "c94572e9",
   "metadata": {
    "_cell_guid": "b1076dfc-b9ad-4769-8c92-a6c4dae69d19",
    "_uuid": "8f2839f25d086af736a60e9eeb907d3b93b6e0e5",
    "execution": {
     "iopub.execute_input": "2024-05-20T05:53:26.398864Z",
     "iopub.status.busy": "2024-05-20T05:53:26.397836Z",
     "iopub.status.idle": "2024-05-20T05:53:30.026224Z",
     "shell.execute_reply": "2024-05-20T05:53:30.024908Z"
    },
    "papermill": {
     "duration": 3.639199,
     "end_time": "2024-05-20T05:53:30.028805",
     "exception": false,
     "start_time": "2024-05-20T05:53:26.389606",
     "status": "completed"
    },
    "tags": []
   },
   "outputs": [],
   "source": [
    "import torch\n",
    "import torch.nn.functional as F\n",
    "import matplotlib.pyplot as plt\n",
    "%matplotlib inline\n",
    "\n",
    "import os\n",
    "for dirname, _, filenames in os.walk('/kaggle/input'):\n",
    "    for filename in filenames:\n",
    "        print(os.path.join(dirname, filename))"
   ]
  },
  {
   "cell_type": "code",
   "execution_count": 2,
   "id": "15b691fb",
   "metadata": {
    "execution": {
     "iopub.execute_input": "2024-05-20T05:53:30.041110Z",
     "iopub.status.busy": "2024-05-20T05:53:30.040588Z",
     "iopub.status.idle": "2024-05-20T05:53:31.325953Z",
     "shell.execute_reply": "2024-05-20T05:53:31.324796Z"
    },
    "papermill": {
     "duration": 1.294161,
     "end_time": "2024-05-20T05:53:31.328375",
     "exception": false,
     "start_time": "2024-05-20T05:53:30.034214",
     "status": "completed"
    },
    "tags": []
   },
   "outputs": [
    {
     "name": "stdout",
     "output_type": "stream",
     "text": [
      "--2024-05-20 05:53:30--  https://raw.githubusercontent.com/karpathy/makemore/master/names.txt\r\n",
      "Resolving raw.githubusercontent.com (raw.githubusercontent.com)... 185.199.108.133, 185.199.109.133, 185.199.110.133, ...\r\n",
      "Connecting to raw.githubusercontent.com (raw.githubusercontent.com)|185.199.108.133|:443... connected.\r\n",
      "HTTP request sent, awaiting response... 200 OK\r\n",
      "Length: 228145 (223K) [text/plain]\r\n",
      "Saving to: 'names.txt'\r\n",
      "\r\n",
      "names.txt           100%[===================>] 222.80K  --.-KB/s    in 0.03s   \r\n",
      "\r\n",
      "2024-05-20 05:53:31 (6.51 MB/s) - 'names.txt' saved [228145/228145]\r\n",
      "\r\n"
     ]
    }
   ],
   "source": [
    "!wget https://raw.githubusercontent.com/karpathy/makemore/master/names.txt"
   ]
  },
  {
   "cell_type": "code",
   "execution_count": 3,
   "id": "4f048512",
   "metadata": {
    "execution": {
     "iopub.execute_input": "2024-05-20T05:53:31.342175Z",
     "iopub.status.busy": "2024-05-20T05:53:31.340920Z",
     "iopub.status.idle": "2024-05-20T05:53:31.355188Z",
     "shell.execute_reply": "2024-05-20T05:53:31.353996Z"
    },
    "papermill": {
     "duration": 0.023816,
     "end_time": "2024-05-20T05:53:31.357900",
     "exception": false,
     "start_time": "2024-05-20T05:53:31.334084",
     "status": "completed"
    },
    "tags": []
   },
   "outputs": [
    {
     "data": {
      "text/plain": [
       "['emma', 'olivia', 'ava', 'isabella', 'sophia', 'charlotte', 'mia', 'amelia']"
      ]
     },
     "execution_count": 3,
     "metadata": {},
     "output_type": "execute_result"
    }
   ],
   "source": [
    "words = open('names.txt', 'r').read().splitlines()\n",
    "words[:8]"
   ]
  },
  {
   "cell_type": "code",
   "execution_count": 4,
   "id": "dc40f0d1",
   "metadata": {
    "execution": {
     "iopub.execute_input": "2024-05-20T05:53:31.371064Z",
     "iopub.status.busy": "2024-05-20T05:53:31.370662Z",
     "iopub.status.idle": "2024-05-20T05:53:31.377367Z",
     "shell.execute_reply": "2024-05-20T05:53:31.376342Z"
    },
    "papermill": {
     "duration": 0.01598,
     "end_time": "2024-05-20T05:53:31.379467",
     "exception": false,
     "start_time": "2024-05-20T05:53:31.363487",
     "status": "completed"
    },
    "tags": []
   },
   "outputs": [
    {
     "data": {
      "text/plain": [
       "32033"
      ]
     },
     "execution_count": 4,
     "metadata": {},
     "output_type": "execute_result"
    }
   ],
   "source": [
    "# number of words\n",
    "len(words)"
   ]
  },
  {
   "cell_type": "code",
   "execution_count": 5,
   "id": "6527dbc4",
   "metadata": {
    "execution": {
     "iopub.execute_input": "2024-05-20T05:53:31.393366Z",
     "iopub.status.busy": "2024-05-20T05:53:31.392695Z",
     "iopub.status.idle": "2024-05-20T05:53:31.403309Z",
     "shell.execute_reply": "2024-05-20T05:53:31.402241Z"
    },
    "papermill": {
     "duration": 0.019844,
     "end_time": "2024-05-20T05:53:31.405502",
     "exception": false,
     "start_time": "2024-05-20T05:53:31.385658",
     "status": "completed"
    },
    "tags": []
   },
   "outputs": [],
   "source": [
    "# building the vocab of chars and mapping to/from ints\n",
    "char = sorted(list(set(''.join(words))))\n",
    "stoi = {s: i+1 for i, s in enumerate(char)}\n",
    "stoi['.'] = 0\n",
    "itos = {i: s for s, i in stoi.items()}"
   ]
  },
  {
   "cell_type": "code",
   "execution_count": 6,
   "id": "925bcdaf",
   "metadata": {
    "execution": {
     "iopub.execute_input": "2024-05-20T05:53:31.418862Z",
     "iopub.status.busy": "2024-05-20T05:53:31.418499Z",
     "iopub.status.idle": "2024-05-20T05:53:31.426762Z",
     "shell.execute_reply": "2024-05-20T05:53:31.425668Z"
    },
    "papermill": {
     "duration": 0.017869,
     "end_time": "2024-05-20T05:53:31.429342",
     "exception": false,
     "start_time": "2024-05-20T05:53:31.411473",
     "status": "completed"
    },
    "tags": []
   },
   "outputs": [],
   "source": [
    "# building the dataset\n",
    "context_length = 3 # number of characters we take as input to output the next one\n",
    "\n",
    "def build_dataset(words: str, visualize: bool = False) -> (torch.int64, torch.int64):\n",
    "    X, Y = [], []\n",
    "    \n",
    "    for w in words:\n",
    "        \n",
    "        context = [0]*context_length\n",
    "        for ch in w+'.':\n",
    "            ix = stoi[ch]\n",
    "            X.append(context)\n",
    "            Y.append(ix)\n",
    "            \n",
    "            if (visualize):\n",
    "                print (''.join(itos[i] for i in context), '--->', itos[ix])\n",
    "            context = context[1:] + [ix]\n",
    "    \n",
    "    X = torch.tensor(X)\n",
    "    Y = torch.tensor(Y)\n",
    "\n",
    "    return X, Y"
   ]
  },
  {
   "cell_type": "code",
   "execution_count": 7,
   "id": "f4ac711b",
   "metadata": {
    "execution": {
     "iopub.execute_input": "2024-05-20T05:53:31.443580Z",
     "iopub.status.busy": "2024-05-20T05:53:31.442737Z",
     "iopub.status.idle": "2024-05-20T05:53:31.447460Z",
     "shell.execute_reply": "2024-05-20T05:53:31.446678Z"
    },
    "papermill": {
     "duration": 0.014278,
     "end_time": "2024-05-20T05:53:31.449580",
     "exception": false,
     "start_time": "2024-05-20T05:53:31.435302",
     "status": "completed"
    },
    "tags": []
   },
   "outputs": [],
   "source": [
    "import random"
   ]
  },
  {
   "cell_type": "code",
   "execution_count": 8,
   "id": "bce27051",
   "metadata": {
    "execution": {
     "iopub.execute_input": "2024-05-20T05:53:31.462936Z",
     "iopub.status.busy": "2024-05-20T05:53:31.462201Z",
     "iopub.status.idle": "2024-05-20T05:53:32.288680Z",
     "shell.execute_reply": "2024-05-20T05:53:32.287409Z"
    },
    "papermill": {
     "duration": 0.836357,
     "end_time": "2024-05-20T05:53:32.291580",
     "exception": false,
     "start_time": "2024-05-20T05:53:31.455223",
     "status": "completed"
    },
    "tags": []
   },
   "outputs": [],
   "source": [
    "random.seed(42)\n",
    "random.shuffle(words)\n",
    "n1 = int(0.8*len(words))\n",
    "n2 = int(0.9*len(words))\n",
    "\n",
    "Xtr, Ytr = build_dataset(words[:n1])\n",
    "Xdev, Ydev = build_dataset(words[n1:n2])\n",
    "Xte, Yte = build_dataset(words[n2:])"
   ]
  },
  {
   "cell_type": "code",
   "execution_count": 9,
   "id": "29c84f19",
   "metadata": {
    "execution": {
     "iopub.execute_input": "2024-05-20T05:53:32.308394Z",
     "iopub.status.busy": "2024-05-20T05:53:32.307569Z",
     "iopub.status.idle": "2024-05-20T05:53:32.327569Z",
     "shell.execute_reply": "2024-05-20T05:53:32.326564Z"
    },
    "papermill": {
     "duration": 0.032927,
     "end_time": "2024-05-20T05:53:32.331655",
     "exception": false,
     "start_time": "2024-05-20T05:53:32.298728",
     "status": "completed"
    },
    "tags": []
   },
   "outputs": [],
   "source": [
    "g = torch.Generator().manual_seed(2147483647)\n",
    "\n",
    "C = torch.randn((27, 10), generator = g) # seems to be the embedding matrix, with size (vocab_size, embedding_size)\n",
    "W1 = torch.randn((30, 200), generator = g)\n",
    "b1 = torch.randn(200, generator = g)\n",
    "W2 = torch.randn((200, 27), generator = g)\n",
    "b2 = torch.randn(27, generator = g)\n",
    "parameters = [C, W1, b1, W2, b2]"
   ]
  },
  {
   "cell_type": "code",
   "execution_count": 10,
   "id": "02a0f9ca",
   "metadata": {
    "execution": {
     "iopub.execute_input": "2024-05-20T05:53:32.356128Z",
     "iopub.status.busy": "2024-05-20T05:53:32.353294Z",
     "iopub.status.idle": "2024-05-20T05:53:32.371193Z",
     "shell.execute_reply": "2024-05-20T05:53:32.369663Z"
    },
    "papermill": {
     "duration": 0.034571,
     "end_time": "2024-05-20T05:53:32.375198",
     "exception": false,
     "start_time": "2024-05-20T05:53:32.340627",
     "status": "completed"
    },
    "tags": []
   },
   "outputs": [
    {
     "data": {
      "text/plain": [
       "11897"
      ]
     },
     "execution_count": 10,
     "metadata": {},
     "output_type": "execute_result"
    }
   ],
   "source": [
    "sum(p.nelement() for p in parameters) # number of params"
   ]
  },
  {
   "cell_type": "code",
   "execution_count": 11,
   "id": "09f19715",
   "metadata": {
    "execution": {
     "iopub.execute_input": "2024-05-20T05:53:32.392495Z",
     "iopub.status.busy": "2024-05-20T05:53:32.391674Z",
     "iopub.status.idle": "2024-05-20T05:53:32.396572Z",
     "shell.execute_reply": "2024-05-20T05:53:32.395555Z"
    },
    "papermill": {
     "duration": 0.014652,
     "end_time": "2024-05-20T05:53:32.398782",
     "exception": false,
     "start_time": "2024-05-20T05:53:32.384130",
     "status": "completed"
    },
    "tags": []
   },
   "outputs": [],
   "source": [
    "for p in parameters:\n",
    "    p.requires_grad = True"
   ]
  },
  {
   "cell_type": "code",
   "execution_count": 12,
   "id": "6df3dc91",
   "metadata": {
    "execution": {
     "iopub.execute_input": "2024-05-20T05:53:32.416011Z",
     "iopub.status.busy": "2024-05-20T05:53:32.414733Z",
     "iopub.status.idle": "2024-05-20T05:53:32.447464Z",
     "shell.execute_reply": "2024-05-20T05:53:32.445250Z"
    },
    "papermill": {
     "duration": 0.04573,
     "end_time": "2024-05-20T05:53:32.450530",
     "exception": false,
     "start_time": "2024-05-20T05:53:32.404800",
     "status": "completed"
    },
    "tags": []
   },
   "outputs": [],
   "source": [
    "lre = torch.linspace(-3, 0, 1000)\n",
    "lrs = 10**lre"
   ]
  },
  {
   "cell_type": "code",
   "execution_count": 13,
   "id": "e40af2ec",
   "metadata": {
    "execution": {
     "iopub.execute_input": "2024-05-20T05:53:32.464185Z",
     "iopub.status.busy": "2024-05-20T05:53:32.463691Z",
     "iopub.status.idle": "2024-05-20T05:53:32.469707Z",
     "shell.execute_reply": "2024-05-20T05:53:32.468379Z"
    },
    "papermill": {
     "duration": 0.016784,
     "end_time": "2024-05-20T05:53:32.473277",
     "exception": false,
     "start_time": "2024-05-20T05:53:32.456493",
     "status": "completed"
    },
    "tags": []
   },
   "outputs": [],
   "source": [
    "lri = []\n",
    "lossi = []\n",
    "stepi = []"
   ]
  },
  {
   "cell_type": "code",
   "execution_count": 14,
   "id": "c84be183",
   "metadata": {
    "execution": {
     "iopub.execute_input": "2024-05-20T05:53:32.488916Z",
     "iopub.status.busy": "2024-05-20T05:53:32.488494Z",
     "iopub.status.idle": "2024-05-20T05:55:15.470811Z",
     "shell.execute_reply": "2024-05-20T05:55:15.469566Z"
    },
    "papermill": {
     "duration": 102.993517,
     "end_time": "2024-05-20T05:55:15.474088",
     "exception": false,
     "start_time": "2024-05-20T05:53:32.480571",
     "status": "completed"
    },
    "tags": []
   },
   "outputs": [],
   "source": [
    "for i in range(200_000):\n",
    "    \n",
    "    # minibatch contruct\n",
    "    ix = torch.randint(0, Xtr.shape[0], (32,)) # takes random 32 inputs from the Xtr\n",
    "    \n",
    "    # forward pass\n",
    "    # Xtr[ix] takes the ix^th index, and considers the input values, three context at that index\n",
    "    \n",
    "    # Thus, here, ix belongs to range(0, num_char)\n",
    "    # Xtr.shape = [num_char, context_length] and outputs are in the range (vocab_length)\n",
    "    # C.shape = [vocab_length, embedding size] and outputs are embeddings, which seem to be an updated version on one_hot\n",
    "    # embedding.shape = [batch_size, context_length, embedding_size] and outputs are embeddings!\n",
    "    emb = C[Xtr[ix]] # (32, 3, 10)\n",
    "    # thus here, W1 must be [embedding_size, output_neurons]\n",
    "    h = torch.tanh(emb.view(-1, 30) @ W1 + b1) # (32, 100) for hidden_layer h\n",
    "    # thus here, W2 must be [input_neurons, output_neurons]\n",
    "    logits = h @ W2 + b2 # (32, 27) [batch_size, vocab_length]\n",
    "    loss = F.cross_entropy(logits, Ytr[ix])\n",
    "    # print(loss.item())\n",
    "    \n",
    "    # backward pass\n",
    "    for p in parameters:\n",
    "        p.grad = None\n",
    "    loss.backward()\n",
    "    \n",
    "    # update\n",
    "    # lr = lrs[i]\n",
    "    lr = 0.1 if i < 100_000 else 0.01\n",
    "    for p in parameters:\n",
    "        p.data += -lr*p.grad\n",
    "        \n",
    "    # track stats\n",
    "    # lri.append(lre[i])\n",
    "    stepi.append(i)\n",
    "    lossi.append(loss.log10().item())\n",
    "    \n",
    "    # print(loss.item())"
   ]
  },
  {
   "cell_type": "code",
   "execution_count": 15,
   "id": "f6ff25e1",
   "metadata": {
    "execution": {
     "iopub.execute_input": "2024-05-20T05:55:15.488082Z",
     "iopub.status.busy": "2024-05-20T05:55:15.487448Z",
     "iopub.status.idle": "2024-05-20T05:55:16.091881Z",
     "shell.execute_reply": "2024-05-20T05:55:16.090190Z"
    },
    "papermill": {
     "duration": 0.614328,
     "end_time": "2024-05-20T05:55:16.094505",
     "exception": false,
     "start_time": "2024-05-20T05:55:15.480177",
     "status": "completed"
    },
    "tags": []
   },
   "outputs": [
    {
     "data": {
      "text/plain": [
       "[<matplotlib.lines.Line2D at 0x7b2b15324b80>]"
      ]
     },
     "execution_count": 15,
     "metadata": {},
     "output_type": "execute_result"
    },
    {
     "data": {
      "image/png": "[encoded data removed]",
      "text/plain": [
       "<Figure size 640x480 with 1 Axes>"
      ]
     },
     "metadata": {},
     "output_type": "display_data"
    }
   ],
   "source": [
    "plt.plot(stepi, lossi)"
   ]
  },
  {
   "cell_type": "code",
   "execution_count": 16,
   "id": "3cc2f21e",
   "metadata": {
    "execution": {
     "iopub.execute_input": "2024-05-20T05:55:16.109117Z",
     "iopub.status.busy": "2024-05-20T05:55:16.108668Z",
     "iopub.status.idle": "2024-05-20T05:55:16.507244Z",
     "shell.execute_reply": "2024-05-20T05:55:16.506156Z"
    },
    "papermill": {
     "duration": 0.408763,
     "end_time": "2024-05-20T05:55:16.509746",
     "exception": false,
     "start_time": "2024-05-20T05:55:16.100983",
     "status": "completed"
    },
    "tags": []
   },
   "outputs": [
    {
     "data": {
      "text/plain": [
       "tensor(2.1216, grad_fn=<NllLossBackward0>)"
      ]
     },
     "execution_count": 16,
     "metadata": {},
     "output_type": "execute_result"
    }
   ],
   "source": [
    "# training loss\n",
    "emb = C[Xtr] # (182625, 3, 10)\n",
    "h = torch.tanh(emb.view(-1, 30) @ W1 + b1) # (182625, 100)\n",
    "logits = h @ W2 + b2 # (182625, 27)\n",
    "loss = F.cross_entropy(logits, Ytr)\n",
    "loss"
   ]
  },
  {
   "cell_type": "code",
   "execution_count": 17,
   "id": "864ff088",
   "metadata": {
    "execution": {
     "iopub.execute_input": "2024-05-20T05:55:16.524985Z",
     "iopub.status.busy": "2024-05-20T05:55:16.524372Z",
     "iopub.status.idle": "2024-05-20T05:55:16.572232Z",
     "shell.execute_reply": "2024-05-20T05:55:16.571048Z"
    },
    "papermill": {
     "duration": 0.058276,
     "end_time": "2024-05-20T05:55:16.574680",
     "exception": false,
     "start_time": "2024-05-20T05:55:16.516404",
     "status": "completed"
    },
    "tags": []
   },
   "outputs": [
    {
     "data": {
      "text/plain": [
       "tensor(2.1637, grad_fn=<NllLossBackward0>)"
      ]
     },
     "execution_count": 17,
     "metadata": {},
     "output_type": "execute_result"
    }
   ],
   "source": [
    "# validation loss\n",
    "emb = C[Xdev] # (dev_size, 3, 10)\n",
    "h = torch.tanh(emb.view(-1, 30) @ W1 + b1) # (dev_size, 100)\n",
    "logits = h @ W2 + b2 # (dev_size, 27)\n",
    "loss = F.cross_entropy(logits, Ydev)\n",
    "loss"
   ]
  },
  {
   "cell_type": "code",
   "execution_count": 18,
   "id": "88fbce37",
   "metadata": {
    "execution": {
     "iopub.execute_input": "2024-05-20T05:55:16.590195Z",
     "iopub.status.busy": "2024-05-20T05:55:16.589755Z",
     "iopub.status.idle": "2024-05-20T05:55:16.942260Z",
     "shell.execute_reply": "2024-05-20T05:55:16.940905Z"
    },
    "papermill": {
     "duration": 0.363918,
     "end_time": "2024-05-20T05:55:16.945459",
     "exception": false,
     "start_time": "2024-05-20T05:55:16.581541",
     "status": "completed"
    },
    "tags": []
   },
   "outputs": [
    {
     "data": {
      "image/png": "[encoded data removed]",
      "text/plain": [
       "<Figure size 800x800 with 1 Axes>"
      ]
     },
     "metadata": {},
     "output_type": "display_data"
    }
   ],
   "source": [
    "# visualize dimensions 0 and 1 of the embedding matrix C for all characters\n",
    "plt.figure(figsize=(8,8))\n",
    "plt.scatter(C[:,0].data, C[:,1].data, s=200)\n",
    "for i in range(C.shape[0]):\n",
    "    plt.text(C[i,0].item(), C[i,1].item(), itos[i], ha=\"center\", va=\"center\", color='white')\n",
    "plt.grid('minor')"
   ]
  },
  {
   "cell_type": "code",
   "execution_count": 19,
   "id": "8d5e5442",
   "metadata": {
    "execution": {
     "iopub.execute_input": "2024-05-20T05:55:16.961602Z",
     "iopub.status.busy": "2024-05-20T05:55:16.961199Z",
     "iopub.status.idle": "2024-05-20T05:55:17.002195Z",
     "shell.execute_reply": "2024-05-20T05:55:17.001048Z"
    },
    "papermill": {
     "duration": 0.051789,
     "end_time": "2024-05-20T05:55:17.004522",
     "exception": false,
     "start_time": "2024-05-20T05:55:16.952733",
     "status": "completed"
    },
    "tags": []
   },
   "outputs": [
    {
     "name": "stdout",
     "output_type": "stream",
     "text": [
      "montaimyah.\n",
      "see.\n",
      "mad.\n",
      "ryah.\n",
      "rethan.\n",
      "endrae.\n",
      "cadee.\n",
      "daelin.\n",
      "shy.\n",
      "jen.\n",
      "edennestanar.\n",
      "kayzion.\n",
      "kamin.\n",
      "shub.\n",
      "rishiriel.\n",
      "kindreth.\n",
      "konnie.\n",
      "cayu.\n",
      "zayven.\n",
      "kympremeha.\n"
     ]
    }
   ],
   "source": [
    "# sample from the model\n",
    "g = torch.Generator().manual_seed(2147483647 + 10)\n",
    "\n",
    "for _ in range(20):\n",
    "    \n",
    "    out = []\n",
    "    context = [0] * context_length # initialize with all ...\n",
    "    while True:\n",
    "        emb = C[torch.tensor([context])] # (1,block_size,d)\n",
    "        h = torch.tanh(emb.view(1, -1) @ W1 + b1)\n",
    "        logits = h @ W2 + b2\n",
    "        probs = F.softmax(logits, dim=1)\n",
    "        ix = torch.multinomial(probs, num_samples=1, generator=g).item()\n",
    "        context = context[1:] + [ix]\n",
    "        out.append(ix)\n",
    "        if ix == 0:\n",
    "            break\n",
    "    \n",
    "    print(''.join(itos[i] for i in out))"
   ]
  },
  {
   "cell_type": "code",
   "execution_count": null,
   "id": "0b63e9a8",
   "metadata": {
    "papermill": {
     "duration": 0.006934,
     "end_time": "2024-05-20T05:55:17.018606",
     "exception": false,
     "start_time": "2024-05-20T05:55:17.011672",
     "status": "completed"
    },
    "tags": []
   },
   "outputs": [],
   "source": []
  }
 ],
 "metadata": {
  "kaggle": {
   "accelerator": "none",
   "dataSources": [],
   "dockerImageVersionId": 30698,
   "isGpuEnabled": false,
   "isInternetEnabled": true,
   "language": "python",
   "sourceType": "notebook"
  },
  "kernelspec": {
   "display_name": "Python 3",
   "language": "python",
   "name": "python3"
  },
  "language_info": {
   "codemirror_mode": {
    "name": "ipython",
    "version": 3
   },
   "file_extension": ".py",
   "mimetype": "text/x-python",
   "name": "python",
   "nbconvert_exporter": "python",
   "pygments_lexer": "ipython3",
   "version": "3.10.13"
  },
  "papermill": {
   "default_parameters": {},
   "duration": 114.396187,
   "end_time": "2024-05-20T05:55:17.948446",
   "environment_variables": {},
   "exception": null,
   "input_path": "__notebook__.ipynb",
   "output_path": "__notebook__.ipynb",
   "parameters": {},
   "start_time": "2024-05-20T05:53:23.552259",
   "version": "2.5.0"
  }
 },
 "nbformat": 4,
 "nbformat_minor": 5
}
