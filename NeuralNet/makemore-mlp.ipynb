{
 "cells": [
  {
   "cell_type": "code",
   "execution_count": 1,
   "id": "37da4c88",
   "metadata": {
    "_cell_guid": "b1076dfc-b9ad-4769-8c92-a6c4dae69d19",
    "_uuid": "8f2839f25d086af736a60e9eeb907d3b93b6e0e5",
    "execution": {
     "iopub.execute_input": "2024-05-20T07:20:52.689871Z",
     "iopub.status.busy": "2024-05-20T07:20:52.689065Z",
     "iopub.status.idle": "2024-05-20T07:20:56.848514Z",
     "shell.execute_reply": "2024-05-20T07:20:56.846860Z"
    },
    "papermill": {
     "duration": 4.171924,
     "end_time": "2024-05-20T07:20:56.851500",
     "exception": false,
     "start_time": "2024-05-20T07:20:52.679576",
     "status": "completed"
    },
    "tags": []
   },
   "outputs": [],
   "source": [
    "import torch\n",
    "import random\n",
    "import torch.nn.functional as F\n",
    "import matplotlib.pyplot as plt # graphing\n",
    "%matplotlib inline"
   ]
  },
  {
   "cell_type": "code",
   "execution_count": 2,
   "id": "2b208839",
   "metadata": {
    "execution": {
     "iopub.execute_input": "2024-05-20T07:20:56.865693Z",
     "iopub.status.busy": "2024-05-20T07:20:56.865156Z",
     "iopub.status.idle": "2024-05-20T07:20:58.488559Z",
     "shell.execute_reply": "2024-05-20T07:20:58.487537Z"
    },
    "papermill": {
     "duration": 1.633394,
     "end_time": "2024-05-20T07:20:58.490999",
     "exception": false,
     "start_time": "2024-05-20T07:20:56.857605",
     "status": "completed"
    },
    "tags": []
   },
   "outputs": [
    {
     "name": "stdout",
     "output_type": "stream",
     "text": [
      "--2024-05-20 07:20:57--  https://raw.githubusercontent.com/karpathy/makemore/master/names.txt\r\n",
      "Resolving raw.githubusercontent.com (raw.githubusercontent.com)... 185.199.108.133, 185.199.109.133, 185.199.110.133, ...\r\n",
      "Connecting to raw.githubusercontent.com (raw.githubusercontent.com)|185.199.108.133|:443... connected.\r\n",
      "HTTP request sent, awaiting response... 200 OK\r\n",
      "Length: 228145 (223K) [text/plain]\r\n",
      "Saving to: 'names.txt'\r\n",
      "\r\n",
      "names.txt           100%[===================>] 222.80K  --.-KB/s    in 0.1s    \r\n",
      "\r\n",
      "2024-05-20 07:20:58 (1.82 MB/s) - 'names.txt' saved [228145/228145]\r\n",
      "\r\n"
     ]
    }
   ],
   "source": [
    "!wget https://raw.githubusercontent.com/karpathy/makemore/master/names.txt"
   ]
  },
  {
   "cell_type": "markdown",
   "id": "7e9b3fa1",
   "metadata": {
    "papermill": {
     "duration": 0.005748,
     "end_time": "2024-05-20T07:20:58.503189",
     "exception": false,
     "start_time": "2024-05-20T07:20:58.497441",
     "status": "completed"
    },
    "tags": []
   },
   "source": [
    "### Loading the Dataset"
   ]
  },
  {
   "cell_type": "code",
   "execution_count": 3,
   "id": "2dae602f",
   "metadata": {
    "execution": {
     "iopub.execute_input": "2024-05-20T07:20:58.517196Z",
     "iopub.status.busy": "2024-05-20T07:20:58.516801Z",
     "iopub.status.idle": "2024-05-20T07:20:58.529450Z",
     "shell.execute_reply": "2024-05-20T07:20:58.528357Z"
    },
    "papermill": {
     "duration": 0.022433,
     "end_time": "2024-05-20T07:20:58.531655",
     "exception": false,
     "start_time": "2024-05-20T07:20:58.509222",
     "status": "completed"
    },
    "tags": []
   },
   "outputs": [
    {
     "data": {
      "text/plain": [
       "['emma', 'olivia', 'ava', 'isabella', 'sophia', 'charlotte', 'mia', 'amelia']"
      ]
     },
     "execution_count": 3,
     "metadata": {},
     "output_type": "execute_result"
    }
   ],
   "source": [
    "words = open('names.txt', 'r').read().splitlines()\n",
    "words[:8]"
   ]
  },
  {
   "cell_type": "code",
   "execution_count": 4,
   "id": "6b9af625",
   "metadata": {
    "execution": {
     "iopub.execute_input": "2024-05-20T07:20:58.546181Z",
     "iopub.status.busy": "2024-05-20T07:20:58.545508Z",
     "iopub.status.idle": "2024-05-20T07:20:58.552156Z",
     "shell.execute_reply": "2024-05-20T07:20:58.551269Z"
    },
    "papermill": {
     "duration": 0.016354,
     "end_time": "2024-05-20T07:20:58.554319",
     "exception": false,
     "start_time": "2024-05-20T07:20:58.537965",
     "status": "completed"
    },
    "tags": []
   },
   "outputs": [
    {
     "data": {
      "text/plain": [
       "32033"
      ]
     },
     "execution_count": 4,
     "metadata": {},
     "output_type": "execute_result"
    }
   ],
   "source": [
    "# number of words\n",
    "len(words)"
   ]
  },
  {
   "cell_type": "markdown",
   "id": "1d8fba08",
   "metadata": {
    "papermill": {
     "duration": 0.005857,
     "end_time": "2024-05-20T07:20:58.566432",
     "exception": false,
     "start_time": "2024-05-20T07:20:58.560575",
     "status": "completed"
    },
    "tags": []
   },
   "source": [
    "### Building the vocabulary"
   ]
  },
  {
   "cell_type": "code",
   "execution_count": 5,
   "id": "c434ff19",
   "metadata": {
    "execution": {
     "iopub.execute_input": "2024-05-20T07:20:58.580881Z",
     "iopub.status.busy": "2024-05-20T07:20:58.580230Z",
     "iopub.status.idle": "2024-05-20T07:20:58.589163Z",
     "shell.execute_reply": "2024-05-20T07:20:58.588337Z"
    },
    "papermill": {
     "duration": 0.018862,
     "end_time": "2024-05-20T07:20:58.591533",
     "exception": false,
     "start_time": "2024-05-20T07:20:58.572671",
     "status": "completed"
    },
    "tags": []
   },
   "outputs": [],
   "source": [
    "char = sorted(list(set(''.join(words))))\n",
    "stoi = {s: i+1 for i, s in enumerate(char)}\n",
    "stoi['.'] = 0\n",
    "itos = {i: s for s, i in stoi.items()}"
   ]
  },
  {
   "cell_type": "markdown",
   "id": "41d153be",
   "metadata": {
    "papermill": {
     "duration": 0.006101,
     "end_time": "2024-05-20T07:20:58.604018",
     "exception": false,
     "start_time": "2024-05-20T07:20:58.597917",
     "status": "completed"
    },
    "tags": []
   },
   "source": [
    "### Building The DataSet"
   ]
  },
  {
   "cell_type": "code",
   "execution_count": 6,
   "id": "81d1eec5",
   "metadata": {
    "execution": {
     "iopub.execute_input": "2024-05-20T07:20:58.618370Z",
     "iopub.status.busy": "2024-05-20T07:20:58.617739Z",
     "iopub.status.idle": "2024-05-20T07:20:58.625551Z",
     "shell.execute_reply": "2024-05-20T07:20:58.624411Z"
    },
    "papermill": {
     "duration": 0.018097,
     "end_time": "2024-05-20T07:20:58.628280",
     "exception": false,
     "start_time": "2024-05-20T07:20:58.610183",
     "status": "completed"
    },
    "tags": []
   },
   "outputs": [],
   "source": [
    "def build_dataset(words: str, context_len: int, visualize: bool = False) -> (torch.int64, torch.int64):\n",
    "    context_length = context_len # number of characters we take as input to output the next one\n",
    "    X, Y = [], []\n",
    "    \n",
    "    for w in words:\n",
    "        \n",
    "        context = [0]*context_length\n",
    "        for ch in w+'.':\n",
    "            ix = stoi[ch]\n",
    "            X.append(context)\n",
    "            Y.append(ix)\n",
    "            \n",
    "            if (visualize):\n",
    "                print (''.join(itos[i] for i in context), '--->', itos[ix])\n",
    "            context = context[1:] + [ix]\n",
    "    \n",
    "    X = torch.tensor(X)\n",
    "    Y = torch.tensor(Y)\n",
    "\n",
    "    return X, Y"
   ]
  },
  {
   "cell_type": "markdown",
   "id": "7f3da36e",
   "metadata": {
    "papermill": {
     "duration": 0.005762,
     "end_time": "2024-05-20T07:20:58.641272",
     "exception": false,
     "start_time": "2024-05-20T07:20:58.635510",
     "status": "completed"
    },
    "tags": []
   },
   "source": [
    "### Train Test Split"
   ]
  },
  {
   "cell_type": "code",
   "execution_count": 7,
   "id": "6f7eaac8",
   "metadata": {
    "execution": {
     "iopub.execute_input": "2024-05-20T07:20:58.655133Z",
     "iopub.status.busy": "2024-05-20T07:20:58.654683Z",
     "iopub.status.idle": "2024-05-20T07:20:58.661710Z",
     "shell.execute_reply": "2024-05-20T07:20:58.660538Z"
    },
    "papermill": {
     "duration": 0.017017,
     "end_time": "2024-05-20T07:20:58.664277",
     "exception": false,
     "start_time": "2024-05-20T07:20:58.647260",
     "status": "completed"
    },
    "tags": []
   },
   "outputs": [],
   "source": [
    "def train_dev_test_split(words: list[str], context_length: int = 1,n_train: int = 0.8, n_test: int = 0.1, seed: int = 42) -> list[torch.tensor]:\n",
    "    random.seed(seed)\n",
    "    random.shuffle(words)\n",
    "    n1 = int(n_train*len(words))\n",
    "    n2 = int((n_train+n_test)*len(words))\n",
    "\n",
    "    Xtr, Ytr = build_dataset(words[:n1], context_length)\n",
    "    Xdev, Ydev = build_dataset(words[n1:n2], context_length)\n",
    "    Xte, Yte = build_dataset(words[n2:], context_length)\n",
    "    \n",
    "    return Xtr, Ytr, Xdev, Ydev, Xte, Yte"
   ]
  },
  {
   "cell_type": "markdown",
   "id": "ebf6b95f",
   "metadata": {
    "papermill": {
     "duration": 0.005867,
     "end_time": "2024-05-20T07:20:58.677036",
     "exception": false,
     "start_time": "2024-05-20T07:20:58.671169",
     "status": "completed"
    },
    "tags": []
   },
   "source": [
    "### Random Initialization"
   ]
  },
  {
   "cell_type": "code",
   "execution_count": 8,
   "id": "53ea8b97",
   "metadata": {
    "execution": {
     "iopub.execute_input": "2024-05-20T07:20:58.691742Z",
     "iopub.status.busy": "2024-05-20T07:20:58.691305Z",
     "iopub.status.idle": "2024-05-20T07:20:58.698694Z",
     "shell.execute_reply": "2024-05-20T07:20:58.697415Z"
    },
    "papermill": {
     "duration": 0.017916,
     "end_time": "2024-05-20T07:20:58.701051",
     "exception": false,
     "start_time": "2024-05-20T07:20:58.683135",
     "status": "completed"
    },
    "tags": []
   },
   "outputs": [],
   "source": [
    "def initialize_parameters(char: list[str], embedding_size: int, context_length: int, hidden_layer_length: int = 200,seed: int = 2147483647) -> torch.tensor:\n",
    "    g = torch.Generator().manual_seed(seed)\n",
    "    \n",
    "    vocab_length = len(char)+1\n",
    "    C = torch.randn((vocab_length, embedding_size), generator = g) # embedding matrix, with size (vocab_size, embedding_size)\n",
    "    W1 = torch.randn((context_length*embedding_size, hidden_layer_length), generator = g)\n",
    "    b1 = torch.randn(hidden_layer_length, generator = g)\n",
    "    W2 = torch.randn((hidden_layer_length, vocab_length), generator = g)\n",
    "    b2 = torch.randn(vocab_length, generator = g)\n",
    "    \n",
    "    return C, W1, b1, W2, b2"
   ]
  },
  {
   "cell_type": "markdown",
   "id": "33f3a7d3",
   "metadata": {
    "papermill": {
     "duration": 0.006029,
     "end_time": "2024-05-20T07:20:58.713316",
     "exception": false,
     "start_time": "2024-05-20T07:20:58.707287",
     "status": "completed"
    },
    "tags": []
   },
   "source": [
    "#### Params counts"
   ]
  },
  {
   "cell_type": "code",
   "execution_count": 9,
   "id": "88fe0646",
   "metadata": {
    "execution": {
     "iopub.execute_input": "2024-05-20T07:20:58.727369Z",
     "iopub.status.busy": "2024-05-20T07:20:58.726951Z",
     "iopub.status.idle": "2024-05-20T07:20:58.732189Z",
     "shell.execute_reply": "2024-05-20T07:20:58.731080Z"
    },
    "papermill": {
     "duration": 0.014757,
     "end_time": "2024-05-20T07:20:58.734256",
     "exception": false,
     "start_time": "2024-05-20T07:20:58.719499",
     "status": "completed"
    },
    "tags": []
   },
   "outputs": [],
   "source": [
    "def params_count(parameters: list[torch.tensor]) -> int:\n",
    "    return sum(p.nelement() for p in parameters) # number of params"
   ]
  },
  {
   "cell_type": "markdown",
   "id": "f600d32d",
   "metadata": {
    "papermill": {
     "duration": 0.005909,
     "end_time": "2024-05-20T07:20:58.746599",
     "exception": false,
     "start_time": "2024-05-20T07:20:58.740690",
     "status": "completed"
    },
    "tags": []
   },
   "source": [
    "### Optimization"
   ]
  },
  {
   "cell_type": "code",
   "execution_count": 10,
   "id": "13615f11",
   "metadata": {
    "execution": {
     "iopub.execute_input": "2024-05-20T07:20:58.761415Z",
     "iopub.status.busy": "2024-05-20T07:20:58.760547Z",
     "iopub.status.idle": "2024-05-20T07:20:58.772826Z",
     "shell.execute_reply": "2024-05-20T07:20:58.771416Z"
    },
    "papermill": {
     "duration": 0.022789,
     "end_time": "2024-05-20T07:20:58.775714",
     "exception": false,
     "start_time": "2024-05-20T07:20:58.752925",
     "status": "completed"
    },
    "tags": []
   },
   "outputs": [],
   "source": [
    "def optimize(parameters: list[torch.tensor], Xtr: torch.tensor, Ytr: torch.tensor, num_iterations:int, var_lr: bool = False, diagnose: bool = False) -> list[torch.tensor]:\n",
    "    # setting up\n",
    "    C, W1, b1, W2, b2 = parameters\n",
    "    for p in parameters:\n",
    "        p.requires_grad = True\n",
    "    \n",
    "    if var_lr:\n",
    "        lre = torch.linspace(-3, 0, 1000)\n",
    "        lrs = 10**lre\n",
    "        lri = []\n",
    "    \n",
    "    # printing\n",
    "    if diagnose:\n",
    "        lossi = []\n",
    "        stepi = []\n",
    "    \n",
    "    for i in range(num_iterations):\n",
    "    \n",
    "        # minibatch contruct\n",
    "        ix = torch.randint(0, Xtr.shape[0], (32,)) # takes random 32 inputs from the Xtr\n",
    "\n",
    "        # forward pass\n",
    "        # Xtr[ix] takes the ix^th index, and considers the input values, three context at that index\n",
    " \n",
    "        # Thus, here, ix belongs to range(0, num_char)\n",
    "        # Xtr.shape = [num_char, context_length] and outputs are in the range (vocab_length)\n",
    "        # C.shape = [vocab_length, embedding size] and outputs are embeddings, which seem to be an updated version on one_hot\n",
    "        # embedding.shape = [batch_size, context_length, embedding_size] and outputs are embeddings!\n",
    "        emb = C[Xtr[ix]] # (32, 3, 10)\n",
    "        # thus here, W1 must be [embedding_size, output_neurons]\n",
    "        h = torch.tanh(emb.view(-1, 30) @ W1 + b1) # (32, 100) for hidden_layer h\n",
    "        # thus here, W2 must be [input_neurons, output_neurons]\n",
    "        logits = h @ W2 + b2 # (32, 27) [batch_size, vocab_length]\n",
    "        loss = F.cross_entropy(logits, Ytr[ix])\n",
    "        # print(loss.item())\n",
    "    \n",
    "        # backward pass\n",
    "        for p in parameters:\n",
    "            p.grad = None\n",
    "        loss.backward()\n",
    "    \n",
    "        if (i%(num_iterations*0.1) == 0):\n",
    "            print(f\"===============\\nepoch = {i}\\n===============\")\n",
    "    \n",
    "        # update\n",
    "        # lr = lrs[i]\n",
    "        lr = 0.1 if i < 100_000 else 0.01\n",
    "        for p in parameters:\n",
    "            p.data += -lr*p.grad\n",
    "        \n",
    "        # track stats\n",
    "        if (diagnose):\n",
    "            stepi.append(i)\n",
    "            lossi.append(loss.log10().item())\n",
    "            if (var_lr):\n",
    "                lri.append(lre[i])\n",
    "        \n",
    "    if (diagnose):\n",
    "        print(loss.item())\n",
    "        plt.plot(stepi, lossi)\n",
    "        \n",
    "    return parameters"
   ]
  },
  {
   "cell_type": "code",
   "execution_count": 11,
   "id": "2fa930ba",
   "metadata": {
    "execution": {
     "iopub.execute_input": "2024-05-20T07:20:58.790265Z",
     "iopub.status.busy": "2024-05-20T07:20:58.789864Z",
     "iopub.status.idle": "2024-05-20T07:20:58.796249Z",
     "shell.execute_reply": "2024-05-20T07:20:58.795078Z"
    },
    "papermill": {
     "duration": 0.016382,
     "end_time": "2024-05-20T07:20:58.798379",
     "exception": false,
     "start_time": "2024-05-20T07:20:58.781997",
     "status": "completed"
    },
    "tags": []
   },
   "outputs": [],
   "source": [
    "def calculate_loss(X: torch.tensor, Y: torch.tensor, params: list[torch.tensor]):\n",
    "    # training loss\n",
    "    C, W1, b1, W2, b2 = params\n",
    "    emb = C[X] # (182625, 3, 10)\n",
    "    h = torch.tanh(emb.view(-1, 30) @ W1 + b1) # (182625, 100)\n",
    "    logits = h @ W2 + b2 # (182625, 27)\n",
    "    loss = F.cross_entropy(logits, Y)\n",
    "    return loss"
   ]
  },
  {
   "cell_type": "code",
   "execution_count": 12,
   "id": "5fdab330",
   "metadata": {
    "execution": {
     "iopub.execute_input": "2024-05-20T07:20:58.813103Z",
     "iopub.status.busy": "2024-05-20T07:20:58.812112Z",
     "iopub.status.idle": "2024-05-20T07:20:58.820595Z",
     "shell.execute_reply": "2024-05-20T07:20:58.819791Z"
    },
    "papermill": {
     "duration": 0.018269,
     "end_time": "2024-05-20T07:20:58.822741",
     "exception": false,
     "start_time": "2024-05-20T07:20:58.804472",
     "status": "completed"
    },
    "tags": []
   },
   "outputs": [],
   "source": [
    "def sample(params: list[torch.tensor], context_length: int = 1):\n",
    "    # sample from the model\n",
    "    g = torch.Generator().manual_seed(2147483647 + 10)\n",
    "    C, W1, b1, W2, b2 = params\n",
    "\n",
    "    for _ in range(20):\n",
    "\n",
    "        out = []\n",
    "        context = [0] * context_length # initialize with all ...\n",
    "        while True:\n",
    "            emb = C[torch.tensor([context])] # (1,block_size,d)\n",
    "            h = torch.tanh(emb.view(1, -1) @ W1 + b1)\n",
    "            logits = h @ W2 + b2\n",
    "            probs = F.softmax(logits, dim=1)\n",
    "            ix = torch.multinomial(probs, num_samples=1, generator=g).item()\n",
    "            context = context[1:] + [ix]\n",
    "            out.append(ix)\n",
    "            if ix == 0:\n",
    "                break\n",
    "\n",
    "        print(''.join(itos[i] for i in out))"
   ]
  },
  {
   "cell_type": "code",
   "execution_count": 13,
   "id": "5c261d66",
   "metadata": {
    "execution": {
     "iopub.execute_input": "2024-05-20T07:20:58.837335Z",
     "iopub.status.busy": "2024-05-20T07:20:58.836569Z",
     "iopub.status.idle": "2024-05-20T07:20:58.844641Z",
     "shell.execute_reply": "2024-05-20T07:20:58.843714Z"
    },
    "papermill": {
     "duration": 0.018177,
     "end_time": "2024-05-20T07:20:58.847044",
     "exception": false,
     "start_time": "2024-05-20T07:20:58.828867",
     "status": "completed"
    },
    "tags": []
   },
   "outputs": [],
   "source": [
    "def model(words: list[str], embedding_size: int, context_length: int, num_iterations:int, diagnose: bool = True) -> list[torch.tensor]:\n",
    "    # building vocab\n",
    "    char = sorted(list(set(''.join(words))))\n",
    "    stoi = {s: i+1 for i, s in enumerate(char)}\n",
    "    stoi['.'] = 0\n",
    "    itos = {i: s for s, i in stoi.items()}\n",
    "    \n",
    "    Xtr, Ytr, Xdev, Ydev, Xte, Yte = train_dev_test_split(words, context_length)\n",
    "    params = initialize_parameters(char, embedding_size, context_length)\n",
    "    # print(params_count(params))\n",
    "    params = optimize(params, Xtr, Ytr, num_iterations, diagnose = diagnose)\n",
    "    \n",
    "    if (diagnose):\n",
    "        print(f\"training loss: {calculate_loss(Xtr, Ytr, params)}\")\n",
    "        print(f\"dev loss: {calculate_loss(Xdev, Ydev, params)}\")\n",
    "        print(f\"test loss: {calculate_loss(Xte, Yte, params)}\")\n",
    "    return params"
   ]
  },
  {
   "cell_type": "markdown",
   "id": "f2b7e034",
   "metadata": {
    "papermill": {
     "duration": 0.006383,
     "end_time": "2024-05-20T07:20:58.859661",
     "exception": false,
     "start_time": "2024-05-20T07:20:58.853278",
     "status": "completed"
    },
    "tags": []
   },
   "source": [
    "Testing"
   ]
  },
  {
   "cell_type": "code",
   "execution_count": 14,
   "id": "b44d62f3",
   "metadata": {
    "execution": {
     "iopub.execute_input": "2024-05-20T07:20:58.874672Z",
     "iopub.status.busy": "2024-05-20T07:20:58.874022Z",
     "iopub.status.idle": "2024-05-20T07:22:43.154081Z",
     "shell.execute_reply": "2024-05-20T07:22:43.152854Z"
    },
    "papermill": {
     "duration": 104.29032,
     "end_time": "2024-05-20T07:22:43.156693",
     "exception": false,
     "start_time": "2024-05-20T07:20:58.866373",
     "status": "completed"
    },
    "tags": []
   },
   "outputs": [
    {
     "name": "stdout",
     "output_type": "stream",
     "text": [
      "===============\n",
      "epoch = 0\n",
      "===============\n",
      "===============\n",
      "epoch = 20000\n",
      "===============\n",
      "===============\n",
      "epoch = 40000\n",
      "===============\n",
      "===============\n",
      "epoch = 60000\n",
      "===============\n",
      "===============\n",
      "epoch = 80000\n",
      "===============\n",
      "===============\n",
      "epoch = 100000\n",
      "===============\n",
      "===============\n",
      "epoch = 120000\n",
      "===============\n",
      "===============\n",
      "epoch = 140000\n",
      "===============\n",
      "===============\n",
      "epoch = 160000\n",
      "===============\n",
      "===============\n",
      "epoch = 180000\n",
      "===============\n",
      "2.1484951972961426\n",
      "training loss: 2.123617172241211\n",
      "dev loss: 2.1687021255493164\n",
      "test loss: 2.163148880004883\n"
     ]
    },
    {
     "data": {
      "image/png": "[encoded data removed]",
      "text/plain": [
       "<Figure size 640x480 with 1 Axes>"
      ]
     },
     "metadata": {},
     "output_type": "display_data"
    }
   ],
   "source": [
    "params = model(words, embedding_size = 10, context_length = 3, num_iterations = 200_000, diagnose = True)"
   ]
  },
  {
   "cell_type": "markdown",
   "id": "b4fbb076",
   "metadata": {
    "papermill": {
     "duration": 0.007147,
     "end_time": "2024-05-20T07:22:43.171297",
     "exception": false,
     "start_time": "2024-05-20T07:22:43.164150",
     "status": "completed"
    },
    "tags": []
   },
   "source": [
    "Predicting"
   ]
  },
  {
   "cell_type": "code",
   "execution_count": 15,
   "id": "23b1eef1",
   "metadata": {
    "execution": {
     "iopub.execute_input": "2024-05-20T07:22:43.188857Z",
     "iopub.status.busy": "2024-05-20T07:22:43.188461Z",
     "iopub.status.idle": "2024-05-20T07:22:43.232908Z",
     "shell.execute_reply": "2024-05-20T07:22:43.231255Z"
    },
    "papermill": {
     "duration": 0.056075,
     "end_time": "2024-05-20T07:22:43.235353",
     "exception": false,
     "start_time": "2024-05-20T07:22:43.179278",
     "status": "completed"
    },
    "tags": []
   },
   "outputs": [
    {
     "name": "stdout",
     "output_type": "stream",
     "text": [
      "moha.\n",
      "kmyah.\n",
      "see.\n",
      "med.\n",
      "rylla.\n",
      "emmastendraeg.\n",
      "adelyn.\n",
      "eliah.\n",
      "milopi.\n",
      "eden.\n",
      "van.\n",
      "aaraelyn.\n",
      "malaia.\n",
      "noshubnrgshiries.\n",
      "kindreelynn.\n",
      "nophirous.\n",
      "kynder.\n",
      "yaruemela.\n",
      "kayjahshella.\n",
      "hil.\n"
     ]
    }
   ],
   "source": [
    "sample(params, 3)"
   ]
  },
  {
   "cell_type": "code",
   "execution_count": null,
   "id": "f66f9a6b",
   "metadata": {
    "papermill": {
     "duration": 0.007207,
     "end_time": "2024-05-20T07:22:43.250166",
     "exception": false,
     "start_time": "2024-05-20T07:22:43.242959",
     "status": "completed"
    },
    "tags": []
   },
   "outputs": [],
   "source": []
  }
 ],
 "metadata": {
  "kaggle": {
   "accelerator": "none",
   "dataSources": [],
   "dockerImageVersionId": 30698,
   "isGpuEnabled": false,
   "isInternetEnabled": true,
   "language": "python",
   "sourceType": "notebook"
  },
  "kernelspec": {
   "display_name": "Python 3",
   "language": "python",
   "name": "python3"
  },
  "language_info": {
   "codemirror_mode": {
    "name": "ipython",
    "version": 3
   },
   "file_extension": ".py",
   "mimetype": "text/x-python",
   "name": "python",
   "nbconvert_exporter": "python",
   "pygments_lexer": "ipython3",
   "version": "3.10.13"
  },
  "papermill": {
   "default_parameters": {},
   "duration": 114.454478,
   "end_time": "2024-05-20T07:22:44.180175",
   "environment_variables": {},
   "exception": null,
   "input_path": "__notebook__.ipynb",
   "output_path": "__notebook__.ipynb",
   "parameters": {},
   "start_time": "2024-05-20T07:20:49.725697",
   "version": "2.5.0"
  }
 },
 "nbformat": 4,
 "nbformat_minor": 5
}
