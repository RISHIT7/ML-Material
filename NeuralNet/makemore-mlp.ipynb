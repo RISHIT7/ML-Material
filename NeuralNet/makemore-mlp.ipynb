{
 "cells": [
  {
   "cell_type": "code",
   "execution_count": 1,
   "id": "887e363b",
   "metadata": {
    "_cell_guid": "b1076dfc-b9ad-4769-8c92-a6c4dae69d19",
    "_uuid": "8f2839f25d086af736a60e9eeb907d3b93b6e0e5",
    "execution": {
     "iopub.execute_input": "2024-05-20T11:03:48.435940Z",
     "iopub.status.busy": "2024-05-20T11:03:48.435171Z",
     "iopub.status.idle": "2024-05-20T11:03:52.712379Z",
     "shell.execute_reply": "2024-05-20T11:03:52.710949Z"
    },
    "papermill": {
     "duration": 4.293373,
     "end_time": "2024-05-20T11:03:52.715665",
     "exception": false,
     "start_time": "2024-05-20T11:03:48.422292",
     "status": "completed"
    },
    "tags": []
   },
   "outputs": [],
   "source": [
    "import torch\n",
    "import random\n",
    "import torch.nn.functional as F\n",
    "import matplotlib.pyplot as plt # graphing\n",
    "%matplotlib inline"
   ]
  },
  {
   "cell_type": "code",
   "execution_count": 2,
   "id": "83fa14eb",
   "metadata": {
    "execution": {
     "iopub.execute_input": "2024-05-20T11:03:52.737957Z",
     "iopub.status.busy": "2024-05-20T11:03:52.736959Z",
     "iopub.status.idle": "2024-05-20T11:03:54.085351Z",
     "shell.execute_reply": "2024-05-20T11:03:54.083621Z"
    },
    "papermill": {
     "duration": 1.36425,
     "end_time": "2024-05-20T11:03:54.089669",
     "exception": false,
     "start_time": "2024-05-20T11:03:52.725419",
     "status": "completed"
    },
    "tags": []
   },
   "outputs": [
    {
     "name": "stdout",
     "output_type": "stream",
     "text": [
      "--2024-05-20 11:03:53--  https://raw.githubusercontent.com/karpathy/makemore/master/names.txt\r\n",
      "Resolving raw.githubusercontent.com (raw.githubusercontent.com)... 185.199.111.133, 185.199.110.133, 185.199.109.133, ...\r\n",
      "Connecting to raw.githubusercontent.com (raw.githubusercontent.com)|185.199.111.133|:443... connected.\r\n",
      "HTTP request sent, awaiting response... 200 OK\r\n",
      "Length: 228145 (223K) [text/plain]\r\n",
      "Saving to: 'names.txt'\r\n",
      "\r\n",
      "names.txt           100%[===================>] 222.80K  --.-KB/s    in 0.03s   \r\n",
      "\r\n",
      "2024-05-20 11:03:53 (7.94 MB/s) - 'names.txt' saved [228145/228145]\r\n",
      "\r\n"
     ]
    }
   ],
   "source": [
    "!wget https://raw.githubusercontent.com/karpathy/makemore/master/names.txt"
   ]
  },
  {
   "cell_type": "markdown",
   "id": "18655717",
   "metadata": {
    "papermill": {
     "duration": 0.015685,
     "end_time": "2024-05-20T11:03:54.121321",
     "exception": false,
     "start_time": "2024-05-20T11:03:54.105636",
     "status": "completed"
    },
    "tags": []
   },
   "source": [
    "### Loading the Dataset"
   ]
  },
  {
   "cell_type": "code",
   "execution_count": 3,
   "id": "bf597bbe",
   "metadata": {
    "execution": {
     "iopub.execute_input": "2024-05-20T11:03:54.146890Z",
     "iopub.status.busy": "2024-05-20T11:03:54.146333Z",
     "iopub.status.idle": "2024-05-20T11:03:54.165111Z",
     "shell.execute_reply": "2024-05-20T11:03:54.163552Z"
    },
    "papermill": {
     "duration": 0.034777,
     "end_time": "2024-05-20T11:03:54.168248",
     "exception": false,
     "start_time": "2024-05-20T11:03:54.133471",
     "status": "completed"
    },
    "tags": []
   },
   "outputs": [
    {
     "data": {
      "text/plain": [
       "['emma', 'olivia', 'ava', 'isabella', 'sophia', 'charlotte', 'mia', 'amelia']"
      ]
     },
     "execution_count": 3,
     "metadata": {},
     "output_type": "execute_result"
    }
   ],
   "source": [
    "words = open('names.txt', 'r').read().splitlines()\n",
    "words[:8]"
   ]
  },
  {
   "cell_type": "code",
   "execution_count": 4,
   "id": "29ea1c78",
   "metadata": {
    "execution": {
     "iopub.execute_input": "2024-05-20T11:03:54.192559Z",
     "iopub.status.busy": "2024-05-20T11:03:54.192076Z",
     "iopub.status.idle": "2024-05-20T11:03:54.198767Z",
     "shell.execute_reply": "2024-05-20T11:03:54.197763Z"
    },
    "papermill": {
     "duration": 0.022662,
     "end_time": "2024-05-20T11:03:54.201613",
     "exception": false,
     "start_time": "2024-05-20T11:03:54.178951",
     "status": "completed"
    },
    "tags": []
   },
   "outputs": [
    {
     "data": {
      "text/plain": [
       "32033"
      ]
     },
     "execution_count": 4,
     "metadata": {},
     "output_type": "execute_result"
    }
   ],
   "source": [
    "# number of words\n",
    "len(words)"
   ]
  },
  {
   "cell_type": "markdown",
   "id": "3c250ffb",
   "metadata": {
    "papermill": {
     "duration": 0.010213,
     "end_time": "2024-05-20T11:03:54.222022",
     "exception": false,
     "start_time": "2024-05-20T11:03:54.211809",
     "status": "completed"
    },
    "tags": []
   },
   "source": [
    "### Building the vocabulary"
   ]
  },
  {
   "cell_type": "code",
   "execution_count": 5,
   "id": "5c9ad0e4",
   "metadata": {
    "execution": {
     "iopub.execute_input": "2024-05-20T11:03:54.247125Z",
     "iopub.status.busy": "2024-05-20T11:03:54.246535Z",
     "iopub.status.idle": "2024-05-20T11:03:54.258642Z",
     "shell.execute_reply": "2024-05-20T11:03:54.257205Z"
    },
    "papermill": {
     "duration": 0.029037,
     "end_time": "2024-05-20T11:03:54.261657",
     "exception": false,
     "start_time": "2024-05-20T11:03:54.232620",
     "status": "completed"
    },
    "tags": []
   },
   "outputs": [],
   "source": [
    "char = sorted(list(set(''.join(words))))\n",
    "stoi = {s: i+1 for i, s in enumerate(char)}\n",
    "stoi['.'] = 0\n",
    "itos = {i: s for s, i in stoi.items()}"
   ]
  },
  {
   "cell_type": "markdown",
   "id": "984575f0",
   "metadata": {
    "papermill": {
     "duration": 0.010759,
     "end_time": "2024-05-20T11:03:54.283189",
     "exception": false,
     "start_time": "2024-05-20T11:03:54.272430",
     "status": "completed"
    },
    "tags": []
   },
   "source": [
    "### Building The DataSet"
   ]
  },
  {
   "cell_type": "code",
   "execution_count": 6,
   "id": "837f4a31",
   "metadata": {
    "execution": {
     "iopub.execute_input": "2024-05-20T11:03:54.306443Z",
     "iopub.status.busy": "2024-05-20T11:03:54.305905Z",
     "iopub.status.idle": "2024-05-20T11:03:54.317376Z",
     "shell.execute_reply": "2024-05-20T11:03:54.315855Z"
    },
    "papermill": {
     "duration": 0.026755,
     "end_time": "2024-05-20T11:03:54.320269",
     "exception": false,
     "start_time": "2024-05-20T11:03:54.293514",
     "status": "completed"
    },
    "tags": []
   },
   "outputs": [],
   "source": [
    "def build_dataset(words: str, context_len: int, visualize: bool = False) -> (torch.int64, torch.int64):\n",
    "    context_length = context_len # number of characters we take as input to output the next one\n",
    "    X, Y = [], []\n",
    "    \n",
    "    for w in words:\n",
    "        \n",
    "        context = [0]*context_length\n",
    "        for ch in w+'.':\n",
    "            ix = stoi[ch]\n",
    "            X.append(context)\n",
    "            Y.append(ix)\n",
    "            \n",
    "            if (visualize):\n",
    "                print (''.join(itos[i] for i in context), '--->', itos[ix])\n",
    "            context = context[1:] + [ix]\n",
    "    \n",
    "    X = torch.tensor(X)\n",
    "    Y = torch.tensor(Y)\n",
    "\n",
    "    return X, Y"
   ]
  },
  {
   "cell_type": "markdown",
   "id": "43e509f4",
   "metadata": {
    "papermill": {
     "duration": 0.009821,
     "end_time": "2024-05-20T11:03:54.340585",
     "exception": false,
     "start_time": "2024-05-20T11:03:54.330764",
     "status": "completed"
    },
    "tags": []
   },
   "source": [
    "### Train Test Split"
   ]
  },
  {
   "cell_type": "code",
   "execution_count": 7,
   "id": "d856203a",
   "metadata": {
    "execution": {
     "iopub.execute_input": "2024-05-20T11:03:54.363319Z",
     "iopub.status.busy": "2024-05-20T11:03:54.362810Z",
     "iopub.status.idle": "2024-05-20T11:03:54.372197Z",
     "shell.execute_reply": "2024-05-20T11:03:54.370787Z"
    },
    "papermill": {
     "duration": 0.024267,
     "end_time": "2024-05-20T11:03:54.375039",
     "exception": false,
     "start_time": "2024-05-20T11:03:54.350772",
     "status": "completed"
    },
    "tags": []
   },
   "outputs": [],
   "source": [
    "def train_dev_test_split(words: list[str], context_length: int = 1,n_train: int = 0.8, n_test: int = 0.1, seed: int = 42) -> list[torch.tensor]:\n",
    "    random.seed(seed)\n",
    "    random.shuffle(words)\n",
    "    n1 = int(n_train*len(words))\n",
    "    n2 = int((n_train+n_test)*len(words))\n",
    "\n",
    "    Xtr, Ytr = build_dataset(words[:n1], context_length)\n",
    "    Xdev, Ydev = build_dataset(words[n1:n2], context_length)\n",
    "    Xte, Yte = build_dataset(words[n2:], context_length)\n",
    "    \n",
    "    return Xtr, Ytr, Xdev, Ydev, Xte, Yte"
   ]
  },
  {
   "cell_type": "markdown",
   "id": "0ab7d50d",
   "metadata": {
    "papermill": {
     "duration": 0.009711,
     "end_time": "2024-05-20T11:03:54.395322",
     "exception": false,
     "start_time": "2024-05-20T11:03:54.385611",
     "status": "completed"
    },
    "tags": []
   },
   "source": [
    "### Random Initialization"
   ]
  },
  {
   "cell_type": "code",
   "execution_count": 8,
   "id": "7e39684b",
   "metadata": {
    "execution": {
     "iopub.execute_input": "2024-05-20T11:03:54.418453Z",
     "iopub.status.busy": "2024-05-20T11:03:54.417947Z",
     "iopub.status.idle": "2024-05-20T11:03:54.427306Z",
     "shell.execute_reply": "2024-05-20T11:03:54.425871Z"
    },
    "papermill": {
     "duration": 0.024912,
     "end_time": "2024-05-20T11:03:54.430374",
     "exception": false,
     "start_time": "2024-05-20T11:03:54.405462",
     "status": "completed"
    },
    "tags": []
   },
   "outputs": [],
   "source": [
    "def initialize_parameters(char: list[str], embedding_size: int, context_length: int, hidden_layer_length: int = 200,seed: int = 2147483647) -> torch.tensor:\n",
    "    g = torch.Generator().manual_seed(seed)\n",
    "    \n",
    "    vocab_length = len(char)+1\n",
    "    C = torch.randn((vocab_length, embedding_size), generator = g) # embedding matrix, with size (vocab_size, embedding_size)\n",
    "    W1 = torch.randn((context_length*embedding_size, hidden_layer_length), generator = g) * 0.01\n",
    "    b1 = torch.randn(hidden_layer_length, generator = g)\n",
    "    W2 = torch.randn((hidden_layer_length, vocab_length), generator = g) * 0.01\n",
    "    b2 = torch.randn(vocab_length, generator = g)\n",
    "    \n",
    "    return C, W1, b1, W2, b2"
   ]
  },
  {
   "cell_type": "markdown",
   "id": "01110a15",
   "metadata": {
    "papermill": {
     "duration": 0.009724,
     "end_time": "2024-05-20T11:03:54.450653",
     "exception": false,
     "start_time": "2024-05-20T11:03:54.440929",
     "status": "completed"
    },
    "tags": []
   },
   "source": [
    "#### Params counts"
   ]
  },
  {
   "cell_type": "code",
   "execution_count": 9,
   "id": "4b3fee3e",
   "metadata": {
    "execution": {
     "iopub.execute_input": "2024-05-20T11:03:54.474406Z",
     "iopub.status.busy": "2024-05-20T11:03:54.473891Z",
     "iopub.status.idle": "2024-05-20T11:03:54.479888Z",
     "shell.execute_reply": "2024-05-20T11:03:54.478626Z"
    },
    "papermill": {
     "duration": 0.020773,
     "end_time": "2024-05-20T11:03:54.482398",
     "exception": false,
     "start_time": "2024-05-20T11:03:54.461625",
     "status": "completed"
    },
    "tags": []
   },
   "outputs": [],
   "source": [
    "def params_count(parameters: list[torch.tensor]) -> int:\n",
    "    return sum(p.nelement() for p in parameters) # number of params"
   ]
  },
  {
   "cell_type": "markdown",
   "id": "fef0d548",
   "metadata": {
    "papermill": {
     "duration": 0.010426,
     "end_time": "2024-05-20T11:03:54.503062",
     "exception": false,
     "start_time": "2024-05-20T11:03:54.492636",
     "status": "completed"
    },
    "tags": []
   },
   "source": [
    "### Optimization"
   ]
  },
  {
   "cell_type": "code",
   "execution_count": 10,
   "id": "83d419a8",
   "metadata": {
    "execution": {
     "iopub.execute_input": "2024-05-20T11:03:54.525579Z",
     "iopub.status.busy": "2024-05-20T11:03:54.525122Z",
     "iopub.status.idle": "2024-05-20T11:03:54.542475Z",
     "shell.execute_reply": "2024-05-20T11:03:54.541225Z"
    },
    "papermill": {
     "duration": 0.032344,
     "end_time": "2024-05-20T11:03:54.545480",
     "exception": false,
     "start_time": "2024-05-20T11:03:54.513136",
     "status": "completed"
    },
    "tags": []
   },
   "outputs": [],
   "source": [
    "def optimize(parameters: list[torch.tensor], Xtr: torch.tensor, Ytr: torch.tensor, num_iterations:int, embedding_size:int , context_length:int,var_lr: bool = False, diagnose: bool = False) -> list[torch.tensor]:\n",
    "    # setting up\n",
    "    C, W1, b1, W2, b2 = parameters\n",
    "    for p in parameters:\n",
    "        p.requires_grad = True\n",
    "    \n",
    "    if var_lr:\n",
    "        lre = torch.linspace(-3, 0, num_iterations)\n",
    "        lrs = 10**lre\n",
    "        lri = []\n",
    "    \n",
    "    # printing\n",
    "    if diagnose:\n",
    "        lossi = []\n",
    "        stepi = []\n",
    "    \n",
    "    for i in range(num_iterations):\n",
    "    \n",
    "        # minibatch contruct\n",
    "        ix = torch.randint(0, Xtr.shape[0], (32,)) # takes random 32 inputs from the Xtr\n",
    "\n",
    "        # forward pass\n",
    "        # Xtr[ix] takes the ix^th index, and considers the input values, three context at that index\n",
    " \n",
    "        # Thus, here, ix belongs to range(0, num_char)\n",
    "        # Xtr.shape = [num_char, context_length] and outputs are in the range (vocab_length)\n",
    "        # C.shape = [vocab_length, embedding size] and outputs are embeddings, which seem to be an updated version on one_hot\n",
    "        # embedding.shape = [batch_size, context_length, embedding_size] and outputs are embeddings!\n",
    "        emb = C[Xtr[ix]] # (32, 3, 10)\n",
    "        # thus here, W1 must be [embedding_size, output_neurons]\n",
    "        h = F.relu(emb.view(-1, embedding_size*context_length) @ W1 + b1) # (32, 100) for hidden_layer h\n",
    "        # thus here, W2 must be [input_neurons, output_neurons]\n",
    "        logits = h @ W2 + b2 # (32, 27) [batch_size, vocab_length]\n",
    "        loss = F.cross_entropy(logits, Ytr[ix])\n",
    "        # print(loss.item())\n",
    "    \n",
    "        # backward pass\n",
    "        for p in parameters:\n",
    "            p.grad = None\n",
    "        loss.backward()\n",
    "    \n",
    "        if (i%(num_iterations*0.1) == 0):\n",
    "            print(f\"===============\\nepoch = {i} loss = {loss.item()}\\n===============\")\n",
    "    \n",
    "        # update\n",
    "        if (var_lr):\n",
    "            lr = lrs[i]\n",
    "        else:\n",
    "            lr = 0.1 if i < num_iterations*(0.15) else 0.01\n",
    "        for p in parameters:\n",
    "            p.data += -lr*p.grad\n",
    "        \n",
    "        # track stats\n",
    "        if (diagnose):\n",
    "            stepi.append(i)\n",
    "            lossi.append(loss.log10().item())\n",
    "            if (var_lr):\n",
    "                lri.append(lre[i])\n",
    "        \n",
    "    if (diagnose):\n",
    "        print(loss.item())\n",
    "        plt.plot(stepi, lossi)\n",
    "        \n",
    "    return parameters"
   ]
  },
  {
   "cell_type": "code",
   "execution_count": 11,
   "id": "713d761e",
   "metadata": {
    "execution": {
     "iopub.execute_input": "2024-05-20T11:03:54.568974Z",
     "iopub.status.busy": "2024-05-20T11:03:54.568488Z",
     "iopub.status.idle": "2024-05-20T11:03:54.576248Z",
     "shell.execute_reply": "2024-05-20T11:03:54.574841Z"
    },
    "papermill": {
     "duration": 0.023126,
     "end_time": "2024-05-20T11:03:54.578970",
     "exception": false,
     "start_time": "2024-05-20T11:03:54.555844",
     "status": "completed"
    },
    "tags": []
   },
   "outputs": [],
   "source": [
    "def calculate_loss(X: torch.tensor, Y: torch.tensor, embedding_size:int, context_length:int,params: list[torch.tensor]):\n",
    "    # training loss\n",
    "    C, W1, b1, W2, b2 = params\n",
    "    emb = C[X] # (182625, 3, 10)\n",
    "    h = F.relu(emb.view(-1, embedding_size*context_length) @ W1 + b1) # (182625, 100)\n",
    "    logits = h @ W2 + b2 # (182625, 27)\n",
    "    loss = F.cross_entropy(logits, Y)\n",
    "    return loss"
   ]
  },
  {
   "cell_type": "code",
   "execution_count": 12,
   "id": "eaf9539b",
   "metadata": {
    "execution": {
     "iopub.execute_input": "2024-05-20T11:03:54.601606Z",
     "iopub.status.busy": "2024-05-20T11:03:54.601133Z",
     "iopub.status.idle": "2024-05-20T11:03:54.613010Z",
     "shell.execute_reply": "2024-05-20T11:03:54.611490Z"
    },
    "papermill": {
     "duration": 0.026843,
     "end_time": "2024-05-20T11:03:54.616030",
     "exception": false,
     "start_time": "2024-05-20T11:03:54.589187",
     "status": "completed"
    },
    "tags": []
   },
   "outputs": [],
   "source": [
    "def sample(params: list[torch.tensor], context_length: int = 1):\n",
    "    # sample from the model\n",
    "    g = torch.Generator().manual_seed(2147483647 + 10)\n",
    "    C, W1, b1, W2, b2 = params\n",
    "\n",
    "    for _ in range(20):\n",
    "\n",
    "        out = []\n",
    "        context = [0] * context_length # initialize with all ...\n",
    "        while True:\n",
    "            emb = C[torch.tensor([context])] # (1,context_length,d)\n",
    "            h = F.relu(emb.view(1, -1) @ W1 + b1)\n",
    "            logits = h @ W2 + b2\n",
    "            probs = F.softmax(logits, dim=1)\n",
    "            ix = torch.multinomial(probs, num_samples=1, generator=g).item()\n",
    "            context = context[1:] + [ix]\n",
    "            out.append(ix)\n",
    "            if ix == 0:\n",
    "                break\n",
    "\n",
    "        print(''.join(itos[i] for i in out))"
   ]
  },
  {
   "cell_type": "code",
   "execution_count": 13,
   "id": "5c8076ad",
   "metadata": {
    "execution": {
     "iopub.execute_input": "2024-05-20T11:03:54.638822Z",
     "iopub.status.busy": "2024-05-20T11:03:54.638298Z",
     "iopub.status.idle": "2024-05-20T11:03:54.649433Z",
     "shell.execute_reply": "2024-05-20T11:03:54.647846Z"
    },
    "papermill": {
     "duration": 0.025644,
     "end_time": "2024-05-20T11:03:54.652136",
     "exception": false,
     "start_time": "2024-05-20T11:03:54.626492",
     "status": "completed"
    },
    "tags": []
   },
   "outputs": [],
   "source": [
    "def model(words: list[str], embedding_size: int, context_length: int, num_iterations:int, diagnose: bool = True) -> list[torch.tensor]:\n",
    "    # building vocab\n",
    "    char = sorted(list(set(''.join(words))))\n",
    "    stoi = {s: i+1 for i, s in enumerate(char)}\n",
    "    stoi['.'] = 0\n",
    "    itos = {i: s for s, i in stoi.items()}\n",
    "    \n",
    "    Xtr, Ytr, Xdev, Ydev, Xte, Yte = train_dev_test_split(words, context_length)\n",
    "    params = initialize_parameters(char, embedding_size, context_length)\n",
    "    # print(params_count(params))\n",
    "    params = optimize(params, Xtr, Ytr, num_iterations, embedding_size, context_length, var_lr = False, diagnose = diagnose)\n",
    "    \n",
    "    if (diagnose):\n",
    "        print(f\"training loss: {calculate_loss(Xtr, Ytr, embedding_size, context_length ,params)}\")\n",
    "        print(f\"dev loss: {calculate_loss(Xdev, Ydev,embedding_size, context_length, params)}\")\n",
    "        print(f\"test loss: {calculate_loss(Xte, Yte,embedding_size, context_length, params)}\")\n",
    "    return params"
   ]
  },
  {
   "cell_type": "markdown",
   "id": "c4c79413",
   "metadata": {
    "papermill": {
     "duration": 0.009816,
     "end_time": "2024-05-20T11:03:54.672156",
     "exception": false,
     "start_time": "2024-05-20T11:03:54.662340",
     "status": "completed"
    },
    "tags": []
   },
   "source": [
    "Testing"
   ]
  },
  {
   "cell_type": "markdown",
   "id": "66bb1099",
   "metadata": {
    "papermill": {
     "duration": 0.009989,
     "end_time": "2024-05-20T11:03:54.692540",
     "exception": false,
     "start_time": "2024-05-20T11:03:54.682551",
     "status": "completed"
    },
    "tags": []
   },
   "source": [
    "Avg words lenght, \\\n",
    "this says avg word lenght is 6, so, optimal context length, must be somewhere between 3, 6"
   ]
  },
  {
   "cell_type": "code",
   "execution_count": 14,
   "id": "b0e2f71e",
   "metadata": {
    "execution": {
     "iopub.execute_input": "2024-05-20T11:03:54.715344Z",
     "iopub.status.busy": "2024-05-20T11:03:54.714872Z",
     "iopub.status.idle": "2024-05-20T11:03:54.734441Z",
     "shell.execute_reply": "2024-05-20T11:03:54.733085Z"
    },
    "papermill": {
     "duration": 0.034402,
     "end_time": "2024-05-20T11:03:54.737593",
     "exception": false,
     "start_time": "2024-05-20T11:03:54.703191",
     "status": "completed"
    },
    "tags": []
   },
   "outputs": [
    {
     "data": {
      "text/plain": [
       "6.122217712983486"
      ]
     },
     "execution_count": 14,
     "metadata": {},
     "output_type": "execute_result"
    }
   ],
   "source": [
    "val = 0\n",
    "for w in words:\n",
    "    val += len(w)\n",
    "val = val/(len(words))\n",
    "val"
   ]
  },
  {
   "cell_type": "markdown",
   "id": "9dd411a7",
   "metadata": {
    "papermill": {
     "duration": 0.010022,
     "end_time": "2024-05-20T11:03:54.758279",
     "exception": false,
     "start_time": "2024-05-20T11:03:54.748257",
     "status": "completed"
    },
    "tags": []
   },
   "source": [
    "context_length -> test_cost \\\n",
    "6 -> 5.66 \\\n",
    "5 -> 6.37 \\\n",
    "4 -> 6.89 \\\n",
    "3 -> 5.78 \\\n",
    "both fullword and half word prov to be the best"
   ]
  },
  {
   "cell_type": "markdown",
   "id": "08247309",
   "metadata": {
    "papermill": {
     "duration": 0.010006,
     "end_time": "2024-05-20T11:03:54.778952",
     "exception": false,
     "start_time": "2024-05-20T11:03:54.768946",
     "status": "completed"
    },
    "tags": []
   },
   "source": [
    "embedding_size -> test_cost \\\n",
    "5 -> 2.26 \\\n",
    "10 -> 2.30 \\\n",
    "27 -> 2.31\n",
    "\n",
    "for some reason smaller embedded size is performing better"
   ]
  },
  {
   "cell_type": "markdown",
   "id": "41822611",
   "metadata": {
    "papermill": {
     "duration": 0.009927,
     "end_time": "2024-05-20T11:03:54.799317",
     "exception": false,
     "start_time": "2024-05-20T11:03:54.789390",
     "status": "completed"
    },
    "tags": []
   },
   "source": [
    "No regularistion\n",
    "\n",
    "With smaller Ws and tanh -> 2.11\\\n",
    "without -> 2.26\n",
    "\n",
    "With regularisation \\\n",
    "with smaller Ws and tanh -> 2.12 \\\n",
    "without -> 2.26\n",
    "\n",
    "In this case it seems regularisation did little good"
   ]
  },
  {
   "cell_type": "markdown",
   "id": "6f6f2aaf",
   "metadata": {
    "papermill": {
     "duration": 0.010331,
     "end_time": "2024-05-20T11:03:54.820339",
     "exception": false,
     "start_time": "2024-05-20T11:03:54.810008",
     "status": "completed"
    },
    "tags": []
   },
   "source": [
    "ReLU vs tanh for hidden layers \\\n",
    "tanh -> 2.131840944290161 \\\n",
    "ReLU -> 2.121758460998535"
   ]
  },
  {
   "cell_type": "code",
   "execution_count": 15,
   "id": "ca1e6867",
   "metadata": {
    "execution": {
     "iopub.execute_input": "2024-05-20T11:03:54.842715Z",
     "iopub.status.busy": "2024-05-20T11:03:54.842251Z",
     "iopub.status.idle": "2024-05-20T11:05:51.284107Z",
     "shell.execute_reply": "2024-05-20T11:05:51.282760Z"
    },
    "papermill": {
     "duration": 116.456197,
     "end_time": "2024-05-20T11:05:51.286715",
     "exception": false,
     "start_time": "2024-05-20T11:03:54.830518",
     "status": "completed"
    },
    "tags": []
   },
   "outputs": [
    {
     "name": "stdout",
     "output_type": "stream",
     "text": [
      "===============\n",
      "epoch = 0 loss = 3.493136405944824\n",
      "===============\n",
      "===============\n",
      "epoch = 20000 loss = 1.9887473583221436\n",
      "===============\n",
      "===============\n",
      "epoch = 40000 loss = 2.1451563835144043\n",
      "===============\n",
      "===============\n",
      "epoch = 60000 loss = 1.8612205982208252\n",
      "===============\n",
      "===============\n",
      "epoch = 80000 loss = 2.035113573074341\n",
      "===============\n",
      "===============\n",
      "epoch = 100000 loss = 2.0554468631744385\n",
      "===============\n",
      "===============\n",
      "epoch = 120000 loss = 2.0419492721557617\n",
      "===============\n",
      "===============\n",
      "epoch = 140000 loss = 2.148639678955078\n",
      "===============\n",
      "===============\n",
      "epoch = 160000 loss = 2.0867302417755127\n",
      "===============\n",
      "===============\n",
      "epoch = 180000 loss = 1.812660813331604\n",
      "===============\n",
      "2.1150734424591064\n",
      "training loss: 2.0868098735809326\n",
      "dev loss: 2.1171765327453613\n",
      "test loss: 2.119065523147583\n"
     ]
    },
    {
     "data": {
      "image/png": "[encoded data removed]",
      "text/plain": [
       "<Figure size 640x480 with 1 Axes>"
      ]
     },
     "metadata": {},
     "output_type": "display_data"
    }
   ],
   "source": [
    "params = model(words, embedding_size = 5, context_length = 6, num_iterations = 200000, diagnose = True)"
   ]
  },
  {
   "cell_type": "markdown",
   "id": "85645728",
   "metadata": {
    "papermill": {
     "duration": 0.011198,
     "end_time": "2024-05-20T11:05:51.309606",
     "exception": false,
     "start_time": "2024-05-20T11:05:51.298408",
     "status": "completed"
    },
    "tags": []
   },
   "source": [
    "Predicting"
   ]
  },
  {
   "cell_type": "code",
   "execution_count": 16,
   "id": "169fbc2d",
   "metadata": {
    "execution": {
     "iopub.execute_input": "2024-05-20T11:05:51.334652Z",
     "iopub.status.busy": "2024-05-20T11:05:51.334204Z",
     "iopub.status.idle": "2024-05-20T11:05:51.381300Z",
     "shell.execute_reply": "2024-05-20T11:05:51.379766Z"
    },
    "papermill": {
     "duration": 0.062548,
     "end_time": "2024-05-20T11:05:51.383858",
     "exception": false,
     "start_time": "2024-05-20T11:05:51.321310",
     "status": "completed"
    },
    "tags": []
   },
   "outputs": [
    {
     "name": "stdout",
     "output_type": "stream",
     "text": [
      "moracimyan.\n",
      "seel.\n",
      "ndhayah.\n",
      "revers.\n",
      "ejdrar.\n",
      "cadere.\n",
      "selin.\n",
      "shyloe.\n",
      "leigh.\n",
      "estana.\n",
      "sellyn.\n",
      "hotelin.\n",
      "shubergshi.\n",
      "jestin.\n",
      "jowelle.\n",
      "xnopusa.\n",
      "ubenned.\n",
      "ruylene.\n",
      "ehshkae.\n",
      "mistolda.\n"
     ]
    }
   ],
   "source": [
    "sample(params, 6)"
   ]
  },
  {
   "cell_type": "code",
   "execution_count": null,
   "id": "dda2cf2e",
   "metadata": {
    "papermill": {
     "duration": 0.011386,
     "end_time": "2024-05-20T11:05:51.407195",
     "exception": false,
     "start_time": "2024-05-20T11:05:51.395809",
     "status": "completed"
    },
    "tags": []
   },
   "outputs": [],
   "source": []
  }
 ],
 "metadata": {
  "kaggle": {
   "accelerator": "none",
   "dataSources": [],
   "dockerImageVersionId": 30698,
   "isGpuEnabled": false,
   "isInternetEnabled": true,
   "language": "python",
   "sourceType": "notebook"
  },
  "kernelspec": {
   "display_name": "Python 3",
   "language": "python",
   "name": "python3"
  },
  "language_info": {
   "codemirror_mode": {
    "name": "ipython",
    "version": 3
   },
   "file_extension": ".py",
   "mimetype": "text/x-python",
   "name": "python",
   "nbconvert_exporter": "python",
   "pygments_lexer": "ipython3",
   "version": "3.10.13"
  },
  "papermill": {
   "default_parameters": {},
   "duration": 129.217953,
   "end_time": "2024-05-20T11:05:54.521770",
   "environment_variables": {},
   "exception": null,
   "input_path": "__notebook__.ipynb",
   "output_path": "__notebook__.ipynb",
   "parameters": {},
   "start_time": "2024-05-20T11:03:45.303817",
   "version": "2.5.0"
  }
 },
 "nbformat": 4,
 "nbformat_minor": 5
}
