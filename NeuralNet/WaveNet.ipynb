{
 "cells": [
  {
   "cell_type": "code",
   "execution_count": 1,
   "id": "8c6f0512",
   "metadata": {
    "_cell_guid": "b1076dfc-b9ad-4769-8c92-a6c4dae69d19",
    "_uuid": "8f2839f25d086af736a60e9eeb907d3b93b6e0e5",
    "execution": {
     "iopub.execute_input": "2024-05-24T08:03:55.149211Z",
     "iopub.status.busy": "2024-05-24T08:03:55.147553Z",
     "iopub.status.idle": "2024-05-24T08:03:58.784093Z",
     "shell.execute_reply": "2024-05-24T08:03:58.782520Z"
    },
    "papermill": {
     "duration": 3.648664,
     "end_time": "2024-05-24T08:03:58.786835",
     "exception": false,
     "start_time": "2024-05-24T08:03:55.138171",
     "status": "completed"
    },
    "tags": []
   },
   "outputs": [],
   "source": [
    "import torch\n",
    "import torch.nn.functional as F\n",
    "import matplotlib.pyplot as plt # for making figures\n",
    "%matplotlib inline"
   ]
  },
  {
   "cell_type": "code",
   "execution_count": 2,
   "id": "d8c107af",
   "metadata": {
    "execution": {
     "iopub.execute_input": "2024-05-24T08:03:58.804582Z",
     "iopub.status.busy": "2024-05-24T08:03:58.804056Z",
     "iopub.status.idle": "2024-05-24T08:04:00.139413Z",
     "shell.execute_reply": "2024-05-24T08:04:00.137632Z"
    },
    "papermill": {
     "duration": 1.347993,
     "end_time": "2024-05-24T08:04:00.142358",
     "exception": false,
     "start_time": "2024-05-24T08:03:58.794365",
     "status": "completed"
    },
    "tags": []
   },
   "outputs": [
    {
     "name": "stdout",
     "output_type": "stream",
     "text": [
      "--2024-05-24 08:03:59--  https://raw.githubusercontent.com/karpathy/makemore/master/names.txt\r\n",
      "Resolving raw.githubusercontent.com (raw.githubusercontent.com)... 185.199.108.133, 185.199.109.133, 185.199.110.133, ...\r\n",
      "Connecting to raw.githubusercontent.com (raw.githubusercontent.com)|185.199.108.133|:443... connected.\r\n",
      "HTTP request sent, awaiting response... 200 OK\r\n",
      "Length: 228145 (223K) [text/plain]\r\n",
      "Saving to: 'names.txt'\r\n",
      "\r\n",
      "names.txt           100%[===================>] 222.80K  --.-KB/s    in 0.01s   \r\n",
      "\r\n",
      "2024-05-24 08:04:00 (16.8 MB/s) - 'names.txt' saved [228145/228145]\r\n",
      "\r\n"
     ]
    }
   ],
   "source": [
    "# download the names.txt file from github\n",
    "!wget https://raw.githubusercontent.com/karpathy/makemore/master/names.txt"
   ]
  },
  {
   "cell_type": "code",
   "execution_count": 3,
   "id": "8c38b4fc",
   "metadata": {
    "execution": {
     "iopub.execute_input": "2024-05-24T08:04:00.160804Z",
     "iopub.status.busy": "2024-05-24T08:04:00.160326Z",
     "iopub.status.idle": "2024-05-24T08:04:00.175079Z",
     "shell.execute_reply": "2024-05-24T08:04:00.173225Z"
    },
    "papermill": {
     "duration": 0.027382,
     "end_time": "2024-05-24T08:04:00.177647",
     "exception": false,
     "start_time": "2024-05-24T08:04:00.150265",
     "status": "completed"
    },
    "tags": []
   },
   "outputs": [
    {
     "name": "stdout",
     "output_type": "stream",
     "text": [
      "32033\n",
      "15\n",
      "['emma', 'olivia', 'ava', 'isabella', 'sophia', 'charlotte', 'mia', 'amelia']\n"
     ]
    }
   ],
   "source": [
    "# read in all the words\n",
    "words = open('names.txt', 'r').read().splitlines()\n",
    "print(len(words))\n",
    "print(max(len(w) for w in words))\n",
    "print(words[:8])"
   ]
  },
  {
   "cell_type": "code",
   "execution_count": 4,
   "id": "3fee9e32",
   "metadata": {
    "execution": {
     "iopub.execute_input": "2024-05-24T08:04:00.194741Z",
     "iopub.status.busy": "2024-05-24T08:04:00.194288Z",
     "iopub.status.idle": "2024-05-24T08:04:00.206852Z",
     "shell.execute_reply": "2024-05-24T08:04:00.205310Z"
    },
    "papermill": {
     "duration": 0.023867,
     "end_time": "2024-05-24T08:04:00.209314",
     "exception": false,
     "start_time": "2024-05-24T08:04:00.185447",
     "status": "completed"
    },
    "tags": []
   },
   "outputs": [
    {
     "name": "stdout",
     "output_type": "stream",
     "text": [
      "{1: 'a', 2: 'b', 3: 'c', 4: 'd', 5: 'e', 6: 'f', 7: 'g', 8: 'h', 9: 'i', 10: 'j', 11: 'k', 12: 'l', 13: 'm', 14: 'n', 15: 'o', 16: 'p', 17: 'q', 18: 'r', 19: 's', 20: 't', 21: 'u', 22: 'v', 23: 'w', 24: 'x', 25: 'y', 26: 'z', 0: '.'}\n",
      "27\n"
     ]
    }
   ],
   "source": [
    "# build the vocabulary of characters and mappings to/from integers\n",
    "chars = sorted(list(set(''.join(words))))\n",
    "stoi = {s:i+1 for i,s in enumerate(chars)}\n",
    "stoi['.'] = 0\n",
    "itos = {i:s for s,i in stoi.items()}\n",
    "vocab_size = len(itos)\n",
    "print(itos)\n",
    "print(vocab_size)"
   ]
  },
  {
   "cell_type": "code",
   "execution_count": 5,
   "id": "109494de",
   "metadata": {
    "execution": {
     "iopub.execute_input": "2024-05-24T08:04:00.226510Z",
     "iopub.status.busy": "2024-05-24T08:04:00.226075Z",
     "iopub.status.idle": "2024-05-24T08:04:00.255473Z",
     "shell.execute_reply": "2024-05-24T08:04:00.253632Z"
    },
    "papermill": {
     "duration": 0.041504,
     "end_time": "2024-05-24T08:04:00.258508",
     "exception": false,
     "start_time": "2024-05-24T08:04:00.217004",
     "status": "completed"
    },
    "tags": []
   },
   "outputs": [],
   "source": [
    "# shuffle up the words\n",
    "import random\n",
    "random.seed(42)\n",
    "random.shuffle(words)"
   ]
  },
  {
   "cell_type": "code",
   "execution_count": 6,
   "id": "fed2f270",
   "metadata": {
    "execution": {
     "iopub.execute_input": "2024-05-24T08:04:00.281763Z",
     "iopub.status.busy": "2024-05-24T08:04:00.281156Z",
     "iopub.status.idle": "2024-05-24T08:04:01.351022Z",
     "shell.execute_reply": "2024-05-24T08:04:01.349630Z"
    },
    "papermill": {
     "duration": 1.083368,
     "end_time": "2024-05-24T08:04:01.353252",
     "exception": false,
     "start_time": "2024-05-24T08:04:00.269884",
     "status": "completed"
    },
    "tags": []
   },
   "outputs": [
    {
     "name": "stdout",
     "output_type": "stream",
     "text": [
      "torch.Size([182625, 8]) torch.Size([182625])\n",
      "torch.Size([22655, 8]) torch.Size([22655])\n",
      "torch.Size([22866, 8]) torch.Size([22866])\n"
     ]
    }
   ],
   "source": [
    "# build the dataset\n",
    "block_size = 8 # context length: how many characters do we take to predict the next one?\n",
    "\n",
    "def build_dataset(words):  \n",
    "    X, Y = [], []\n",
    "  \n",
    "    for w in words:\n",
    "        context = [0] * block_size\n",
    "        for ch in w + '.':\n",
    "            ix = stoi[ch]\n",
    "            X.append(context)\n",
    "            Y.append(ix)\n",
    "            context = context[1:] + [ix] # crop and append\n",
    "\n",
    "    X = torch.tensor(X)\n",
    "    Y = torch.tensor(Y)\n",
    "    print(X.shape, Y.shape)\n",
    "    return X, Y\n",
    "\n",
    "n1 = int(0.8*len(words))\n",
    "n2 = int(0.9*len(words))\n",
    "Xtr,  Ytr  = build_dataset(words[:n1])     # 80%\n",
    "Xdev, Ydev = build_dataset(words[n1:n2])   # 10%\n",
    "Xte,  Yte  = build_dataset(words[n2:])     # 10%"
   ]
  },
  {
   "cell_type": "code",
   "execution_count": 7,
   "id": "39e4b2b1",
   "metadata": {
    "execution": {
     "iopub.execute_input": "2024-05-24T08:04:01.371992Z",
     "iopub.status.busy": "2024-05-24T08:04:01.371545Z",
     "iopub.status.idle": "2024-05-24T08:04:01.409667Z",
     "shell.execute_reply": "2024-05-24T08:04:01.408228Z"
    },
    "papermill": {
     "duration": 0.051141,
     "end_time": "2024-05-24T08:04:01.413403",
     "exception": false,
     "start_time": "2024-05-24T08:04:01.362262",
     "status": "completed"
    },
    "tags": []
   },
   "outputs": [
    {
     "name": "stdout",
     "output_type": "stream",
     "text": [
      "........ --> y\n",
      ".......y --> u\n",
      "......yu --> h\n",
      ".....yuh --> e\n",
      "....yuhe --> n\n",
      "...yuhen --> g\n",
      "..yuheng --> .\n",
      "........ --> d\n",
      ".......d --> i\n",
      "......di --> o\n",
      ".....dio --> n\n",
      "....dion --> d\n",
      "...diond --> r\n",
      "..diondr --> e\n",
      ".diondre --> .\n",
      "........ --> x\n",
      ".......x --> a\n",
      "......xa --> v\n",
      ".....xav --> i\n",
      "....xavi --> e\n"
     ]
    }
   ],
   "source": [
    "for x,y in zip(Xtr[:20], Ytr[:20]):\n",
    "    print(''.join(itos[ix.item()] for ix in x), '-->', itos[y.item()])"
   ]
  },
  {
   "cell_type": "markdown",
   "id": "79a41a0f",
   "metadata": {
    "papermill": {
     "duration": 0.007745,
     "end_time": "2024-05-24T08:04:01.429616",
     "exception": false,
     "start_time": "2024-05-24T08:04:01.421871",
     "status": "completed"
    },
    "tags": []
   },
   "source": [
    "## Linear"
   ]
  },
  {
   "cell_type": "code",
   "execution_count": 8,
   "id": "b543a117",
   "metadata": {
    "execution": {
     "iopub.execute_input": "2024-05-24T08:04:01.448145Z",
     "iopub.status.busy": "2024-05-24T08:04:01.446828Z",
     "iopub.status.idle": "2024-05-24T08:04:01.455530Z",
     "shell.execute_reply": "2024-05-24T08:04:01.454583Z"
    },
    "papermill": {
     "duration": 0.020602,
     "end_time": "2024-05-24T08:04:01.458093",
     "exception": false,
     "start_time": "2024-05-24T08:04:01.437491",
     "status": "completed"
    },
    "tags": []
   },
   "outputs": [],
   "source": [
    "class Linear:\n",
    "    def __init__(self, fan_in, fan_out, bias = True):\n",
    "        self.weight = torch.randn((fan_in, fan_out)) /fan_in**0.5\n",
    "        self.bias = torch.zeros(fan_out) if bias else None\n",
    "    \n",
    "    def __call__(self, x):\n",
    "        self.out = x @ self.weight \n",
    "        if self.bias is not None:\n",
    "            self.out += self.bias\n",
    "        return self.out\n",
    "    \n",
    "    def parameters(self):\n",
    "        return [self.weight] + ([] if self.bias is None else [self.bias])"
   ]
  },
  {
   "cell_type": "markdown",
   "id": "ac62fb3e",
   "metadata": {
    "papermill": {
     "duration": 0.008125,
     "end_time": "2024-05-24T08:04:01.474393",
     "exception": false,
     "start_time": "2024-05-24T08:04:01.466268",
     "status": "completed"
    },
    "tags": []
   },
   "source": [
    "## Batch Normalisation"
   ]
  },
  {
   "cell_type": "code",
   "execution_count": 9,
   "id": "e09825e3",
   "metadata": {
    "execution": {
     "iopub.execute_input": "2024-05-24T08:04:01.494724Z",
     "iopub.status.busy": "2024-05-24T08:04:01.493187Z",
     "iopub.status.idle": "2024-05-24T08:04:01.504360Z",
     "shell.execute_reply": "2024-05-24T08:04:01.502898Z"
    },
    "papermill": {
     "duration": 0.023663,
     "end_time": "2024-05-24T08:04:01.507388",
     "exception": false,
     "start_time": "2024-05-24T08:04:01.483725",
     "status": "completed"
    },
    "tags": []
   },
   "outputs": [],
   "source": [
    "class BatchNorm1d:\n",
    "    def __init__(self, dim, eps = 1e-5, momentum=0.1):\n",
    "        self.eps = eps\n",
    "        self.momentum = momentum\n",
    "        self.training = True\n",
    "        # parameters (trained with backprop)\n",
    "        self.gamma = torch.ones(dim)\n",
    "        self.beta = torch.zeros(dim)\n",
    "        # buffers (trained with a running momentum update)\n",
    "        self.running_mean = torch.zeros(dim)\n",
    "        self.running_var = torch.ones(dim)\n",
    "        \n",
    "    def __call__(self, x):\n",
    "        # calculate the forward pass\n",
    "        if self.training:\n",
    "            xmean = x.mean(0, keepdims = True)\n",
    "            xvar = x.var(0, keepdims = True)\n",
    "        else:\n",
    "            xmean = self.running_mean\n",
    "            xvar = self.running_var\n",
    "        xhat = (x - xmean) / torch.sqrt(xvar + self.eps)\n",
    "        self.out = self.gamma * xhat + self.beta\n",
    "        # update the buffer\n",
    "        if self.training:\n",
    "            with torch.no_grad():\n",
    "                self.running_mean = (1- self.momentum) * self.running_mean + self.momentum*xmean\n",
    "                self.running_var = (1-self.momentum) * self.running_var + self.momentum*xvar\n",
    "        return self.out\n",
    "\n",
    "    def parameters(self):\n",
    "        return [self.gamma, self.beta]"
   ]
  },
  {
   "cell_type": "markdown",
   "id": "0cdc8f1a",
   "metadata": {
    "papermill": {
     "duration": 0.007614,
     "end_time": "2024-05-24T08:04:01.523392",
     "exception": false,
     "start_time": "2024-05-24T08:04:01.515778",
     "status": "completed"
    },
    "tags": []
   },
   "source": [
    "## Activation"
   ]
  },
  {
   "cell_type": "code",
   "execution_count": 10,
   "id": "e354619a",
   "metadata": {
    "execution": {
     "iopub.execute_input": "2024-05-24T08:04:01.541677Z",
     "iopub.status.busy": "2024-05-24T08:04:01.541276Z",
     "iopub.status.idle": "2024-05-24T08:04:01.548241Z",
     "shell.execute_reply": "2024-05-24T08:04:01.546579Z"
    },
    "papermill": {
     "duration": 0.020421,
     "end_time": "2024-05-24T08:04:01.552065",
     "exception": false,
     "start_time": "2024-05-24T08:04:01.531644",
     "status": "completed"
    },
    "tags": []
   },
   "outputs": [],
   "source": [
    "class Tanh:\n",
    "    def __call__(self, x):\n",
    "        self.out = torch.tanh(x)\n",
    "        return self.out\n",
    "    \n",
    "    def parameters(self):\n",
    "        return []"
   ]
  },
  {
   "cell_type": "markdown",
   "id": "cb5ae8e1",
   "metadata": {
    "papermill": {
     "duration": 0.00772,
     "end_time": "2024-05-24T08:04:01.567966",
     "exception": false,
     "start_time": "2024-05-24T08:04:01.560246",
     "status": "completed"
    },
    "tags": []
   },
   "source": [
    "## Embedding and Flattening Operations and Sequential"
   ]
  },
  {
   "cell_type": "code",
   "execution_count": 11,
   "id": "6ae54fb6",
   "metadata": {
    "execution": {
     "iopub.execute_input": "2024-05-24T08:04:01.585814Z",
     "iopub.status.busy": "2024-05-24T08:04:01.585312Z",
     "iopub.status.idle": "2024-05-24T08:04:01.594111Z",
     "shell.execute_reply": "2024-05-24T08:04:01.593005Z"
    },
    "papermill": {
     "duration": 0.020884,
     "end_time": "2024-05-24T08:04:01.596695",
     "exception": false,
     "start_time": "2024-05-24T08:04:01.575811",
     "status": "completed"
    },
    "tags": []
   },
   "outputs": [],
   "source": [
    "class Embedding:\n",
    "    def __init__(self, num_embeddings, embedding_data):\n",
    "        self.weight = torch.randn((num_embeddings, embedding_data))\n",
    "    \n",
    "    def __call__(self, IX):\n",
    "        self.out = self.weight[IX]\n",
    "        return self.out\n",
    "    \n",
    "    def parameters(self):\n",
    "        return [self.weight]\n",
    "    \n",
    "class Flatten:\n",
    "    def __call__(self, x):\n",
    "        self.out = x.view(x.shape[0], -1)\n",
    "        return self.out\n",
    "    \n",
    "    def parameters(self):\n",
    "        return  []\n",
    "\n",
    "class Sequential:\n",
    "    def __init__(self, layers):\n",
    "        self.layers = layers\n",
    "  \n",
    "    def __call__(self, x):\n",
    "        for layer in self.layers:\n",
    "            x = layer(x)\n",
    "        self.out = x\n",
    "        return self.out\n",
    "  \n",
    "    def parameters(self):\n",
    "        # get parameters of all layers and stretch them out into one list\n",
    "        return [p for layer in self.layers for p in layer.parameters()]"
   ]
  },
  {
   "cell_type": "code",
   "execution_count": 12,
   "id": "7dd950d2",
   "metadata": {
    "execution": {
     "iopub.execute_input": "2024-05-24T08:04:01.614924Z",
     "iopub.status.busy": "2024-05-24T08:04:01.613930Z",
     "iopub.status.idle": "2024-05-24T08:04:01.625743Z",
     "shell.execute_reply": "2024-05-24T08:04:01.624399Z"
    },
    "papermill": {
     "duration": 0.023834,
     "end_time": "2024-05-24T08:04:01.628352",
     "exception": false,
     "start_time": "2024-05-24T08:04:01.604518",
     "status": "completed"
    },
    "tags": []
   },
   "outputs": [
    {
     "data": {
      "text/plain": [
       "<torch._C.Generator at 0x7bb46b8cf0f0>"
      ]
     },
     "execution_count": 12,
     "metadata": {},
     "output_type": "execute_result"
    }
   ],
   "source": [
    "torch.manual_seed(42)"
   ]
  },
  {
   "cell_type": "code",
   "execution_count": 13,
   "id": "e128028c",
   "metadata": {
    "execution": {
     "iopub.execute_input": "2024-05-24T08:04:01.646252Z",
     "iopub.status.busy": "2024-05-24T08:04:01.645834Z",
     "iopub.status.idle": "2024-05-24T08:04:01.680986Z",
     "shell.execute_reply": "2024-05-24T08:04:01.679715Z"
    },
    "papermill": {
     "duration": 0.046964,
     "end_time": "2024-05-24T08:04:01.683349",
     "exception": false,
     "start_time": "2024-05-24T08:04:01.636385",
     "status": "completed"
    },
    "tags": []
   },
   "outputs": [
    {
     "name": "stdout",
     "output_type": "stream",
     "text": [
      "22097\n"
     ]
    }
   ],
   "source": [
    "n_embd = 10\n",
    "n_hidden = 200\n",
    "\n",
    "model = Sequential([\n",
    "    Embedding(vocab_size, n_embd),\n",
    "    Flatten(),\n",
    "    Linear(n_embd * block_size, n_hidden, bias = False), BatchNorm1d(n_hidden), Tanh(),\n",
    "    Linear(n_hidden, vocab_size),\n",
    "])\n",
    "\n",
    "# parameters init\n",
    "with torch.no_grad():\n",
    "    model.layers[-1].weight *= 0.1 # last layer make less confident\n",
    "\n",
    "parameters = model.parameters()\n",
    "print(sum(p.nelement() for p in parameters))\n",
    "for p in parameters:\n",
    "    p.requires_grad = True"
   ]
  },
  {
   "cell_type": "markdown",
   "id": "2ee94655",
   "metadata": {
    "papermill": {
     "duration": 0.007749,
     "end_time": "2024-05-24T08:04:01.699451",
     "exception": false,
     "start_time": "2024-05-24T08:04:01.691702",
     "status": "completed"
    },
    "tags": []
   },
   "source": [
    "### Debugging"
   ]
  },
  {
   "cell_type": "code",
   "execution_count": 14,
   "id": "fd900497",
   "metadata": {
    "execution": {
     "iopub.execute_input": "2024-05-24T08:04:01.717229Z",
     "iopub.status.busy": "2024-05-24T08:04:01.716787Z",
     "iopub.status.idle": "2024-05-24T08:04:01.777784Z",
     "shell.execute_reply": "2024-05-24T08:04:01.776542Z"
    },
    "papermill": {
     "duration": 0.072847,
     "end_time": "2024-05-24T08:04:01.780316",
     "exception": false,
     "start_time": "2024-05-24T08:04:01.707469",
     "status": "completed"
    },
    "tags": []
   },
   "outputs": [
    {
     "name": "stdout",
     "output_type": "stream",
     "text": [
      "torch.Size([4, 8])\n"
     ]
    },
    {
     "data": {
      "text/plain": [
       "tensor([[ 0,  0,  0,  0,  0,  0, 12, 15],\n",
       "        [ 0,  0,  0,  0,  0,  0, 20,  1],\n",
       "        [ 0,  0,  0,  0,  0,  0,  0,  0],\n",
       "        [ 0,  0,  0,  0,  0,  0,  0, 11]])"
      ]
     },
     "execution_count": 14,
     "metadata": {},
     "output_type": "execute_result"
    }
   ],
   "source": [
    "ix = torch.randint(0, Xtr.shape[0], (4, ))\n",
    "Xb, Yb = Xtr[ix], Ytr[ix]\n",
    "logits = model(Xb)\n",
    "print(Xb.shape)\n",
    "Xb"
   ]
  },
  {
   "cell_type": "code",
   "execution_count": 15,
   "id": "157293cb",
   "metadata": {
    "execution": {
     "iopub.execute_input": "2024-05-24T08:04:01.798512Z",
     "iopub.status.busy": "2024-05-24T08:04:01.798126Z",
     "iopub.status.idle": "2024-05-24T08:04:01.804923Z",
     "shell.execute_reply": "2024-05-24T08:04:01.803985Z"
    },
    "papermill": {
     "duration": 0.018493,
     "end_time": "2024-05-24T08:04:01.807071",
     "exception": false,
     "start_time": "2024-05-24T08:04:01.788578",
     "status": "completed"
    },
    "tags": []
   },
   "outputs": [
    {
     "data": {
      "text/plain": [
       "torch.Size([4, 8, 10])"
      ]
     },
     "execution_count": 15,
     "metadata": {},
     "output_type": "execute_result"
    }
   ],
   "source": [
    "model.layers[0].out.shape # output of the embedding layer"
   ]
  },
  {
   "cell_type": "code",
   "execution_count": 16,
   "id": "f2ca62fd",
   "metadata": {
    "execution": {
     "iopub.execute_input": "2024-05-24T08:04:01.826854Z",
     "iopub.status.busy": "2024-05-24T08:04:01.826389Z",
     "iopub.status.idle": "2024-05-24T08:04:01.832869Z",
     "shell.execute_reply": "2024-05-24T08:04:01.831754Z"
    },
    "papermill": {
     "duration": 0.019391,
     "end_time": "2024-05-24T08:04:01.835275",
     "exception": false,
     "start_time": "2024-05-24T08:04:01.815884",
     "status": "completed"
    },
    "tags": []
   },
   "outputs": [
    {
     "data": {
      "text/plain": [
       "torch.Size([4, 80])"
      ]
     },
     "execution_count": 16,
     "metadata": {},
     "output_type": "execute_result"
    }
   ],
   "source": [
    "model.layers[1].out.shape # output of Flatten layer"
   ]
  },
  {
   "cell_type": "code",
   "execution_count": 17,
   "id": "d410e455",
   "metadata": {
    "execution": {
     "iopub.execute_input": "2024-05-24T08:04:01.854080Z",
     "iopub.status.busy": "2024-05-24T08:04:01.853662Z",
     "iopub.status.idle": "2024-05-24T08:04:01.861131Z",
     "shell.execute_reply": "2024-05-24T08:04:01.859825Z"
    },
    "papermill": {
     "duration": 0.019632,
     "end_time": "2024-05-24T08:04:01.863540",
     "exception": false,
     "start_time": "2024-05-24T08:04:01.843908",
     "status": "completed"
    },
    "tags": []
   },
   "outputs": [
    {
     "data": {
      "text/plain": [
       "torch.Size([4, 200])"
      ]
     },
     "execution_count": 17,
     "metadata": {},
     "output_type": "execute_result"
    }
   ],
   "source": [
    "model.layers[2].out.shape # output of Linear Layer"
   ]
  },
  {
   "cell_type": "code",
   "execution_count": 18,
   "id": "e2e9b7df",
   "metadata": {
    "execution": {
     "iopub.execute_input": "2024-05-24T08:04:01.883389Z",
     "iopub.status.busy": "2024-05-24T08:04:01.883002Z",
     "iopub.status.idle": "2024-05-24T08:07:38.270419Z",
     "shell.execute_reply": "2024-05-24T08:07:38.269235Z"
    },
    "papermill": {
     "duration": 216.400742,
     "end_time": "2024-05-24T08:07:38.273637",
     "exception": false,
     "start_time": "2024-05-24T08:04:01.872895",
     "status": "completed"
    },
    "tags": []
   },
   "outputs": [
    {
     "name": "stdout",
     "output_type": "stream",
     "text": [
      "      0/ 200000: 3.2890\n",
      "  10000/ 200000: 2.1019\n",
      "  20000/ 200000: 1.8017\n",
      "  30000/ 200000: 2.1541\n",
      "  40000/ 200000: 1.9434\n",
      "  50000/ 200000: 2.0993\n",
      "  60000/ 200000: 2.4388\n",
      "  70000/ 200000: 1.9126\n",
      "  80000/ 200000: 2.1679\n",
      "  90000/ 200000: 2.3918\n",
      " 100000/ 200000: 1.5622\n",
      " 110000/ 200000: 2.0194\n",
      " 120000/ 200000: 2.2996\n",
      " 130000/ 200000: 2.2614\n",
      " 140000/ 200000: 2.3370\n",
      " 150000/ 200000: 2.0491\n",
      " 160000/ 200000: 1.7646\n",
      " 170000/ 200000: 2.2587\n",
      " 180000/ 200000: 1.7975\n",
      " 190000/ 200000: 1.9115\n"
     ]
    }
   ],
   "source": [
    "max_steps = 200_000\n",
    "batch_size = 32\n",
    "lossi = []\n",
    "set_ix = set()\n",
    "\n",
    "for i in range(max_steps):\n",
    "    \n",
    "    # minibatch construct\n",
    "    ix = torch.randint(0, Xtr.shape[0], (batch_size, ))\n",
    "    Xb, Yb = Xtr[ix], Ytr[ix]\n",
    "    \n",
    "    # tracking the ix which have been used\n",
    "    # set_ix.add([v.item() for v in ix])\n",
    "    \n",
    "    # forward pass\n",
    "    #  x = Xb # due to the new Embedding and Flatten class, \n",
    "    # we can now kickstart the NN with x = Xb and \n",
    "    # the rest will be done in the for loop with the layers module\n",
    "    logits = model(Xb)\n",
    "    loss = F.cross_entropy(logits, Yb) # loss function\n",
    "    \n",
    "    # backward pass\n",
    "    for p in parameters:\n",
    "        p.grad = None\n",
    "    loss.backward()\n",
    "    \n",
    "    # update\n",
    "    lr = 0.1 if i < 150_000 else 0.01 # step learning rate decay\n",
    "    for p in parameters:\n",
    "        p.data += -lr * p.grad\n",
    "    \n",
    "    # track stats\n",
    "    if i % 10_000 == 0: # print every once in a while\n",
    "        print(f\"{i:7d}/{max_steps:7d}: {loss.item():.4f}\")\n",
    "    lossi.append(loss.log10().item())\n",
    "    \n",
    "#     break"
   ]
  },
  {
   "cell_type": "markdown",
   "id": "c5539fdb",
   "metadata": {
    "papermill": {
     "duration": 0.009632,
     "end_time": "2024-05-24T08:07:38.293183",
     "exception": false,
     "start_time": "2024-05-24T08:07:38.283551",
     "status": "completed"
    },
    "tags": []
   },
   "source": [
    "Can Get rid of the \n",
    "```\n",
    "plt.plot(lossi)\n",
    "```\n",
    "As we now have a much better plot"
   ]
  },
  {
   "cell_type": "markdown",
   "id": "97c26550",
   "metadata": {
    "papermill": {
     "duration": 0.009652,
     "end_time": "2024-05-24T08:07:38.313237",
     "exception": false,
     "start_time": "2024-05-24T08:07:38.303585",
     "status": "completed"
    },
    "tags": []
   },
   "source": [
    "## Getting the loss to be more interpretable"
   ]
  },
  {
   "cell_type": "code",
   "execution_count": 19,
   "id": "6d64de7a",
   "metadata": {
    "execution": {
     "iopub.execute_input": "2024-05-24T08:07:38.336021Z",
     "iopub.status.busy": "2024-05-24T08:07:38.335146Z",
     "iopub.status.idle": "2024-05-24T08:07:38.382165Z",
     "shell.execute_reply": "2024-05-24T08:07:38.380791Z"
    },
    "papermill": {
     "duration": 0.061802,
     "end_time": "2024-05-24T08:07:38.384799",
     "exception": false,
     "start_time": "2024-05-24T08:07:38.322997",
     "status": "completed"
    },
    "tags": []
   },
   "outputs": [
    {
     "data": {
      "text/plain": [
       "torch.Size([200])"
      ]
     },
     "execution_count": 19,
     "metadata": {},
     "output_type": "execute_result"
    }
   ],
   "source": [
    "torch.tensor(lossi).view(-1, 1000).mean(1).shape"
   ]
  },
  {
   "cell_type": "code",
   "execution_count": 20,
   "id": "b34a6848",
   "metadata": {
    "execution": {
     "iopub.execute_input": "2024-05-24T08:07:38.406975Z",
     "iopub.status.busy": "2024-05-24T08:07:38.406557Z",
     "iopub.status.idle": "2024-05-24T08:07:38.752030Z",
     "shell.execute_reply": "2024-05-24T08:07:38.750869Z"
    },
    "papermill": {
     "duration": 0.359291,
     "end_time": "2024-05-24T08:07:38.754377",
     "exception": false,
     "start_time": "2024-05-24T08:07:38.395086",
     "status": "completed"
    },
    "tags": []
   },
   "outputs": [
    {
     "data": {
      "text/plain": [
       "[<matplotlib.lines.Line2D at 0x7bb449c09600>]"
      ]
     },
     "execution_count": 20,
     "metadata": {},
     "output_type": "execute_result"
    },
    {
     "data": {
      "image/png": "[encoded data removed]",
      "text/plain": [
       "<Figure size 640x480 with 1 Axes>"
      ]
     },
     "metadata": {},
     "output_type": "display_data"
    }
   ],
   "source": [
    "plt.plot(torch.tensor(lossi).view(-1, 1000).mean(1))"
   ]
  },
  {
   "cell_type": "markdown",
   "id": "4187b08a",
   "metadata": {
    "papermill": {
     "duration": 0.010569,
     "end_time": "2024-05-24T08:07:38.775644",
     "exception": false,
     "start_time": "2024-05-24T08:07:38.765075",
     "status": "completed"
    },
    "tags": []
   },
   "source": [
    "We see the learning rate decay at 150"
   ]
  },
  {
   "cell_type": "code",
   "execution_count": 21,
   "id": "e43ed8de",
   "metadata": {
    "execution": {
     "iopub.execute_input": "2024-05-24T08:07:38.799351Z",
     "iopub.status.busy": "2024-05-24T08:07:38.798922Z",
     "iopub.status.idle": "2024-05-24T08:07:38.804209Z",
     "shell.execute_reply": "2024-05-24T08:07:38.802918Z"
    },
    "papermill": {
     "duration": 0.019694,
     "end_time": "2024-05-24T08:07:38.806476",
     "exception": false,
     "start_time": "2024-05-24T08:07:38.786782",
     "status": "completed"
    },
    "tags": []
   },
   "outputs": [],
   "source": [
    "# put layer into eval mode (needed for batchnorm especially)\n",
    "for layer in model.layers:\n",
    "    layer.training = False"
   ]
  },
  {
   "cell_type": "code",
   "execution_count": 22,
   "id": "ee59a771",
   "metadata": {
    "execution": {
     "iopub.execute_input": "2024-05-24T08:07:38.831926Z",
     "iopub.status.busy": "2024-05-24T08:07:38.831494Z",
     "iopub.status.idle": "2024-05-24T08:07:39.467316Z",
     "shell.execute_reply": "2024-05-24T08:07:39.465763Z"
    },
    "papermill": {
     "duration": 0.652089,
     "end_time": "2024-05-24T08:07:39.469808",
     "exception": false,
     "start_time": "2024-05-24T08:07:38.817719",
     "status": "completed"
    },
    "tags": []
   },
   "outputs": [
    {
     "name": "stdout",
     "output_type": "stream",
     "text": [
      "train 1.9192137718200684\n",
      "val 2.0341391563415527\n"
     ]
    }
   ],
   "source": [
    "# evaluate the loss\n",
    "@torch.no_grad()\n",
    "def split_loss(split):\n",
    "    x, y = {\n",
    "        'train': {Xtr, Ytr},\n",
    "        'val': {Xdev, Ydev},\n",
    "        'test': {Xte, Yte},\n",
    "    }[split]\n",
    "    \n",
    "    logits = model(x)\n",
    "    loss = F.cross_entropy(logits, y)\n",
    "    print(split, loss.item())\n",
    "\n",
    "split_loss('train')\n",
    "split_loss('val')"
   ]
  },
  {
   "cell_type": "markdown",
   "id": "ff9fa3f4",
   "metadata": {
    "papermill": {
     "duration": 0.010401,
     "end_time": "2024-05-24T08:07:39.490875",
     "exception": false,
     "start_time": "2024-05-24T08:07:39.480474",
     "status": "completed"
    },
    "tags": []
   },
   "source": [
    "### performance log\n",
    "\n",
    "- original (3 character context + 200 hidden neurons, 12K params): train 2.058, val 2.106\n",
    "- context: 3 -> 8 (22K params): train 1.918, val 2.027"
   ]
  },
  {
   "cell_type": "code",
   "execution_count": 23,
   "id": "a69988ae",
   "metadata": {
    "execution": {
     "iopub.execute_input": "2024-05-24T08:07:39.517197Z",
     "iopub.status.busy": "2024-05-24T08:07:39.516772Z",
     "iopub.status.idle": "2024-05-24T08:07:39.567868Z",
     "shell.execute_reply": "2024-05-24T08:07:39.566167Z"
    },
    "papermill": {
     "duration": 0.067127,
     "end_time": "2024-05-24T08:07:39.570474",
     "exception": false,
     "start_time": "2024-05-24T08:07:39.503347",
     "status": "completed"
    },
    "tags": []
   },
   "outputs": [
    {
     "name": "stdout",
     "output_type": "stream",
     "text": [
      "ari.\n",
      "kya.\n",
      "kylek.\n",
      "tiskin.\n",
      "porbyn.\n",
      "abib.\n",
      "merigglynn.\n",
      "loriel.\n",
      "jiildy.\n",
      "davry.\n",
      "olby.\n",
      "aerik.\n",
      "milahny.\n",
      "evelie.\n",
      "breckan.\n",
      "misse.\n",
      "josumar.\n",
      "rami.\n",
      "ahli.\n",
      "jordel.\n"
     ]
    }
   ],
   "source": [
    "# sample from the model\n",
    "\n",
    "for _ in range(20):\n",
    "    \n",
    "    out = []\n",
    "    context = [0] * block_size\n",
    "    while True:\n",
    "        # forward pass the neural net\n",
    "        logits = model(torch.tensor([context]))\n",
    "        probs = F.softmax(logits, dim = 1)\n",
    "        # sample from the distribution\n",
    "        ix = torch.multinomial(probs, num_samples = 1).item()\n",
    "        # shift the context window and track the samples\n",
    "        context = context[1:] + [ix]\n",
    "        out.append(ix)\n",
    "        # if we sample the special '.' token, break\n",
    "        if ix == 0:\n",
    "            break\n",
    "    \n",
    "    print(''.join(itos[i] for i in out)) # decode and print the generated word"
   ]
  },
  {
   "cell_type": "code",
   "execution_count": null,
   "id": "a15d2583",
   "metadata": {
    "papermill": {
     "duration": 0.010463,
     "end_time": "2024-05-24T08:07:39.591795",
     "exception": false,
     "start_time": "2024-05-24T08:07:39.581332",
     "status": "completed"
    },
    "tags": []
   },
   "outputs": [],
   "source": []
  }
 ],
 "metadata": {
  "kaggle": {
   "accelerator": "none",
   "dataSources": [],
   "dockerImageVersionId": 30698,
   "isGpuEnabled": false,
   "isInternetEnabled": true,
   "language": "python",
   "sourceType": "notebook"
  },
  "kernelspec": {
   "display_name": "Python 3",
   "language": "python",
   "name": "python3"
  },
  "language_info": {
   "codemirror_mode": {
    "name": "ipython",
    "version": 3
   },
   "file_extension": ".py",
   "mimetype": "text/x-python",
   "name": "python",
   "nbconvert_exporter": "python",
   "pygments_lexer": "ipython3",
   "version": "3.10.13"
  },
  "papermill": {
   "default_parameters": {},
   "duration": 228.820636,
   "end_time": "2024-05-24T08:07:40.626898",
   "environment_variables": {},
   "exception": null,
   "input_path": "__notebook__.ipynb",
   "output_path": "__notebook__.ipynb",
   "parameters": {},
   "start_time": "2024-05-24T08:03:51.806262",
   "version": "2.5.0"
  }
 },
 "nbformat": 4,
 "nbformat_minor": 5
}
