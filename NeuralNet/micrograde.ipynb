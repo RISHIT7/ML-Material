{
 "cells": [
  {
   "cell_type": "code",
   "execution_count": 1,
   "id": "adf4c6a9",
   "metadata": {
    "_cell_guid": "b1076dfc-b9ad-4769-8c92-a6c4dae69d19",
    "_uuid": "8f2839f25d086af736a60e9eeb907d3b93b6e0e5",
    "execution": {
     "iopub.execute_input": "2024-05-15T11:40:11.955263Z",
     "iopub.status.busy": "2024-05-15T11:40:11.954769Z",
     "iopub.status.idle": "2024-05-15T11:40:11.970625Z",
     "shell.execute_reply": "2024-05-15T11:40:11.969344Z"
    },
    "papermill": {
     "duration": 0.03288,
     "end_time": "2024-05-15T11:40:11.973314",
     "exception": false,
     "start_time": "2024-05-15T11:40:11.940434",
     "status": "completed"
    },
    "tags": []
   },
   "outputs": [],
   "source": [
    "import math\n",
    "import numpy as np\n",
    "import matplotlib.pyplot as plt\n",
    "%matplotlib inline"
   ]
  },
  {
   "cell_type": "code",
   "execution_count": 2,
   "id": "230aaa68",
   "metadata": {
    "execution": {
     "iopub.execute_input": "2024-05-15T11:40:12.000141Z",
     "iopub.status.busy": "2024-05-15T11:40:11.998809Z",
     "iopub.status.idle": "2024-05-15T11:40:12.031566Z",
     "shell.execute_reply": "2024-05-15T11:40:12.030029Z"
    },
    "papermill": {
     "duration": 0.048945,
     "end_time": "2024-05-15T11:40:12.034297",
     "exception": false,
     "start_time": "2024-05-15T11:40:11.985352",
     "status": "completed"
    },
    "tags": []
   },
   "outputs": [
    {
     "data": {
      "text/plain": [
       "Value(data=-8.0, grad=0.0)"
      ]
     },
     "execution_count": 2,
     "metadata": {},
     "output_type": "execute_result"
    }
   ],
   "source": [
    "class Value:\n",
    "    def __init__(self, data, _children=(), _op='', label=''):\n",
    "        self.data = data\n",
    "        self.grad = 0.0\n",
    "        self._backward = lambda: None\n",
    "        self._prev = set(_children)\n",
    "        self._op = _op\n",
    "        self.label = label\n",
    "\n",
    "    def __repr__(self):\n",
    "        return f\"Value(data={self.data}, grad={self.grad})\"\n",
    "  \n",
    "    def __add__(self, other):\n",
    "        other = other if isinstance(other, Value) else Value(other)\n",
    "        out = Value(self.data + other.data, (self, other), '+')\n",
    "    \n",
    "    \n",
    "        def _backward():\n",
    "            self.grad += 1.0 * out.grad\n",
    "            other.grad += 1.0 * out.grad\n",
    "        out._backward = _backward\n",
    "    \n",
    "        return out\n",
    "    \n",
    "    def __mul__(self, other):\n",
    "        other = other if isinstance(other, Value) else Value(other)\n",
    "        out = Value(self.data * other.data, (self, other), '*')\n",
    "    \n",
    "        def _backward():\n",
    "            self.grad += other.data * out.grad\n",
    "            other.grad += self.data * out.grad\n",
    "        out._backward = _backward\n",
    "      \n",
    "        return out\n",
    "\n",
    "    def __pow__(self, other):\n",
    "        assert isinstance(other, (int, float)), \"only supporting int/float powers for now\"\n",
    "        out = Value(self.data**other, (self, ), f'**{other}')\n",
    "    \n",
    "        def _backward():\n",
    "            self.grad += other * out.grad * (self.data ** (other - 1))\n",
    "        out._backward = _backward\n",
    "        \n",
    "        return out\n",
    "        \n",
    "    def __rmul__(self, other):\n",
    "        return self * other\n",
    "  \n",
    "    def __truediv__ (self, other):\n",
    "        return self * other**-1\n",
    "    \n",
    "    def __neg__(self):\n",
    "        return self * -1\n",
    "    \n",
    "    def __sub__(self, other):\n",
    "        return self + (-other)\n",
    "\n",
    "    def exp(self):\n",
    "        x = self.data\n",
    "        out = Value(math.exp(x), (self, ), 'exp')\n",
    "        \n",
    "        def _backward():\n",
    "            self.grad += out.data * out.grad\n",
    "        out._backward = _backward\n",
    "        \n",
    "        return out\n",
    "\n",
    "    def tanh(self):\n",
    "        x = self.data\n",
    "        t = (math.exp(2*x) - 1)/(math.exp(2*x) + 1)\n",
    "        out = Value(t, (self, ), 'tanh')\n",
    "    \n",
    "        def _backward():\n",
    "            self.grad += (1 - t**2) * out.grad\n",
    "        out._backward = _backward\n",
    "    \n",
    "        return out\n",
    "  \n",
    "    def backward(self):\n",
    "        topo = []\n",
    "        visited = set()\n",
    "        def build_topo(v):\n",
    "            if v not in visited:\n",
    "                visited.add(v)\n",
    "                for child in v._prev:\n",
    "                    build_topo(child)\n",
    "                topo.append(v)\n",
    "        build_topo(self)\n",
    "\n",
    "        self.grad = 1.0\n",
    "        for node in reversed(topo):\n",
    "            node._backward()\n",
    "\n",
    "a = Value(2.0, label='a')\n",
    "b = Value(-3.0, label='b')\n",
    "c = Value(10.0, label='c')\n",
    "e = a*b; e.label = 'e'\n",
    "d = e + c; d.label = 'd'\n",
    "f = Value(-2.0, label='f')\n",
    "L = d * f; L.label = 'L'\n",
    "L"
   ]
  },
  {
   "cell_type": "code",
   "execution_count": 3,
   "id": "b829b45f",
   "metadata": {
    "execution": {
     "iopub.execute_input": "2024-05-15T11:40:12.060214Z",
     "iopub.status.busy": "2024-05-15T11:40:12.059773Z",
     "iopub.status.idle": "2024-05-15T11:40:12.064926Z",
     "shell.execute_reply": "2024-05-15T11:40:12.063690Z"
    },
    "papermill": {
     "duration": 0.021388,
     "end_time": "2024-05-15T11:40:12.067690",
     "exception": false,
     "start_time": "2024-05-15T11:40:12.046302",
     "status": "completed"
    },
    "tags": []
   },
   "outputs": [],
   "source": [
    "# !pip install graphviz"
   ]
  },
  {
   "cell_type": "code",
   "execution_count": 4,
   "id": "1949d51e",
   "metadata": {
    "execution": {
     "iopub.execute_input": "2024-05-15T11:40:12.095167Z",
     "iopub.status.busy": "2024-05-15T11:40:12.094229Z",
     "iopub.status.idle": "2024-05-15T11:40:12.154262Z",
     "shell.execute_reply": "2024-05-15T11:40:12.152897Z"
    },
    "papermill": {
     "duration": 0.077423,
     "end_time": "2024-05-15T11:40:12.157626",
     "exception": false,
     "start_time": "2024-05-15T11:40:12.080203",
     "status": "completed"
    },
    "tags": []
   },
   "outputs": [],
   "source": [
    "from graphviz import Digraph\n",
    "\n",
    "def trace(root):\n",
    "    # builds a set of all nodes and edges in a graph\n",
    "    nodes, edges = set(), set()\n",
    "    def build(v):\n",
    "        if v not in nodes:\n",
    "            nodes.add(v)\n",
    "            for child in v._prev:\n",
    "                edges.add((child, v))\n",
    "                build(child)\n",
    "    build(root)\n",
    "    return nodes, edges\n",
    "\n",
    "def draw_dot(root):\n",
    "    dot = Digraph(format='svg', graph_attr={'rankdir': 'LR'}) # LR = left to right\n",
    "  \n",
    "    nodes, edges = trace(root)\n",
    "    for n in nodes:\n",
    "        uid = str(id(n))\n",
    "        # for any value in the graph, create a rectangular ('record') node for it\n",
    "        dot.node(name = uid, label = \"{ %s | data %.4f | grad %.4f }\" % (n.label, n.data, n.grad), shape='record')\n",
    "        if n._op:\n",
    "            # if this value is a result of some operation, create an op node for it\n",
    "            dot.node(name = uid + n._op, label = n._op)\n",
    "            # and connect this node to it\n",
    "            dot.edge(uid + n._op, uid)\n",
    "\n",
    "    for n1, n2 in edges:\n",
    "        # connect n1 to the op node of n2\n",
    "        dot.edge(str(id(n1)), str(id(n2)) + n2._op)\n",
    "\n",
    "    return dot"
   ]
  },
  {
   "cell_type": "markdown",
   "id": "a101854a",
   "metadata": {
    "papermill": {
     "duration": 0.01197,
     "end_time": "2024-05-15T11:40:12.182517",
     "exception": false,
     "start_time": "2024-05-15T11:40:12.170547",
     "status": "completed"
    },
    "tags": []
   },
   "source": [
    "## Debugging"
   ]
  },
  {
   "cell_type": "code",
   "execution_count": 5,
   "id": "d1b28916",
   "metadata": {
    "execution": {
     "iopub.execute_input": "2024-05-15T11:40:12.209747Z",
     "iopub.status.busy": "2024-05-15T11:40:12.208835Z",
     "iopub.status.idle": "2024-05-15T11:40:12.425200Z",
     "shell.execute_reply": "2024-05-15T11:40:12.423736Z"
    },
    "papermill": {
     "duration": 0.23301,
     "end_time": "2024-05-15T11:40:12.427909",
     "exception": false,
     "start_time": "2024-05-15T11:40:12.194899",
     "status": "completed"
    },
    "tags": []
   },
   "outputs": [
    {
     "data": {
      "image/svg+xml": [
       "<?xml version=\"1.0\" encoding=\"UTF-8\" standalone=\"no\"?>\n",
       "<!DOCTYPE svg PUBLIC \"-//W3C//DTD SVG 1.1//EN\"\n",
       " \"http://www.w3.org/Graphics/SVG/1.1/DTD/svg11.dtd\">\n",
       "<!-- Generated by graphviz version 9.0.0 (20231125.0833)\n",
       " -->\n",
       "<!-- Pages: 1 -->\n",
       "<svg width=\"592pt\" height=\"100pt\"\n",
       " viewBox=\"0.00 0.00 591.50 100.00\" xmlns=\"http://www.w3.org/2000/svg\" xmlns:xlink=\"http://www.w3.org/1999/xlink\">\n",
       "<g id=\"graph0\" class=\"graph\" transform=\"scale(1 1) rotate(0) translate(4 96)\">\n",
       "<polygon fill=\"white\" stroke=\"none\" points=\"-4,4 -4,-96 587.5,-96 587.5,4 -4,4\"/>\n",
       "<!-- 140040412952704 -->\n",
       "<g id=\"node1\" class=\"node\">\n",
       "<title>140040412952704</title>\n",
       "<polygon fill=\"none\" stroke=\"black\" points=\"0.38,-55.5 0.38,-91.5 229.12,-91.5 229.12,-55.5 0.38,-55.5\"/>\n",
       "<text text-anchor=\"middle\" x=\"12.5\" y=\"-69.2\" font-family=\"Times,serif\" font-size=\"14.00\">a</text>\n",
       "<polyline fill=\"none\" stroke=\"black\" points=\"24.62,-56.25 24.62,-91.5\"/>\n",
       "<text text-anchor=\"middle\" x=\"75.38\" y=\"-69.2\" font-family=\"Times,serif\" font-size=\"14.00\">data 3.0000</text>\n",
       "<polyline fill=\"none\" stroke=\"black\" points=\"126.12,-56.25 126.12,-91.5\"/>\n",
       "<text text-anchor=\"middle\" x=\"177.62\" y=\"-69.2\" font-family=\"Times,serif\" font-size=\"14.00\">grad 1.0000</text>\n",
       "</g>\n",
       "<!-- 140040412939072+ -->\n",
       "<g id=\"node4\" class=\"node\">\n",
       "<title>140040412939072+</title>\n",
       "<ellipse fill=\"none\" stroke=\"black\" cx=\"292.5\" cy=\"-45.5\" rx=\"27\" ry=\"18\"/>\n",
       "<text text-anchor=\"middle\" x=\"292.5\" y=\"-40.83\" font-family=\"Times,serif\" font-size=\"14.00\">+</text>\n",
       "</g>\n",
       "<!-- 140040412952704&#45;&gt;140040412939072+ -->\n",
       "<g id=\"edge2\" class=\"edge\">\n",
       "<title>140040412952704&#45;&gt;140040412939072+</title>\n",
       "<path fill=\"none\" stroke=\"black\" d=\"M229.54,-55.37C238.37,-53.96 246.82,-52.62 254.49,-51.4\"/>\n",
       "<polygon fill=\"black\" stroke=\"black\" points=\"255,-54.86 264.33,-49.83 253.9,-47.95 255,-54.86\"/>\n",
       "</g>\n",
       "<!-- 140040412943104 -->\n",
       "<g id=\"node2\" class=\"node\">\n",
       "<title>140040412943104</title>\n",
       "<polygon fill=\"none\" stroke=\"black\" points=\"0,-0.5 0,-36.5 229.5,-36.5 229.5,-0.5 0,-0.5\"/>\n",
       "<text text-anchor=\"middle\" x=\"12.5\" y=\"-14.2\" font-family=\"Times,serif\" font-size=\"14.00\">b</text>\n",
       "<polyline fill=\"none\" stroke=\"black\" points=\"25,-1.25 25,-36.5\"/>\n",
       "<text text-anchor=\"middle\" x=\"75.75\" y=\"-14.2\" font-family=\"Times,serif\" font-size=\"14.00\">data 2.0000</text>\n",
       "<polyline fill=\"none\" stroke=\"black\" points=\"126.5,-1.25 126.5,-36.5\"/>\n",
       "<text text-anchor=\"middle\" x=\"178\" y=\"-14.2\" font-family=\"Times,serif\" font-size=\"14.00\">grad 1.0000</text>\n",
       "</g>\n",
       "<!-- 140040412943104&#45;&gt;140040412939072+ -->\n",
       "<g id=\"edge3\" class=\"edge\">\n",
       "<title>140040412943104&#45;&gt;140040412939072+</title>\n",
       "<path fill=\"none\" stroke=\"black\" d=\"M229.54,-35.98C238.37,-37.34 246.82,-38.64 254.49,-39.81\"/>\n",
       "<polygon fill=\"black\" stroke=\"black\" points=\"253.91,-43.27 264.33,-41.33 254.98,-36.35 253.91,-43.27\"/>\n",
       "</g>\n",
       "<!-- 140040412939072 -->\n",
       "<g id=\"node3\" class=\"node\">\n",
       "<title>140040412939072</title>\n",
       "<polygon fill=\"none\" stroke=\"black\" points=\"355.5,-27.5 355.5,-63.5 583.5,-63.5 583.5,-27.5 355.5,-27.5\"/>\n",
       "<text text-anchor=\"middle\" x=\"367.25\" y=\"-41.2\" font-family=\"Times,serif\" font-size=\"14.00\">c</text>\n",
       "<polyline fill=\"none\" stroke=\"black\" points=\"379,-28.25 379,-63.5\"/>\n",
       "<text text-anchor=\"middle\" x=\"429.75\" y=\"-41.2\" font-family=\"Times,serif\" font-size=\"14.00\">data 5.0000</text>\n",
       "<polyline fill=\"none\" stroke=\"black\" points=\"480.5,-28.25 480.5,-63.5\"/>\n",
       "<text text-anchor=\"middle\" x=\"532\" y=\"-41.2\" font-family=\"Times,serif\" font-size=\"14.00\">grad 1.0000</text>\n",
       "</g>\n",
       "<!-- 140040412939072+&#45;&gt;140040412939072 -->\n",
       "<g id=\"edge1\" class=\"edge\">\n",
       "<title>140040412939072+&#45;&gt;140040412939072</title>\n",
       "<path fill=\"none\" stroke=\"black\" d=\"M319.7,-45.5C326.81,-45.5 335,-45.5 343.81,-45.5\"/>\n",
       "<polygon fill=\"black\" stroke=\"black\" points=\"343.74,-49 353.74,-45.5 343.74,-42 343.74,-49\"/>\n",
       "</g>\n",
       "</g>\n",
       "</svg>\n"
      ],
      "text/plain": [
       "<graphviz.graphs.Digraph at 0x7f5db3114d60>"
      ]
     },
     "execution_count": 5,
     "metadata": {},
     "output_type": "execute_result"
    }
   ],
   "source": [
    "a = Value(3.0, label = 'a')\n",
    "b = Value(2.0, label = 'b')\n",
    "c = a + b; c.label = 'c'\n",
    "c.backward()\n",
    "draw_dot(c)"
   ]
  },
  {
   "cell_type": "markdown",
   "id": "2ad21396",
   "metadata": {
    "papermill": {
     "duration": 0.012299,
     "end_time": "2024-05-15T11:40:12.454652",
     "exception": false,
     "start_time": "2024-05-15T11:40:12.442353",
     "status": "completed"
    },
    "tags": []
   },
   "source": [
    "## EndDebugging"
   ]
  },
  {
   "cell_type": "code",
   "execution_count": 6,
   "id": "b4467da4",
   "metadata": {
    "execution": {
     "iopub.execute_input": "2024-05-15T11:40:12.482388Z",
     "iopub.status.busy": "2024-05-15T11:40:12.481935Z",
     "iopub.status.idle": "2024-05-15T11:40:12.489054Z",
     "shell.execute_reply": "2024-05-15T11:40:12.487693Z"
    },
    "papermill": {
     "duration": 0.024943,
     "end_time": "2024-05-15T11:40:12.492363",
     "exception": false,
     "start_time": "2024-05-15T11:40:12.467420",
     "status": "completed"
    },
    "tags": []
   },
   "outputs": [
    {
     "name": "stdout",
     "output_type": "stream",
     "text": [
      "-22.120199999999997\n"
     ]
    }
   ],
   "source": [
    "a.data += 0.01 * a.grad\n",
    "b.data += 0.01 * b.grad\n",
    "c.data += 0.01 * c.grad\n",
    "f.data += 0.01 * f.grad\n",
    "\n",
    "e = a * b\n",
    "d = e + c\n",
    "L = d * f\n",
    "\n",
    "print(L.data)"
   ]
  },
  {
   "cell_type": "code",
   "execution_count": 7,
   "id": "2e370e74",
   "metadata": {
    "execution": {
     "iopub.execute_input": "2024-05-15T11:40:12.520100Z",
     "iopub.status.busy": "2024-05-15T11:40:12.519642Z",
     "iopub.status.idle": "2024-05-15T11:40:12.551561Z",
     "shell.execute_reply": "2024-05-15T11:40:12.550804Z"
    },
    "papermill": {
     "duration": 0.049384,
     "end_time": "2024-05-15T11:40:12.554440",
     "exception": false,
     "start_time": "2024-05-15T11:40:12.505056",
     "status": "completed"
    },
    "tags": []
   },
   "outputs": [
    {
     "data": {
      "image/svg+xml": [
       "<?xml version=\"1.0\" encoding=\"UTF-8\" standalone=\"no\"?>\n",
       "<!DOCTYPE svg PUBLIC \"-//W3C//DTD SVG 1.1//EN\"\n",
       " \"http://www.w3.org/Graphics/SVG/1.1/DTD/svg11.dtd\">\n",
       "<!-- Generated by graphviz version 9.0.0 (20231125.0833)\n",
       " -->\n",
       "<!-- Pages: 1 -->\n",
       "<svg width=\"1316pt\" height=\"127pt\"\n",
       " viewBox=\"0.00 0.00 1316.00 127.00\" xmlns=\"http://www.w3.org/2000/svg\" xmlns:xlink=\"http://www.w3.org/1999/xlink\">\n",
       "<g id=\"graph0\" class=\"graph\" transform=\"scale(1 1) rotate(0) translate(4 123)\">\n",
       "<polygon fill=\"white\" stroke=\"none\" points=\"-4,4 -4,-123 1312,-123 1312,4 -4,4\"/>\n",
       "<!-- 140040412943920 -->\n",
       "<g id=\"node1\" class=\"node\">\n",
       "<title>140040412943920</title>\n",
       "<polygon fill=\"none\" stroke=\"black\" points=\"357,-55.5 357,-91.5 582,-91.5 582,-55.5 357,-55.5\"/>\n",
       "<text text-anchor=\"middle\" x=\"367.25\" y=\"-69.2\" font-family=\"Times,serif\" font-size=\"14.00\"> </text>\n",
       "<polyline fill=\"none\" stroke=\"black\" points=\"377.5,-56.25 377.5,-91.5\"/>\n",
       "<text text-anchor=\"middle\" x=\"428.25\" y=\"-69.2\" font-family=\"Times,serif\" font-size=\"14.00\">data 6.0501</text>\n",
       "<polyline fill=\"none\" stroke=\"black\" points=\"479,-56.25 479,-91.5\"/>\n",
       "<text text-anchor=\"middle\" x=\"530.5\" y=\"-69.2\" font-family=\"Times,serif\" font-size=\"14.00\">grad 0.0000</text>\n",
       "</g>\n",
       "<!-- 140040412938688+ -->\n",
       "<g id=\"node11\" class=\"node\">\n",
       "<title>140040412938688+</title>\n",
       "<ellipse fill=\"none\" stroke=\"black\" cx=\"646.5\" cy=\"-45.5\" rx=\"27\" ry=\"18\"/>\n",
       "<text text-anchor=\"middle\" x=\"646.5\" y=\"-40.83\" font-family=\"Times,serif\" font-size=\"14.00\">+</text>\n",
       "</g>\n",
       "<!-- 140040412943920&#45;&gt;140040412938688+ -->\n",
       "<g id=\"edge5\" class=\"edge\">\n",
       "<title>140040412943920&#45;&gt;140040412938688+</title>\n",
       "<path fill=\"none\" stroke=\"black\" d=\"M582.32,-55.61C591.68,-54.11 600.64,-52.68 608.72,-51.39\"/>\n",
       "<polygon fill=\"black\" stroke=\"black\" points=\"609.05,-54.88 618.37,-49.84 607.94,-47.96 609.05,-54.88\"/>\n",
       "</g>\n",
       "<!-- 140040412943920* -->\n",
       "<g id=\"node2\" class=\"node\">\n",
       "<title>140040412943920*</title>\n",
       "<ellipse fill=\"none\" stroke=\"black\" cx=\"292.5\" cy=\"-73.5\" rx=\"27\" ry=\"18\"/>\n",
       "<text text-anchor=\"middle\" x=\"292.5\" y=\"-68.83\" font-family=\"Times,serif\" font-size=\"14.00\">*</text>\n",
       "</g>\n",
       "<!-- 140040412943920*&#45;&gt;140040412943920 -->\n",
       "<g id=\"edge1\" class=\"edge\">\n",
       "<title>140040412943920*&#45;&gt;140040412943920</title>\n",
       "<path fill=\"none\" stroke=\"black\" d=\"M319.7,-73.5C327.24,-73.5 336,-73.5 345.42,-73.5\"/>\n",
       "<polygon fill=\"black\" stroke=\"black\" points=\"345.24,-77 355.24,-73.5 345.24,-70 345.24,-77\"/>\n",
       "</g>\n",
       "<!-- 140040412952704 -->\n",
       "<g id=\"node3\" class=\"node\">\n",
       "<title>140040412952704</title>\n",
       "<polygon fill=\"none\" stroke=\"black\" points=\"0.38,-55.5 0.38,-91.5 229.12,-91.5 229.12,-55.5 0.38,-55.5\"/>\n",
       "<text text-anchor=\"middle\" x=\"12.5\" y=\"-69.2\" font-family=\"Times,serif\" font-size=\"14.00\">a</text>\n",
       "<polyline fill=\"none\" stroke=\"black\" points=\"24.62,-56.25 24.62,-91.5\"/>\n",
       "<text text-anchor=\"middle\" x=\"75.38\" y=\"-69.2\" font-family=\"Times,serif\" font-size=\"14.00\">data 3.0100</text>\n",
       "<polyline fill=\"none\" stroke=\"black\" points=\"126.12,-56.25 126.12,-91.5\"/>\n",
       "<text text-anchor=\"middle\" x=\"177.62\" y=\"-69.2\" font-family=\"Times,serif\" font-size=\"14.00\">grad 1.0000</text>\n",
       "</g>\n",
       "<!-- 140040412952704&#45;&gt;140040412943920* -->\n",
       "<g id=\"edge11\" class=\"edge\">\n",
       "<title>140040412952704&#45;&gt;140040412943920*</title>\n",
       "<path fill=\"none\" stroke=\"black\" d=\"M229.54,-73.5C238.1,-73.5 246.29,-73.5 253.77,-73.5\"/>\n",
       "<polygon fill=\"black\" stroke=\"black\" points=\"253.7,-77 263.7,-73.5 253.7,-70 253.7,-77\"/>\n",
       "</g>\n",
       "<!-- 140040412939072+ -->\n",
       "<g id=\"node6\" class=\"node\">\n",
       "<title>140040412939072+</title>\n",
       "<ellipse fill=\"none\" stroke=\"black\" cx=\"292.5\" cy=\"-18.5\" rx=\"27\" ry=\"18\"/>\n",
       "<text text-anchor=\"middle\" x=\"292.5\" y=\"-13.82\" font-family=\"Times,serif\" font-size=\"14.00\">+</text>\n",
       "</g>\n",
       "<!-- 140040412952704&#45;&gt;140040412939072+ -->\n",
       "<g id=\"edge8\" class=\"edge\">\n",
       "<title>140040412952704&#45;&gt;140040412939072+</title>\n",
       "<path fill=\"none\" stroke=\"black\" d=\"M201.35,-55.05C210.92,-52.44 220.47,-49.58 229.5,-46.5 239.65,-43.04 250.4,-38.51 260.05,-34.1\"/>\n",
       "<polygon fill=\"black\" stroke=\"black\" points=\"261.46,-37.31 269.02,-29.89 258.48,-30.98 261.46,-37.31\"/>\n",
       "</g>\n",
       "<!-- 140040412943104 -->\n",
       "<g id=\"node4\" class=\"node\">\n",
       "<title>140040412943104</title>\n",
       "<polygon fill=\"none\" stroke=\"black\" points=\"0,-0.5 0,-36.5 229.5,-36.5 229.5,-0.5 0,-0.5\"/>\n",
       "<text text-anchor=\"middle\" x=\"12.5\" y=\"-14.2\" font-family=\"Times,serif\" font-size=\"14.00\">b</text>\n",
       "<polyline fill=\"none\" stroke=\"black\" points=\"25,-1.25 25,-36.5\"/>\n",
       "<text text-anchor=\"middle\" x=\"75.75\" y=\"-14.2\" font-family=\"Times,serif\" font-size=\"14.00\">data 2.0100</text>\n",
       "<polyline fill=\"none\" stroke=\"black\" points=\"126.5,-1.25 126.5,-36.5\"/>\n",
       "<text text-anchor=\"middle\" x=\"178\" y=\"-14.2\" font-family=\"Times,serif\" font-size=\"14.00\">grad 1.0000</text>\n",
       "</g>\n",
       "<!-- 140040412943104&#45;&gt;140040412943920* -->\n",
       "<g id=\"edge6\" class=\"edge\">\n",
       "<title>140040412943104&#45;&gt;140040412943920*</title>\n",
       "<path fill=\"none\" stroke=\"black\" d=\"M197.94,-36.97C208.64,-39.89 219.39,-43.08 229.5,-46.5 239.52,-49.89 250.17,-54.24 259.76,-58.45\"/>\n",
       "<polygon fill=\"black\" stroke=\"black\" points=\"258.11,-61.54 268.67,-62.46 260.99,-55.16 258.11,-61.54\"/>\n",
       "</g>\n",
       "<!-- 140040412943104&#45;&gt;140040412939072+ -->\n",
       "<g id=\"edge10\" class=\"edge\">\n",
       "<title>140040412943104&#45;&gt;140040412939072+</title>\n",
       "<path fill=\"none\" stroke=\"black\" d=\"M229.54,-18.5C238.1,-18.5 246.29,-18.5 253.77,-18.5\"/>\n",
       "<polygon fill=\"black\" stroke=\"black\" points=\"253.7,-22 263.7,-18.5 253.7,-15 253.7,-22\"/>\n",
       "</g>\n",
       "<!-- 140040412939072 -->\n",
       "<g id=\"node5\" class=\"node\">\n",
       "<title>140040412939072</title>\n",
       "<polygon fill=\"none\" stroke=\"black\" points=\"355.5,-0.5 355.5,-36.5 583.5,-36.5 583.5,-0.5 355.5,-0.5\"/>\n",
       "<text text-anchor=\"middle\" x=\"367.25\" y=\"-14.2\" font-family=\"Times,serif\" font-size=\"14.00\">c</text>\n",
       "<polyline fill=\"none\" stroke=\"black\" points=\"379,-1.25 379,-36.5\"/>\n",
       "<text text-anchor=\"middle\" x=\"429.75\" y=\"-14.2\" font-family=\"Times,serif\" font-size=\"14.00\">data 5.0100</text>\n",
       "<polyline fill=\"none\" stroke=\"black\" points=\"480.5,-1.25 480.5,-36.5\"/>\n",
       "<text text-anchor=\"middle\" x=\"532\" y=\"-14.2\" font-family=\"Times,serif\" font-size=\"14.00\">grad 1.0000</text>\n",
       "</g>\n",
       "<!-- 140040412939072&#45;&gt;140040412938688+ -->\n",
       "<g id=\"edge12\" class=\"edge\">\n",
       "<title>140040412939072&#45;&gt;140040412938688+</title>\n",
       "<path fill=\"none\" stroke=\"black\" d=\"M583.8,-35.98C592.6,-37.34 601.01,-38.64 608.64,-39.81\"/>\n",
       "<polygon fill=\"black\" stroke=\"black\" points=\"608.02,-43.26 618.44,-41.32 609.09,-36.34 608.02,-43.26\"/>\n",
       "</g>\n",
       "<!-- 140040412939072+&#45;&gt;140040412939072 -->\n",
       "<g id=\"edge2\" class=\"edge\">\n",
       "<title>140040412939072+&#45;&gt;140040412939072</title>\n",
       "<path fill=\"none\" stroke=\"black\" d=\"M319.7,-18.5C326.81,-18.5 335,-18.5 343.81,-18.5\"/>\n",
       "<polygon fill=\"black\" stroke=\"black\" points=\"343.74,-22 353.74,-18.5 343.74,-15 343.74,-22\"/>\n",
       "</g>\n",
       "<!-- 140040412858736 -->\n",
       "<g id=\"node7\" class=\"node\">\n",
       "<title>140040412858736</title>\n",
       "<polygon fill=\"none\" stroke=\"black\" points=\"711.38,-82.5 711.38,-118.5 941.62,-118.5 941.62,-82.5 711.38,-82.5\"/>\n",
       "<text text-anchor=\"middle\" x=\"722\" y=\"-96.2\" font-family=\"Times,serif\" font-size=\"14.00\">f</text>\n",
       "<polyline fill=\"none\" stroke=\"black\" points=\"732.62,-83.25 732.62,-118.5\"/>\n",
       "<text text-anchor=\"middle\" x=\"785.62\" y=\"-96.2\" font-family=\"Times,serif\" font-size=\"14.00\">data &#45;2.0000</text>\n",
       "<polyline fill=\"none\" stroke=\"black\" points=\"838.62,-83.25 838.62,-118.5\"/>\n",
       "<text text-anchor=\"middle\" x=\"890.12\" y=\"-96.2\" font-family=\"Times,serif\" font-size=\"14.00\">grad 0.0000</text>\n",
       "</g>\n",
       "<!-- 140040412939648* -->\n",
       "<g id=\"node9\" class=\"node\">\n",
       "<title>140040412939648*</title>\n",
       "<ellipse fill=\"none\" stroke=\"black\" cx=\"1006.5\" cy=\"-72.5\" rx=\"27\" ry=\"18\"/>\n",
       "<text text-anchor=\"middle\" x=\"1006.5\" y=\"-67.83\" font-family=\"Times,serif\" font-size=\"14.00\">*</text>\n",
       "</g>\n",
       "<!-- 140040412858736&#45;&gt;140040412939648* -->\n",
       "<g id=\"edge9\" class=\"edge\">\n",
       "<title>140040412858736&#45;&gt;140040412939648*</title>\n",
       "<path fill=\"none\" stroke=\"black\" d=\"M941.99,-82.49C951.42,-81.01 960.44,-79.59 968.56,-78.31\"/>\n",
       "<polygon fill=\"black\" stroke=\"black\" points=\"968.94,-81.79 978.27,-76.78 967.85,-74.88 968.94,-81.79\"/>\n",
       "</g>\n",
       "<!-- 140040412939648 -->\n",
       "<g id=\"node8\" class=\"node\">\n",
       "<title>140040412939648</title>\n",
       "<polygon fill=\"none\" stroke=\"black\" points=\"1069.5,-54.5 1069.5,-90.5 1308,-90.5 1308,-54.5 1069.5,-54.5\"/>\n",
       "<text text-anchor=\"middle\" x=\"1079.75\" y=\"-68.2\" font-family=\"Times,serif\" font-size=\"14.00\"> </text>\n",
       "<polyline fill=\"none\" stroke=\"black\" points=\"1090,-55.25 1090,-90.5\"/>\n",
       "<text text-anchor=\"middle\" x=\"1147.5\" y=\"-68.2\" font-family=\"Times,serif\" font-size=\"14.00\">data &#45;22.1202</text>\n",
       "<polyline fill=\"none\" stroke=\"black\" points=\"1205,-55.25 1205,-90.5\"/>\n",
       "<text text-anchor=\"middle\" x=\"1256.5\" y=\"-68.2\" font-family=\"Times,serif\" font-size=\"14.00\">grad 0.0000</text>\n",
       "</g>\n",
       "<!-- 140040412939648*&#45;&gt;140040412939648 -->\n",
       "<g id=\"edge3\" class=\"edge\">\n",
       "<title>140040412939648*&#45;&gt;140040412939648</title>\n",
       "<path fill=\"none\" stroke=\"black\" d=\"M1033.71,-72.5C1040.78,-72.5 1048.93,-72.5 1057.72,-72.5\"/>\n",
       "<polygon fill=\"black\" stroke=\"black\" points=\"1057.64,-76 1067.64,-72.5 1057.64,-69 1057.64,-76\"/>\n",
       "</g>\n",
       "<!-- 140040412938688 -->\n",
       "<g id=\"node10\" class=\"node\">\n",
       "<title>140040412938688</title>\n",
       "<polygon fill=\"none\" stroke=\"black\" points=\"709.5,-27.5 709.5,-63.5 943.5,-63.5 943.5,-27.5 709.5,-27.5\"/>\n",
       "<text text-anchor=\"middle\" x=\"719.75\" y=\"-41.2\" font-family=\"Times,serif\" font-size=\"14.00\"> </text>\n",
       "<polyline fill=\"none\" stroke=\"black\" points=\"730,-28.25 730,-63.5\"/>\n",
       "<text text-anchor=\"middle\" x=\"785.25\" y=\"-41.2\" font-family=\"Times,serif\" font-size=\"14.00\">data 11.0601</text>\n",
       "<polyline fill=\"none\" stroke=\"black\" points=\"840.5,-28.25 840.5,-63.5\"/>\n",
       "<text text-anchor=\"middle\" x=\"892\" y=\"-41.2\" font-family=\"Times,serif\" font-size=\"14.00\">grad 0.0000</text>\n",
       "</g>\n",
       "<!-- 140040412938688&#45;&gt;140040412939648* -->\n",
       "<g id=\"edge7\" class=\"edge\">\n",
       "<title>140040412938688&#45;&gt;140040412939648*</title>\n",
       "<path fill=\"none\" stroke=\"black\" d=\"M943.74,-63.13C952.49,-64.46 960.84,-65.73 968.43,-66.88\"/>\n",
       "<polygon fill=\"black\" stroke=\"black\" points=\"967.74,-70.31 978.16,-68.35 968.79,-63.39 967.74,-70.31\"/>\n",
       "</g>\n",
       "<!-- 140040412938688+&#45;&gt;140040412938688 -->\n",
       "<g id=\"edge4\" class=\"edge\">\n",
       "<title>140040412938688+&#45;&gt;140040412938688</title>\n",
       "<path fill=\"none\" stroke=\"black\" d=\"M673.76,-45.5C680.84,-45.5 688.98,-45.5 697.75,-45.5\"/>\n",
       "<polygon fill=\"black\" stroke=\"black\" points=\"697.65,-49 707.65,-45.5 697.65,-42 697.65,-49\"/>\n",
       "</g>\n",
       "</g>\n",
       "</svg>\n"
      ],
      "text/plain": [
       "<graphviz.graphs.Digraph at 0x7f5db3114400>"
      ]
     },
     "execution_count": 7,
     "metadata": {},
     "output_type": "execute_result"
    }
   ],
   "source": [
    "draw_dot(L)"
   ]
  },
  {
   "cell_type": "code",
   "execution_count": 8,
   "id": "71b8ba3a",
   "metadata": {
    "execution": {
     "iopub.execute_input": "2024-05-15T11:40:12.583312Z",
     "iopub.status.busy": "2024-05-15T11:40:12.582890Z",
     "iopub.status.idle": "2024-05-15T11:40:12.593421Z",
     "shell.execute_reply": "2024-05-15T11:40:12.592101Z"
    },
    "papermill": {
     "duration": 0.028328,
     "end_time": "2024-05-15T11:40:12.596402",
     "exception": false,
     "start_time": "2024-05-15T11:40:12.568074",
     "status": "completed"
    },
    "tags": []
   },
   "outputs": [
    {
     "name": "stdout",
     "output_type": "stream",
     "text": [
      "-4.000000000026205\n"
     ]
    }
   ],
   "source": [
    "def lol():\n",
    "    \n",
    "    h = 0.00001\n",
    "    \n",
    "    a = Value(2.0, label='a')\n",
    "    b = Value(-3.0, label='b')\n",
    "    c = Value(10.0, label='c')\n",
    "    e = a*b; e.label = 'e'\n",
    "    d = e + c; d.label = 'd'\n",
    "    f = Value(-2.0, label='f')\n",
    "    L = d * f; L.label = 'L'\n",
    "    L1 = L.data\n",
    "    \n",
    "    a = Value(2.0, label='a')\n",
    "    b = Value(-3.0, label='b')\n",
    "    b.data += h\n",
    "    c = Value(10.0, label='c')\n",
    "    e = a*b; e.label = 'e'\n",
    "    d = e + c; d.label = 'd'\n",
    "    f = Value(-2.0, label='f')\n",
    "    L = d * f; L.label = 'L'\n",
    "    L2 = L.data\n",
    "    \n",
    "    print((L2-L1)/h)\n",
    "\n",
    "lol()"
   ]
  },
  {
   "cell_type": "code",
   "execution_count": 9,
   "id": "05ddff47",
   "metadata": {
    "execution": {
     "iopub.execute_input": "2024-05-15T11:40:12.625598Z",
     "iopub.status.busy": "2024-05-15T11:40:12.624656Z",
     "iopub.status.idle": "2024-05-15T11:40:12.962288Z",
     "shell.execute_reply": "2024-05-15T11:40:12.960835Z"
    },
    "papermill": {
     "duration": 0.355539,
     "end_time": "2024-05-15T11:40:12.965480",
     "exception": false,
     "start_time": "2024-05-15T11:40:12.609941",
     "status": "completed"
    },
    "tags": []
   },
   "outputs": [
    {
     "data": {
      "image/png": "[encoded data removed]",
      "text/plain": [
       "<Figure size 640x480 with 1 Axes>"
      ]
     },
     "metadata": {},
     "output_type": "display_data"
    }
   ],
   "source": [
    "plt.plot(np.arange(-5,5,0.2), np.tanh(np.arange(-5,5,0.2))); plt.grid();"
   ]
  },
  {
   "cell_type": "code",
   "execution_count": 10,
   "id": "fe01f078",
   "metadata": {
    "execution": {
     "iopub.execute_input": "2024-05-15T11:40:12.995892Z",
     "iopub.status.busy": "2024-05-15T11:40:12.995478Z",
     "iopub.status.idle": "2024-05-15T11:40:13.005549Z",
     "shell.execute_reply": "2024-05-15T11:40:13.003730Z"
    },
    "papermill": {
     "duration": 0.028781,
     "end_time": "2024-05-15T11:40:13.008467",
     "exception": false,
     "start_time": "2024-05-15T11:40:12.979686",
     "status": "completed"
    },
    "tags": []
   },
   "outputs": [],
   "source": [
    "# inputs x1,x2\n",
    "x1 = Value(2.0, label='x1')\n",
    "x2 = Value(0.0, label='x2')\n",
    "# weights w1,w2\n",
    "w1 = Value(-3.0, label='w1')\n",
    "w2 = Value(1.0, label='w2')\n",
    "# bias of the neuron\n",
    "b = Value(6.8813735870195432, label='b')\n",
    "# x1*w1 + x2*w2 + b\n",
    "x1w1 = x1*w1; x1w1.label = 'x1*w1'\n",
    "x2w2 = x2*w2; x2w2.label = 'x2*w2'\n",
    "x1w1x2w2 = x1w1 + x2w2; x1w1x2w2.label = 'x1*w1 + x2*w2'\n",
    "n = x1w1x2w2 + b; n.label = 'n'\n",
    "o = n.tanh(); o.label = 'o'"
   ]
  },
  {
   "cell_type": "code",
   "execution_count": 11,
   "id": "7b1d77d2",
   "metadata": {
    "execution": {
     "iopub.execute_input": "2024-05-15T11:40:13.038804Z",
     "iopub.status.busy": "2024-05-15T11:40:13.037990Z",
     "iopub.status.idle": "2024-05-15T11:40:13.071591Z",
     "shell.execute_reply": "2024-05-15T11:40:13.070561Z"
    },
    "papermill": {
     "duration": 0.051359,
     "end_time": "2024-05-15T11:40:13.073954",
     "exception": false,
     "start_time": "2024-05-15T11:40:13.022595",
     "status": "completed"
    },
    "tags": []
   },
   "outputs": [
    {
     "data": {
      "image/svg+xml": [
       "<?xml version=\"1.0\" encoding=\"UTF-8\" standalone=\"no\"?>\n",
       "<!DOCTYPE svg PUBLIC \"-//W3C//DTD SVG 1.1//EN\"\n",
       " \"http://www.w3.org/Graphics/SVG/1.1/DTD/svg11.dtd\">\n",
       "<!-- Generated by graphviz version 9.0.0 (20231125.0833)\n",
       " -->\n",
       "<!-- Pages: 1 -->\n",
       "<svg width=\"1836pt\" height=\"210pt\"\n",
       " viewBox=\"0.00 0.00 1835.94 210.00\" xmlns=\"http://www.w3.org/2000/svg\" xmlns:xlink=\"http://www.w3.org/1999/xlink\">\n",
       "<g id=\"graph0\" class=\"graph\" transform=\"scale(1 1) rotate(0) translate(4 206)\">\n",
       "<polygon fill=\"white\" stroke=\"none\" points=\"-4,4 -4,-206 1831.94,-206 1831.94,4 -4,4\"/>\n",
       "<!-- 140040412175888 -->\n",
       "<g id=\"node1\" class=\"node\">\n",
       "<title>140040412175888</title>\n",
       "<polygon fill=\"none\" stroke=\"black\" points=\"768,-82.5 768,-118.5 1104,-118.5 1104,-82.5 768,-82.5\"/>\n",
       "<text text-anchor=\"middle\" x=\"831.5\" y=\"-96.2\" font-family=\"Times,serif\" font-size=\"14.00\">x1*w1 + x2*w2</text>\n",
       "<polyline fill=\"none\" stroke=\"black\" points=\"895,-83.25 895,-118.5\"/>\n",
       "<text text-anchor=\"middle\" x=\"948\" y=\"-96.2\" font-family=\"Times,serif\" font-size=\"14.00\">data &#45;6.0000</text>\n",
       "<polyline fill=\"none\" stroke=\"black\" points=\"1001,-83.25 1001,-118.5\"/>\n",
       "<text text-anchor=\"middle\" x=\"1052.5\" y=\"-96.2\" font-family=\"Times,serif\" font-size=\"14.00\">grad 0.0000</text>\n",
       "</g>\n",
       "<!-- 140040412176656+ -->\n",
       "<g id=\"node9\" class=\"node\">\n",
       "<title>140040412176656+</title>\n",
       "<ellipse fill=\"none\" stroke=\"black\" cx=\"1167\" cy=\"-127.5\" rx=\"27\" ry=\"18\"/>\n",
       "<text text-anchor=\"middle\" x=\"1167\" y=\"-122.83\" font-family=\"Times,serif\" font-size=\"14.00\">+</text>\n",
       "</g>\n",
       "<!-- 140040412175888&#45;&gt;140040412176656+ -->\n",
       "<g id=\"edge12\" class=\"edge\">\n",
       "<title>140040412175888&#45;&gt;140040412176656+</title>\n",
       "<path fill=\"none\" stroke=\"black\" d=\"M1093.86,-118.99C1106.58,-120.49 1118.49,-121.9 1128.83,-123.12\"/>\n",
       "<polygon fill=\"black\" stroke=\"black\" points=\"1128.34,-126.58 1138.69,-124.28 1129.16,-119.63 1128.34,-126.58\"/>\n",
       "</g>\n",
       "<!-- 140040412175888+ -->\n",
       "<g id=\"node2\" class=\"node\">\n",
       "<title>140040412175888+</title>\n",
       "<ellipse fill=\"none\" stroke=\"black\" cx=\"705\" cy=\"-100.5\" rx=\"27\" ry=\"18\"/>\n",
       "<text text-anchor=\"middle\" x=\"705\" y=\"-95.83\" font-family=\"Times,serif\" font-size=\"14.00\">+</text>\n",
       "</g>\n",
       "<!-- 140040412175888+&#45;&gt;140040412175888 -->\n",
       "<g id=\"edge1\" class=\"edge\">\n",
       "<title>140040412175888+&#45;&gt;140040412175888</title>\n",
       "<path fill=\"none\" stroke=\"black\" d=\"M732.27,-100.5C739.21,-100.5 747.24,-100.5 756.03,-100.5\"/>\n",
       "<polygon fill=\"black\" stroke=\"black\" points=\"756.02,-104 766.02,-100.5 756.02,-97 756.02,-104\"/>\n",
       "</g>\n",
       "<!-- 140040412179488 -->\n",
       "<g id=\"node3\" class=\"node\">\n",
       "<title>140040412179488</title>\n",
       "<polygon fill=\"none\" stroke=\"black\" points=\"372,-110.5 372,-146.5 642,-146.5 642,-110.5 372,-110.5\"/>\n",
       "<text text-anchor=\"middle\" x=\"402.5\" y=\"-124.2\" font-family=\"Times,serif\" font-size=\"14.00\">x1*w1</text>\n",
       "<polyline fill=\"none\" stroke=\"black\" points=\"433,-111.25 433,-146.5\"/>\n",
       "<text text-anchor=\"middle\" x=\"486\" y=\"-124.2\" font-family=\"Times,serif\" font-size=\"14.00\">data &#45;6.0000</text>\n",
       "<polyline fill=\"none\" stroke=\"black\" points=\"539,-111.25 539,-146.5\"/>\n",
       "<text text-anchor=\"middle\" x=\"590.5\" y=\"-124.2\" font-family=\"Times,serif\" font-size=\"14.00\">grad 0.0000</text>\n",
       "</g>\n",
       "<!-- 140040412179488&#45;&gt;140040412175888+ -->\n",
       "<g id=\"edge10\" class=\"edge\">\n",
       "<title>140040412179488&#45;&gt;140040412175888+</title>\n",
       "<path fill=\"none\" stroke=\"black\" d=\"M637.37,-110.02C647.88,-108.52 657.85,-107.09 666.73,-105.82\"/>\n",
       "<polygon fill=\"black\" stroke=\"black\" points=\"667.19,-109.29 676.6,-104.41 666.2,-102.36 667.19,-109.29\"/>\n",
       "</g>\n",
       "<!-- 140040412179488* -->\n",
       "<g id=\"node4\" class=\"node\">\n",
       "<title>140040412179488*</title>\n",
       "<ellipse fill=\"none\" stroke=\"black\" cx=\"309\" cy=\"-128.5\" rx=\"27\" ry=\"18\"/>\n",
       "<text text-anchor=\"middle\" x=\"309\" y=\"-123.83\" font-family=\"Times,serif\" font-size=\"14.00\">*</text>\n",
       "</g>\n",
       "<!-- 140040412179488*&#45;&gt;140040412179488 -->\n",
       "<g id=\"edge2\" class=\"edge\">\n",
       "<title>140040412179488*&#45;&gt;140040412179488</title>\n",
       "<path fill=\"none\" stroke=\"black\" d=\"M336.43,-128.5C343.41,-128.5 351.46,-128.5 360.17,-128.5\"/>\n",
       "<polygon fill=\"black\" stroke=\"black\" points=\"360.02,-132 370.02,-128.5 360.02,-125 360.02,-132\"/>\n",
       "</g>\n",
       "<!-- 140040412085792 -->\n",
       "<g id=\"node5\" class=\"node\">\n",
       "<title>140040412085792</title>\n",
       "<polygon fill=\"none\" stroke=\"black\" points=\"821.25,-137.5 821.25,-173.5 1050.75,-173.5 1050.75,-137.5 821.25,-137.5\"/>\n",
       "<text text-anchor=\"middle\" x=\"833.75\" y=\"-151.2\" font-family=\"Times,serif\" font-size=\"14.00\">b</text>\n",
       "<polyline fill=\"none\" stroke=\"black\" points=\"846.25,-138.25 846.25,-173.5\"/>\n",
       "<text text-anchor=\"middle\" x=\"897\" y=\"-151.2\" font-family=\"Times,serif\" font-size=\"14.00\">data 6.8814</text>\n",
       "<polyline fill=\"none\" stroke=\"black\" points=\"947.75,-138.25 947.75,-173.5\"/>\n",
       "<text text-anchor=\"middle\" x=\"999.25\" y=\"-151.2\" font-family=\"Times,serif\" font-size=\"14.00\">grad 0.0000</text>\n",
       "</g>\n",
       "<!-- 140040412085792&#45;&gt;140040412176656+ -->\n",
       "<g id=\"edge13\" class=\"edge\">\n",
       "<title>140040412085792&#45;&gt;140040412176656+</title>\n",
       "<path fill=\"none\" stroke=\"black\" d=\"M1051.16,-141.54C1079.33,-138.1 1107.53,-134.65 1128.93,-132.03\"/>\n",
       "<polygon fill=\"black\" stroke=\"black\" points=\"1129.08,-135.54 1138.58,-130.85 1128.23,-128.59 1129.08,-135.54\"/>\n",
       "</g>\n",
       "<!-- 140040423061680 -->\n",
       "<g id=\"node6\" class=\"node\">\n",
       "<title>140040423061680</title>\n",
       "<polygon fill=\"none\" stroke=\"black\" points=\"0,-165.5 0,-201.5 246,-201.5 246,-165.5 0,-165.5\"/>\n",
       "<text text-anchor=\"middle\" x=\"18.5\" y=\"-179.2\" font-family=\"Times,serif\" font-size=\"14.00\">w1</text>\n",
       "<polyline fill=\"none\" stroke=\"black\" points=\"37,-166.25 37,-201.5\"/>\n",
       "<text text-anchor=\"middle\" x=\"90\" y=\"-179.2\" font-family=\"Times,serif\" font-size=\"14.00\">data &#45;3.0000</text>\n",
       "<polyline fill=\"none\" stroke=\"black\" points=\"143,-166.25 143,-201.5\"/>\n",
       "<text text-anchor=\"middle\" x=\"194.5\" y=\"-179.2\" font-family=\"Times,serif\" font-size=\"14.00\">grad 0.0000</text>\n",
       "</g>\n",
       "<!-- 140040423061680&#45;&gt;140040412179488* -->\n",
       "<g id=\"edge7\" class=\"edge\">\n",
       "<title>140040423061680&#45;&gt;140040412179488*</title>\n",
       "<path fill=\"none\" stroke=\"black\" d=\"M216.81,-165.07C226.74,-162.47 236.63,-159.61 246,-156.5 256.18,-153.12 266.94,-148.61 276.59,-144.2\"/>\n",
       "<polygon fill=\"black\" stroke=\"black\" points=\"277.99,-147.41 285.55,-139.98 275.01,-141.08 277.99,-147.41\"/>\n",
       "</g>\n",
       "<!-- 140040423052992 -->\n",
       "<g id=\"node7\" class=\"node\">\n",
       "<title>140040423052992</title>\n",
       "<polygon fill=\"none\" stroke=\"black\" points=\"4.12,-55.5 4.12,-91.5 241.88,-91.5 241.88,-55.5 4.12,-55.5\"/>\n",
       "<text text-anchor=\"middle\" x=\"20.75\" y=\"-69.2\" font-family=\"Times,serif\" font-size=\"14.00\">x2</text>\n",
       "<polyline fill=\"none\" stroke=\"black\" points=\"37.38,-56.25 37.38,-91.5\"/>\n",
       "<text text-anchor=\"middle\" x=\"88.12\" y=\"-69.2\" font-family=\"Times,serif\" font-size=\"14.00\">data 0.0000</text>\n",
       "<polyline fill=\"none\" stroke=\"black\" points=\"138.88,-56.25 138.88,-91.5\"/>\n",
       "<text text-anchor=\"middle\" x=\"190.38\" y=\"-69.2\" font-family=\"Times,serif\" font-size=\"14.00\">grad 0.0000</text>\n",
       "</g>\n",
       "<!-- 140040412175696* -->\n",
       "<g id=\"node11\" class=\"node\">\n",
       "<title>140040412175696*</title>\n",
       "<ellipse fill=\"none\" stroke=\"black\" cx=\"309\" cy=\"-73.5\" rx=\"27\" ry=\"18\"/>\n",
       "<text text-anchor=\"middle\" x=\"309\" y=\"-68.83\" font-family=\"Times,serif\" font-size=\"14.00\">*</text>\n",
       "</g>\n",
       "<!-- 140040423052992&#45;&gt;140040412175696* -->\n",
       "<g id=\"edge14\" class=\"edge\">\n",
       "<title>140040423052992&#45;&gt;140040412175696*</title>\n",
       "<path fill=\"none\" stroke=\"black\" d=\"M242.35,-73.5C252.31,-73.5 261.82,-73.5 270.35,-73.5\"/>\n",
       "<polygon fill=\"black\" stroke=\"black\" points=\"270.2,-77 280.2,-73.5 270.2,-70 270.2,-77\"/>\n",
       "</g>\n",
       "<!-- 140040412176656 -->\n",
       "<g id=\"node8\" class=\"node\">\n",
       "<title>140040412176656</title>\n",
       "<polygon fill=\"none\" stroke=\"black\" points=\"1230,-109.5 1230,-145.5 1459.5,-145.5 1459.5,-109.5 1230,-109.5\"/>\n",
       "<text text-anchor=\"middle\" x=\"1242.5\" y=\"-123.2\" font-family=\"Times,serif\" font-size=\"14.00\">n</text>\n",
       "<polyline fill=\"none\" stroke=\"black\" points=\"1255,-110.25 1255,-145.5\"/>\n",
       "<text text-anchor=\"middle\" x=\"1305.75\" y=\"-123.2\" font-family=\"Times,serif\" font-size=\"14.00\">data 0.8814</text>\n",
       "<polyline fill=\"none\" stroke=\"black\" points=\"1356.5,-110.25 1356.5,-145.5\"/>\n",
       "<text text-anchor=\"middle\" x=\"1408\" y=\"-123.2\" font-family=\"Times,serif\" font-size=\"14.00\">grad 0.0000</text>\n",
       "</g>\n",
       "<!-- 140040412179872tanh -->\n",
       "<g id=\"node14\" class=\"node\">\n",
       "<title>140040412179872tanh</title>\n",
       "<ellipse fill=\"none\" stroke=\"black\" cx=\"1529.35\" cy=\"-127.5\" rx=\"33.85\" ry=\"18\"/>\n",
       "<text text-anchor=\"middle\" x=\"1529.35\" y=\"-122.83\" font-family=\"Times,serif\" font-size=\"14.00\">tanh</text>\n",
       "</g>\n",
       "<!-- 140040412176656&#45;&gt;140040412179872tanh -->\n",
       "<g id=\"edge6\" class=\"edge\">\n",
       "<title>140040412176656&#45;&gt;140040412179872tanh</title>\n",
       "<path fill=\"none\" stroke=\"black\" d=\"M1459.83,-127.5C1468.26,-127.5 1476.4,-127.5 1483.96,-127.5\"/>\n",
       "<polygon fill=\"black\" stroke=\"black\" points=\"1483.79,-131 1493.79,-127.5 1483.79,-124 1483.79,-131\"/>\n",
       "</g>\n",
       "<!-- 140040412176656+&#45;&gt;140040412176656 -->\n",
       "<g id=\"edge3\" class=\"edge\">\n",
       "<title>140040412176656+&#45;&gt;140040412176656</title>\n",
       "<path fill=\"none\" stroke=\"black\" d=\"M1194.31,-127.5C1201.38,-127.5 1209.52,-127.5 1218.27,-127.5\"/>\n",
       "<polygon fill=\"black\" stroke=\"black\" points=\"1218.14,-131 1228.14,-127.5 1218.14,-124 1218.14,-131\"/>\n",
       "</g>\n",
       "<!-- 140040412175696 -->\n",
       "<g id=\"node10\" class=\"node\">\n",
       "<title>140040412175696</title>\n",
       "<polygon fill=\"none\" stroke=\"black\" points=\"374.25,-55.5 374.25,-91.5 639.75,-91.5 639.75,-55.5 374.25,-55.5\"/>\n",
       "<text text-anchor=\"middle\" x=\"404.75\" y=\"-69.2\" font-family=\"Times,serif\" font-size=\"14.00\">x2*w2</text>\n",
       "<polyline fill=\"none\" stroke=\"black\" points=\"435.25,-56.25 435.25,-91.5\"/>\n",
       "<text text-anchor=\"middle\" x=\"486\" y=\"-69.2\" font-family=\"Times,serif\" font-size=\"14.00\">data 0.0000</text>\n",
       "<polyline fill=\"none\" stroke=\"black\" points=\"536.75,-56.25 536.75,-91.5\"/>\n",
       "<text text-anchor=\"middle\" x=\"588.25\" y=\"-69.2\" font-family=\"Times,serif\" font-size=\"14.00\">grad 0.0000</text>\n",
       "</g>\n",
       "<!-- 140040412175696&#45;&gt;140040412175888+ -->\n",
       "<g id=\"edge9\" class=\"edge\">\n",
       "<title>140040412175696&#45;&gt;140040412175888+</title>\n",
       "<path fill=\"none\" stroke=\"black\" d=\"M640.09,-91.7C649.64,-93.01 658.7,-94.26 666.83,-95.38\"/>\n",
       "<polygon fill=\"black\" stroke=\"black\" points=\"666.15,-98.82 676.54,-96.72 667.11,-91.88 666.15,-98.82\"/>\n",
       "</g>\n",
       "<!-- 140040412175696*&#45;&gt;140040412175696 -->\n",
       "<g id=\"edge4\" class=\"edge\">\n",
       "<title>140040412175696*&#45;&gt;140040412175696</title>\n",
       "<path fill=\"none\" stroke=\"black\" d=\"M336.43,-73.5C344.1,-73.5 353.05,-73.5 362.77,-73.5\"/>\n",
       "<polygon fill=\"black\" stroke=\"black\" points=\"362.51,-77 372.51,-73.5 362.51,-70 362.51,-77\"/>\n",
       "</g>\n",
       "<!-- 140040423061344 -->\n",
       "<g id=\"node12\" class=\"node\">\n",
       "<title>140040423061344</title>\n",
       "<polygon fill=\"none\" stroke=\"black\" points=\"4.12,-110.5 4.12,-146.5 241.88,-146.5 241.88,-110.5 4.12,-110.5\"/>\n",
       "<text text-anchor=\"middle\" x=\"20.75\" y=\"-124.2\" font-family=\"Times,serif\" font-size=\"14.00\">x1</text>\n",
       "<polyline fill=\"none\" stroke=\"black\" points=\"37.38,-111.25 37.38,-146.5\"/>\n",
       "<text text-anchor=\"middle\" x=\"88.12\" y=\"-124.2\" font-family=\"Times,serif\" font-size=\"14.00\">data 2.0000</text>\n",
       "<polyline fill=\"none\" stroke=\"black\" points=\"138.88,-111.25 138.88,-146.5\"/>\n",
       "<text text-anchor=\"middle\" x=\"190.38\" y=\"-124.2\" font-family=\"Times,serif\" font-size=\"14.00\">grad 0.0000</text>\n",
       "</g>\n",
       "<!-- 140040423061344&#45;&gt;140040412179488* -->\n",
       "<g id=\"edge8\" class=\"edge\">\n",
       "<title>140040423061344&#45;&gt;140040412179488*</title>\n",
       "<path fill=\"none\" stroke=\"black\" d=\"M242.35,-128.5C252.31,-128.5 261.82,-128.5 270.35,-128.5\"/>\n",
       "<polygon fill=\"black\" stroke=\"black\" points=\"270.2,-132 280.2,-128.5 270.2,-125 270.2,-132\"/>\n",
       "</g>\n",
       "<!-- 140040412179872 -->\n",
       "<g id=\"node13\" class=\"node\">\n",
       "<title>140040412179872</title>\n",
       "<polygon fill=\"none\" stroke=\"black\" points=\"1599.19,-109.5 1599.19,-145.5 1827.94,-145.5 1827.94,-109.5 1599.19,-109.5\"/>\n",
       "<text text-anchor=\"middle\" x=\"1611.32\" y=\"-123.2\" font-family=\"Times,serif\" font-size=\"14.00\">o</text>\n",
       "<polyline fill=\"none\" stroke=\"black\" points=\"1623.44,-110.25 1623.44,-145.5\"/>\n",
       "<text text-anchor=\"middle\" x=\"1674.19\" y=\"-123.2\" font-family=\"Times,serif\" font-size=\"14.00\">data 0.7071</text>\n",
       "<polyline fill=\"none\" stroke=\"black\" points=\"1724.94,-110.25 1724.94,-145.5\"/>\n",
       "<text text-anchor=\"middle\" x=\"1776.44\" y=\"-123.2\" font-family=\"Times,serif\" font-size=\"14.00\">grad 0.0000</text>\n",
       "</g>\n",
       "<!-- 140040412179872tanh&#45;&gt;140040412179872 -->\n",
       "<g id=\"edge5\" class=\"edge\">\n",
       "<title>140040412179872tanh&#45;&gt;140040412179872</title>\n",
       "<path fill=\"none\" stroke=\"black\" d=\"M1563.35,-127.5C1570.7,-127.5 1578.92,-127.5 1587.63,-127.5\"/>\n",
       "<polygon fill=\"black\" stroke=\"black\" points=\"1587.36,-131 1597.36,-127.5 1587.36,-124 1587.36,-131\"/>\n",
       "</g>\n",
       "<!-- 140040423052224 -->\n",
       "<g id=\"node15\" class=\"node\">\n",
       "<title>140040423052224</title>\n",
       "<polygon fill=\"none\" stroke=\"black\" points=\"2.25,-0.5 2.25,-36.5 243.75,-36.5 243.75,-0.5 2.25,-0.5\"/>\n",
       "<text text-anchor=\"middle\" x=\"20.75\" y=\"-14.2\" font-family=\"Times,serif\" font-size=\"14.00\">w2</text>\n",
       "<polyline fill=\"none\" stroke=\"black\" points=\"39.25,-1.25 39.25,-36.5\"/>\n",
       "<text text-anchor=\"middle\" x=\"90\" y=\"-14.2\" font-family=\"Times,serif\" font-size=\"14.00\">data 1.0000</text>\n",
       "<polyline fill=\"none\" stroke=\"black\" points=\"140.75,-1.25 140.75,-36.5\"/>\n",
       "<text text-anchor=\"middle\" x=\"192.25\" y=\"-14.2\" font-family=\"Times,serif\" font-size=\"14.00\">grad 0.0000</text>\n",
       "</g>\n",
       "<!-- 140040423052224&#45;&gt;140040412175696* -->\n",
       "<g id=\"edge11\" class=\"edge\">\n",
       "<title>140040423052224&#45;&gt;140040412175696*</title>\n",
       "<path fill=\"none\" stroke=\"black\" d=\"M213.15,-36.94C224.3,-39.84 235.47,-43.03 246,-46.5 256.05,-49.81 266.7,-54.13 276.29,-58.35\"/>\n",
       "<polygon fill=\"black\" stroke=\"black\" points=\"274.64,-61.44 285.2,-62.38 277.53,-55.07 274.64,-61.44\"/>\n",
       "</g>\n",
       "</g>\n",
       "</svg>\n"
      ],
      "text/plain": [
       "<graphviz.graphs.Digraph at 0x7f5db3aba980>"
      ]
     },
     "execution_count": 11,
     "metadata": {},
     "output_type": "execute_result"
    }
   ],
   "source": [
    "draw_dot(o)"
   ]
  },
  {
   "cell_type": "code",
   "execution_count": 12,
   "id": "5a7493de",
   "metadata": {
    "execution": {
     "iopub.execute_input": "2024-05-15T11:40:13.108906Z",
     "iopub.status.busy": "2024-05-15T11:40:13.108225Z",
     "iopub.status.idle": "2024-05-15T11:40:13.112451Z",
     "shell.execute_reply": "2024-05-15T11:40:13.111602Z"
    },
    "papermill": {
     "duration": 0.026342,
     "end_time": "2024-05-15T11:40:13.114914",
     "exception": false,
     "start_time": "2024-05-15T11:40:13.088572",
     "status": "completed"
    },
    "tags": []
   },
   "outputs": [],
   "source": [
    "o.backward()"
   ]
  },
  {
   "cell_type": "code",
   "execution_count": 13,
   "id": "ca03c347",
   "metadata": {
    "execution": {
     "iopub.execute_input": "2024-05-15T11:40:13.148671Z",
     "iopub.status.busy": "2024-05-15T11:40:13.147967Z",
     "iopub.status.idle": "2024-05-15T11:40:13.157566Z",
     "shell.execute_reply": "2024-05-15T11:40:13.156192Z"
    },
    "papermill": {
     "duration": 0.030047,
     "end_time": "2024-05-15T11:40:13.160320",
     "exception": false,
     "start_time": "2024-05-15T11:40:13.130273",
     "status": "completed"
    },
    "tags": []
   },
   "outputs": [
    {
     "data": {
      "text/plain": [
       "[Value(data=-3.0, grad=0.9999999999999998),\n",
       " Value(data=2.0, grad=-1.4999999999999996),\n",
       " Value(data=-6.0, grad=0.4999999999999999),\n",
       " Value(data=0.0, grad=0.4999999999999999),\n",
       " Value(data=1.0, grad=0.0),\n",
       " Value(data=0.0, grad=0.4999999999999999),\n",
       " Value(data=-6.0, grad=0.4999999999999999),\n",
       " Value(data=6.881373587019543, grad=0.4999999999999999),\n",
       " Value(data=0.8813735870195432, grad=0.4999999999999999),\n",
       " Value(data=0.7071067811865476, grad=1.0)]"
      ]
     },
     "execution_count": 13,
     "metadata": {},
     "output_type": "execute_result"
    }
   ],
   "source": [
    "topo = []\n",
    "visited = set()\n",
    "def build_topo(v):\n",
    "    if v not in visited:\n",
    "        visited.add(v)\n",
    "        for child in v._prev:\n",
    "            build_topo(child)\n",
    "        topo.append(v)\n",
    "build_topo(o)\n",
    "topo"
   ]
  },
  {
   "cell_type": "code",
   "execution_count": 14,
   "id": "941053fe",
   "metadata": {
    "execution": {
     "iopub.execute_input": "2024-05-15T11:40:13.192981Z",
     "iopub.status.busy": "2024-05-15T11:40:13.192597Z",
     "iopub.status.idle": "2024-05-15T11:40:13.197704Z",
     "shell.execute_reply": "2024-05-15T11:40:13.196300Z"
    },
    "papermill": {
     "duration": 0.0245,
     "end_time": "2024-05-15T11:40:13.200175",
     "exception": false,
     "start_time": "2024-05-15T11:40:13.175675",
     "status": "completed"
    },
    "tags": []
   },
   "outputs": [],
   "source": [
    "o.grad = 1.0"
   ]
  },
  {
   "cell_type": "code",
   "execution_count": 15,
   "id": "ff520348",
   "metadata": {
    "execution": {
     "iopub.execute_input": "2024-05-15T11:40:13.232517Z",
     "iopub.status.busy": "2024-05-15T11:40:13.230927Z",
     "iopub.status.idle": "2024-05-15T11:40:13.237540Z",
     "shell.execute_reply": "2024-05-15T11:40:13.236416Z"
    },
    "papermill": {
     "duration": 0.025283,
     "end_time": "2024-05-15T11:40:13.240122",
     "exception": false,
     "start_time": "2024-05-15T11:40:13.214839",
     "status": "completed"
    },
    "tags": []
   },
   "outputs": [],
   "source": [
    "o._backward()\n",
    "n._backward()\n",
    "b._backward()\n",
    "x1w1x2w2._backward()"
   ]
  },
  {
   "cell_type": "code",
   "execution_count": 16,
   "id": "8135e5f3",
   "metadata": {
    "execution": {
     "iopub.execute_input": "2024-05-15T11:40:13.272565Z",
     "iopub.status.busy": "2024-05-15T11:40:13.271171Z",
     "iopub.status.idle": "2024-05-15T11:40:13.277160Z",
     "shell.execute_reply": "2024-05-15T11:40:13.275958Z"
    },
    "papermill": {
     "duration": 0.025171,
     "end_time": "2024-05-15T11:40:13.280128",
     "exception": false,
     "start_time": "2024-05-15T11:40:13.254957",
     "status": "completed"
    },
    "tags": []
   },
   "outputs": [],
   "source": [
    "x2w2._backward()\n",
    "x1w1._backward()"
   ]
  },
  {
   "cell_type": "code",
   "execution_count": 17,
   "id": "3a875060",
   "metadata": {
    "execution": {
     "iopub.execute_input": "2024-05-15T11:40:13.311456Z",
     "iopub.status.busy": "2024-05-15T11:40:13.311083Z",
     "iopub.status.idle": "2024-05-15T11:40:13.316973Z",
     "shell.execute_reply": "2024-05-15T11:40:13.315659Z"
    },
    "papermill": {
     "duration": 0.024547,
     "end_time": "2024-05-15T11:40:13.319483",
     "exception": false,
     "start_time": "2024-05-15T11:40:13.294936",
     "status": "completed"
    },
    "tags": []
   },
   "outputs": [],
   "source": [
    "x1.grad = w1.data * x1w1.grad\n",
    "w1.grad = x1.data * x1w1.grad\n",
    "\n",
    "x2.grad = w2.data * x2w2.grad\n",
    "w2.grad = x2.data * x2w2.grad"
   ]
  },
  {
   "cell_type": "code",
   "execution_count": 18,
   "id": "8aae274b",
   "metadata": {
    "execution": {
     "iopub.execute_input": "2024-05-15T11:40:13.350770Z",
     "iopub.status.busy": "2024-05-15T11:40:13.350358Z",
     "iopub.status.idle": "2024-05-15T11:40:13.359345Z",
     "shell.execute_reply": "2024-05-15T11:40:13.358071Z"
    },
    "papermill": {
     "duration": 0.027706,
     "end_time": "2024-05-15T11:40:13.361880",
     "exception": false,
     "start_time": "2024-05-15T11:40:13.334174",
     "status": "completed"
    },
    "tags": []
   },
   "outputs": [
    {
     "data": {
      "text/plain": [
       "0.4999999999999999"
      ]
     },
     "execution_count": 18,
     "metadata": {},
     "output_type": "execute_result"
    }
   ],
   "source": [
    "x1w1.grad = 0.5\n",
    "x2w2.grad = 0.5\n",
    "\n",
    "x1w1x2w2.grad = 0.5\n",
    "b.grad = 0.5\n",
    "n.grad = 0.5\n",
    "o.grad = 1.0\n",
    "1 - o.data**2"
   ]
  },
  {
   "cell_type": "markdown",
   "id": "dce6bd12",
   "metadata": {
    "papermill": {
     "duration": 0.014389,
     "end_time": "2024-05-15T11:40:13.391181",
     "exception": false,
     "start_time": "2024-05-15T11:40:13.376792",
     "status": "completed"
    },
    "tags": []
   },
   "source": [
    "o = tanh(n) \\\n",
    "do/dn = 1 - o**2"
   ]
  },
  {
   "cell_type": "code",
   "execution_count": 19,
   "id": "d0567e3c",
   "metadata": {
    "execution": {
     "iopub.execute_input": "2024-05-15T11:40:13.423736Z",
     "iopub.status.busy": "2024-05-15T11:40:13.423328Z",
     "iopub.status.idle": "2024-05-15T11:40:13.454833Z",
     "shell.execute_reply": "2024-05-15T11:40:13.453895Z"
    },
    "papermill": {
     "duration": 0.051007,
     "end_time": "2024-05-15T11:40:13.457481",
     "exception": false,
     "start_time": "2024-05-15T11:40:13.406474",
     "status": "completed"
    },
    "tags": []
   },
   "outputs": [
    {
     "data": {
      "image/svg+xml": [
       "<?xml version=\"1.0\" encoding=\"UTF-8\" standalone=\"no\"?>\n",
       "<!DOCTYPE svg PUBLIC \"-//W3C//DTD SVG 1.1//EN\"\n",
       " \"http://www.w3.org/Graphics/SVG/1.1/DTD/svg11.dtd\">\n",
       "<!-- Generated by graphviz version 9.0.0 (20231125.0833)\n",
       " -->\n",
       "<!-- Pages: 1 -->\n",
       "<svg width=\"592pt\" height=\"45pt\"\n",
       " viewBox=\"0.00 0.00 592.25 45.00\" xmlns=\"http://www.w3.org/2000/svg\" xmlns:xlink=\"http://www.w3.org/1999/xlink\">\n",
       "<g id=\"graph0\" class=\"graph\" transform=\"scale(1 1) rotate(0) translate(4 41)\">\n",
       "<polygon fill=\"white\" stroke=\"none\" points=\"-4,4 -4,-41 588.25,-41 588.25,4 -4,4\"/>\n",
       "<!-- 140040412176320 -->\n",
       "<g id=\"node1\" class=\"node\">\n",
       "<title>140040412176320</title>\n",
       "<polygon fill=\"none\" stroke=\"black\" points=\"354.75,-0.5 354.75,-36.5 584.25,-36.5 584.25,-0.5 354.75,-0.5\"/>\n",
       "<text text-anchor=\"middle\" x=\"367.25\" y=\"-14.2\" font-family=\"Times,serif\" font-size=\"14.00\">b</text>\n",
       "<polyline fill=\"none\" stroke=\"black\" points=\"379.75,-1.25 379.75,-36.5\"/>\n",
       "<text text-anchor=\"middle\" x=\"430.5\" y=\"-14.2\" font-family=\"Times,serif\" font-size=\"14.00\">data 6.0000</text>\n",
       "<polyline fill=\"none\" stroke=\"black\" points=\"481.25,-1.25 481.25,-36.5\"/>\n",
       "<text text-anchor=\"middle\" x=\"532.75\" y=\"-14.2\" font-family=\"Times,serif\" font-size=\"14.00\">grad 1.0000</text>\n",
       "</g>\n",
       "<!-- 140040412176320+ -->\n",
       "<g id=\"node2\" class=\"node\">\n",
       "<title>140040412176320+</title>\n",
       "<ellipse fill=\"none\" stroke=\"black\" cx=\"291.75\" cy=\"-18.5\" rx=\"27\" ry=\"18\"/>\n",
       "<text text-anchor=\"middle\" x=\"291.75\" y=\"-13.82\" font-family=\"Times,serif\" font-size=\"14.00\">+</text>\n",
       "</g>\n",
       "<!-- 140040412176320+&#45;&gt;140040412176320 -->\n",
       "<g id=\"edge1\" class=\"edge\">\n",
       "<title>140040412176320+&#45;&gt;140040412176320</title>\n",
       "<path fill=\"none\" stroke=\"black\" d=\"M319.06,-18.5C326.13,-18.5 334.27,-18.5 343.02,-18.5\"/>\n",
       "<polygon fill=\"black\" stroke=\"black\" points=\"342.89,-22 352.89,-18.5 342.89,-15 342.89,-22\"/>\n",
       "</g>\n",
       "<!-- 140040412176464 -->\n",
       "<g id=\"node3\" class=\"node\">\n",
       "<title>140040412176464</title>\n",
       "<polygon fill=\"none\" stroke=\"black\" points=\"0,-0.5 0,-36.5 228.75,-36.5 228.75,-0.5 0,-0.5\"/>\n",
       "<text text-anchor=\"middle\" x=\"12.12\" y=\"-14.2\" font-family=\"Times,serif\" font-size=\"14.00\">a</text>\n",
       "<polyline fill=\"none\" stroke=\"black\" points=\"24.25,-1.25 24.25,-36.5\"/>\n",
       "<text text-anchor=\"middle\" x=\"75\" y=\"-14.2\" font-family=\"Times,serif\" font-size=\"14.00\">data 3.0000</text>\n",
       "<polyline fill=\"none\" stroke=\"black\" points=\"125.75,-1.25 125.75,-36.5\"/>\n",
       "<text text-anchor=\"middle\" x=\"177.25\" y=\"-14.2\" font-family=\"Times,serif\" font-size=\"14.00\">grad 2.0000</text>\n",
       "</g>\n",
       "<!-- 140040412176464&#45;&gt;140040412176320+ -->\n",
       "<g id=\"edge2\" class=\"edge\">\n",
       "<title>140040412176464&#45;&gt;140040412176320+</title>\n",
       "<path fill=\"none\" stroke=\"black\" d=\"M228.92,-18.5C237.46,-18.5 245.64,-18.5 253.1,-18.5\"/>\n",
       "<polygon fill=\"black\" stroke=\"black\" points=\"253.01,-22 263.01,-18.5 253.01,-15 253.01,-22\"/>\n",
       "</g>\n",
       "</g>\n",
       "</svg>\n"
      ],
      "text/plain": [
       "<graphviz.graphs.Digraph at 0x7f5db30438b0>"
      ]
     },
     "execution_count": 19,
     "metadata": {},
     "output_type": "execute_result"
    }
   ],
   "source": [
    "a = Value(3.0, label='a')\n",
    "b = a + a   ; b.label = 'b'\n",
    "b.backward()\n",
    "draw_dot(b)"
   ]
  },
  {
   "cell_type": "code",
   "execution_count": 20,
   "id": "58883b53",
   "metadata": {
    "execution": {
     "iopub.execute_input": "2024-05-15T11:40:13.489755Z",
     "iopub.status.busy": "2024-05-15T11:40:13.489344Z",
     "iopub.status.idle": "2024-05-15T11:40:13.522855Z",
     "shell.execute_reply": "2024-05-15T11:40:13.521608Z"
    },
    "papermill": {
     "duration": 0.052738,
     "end_time": "2024-05-15T11:40:13.525531",
     "exception": false,
     "start_time": "2024-05-15T11:40:13.472793",
     "status": "completed"
    },
    "tags": []
   },
   "outputs": [
    {
     "data": {
      "image/svg+xml": [
       "<?xml version=\"1.0\" encoding=\"UTF-8\" standalone=\"no\"?>\n",
       "<!DOCTYPE svg PUBLIC \"-//W3C//DTD SVG 1.1//EN\"\n",
       " \"http://www.w3.org/Graphics/SVG/1.1/DTD/svg11.dtd\">\n",
       "<!-- Generated by graphviz version 9.0.0 (20231125.0833)\n",
       " -->\n",
       "<!-- Pages: 1 -->\n",
       "<svg width=\"962pt\" height=\"100pt\"\n",
       " viewBox=\"0.00 0.00 962.00 100.00\" xmlns=\"http://www.w3.org/2000/svg\" xmlns:xlink=\"http://www.w3.org/1999/xlink\">\n",
       "<g id=\"graph0\" class=\"graph\" transform=\"scale(1 1) rotate(0) translate(4 96)\">\n",
       "<polygon fill=\"white\" stroke=\"none\" points=\"-4,4 -4,-96 958,-96 958,4 -4,4\"/>\n",
       "<!-- 140040412174880 -->\n",
       "<g id=\"node1\" class=\"node\">\n",
       "<title>140040412174880</title>\n",
       "<polygon fill=\"none\" stroke=\"black\" points=\"363.75,-55.5 363.75,-91.5 597.75,-91.5 597.75,-55.5 363.75,-55.5\"/>\n",
       "<text text-anchor=\"middle\" x=\"376.25\" y=\"-69.2\" font-family=\"Times,serif\" font-size=\"14.00\">d</text>\n",
       "<polyline fill=\"none\" stroke=\"black\" points=\"388.75,-56.25 388.75,-91.5\"/>\n",
       "<text text-anchor=\"middle\" x=\"441.75\" y=\"-69.2\" font-family=\"Times,serif\" font-size=\"14.00\">data &#45;6.0000</text>\n",
       "<polyline fill=\"none\" stroke=\"black\" points=\"494.75,-56.25 494.75,-91.5\"/>\n",
       "<text text-anchor=\"middle\" x=\"546.25\" y=\"-69.2\" font-family=\"Times,serif\" font-size=\"14.00\">grad 1.0000</text>\n",
       "</g>\n",
       "<!-- 140040412180256* -->\n",
       "<g id=\"node7\" class=\"node\">\n",
       "<title>140040412180256*</title>\n",
       "<ellipse fill=\"none\" stroke=\"black\" cx=\"660.75\" cy=\"-45.5\" rx=\"27\" ry=\"18\"/>\n",
       "<text text-anchor=\"middle\" x=\"660.75\" y=\"-40.83\" font-family=\"Times,serif\" font-size=\"14.00\">*</text>\n",
       "</g>\n",
       "<!-- 140040412174880&#45;&gt;140040412180256* -->\n",
       "<g id=\"edge9\" class=\"edge\">\n",
       "<title>140040412174880&#45;&gt;140040412180256*</title>\n",
       "<path fill=\"none\" stroke=\"black\" d=\"M597.99,-55.21C606.82,-53.83 615.26,-52.5 622.9,-51.3\"/>\n",
       "<polygon fill=\"black\" stroke=\"black\" points=\"623.37,-54.77 632.71,-49.75 622.28,-47.85 623.37,-54.77\"/>\n",
       "</g>\n",
       "<!-- 140040412174880* -->\n",
       "<g id=\"node2\" class=\"node\">\n",
       "<title>140040412174880*</title>\n",
       "<ellipse fill=\"none\" stroke=\"black\" cx=\"300.75\" cy=\"-73.5\" rx=\"27\" ry=\"18\"/>\n",
       "<text text-anchor=\"middle\" x=\"300.75\" y=\"-68.83\" font-family=\"Times,serif\" font-size=\"14.00\">*</text>\n",
       "</g>\n",
       "<!-- 140040412174880*&#45;&gt;140040412174880 -->\n",
       "<g id=\"edge1\" class=\"edge\">\n",
       "<title>140040412174880*&#45;&gt;140040412174880</title>\n",
       "<path fill=\"none\" stroke=\"black\" d=\"M328.01,-73.5C335.09,-73.5 343.23,-73.5 352,-73.5\"/>\n",
       "<polygon fill=\"black\" stroke=\"black\" points=\"351.9,-77 361.9,-73.5 351.9,-70 351.9,-77\"/>\n",
       "</g>\n",
       "<!-- 140040412084880 -->\n",
       "<g id=\"node3\" class=\"node\">\n",
       "<title>140040412084880</title>\n",
       "<polygon fill=\"none\" stroke=\"black\" points=\"1.88,-55.5 1.88,-91.5 235.88,-91.5 235.88,-55.5 1.88,-55.5\"/>\n",
       "<text text-anchor=\"middle\" x=\"14.38\" y=\"-69.2\" font-family=\"Times,serif\" font-size=\"14.00\">b</text>\n",
       "<polyline fill=\"none\" stroke=\"black\" points=\"26.88,-56.25 26.88,-91.5\"/>\n",
       "<text text-anchor=\"middle\" x=\"77.62\" y=\"-69.2\" font-family=\"Times,serif\" font-size=\"14.00\">data 3.0000</text>\n",
       "<polyline fill=\"none\" stroke=\"black\" points=\"128.38,-56.25 128.38,-91.5\"/>\n",
       "<text text-anchor=\"middle\" x=\"182.12\" y=\"-69.2\" font-family=\"Times,serif\" font-size=\"14.00\">grad &#45;8.0000</text>\n",
       "</g>\n",
       "<!-- 140040412084880&#45;&gt;140040412174880* -->\n",
       "<g id=\"edge4\" class=\"edge\">\n",
       "<title>140040412084880&#45;&gt;140040412174880*</title>\n",
       "<path fill=\"none\" stroke=\"black\" d=\"M236.33,-73.5C245.48,-73.5 254.23,-73.5 262.15,-73.5\"/>\n",
       "<polygon fill=\"black\" stroke=\"black\" points=\"261.96,-77 271.96,-73.5 261.96,-70 261.96,-77\"/>\n",
       "</g>\n",
       "<!-- 140040412178624+ -->\n",
       "<g id=\"node5\" class=\"node\">\n",
       "<title>140040412178624+</title>\n",
       "<ellipse fill=\"none\" stroke=\"black\" cx=\"300.75\" cy=\"-18.5\" rx=\"27\" ry=\"18\"/>\n",
       "<text text-anchor=\"middle\" x=\"300.75\" y=\"-13.82\" font-family=\"Times,serif\" font-size=\"14.00\">+</text>\n",
       "</g>\n",
       "<!-- 140040412084880&#45;&gt;140040412178624+ -->\n",
       "<g id=\"edge5\" class=\"edge\">\n",
       "<title>140040412084880&#45;&gt;140040412178624+</title>\n",
       "<path fill=\"none\" stroke=\"black\" d=\"M209.22,-55.02C218.93,-52.43 228.6,-49.58 237.75,-46.5 247.92,-43.08 258.67,-38.56 268.32,-34.15\"/>\n",
       "<polygon fill=\"black\" stroke=\"black\" points=\"269.72,-37.36 277.28,-29.94 266.74,-31.03 269.72,-37.36\"/>\n",
       "</g>\n",
       "<!-- 140040412178624 -->\n",
       "<g id=\"node4\" class=\"node\">\n",
       "<title>140040412178624</title>\n",
       "<polygon fill=\"none\" stroke=\"black\" points=\"364.12,-0.5 364.12,-36.5 597.38,-36.5 597.38,-0.5 364.12,-0.5\"/>\n",
       "<text text-anchor=\"middle\" x=\"376.25\" y=\"-14.2\" font-family=\"Times,serif\" font-size=\"14.00\">e</text>\n",
       "<polyline fill=\"none\" stroke=\"black\" points=\"388.38,-1.25 388.38,-36.5\"/>\n",
       "<text text-anchor=\"middle\" x=\"439.12\" y=\"-14.2\" font-family=\"Times,serif\" font-size=\"14.00\">data 1.0000</text>\n",
       "<polyline fill=\"none\" stroke=\"black\" points=\"489.88,-1.25 489.88,-36.5\"/>\n",
       "<text text-anchor=\"middle\" x=\"543.62\" y=\"-14.2\" font-family=\"Times,serif\" font-size=\"14.00\">grad &#45;6.0000</text>\n",
       "</g>\n",
       "<!-- 140040412178624&#45;&gt;140040412180256* -->\n",
       "<g id=\"edge7\" class=\"edge\">\n",
       "<title>140040412178624&#45;&gt;140040412180256*</title>\n",
       "<path fill=\"none\" stroke=\"black\" d=\"M597.49,-36.06C606.49,-37.42 615.08,-38.72 622.86,-39.9\"/>\n",
       "<polygon fill=\"black\" stroke=\"black\" points=\"622.07,-43.32 632.48,-41.36 623.12,-36.4 622.07,-43.32\"/>\n",
       "</g>\n",
       "<!-- 140040412178624+&#45;&gt;140040412178624 -->\n",
       "<g id=\"edge2\" class=\"edge\">\n",
       "<title>140040412178624+&#45;&gt;140040412178624</title>\n",
       "<path fill=\"none\" stroke=\"black\" d=\"M328.01,-18.5C335.23,-18.5 343.57,-18.5 352.55,-18.5\"/>\n",
       "<polygon fill=\"black\" stroke=\"black\" points=\"352.28,-22 362.28,-18.5 352.28,-15 352.28,-22\"/>\n",
       "</g>\n",
       "<!-- 140040412180256 -->\n",
       "<g id=\"node6\" class=\"node\">\n",
       "<title>140040412180256</title>\n",
       "<polygon fill=\"none\" stroke=\"black\" points=\"723.75,-27.5 723.75,-63.5 954,-63.5 954,-27.5 723.75,-27.5\"/>\n",
       "<text text-anchor=\"middle\" x=\"734.38\" y=\"-41.2\" font-family=\"Times,serif\" font-size=\"14.00\">f</text>\n",
       "<polyline fill=\"none\" stroke=\"black\" points=\"745,-28.25 745,-63.5\"/>\n",
       "<text text-anchor=\"middle\" x=\"798\" y=\"-41.2\" font-family=\"Times,serif\" font-size=\"14.00\">data &#45;6.0000</text>\n",
       "<polyline fill=\"none\" stroke=\"black\" points=\"851,-28.25 851,-63.5\"/>\n",
       "<text text-anchor=\"middle\" x=\"902.5\" y=\"-41.2\" font-family=\"Times,serif\" font-size=\"14.00\">grad 1.0000</text>\n",
       "</g>\n",
       "<!-- 140040412180256*&#45;&gt;140040412180256 -->\n",
       "<g id=\"edge3\" class=\"edge\">\n",
       "<title>140040412180256*&#45;&gt;140040412180256</title>\n",
       "<path fill=\"none\" stroke=\"black\" d=\"M688.12,-45.5C695.2,-45.5 703.36,-45.5 712.13,-45.5\"/>\n",
       "<polygon fill=\"black\" stroke=\"black\" points=\"712.02,-49 722.02,-45.5 712.02,-42 712.02,-49\"/>\n",
       "</g>\n",
       "<!-- 140040412070288 -->\n",
       "<g id=\"node8\" class=\"node\">\n",
       "<title>140040412070288</title>\n",
       "<polygon fill=\"none\" stroke=\"black\" points=\"0,-0.5 0,-36.5 237.75,-36.5 237.75,-0.5 0,-0.5\"/>\n",
       "<text text-anchor=\"middle\" x=\"12.12\" y=\"-14.2\" font-family=\"Times,serif\" font-size=\"14.00\">a</text>\n",
       "<polyline fill=\"none\" stroke=\"black\" points=\"24.25,-1.25 24.25,-36.5\"/>\n",
       "<text text-anchor=\"middle\" x=\"77.25\" y=\"-14.2\" font-family=\"Times,serif\" font-size=\"14.00\">data &#45;2.0000</text>\n",
       "<polyline fill=\"none\" stroke=\"black\" points=\"130.25,-1.25 130.25,-36.5\"/>\n",
       "<text text-anchor=\"middle\" x=\"184\" y=\"-14.2\" font-family=\"Times,serif\" font-size=\"14.00\">grad &#45;3.0000</text>\n",
       "</g>\n",
       "<!-- 140040412070288&#45;&gt;140040412174880* -->\n",
       "<g id=\"edge6\" class=\"edge\">\n",
       "<title>140040412070288&#45;&gt;140040412174880*</title>\n",
       "<path fill=\"none\" stroke=\"black\" d=\"M205.69,-36.99C216.56,-39.89 227.47,-43.07 237.75,-46.5 247.78,-49.85 258.43,-54.18 268.02,-58.4\"/>\n",
       "<polygon fill=\"black\" stroke=\"black\" points=\"266.38,-61.49 276.93,-62.42 269.26,-55.11 266.38,-61.49\"/>\n",
       "</g>\n",
       "<!-- 140040412070288&#45;&gt;140040412178624+ -->\n",
       "<g id=\"edge8\" class=\"edge\">\n",
       "<title>140040412070288&#45;&gt;140040412178624+</title>\n",
       "<path fill=\"none\" stroke=\"black\" d=\"M238.1,-18.5C246.57,-18.5 254.67,-18.5 262.05,-18.5\"/>\n",
       "<polygon fill=\"black\" stroke=\"black\" points=\"261.86,-22 271.86,-18.5 261.86,-15 261.86,-22\"/>\n",
       "</g>\n",
       "</g>\n",
       "</svg>\n"
      ],
      "text/plain": [
       "<graphviz.graphs.Digraph at 0x7f5db3043d90>"
      ]
     },
     "execution_count": 20,
     "metadata": {},
     "output_type": "execute_result"
    }
   ],
   "source": [
    "a = Value(-2.0, label='a')\n",
    "b = Value(3.0, label='b')\n",
    "d = a * b    ; d.label = 'd'\n",
    "e = a + b    ; e.label = 'e'\n",
    "f = d * e    ; f.label = 'f'\n",
    "\n",
    "f.backward()\n",
    "\n",
    "draw_dot(f)"
   ]
  },
  {
   "cell_type": "markdown",
   "id": "4537278c",
   "metadata": {
    "execution": {
     "iopub.execute_input": "2024-05-15T10:08:54.910828Z",
     "iopub.status.busy": "2024-05-15T10:08:54.910401Z",
     "iopub.status.idle": "2024-05-15T10:08:54.942006Z",
     "shell.execute_reply": "2024-05-15T10:08:54.941107Z",
     "shell.execute_reply.started": "2024-05-15T10:08:54.910796Z"
    },
    "papermill": {
     "duration": 0.015556,
     "end_time": "2024-05-15T11:40:13.557242",
     "exception": false,
     "start_time": "2024-05-15T11:40:13.541686",
     "status": "completed"
    },
    "tags": []
   },
   "source": [
    "This works for `__add__` and `__mul__` but doesn't work for $2*a$ rather only works for $a*2$ \\\n",
    "Because, $a*2$ is translated to `a.__mul__(2)`\n",
    "hence, we use `__rmul__`"
   ]
  },
  {
   "cell_type": "code",
   "execution_count": 21,
   "id": "ecb7cfbb",
   "metadata": {
    "execution": {
     "iopub.execute_input": "2024-05-15T11:40:13.591141Z",
     "iopub.status.busy": "2024-05-15T11:40:13.590411Z",
     "iopub.status.idle": "2024-05-15T11:40:13.596843Z",
     "shell.execute_reply": "2024-05-15T11:40:13.595526Z"
    },
    "papermill": {
     "duration": 0.026929,
     "end_time": "2024-05-15T11:40:13.599660",
     "exception": false,
     "start_time": "2024-05-15T11:40:13.572731",
     "status": "completed"
    },
    "tags": []
   },
   "outputs": [
    {
     "data": {
      "text/plain": [
       "Value(data=-1.0, grad=0.0)"
      ]
     },
     "execution_count": 21,
     "metadata": {},
     "output_type": "execute_result"
    }
   ],
   "source": [
    "a + 1"
   ]
  },
  {
   "cell_type": "code",
   "execution_count": 22,
   "id": "39bde8f7",
   "metadata": {
    "execution": {
     "iopub.execute_input": "2024-05-15T11:40:13.633279Z",
     "iopub.status.busy": "2024-05-15T11:40:13.632869Z",
     "iopub.status.idle": "2024-05-15T11:40:13.638387Z",
     "shell.execute_reply": "2024-05-15T11:40:13.637640Z"
    },
    "papermill": {
     "duration": 0.025088,
     "end_time": "2024-05-15T11:40:13.640601",
     "exception": false,
     "start_time": "2024-05-15T11:40:13.615513",
     "status": "completed"
    },
    "tags": []
   },
   "outputs": [
    {
     "data": {
      "text/plain": [
       "Value(data=-4.0, grad=0.0)"
      ]
     },
     "execution_count": 22,
     "metadata": {},
     "output_type": "execute_result"
    }
   ],
   "source": [
    "2*a"
   ]
  },
  {
   "cell_type": "code",
   "execution_count": 23,
   "id": "50d96ffb",
   "metadata": {
    "execution": {
     "iopub.execute_input": "2024-05-15T11:40:13.674252Z",
     "iopub.status.busy": "2024-05-15T11:40:13.673847Z",
     "iopub.status.idle": "2024-05-15T11:40:13.679715Z",
     "shell.execute_reply": "2024-05-15T11:40:13.678611Z"
    },
    "papermill": {
     "duration": 0.025363,
     "end_time": "2024-05-15T11:40:13.682116",
     "exception": false,
     "start_time": "2024-05-15T11:40:13.656753",
     "status": "completed"
    },
    "tags": []
   },
   "outputs": [
    {
     "data": {
      "text/plain": [
       "Value(data=-4.0, grad=0.0)"
      ]
     },
     "execution_count": 23,
     "metadata": {},
     "output_type": "execute_result"
    }
   ],
   "source": [
    "a*2"
   ]
  },
  {
   "cell_type": "code",
   "execution_count": 24,
   "id": "8fd67b18",
   "metadata": {
    "execution": {
     "iopub.execute_input": "2024-05-15T11:40:13.717159Z",
     "iopub.status.busy": "2024-05-15T11:40:13.716731Z",
     "iopub.status.idle": "2024-05-15T11:40:13.724096Z",
     "shell.execute_reply": "2024-05-15T11:40:13.722786Z"
    },
    "papermill": {
     "duration": 0.027233,
     "end_time": "2024-05-15T11:40:13.726609",
     "exception": false,
     "start_time": "2024-05-15T11:40:13.699376",
     "status": "completed"
    },
    "tags": []
   },
   "outputs": [
    {
     "data": {
      "text/plain": [
       "Value(data=-1.0, grad=0.0)"
      ]
     },
     "execution_count": 24,
     "metadata": {},
     "output_type": "execute_result"
    }
   ],
   "source": [
    "a/2"
   ]
  },
  {
   "cell_type": "code",
   "execution_count": 25,
   "id": "48c95c92",
   "metadata": {
    "execution": {
     "iopub.execute_input": "2024-05-15T11:40:13.761013Z",
     "iopub.status.busy": "2024-05-15T11:40:13.760582Z",
     "iopub.status.idle": "2024-05-15T11:40:13.768053Z",
     "shell.execute_reply": "2024-05-15T11:40:13.766673Z"
    },
    "papermill": {
     "duration": 0.02797,
     "end_time": "2024-05-15T11:40:13.770593",
     "exception": false,
     "start_time": "2024-05-15T11:40:13.742623",
     "status": "completed"
    },
    "tags": []
   },
   "outputs": [
    {
     "data": {
      "text/plain": [
       "Value(data=-8.0, grad=0.0)"
      ]
     },
     "execution_count": 25,
     "metadata": {},
     "output_type": "execute_result"
    }
   ],
   "source": [
    "a ** 3"
   ]
  },
  {
   "cell_type": "code",
   "execution_count": 26,
   "id": "b5e48861",
   "metadata": {
    "execution": {
     "iopub.execute_input": "2024-05-15T11:40:13.803895Z",
     "iopub.status.busy": "2024-05-15T11:40:13.803536Z",
     "iopub.status.idle": "2024-05-15T11:40:13.810829Z",
     "shell.execute_reply": "2024-05-15T11:40:13.809377Z"
    },
    "papermill": {
     "duration": 0.027146,
     "end_time": "2024-05-15T11:40:13.813425",
     "exception": false,
     "start_time": "2024-05-15T11:40:13.786279",
     "status": "completed"
    },
    "tags": []
   },
   "outputs": [
    {
     "data": {
      "text/plain": [
       "Value(data=2.0, grad=0.0)"
      ]
     },
     "execution_count": 26,
     "metadata": {},
     "output_type": "execute_result"
    }
   ],
   "source": [
    "-a"
   ]
  },
  {
   "cell_type": "code",
   "execution_count": 27,
   "id": "de43b3d1",
   "metadata": {
    "execution": {
     "iopub.execute_input": "2024-05-15T11:40:13.847379Z",
     "iopub.status.busy": "2024-05-15T11:40:13.846927Z",
     "iopub.status.idle": "2024-05-15T11:40:13.853559Z",
     "shell.execute_reply": "2024-05-15T11:40:13.852502Z"
    },
    "papermill": {
     "duration": 0.026409,
     "end_time": "2024-05-15T11:40:13.856087",
     "exception": false,
     "start_time": "2024-05-15T11:40:13.829678",
     "status": "completed"
    },
    "tags": []
   },
   "outputs": [
    {
     "data": {
      "text/plain": [
       "Value(data=-6.0, grad=0.0)"
      ]
     },
     "execution_count": 27,
     "metadata": {},
     "output_type": "execute_result"
    }
   ],
   "source": [
    "a - 4"
   ]
  },
  {
   "cell_type": "markdown",
   "id": "a5786012",
   "metadata": {
    "papermill": {
     "duration": 0.015877,
     "end_time": "2024-05-15T11:40:13.887905",
     "exception": false,
     "start_time": "2024-05-15T11:40:13.872028",
     "status": "completed"
    },
    "tags": []
   },
   "source": [
    "## Proper RunThrough"
   ]
  },
  {
   "cell_type": "code",
   "execution_count": 28,
   "id": "2dfe049e",
   "metadata": {
    "execution": {
     "iopub.execute_input": "2024-05-15T11:40:13.921778Z",
     "iopub.status.busy": "2024-05-15T11:40:13.921386Z",
     "iopub.status.idle": "2024-05-15T11:40:13.963693Z",
     "shell.execute_reply": "2024-05-15T11:40:13.962472Z"
    },
    "papermill": {
     "duration": 0.062404,
     "end_time": "2024-05-15T11:40:13.966438",
     "exception": false,
     "start_time": "2024-05-15T11:40:13.904034",
     "status": "completed"
    },
    "tags": []
   },
   "outputs": [
    {
     "data": {
      "image/svg+xml": [
       "<?xml version=\"1.0\" encoding=\"UTF-8\" standalone=\"no\"?>\n",
       "<!DOCTYPE svg PUBLIC \"-//W3C//DTD SVG 1.1//EN\"\n",
       " \"http://www.w3.org/Graphics/SVG/1.1/DTD/svg11.dtd\">\n",
       "<!-- Generated by graphviz version 9.0.0 (20231125.0833)\n",
       " -->\n",
       "<!-- Pages: 1 -->\n",
       "<svg width=\"3410pt\" height=\"239pt\"\n",
       " viewBox=\"0.00 0.00 3410.47 239.00\" xmlns=\"http://www.w3.org/2000/svg\" xmlns:xlink=\"http://www.w3.org/1999/xlink\">\n",
       "<g id=\"graph0\" class=\"graph\" transform=\"scale(1 1) rotate(0) translate(4 235)\">\n",
       "<polygon fill=\"white\" stroke=\"none\" points=\"-4,4 -4,-235 3406.47,-235 3406.47,4 -4,4\"/>\n",
       "<!-- 140040412181504 -->\n",
       "<g id=\"node1\" class=\"node\">\n",
       "<title>140040412181504</title>\n",
       "<polygon fill=\"none\" stroke=\"black\" points=\"2.25,-194.5 2.25,-230.5 243.75,-230.5 243.75,-194.5 2.25,-194.5\"/>\n",
       "<text text-anchor=\"middle\" x=\"20.75\" y=\"-208.2\" font-family=\"Times,serif\" font-size=\"14.00\">w2</text>\n",
       "<polyline fill=\"none\" stroke=\"black\" points=\"39.25,-195.25 39.25,-230.5\"/>\n",
       "<text text-anchor=\"middle\" x=\"90\" y=\"-208.2\" font-family=\"Times,serif\" font-size=\"14.00\">data 1.0000</text>\n",
       "<polyline fill=\"none\" stroke=\"black\" points=\"140.75,-195.25 140.75,-230.5\"/>\n",
       "<text text-anchor=\"middle\" x=\"192.25\" y=\"-208.2\" font-family=\"Times,serif\" font-size=\"14.00\">grad 0.0000</text>\n",
       "</g>\n",
       "<!-- 140040412176224* -->\n",
       "<g id=\"node20\" class=\"node\">\n",
       "<title>140040412176224*</title>\n",
       "<ellipse fill=\"none\" stroke=\"black\" cx=\"309\" cy=\"-157.5\" rx=\"27\" ry=\"18\"/>\n",
       "<text text-anchor=\"middle\" x=\"309\" y=\"-152.82\" font-family=\"Times,serif\" font-size=\"14.00\">*</text>\n",
       "</g>\n",
       "<!-- 140040412181504&#45;&gt;140040412176224* -->\n",
       "<g id=\"edge26\" class=\"edge\">\n",
       "<title>140040412181504&#45;&gt;140040412176224*</title>\n",
       "<path fill=\"none\" stroke=\"black\" d=\"M216.81,-194.07C226.74,-191.47 236.63,-188.61 246,-185.5 256.18,-182.12 266.94,-177.61 276.59,-173.2\"/>\n",
       "<polygon fill=\"black\" stroke=\"black\" points=\"277.99,-176.41 285.55,-168.98 275.01,-170.08 277.99,-176.41\"/>\n",
       "</g>\n",
       "<!-- 140040412183568 -->\n",
       "<g id=\"node2\" class=\"node\">\n",
       "<title>140040412183568</title>\n",
       "<polygon fill=\"none\" stroke=\"black\" points=\"4.12,-139.5 4.12,-175.5 241.88,-175.5 241.88,-139.5 4.12,-139.5\"/>\n",
       "<text text-anchor=\"middle\" x=\"20.75\" y=\"-153.2\" font-family=\"Times,serif\" font-size=\"14.00\">x2</text>\n",
       "<polyline fill=\"none\" stroke=\"black\" points=\"37.38,-140.25 37.38,-175.5\"/>\n",
       "<text text-anchor=\"middle\" x=\"88.12\" y=\"-153.2\" font-family=\"Times,serif\" font-size=\"14.00\">data 0.0000</text>\n",
       "<polyline fill=\"none\" stroke=\"black\" points=\"138.88,-140.25 138.88,-175.5\"/>\n",
       "<text text-anchor=\"middle\" x=\"190.38\" y=\"-153.2\" font-family=\"Times,serif\" font-size=\"14.00\">grad 0.5000</text>\n",
       "</g>\n",
       "<!-- 140040412183568&#45;&gt;140040412176224* -->\n",
       "<g id=\"edge12\" class=\"edge\">\n",
       "<title>140040412183568&#45;&gt;140040412176224*</title>\n",
       "<path fill=\"none\" stroke=\"black\" d=\"M242.35,-157.5C252.31,-157.5 261.82,-157.5 270.35,-157.5\"/>\n",
       "<polygon fill=\"black\" stroke=\"black\" points=\"270.2,-161 280.2,-157.5 270.2,-154 270.2,-161\"/>\n",
       "</g>\n",
       "<!-- 140040412177472 -->\n",
       "<g id=\"node3\" class=\"node\">\n",
       "<title>140040412177472</title>\n",
       "<polygon fill=\"none\" stroke=\"black\" points=\"1941.1,-55.5 1941.1,-91.5 2169.85,-91.5 2169.85,-55.5 1941.1,-55.5\"/>\n",
       "<text text-anchor=\"middle\" x=\"1953.22\" y=\"-69.2\" font-family=\"Times,serif\" font-size=\"14.00\">e</text>\n",
       "<polyline fill=\"none\" stroke=\"black\" points=\"1965.35,-56.25 1965.35,-91.5\"/>\n",
       "<text text-anchor=\"middle\" x=\"2016.1\" y=\"-69.2\" font-family=\"Times,serif\" font-size=\"14.00\">data 5.8284</text>\n",
       "<polyline fill=\"none\" stroke=\"black\" points=\"2066.85,-56.25 2066.85,-91.5\"/>\n",
       "<text text-anchor=\"middle\" x=\"2118.35\" y=\"-69.2\" font-family=\"Times,serif\" font-size=\"14.00\">grad 0.0429</text>\n",
       "</g>\n",
       "<!-- 140040412174976+ -->\n",
       "<g id=\"node16\" class=\"node\">\n",
       "<title>140040412174976+</title>\n",
       "<ellipse fill=\"none\" stroke=\"black\" cx=\"2233.22\" cy=\"-100.5\" rx=\"27\" ry=\"18\"/>\n",
       "<text text-anchor=\"middle\" x=\"2233.22\" y=\"-95.83\" font-family=\"Times,serif\" font-size=\"14.00\">+</text>\n",
       "</g>\n",
       "<!-- 140040412177472&#45;&gt;140040412174976+ -->\n",
       "<g id=\"edge19\" class=\"edge\">\n",
       "<title>140040412177472&#45;&gt;140040412174976+</title>\n",
       "<path fill=\"none\" stroke=\"black\" d=\"M2170.26,-90.98C2179.09,-92.34 2187.55,-93.64 2195.21,-94.81\"/>\n",
       "<polygon fill=\"black\" stroke=\"black\" points=\"2194.64,-98.27 2205.05,-96.33 2195.7,-91.35 2194.64,-98.27\"/>\n",
       "</g>\n",
       "<!-- 140040412178864+ -->\n",
       "<g id=\"node25\" class=\"node\">\n",
       "<title>140040412178864+</title>\n",
       "<ellipse fill=\"none\" stroke=\"black\" cx=\"2233.22\" cy=\"-45.5\" rx=\"27\" ry=\"18\"/>\n",
       "<text text-anchor=\"middle\" x=\"2233.22\" y=\"-40.83\" font-family=\"Times,serif\" font-size=\"14.00\">+</text>\n",
       "</g>\n",
       "<!-- 140040412177472&#45;&gt;140040412178864+ -->\n",
       "<g id=\"edge11\" class=\"edge\">\n",
       "<title>140040412177472&#45;&gt;140040412178864+</title>\n",
       "<path fill=\"none\" stroke=\"black\" d=\"M2170.26,-55.37C2179.09,-53.96 2187.55,-52.62 2195.21,-51.4\"/>\n",
       "<polygon fill=\"black\" stroke=\"black\" points=\"2195.73,-54.86 2205.05,-49.83 2194.63,-47.95 2195.73,-54.86\"/>\n",
       "</g>\n",
       "<!-- 140040412177472exp -->\n",
       "<g id=\"node4\" class=\"node\">\n",
       "<title>140040412177472exp</title>\n",
       "<ellipse fill=\"none\" stroke=\"black\" cx=\"1875.61\" cy=\"-73.5\" rx=\"29.11\" ry=\"18\"/>\n",
       "<text text-anchor=\"middle\" x=\"1875.61\" y=\"-68.83\" font-family=\"Times,serif\" font-size=\"14.00\">exp</text>\n",
       "</g>\n",
       "<!-- 140040412177472exp&#45;&gt;140040412177472 -->\n",
       "<g id=\"edge1\" class=\"edge\">\n",
       "<title>140040412177472exp&#45;&gt;140040412177472</title>\n",
       "<path fill=\"none\" stroke=\"black\" d=\"M1905.19,-73.5C1912.37,-73.5 1920.54,-73.5 1929.28,-73.5\"/>\n",
       "<polygon fill=\"black\" stroke=\"black\" points=\"1929.11,-77 1939.11,-73.5 1929.11,-70 1929.11,-77\"/>\n",
       "</g>\n",
       "<!-- 140040412183616 -->\n",
       "<g id=\"node5\" class=\"node\">\n",
       "<title>140040412183616</title>\n",
       "<polygon fill=\"none\" stroke=\"black\" points=\"821.25,-56.5 821.25,-92.5 1050.75,-92.5 1050.75,-56.5 821.25,-56.5\"/>\n",
       "<text text-anchor=\"middle\" x=\"833.75\" y=\"-70.2\" font-family=\"Times,serif\" font-size=\"14.00\">b</text>\n",
       "<polyline fill=\"none\" stroke=\"black\" points=\"846.25,-57.25 846.25,-92.5\"/>\n",
       "<text text-anchor=\"middle\" x=\"897\" y=\"-70.2\" font-family=\"Times,serif\" font-size=\"14.00\">data 6.8814</text>\n",
       "<polyline fill=\"none\" stroke=\"black\" points=\"947.75,-57.25 947.75,-92.5\"/>\n",
       "<text text-anchor=\"middle\" x=\"999.25\" y=\"-70.2\" font-family=\"Times,serif\" font-size=\"14.00\">grad 0.5000</text>\n",
       "</g>\n",
       "<!-- 140040412176992+ -->\n",
       "<g id=\"node7\" class=\"node\">\n",
       "<title>140040412176992+</title>\n",
       "<ellipse fill=\"none\" stroke=\"black\" cx=\"1167\" cy=\"-101.5\" rx=\"27\" ry=\"18\"/>\n",
       "<text text-anchor=\"middle\" x=\"1167\" y=\"-96.83\" font-family=\"Times,serif\" font-size=\"14.00\">+</text>\n",
       "</g>\n",
       "<!-- 140040412183616&#45;&gt;140040412176992+ -->\n",
       "<g id=\"edge27\" class=\"edge\">\n",
       "<title>140040412183616&#45;&gt;140040412176992+</title>\n",
       "<path fill=\"none\" stroke=\"black\" d=\"M1051.16,-87.96C1079.33,-91.28 1107.53,-94.61 1128.93,-97.13\"/>\n",
       "<polygon fill=\"black\" stroke=\"black\" points=\"1128.24,-100.57 1138.58,-98.27 1129.06,-93.62 1128.24,-100.57\"/>\n",
       "</g>\n",
       "<!-- 140040412176992 -->\n",
       "<g id=\"node6\" class=\"node\">\n",
       "<title>140040412176992</title>\n",
       "<polygon fill=\"none\" stroke=\"black\" points=\"1230,-83.5 1230,-119.5 1459.5,-119.5 1459.5,-83.5 1230,-83.5\"/>\n",
       "<text text-anchor=\"middle\" x=\"1242.5\" y=\"-97.2\" font-family=\"Times,serif\" font-size=\"14.00\">n</text>\n",
       "<polyline fill=\"none\" stroke=\"black\" points=\"1255,-84.25 1255,-119.5\"/>\n",
       "<text text-anchor=\"middle\" x=\"1305.75\" y=\"-97.2\" font-family=\"Times,serif\" font-size=\"14.00\">data 0.8814</text>\n",
       "<polyline fill=\"none\" stroke=\"black\" points=\"1356.5,-84.25 1356.5,-119.5\"/>\n",
       "<text text-anchor=\"middle\" x=\"1408\" y=\"-97.2\" font-family=\"Times,serif\" font-size=\"14.00\">grad 0.5000</text>\n",
       "</g>\n",
       "<!-- 140040412175024* -->\n",
       "<g id=\"node14\" class=\"node\">\n",
       "<title>140040412175024*</title>\n",
       "<ellipse fill=\"none\" stroke=\"black\" cx=\"1522.5\" cy=\"-73.5\" rx=\"27\" ry=\"18\"/>\n",
       "<text text-anchor=\"middle\" x=\"1522.5\" y=\"-68.83\" font-family=\"Times,serif\" font-size=\"14.00\">*</text>\n",
       "</g>\n",
       "<!-- 140040412176992&#45;&gt;140040412175024* -->\n",
       "<g id=\"edge16\" class=\"edge\">\n",
       "<title>140040412176992&#45;&gt;140040412175024*</title>\n",
       "<path fill=\"none\" stroke=\"black\" d=\"M1459.54,-83.37C1468.37,-81.96 1476.82,-80.62 1484.49,-79.4\"/>\n",
       "<polygon fill=\"black\" stroke=\"black\" points=\"1485,-82.86 1494.33,-77.83 1483.9,-75.95 1485,-82.86\"/>\n",
       "</g>\n",
       "<!-- 140040412176992+&#45;&gt;140040412176992 -->\n",
       "<g id=\"edge2\" class=\"edge\">\n",
       "<title>140040412176992+&#45;&gt;140040412176992</title>\n",
       "<path fill=\"none\" stroke=\"black\" d=\"M1194.31,-101.5C1201.38,-101.5 1209.52,-101.5 1218.27,-101.5\"/>\n",
       "<polygon fill=\"black\" stroke=\"black\" points=\"1218.14,-105 1228.14,-101.5 1218.14,-98 1218.14,-105\"/>\n",
       "</g>\n",
       "<!-- 140040412174928 -->\n",
       "<g id=\"node8\" class=\"node\">\n",
       "<title>140040412174928</title>\n",
       "<polygon fill=\"none\" stroke=\"black\" points=\"768,-111.5 768,-147.5 1104,-147.5 1104,-111.5 768,-111.5\"/>\n",
       "<text text-anchor=\"middle\" x=\"831.5\" y=\"-125.2\" font-family=\"Times,serif\" font-size=\"14.00\">x1*w1 + x2*w2</text>\n",
       "<polyline fill=\"none\" stroke=\"black\" points=\"895,-112.25 895,-147.5\"/>\n",
       "<text text-anchor=\"middle\" x=\"948\" y=\"-125.2\" font-family=\"Times,serif\" font-size=\"14.00\">data &#45;6.0000</text>\n",
       "<polyline fill=\"none\" stroke=\"black\" points=\"1001,-112.25 1001,-147.5\"/>\n",
       "<text text-anchor=\"middle\" x=\"1052.5\" y=\"-125.2\" font-family=\"Times,serif\" font-size=\"14.00\">grad 0.5000</text>\n",
       "</g>\n",
       "<!-- 140040412174928&#45;&gt;140040412176992+ -->\n",
       "<g id=\"edge17\" class=\"edge\">\n",
       "<title>140040412174928&#45;&gt;140040412176992+</title>\n",
       "<path fill=\"none\" stroke=\"black\" d=\"M1088.15,-111.02C1103.05,-109.2 1117.02,-107.49 1128.9,-106.04\"/>\n",
       "<polygon fill=\"black\" stroke=\"black\" points=\"1129.04,-109.55 1138.54,-104.86 1128.19,-102.6 1129.04,-109.55\"/>\n",
       "</g>\n",
       "<!-- 140040412174928+ -->\n",
       "<g id=\"node9\" class=\"node\">\n",
       "<title>140040412174928+</title>\n",
       "<ellipse fill=\"none\" stroke=\"black\" cx=\"705\" cy=\"-129.5\" rx=\"27\" ry=\"18\"/>\n",
       "<text text-anchor=\"middle\" x=\"705\" y=\"-124.83\" font-family=\"Times,serif\" font-size=\"14.00\">+</text>\n",
       "</g>\n",
       "<!-- 140040412174928+&#45;&gt;140040412174928 -->\n",
       "<g id=\"edge3\" class=\"edge\">\n",
       "<title>140040412174928+&#45;&gt;140040412174928</title>\n",
       "<path fill=\"none\" stroke=\"black\" d=\"M732.27,-129.5C739.21,-129.5 747.24,-129.5 756.03,-129.5\"/>\n",
       "<polygon fill=\"black\" stroke=\"black\" points=\"756.02,-133 766.02,-129.5 756.02,-126 756.02,-133\"/>\n",
       "</g>\n",
       "<!-- 140040412183664 -->\n",
       "<g id=\"node10\" class=\"node\">\n",
       "<title>140040412183664</title>\n",
       "<polygon fill=\"none\" stroke=\"black\" points=\"1.88,-84.5 1.88,-120.5 244.12,-120.5 244.12,-84.5 1.88,-84.5\"/>\n",
       "<text text-anchor=\"middle\" x=\"18.5\" y=\"-98.2\" font-family=\"Times,serif\" font-size=\"14.00\">x1</text>\n",
       "<polyline fill=\"none\" stroke=\"black\" points=\"35.12,-85.25 35.12,-120.5\"/>\n",
       "<text text-anchor=\"middle\" x=\"85.88\" y=\"-98.2\" font-family=\"Times,serif\" font-size=\"14.00\">data 2.0000</text>\n",
       "<polyline fill=\"none\" stroke=\"black\" points=\"136.62,-85.25 136.62,-120.5\"/>\n",
       "<text text-anchor=\"middle\" x=\"190.38\" y=\"-98.2\" font-family=\"Times,serif\" font-size=\"14.00\">grad &#45;1.5000</text>\n",
       "</g>\n",
       "<!-- 140040412179776* -->\n",
       "<g id=\"node18\" class=\"node\">\n",
       "<title>140040412179776*</title>\n",
       "<ellipse fill=\"none\" stroke=\"black\" cx=\"309\" cy=\"-102.5\" rx=\"27\" ry=\"18\"/>\n",
       "<text text-anchor=\"middle\" x=\"309\" y=\"-97.83\" font-family=\"Times,serif\" font-size=\"14.00\">*</text>\n",
       "</g>\n",
       "<!-- 140040412183664&#45;&gt;140040412179776* -->\n",
       "<g id=\"edge23\" class=\"edge\">\n",
       "<title>140040412183664&#45;&gt;140040412179776*</title>\n",
       "<path fill=\"none\" stroke=\"black\" d=\"M244.42,-102.5C253.63,-102.5 262.41,-102.5 270.36,-102.5\"/>\n",
       "<polygon fill=\"black\" stroke=\"black\" points=\"270.2,-106 280.2,-102.5 270.2,-99 270.2,-106\"/>\n",
       "</g>\n",
       "<!-- 140040412175984 -->\n",
       "<g id=\"node11\" class=\"node\">\n",
       "<title>140040412175984</title>\n",
       "<polygon fill=\"none\" stroke=\"black\" points=\"1232.25,-28.5 1232.25,-64.5 1457.25,-64.5 1457.25,-28.5 1232.25,-28.5\"/>\n",
       "<text text-anchor=\"middle\" x=\"1242.5\" y=\"-42.2\" font-family=\"Times,serif\" font-size=\"14.00\"> </text>\n",
       "<polyline fill=\"none\" stroke=\"black\" points=\"1252.75,-29.25 1252.75,-64.5\"/>\n",
       "<text text-anchor=\"middle\" x=\"1303.5\" y=\"-42.2\" font-family=\"Times,serif\" font-size=\"14.00\">data 2.0000</text>\n",
       "<polyline fill=\"none\" stroke=\"black\" points=\"1354.25,-29.25 1354.25,-64.5\"/>\n",
       "<text text-anchor=\"middle\" x=\"1405.75\" y=\"-42.2\" font-family=\"Times,serif\" font-size=\"14.00\">grad 0.2203</text>\n",
       "</g>\n",
       "<!-- 140040412175984&#45;&gt;140040412175024* -->\n",
       "<g id=\"edge20\" class=\"edge\">\n",
       "<title>140040412175984&#45;&gt;140040412175024*</title>\n",
       "<path fill=\"none\" stroke=\"black\" d=\"M1457.55,-63.68C1467.1,-65.14 1476.25,-66.55 1484.48,-67.81\"/>\n",
       "<polygon fill=\"black\" stroke=\"black\" points=\"1483.93,-71.27 1494.34,-69.33 1484.99,-64.35 1483.93,-71.27\"/>\n",
       "</g>\n",
       "<!-- 140040412181600 -->\n",
       "<g id=\"node12\" class=\"node\">\n",
       "<title>140040412181600</title>\n",
       "<polygon fill=\"none\" stroke=\"black\" points=\"1940.72,-0.5 1940.72,-36.5 2170.22,-36.5 2170.22,-0.5 1940.72,-0.5\"/>\n",
       "<text text-anchor=\"middle\" x=\"1950.97\" y=\"-14.2\" font-family=\"Times,serif\" font-size=\"14.00\"> </text>\n",
       "<polyline fill=\"none\" stroke=\"black\" points=\"1961.22,-1.25 1961.22,-36.5\"/>\n",
       "<text text-anchor=\"middle\" x=\"2014.22\" y=\"-14.2\" font-family=\"Times,serif\" font-size=\"14.00\">data &#45;1.0000</text>\n",
       "<polyline fill=\"none\" stroke=\"black\" points=\"2067.22,-1.25 2067.22,-36.5\"/>\n",
       "<text text-anchor=\"middle\" x=\"2118.72\" y=\"-14.2\" font-family=\"Times,serif\" font-size=\"14.00\">grad 0.1464</text>\n",
       "</g>\n",
       "<!-- 140040412181600&#45;&gt;140040412178864+ -->\n",
       "<g id=\"edge13\" class=\"edge\">\n",
       "<title>140040412181600&#45;&gt;140040412178864+</title>\n",
       "<path fill=\"none\" stroke=\"black\" d=\"M2170.26,-35.98C2179.09,-37.34 2187.55,-38.64 2195.21,-39.81\"/>\n",
       "<polygon fill=\"black\" stroke=\"black\" points=\"2194.64,-43.27 2205.05,-41.33 2195.7,-36.35 2194.64,-43.27\"/>\n",
       "</g>\n",
       "<!-- 140040412175024 -->\n",
       "<g id=\"node13\" class=\"node\">\n",
       "<title>140040412175024</title>\n",
       "<polygon fill=\"none\" stroke=\"black\" points=\"1585.5,-55.5 1585.5,-91.5 1810.5,-91.5 1810.5,-55.5 1585.5,-55.5\"/>\n",
       "<text text-anchor=\"middle\" x=\"1595.75\" y=\"-69.2\" font-family=\"Times,serif\" font-size=\"14.00\"> </text>\n",
       "<polyline fill=\"none\" stroke=\"black\" points=\"1606,-56.25 1606,-91.5\"/>\n",
       "<text text-anchor=\"middle\" x=\"1656.75\" y=\"-69.2\" font-family=\"Times,serif\" font-size=\"14.00\">data 1.7627</text>\n",
       "<polyline fill=\"none\" stroke=\"black\" points=\"1707.5,-56.25 1707.5,-91.5\"/>\n",
       "<text text-anchor=\"middle\" x=\"1759\" y=\"-69.2\" font-family=\"Times,serif\" font-size=\"14.00\">grad 0.2500</text>\n",
       "</g>\n",
       "<!-- 140040412175024&#45;&gt;140040412177472exp -->\n",
       "<g id=\"edge22\" class=\"edge\">\n",
       "<title>140040412175024&#45;&gt;140040412177472exp</title>\n",
       "<path fill=\"none\" stroke=\"black\" d=\"M1810.71,-73.5C1819.14,-73.5 1827.24,-73.5 1834.68,-73.5\"/>\n",
       "<polygon fill=\"black\" stroke=\"black\" points=\"1834.64,-77 1844.64,-73.5 1834.64,-70 1834.64,-77\"/>\n",
       "</g>\n",
       "<!-- 140040412175024*&#45;&gt;140040412175024 -->\n",
       "<g id=\"edge4\" class=\"edge\">\n",
       "<title>140040412175024*&#45;&gt;140040412175024</title>\n",
       "<path fill=\"none\" stroke=\"black\" d=\"M1549.85,-73.5C1556.92,-73.5 1565.04,-73.5 1573.77,-73.5\"/>\n",
       "<polygon fill=\"black\" stroke=\"black\" points=\"1573.6,-77 1583.6,-73.5 1573.6,-70 1573.6,-77\"/>\n",
       "</g>\n",
       "<!-- 140040412174976 -->\n",
       "<g id=\"node15\" class=\"node\">\n",
       "<title>140040412174976</title>\n",
       "<polygon fill=\"none\" stroke=\"black\" points=\"2296.22,-82.5 2296.22,-118.5 2525.72,-118.5 2525.72,-82.5 2296.22,-82.5\"/>\n",
       "<text text-anchor=\"middle\" x=\"2306.47\" y=\"-96.2\" font-family=\"Times,serif\" font-size=\"14.00\"> </text>\n",
       "<polyline fill=\"none\" stroke=\"black\" points=\"2316.72,-83.25 2316.72,-118.5\"/>\n",
       "<text text-anchor=\"middle\" x=\"2367.47\" y=\"-96.2\" font-family=\"Times,serif\" font-size=\"14.00\">data 6.8284</text>\n",
       "<polyline fill=\"none\" stroke=\"black\" points=\"2418.22,-83.25 2418.22,-118.5\"/>\n",
       "<text text-anchor=\"middle\" x=\"2471.97\" y=\"-96.2\" font-family=\"Times,serif\" font-size=\"14.00\">grad &#45;0.1036</text>\n",
       "</g>\n",
       "<!-- 140040412946368**&#45;1 -->\n",
       "<g id=\"node27\" class=\"node\">\n",
       "<title>140040412946368**&#45;1</title>\n",
       "<ellipse fill=\"none\" stroke=\"black\" cx=\"2674.22\" cy=\"-100.5\" rx=\"30.16\" ry=\"18\"/>\n",
       "<text text-anchor=\"middle\" x=\"2674.22\" y=\"-95.83\" font-family=\"Times,serif\" font-size=\"14.00\">**&#45;1</text>\n",
       "</g>\n",
       "<!-- 140040412174976&#45;&gt;140040412946368**&#45;1 -->\n",
       "<g id=\"edge15\" class=\"edge\">\n",
       "<title>140040412174976&#45;&gt;140040412946368**&#45;1</title>\n",
       "<path fill=\"none\" stroke=\"black\" d=\"M2526.18,-100.5C2564.07,-100.5 2603.84,-100.5 2632.45,-100.5\"/>\n",
       "<polygon fill=\"black\" stroke=\"black\" points=\"2632.09,-104 2642.09,-100.5 2632.09,-97 2632.09,-104\"/>\n",
       "</g>\n",
       "<!-- 140040412174976+&#45;&gt;140040412174976 -->\n",
       "<g id=\"edge5\" class=\"edge\">\n",
       "<title>140040412174976+&#45;&gt;140040412174976</title>\n",
       "<path fill=\"none\" stroke=\"black\" d=\"M2260.53,-100.5C2267.6,-100.5 2275.74,-100.5 2284.49,-100.5\"/>\n",
       "<polygon fill=\"black\" stroke=\"black\" points=\"2284.36,-104 2294.36,-100.5 2284.36,-97 2284.36,-104\"/>\n",
       "</g>\n",
       "<!-- 140040412179776 -->\n",
       "<g id=\"node17\" class=\"node\">\n",
       "<title>140040412179776</title>\n",
       "<polygon fill=\"none\" stroke=\"black\" points=\"372,-84.5 372,-120.5 642,-120.5 642,-84.5 372,-84.5\"/>\n",
       "<text text-anchor=\"middle\" x=\"402.5\" y=\"-98.2\" font-family=\"Times,serif\" font-size=\"14.00\">x1*w1</text>\n",
       "<polyline fill=\"none\" stroke=\"black\" points=\"433,-85.25 433,-120.5\"/>\n",
       "<text text-anchor=\"middle\" x=\"486\" y=\"-98.2\" font-family=\"Times,serif\" font-size=\"14.00\">data &#45;6.0000</text>\n",
       "<polyline fill=\"none\" stroke=\"black\" points=\"539,-85.25 539,-120.5\"/>\n",
       "<text text-anchor=\"middle\" x=\"590.5\" y=\"-98.2\" font-family=\"Times,serif\" font-size=\"14.00\">grad 0.5000</text>\n",
       "</g>\n",
       "<!-- 140040412179776&#45;&gt;140040412174928+ -->\n",
       "<g id=\"edge14\" class=\"edge\">\n",
       "<title>140040412179776&#45;&gt;140040412174928+</title>\n",
       "<path fill=\"none\" stroke=\"black\" d=\"M642.25,-120.99C651.05,-122.21 659.4,-123.36 666.95,-124.4\"/>\n",
       "<polygon fill=\"black\" stroke=\"black\" points=\"666.21,-127.83 676.6,-125.73 667.17,-120.89 666.21,-127.83\"/>\n",
       "</g>\n",
       "<!-- 140040412179776*&#45;&gt;140040412179776 -->\n",
       "<g id=\"edge6\" class=\"edge\">\n",
       "<title>140040412179776*&#45;&gt;140040412179776</title>\n",
       "<path fill=\"none\" stroke=\"black\" d=\"M336.43,-102.5C343.41,-102.5 351.46,-102.5 360.17,-102.5\"/>\n",
       "<polygon fill=\"black\" stroke=\"black\" points=\"360.02,-106 370.02,-102.5 360.02,-99 360.02,-106\"/>\n",
       "</g>\n",
       "<!-- 140040412176224 -->\n",
       "<g id=\"node19\" class=\"node\">\n",
       "<title>140040412176224</title>\n",
       "<polygon fill=\"none\" stroke=\"black\" points=\"374.25,-139.5 374.25,-175.5 639.75,-175.5 639.75,-139.5 374.25,-139.5\"/>\n",
       "<text text-anchor=\"middle\" x=\"404.75\" y=\"-153.2\" font-family=\"Times,serif\" font-size=\"14.00\">x2*w2</text>\n",
       "<polyline fill=\"none\" stroke=\"black\" points=\"435.25,-140.25 435.25,-175.5\"/>\n",
       "<text text-anchor=\"middle\" x=\"486\" y=\"-153.2\" font-family=\"Times,serif\" font-size=\"14.00\">data 0.0000</text>\n",
       "<polyline fill=\"none\" stroke=\"black\" points=\"536.75,-140.25 536.75,-175.5\"/>\n",
       "<text text-anchor=\"middle\" x=\"588.25\" y=\"-153.2\" font-family=\"Times,serif\" font-size=\"14.00\">grad 0.5000</text>\n",
       "</g>\n",
       "<!-- 140040412176224&#45;&gt;140040412174928+ -->\n",
       "<g id=\"edge18\" class=\"edge\">\n",
       "<title>140040412176224&#45;&gt;140040412174928+</title>\n",
       "<path fill=\"none\" stroke=\"black\" d=\"M637.37,-139.02C647.88,-137.52 657.85,-136.09 666.73,-134.82\"/>\n",
       "<polygon fill=\"black\" stroke=\"black\" points=\"667.19,-138.29 676.6,-133.41 666.2,-131.36 667.19,-138.29\"/>\n",
       "</g>\n",
       "<!-- 140040412176224*&#45;&gt;140040412176224 -->\n",
       "<g id=\"edge7\" class=\"edge\">\n",
       "<title>140040412176224*&#45;&gt;140040412176224</title>\n",
       "<path fill=\"none\" stroke=\"black\" d=\"M336.43,-157.5C344.1,-157.5 353.05,-157.5 362.77,-157.5\"/>\n",
       "<polygon fill=\"black\" stroke=\"black\" points=\"362.51,-161 372.51,-157.5 362.51,-154 362.51,-161\"/>\n",
       "</g>\n",
       "<!-- 140040412952464 -->\n",
       "<g id=\"node21\" class=\"node\">\n",
       "<title>140040412952464</title>\n",
       "<polygon fill=\"none\" stroke=\"black\" points=\"3173.72,-54.5 3173.72,-90.5 3402.47,-90.5 3402.47,-54.5 3173.72,-54.5\"/>\n",
       "<text text-anchor=\"middle\" x=\"3185.85\" y=\"-68.2\" font-family=\"Times,serif\" font-size=\"14.00\">o</text>\n",
       "<polyline fill=\"none\" stroke=\"black\" points=\"3197.97,-55.25 3197.97,-90.5\"/>\n",
       "<text text-anchor=\"middle\" x=\"3248.72\" y=\"-68.2\" font-family=\"Times,serif\" font-size=\"14.00\">data 0.7071</text>\n",
       "<polyline fill=\"none\" stroke=\"black\" points=\"3299.47,-55.25 3299.47,-90.5\"/>\n",
       "<text text-anchor=\"middle\" x=\"3350.97\" y=\"-68.2\" font-family=\"Times,serif\" font-size=\"14.00\">grad 1.0000</text>\n",
       "</g>\n",
       "<!-- 140040412952464* -->\n",
       "<g id=\"node22\" class=\"node\">\n",
       "<title>140040412952464*</title>\n",
       "<ellipse fill=\"none\" stroke=\"black\" cx=\"3110.72\" cy=\"-72.5\" rx=\"27\" ry=\"18\"/>\n",
       "<text text-anchor=\"middle\" x=\"3110.72\" y=\"-67.83\" font-family=\"Times,serif\" font-size=\"14.00\">*</text>\n",
       "</g>\n",
       "<!-- 140040412952464*&#45;&gt;140040412952464 -->\n",
       "<g id=\"edge8\" class=\"edge\">\n",
       "<title>140040412952464*&#45;&gt;140040412952464</title>\n",
       "<path fill=\"none\" stroke=\"black\" d=\"M3137.98,-72.5C3145.03,-72.5 3153.15,-72.5 3161.89,-72.5\"/>\n",
       "<polygon fill=\"black\" stroke=\"black\" points=\"3161.73,-76 3171.73,-72.5 3161.73,-69 3161.73,-76\"/>\n",
       "</g>\n",
       "<!-- 140040412184480 -->\n",
       "<g id=\"node23\" class=\"node\">\n",
       "<title>140040412184480</title>\n",
       "<polygon fill=\"none\" stroke=\"black\" points=\"1940.72,-110.5 1940.72,-146.5 2170.22,-146.5 2170.22,-110.5 1940.72,-110.5\"/>\n",
       "<text text-anchor=\"middle\" x=\"1950.97\" y=\"-124.2\" font-family=\"Times,serif\" font-size=\"14.00\"> </text>\n",
       "<polyline fill=\"none\" stroke=\"black\" points=\"1961.22,-111.25 1961.22,-146.5\"/>\n",
       "<text text-anchor=\"middle\" x=\"2011.97\" y=\"-124.2\" font-family=\"Times,serif\" font-size=\"14.00\">data 1.0000</text>\n",
       "<polyline fill=\"none\" stroke=\"black\" points=\"2062.72,-111.25 2062.72,-146.5\"/>\n",
       "<text text-anchor=\"middle\" x=\"2116.47\" y=\"-124.2\" font-family=\"Times,serif\" font-size=\"14.00\">grad &#45;0.1036</text>\n",
       "</g>\n",
       "<!-- 140040412184480&#45;&gt;140040412174976+ -->\n",
       "<g id=\"edge21\" class=\"edge\">\n",
       "<title>140040412184480&#45;&gt;140040412174976+</title>\n",
       "<path fill=\"none\" stroke=\"black\" d=\"M2170.26,-110.37C2179.09,-108.96 2187.55,-107.62 2195.21,-106.4\"/>\n",
       "<polygon fill=\"black\" stroke=\"black\" points=\"2195.73,-109.86 2205.05,-104.83 2194.63,-102.95 2195.73,-109.86\"/>\n",
       "</g>\n",
       "<!-- 140040412178864 -->\n",
       "<g id=\"node24\" class=\"node\">\n",
       "<title>140040412178864</title>\n",
       "<polygon fill=\"none\" stroke=\"black\" points=\"2561.72,-27.5 2561.72,-63.5 2786.72,-63.5 2786.72,-27.5 2561.72,-27.5\"/>\n",
       "<text text-anchor=\"middle\" x=\"2571.97\" y=\"-41.2\" font-family=\"Times,serif\" font-size=\"14.00\"> </text>\n",
       "<polyline fill=\"none\" stroke=\"black\" points=\"2582.22,-28.25 2582.22,-63.5\"/>\n",
       "<text text-anchor=\"middle\" x=\"2632.97\" y=\"-41.2\" font-family=\"Times,serif\" font-size=\"14.00\">data 4.8284</text>\n",
       "<polyline fill=\"none\" stroke=\"black\" points=\"2683.72,-28.25 2683.72,-63.5\"/>\n",
       "<text text-anchor=\"middle\" x=\"2735.22\" y=\"-41.2\" font-family=\"Times,serif\" font-size=\"14.00\">grad 0.1464</text>\n",
       "</g>\n",
       "<!-- 140040412178864&#45;&gt;140040412952464* -->\n",
       "<g id=\"edge25\" class=\"edge\">\n",
       "<title>140040412178864&#45;&gt;140040412952464*</title>\n",
       "<path fill=\"none\" stroke=\"black\" d=\"M2787.12,-52.45C2881.13,-58.3 3009.88,-66.3 3072.49,-70.19\"/>\n",
       "<polygon fill=\"black\" stroke=\"black\" points=\"3072.04,-73.67 3082.24,-70.79 3072.47,-66.68 3072.04,-73.67\"/>\n",
       "</g>\n",
       "<!-- 140040412178864+&#45;&gt;140040412178864 -->\n",
       "<g id=\"edge9\" class=\"edge\">\n",
       "<title>140040412178864+&#45;&gt;140040412178864</title>\n",
       "<path fill=\"none\" stroke=\"black\" d=\"M2260.7,-45.5C2316.65,-45.5 2450.03,-45.5 2550.08,-45.5\"/>\n",
       "<polygon fill=\"black\" stroke=\"black\" points=\"2549.98,-49 2559.98,-45.5 2549.98,-42 2549.98,-49\"/>\n",
       "</g>\n",
       "<!-- 140040412946368 -->\n",
       "<g id=\"node26\" class=\"node\">\n",
       "<title>140040412946368</title>\n",
       "<polygon fill=\"none\" stroke=\"black\" points=\"2822.72,-80.5 2822.72,-116.5 3047.72,-116.5 3047.72,-80.5 2822.72,-80.5\"/>\n",
       "<text text-anchor=\"middle\" x=\"2832.97\" y=\"-94.2\" font-family=\"Times,serif\" font-size=\"14.00\"> </text>\n",
       "<polyline fill=\"none\" stroke=\"black\" points=\"2843.22,-81.25 2843.22,-116.5\"/>\n",
       "<text text-anchor=\"middle\" x=\"2893.97\" y=\"-94.2\" font-family=\"Times,serif\" font-size=\"14.00\">data 0.1464</text>\n",
       "<polyline fill=\"none\" stroke=\"black\" points=\"2944.72,-81.25 2944.72,-116.5\"/>\n",
       "<text text-anchor=\"middle\" x=\"2996.22\" y=\"-94.2\" font-family=\"Times,serif\" font-size=\"14.00\">grad 4.8284</text>\n",
       "</g>\n",
       "<!-- 140040412946368&#45;&gt;140040412952464* -->\n",
       "<g id=\"edge24\" class=\"edge\">\n",
       "<title>140040412946368&#45;&gt;140040412952464*</title>\n",
       "<path fill=\"none\" stroke=\"black\" d=\"M3048.06,-81.74C3056.76,-80.44 3065.08,-79.19 3072.65,-78.06\"/>\n",
       "<polygon fill=\"black\" stroke=\"black\" points=\"3072.98,-81.54 3082.35,-76.6 3071.95,-74.62 3072.98,-81.54\"/>\n",
       "</g>\n",
       "<!-- 140040412946368**&#45;1&#45;&gt;140040412946368 -->\n",
       "<g id=\"edge10\" class=\"edge\">\n",
       "<title>140040412946368**&#45;1&#45;&gt;140040412946368</title>\n",
       "<path fill=\"none\" stroke=\"black\" d=\"M2704.68,-100.27C2730.98,-100.07 2771.37,-99.76 2810.97,-99.45\"/>\n",
       "<polygon fill=\"black\" stroke=\"black\" points=\"2810.89,-102.95 2820.87,-99.38 2810.84,-95.95 2810.89,-102.95\"/>\n",
       "</g>\n",
       "<!-- 140040412181456 -->\n",
       "<g id=\"node28\" class=\"node\">\n",
       "<title>140040412181456</title>\n",
       "<polygon fill=\"none\" stroke=\"black\" points=\"0,-29.5 0,-65.5 246,-65.5 246,-29.5 0,-29.5\"/>\n",
       "<text text-anchor=\"middle\" x=\"18.5\" y=\"-43.2\" font-family=\"Times,serif\" font-size=\"14.00\">w1</text>\n",
       "<polyline fill=\"none\" stroke=\"black\" points=\"37,-30.25 37,-65.5\"/>\n",
       "<text text-anchor=\"middle\" x=\"90\" y=\"-43.2\" font-family=\"Times,serif\" font-size=\"14.00\">data &#45;3.0000</text>\n",
       "<polyline fill=\"none\" stroke=\"black\" points=\"143,-30.25 143,-65.5\"/>\n",
       "<text text-anchor=\"middle\" x=\"194.5\" y=\"-43.2\" font-family=\"Times,serif\" font-size=\"14.00\">grad 1.0000</text>\n",
       "</g>\n",
       "<!-- 140040412181456&#45;&gt;140040412179776* -->\n",
       "<g id=\"edge28\" class=\"edge\">\n",
       "<title>140040412181456&#45;&gt;140040412179776*</title>\n",
       "<path fill=\"none\" stroke=\"black\" d=\"M213.15,-65.94C224.3,-68.84 235.47,-72.03 246,-75.5 256.05,-78.81 266.7,-83.13 276.29,-87.35\"/>\n",
       "<polygon fill=\"black\" stroke=\"black\" points=\"274.64,-90.44 285.2,-91.38 277.53,-84.07 274.64,-90.44\"/>\n",
       "</g>\n",
       "</g>\n",
       "</svg>\n"
      ],
      "text/plain": [
       "<graphviz.graphs.Digraph at 0x7f5db305b1f0>"
      ]
     },
     "execution_count": 28,
     "metadata": {},
     "output_type": "execute_result"
    }
   ],
   "source": [
    "# inputs x1,x2\n",
    "x1 = Value(2.0, label='x1')\n",
    "x2 = Value(0.0, label='x2')\n",
    "# weights w1,w2\n",
    "w1 = Value(-3.0, label='w1')\n",
    "w2 = Value(1.0, label='w2')\n",
    "# bias of the neuron\n",
    "b = Value(6.8813735870195432, label='b')\n",
    "# x1*w1 + x2*w2 + b\n",
    "x1w1 = x1*w1; x1w1.label = 'x1*w1'\n",
    "x2w2 = x2*w2; x2w2.label = 'x2*w2'\n",
    "x1w1x2w2 = x1w1 + x2w2; x1w1x2w2.label = 'x1*w1 + x2*w2'\n",
    "n = x1w1x2w2 + b; n.label = 'n'\n",
    "# -------\n",
    "e = (2*n).exp(); e.label = 'e'\n",
    "o = (e - 1)/(e + 1)\n",
    "# -------\n",
    "o.label = 'o'\n",
    "o.backward()\n",
    "draw_dot(o)"
   ]
  },
  {
   "cell_type": "markdown",
   "id": "76db601a",
   "metadata": {
    "papermill": {
     "duration": 0.016358,
     "end_time": "2024-05-15T11:40:14.000016",
     "exception": false,
     "start_time": "2024-05-15T11:40:13.983658",
     "status": "completed"
    },
    "tags": []
   },
   "source": [
    "## Doing the same in Pytorch"
   ]
  },
  {
   "cell_type": "code",
   "execution_count": 29,
   "id": "6ba94b5e",
   "metadata": {
    "execution": {
     "iopub.execute_input": "2024-05-15T11:40:14.037674Z",
     "iopub.status.busy": "2024-05-15T11:40:14.037232Z",
     "iopub.status.idle": "2024-05-15T11:40:14.041379Z",
     "shell.execute_reply": "2024-05-15T11:40:14.040391Z"
    },
    "papermill": {
     "duration": 0.025631,
     "end_time": "2024-05-15T11:40:14.043674",
     "exception": false,
     "start_time": "2024-05-15T11:40:14.018043",
     "status": "completed"
    },
    "tags": []
   },
   "outputs": [],
   "source": [
    "# !pip install torch"
   ]
  },
  {
   "cell_type": "code",
   "execution_count": 30,
   "id": "40e65007",
   "metadata": {
    "execution": {
     "iopub.execute_input": "2024-05-15T11:40:14.081183Z",
     "iopub.status.busy": "2024-05-15T11:40:14.080768Z",
     "iopub.status.idle": "2024-05-15T11:40:18.144569Z",
     "shell.execute_reply": "2024-05-15T11:40:18.142930Z"
    },
    "papermill": {
     "duration": 4.086133,
     "end_time": "2024-05-15T11:40:18.147915",
     "exception": false,
     "start_time": "2024-05-15T11:40:14.061782",
     "status": "completed"
    },
    "tags": []
   },
   "outputs": [],
   "source": [
    "import torch"
   ]
  },
  {
   "cell_type": "code",
   "execution_count": 31,
   "id": "418d5f86",
   "metadata": {
    "execution": {
     "iopub.execute_input": "2024-05-15T11:40:18.184323Z",
     "iopub.status.busy": "2024-05-15T11:40:18.183633Z",
     "iopub.status.idle": "2024-05-15T11:40:18.280627Z",
     "shell.execute_reply": "2024-05-15T11:40:18.278810Z"
    },
    "papermill": {
     "duration": 0.118718,
     "end_time": "2024-05-15T11:40:18.283907",
     "exception": false,
     "start_time": "2024-05-15T11:40:18.165189",
     "status": "completed"
    },
    "tags": []
   },
   "outputs": [
    {
     "name": "stdout",
     "output_type": "stream",
     "text": [
      "0.7071066904050358\n",
      "----------\n",
      "x1 -1.5000003851533106\n",
      "x2 0.5000001283844369\n",
      "w1 1.0000002567688737\n",
      "w2 0.0\n"
     ]
    }
   ],
   "source": [
    "x1 = torch.Tensor([2.0]).double() ; x1.requires_grad = True\n",
    "x2 = torch.Tensor([0.0]).double() ; x2.requires_grad = True\n",
    "w1 = torch.Tensor([-3.0]).double(); w1.requires_grad = True\n",
    "w2 = torch.Tensor([1.0]).double() ; w2.requires_grad = True\n",
    "b = torch.Tensor([6.8813735870195432]).double(); b.requires_grad = True\n",
    "n = x1*w1 + x2*w2 + b\n",
    "o = torch.tanh(n)\n",
    "\n",
    "print(o.data.item())\n",
    "o.backward()\n",
    "\n",
    "print('----------')\n",
    "print('x1', x1.grad.item())\n",
    "print('x2', x2.grad.item())\n",
    "print('w1', w1.grad.item())\n",
    "print('w2', w2.grad.item())"
   ]
  },
  {
   "cell_type": "code",
   "execution_count": null,
   "id": "8f117674",
   "metadata": {
    "papermill": {
     "duration": 0.018599,
     "end_time": "2024-05-15T11:40:18.320728",
     "exception": false,
     "start_time": "2024-05-15T11:40:18.302129",
     "status": "completed"
    },
    "tags": []
   },
   "outputs": [],
   "source": []
  }
 ],
 "metadata": {
  "kaggle": {
   "accelerator": "none",
   "dataSources": [],
   "dockerImageVersionId": 30698,
   "isGpuEnabled": false,
   "isInternetEnabled": false,
   "language": "python",
   "sourceType": "notebook"
  },
  "kernelspec": {
   "display_name": "Python 3",
   "language": "python",
   "name": "python3"
  },
  "language_info": {
   "codemirror_mode": {
    "name": "ipython",
    "version": 3
   },
   "file_extension": ".py",
   "mimetype": "text/x-python",
   "name": "python",
   "nbconvert_exporter": "python",
   "pygments_lexer": "ipython3",
   "version": "3.10.13"
  },
  "papermill": {
   "default_parameters": {},
   "duration": 10.725331,
   "end_time": "2024-05-15T11:40:19.357716",
   "environment_variables": {},
   "exception": null,
   "input_path": "__notebook__.ipynb",
   "output_path": "__notebook__.ipynb",
   "parameters": {},
   "start_time": "2024-05-15T11:40:08.632385",
   "version": "2.5.0"
  }
 },
 "nbformat": 4,
 "nbformat_minor": 5
}
