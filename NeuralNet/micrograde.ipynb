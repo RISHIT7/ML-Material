{
 "cells": [
  {
   "cell_type": "code",
   "execution_count": 1,
   "id": "ea228c79",
   "metadata": {
    "_cell_guid": "b1076dfc-b9ad-4769-8c92-a6c4dae69d19",
    "_uuid": "8f2839f25d086af736a60e9eeb907d3b93b6e0e5",
    "execution": {
     "iopub.execute_input": "2024-05-15T11:14:07.105307Z",
     "iopub.status.busy": "2024-05-15T11:14:07.104544Z",
     "iopub.status.idle": "2024-05-15T11:14:07.120486Z",
     "shell.execute_reply": "2024-05-15T11:14:07.119420Z"
    },
    "papermill": {
     "duration": 0.032359,
     "end_time": "2024-05-15T11:14:07.123235",
     "exception": false,
     "start_time": "2024-05-15T11:14:07.090876",
     "status": "completed"
    },
    "tags": []
   },
   "outputs": [],
   "source": [
    "import math\n",
    "import numpy as np\n",
    "import matplotlib.pyplot as plt\n",
    "%matplotlib inline"
   ]
  },
  {
   "cell_type": "code",
   "execution_count": 2,
   "id": "04139210",
   "metadata": {
    "execution": {
     "iopub.execute_input": "2024-05-15T11:14:07.147214Z",
     "iopub.status.busy": "2024-05-15T11:14:07.146766Z",
     "iopub.status.idle": "2024-05-15T11:14:07.178037Z",
     "shell.execute_reply": "2024-05-15T11:14:07.176723Z"
    },
    "papermill": {
     "duration": 0.045969,
     "end_time": "2024-05-15T11:14:07.180446",
     "exception": false,
     "start_time": "2024-05-15T11:14:07.134477",
     "status": "completed"
    },
    "tags": []
   },
   "outputs": [
    {
     "data": {
      "text/plain": [
       "Value(data=-8.0, grad=0.0)"
      ]
     },
     "execution_count": 2,
     "metadata": {},
     "output_type": "execute_result"
    }
   ],
   "source": [
    "class Value:\n",
    "    def __init__(self, data, _children=(), _op='', label=''):\n",
    "        self.data = data\n",
    "        self.grad = 0.0\n",
    "        self._backward = lambda: None\n",
    "        self._prev = set(_children)\n",
    "        self._op = _op\n",
    "        self.label = label\n",
    "\n",
    "    def __repr__(self):\n",
    "        return f\"Value(data={self.data}, grad={self.grad})\"\n",
    "  \n",
    "    def __add__(self, other):\n",
    "        other = other if isinstance(other, Value) else Value(other)\n",
    "        out = Value(self.data + other.data, (self, other), '+')\n",
    "    \n",
    "    \n",
    "        def _backward():\n",
    "            self.grad += 1.0 * out.grad\n",
    "            other.grad += 1.0 * out.grad\n",
    "        out._backward = _backward\n",
    "    \n",
    "        return out\n",
    "    \n",
    "    def __mul__(self, other):\n",
    "        other = other if isinstance(other, Value) else Value(other)\n",
    "        out = Value(self.data * other.data, (self, other), '*')\n",
    "    \n",
    "        def _backward():\n",
    "            self.grad += other.data * out.grad\n",
    "            other.grad += self.data * out.grad\n",
    "        out._backward = _backward\n",
    "      \n",
    "        return out\n",
    "\n",
    "    def __pow__(self, other):\n",
    "        assert isinstance(other, (int, float)), \"only supporting int/float powers for now\"\n",
    "        out = Value(self.data**other, (self, ), f'**{other}')\n",
    "    \n",
    "        def _backward():\n",
    "            self.grad += other * out.grad * (self.data ** (other - 1))\n",
    "        out._backward = _backward\n",
    "        \n",
    "        return out\n",
    "        \n",
    "    def __rmul__(self, other):\n",
    "        return self * other\n",
    "  \n",
    "    def __truediv__ (self, other):\n",
    "        return self * other**-1\n",
    "    \n",
    "    def __neg__(self):\n",
    "        return self * -1\n",
    "    \n",
    "    def __sub__(self, other):\n",
    "        return self + (-other)\n",
    "\n",
    "    def exp(self):\n",
    "        x = self.data\n",
    "        out = Value(math.exp(x), (self, ), 'exp')\n",
    "        \n",
    "        def _backward():\n",
    "            self.grad += out.data * out.grad\n",
    "        out._backward = _backward\n",
    "        \n",
    "        return out\n",
    "\n",
    "    def tanh(self):\n",
    "        x = self.data\n",
    "        t = (math.exp(2*x) - 1)/(math.exp(2*x) + 1)\n",
    "        out = Value(t, (self, ), 'tanh')\n",
    "    \n",
    "        def _backward():\n",
    "            self.grad += (1 - t**2) * out.grad\n",
    "        out._backward = _backward\n",
    "    \n",
    "        return out\n",
    "  \n",
    "    def backward(self):\n",
    "        topo = []\n",
    "        visited = set()\n",
    "        def build_topo(v):\n",
    "            if v not in visited:\n",
    "                visited.add(v)\n",
    "                for child in v._prev:\n",
    "                    build_topo(child)\n",
    "                topo.append(v)\n",
    "        build_topo(self)\n",
    "\n",
    "        self.grad = 1.0\n",
    "        for node in reversed(topo):\n",
    "            node._backward()\n",
    "\n",
    "a = Value(2.0, label='a')\n",
    "b = Value(-3.0, label='b')\n",
    "c = Value(10.0, label='c')\n",
    "e = a*b; e.label = 'e'\n",
    "d = e + c; d.label = 'd'\n",
    "f = Value(-2.0, label='f')\n",
    "L = d * f; L.label = 'L'\n",
    "L"
   ]
  },
  {
   "cell_type": "code",
   "execution_count": 3,
   "id": "4e0e69eb",
   "metadata": {
    "execution": {
     "iopub.execute_input": "2024-05-15T11:14:07.204775Z",
     "iopub.status.busy": "2024-05-15T11:14:07.204043Z",
     "iopub.status.idle": "2024-05-15T11:14:07.208279Z",
     "shell.execute_reply": "2024-05-15T11:14:07.207446Z"
    },
    "papermill": {
     "duration": 0.01895,
     "end_time": "2024-05-15T11:14:07.210492",
     "exception": false,
     "start_time": "2024-05-15T11:14:07.191542",
     "status": "completed"
    },
    "tags": []
   },
   "outputs": [],
   "source": [
    "# !pip install graphviz"
   ]
  },
  {
   "cell_type": "code",
   "execution_count": 4,
   "id": "7a787836",
   "metadata": {
    "execution": {
     "iopub.execute_input": "2024-05-15T11:14:07.234576Z",
     "iopub.status.busy": "2024-05-15T11:14:07.233822Z",
     "iopub.status.idle": "2024-05-15T11:14:07.286393Z",
     "shell.execute_reply": "2024-05-15T11:14:07.285107Z"
    },
    "papermill": {
     "duration": 0.068095,
     "end_time": "2024-05-15T11:14:07.289596",
     "exception": false,
     "start_time": "2024-05-15T11:14:07.221501",
     "status": "completed"
    },
    "tags": []
   },
   "outputs": [],
   "source": [
    "from graphviz import Digraph\n",
    "\n",
    "def trace(root):\n",
    "    # builds a set of all nodes and edges in a graph\n",
    "    nodes, edges = set(), set()\n",
    "    def build(v):\n",
    "        if v not in nodes:\n",
    "            nodes.add(v)\n",
    "            for child in v._prev:\n",
    "                edges.add((child, v))\n",
    "                build(child)\n",
    "    build(root)\n",
    "    return nodes, edges\n",
    "\n",
    "def draw_dot(root):\n",
    "    dot = Digraph(format='svg', graph_attr={'rankdir': 'LR'}) # LR = left to right\n",
    "  \n",
    "    nodes, edges = trace(root)\n",
    "    for n in nodes:\n",
    "        uid = str(id(n))\n",
    "        # for any value in the graph, create a rectangular ('record') node for it\n",
    "        dot.node(name = uid, label = \"{ %s | data %.4f | grad %.4f }\" % (n.label, n.data, n.grad), shape='record')\n",
    "        if n._op:\n",
    "            # if this value is a result of some operation, create an op node for it\n",
    "            dot.node(name = uid + n._op, label = n._op)\n",
    "            # and connect this node to it\n",
    "            dot.edge(uid + n._op, uid)\n",
    "\n",
    "    for n1, n2 in edges:\n",
    "        # connect n1 to the op node of n2\n",
    "        dot.edge(str(id(n1)), str(id(n2)) + n2._op)\n",
    "\n",
    "    return dot"
   ]
  },
  {
   "cell_type": "markdown",
   "id": "36ea0e7f",
   "metadata": {
    "papermill": {
     "duration": 0.01061,
     "end_time": "2024-05-15T11:14:07.311441",
     "exception": false,
     "start_time": "2024-05-15T11:14:07.300831",
     "status": "completed"
    },
    "tags": []
   },
   "source": [
    "## Debugging"
   ]
  },
  {
   "cell_type": "code",
   "execution_count": 5,
   "id": "58d58993",
   "metadata": {
    "execution": {
     "iopub.execute_input": "2024-05-15T11:14:07.335699Z",
     "iopub.status.busy": "2024-05-15T11:14:07.334988Z",
     "iopub.status.idle": "2024-05-15T11:14:07.551365Z",
     "shell.execute_reply": "2024-05-15T11:14:07.550162Z"
    },
    "papermill": {
     "duration": 0.231257,
     "end_time": "2024-05-15T11:14:07.553793",
     "exception": false,
     "start_time": "2024-05-15T11:14:07.322536",
     "status": "completed"
    },
    "tags": []
   },
   "outputs": [
    {
     "data": {
      "image/svg+xml": [
       "<?xml version=\"1.0\" encoding=\"UTF-8\" standalone=\"no\"?>\n",
       "<!DOCTYPE svg PUBLIC \"-//W3C//DTD SVG 1.1//EN\"\n",
       " \"http://www.w3.org/Graphics/SVG/1.1/DTD/svg11.dtd\">\n",
       "<!-- Generated by graphviz version 9.0.0 (20231125.0833)\n",
       " -->\n",
       "<!-- Pages: 1 -->\n",
       "<svg width=\"592pt\" height=\"100pt\"\n",
       " viewBox=\"0.00 0.00 591.50 100.00\" xmlns=\"http://www.w3.org/2000/svg\" xmlns:xlink=\"http://www.w3.org/1999/xlink\">\n",
       "<g id=\"graph0\" class=\"graph\" transform=\"scale(1 1) rotate(0) translate(4 96)\">\n",
       "<polygon fill=\"white\" stroke=\"none\" points=\"-4,4 -4,-96 587.5,-96 587.5,4 -4,4\"/>\n",
       "<!-- 132457777561360 -->\n",
       "<g id=\"node1\" class=\"node\">\n",
       "<title>132457777561360</title>\n",
       "<polygon fill=\"none\" stroke=\"black\" points=\"0,-55.5 0,-91.5 229.5,-91.5 229.5,-55.5 0,-55.5\"/>\n",
       "<text text-anchor=\"middle\" x=\"12.5\" y=\"-69.2\" font-family=\"Times,serif\" font-size=\"14.00\">b</text>\n",
       "<polyline fill=\"none\" stroke=\"black\" points=\"25,-56.25 25,-91.5\"/>\n",
       "<text text-anchor=\"middle\" x=\"75.75\" y=\"-69.2\" font-family=\"Times,serif\" font-size=\"14.00\">data 2.0000</text>\n",
       "<polyline fill=\"none\" stroke=\"black\" points=\"126.5,-56.25 126.5,-91.5\"/>\n",
       "<text text-anchor=\"middle\" x=\"178\" y=\"-69.2\" font-family=\"Times,serif\" font-size=\"14.00\">grad 1.0000</text>\n",
       "</g>\n",
       "<!-- 132457777546048+ -->\n",
       "<g id=\"node3\" class=\"node\">\n",
       "<title>132457777546048+</title>\n",
       "<ellipse fill=\"none\" stroke=\"black\" cx=\"292.5\" cy=\"-45.5\" rx=\"27\" ry=\"18\"/>\n",
       "<text text-anchor=\"middle\" x=\"292.5\" y=\"-40.83\" font-family=\"Times,serif\" font-size=\"14.00\">+</text>\n",
       "</g>\n",
       "<!-- 132457777561360&#45;&gt;132457777546048+ -->\n",
       "<g id=\"edge3\" class=\"edge\">\n",
       "<title>132457777561360&#45;&gt;132457777546048+</title>\n",
       "<path fill=\"none\" stroke=\"black\" d=\"M229.54,-55.37C238.37,-53.96 246.82,-52.62 254.49,-51.4\"/>\n",
       "<polygon fill=\"black\" stroke=\"black\" points=\"255,-54.86 264.33,-49.83 253.9,-47.95 255,-54.86\"/>\n",
       "</g>\n",
       "<!-- 132457777546048 -->\n",
       "<g id=\"node2\" class=\"node\">\n",
       "<title>132457777546048</title>\n",
       "<polygon fill=\"none\" stroke=\"black\" points=\"355.5,-27.5 355.5,-63.5 583.5,-63.5 583.5,-27.5 355.5,-27.5\"/>\n",
       "<text text-anchor=\"middle\" x=\"367.25\" y=\"-41.2\" font-family=\"Times,serif\" font-size=\"14.00\">c</text>\n",
       "<polyline fill=\"none\" stroke=\"black\" points=\"379,-28.25 379,-63.5\"/>\n",
       "<text text-anchor=\"middle\" x=\"429.75\" y=\"-41.2\" font-family=\"Times,serif\" font-size=\"14.00\">data 5.0000</text>\n",
       "<polyline fill=\"none\" stroke=\"black\" points=\"480.5,-28.25 480.5,-63.5\"/>\n",
       "<text text-anchor=\"middle\" x=\"532\" y=\"-41.2\" font-family=\"Times,serif\" font-size=\"14.00\">grad 1.0000</text>\n",
       "</g>\n",
       "<!-- 132457777546048+&#45;&gt;132457777546048 -->\n",
       "<g id=\"edge1\" class=\"edge\">\n",
       "<title>132457777546048+&#45;&gt;132457777546048</title>\n",
       "<path fill=\"none\" stroke=\"black\" d=\"M319.7,-45.5C326.81,-45.5 335,-45.5 343.81,-45.5\"/>\n",
       "<polygon fill=\"black\" stroke=\"black\" points=\"343.74,-49 353.74,-45.5 343.74,-42 343.74,-49\"/>\n",
       "</g>\n",
       "<!-- 132457777554544 -->\n",
       "<g id=\"node4\" class=\"node\">\n",
       "<title>132457777554544</title>\n",
       "<polygon fill=\"none\" stroke=\"black\" points=\"0.38,-0.5 0.38,-36.5 229.12,-36.5 229.12,-0.5 0.38,-0.5\"/>\n",
       "<text text-anchor=\"middle\" x=\"12.5\" y=\"-14.2\" font-family=\"Times,serif\" font-size=\"14.00\">a</text>\n",
       "<polyline fill=\"none\" stroke=\"black\" points=\"24.62,-1.25 24.62,-36.5\"/>\n",
       "<text text-anchor=\"middle\" x=\"75.38\" y=\"-14.2\" font-family=\"Times,serif\" font-size=\"14.00\">data 3.0000</text>\n",
       "<polyline fill=\"none\" stroke=\"black\" points=\"126.12,-1.25 126.12,-36.5\"/>\n",
       "<text text-anchor=\"middle\" x=\"177.62\" y=\"-14.2\" font-family=\"Times,serif\" font-size=\"14.00\">grad 1.0000</text>\n",
       "</g>\n",
       "<!-- 132457777554544&#45;&gt;132457777546048+ -->\n",
       "<g id=\"edge2\" class=\"edge\">\n",
       "<title>132457777554544&#45;&gt;132457777546048+</title>\n",
       "<path fill=\"none\" stroke=\"black\" d=\"M229.54,-35.98C238.37,-37.34 246.82,-38.64 254.49,-39.81\"/>\n",
       "<polygon fill=\"black\" stroke=\"black\" points=\"253.91,-43.27 264.33,-41.33 254.98,-36.35 253.91,-43.27\"/>\n",
       "</g>\n",
       "</g>\n",
       "</svg>\n"
      ],
      "text/plain": [
       "<graphviz.graphs.Digraph at 0x78783ac763b0>"
      ]
     },
     "execution_count": 5,
     "metadata": {},
     "output_type": "execute_result"
    }
   ],
   "source": [
    "a = Value(3.0, label = 'a')\n",
    "b = Value(2.0, label = 'b')\n",
    "c = a + b; c.label = 'c'\n",
    "c.backward()\n",
    "draw_dot(c)"
   ]
  },
  {
   "cell_type": "markdown",
   "id": "4b2649c9",
   "metadata": {
    "papermill": {
     "duration": 0.011333,
     "end_time": "2024-05-15T11:14:07.577685",
     "exception": false,
     "start_time": "2024-05-15T11:14:07.566352",
     "status": "completed"
    },
    "tags": []
   },
   "source": [
    "## EndDebugging"
   ]
  },
  {
   "cell_type": "code",
   "execution_count": 6,
   "id": "a307ec57",
   "metadata": {
    "execution": {
     "iopub.execute_input": "2024-05-15T11:14:07.602647Z",
     "iopub.status.busy": "2024-05-15T11:14:07.601557Z",
     "iopub.status.idle": "2024-05-15T11:14:07.609663Z",
     "shell.execute_reply": "2024-05-15T11:14:07.608101Z"
    },
    "papermill": {
     "duration": 0.02328,
     "end_time": "2024-05-15T11:14:07.612283",
     "exception": false,
     "start_time": "2024-05-15T11:14:07.589003",
     "status": "completed"
    },
    "tags": []
   },
   "outputs": [
    {
     "name": "stdout",
     "output_type": "stream",
     "text": [
      "-22.120199999999997\n"
     ]
    }
   ],
   "source": [
    "a.data += 0.01 * a.grad\n",
    "b.data += 0.01 * b.grad\n",
    "c.data += 0.01 * c.grad\n",
    "f.data += 0.01 * f.grad\n",
    "\n",
    "e = a * b\n",
    "d = e + c\n",
    "L = d * f\n",
    "\n",
    "print(L.data)"
   ]
  },
  {
   "cell_type": "code",
   "execution_count": 7,
   "id": "f9af0dbd",
   "metadata": {
    "execution": {
     "iopub.execute_input": "2024-05-15T11:14:07.637568Z",
     "iopub.status.busy": "2024-05-15T11:14:07.636353Z",
     "iopub.status.idle": "2024-05-15T11:14:07.668628Z",
     "shell.execute_reply": "2024-05-15T11:14:07.667182Z"
    },
    "papermill": {
     "duration": 0.048138,
     "end_time": "2024-05-15T11:14:07.671770",
     "exception": false,
     "start_time": "2024-05-15T11:14:07.623632",
     "status": "completed"
    },
    "tags": []
   },
   "outputs": [
    {
     "data": {
      "image/svg+xml": [
       "<?xml version=\"1.0\" encoding=\"UTF-8\" standalone=\"no\"?>\n",
       "<!DOCTYPE svg PUBLIC \"-//W3C//DTD SVG 1.1//EN\"\n",
       " \"http://www.w3.org/Graphics/SVG/1.1/DTD/svg11.dtd\">\n",
       "<!-- Generated by graphviz version 9.0.0 (20231125.0833)\n",
       " -->\n",
       "<!-- Pages: 1 -->\n",
       "<svg width=\"1316pt\" height=\"128pt\"\n",
       " viewBox=\"0.00 0.00 1316.00 128.00\" xmlns=\"http://www.w3.org/2000/svg\" xmlns:xlink=\"http://www.w3.org/1999/xlink\">\n",
       "<g id=\"graph0\" class=\"graph\" transform=\"scale(1 1) rotate(0) translate(4 124)\">\n",
       "<polygon fill=\"white\" stroke=\"none\" points=\"-4,4 -4,-124 1312,-124 1312,4 -4,4\"/>\n",
       "<!-- 132457777545280 -->\n",
       "<g id=\"node1\" class=\"node\">\n",
       "<title>132457777545280</title>\n",
       "<polygon fill=\"none\" stroke=\"black\" points=\"1069.5,-27.5 1069.5,-63.5 1308,-63.5 1308,-27.5 1069.5,-27.5\"/>\n",
       "<text text-anchor=\"middle\" x=\"1079.75\" y=\"-41.2\" font-family=\"Times,serif\" font-size=\"14.00\"> </text>\n",
       "<polyline fill=\"none\" stroke=\"black\" points=\"1090,-28.25 1090,-63.5\"/>\n",
       "<text text-anchor=\"middle\" x=\"1147.5\" y=\"-41.2\" font-family=\"Times,serif\" font-size=\"14.00\">data &#45;22.1202</text>\n",
       "<polyline fill=\"none\" stroke=\"black\" points=\"1205,-28.25 1205,-63.5\"/>\n",
       "<text text-anchor=\"middle\" x=\"1256.5\" y=\"-41.2\" font-family=\"Times,serif\" font-size=\"14.00\">grad 0.0000</text>\n",
       "</g>\n",
       "<!-- 132457777545280* -->\n",
       "<g id=\"node2\" class=\"node\">\n",
       "<title>132457777545280*</title>\n",
       "<ellipse fill=\"none\" stroke=\"black\" cx=\"1006.5\" cy=\"-45.5\" rx=\"27\" ry=\"18\"/>\n",
       "<text text-anchor=\"middle\" x=\"1006.5\" y=\"-40.83\" font-family=\"Times,serif\" font-size=\"14.00\">*</text>\n",
       "</g>\n",
       "<!-- 132457777545280*&#45;&gt;132457777545280 -->\n",
       "<g id=\"edge1\" class=\"edge\">\n",
       "<title>132457777545280*&#45;&gt;132457777545280</title>\n",
       "<path fill=\"none\" stroke=\"black\" d=\"M1033.71,-45.5C1040.78,-45.5 1048.93,-45.5 1057.72,-45.5\"/>\n",
       "<polygon fill=\"black\" stroke=\"black\" points=\"1057.64,-49 1067.64,-45.5 1057.64,-42 1057.64,-49\"/>\n",
       "</g>\n",
       "<!-- 132457777552480 -->\n",
       "<g id=\"node3\" class=\"node\">\n",
       "<title>132457777552480</title>\n",
       "<polygon fill=\"none\" stroke=\"black\" points=\"357,-83.5 357,-119.5 582,-119.5 582,-83.5 357,-83.5\"/>\n",
       "<text text-anchor=\"middle\" x=\"367.25\" y=\"-97.2\" font-family=\"Times,serif\" font-size=\"14.00\"> </text>\n",
       "<polyline fill=\"none\" stroke=\"black\" points=\"377.5,-84.25 377.5,-119.5\"/>\n",
       "<text text-anchor=\"middle\" x=\"428.25\" y=\"-97.2\" font-family=\"Times,serif\" font-size=\"14.00\">data 6.0501</text>\n",
       "<polyline fill=\"none\" stroke=\"black\" points=\"479,-84.25 479,-119.5\"/>\n",
       "<text text-anchor=\"middle\" x=\"530.5\" y=\"-97.2\" font-family=\"Times,serif\" font-size=\"14.00\">grad 0.0000</text>\n",
       "</g>\n",
       "<!-- 132457777549552+ -->\n",
       "<g id=\"node7\" class=\"node\">\n",
       "<title>132457777549552+</title>\n",
       "<ellipse fill=\"none\" stroke=\"black\" cx=\"646.5\" cy=\"-73.5\" rx=\"27\" ry=\"18\"/>\n",
       "<text text-anchor=\"middle\" x=\"646.5\" y=\"-68.83\" font-family=\"Times,serif\" font-size=\"14.00\">+</text>\n",
       "</g>\n",
       "<!-- 132457777552480&#45;&gt;132457777549552+ -->\n",
       "<g id=\"edge9\" class=\"edge\">\n",
       "<title>132457777552480&#45;&gt;132457777549552+</title>\n",
       "<path fill=\"none\" stroke=\"black\" d=\"M582.32,-83.61C591.68,-82.11 600.64,-80.68 608.72,-79.39\"/>\n",
       "<polygon fill=\"black\" stroke=\"black\" points=\"609.05,-82.88 618.37,-77.84 607.94,-75.96 609.05,-82.88\"/>\n",
       "</g>\n",
       "<!-- 132457777552480* -->\n",
       "<g id=\"node4\" class=\"node\">\n",
       "<title>132457777552480*</title>\n",
       "<ellipse fill=\"none\" stroke=\"black\" cx=\"292.5\" cy=\"-101.5\" rx=\"27\" ry=\"18\"/>\n",
       "<text text-anchor=\"middle\" x=\"292.5\" y=\"-96.83\" font-family=\"Times,serif\" font-size=\"14.00\">*</text>\n",
       "</g>\n",
       "<!-- 132457777552480*&#45;&gt;132457777552480 -->\n",
       "<g id=\"edge2\" class=\"edge\">\n",
       "<title>132457777552480*&#45;&gt;132457777552480</title>\n",
       "<path fill=\"none\" stroke=\"black\" d=\"M319.7,-101.5C327.24,-101.5 336,-101.5 345.42,-101.5\"/>\n",
       "<polygon fill=\"black\" stroke=\"black\" points=\"345.24,-105 355.24,-101.5 345.24,-98 345.24,-105\"/>\n",
       "</g>\n",
       "<!-- 132457777554544 -->\n",
       "<g id=\"node5\" class=\"node\">\n",
       "<title>132457777554544</title>\n",
       "<polygon fill=\"none\" stroke=\"black\" points=\"0.38,-83.5 0.38,-119.5 229.12,-119.5 229.12,-83.5 0.38,-83.5\"/>\n",
       "<text text-anchor=\"middle\" x=\"12.5\" y=\"-97.2\" font-family=\"Times,serif\" font-size=\"14.00\">a</text>\n",
       "<polyline fill=\"none\" stroke=\"black\" points=\"24.62,-84.25 24.62,-119.5\"/>\n",
       "<text text-anchor=\"middle\" x=\"75.38\" y=\"-97.2\" font-family=\"Times,serif\" font-size=\"14.00\">data 3.0100</text>\n",
       "<polyline fill=\"none\" stroke=\"black\" points=\"126.12,-84.25 126.12,-119.5\"/>\n",
       "<text text-anchor=\"middle\" x=\"177.62\" y=\"-97.2\" font-family=\"Times,serif\" font-size=\"14.00\">grad 1.0000</text>\n",
       "</g>\n",
       "<!-- 132457777554544&#45;&gt;132457777552480* -->\n",
       "<g id=\"edge7\" class=\"edge\">\n",
       "<title>132457777554544&#45;&gt;132457777552480*</title>\n",
       "<path fill=\"none\" stroke=\"black\" d=\"M229.54,-101.5C238.1,-101.5 246.29,-101.5 253.77,-101.5\"/>\n",
       "<polygon fill=\"black\" stroke=\"black\" points=\"253.7,-105 263.7,-101.5 253.7,-98 253.7,-105\"/>\n",
       "</g>\n",
       "<!-- 132457777546048+ -->\n",
       "<g id=\"node10\" class=\"node\">\n",
       "<title>132457777546048+</title>\n",
       "<ellipse fill=\"none\" stroke=\"black\" cx=\"292.5\" cy=\"-46.5\" rx=\"27\" ry=\"18\"/>\n",
       "<text text-anchor=\"middle\" x=\"292.5\" y=\"-41.83\" font-family=\"Times,serif\" font-size=\"14.00\">+</text>\n",
       "</g>\n",
       "<!-- 132457777554544&#45;&gt;132457777546048+ -->\n",
       "<g id=\"edge8\" class=\"edge\">\n",
       "<title>132457777554544&#45;&gt;132457777546048+</title>\n",
       "<path fill=\"none\" stroke=\"black\" d=\"M201.35,-83.05C210.92,-80.44 220.47,-77.58 229.5,-74.5 239.65,-71.04 250.4,-66.51 260.05,-62.1\"/>\n",
       "<polygon fill=\"black\" stroke=\"black\" points=\"261.46,-65.31 269.02,-57.89 258.48,-58.98 261.46,-65.31\"/>\n",
       "</g>\n",
       "<!-- 132457777549552 -->\n",
       "<g id=\"node6\" class=\"node\">\n",
       "<title>132457777549552</title>\n",
       "<polygon fill=\"none\" stroke=\"black\" points=\"709.5,-55.5 709.5,-91.5 943.5,-91.5 943.5,-55.5 709.5,-55.5\"/>\n",
       "<text text-anchor=\"middle\" x=\"719.75\" y=\"-69.2\" font-family=\"Times,serif\" font-size=\"14.00\"> </text>\n",
       "<polyline fill=\"none\" stroke=\"black\" points=\"730,-56.25 730,-91.5\"/>\n",
       "<text text-anchor=\"middle\" x=\"785.25\" y=\"-69.2\" font-family=\"Times,serif\" font-size=\"14.00\">data 11.0601</text>\n",
       "<polyline fill=\"none\" stroke=\"black\" points=\"840.5,-56.25 840.5,-91.5\"/>\n",
       "<text text-anchor=\"middle\" x=\"892\" y=\"-69.2\" font-family=\"Times,serif\" font-size=\"14.00\">grad 0.0000</text>\n",
       "</g>\n",
       "<!-- 132457777549552&#45;&gt;132457777545280* -->\n",
       "<g id=\"edge10\" class=\"edge\">\n",
       "<title>132457777549552&#45;&gt;132457777545280*</title>\n",
       "<path fill=\"none\" stroke=\"black\" d=\"M943.74,-55.21C952.57,-53.83 961.01,-52.5 968.65,-51.3\"/>\n",
       "<polygon fill=\"black\" stroke=\"black\" points=\"969.12,-54.77 978.46,-49.75 968.03,-47.85 969.12,-54.77\"/>\n",
       "</g>\n",
       "<!-- 132457777549552+&#45;&gt;132457777549552 -->\n",
       "<g id=\"edge3\" class=\"edge\">\n",
       "<title>132457777549552+&#45;&gt;132457777549552</title>\n",
       "<path fill=\"none\" stroke=\"black\" d=\"M673.76,-73.5C680.84,-73.5 688.98,-73.5 697.75,-73.5\"/>\n",
       "<polygon fill=\"black\" stroke=\"black\" points=\"697.65,-77 707.65,-73.5 697.65,-70 697.65,-77\"/>\n",
       "</g>\n",
       "<!-- 132457777561360 -->\n",
       "<g id=\"node8\" class=\"node\">\n",
       "<title>132457777561360</title>\n",
       "<polygon fill=\"none\" stroke=\"black\" points=\"0,-28.5 0,-64.5 229.5,-64.5 229.5,-28.5 0,-28.5\"/>\n",
       "<text text-anchor=\"middle\" x=\"12.5\" y=\"-42.2\" font-family=\"Times,serif\" font-size=\"14.00\">b</text>\n",
       "<polyline fill=\"none\" stroke=\"black\" points=\"25,-29.25 25,-64.5\"/>\n",
       "<text text-anchor=\"middle\" x=\"75.75\" y=\"-42.2\" font-family=\"Times,serif\" font-size=\"14.00\">data 2.0100</text>\n",
       "<polyline fill=\"none\" stroke=\"black\" points=\"126.5,-29.25 126.5,-64.5\"/>\n",
       "<text text-anchor=\"middle\" x=\"178\" y=\"-42.2\" font-family=\"Times,serif\" font-size=\"14.00\">grad 1.0000</text>\n",
       "</g>\n",
       "<!-- 132457777561360&#45;&gt;132457777552480* -->\n",
       "<g id=\"edge6\" class=\"edge\">\n",
       "<title>132457777561360&#45;&gt;132457777552480*</title>\n",
       "<path fill=\"none\" stroke=\"black\" d=\"M197.94,-64.97C208.64,-67.89 219.39,-71.08 229.5,-74.5 239.52,-77.89 250.17,-82.24 259.76,-86.45\"/>\n",
       "<polygon fill=\"black\" stroke=\"black\" points=\"258.11,-89.54 268.67,-90.46 260.99,-83.16 258.11,-89.54\"/>\n",
       "</g>\n",
       "<!-- 132457777561360&#45;&gt;132457777546048+ -->\n",
       "<g id=\"edge12\" class=\"edge\">\n",
       "<title>132457777561360&#45;&gt;132457777546048+</title>\n",
       "<path fill=\"none\" stroke=\"black\" d=\"M229.54,-46.5C238.1,-46.5 246.29,-46.5 253.77,-46.5\"/>\n",
       "<polygon fill=\"black\" stroke=\"black\" points=\"253.7,-50 263.7,-46.5 253.7,-43 253.7,-50\"/>\n",
       "</g>\n",
       "<!-- 132457777546048 -->\n",
       "<g id=\"node9\" class=\"node\">\n",
       "<title>132457777546048</title>\n",
       "<polygon fill=\"none\" stroke=\"black\" points=\"355.5,-28.5 355.5,-64.5 583.5,-64.5 583.5,-28.5 355.5,-28.5\"/>\n",
       "<text text-anchor=\"middle\" x=\"367.25\" y=\"-42.2\" font-family=\"Times,serif\" font-size=\"14.00\">c</text>\n",
       "<polyline fill=\"none\" stroke=\"black\" points=\"379,-29.25 379,-64.5\"/>\n",
       "<text text-anchor=\"middle\" x=\"429.75\" y=\"-42.2\" font-family=\"Times,serif\" font-size=\"14.00\">data 5.0100</text>\n",
       "<polyline fill=\"none\" stroke=\"black\" points=\"480.5,-29.25 480.5,-64.5\"/>\n",
       "<text text-anchor=\"middle\" x=\"532\" y=\"-42.2\" font-family=\"Times,serif\" font-size=\"14.00\">grad 1.0000</text>\n",
       "</g>\n",
       "<!-- 132457777546048&#45;&gt;132457777549552+ -->\n",
       "<g id=\"edge11\" class=\"edge\">\n",
       "<title>132457777546048&#45;&gt;132457777549552+</title>\n",
       "<path fill=\"none\" stroke=\"black\" d=\"M583.8,-63.98C592.6,-65.34 601.01,-66.64 608.64,-67.81\"/>\n",
       "<polygon fill=\"black\" stroke=\"black\" points=\"608.02,-71.26 618.44,-69.32 609.09,-64.34 608.02,-71.26\"/>\n",
       "</g>\n",
       "<!-- 132457777546048+&#45;&gt;132457777546048 -->\n",
       "<g id=\"edge4\" class=\"edge\">\n",
       "<title>132457777546048+&#45;&gt;132457777546048</title>\n",
       "<path fill=\"none\" stroke=\"black\" d=\"M319.7,-46.5C326.81,-46.5 335,-46.5 343.81,-46.5\"/>\n",
       "<polygon fill=\"black\" stroke=\"black\" points=\"343.74,-50 353.74,-46.5 343.74,-43 343.74,-50\"/>\n",
       "</g>\n",
       "<!-- 132457787936096 -->\n",
       "<g id=\"node11\" class=\"node\">\n",
       "<title>132457787936096</title>\n",
       "<polygon fill=\"none\" stroke=\"black\" points=\"711.38,-0.5 711.38,-36.5 941.62,-36.5 941.62,-0.5 711.38,-0.5\"/>\n",
       "<text text-anchor=\"middle\" x=\"722\" y=\"-14.2\" font-family=\"Times,serif\" font-size=\"14.00\">f</text>\n",
       "<polyline fill=\"none\" stroke=\"black\" points=\"732.62,-1.25 732.62,-36.5\"/>\n",
       "<text text-anchor=\"middle\" x=\"785.62\" y=\"-14.2\" font-family=\"Times,serif\" font-size=\"14.00\">data &#45;2.0000</text>\n",
       "<polyline fill=\"none\" stroke=\"black\" points=\"838.62,-1.25 838.62,-36.5\"/>\n",
       "<text text-anchor=\"middle\" x=\"890.12\" y=\"-14.2\" font-family=\"Times,serif\" font-size=\"14.00\">grad 0.0000</text>\n",
       "</g>\n",
       "<!-- 132457787936096&#45;&gt;132457777545280* -->\n",
       "<g id=\"edge5\" class=\"edge\">\n",
       "<title>132457787936096&#45;&gt;132457777545280*</title>\n",
       "<path fill=\"none\" stroke=\"black\" d=\"M941.99,-35.87C951.42,-37.3 960.44,-38.66 968.56,-39.9\"/>\n",
       "<polygon fill=\"black\" stroke=\"black\" points=\"967.86,-43.33 978.27,-41.37 968.91,-36.41 967.86,-43.33\"/>\n",
       "</g>\n",
       "</g>\n",
       "</svg>\n"
      ],
      "text/plain": [
       "<graphviz.graphs.Digraph at 0x78783ac77d60>"
      ]
     },
     "execution_count": 7,
     "metadata": {},
     "output_type": "execute_result"
    }
   ],
   "source": [
    "draw_dot(L)"
   ]
  },
  {
   "cell_type": "code",
   "execution_count": 8,
   "id": "ef6ee9cc",
   "metadata": {
    "execution": {
     "iopub.execute_input": "2024-05-15T11:14:07.699169Z",
     "iopub.status.busy": "2024-05-15T11:14:07.698752Z",
     "iopub.status.idle": "2024-05-15T11:14:07.709387Z",
     "shell.execute_reply": "2024-05-15T11:14:07.708131Z"
    },
    "papermill": {
     "duration": 0.026796,
     "end_time": "2024-05-15T11:14:07.712011",
     "exception": false,
     "start_time": "2024-05-15T11:14:07.685215",
     "status": "completed"
    },
    "tags": []
   },
   "outputs": [
    {
     "name": "stdout",
     "output_type": "stream",
     "text": [
      "-4.000000000026205\n"
     ]
    }
   ],
   "source": [
    "def lol():\n",
    "    \n",
    "    h = 0.00001\n",
    "    \n",
    "    a = Value(2.0, label='a')\n",
    "    b = Value(-3.0, label='b')\n",
    "    c = Value(10.0, label='c')\n",
    "    e = a*b; e.label = 'e'\n",
    "    d = e + c; d.label = 'd'\n",
    "    f = Value(-2.0, label='f')\n",
    "    L = d * f; L.label = 'L'\n",
    "    L1 = L.data\n",
    "    \n",
    "    a = Value(2.0, label='a')\n",
    "    b = Value(-3.0, label='b')\n",
    "    b.data += h\n",
    "    c = Value(10.0, label='c')\n",
    "    e = a*b; e.label = 'e'\n",
    "    d = e + c; d.label = 'd'\n",
    "    f = Value(-2.0, label='f')\n",
    "    L = d * f; L.label = 'L'\n",
    "    L2 = L.data\n",
    "    \n",
    "    print((L2-L1)/h)\n",
    "\n",
    "lol()"
   ]
  },
  {
   "cell_type": "code",
   "execution_count": 9,
   "id": "71cf84fd",
   "metadata": {
    "execution": {
     "iopub.execute_input": "2024-05-15T11:14:07.740178Z",
     "iopub.status.busy": "2024-05-15T11:14:07.739733Z",
     "iopub.status.idle": "2024-05-15T11:14:08.080558Z",
     "shell.execute_reply": "2024-05-15T11:14:08.079199Z"
    },
    "papermill": {
     "duration": 0.35864,
     "end_time": "2024-05-15T11:14:08.083572",
     "exception": false,
     "start_time": "2024-05-15T11:14:07.724932",
     "status": "completed"
    },
    "tags": []
   },
   "outputs": [
    {
     "data": {
      "image/png": "[encoded data removed]",
      "text/plain": [
       "<Figure size 640x480 with 1 Axes>"
      ]
     },
     "metadata": {},
     "output_type": "display_data"
    }
   ],
   "source": [
    "plt.plot(np.arange(-5,5,0.2), np.tanh(np.arange(-5,5,0.2))); plt.grid();"
   ]
  },
  {
   "cell_type": "code",
   "execution_count": 10,
   "id": "8b438586",
   "metadata": {
    "execution": {
     "iopub.execute_input": "2024-05-15T11:14:08.113122Z",
     "iopub.status.busy": "2024-05-15T11:14:08.111883Z",
     "iopub.status.idle": "2024-05-15T11:14:08.122237Z",
     "shell.execute_reply": "2024-05-15T11:14:08.120907Z"
    },
    "papermill": {
     "duration": 0.027908,
     "end_time": "2024-05-15T11:14:08.125278",
     "exception": false,
     "start_time": "2024-05-15T11:14:08.097370",
     "status": "completed"
    },
    "tags": []
   },
   "outputs": [],
   "source": [
    "# inputs x1,x2\n",
    "x1 = Value(2.0, label='x1')\n",
    "x2 = Value(0.0, label='x2')\n",
    "# weights w1,w2\n",
    "w1 = Value(-3.0, label='w1')\n",
    "w2 = Value(1.0, label='w2')\n",
    "# bias of the neuron\n",
    "b = Value(6.8813735870195432, label='b')\n",
    "# x1*w1 + x2*w2 + b\n",
    "x1w1 = x1*w1; x1w1.label = 'x1*w1'\n",
    "x2w2 = x2*w2; x2w2.label = 'x2*w2'\n",
    "x1w1x2w2 = x1w1 + x2w2; x1w1x2w2.label = 'x1*w1 + x2*w2'\n",
    "n = x1w1x2w2 + b; n.label = 'n'\n",
    "o = n.tanh(); o.label = 'o'"
   ]
  },
  {
   "cell_type": "code",
   "execution_count": 11,
   "id": "7570c15f",
   "metadata": {
    "execution": {
     "iopub.execute_input": "2024-05-15T11:14:08.152503Z",
     "iopub.status.busy": "2024-05-15T11:14:08.152105Z",
     "iopub.status.idle": "2024-05-15T11:14:08.185693Z",
     "shell.execute_reply": "2024-05-15T11:14:08.184079Z"
    },
    "papermill": {
     "duration": 0.050656,
     "end_time": "2024-05-15T11:14:08.188691",
     "exception": false,
     "start_time": "2024-05-15T11:14:08.138035",
     "status": "completed"
    },
    "tags": []
   },
   "outputs": [
    {
     "data": {
      "image/svg+xml": [
       "<?xml version=\"1.0\" encoding=\"UTF-8\" standalone=\"no\"?>\n",
       "<!DOCTYPE svg PUBLIC \"-//W3C//DTD SVG 1.1//EN\"\n",
       " \"http://www.w3.org/Graphics/SVG/1.1/DTD/svg11.dtd\">\n",
       "<!-- Generated by graphviz version 9.0.0 (20231125.0833)\n",
       " -->\n",
       "<!-- Pages: 1 -->\n",
       "<svg width=\"1836pt\" height=\"210pt\"\n",
       " viewBox=\"0.00 0.00 1835.94 210.00\" xmlns=\"http://www.w3.org/2000/svg\" xmlns:xlink=\"http://www.w3.org/1999/xlink\">\n",
       "<g id=\"graph0\" class=\"graph\" transform=\"scale(1 1) rotate(0) translate(4 206)\">\n",
       "<polygon fill=\"white\" stroke=\"none\" points=\"-4,4 -4,-206 1831.94,-206 1831.94,4 -4,4\"/>\n",
       "<!-- 132457787629600 -->\n",
       "<g id=\"node1\" class=\"node\">\n",
       "<title>132457787629600</title>\n",
       "<polygon fill=\"none\" stroke=\"black\" points=\"2.25,-165.5 2.25,-201.5 243.75,-201.5 243.75,-165.5 2.25,-165.5\"/>\n",
       "<text text-anchor=\"middle\" x=\"20.75\" y=\"-179.2\" font-family=\"Times,serif\" font-size=\"14.00\">w2</text>\n",
       "<polyline fill=\"none\" stroke=\"black\" points=\"39.25,-166.25 39.25,-201.5\"/>\n",
       "<text text-anchor=\"middle\" x=\"90\" y=\"-179.2\" font-family=\"Times,serif\" font-size=\"14.00\">data 1.0000</text>\n",
       "<polyline fill=\"none\" stroke=\"black\" points=\"140.75,-166.25 140.75,-201.5\"/>\n",
       "<text text-anchor=\"middle\" x=\"192.25\" y=\"-179.2\" font-family=\"Times,serif\" font-size=\"14.00\">grad 0.0000</text>\n",
       "</g>\n",
       "<!-- 132457743227952* -->\n",
       "<g id=\"node3\" class=\"node\">\n",
       "<title>132457743227952*</title>\n",
       "<ellipse fill=\"none\" stroke=\"black\" cx=\"309\" cy=\"-128.5\" rx=\"27\" ry=\"18\"/>\n",
       "<text text-anchor=\"middle\" x=\"309\" y=\"-123.83\" font-family=\"Times,serif\" font-size=\"14.00\">*</text>\n",
       "</g>\n",
       "<!-- 132457787629600&#45;&gt;132457743227952* -->\n",
       "<g id=\"edge8\" class=\"edge\">\n",
       "<title>132457787629600&#45;&gt;132457743227952*</title>\n",
       "<path fill=\"none\" stroke=\"black\" d=\"M216.81,-165.07C226.74,-162.47 236.63,-159.61 246,-156.5 256.18,-153.12 266.94,-148.61 276.59,-144.2\"/>\n",
       "<polygon fill=\"black\" stroke=\"black\" points=\"277.99,-147.41 285.55,-139.98 275.01,-141.08 277.99,-147.41\"/>\n",
       "</g>\n",
       "<!-- 132457743227952 -->\n",
       "<g id=\"node2\" class=\"node\">\n",
       "<title>132457743227952</title>\n",
       "<polygon fill=\"none\" stroke=\"black\" points=\"374.25,-110.5 374.25,-146.5 639.75,-146.5 639.75,-110.5 374.25,-110.5\"/>\n",
       "<text text-anchor=\"middle\" x=\"404.75\" y=\"-124.2\" font-family=\"Times,serif\" font-size=\"14.00\">x2*w2</text>\n",
       "<polyline fill=\"none\" stroke=\"black\" points=\"435.25,-111.25 435.25,-146.5\"/>\n",
       "<text text-anchor=\"middle\" x=\"486\" y=\"-124.2\" font-family=\"Times,serif\" font-size=\"14.00\">data 0.0000</text>\n",
       "<polyline fill=\"none\" stroke=\"black\" points=\"536.75,-111.25 536.75,-146.5\"/>\n",
       "<text text-anchor=\"middle\" x=\"588.25\" y=\"-124.2\" font-family=\"Times,serif\" font-size=\"14.00\">grad 0.0000</text>\n",
       "</g>\n",
       "<!-- 132457743228144+ -->\n",
       "<g id=\"node6\" class=\"node\">\n",
       "<title>132457743228144+</title>\n",
       "<ellipse fill=\"none\" stroke=\"black\" cx=\"705\" cy=\"-100.5\" rx=\"27\" ry=\"18\"/>\n",
       "<text text-anchor=\"middle\" x=\"705\" y=\"-95.83\" font-family=\"Times,serif\" font-size=\"14.00\">+</text>\n",
       "</g>\n",
       "<!-- 132457743227952&#45;&gt;132457743228144+ -->\n",
       "<g id=\"edge14\" class=\"edge\">\n",
       "<title>132457743227952&#45;&gt;132457743228144+</title>\n",
       "<path fill=\"none\" stroke=\"black\" d=\"M637.37,-110.02C647.88,-108.52 657.85,-107.09 666.73,-105.82\"/>\n",
       "<polygon fill=\"black\" stroke=\"black\" points=\"667.19,-109.29 676.6,-104.41 666.2,-102.36 667.19,-109.29\"/>\n",
       "</g>\n",
       "<!-- 132457743227952*&#45;&gt;132457743227952 -->\n",
       "<g id=\"edge1\" class=\"edge\">\n",
       "<title>132457743227952*&#45;&gt;132457743227952</title>\n",
       "<path fill=\"none\" stroke=\"black\" d=\"M336.43,-128.5C344.1,-128.5 353.05,-128.5 362.77,-128.5\"/>\n",
       "<polygon fill=\"black\" stroke=\"black\" points=\"362.51,-132 372.51,-128.5 362.51,-125 362.51,-132\"/>\n",
       "</g>\n",
       "<!-- 132457787631280 -->\n",
       "<g id=\"node4\" class=\"node\">\n",
       "<title>132457787631280</title>\n",
       "<polygon fill=\"none\" stroke=\"black\" points=\"4.12,-55.5 4.12,-91.5 241.88,-91.5 241.88,-55.5 4.12,-55.5\"/>\n",
       "<text text-anchor=\"middle\" x=\"20.75\" y=\"-69.2\" font-family=\"Times,serif\" font-size=\"14.00\">x1</text>\n",
       "<polyline fill=\"none\" stroke=\"black\" points=\"37.38,-56.25 37.38,-91.5\"/>\n",
       "<text text-anchor=\"middle\" x=\"88.12\" y=\"-69.2\" font-family=\"Times,serif\" font-size=\"14.00\">data 2.0000</text>\n",
       "<polyline fill=\"none\" stroke=\"black\" points=\"138.88,-56.25 138.88,-91.5\"/>\n",
       "<text text-anchor=\"middle\" x=\"190.38\" y=\"-69.2\" font-family=\"Times,serif\" font-size=\"14.00\">grad 0.0000</text>\n",
       "</g>\n",
       "<!-- 132457743121280* -->\n",
       "<g id=\"node10\" class=\"node\">\n",
       "<title>132457743121280*</title>\n",
       "<ellipse fill=\"none\" stroke=\"black\" cx=\"309\" cy=\"-73.5\" rx=\"27\" ry=\"18\"/>\n",
       "<text text-anchor=\"middle\" x=\"309\" y=\"-68.83\" font-family=\"Times,serif\" font-size=\"14.00\">*</text>\n",
       "</g>\n",
       "<!-- 132457787631280&#45;&gt;132457743121280* -->\n",
       "<g id=\"edge7\" class=\"edge\">\n",
       "<title>132457787631280&#45;&gt;132457743121280*</title>\n",
       "<path fill=\"none\" stroke=\"black\" d=\"M242.35,-73.5C252.31,-73.5 261.82,-73.5 270.35,-73.5\"/>\n",
       "<polygon fill=\"black\" stroke=\"black\" points=\"270.2,-77 280.2,-73.5 270.2,-70 270.2,-77\"/>\n",
       "</g>\n",
       "<!-- 132457743228144 -->\n",
       "<g id=\"node5\" class=\"node\">\n",
       "<title>132457743228144</title>\n",
       "<polygon fill=\"none\" stroke=\"black\" points=\"768,-82.5 768,-118.5 1104,-118.5 1104,-82.5 768,-82.5\"/>\n",
       "<text text-anchor=\"middle\" x=\"831.5\" y=\"-96.2\" font-family=\"Times,serif\" font-size=\"14.00\">x1*w1 + x2*w2</text>\n",
       "<polyline fill=\"none\" stroke=\"black\" points=\"895,-83.25 895,-118.5\"/>\n",
       "<text text-anchor=\"middle\" x=\"948\" y=\"-96.2\" font-family=\"Times,serif\" font-size=\"14.00\">data &#45;6.0000</text>\n",
       "<polyline fill=\"none\" stroke=\"black\" points=\"1001,-83.25 1001,-118.5\"/>\n",
       "<text text-anchor=\"middle\" x=\"1052.5\" y=\"-96.2\" font-family=\"Times,serif\" font-size=\"14.00\">grad 0.0000</text>\n",
       "</g>\n",
       "<!-- 132457743228912+ -->\n",
       "<g id=\"node15\" class=\"node\">\n",
       "<title>132457743228912+</title>\n",
       "<ellipse fill=\"none\" stroke=\"black\" cx=\"1167\" cy=\"-72.5\" rx=\"27\" ry=\"18\"/>\n",
       "<text text-anchor=\"middle\" x=\"1167\" y=\"-67.83\" font-family=\"Times,serif\" font-size=\"14.00\">+</text>\n",
       "</g>\n",
       "<!-- 132457743228144&#45;&gt;132457743228912+ -->\n",
       "<g id=\"edge6\" class=\"edge\">\n",
       "<title>132457743228144&#45;&gt;132457743228912+</title>\n",
       "<path fill=\"none\" stroke=\"black\" d=\"M1088.15,-82.02C1103.05,-80.2 1117.02,-78.49 1128.9,-77.04\"/>\n",
       "<polygon fill=\"black\" stroke=\"black\" points=\"1129.04,-80.55 1138.54,-75.86 1128.19,-73.6 1129.04,-80.55\"/>\n",
       "</g>\n",
       "<!-- 132457743228144+&#45;&gt;132457743228144 -->\n",
       "<g id=\"edge2\" class=\"edge\">\n",
       "<title>132457743228144+&#45;&gt;132457743228144</title>\n",
       "<path fill=\"none\" stroke=\"black\" d=\"M732.27,-100.5C739.21,-100.5 747.24,-100.5 756.03,-100.5\"/>\n",
       "<polygon fill=\"black\" stroke=\"black\" points=\"756.02,-104 766.02,-100.5 756.02,-97 756.02,-104\"/>\n",
       "</g>\n",
       "<!-- 132457787631376 -->\n",
       "<g id=\"node7\" class=\"node\">\n",
       "<title>132457787631376</title>\n",
       "<polygon fill=\"none\" stroke=\"black\" points=\"4.12,-110.5 4.12,-146.5 241.88,-146.5 241.88,-110.5 4.12,-110.5\"/>\n",
       "<text text-anchor=\"middle\" x=\"20.75\" y=\"-124.2\" font-family=\"Times,serif\" font-size=\"14.00\">x2</text>\n",
       "<polyline fill=\"none\" stroke=\"black\" points=\"37.38,-111.25 37.38,-146.5\"/>\n",
       "<text text-anchor=\"middle\" x=\"88.12\" y=\"-124.2\" font-family=\"Times,serif\" font-size=\"14.00\">data 0.0000</text>\n",
       "<polyline fill=\"none\" stroke=\"black\" points=\"138.88,-111.25 138.88,-146.5\"/>\n",
       "<text text-anchor=\"middle\" x=\"190.38\" y=\"-124.2\" font-family=\"Times,serif\" font-size=\"14.00\">grad 0.0000</text>\n",
       "</g>\n",
       "<!-- 132457787631376&#45;&gt;132457743227952* -->\n",
       "<g id=\"edge10\" class=\"edge\">\n",
       "<title>132457787631376&#45;&gt;132457743227952*</title>\n",
       "<path fill=\"none\" stroke=\"black\" d=\"M242.35,-128.5C252.31,-128.5 261.82,-128.5 270.35,-128.5\"/>\n",
       "<polygon fill=\"black\" stroke=\"black\" points=\"270.2,-132 280.2,-128.5 270.2,-125 270.2,-132\"/>\n",
       "</g>\n",
       "<!-- 132457787631424 -->\n",
       "<g id=\"node8\" class=\"node\">\n",
       "<title>132457787631424</title>\n",
       "<polygon fill=\"none\" stroke=\"black\" points=\"821.25,-27.5 821.25,-63.5 1050.75,-63.5 1050.75,-27.5 821.25,-27.5\"/>\n",
       "<text text-anchor=\"middle\" x=\"833.75\" y=\"-41.2\" font-family=\"Times,serif\" font-size=\"14.00\">b</text>\n",
       "<polyline fill=\"none\" stroke=\"black\" points=\"846.25,-28.25 846.25,-63.5\"/>\n",
       "<text text-anchor=\"middle\" x=\"897\" y=\"-41.2\" font-family=\"Times,serif\" font-size=\"14.00\">data 6.8814</text>\n",
       "<polyline fill=\"none\" stroke=\"black\" points=\"947.75,-28.25 947.75,-63.5\"/>\n",
       "<text text-anchor=\"middle\" x=\"999.25\" y=\"-41.2\" font-family=\"Times,serif\" font-size=\"14.00\">grad 0.0000</text>\n",
       "</g>\n",
       "<!-- 132457787631424&#45;&gt;132457743228912+ -->\n",
       "<g id=\"edge11\" class=\"edge\">\n",
       "<title>132457787631424&#45;&gt;132457743228912+</title>\n",
       "<path fill=\"none\" stroke=\"black\" d=\"M1051.16,-58.96C1079.33,-62.28 1107.53,-65.61 1128.93,-68.13\"/>\n",
       "<polygon fill=\"black\" stroke=\"black\" points=\"1128.24,-71.57 1138.58,-69.27 1129.06,-64.62 1128.24,-71.57\"/>\n",
       "</g>\n",
       "<!-- 132457743121280 -->\n",
       "<g id=\"node9\" class=\"node\">\n",
       "<title>132457743121280</title>\n",
       "<polygon fill=\"none\" stroke=\"black\" points=\"372,-55.5 372,-91.5 642,-91.5 642,-55.5 372,-55.5\"/>\n",
       "<text text-anchor=\"middle\" x=\"402.5\" y=\"-69.2\" font-family=\"Times,serif\" font-size=\"14.00\">x1*w1</text>\n",
       "<polyline fill=\"none\" stroke=\"black\" points=\"433,-56.25 433,-91.5\"/>\n",
       "<text text-anchor=\"middle\" x=\"486\" y=\"-69.2\" font-family=\"Times,serif\" font-size=\"14.00\">data &#45;6.0000</text>\n",
       "<polyline fill=\"none\" stroke=\"black\" points=\"539,-56.25 539,-91.5\"/>\n",
       "<text text-anchor=\"middle\" x=\"590.5\" y=\"-69.2\" font-family=\"Times,serif\" font-size=\"14.00\">grad 0.0000</text>\n",
       "</g>\n",
       "<!-- 132457743121280&#45;&gt;132457743228144+ -->\n",
       "<g id=\"edge9\" class=\"edge\">\n",
       "<title>132457743121280&#45;&gt;132457743228144+</title>\n",
       "<path fill=\"none\" stroke=\"black\" d=\"M642.25,-91.99C651.05,-93.21 659.4,-94.36 666.95,-95.4\"/>\n",
       "<polygon fill=\"black\" stroke=\"black\" points=\"666.21,-98.83 676.6,-96.73 667.17,-91.89 666.21,-98.83\"/>\n",
       "</g>\n",
       "<!-- 132457743121280*&#45;&gt;132457743121280 -->\n",
       "<g id=\"edge3\" class=\"edge\">\n",
       "<title>132457743121280*&#45;&gt;132457743121280</title>\n",
       "<path fill=\"none\" stroke=\"black\" d=\"M336.43,-73.5C343.41,-73.5 351.46,-73.5 360.17,-73.5\"/>\n",
       "<polygon fill=\"black\" stroke=\"black\" points=\"360.02,-77 370.02,-73.5 360.02,-70 360.02,-77\"/>\n",
       "</g>\n",
       "<!-- 132457743231936 -->\n",
       "<g id=\"node11\" class=\"node\">\n",
       "<title>132457743231936</title>\n",
       "<polygon fill=\"none\" stroke=\"black\" points=\"1599.19,-54.5 1599.19,-90.5 1827.94,-90.5 1827.94,-54.5 1599.19,-54.5\"/>\n",
       "<text text-anchor=\"middle\" x=\"1611.32\" y=\"-68.2\" font-family=\"Times,serif\" font-size=\"14.00\">o</text>\n",
       "<polyline fill=\"none\" stroke=\"black\" points=\"1623.44,-55.25 1623.44,-90.5\"/>\n",
       "<text text-anchor=\"middle\" x=\"1674.19\" y=\"-68.2\" font-family=\"Times,serif\" font-size=\"14.00\">data 0.7071</text>\n",
       "<polyline fill=\"none\" stroke=\"black\" points=\"1724.94,-55.25 1724.94,-90.5\"/>\n",
       "<text text-anchor=\"middle\" x=\"1776.44\" y=\"-68.2\" font-family=\"Times,serif\" font-size=\"14.00\">grad 0.0000</text>\n",
       "</g>\n",
       "<!-- 132457743231936tanh -->\n",
       "<g id=\"node12\" class=\"node\">\n",
       "<title>132457743231936tanh</title>\n",
       "<ellipse fill=\"none\" stroke=\"black\" cx=\"1529.35\" cy=\"-72.5\" rx=\"33.85\" ry=\"18\"/>\n",
       "<text text-anchor=\"middle\" x=\"1529.35\" y=\"-67.83\" font-family=\"Times,serif\" font-size=\"14.00\">tanh</text>\n",
       "</g>\n",
       "<!-- 132457743231936tanh&#45;&gt;132457743231936 -->\n",
       "<g id=\"edge4\" class=\"edge\">\n",
       "<title>132457743231936tanh&#45;&gt;132457743231936</title>\n",
       "<path fill=\"none\" stroke=\"black\" d=\"M1563.35,-72.5C1570.7,-72.5 1578.92,-72.5 1587.63,-72.5\"/>\n",
       "<polygon fill=\"black\" stroke=\"black\" points=\"1587.36,-76 1597.36,-72.5 1587.36,-69 1587.36,-76\"/>\n",
       "</g>\n",
       "<!-- 132457787625952 -->\n",
       "<g id=\"node13\" class=\"node\">\n",
       "<title>132457787625952</title>\n",
       "<polygon fill=\"none\" stroke=\"black\" points=\"0,-0.5 0,-36.5 246,-36.5 246,-0.5 0,-0.5\"/>\n",
       "<text text-anchor=\"middle\" x=\"18.5\" y=\"-14.2\" font-family=\"Times,serif\" font-size=\"14.00\">w1</text>\n",
       "<polyline fill=\"none\" stroke=\"black\" points=\"37,-1.25 37,-36.5\"/>\n",
       "<text text-anchor=\"middle\" x=\"90\" y=\"-14.2\" font-family=\"Times,serif\" font-size=\"14.00\">data &#45;3.0000</text>\n",
       "<polyline fill=\"none\" stroke=\"black\" points=\"143,-1.25 143,-36.5\"/>\n",
       "<text text-anchor=\"middle\" x=\"194.5\" y=\"-14.2\" font-family=\"Times,serif\" font-size=\"14.00\">grad 0.0000</text>\n",
       "</g>\n",
       "<!-- 132457787625952&#45;&gt;132457743121280* -->\n",
       "<g id=\"edge13\" class=\"edge\">\n",
       "<title>132457787625952&#45;&gt;132457743121280*</title>\n",
       "<path fill=\"none\" stroke=\"black\" d=\"M213.15,-36.94C224.3,-39.84 235.47,-43.03 246,-46.5 256.05,-49.81 266.7,-54.13 276.29,-58.35\"/>\n",
       "<polygon fill=\"black\" stroke=\"black\" points=\"274.64,-61.44 285.2,-62.38 277.53,-55.07 274.64,-61.44\"/>\n",
       "</g>\n",
       "<!-- 132457743228912 -->\n",
       "<g id=\"node14\" class=\"node\">\n",
       "<title>132457743228912</title>\n",
       "<polygon fill=\"none\" stroke=\"black\" points=\"1230,-54.5 1230,-90.5 1459.5,-90.5 1459.5,-54.5 1230,-54.5\"/>\n",
       "<text text-anchor=\"middle\" x=\"1242.5\" y=\"-68.2\" font-family=\"Times,serif\" font-size=\"14.00\">n</text>\n",
       "<polyline fill=\"none\" stroke=\"black\" points=\"1255,-55.25 1255,-90.5\"/>\n",
       "<text text-anchor=\"middle\" x=\"1305.75\" y=\"-68.2\" font-family=\"Times,serif\" font-size=\"14.00\">data 0.8814</text>\n",
       "<polyline fill=\"none\" stroke=\"black\" points=\"1356.5,-55.25 1356.5,-90.5\"/>\n",
       "<text text-anchor=\"middle\" x=\"1408\" y=\"-68.2\" font-family=\"Times,serif\" font-size=\"14.00\">grad 0.0000</text>\n",
       "</g>\n",
       "<!-- 132457743228912&#45;&gt;132457743231936tanh -->\n",
       "<g id=\"edge12\" class=\"edge\">\n",
       "<title>132457743228912&#45;&gt;132457743231936tanh</title>\n",
       "<path fill=\"none\" stroke=\"black\" d=\"M1459.83,-72.5C1468.26,-72.5 1476.4,-72.5 1483.96,-72.5\"/>\n",
       "<polygon fill=\"black\" stroke=\"black\" points=\"1483.79,-76 1493.79,-72.5 1483.79,-69 1483.79,-76\"/>\n",
       "</g>\n",
       "<!-- 132457743228912+&#45;&gt;132457743228912 -->\n",
       "<g id=\"edge5\" class=\"edge\">\n",
       "<title>132457743228912+&#45;&gt;132457743228912</title>\n",
       "<path fill=\"none\" stroke=\"black\" d=\"M1194.31,-72.5C1201.38,-72.5 1209.52,-72.5 1218.27,-72.5\"/>\n",
       "<polygon fill=\"black\" stroke=\"black\" points=\"1218.14,-76 1228.14,-72.5 1218.14,-69 1218.14,-76\"/>\n",
       "</g>\n",
       "</g>\n",
       "</svg>\n"
      ],
      "text/plain": [
       "<graphviz.graphs.Digraph at 0x78783b612c20>"
      ]
     },
     "execution_count": 11,
     "metadata": {},
     "output_type": "execute_result"
    }
   ],
   "source": [
    "draw_dot(o)"
   ]
  },
  {
   "cell_type": "code",
   "execution_count": 12,
   "id": "d13fe27a",
   "metadata": {
    "execution": {
     "iopub.execute_input": "2024-05-15T11:14:08.217751Z",
     "iopub.status.busy": "2024-05-15T11:14:08.217372Z",
     "iopub.status.idle": "2024-05-15T11:14:08.222568Z",
     "shell.execute_reply": "2024-05-15T11:14:08.221254Z"
    },
    "papermill": {
     "duration": 0.02262,
     "end_time": "2024-05-15T11:14:08.225514",
     "exception": false,
     "start_time": "2024-05-15T11:14:08.202894",
     "status": "completed"
    },
    "tags": []
   },
   "outputs": [],
   "source": [
    "o.backward()"
   ]
  },
  {
   "cell_type": "code",
   "execution_count": 13,
   "id": "1a3e142f",
   "metadata": {
    "execution": {
     "iopub.execute_input": "2024-05-15T11:14:08.254779Z",
     "iopub.status.busy": "2024-05-15T11:14:08.252847Z",
     "iopub.status.idle": "2024-05-15T11:14:08.264682Z",
     "shell.execute_reply": "2024-05-15T11:14:08.263231Z"
    },
    "papermill": {
     "duration": 0.029144,
     "end_time": "2024-05-15T11:14:08.267571",
     "exception": false,
     "start_time": "2024-05-15T11:14:08.238427",
     "status": "completed"
    },
    "tags": []
   },
   "outputs": [
    {
     "data": {
      "text/plain": [
       "[Value(data=6.881373587019543, grad=0.4999999999999999),\n",
       " Value(data=2.0, grad=-1.4999999999999996),\n",
       " Value(data=-3.0, grad=0.9999999999999998),\n",
       " Value(data=-6.0, grad=0.4999999999999999),\n",
       " Value(data=0.0, grad=0.4999999999999999),\n",
       " Value(data=1.0, grad=0.0),\n",
       " Value(data=0.0, grad=0.4999999999999999),\n",
       " Value(data=-6.0, grad=0.4999999999999999),\n",
       " Value(data=0.8813735870195432, grad=0.4999999999999999),\n",
       " Value(data=0.7071067811865476, grad=1.0)]"
      ]
     },
     "execution_count": 13,
     "metadata": {},
     "output_type": "execute_result"
    }
   ],
   "source": [
    "topo = []\n",
    "visited = set()\n",
    "def build_topo(v):\n",
    "    if v not in visited:\n",
    "        visited.add(v)\n",
    "        for child in v._prev:\n",
    "            build_topo(child)\n",
    "        topo.append(v)\n",
    "build_topo(o)\n",
    "topo"
   ]
  },
  {
   "cell_type": "code",
   "execution_count": 14,
   "id": "8b56ed89",
   "metadata": {
    "execution": {
     "iopub.execute_input": "2024-05-15T11:14:08.296774Z",
     "iopub.status.busy": "2024-05-15T11:14:08.296363Z",
     "iopub.status.idle": "2024-05-15T11:14:08.301311Z",
     "shell.execute_reply": "2024-05-15T11:14:08.300121Z"
    },
    "papermill": {
     "duration": 0.023089,
     "end_time": "2024-05-15T11:14:08.304067",
     "exception": false,
     "start_time": "2024-05-15T11:14:08.280978",
     "status": "completed"
    },
    "tags": []
   },
   "outputs": [],
   "source": [
    "o.grad = 1.0"
   ]
  },
  {
   "cell_type": "code",
   "execution_count": 15,
   "id": "cc417944",
   "metadata": {
    "execution": {
     "iopub.execute_input": "2024-05-15T11:14:08.333030Z",
     "iopub.status.busy": "2024-05-15T11:14:08.332586Z",
     "iopub.status.idle": "2024-05-15T11:14:08.338112Z",
     "shell.execute_reply": "2024-05-15T11:14:08.336520Z"
    },
    "papermill": {
     "duration": 0.023315,
     "end_time": "2024-05-15T11:14:08.340792",
     "exception": false,
     "start_time": "2024-05-15T11:14:08.317477",
     "status": "completed"
    },
    "tags": []
   },
   "outputs": [],
   "source": [
    "o._backward()\n",
    "n._backward()\n",
    "b._backward()\n",
    "x1w1x2w2._backward()"
   ]
  },
  {
   "cell_type": "code",
   "execution_count": 16,
   "id": "98277bdc",
   "metadata": {
    "execution": {
     "iopub.execute_input": "2024-05-15T11:14:08.368934Z",
     "iopub.status.busy": "2024-05-15T11:14:08.368507Z",
     "iopub.status.idle": "2024-05-15T11:14:08.374090Z",
     "shell.execute_reply": "2024-05-15T11:14:08.372646Z"
    },
    "papermill": {
     "duration": 0.02274,
     "end_time": "2024-05-15T11:14:08.376706",
     "exception": false,
     "start_time": "2024-05-15T11:14:08.353966",
     "status": "completed"
    },
    "tags": []
   },
   "outputs": [],
   "source": [
    "x2w2._backward()\n",
    "x1w1._backward()"
   ]
  },
  {
   "cell_type": "code",
   "execution_count": 17,
   "id": "4b989862",
   "metadata": {
    "execution": {
     "iopub.execute_input": "2024-05-15T11:14:08.405151Z",
     "iopub.status.busy": "2024-05-15T11:14:08.404733Z",
     "iopub.status.idle": "2024-05-15T11:14:08.411165Z",
     "shell.execute_reply": "2024-05-15T11:14:08.409789Z"
    },
    "papermill": {
     "duration": 0.023728,
     "end_time": "2024-05-15T11:14:08.413628",
     "exception": false,
     "start_time": "2024-05-15T11:14:08.389900",
     "status": "completed"
    },
    "tags": []
   },
   "outputs": [],
   "source": [
    "x1.grad = w1.data * x1w1.grad\n",
    "w1.grad = x1.data * x1w1.grad\n",
    "\n",
    "x2.grad = w2.data * x2w2.grad\n",
    "w2.grad = x2.data * x2w2.grad"
   ]
  },
  {
   "cell_type": "code",
   "execution_count": 18,
   "id": "4c1acaf1",
   "metadata": {
    "execution": {
     "iopub.execute_input": "2024-05-15T11:14:08.441488Z",
     "iopub.status.busy": "2024-05-15T11:14:08.441111Z",
     "iopub.status.idle": "2024-05-15T11:14:08.449823Z",
     "shell.execute_reply": "2024-05-15T11:14:08.448526Z"
    },
    "papermill": {
     "duration": 0.025746,
     "end_time": "2024-05-15T11:14:08.452612",
     "exception": false,
     "start_time": "2024-05-15T11:14:08.426866",
     "status": "completed"
    },
    "tags": []
   },
   "outputs": [
    {
     "data": {
      "text/plain": [
       "0.4999999999999999"
      ]
     },
     "execution_count": 18,
     "metadata": {},
     "output_type": "execute_result"
    }
   ],
   "source": [
    "x1w1.grad = 0.5\n",
    "x2w2.grad = 0.5\n",
    "\n",
    "x1w1x2w2.grad = 0.5\n",
    "b.grad = 0.5\n",
    "n.grad = 0.5\n",
    "o.grad = 1.0\n",
    "1 - o.data**2"
   ]
  },
  {
   "cell_type": "markdown",
   "id": "1a6d56d9",
   "metadata": {
    "papermill": {
     "duration": 0.012861,
     "end_time": "2024-05-15T11:14:08.479006",
     "exception": false,
     "start_time": "2024-05-15T11:14:08.466145",
     "status": "completed"
    },
    "tags": []
   },
   "source": [
    "o = tanh(n) \\\n",
    "do/dn = 1 - o**2"
   ]
  },
  {
   "cell_type": "code",
   "execution_count": 19,
   "id": "b6990c86",
   "metadata": {
    "execution": {
     "iopub.execute_input": "2024-05-15T11:14:08.506842Z",
     "iopub.status.busy": "2024-05-15T11:14:08.506434Z",
     "iopub.status.idle": "2024-05-15T11:14:08.535596Z",
     "shell.execute_reply": "2024-05-15T11:14:08.534233Z"
    },
    "papermill": {
     "duration": 0.046352,
     "end_time": "2024-05-15T11:14:08.538387",
     "exception": false,
     "start_time": "2024-05-15T11:14:08.492035",
     "status": "completed"
    },
    "tags": []
   },
   "outputs": [
    {
     "data": {
      "image/svg+xml": [
       "<?xml version=\"1.0\" encoding=\"UTF-8\" standalone=\"no\"?>\n",
       "<!DOCTYPE svg PUBLIC \"-//W3C//DTD SVG 1.1//EN\"\n",
       " \"http://www.w3.org/Graphics/SVG/1.1/DTD/svg11.dtd\">\n",
       "<!-- Generated by graphviz version 9.0.0 (20231125.0833)\n",
       " -->\n",
       "<!-- Pages: 1 -->\n",
       "<svg width=\"592pt\" height=\"45pt\"\n",
       " viewBox=\"0.00 0.00 592.25 45.00\" xmlns=\"http://www.w3.org/2000/svg\" xmlns:xlink=\"http://www.w3.org/1999/xlink\">\n",
       "<g id=\"graph0\" class=\"graph\" transform=\"scale(1 1) rotate(0) translate(4 41)\">\n",
       "<polygon fill=\"white\" stroke=\"none\" points=\"-4,4 -4,-41 588.25,-41 588.25,4 -4,4\"/>\n",
       "<!-- 132457743227904 -->\n",
       "<g id=\"node1\" class=\"node\">\n",
       "<title>132457743227904</title>\n",
       "<polygon fill=\"none\" stroke=\"black\" points=\"354.75,-0.5 354.75,-36.5 584.25,-36.5 584.25,-0.5 354.75,-0.5\"/>\n",
       "<text text-anchor=\"middle\" x=\"367.25\" y=\"-14.2\" font-family=\"Times,serif\" font-size=\"14.00\">b</text>\n",
       "<polyline fill=\"none\" stroke=\"black\" points=\"379.75,-1.25 379.75,-36.5\"/>\n",
       "<text text-anchor=\"middle\" x=\"430.5\" y=\"-14.2\" font-family=\"Times,serif\" font-size=\"14.00\">data 6.0000</text>\n",
       "<polyline fill=\"none\" stroke=\"black\" points=\"481.25,-1.25 481.25,-36.5\"/>\n",
       "<text text-anchor=\"middle\" x=\"532.75\" y=\"-14.2\" font-family=\"Times,serif\" font-size=\"14.00\">grad 1.0000</text>\n",
       "</g>\n",
       "<!-- 132457743227904+ -->\n",
       "<g id=\"node2\" class=\"node\">\n",
       "<title>132457743227904+</title>\n",
       "<ellipse fill=\"none\" stroke=\"black\" cx=\"291.75\" cy=\"-18.5\" rx=\"27\" ry=\"18\"/>\n",
       "<text text-anchor=\"middle\" x=\"291.75\" y=\"-13.82\" font-family=\"Times,serif\" font-size=\"14.00\">+</text>\n",
       "</g>\n",
       "<!-- 132457743227904+&#45;&gt;132457743227904 -->\n",
       "<g id=\"edge1\" class=\"edge\">\n",
       "<title>132457743227904+&#45;&gt;132457743227904</title>\n",
       "<path fill=\"none\" stroke=\"black\" d=\"M319.06,-18.5C326.13,-18.5 334.27,-18.5 343.02,-18.5\"/>\n",
       "<polygon fill=\"black\" stroke=\"black\" points=\"342.89,-22 352.89,-18.5 342.89,-15 342.89,-22\"/>\n",
       "</g>\n",
       "<!-- 132457743232656 -->\n",
       "<g id=\"node3\" class=\"node\">\n",
       "<title>132457743232656</title>\n",
       "<polygon fill=\"none\" stroke=\"black\" points=\"0,-0.5 0,-36.5 228.75,-36.5 228.75,-0.5 0,-0.5\"/>\n",
       "<text text-anchor=\"middle\" x=\"12.12\" y=\"-14.2\" font-family=\"Times,serif\" font-size=\"14.00\">a</text>\n",
       "<polyline fill=\"none\" stroke=\"black\" points=\"24.25,-1.25 24.25,-36.5\"/>\n",
       "<text text-anchor=\"middle\" x=\"75\" y=\"-14.2\" font-family=\"Times,serif\" font-size=\"14.00\">data 3.0000</text>\n",
       "<polyline fill=\"none\" stroke=\"black\" points=\"125.75,-1.25 125.75,-36.5\"/>\n",
       "<text text-anchor=\"middle\" x=\"177.25\" y=\"-14.2\" font-family=\"Times,serif\" font-size=\"14.00\">grad 2.0000</text>\n",
       "</g>\n",
       "<!-- 132457743232656&#45;&gt;132457743227904+ -->\n",
       "<g id=\"edge2\" class=\"edge\">\n",
       "<title>132457743232656&#45;&gt;132457743227904+</title>\n",
       "<path fill=\"none\" stroke=\"black\" d=\"M228.92,-18.5C237.46,-18.5 245.64,-18.5 253.1,-18.5\"/>\n",
       "<polygon fill=\"black\" stroke=\"black\" points=\"253.01,-22 263.01,-18.5 253.01,-15 253.01,-22\"/>\n",
       "</g>\n",
       "</g>\n",
       "</svg>\n"
      ],
      "text/plain": [
       "<graphviz.graphs.Digraph at 0x787838b9fbb0>"
      ]
     },
     "execution_count": 19,
     "metadata": {},
     "output_type": "execute_result"
    }
   ],
   "source": [
    "a = Value(3.0, label='a')\n",
    "b = a + a   ; b.label = 'b'\n",
    "b.backward()\n",
    "draw_dot(b)"
   ]
  },
  {
   "cell_type": "code",
   "execution_count": 20,
   "id": "83e6a9a8",
   "metadata": {
    "execution": {
     "iopub.execute_input": "2024-05-15T11:14:08.568591Z",
     "iopub.status.busy": "2024-05-15T11:14:08.568205Z",
     "iopub.status.idle": "2024-05-15T11:14:08.599833Z",
     "shell.execute_reply": "2024-05-15T11:14:08.598671Z"
    },
    "papermill": {
     "duration": 0.050718,
     "end_time": "2024-05-15T11:14:08.602998",
     "exception": false,
     "start_time": "2024-05-15T11:14:08.552280",
     "status": "completed"
    },
    "tags": []
   },
   "outputs": [
    {
     "data": {
      "image/svg+xml": [
       "<?xml version=\"1.0\" encoding=\"UTF-8\" standalone=\"no\"?>\n",
       "<!DOCTYPE svg PUBLIC \"-//W3C//DTD SVG 1.1//EN\"\n",
       " \"http://www.w3.org/Graphics/SVG/1.1/DTD/svg11.dtd\">\n",
       "<!-- Generated by graphviz version 9.0.0 (20231125.0833)\n",
       " -->\n",
       "<!-- Pages: 1 -->\n",
       "<svg width=\"962pt\" height=\"100pt\"\n",
       " viewBox=\"0.00 0.00 962.00 100.00\" xmlns=\"http://www.w3.org/2000/svg\" xmlns:xlink=\"http://www.w3.org/1999/xlink\">\n",
       "<g id=\"graph0\" class=\"graph\" transform=\"scale(1 1) rotate(0) translate(4 96)\">\n",
       "<polygon fill=\"white\" stroke=\"none\" points=\"-4,4 -4,-96 958,-96 958,4 -4,4\"/>\n",
       "<!-- 132457743230064 -->\n",
       "<g id=\"node1\" class=\"node\">\n",
       "<title>132457743230064</title>\n",
       "<polygon fill=\"none\" stroke=\"black\" points=\"364.12,-55.5 364.12,-91.5 597.38,-91.5 597.38,-55.5 364.12,-55.5\"/>\n",
       "<text text-anchor=\"middle\" x=\"376.25\" y=\"-69.2\" font-family=\"Times,serif\" font-size=\"14.00\">e</text>\n",
       "<polyline fill=\"none\" stroke=\"black\" points=\"388.38,-56.25 388.38,-91.5\"/>\n",
       "<text text-anchor=\"middle\" x=\"439.12\" y=\"-69.2\" font-family=\"Times,serif\" font-size=\"14.00\">data 1.0000</text>\n",
       "<polyline fill=\"none\" stroke=\"black\" points=\"489.88,-56.25 489.88,-91.5\"/>\n",
       "<text text-anchor=\"middle\" x=\"543.62\" y=\"-69.2\" font-family=\"Times,serif\" font-size=\"14.00\">grad &#45;6.0000</text>\n",
       "</g>\n",
       "<!-- 132457743230880* -->\n",
       "<g id=\"node8\" class=\"node\">\n",
       "<title>132457743230880*</title>\n",
       "<ellipse fill=\"none\" stroke=\"black\" cx=\"660.75\" cy=\"-45.5\" rx=\"27\" ry=\"18\"/>\n",
       "<text text-anchor=\"middle\" x=\"660.75\" y=\"-40.83\" font-family=\"Times,serif\" font-size=\"14.00\">*</text>\n",
       "</g>\n",
       "<!-- 132457743230064&#45;&gt;132457743230880* -->\n",
       "<g id=\"edge5\" class=\"edge\">\n",
       "<title>132457743230064&#45;&gt;132457743230880*</title>\n",
       "<path fill=\"none\" stroke=\"black\" d=\"M597.49,-55.29C606.49,-53.88 615.08,-52.53 622.86,-51.3\"/>\n",
       "<polygon fill=\"black\" stroke=\"black\" points=\"623.14,-54.8 632.48,-49.79 622.06,-47.89 623.14,-54.8\"/>\n",
       "</g>\n",
       "<!-- 132457743230064+ -->\n",
       "<g id=\"node2\" class=\"node\">\n",
       "<title>132457743230064+</title>\n",
       "<ellipse fill=\"none\" stroke=\"black\" cx=\"300.75\" cy=\"-73.5\" rx=\"27\" ry=\"18\"/>\n",
       "<text text-anchor=\"middle\" x=\"300.75\" y=\"-68.83\" font-family=\"Times,serif\" font-size=\"14.00\">+</text>\n",
       "</g>\n",
       "<!-- 132457743230064+&#45;&gt;132457743230064 -->\n",
       "<g id=\"edge1\" class=\"edge\">\n",
       "<title>132457743230064+&#45;&gt;132457743230064</title>\n",
       "<path fill=\"none\" stroke=\"black\" d=\"M328.01,-73.5C335.23,-73.5 343.57,-73.5 352.55,-73.5\"/>\n",
       "<polygon fill=\"black\" stroke=\"black\" points=\"352.28,-77 362.28,-73.5 352.28,-70 352.28,-77\"/>\n",
       "</g>\n",
       "<!-- 132457743233760 -->\n",
       "<g id=\"node3\" class=\"node\">\n",
       "<title>132457743233760</title>\n",
       "<polygon fill=\"none\" stroke=\"black\" points=\"363.75,-0.5 363.75,-36.5 597.75,-36.5 597.75,-0.5 363.75,-0.5\"/>\n",
       "<text text-anchor=\"middle\" x=\"376.25\" y=\"-14.2\" font-family=\"Times,serif\" font-size=\"14.00\">d</text>\n",
       "<polyline fill=\"none\" stroke=\"black\" points=\"388.75,-1.25 388.75,-36.5\"/>\n",
       "<text text-anchor=\"middle\" x=\"441.75\" y=\"-14.2\" font-family=\"Times,serif\" font-size=\"14.00\">data &#45;6.0000</text>\n",
       "<polyline fill=\"none\" stroke=\"black\" points=\"494.75,-1.25 494.75,-36.5\"/>\n",
       "<text text-anchor=\"middle\" x=\"546.25\" y=\"-14.2\" font-family=\"Times,serif\" font-size=\"14.00\">grad 1.0000</text>\n",
       "</g>\n",
       "<!-- 132457743233760&#45;&gt;132457743230880* -->\n",
       "<g id=\"edge7\" class=\"edge\">\n",
       "<title>132457743233760&#45;&gt;132457743230880*</title>\n",
       "<path fill=\"none\" stroke=\"black\" d=\"M597.99,-36.13C606.74,-37.46 615.09,-38.73 622.68,-39.88\"/>\n",
       "<polygon fill=\"black\" stroke=\"black\" points=\"621.99,-43.31 632.41,-41.35 623.04,-36.39 621.99,-43.31\"/>\n",
       "</g>\n",
       "<!-- 132457743233760* -->\n",
       "<g id=\"node4\" class=\"node\">\n",
       "<title>132457743233760*</title>\n",
       "<ellipse fill=\"none\" stroke=\"black\" cx=\"300.75\" cy=\"-18.5\" rx=\"27\" ry=\"18\"/>\n",
       "<text text-anchor=\"middle\" x=\"300.75\" y=\"-13.82\" font-family=\"Times,serif\" font-size=\"14.00\">*</text>\n",
       "</g>\n",
       "<!-- 132457743233760*&#45;&gt;132457743233760 -->\n",
       "<g id=\"edge2\" class=\"edge\">\n",
       "<title>132457743233760*&#45;&gt;132457743233760</title>\n",
       "<path fill=\"none\" stroke=\"black\" d=\"M328.01,-18.5C335.09,-18.5 343.23,-18.5 352,-18.5\"/>\n",
       "<polygon fill=\"black\" stroke=\"black\" points=\"351.9,-22 361.9,-18.5 351.9,-15 351.9,-22\"/>\n",
       "</g>\n",
       "<!-- 132457787629984 -->\n",
       "<g id=\"node5\" class=\"node\">\n",
       "<title>132457787629984</title>\n",
       "<polygon fill=\"none\" stroke=\"black\" points=\"1.88,-55.5 1.88,-91.5 235.88,-91.5 235.88,-55.5 1.88,-55.5\"/>\n",
       "<text text-anchor=\"middle\" x=\"14.38\" y=\"-69.2\" font-family=\"Times,serif\" font-size=\"14.00\">b</text>\n",
       "<polyline fill=\"none\" stroke=\"black\" points=\"26.88,-56.25 26.88,-91.5\"/>\n",
       "<text text-anchor=\"middle\" x=\"77.62\" y=\"-69.2\" font-family=\"Times,serif\" font-size=\"14.00\">data 3.0000</text>\n",
       "<polyline fill=\"none\" stroke=\"black\" points=\"128.38,-56.25 128.38,-91.5\"/>\n",
       "<text text-anchor=\"middle\" x=\"182.12\" y=\"-69.2\" font-family=\"Times,serif\" font-size=\"14.00\">grad &#45;8.0000</text>\n",
       "</g>\n",
       "<!-- 132457787629984&#45;&gt;132457743230064+ -->\n",
       "<g id=\"edge9\" class=\"edge\">\n",
       "<title>132457787629984&#45;&gt;132457743230064+</title>\n",
       "<path fill=\"none\" stroke=\"black\" d=\"M236.33,-73.5C245.48,-73.5 254.23,-73.5 262.15,-73.5\"/>\n",
       "<polygon fill=\"black\" stroke=\"black\" points=\"261.96,-77 271.96,-73.5 261.96,-70 261.96,-77\"/>\n",
       "</g>\n",
       "<!-- 132457787629984&#45;&gt;132457743233760* -->\n",
       "<g id=\"edge4\" class=\"edge\">\n",
       "<title>132457787629984&#45;&gt;132457743233760*</title>\n",
       "<path fill=\"none\" stroke=\"black\" d=\"M209.22,-55.02C218.93,-52.43 228.6,-49.58 237.75,-46.5 247.92,-43.08 258.67,-38.56 268.32,-34.15\"/>\n",
       "<polygon fill=\"black\" stroke=\"black\" points=\"269.72,-37.36 277.28,-29.94 266.74,-31.03 269.72,-37.36\"/>\n",
       "</g>\n",
       "<!-- 132457743232896 -->\n",
       "<g id=\"node6\" class=\"node\">\n",
       "<title>132457743232896</title>\n",
       "<polygon fill=\"none\" stroke=\"black\" points=\"0,-0.5 0,-36.5 237.75,-36.5 237.75,-0.5 0,-0.5\"/>\n",
       "<text text-anchor=\"middle\" x=\"12.12\" y=\"-14.2\" font-family=\"Times,serif\" font-size=\"14.00\">a</text>\n",
       "<polyline fill=\"none\" stroke=\"black\" points=\"24.25,-1.25 24.25,-36.5\"/>\n",
       "<text text-anchor=\"middle\" x=\"77.25\" y=\"-14.2\" font-family=\"Times,serif\" font-size=\"14.00\">data &#45;2.0000</text>\n",
       "<polyline fill=\"none\" stroke=\"black\" points=\"130.25,-1.25 130.25,-36.5\"/>\n",
       "<text text-anchor=\"middle\" x=\"184\" y=\"-14.2\" font-family=\"Times,serif\" font-size=\"14.00\">grad &#45;3.0000</text>\n",
       "</g>\n",
       "<!-- 132457743232896&#45;&gt;132457743230064+ -->\n",
       "<g id=\"edge6\" class=\"edge\">\n",
       "<title>132457743232896&#45;&gt;132457743230064+</title>\n",
       "<path fill=\"none\" stroke=\"black\" d=\"M205.69,-36.99C216.56,-39.89 227.47,-43.07 237.75,-46.5 247.78,-49.85 258.43,-54.18 268.02,-58.4\"/>\n",
       "<polygon fill=\"black\" stroke=\"black\" points=\"266.38,-61.49 276.93,-62.42 269.26,-55.11 266.38,-61.49\"/>\n",
       "</g>\n",
       "<!-- 132457743232896&#45;&gt;132457743233760* -->\n",
       "<g id=\"edge8\" class=\"edge\">\n",
       "<title>132457743232896&#45;&gt;132457743233760*</title>\n",
       "<path fill=\"none\" stroke=\"black\" d=\"M238.1,-18.5C246.57,-18.5 254.67,-18.5 262.05,-18.5\"/>\n",
       "<polygon fill=\"black\" stroke=\"black\" points=\"261.86,-22 271.86,-18.5 261.86,-15 261.86,-22\"/>\n",
       "</g>\n",
       "<!-- 132457743230880 -->\n",
       "<g id=\"node7\" class=\"node\">\n",
       "<title>132457743230880</title>\n",
       "<polygon fill=\"none\" stroke=\"black\" points=\"723.75,-27.5 723.75,-63.5 954,-63.5 954,-27.5 723.75,-27.5\"/>\n",
       "<text text-anchor=\"middle\" x=\"734.38\" y=\"-41.2\" font-family=\"Times,serif\" font-size=\"14.00\">f</text>\n",
       "<polyline fill=\"none\" stroke=\"black\" points=\"745,-28.25 745,-63.5\"/>\n",
       "<text text-anchor=\"middle\" x=\"798\" y=\"-41.2\" font-family=\"Times,serif\" font-size=\"14.00\">data &#45;6.0000</text>\n",
       "<polyline fill=\"none\" stroke=\"black\" points=\"851,-28.25 851,-63.5\"/>\n",
       "<text text-anchor=\"middle\" x=\"902.5\" y=\"-41.2\" font-family=\"Times,serif\" font-size=\"14.00\">grad 1.0000</text>\n",
       "</g>\n",
       "<!-- 132457743230880*&#45;&gt;132457743230880 -->\n",
       "<g id=\"edge3\" class=\"edge\">\n",
       "<title>132457743230880*&#45;&gt;132457743230880</title>\n",
       "<path fill=\"none\" stroke=\"black\" d=\"M688.12,-45.5C695.2,-45.5 703.36,-45.5 712.13,-45.5\"/>\n",
       "<polygon fill=\"black\" stroke=\"black\" points=\"712.02,-49 722.02,-45.5 712.02,-42 712.02,-49\"/>\n",
       "</g>\n",
       "</g>\n",
       "</svg>\n"
      ],
      "text/plain": [
       "<graphviz.graphs.Digraph at 0x787838bba050>"
      ]
     },
     "execution_count": 20,
     "metadata": {},
     "output_type": "execute_result"
    }
   ],
   "source": [
    "a = Value(-2.0, label='a')\n",
    "b = Value(3.0, label='b')\n",
    "d = a * b    ; d.label = 'd'\n",
    "e = a + b    ; e.label = 'e'\n",
    "f = d * e    ; f.label = 'f'\n",
    "\n",
    "f.backward()\n",
    "\n",
    "draw_dot(f)"
   ]
  },
  {
   "cell_type": "markdown",
   "id": "82209553",
   "metadata": {
    "execution": {
     "iopub.execute_input": "2024-05-15T10:08:54.910828Z",
     "iopub.status.busy": "2024-05-15T10:08:54.910401Z",
     "iopub.status.idle": "2024-05-15T10:08:54.942006Z",
     "shell.execute_reply": "2024-05-15T10:08:54.941107Z",
     "shell.execute_reply.started": "2024-05-15T10:08:54.910796Z"
    },
    "papermill": {
     "duration": 0.013449,
     "end_time": "2024-05-15T11:14:08.630742",
     "exception": false,
     "start_time": "2024-05-15T11:14:08.617293",
     "status": "completed"
    },
    "tags": []
   },
   "source": [
    "This works for `__add__` and `__mul__` but doesn't work for $2*a$ rather only works for $a*2$ \\\n",
    "Because, $a*2$ is translated to `a.__mul__(2)`\n",
    "hence, we use `__rmul__`"
   ]
  },
  {
   "cell_type": "code",
   "execution_count": 21,
   "id": "986205db",
   "metadata": {
    "execution": {
     "iopub.execute_input": "2024-05-15T11:14:08.661043Z",
     "iopub.status.busy": "2024-05-15T11:14:08.660594Z",
     "iopub.status.idle": "2024-05-15T11:14:08.668210Z",
     "shell.execute_reply": "2024-05-15T11:14:08.666896Z"
    },
    "papermill": {
     "duration": 0.025173,
     "end_time": "2024-05-15T11:14:08.670524",
     "exception": false,
     "start_time": "2024-05-15T11:14:08.645351",
     "status": "completed"
    },
    "tags": []
   },
   "outputs": [
    {
     "data": {
      "text/plain": [
       "Value(data=-1.0, grad=0.0)"
      ]
     },
     "execution_count": 21,
     "metadata": {},
     "output_type": "execute_result"
    }
   ],
   "source": [
    "a + 1"
   ]
  },
  {
   "cell_type": "code",
   "execution_count": 22,
   "id": "4a8aab24",
   "metadata": {
    "execution": {
     "iopub.execute_input": "2024-05-15T11:14:08.700497Z",
     "iopub.status.busy": "2024-05-15T11:14:08.700099Z",
     "iopub.status.idle": "2024-05-15T11:14:08.707439Z",
     "shell.execute_reply": "2024-05-15T11:14:08.706143Z"
    },
    "papermill": {
     "duration": 0.025188,
     "end_time": "2024-05-15T11:14:08.710204",
     "exception": false,
     "start_time": "2024-05-15T11:14:08.685016",
     "status": "completed"
    },
    "tags": []
   },
   "outputs": [
    {
     "data": {
      "text/plain": [
       "Value(data=-4.0, grad=0.0)"
      ]
     },
     "execution_count": 22,
     "metadata": {},
     "output_type": "execute_result"
    }
   ],
   "source": [
    "2*a"
   ]
  },
  {
   "cell_type": "code",
   "execution_count": 23,
   "id": "0ce8150c",
   "metadata": {
    "execution": {
     "iopub.execute_input": "2024-05-15T11:14:08.740752Z",
     "iopub.status.busy": "2024-05-15T11:14:08.739998Z",
     "iopub.status.idle": "2024-05-15T11:14:08.746271Z",
     "shell.execute_reply": "2024-05-15T11:14:08.745245Z"
    },
    "papermill": {
     "duration": 0.024146,
     "end_time": "2024-05-15T11:14:08.748537",
     "exception": false,
     "start_time": "2024-05-15T11:14:08.724391",
     "status": "completed"
    },
    "tags": []
   },
   "outputs": [
    {
     "data": {
      "text/plain": [
       "Value(data=-4.0, grad=0.0)"
      ]
     },
     "execution_count": 23,
     "metadata": {},
     "output_type": "execute_result"
    }
   ],
   "source": [
    "a*2"
   ]
  },
  {
   "cell_type": "code",
   "execution_count": 24,
   "id": "a89cdd45",
   "metadata": {
    "execution": {
     "iopub.execute_input": "2024-05-15T11:14:08.778878Z",
     "iopub.status.busy": "2024-05-15T11:14:08.778104Z",
     "iopub.status.idle": "2024-05-15T11:14:08.784131Z",
     "shell.execute_reply": "2024-05-15T11:14:08.783099Z"
    },
    "papermill": {
     "duration": 0.023618,
     "end_time": "2024-05-15T11:14:08.786306",
     "exception": false,
     "start_time": "2024-05-15T11:14:08.762688",
     "status": "completed"
    },
    "tags": []
   },
   "outputs": [
    {
     "data": {
      "text/plain": [
       "Value(data=-1.0, grad=0.0)"
      ]
     },
     "execution_count": 24,
     "metadata": {},
     "output_type": "execute_result"
    }
   ],
   "source": [
    "a/2"
   ]
  },
  {
   "cell_type": "code",
   "execution_count": 25,
   "id": "8de2d2b4",
   "metadata": {
    "execution": {
     "iopub.execute_input": "2024-05-15T11:14:08.817055Z",
     "iopub.status.busy": "2024-05-15T11:14:08.816331Z",
     "iopub.status.idle": "2024-05-15T11:14:08.823217Z",
     "shell.execute_reply": "2024-05-15T11:14:08.822043Z"
    },
    "papermill": {
     "duration": 0.025053,
     "end_time": "2024-05-15T11:14:08.825565",
     "exception": false,
     "start_time": "2024-05-15T11:14:08.800512",
     "status": "completed"
    },
    "tags": []
   },
   "outputs": [
    {
     "data": {
      "text/plain": [
       "Value(data=-8.0, grad=0.0)"
      ]
     },
     "execution_count": 25,
     "metadata": {},
     "output_type": "execute_result"
    }
   ],
   "source": [
    "a ** 3"
   ]
  },
  {
   "cell_type": "code",
   "execution_count": 26,
   "id": "3ab0722b",
   "metadata": {
    "execution": {
     "iopub.execute_input": "2024-05-15T11:14:08.856121Z",
     "iopub.status.busy": "2024-05-15T11:14:08.855671Z",
     "iopub.status.idle": "2024-05-15T11:14:08.861749Z",
     "shell.execute_reply": "2024-05-15T11:14:08.860943Z"
    },
    "papermill": {
     "duration": 0.023802,
     "end_time": "2024-05-15T11:14:08.863897",
     "exception": false,
     "start_time": "2024-05-15T11:14:08.840095",
     "status": "completed"
    },
    "tags": []
   },
   "outputs": [
    {
     "data": {
      "text/plain": [
       "Value(data=2.0, grad=0.0)"
      ]
     },
     "execution_count": 26,
     "metadata": {},
     "output_type": "execute_result"
    }
   ],
   "source": [
    "-a"
   ]
  },
  {
   "cell_type": "code",
   "execution_count": 27,
   "id": "e2fae124",
   "metadata": {
    "execution": {
     "iopub.execute_input": "2024-05-15T11:14:08.895469Z",
     "iopub.status.busy": "2024-05-15T11:14:08.894583Z",
     "iopub.status.idle": "2024-05-15T11:14:08.900995Z",
     "shell.execute_reply": "2024-05-15T11:14:08.900159Z"
    },
    "papermill": {
     "duration": 0.024504,
     "end_time": "2024-05-15T11:14:08.903088",
     "exception": false,
     "start_time": "2024-05-15T11:14:08.878584",
     "status": "completed"
    },
    "tags": []
   },
   "outputs": [
    {
     "data": {
      "text/plain": [
       "Value(data=-6.0, grad=0.0)"
      ]
     },
     "execution_count": 27,
     "metadata": {},
     "output_type": "execute_result"
    }
   ],
   "source": [
    "a - 4"
   ]
  },
  {
   "cell_type": "markdown",
   "id": "419f3c8c",
   "metadata": {
    "papermill": {
     "duration": 0.014207,
     "end_time": "2024-05-15T11:14:08.932054",
     "exception": false,
     "start_time": "2024-05-15T11:14:08.917847",
     "status": "completed"
    },
    "tags": []
   },
   "source": [
    "## Proper RunThrough"
   ]
  },
  {
   "cell_type": "code",
   "execution_count": 28,
   "id": "0dbd440e",
   "metadata": {
    "execution": {
     "iopub.execute_input": "2024-05-15T11:14:08.963664Z",
     "iopub.status.busy": "2024-05-15T11:14:08.962497Z",
     "iopub.status.idle": "2024-05-15T11:14:09.001852Z",
     "shell.execute_reply": "2024-05-15T11:14:09.000650Z"
    },
    "papermill": {
     "duration": 0.058142,
     "end_time": "2024-05-15T11:14:09.004775",
     "exception": false,
     "start_time": "2024-05-15T11:14:08.946633",
     "status": "completed"
    },
    "tags": []
   },
   "outputs": [
    {
     "data": {
      "image/svg+xml": [
       "<?xml version=\"1.0\" encoding=\"UTF-8\" standalone=\"no\"?>\n",
       "<!DOCTYPE svg PUBLIC \"-//W3C//DTD SVG 1.1//EN\"\n",
       " \"http://www.w3.org/Graphics/SVG/1.1/DTD/svg11.dtd\">\n",
       "<!-- Generated by graphviz version 9.0.0 (20231125.0833)\n",
       " -->\n",
       "<!-- Pages: 1 -->\n",
       "<svg width=\"3410pt\" height=\"210pt\"\n",
       " viewBox=\"0.00 0.00 3410.47 210.00\" xmlns=\"http://www.w3.org/2000/svg\" xmlns:xlink=\"http://www.w3.org/1999/xlink\">\n",
       "<g id=\"graph0\" class=\"graph\" transform=\"scale(1 1) rotate(0) translate(4 206)\">\n",
       "<polygon fill=\"white\" stroke=\"none\" points=\"-4,4 -4,-206 3406.47,-206 3406.47,4 -4,4\"/>\n",
       "<!-- 132457743228432 -->\n",
       "<g id=\"node1\" class=\"node\">\n",
       "<title>132457743228432</title>\n",
       "<polygon fill=\"none\" stroke=\"black\" points=\"2296.22,-53.5 2296.22,-89.5 2525.72,-89.5 2525.72,-53.5 2296.22,-53.5\"/>\n",
       "<text text-anchor=\"middle\" x=\"2306.47\" y=\"-67.2\" font-family=\"Times,serif\" font-size=\"14.00\"> </text>\n",
       "<polyline fill=\"none\" stroke=\"black\" points=\"2316.72,-54.25 2316.72,-89.5\"/>\n",
       "<text text-anchor=\"middle\" x=\"2367.47\" y=\"-67.2\" font-family=\"Times,serif\" font-size=\"14.00\">data 6.8284</text>\n",
       "<polyline fill=\"none\" stroke=\"black\" points=\"2418.22,-54.25 2418.22,-89.5\"/>\n",
       "<text text-anchor=\"middle\" x=\"2471.97\" y=\"-67.2\" font-family=\"Times,serif\" font-size=\"14.00\">grad &#45;0.1036</text>\n",
       "</g>\n",
       "<!-- 132457743236880**&#45;1 -->\n",
       "<g id=\"node17\" class=\"node\">\n",
       "<title>132457743236880**&#45;1</title>\n",
       "<ellipse fill=\"none\" stroke=\"black\" cx=\"2674.22\" cy=\"-71.5\" rx=\"30.16\" ry=\"18\"/>\n",
       "<text text-anchor=\"middle\" x=\"2674.22\" y=\"-66.83\" font-family=\"Times,serif\" font-size=\"14.00\">**&#45;1</text>\n",
       "</g>\n",
       "<!-- 132457743228432&#45;&gt;132457743236880**&#45;1 -->\n",
       "<g id=\"edge16\" class=\"edge\">\n",
       "<title>132457743228432&#45;&gt;132457743236880**&#45;1</title>\n",
       "<path fill=\"none\" stroke=\"black\" d=\"M2526.18,-71.5C2564.07,-71.5 2603.84,-71.5 2632.45,-71.5\"/>\n",
       "<polygon fill=\"black\" stroke=\"black\" points=\"2632.09,-75 2642.09,-71.5 2632.09,-68 2632.09,-75\"/>\n",
       "</g>\n",
       "<!-- 132457743228432+ -->\n",
       "<g id=\"node2\" class=\"node\">\n",
       "<title>132457743228432+</title>\n",
       "<ellipse fill=\"none\" stroke=\"black\" cx=\"2233.22\" cy=\"-71.5\" rx=\"27\" ry=\"18\"/>\n",
       "<text text-anchor=\"middle\" x=\"2233.22\" y=\"-66.83\" font-family=\"Times,serif\" font-size=\"14.00\">+</text>\n",
       "</g>\n",
       "<!-- 132457743228432+&#45;&gt;132457743228432 -->\n",
       "<g id=\"edge1\" class=\"edge\">\n",
       "<title>132457743228432+&#45;&gt;132457743228432</title>\n",
       "<path fill=\"none\" stroke=\"black\" d=\"M2260.53,-71.5C2267.6,-71.5 2275.74,-71.5 2284.49,-71.5\"/>\n",
       "<polygon fill=\"black\" stroke=\"black\" points=\"2284.36,-75 2294.36,-71.5 2284.36,-68 2284.36,-75\"/>\n",
       "</g>\n",
       "<!-- 132457743227472 -->\n",
       "<g id=\"node3\" class=\"node\">\n",
       "<title>132457743227472</title>\n",
       "<polygon fill=\"none\" stroke=\"black\" points=\"1940.72,-136.5 1940.72,-172.5 2170.22,-172.5 2170.22,-136.5 1940.72,-136.5\"/>\n",
       "<text text-anchor=\"middle\" x=\"1950.97\" y=\"-150.2\" font-family=\"Times,serif\" font-size=\"14.00\"> </text>\n",
       "<polyline fill=\"none\" stroke=\"black\" points=\"1961.22,-137.25 1961.22,-172.5\"/>\n",
       "<text text-anchor=\"middle\" x=\"2014.22\" y=\"-150.2\" font-family=\"Times,serif\" font-size=\"14.00\">data &#45;1.0000</text>\n",
       "<polyline fill=\"none\" stroke=\"black\" points=\"2067.22,-137.25 2067.22,-172.5\"/>\n",
       "<text text-anchor=\"middle\" x=\"2118.72\" y=\"-150.2\" font-family=\"Times,serif\" font-size=\"14.00\">grad 0.1464</text>\n",
       "</g>\n",
       "<!-- 132457743227088+ -->\n",
       "<g id=\"node14\" class=\"node\">\n",
       "<title>132457743227088+</title>\n",
       "<ellipse fill=\"none\" stroke=\"black\" cx=\"2233.22\" cy=\"-126.5\" rx=\"27\" ry=\"18\"/>\n",
       "<text text-anchor=\"middle\" x=\"2233.22\" y=\"-121.83\" font-family=\"Times,serif\" font-size=\"14.00\">+</text>\n",
       "</g>\n",
       "<!-- 132457743227472&#45;&gt;132457743227088+ -->\n",
       "<g id=\"edge24\" class=\"edge\">\n",
       "<title>132457743227472&#45;&gt;132457743227088+</title>\n",
       "<path fill=\"none\" stroke=\"black\" d=\"M2170.26,-136.37C2179.09,-134.96 2187.55,-133.62 2195.21,-132.4\"/>\n",
       "<polygon fill=\"black\" stroke=\"black\" points=\"2195.73,-135.86 2205.05,-130.83 2194.63,-128.95 2195.73,-135.86\"/>\n",
       "</g>\n",
       "<!-- 132457743235680 -->\n",
       "<g id=\"node4\" class=\"node\">\n",
       "<title>132457743235680</title>\n",
       "<polygon fill=\"none\" stroke=\"black\" points=\"1941.1,-81.5 1941.1,-117.5 2169.85,-117.5 2169.85,-81.5 1941.1,-81.5\"/>\n",
       "<text text-anchor=\"middle\" x=\"1953.22\" y=\"-95.2\" font-family=\"Times,serif\" font-size=\"14.00\">e</text>\n",
       "<polyline fill=\"none\" stroke=\"black\" points=\"1965.35,-82.25 1965.35,-117.5\"/>\n",
       "<text text-anchor=\"middle\" x=\"2016.1\" y=\"-95.2\" font-family=\"Times,serif\" font-size=\"14.00\">data 5.8284</text>\n",
       "<polyline fill=\"none\" stroke=\"black\" points=\"2066.85,-82.25 2066.85,-117.5\"/>\n",
       "<text text-anchor=\"middle\" x=\"2118.35\" y=\"-95.2\" font-family=\"Times,serif\" font-size=\"14.00\">grad 0.0429</text>\n",
       "</g>\n",
       "<!-- 132457743235680&#45;&gt;132457743228432+ -->\n",
       "<g id=\"edge17\" class=\"edge\">\n",
       "<title>132457743235680&#45;&gt;132457743228432+</title>\n",
       "<path fill=\"none\" stroke=\"black\" d=\"M2170.26,-81.37C2179.09,-79.96 2187.55,-78.62 2195.21,-77.4\"/>\n",
       "<polygon fill=\"black\" stroke=\"black\" points=\"2195.73,-80.86 2205.05,-75.83 2194.63,-73.95 2195.73,-80.86\"/>\n",
       "</g>\n",
       "<!-- 132457743235680&#45;&gt;132457743227088+ -->\n",
       "<g id=\"edge21\" class=\"edge\">\n",
       "<title>132457743235680&#45;&gt;132457743227088+</title>\n",
       "<path fill=\"none\" stroke=\"black\" d=\"M2170.26,-116.98C2179.09,-118.34 2187.55,-119.64 2195.21,-120.81\"/>\n",
       "<polygon fill=\"black\" stroke=\"black\" points=\"2194.64,-124.27 2205.05,-122.33 2195.7,-117.35 2194.64,-124.27\"/>\n",
       "</g>\n",
       "<!-- 132457743235680exp -->\n",
       "<g id=\"node5\" class=\"node\">\n",
       "<title>132457743235680exp</title>\n",
       "<ellipse fill=\"none\" stroke=\"black\" cx=\"1875.61\" cy=\"-99.5\" rx=\"29.11\" ry=\"18\"/>\n",
       "<text text-anchor=\"middle\" x=\"1875.61\" y=\"-94.83\" font-family=\"Times,serif\" font-size=\"14.00\">exp</text>\n",
       "</g>\n",
       "<!-- 132457743235680exp&#45;&gt;132457743235680 -->\n",
       "<g id=\"edge2\" class=\"edge\">\n",
       "<title>132457743235680exp&#45;&gt;132457743235680</title>\n",
       "<path fill=\"none\" stroke=\"black\" d=\"M1905.19,-99.5C1912.37,-99.5 1920.54,-99.5 1929.28,-99.5\"/>\n",
       "<polygon fill=\"black\" stroke=\"black\" points=\"1929.11,-103 1939.11,-99.5 1929.11,-96 1929.11,-103\"/>\n",
       "</g>\n",
       "<!-- 132457743236208 -->\n",
       "<g id=\"node6\" class=\"node\">\n",
       "<title>132457743236208</title>\n",
       "<polygon fill=\"none\" stroke=\"black\" points=\"1230,-109.5 1230,-145.5 1459.5,-145.5 1459.5,-109.5 1230,-109.5\"/>\n",
       "<text text-anchor=\"middle\" x=\"1242.5\" y=\"-123.2\" font-family=\"Times,serif\" font-size=\"14.00\">n</text>\n",
       "<polyline fill=\"none\" stroke=\"black\" points=\"1255,-110.25 1255,-145.5\"/>\n",
       "<text text-anchor=\"middle\" x=\"1305.75\" y=\"-123.2\" font-family=\"Times,serif\" font-size=\"14.00\">data 0.8814</text>\n",
       "<polyline fill=\"none\" stroke=\"black\" points=\"1356.5,-110.25 1356.5,-145.5\"/>\n",
       "<text text-anchor=\"middle\" x=\"1408\" y=\"-123.2\" font-family=\"Times,serif\" font-size=\"14.00\">grad 0.5000</text>\n",
       "</g>\n",
       "<!-- 132457743236016* -->\n",
       "<g id=\"node26\" class=\"node\">\n",
       "<title>132457743236016*</title>\n",
       "<ellipse fill=\"none\" stroke=\"black\" cx=\"1522.5\" cy=\"-99.5\" rx=\"27\" ry=\"18\"/>\n",
       "<text text-anchor=\"middle\" x=\"1522.5\" y=\"-94.83\" font-family=\"Times,serif\" font-size=\"14.00\">*</text>\n",
       "</g>\n",
       "<!-- 132457743236208&#45;&gt;132457743236016* -->\n",
       "<g id=\"edge27\" class=\"edge\">\n",
       "<title>132457743236208&#45;&gt;132457743236016*</title>\n",
       "<path fill=\"none\" stroke=\"black\" d=\"M1459.54,-109.37C1468.37,-107.96 1476.82,-106.62 1484.49,-105.4\"/>\n",
       "<polygon fill=\"black\" stroke=\"black\" points=\"1485,-108.86 1494.33,-103.83 1483.9,-101.95 1485,-108.86\"/>\n",
       "</g>\n",
       "<!-- 132457743236208+ -->\n",
       "<g id=\"node7\" class=\"node\">\n",
       "<title>132457743236208+</title>\n",
       "<ellipse fill=\"none\" stroke=\"black\" cx=\"1167\" cy=\"-127.5\" rx=\"27\" ry=\"18\"/>\n",
       "<text text-anchor=\"middle\" x=\"1167\" y=\"-122.83\" font-family=\"Times,serif\" font-size=\"14.00\">+</text>\n",
       "</g>\n",
       "<!-- 132457743236208+&#45;&gt;132457743236208 -->\n",
       "<g id=\"edge3\" class=\"edge\">\n",
       "<title>132457743236208+&#45;&gt;132457743236208</title>\n",
       "<path fill=\"none\" stroke=\"black\" d=\"M1194.31,-127.5C1201.38,-127.5 1209.52,-127.5 1218.27,-127.5\"/>\n",
       "<polygon fill=\"black\" stroke=\"black\" points=\"1218.14,-131 1228.14,-127.5 1218.14,-124 1218.14,-131\"/>\n",
       "</g>\n",
       "<!-- 132457743232608 -->\n",
       "<g id=\"node8\" class=\"node\">\n",
       "<title>132457743232608</title>\n",
       "<polygon fill=\"none\" stroke=\"black\" points=\"821.25,-137.5 821.25,-173.5 1050.75,-173.5 1050.75,-137.5 821.25,-137.5\"/>\n",
       "<text text-anchor=\"middle\" x=\"833.75\" y=\"-151.2\" font-family=\"Times,serif\" font-size=\"14.00\">b</text>\n",
       "<polyline fill=\"none\" stroke=\"black\" points=\"846.25,-138.25 846.25,-173.5\"/>\n",
       "<text text-anchor=\"middle\" x=\"897\" y=\"-151.2\" font-family=\"Times,serif\" font-size=\"14.00\">data 6.8814</text>\n",
       "<polyline fill=\"none\" stroke=\"black\" points=\"947.75,-138.25 947.75,-173.5\"/>\n",
       "<text text-anchor=\"middle\" x=\"999.25\" y=\"-151.2\" font-family=\"Times,serif\" font-size=\"14.00\">grad 0.5000</text>\n",
       "</g>\n",
       "<!-- 132457743232608&#45;&gt;132457743236208+ -->\n",
       "<g id=\"edge13\" class=\"edge\">\n",
       "<title>132457743232608&#45;&gt;132457743236208+</title>\n",
       "<path fill=\"none\" stroke=\"black\" d=\"M1051.16,-141.54C1079.33,-138.1 1107.53,-134.65 1128.93,-132.03\"/>\n",
       "<polygon fill=\"black\" stroke=\"black\" points=\"1129.08,-135.54 1138.58,-130.85 1128.23,-128.59 1129.08,-135.54\"/>\n",
       "</g>\n",
       "<!-- 132457743229632 -->\n",
       "<g id=\"node9\" class=\"node\">\n",
       "<title>132457743229632</title>\n",
       "<polygon fill=\"none\" stroke=\"black\" points=\"4.12,-165.5 4.12,-201.5 241.88,-201.5 241.88,-165.5 4.12,-165.5\"/>\n",
       "<text text-anchor=\"middle\" x=\"20.75\" y=\"-179.2\" font-family=\"Times,serif\" font-size=\"14.00\">x2</text>\n",
       "<polyline fill=\"none\" stroke=\"black\" points=\"37.38,-166.25 37.38,-201.5\"/>\n",
       "<text text-anchor=\"middle\" x=\"88.12\" y=\"-179.2\" font-family=\"Times,serif\" font-size=\"14.00\">data 0.0000</text>\n",
       "<polyline fill=\"none\" stroke=\"black\" points=\"138.88,-166.25 138.88,-201.5\"/>\n",
       "<text text-anchor=\"middle\" x=\"190.38\" y=\"-179.2\" font-family=\"Times,serif\" font-size=\"14.00\">grad 0.5000</text>\n",
       "</g>\n",
       "<!-- 132457743233376* -->\n",
       "<g id=\"node21\" class=\"node\">\n",
       "<title>132457743233376*</title>\n",
       "<ellipse fill=\"none\" stroke=\"black\" cx=\"309\" cy=\"-128.5\" rx=\"27\" ry=\"18\"/>\n",
       "<text text-anchor=\"middle\" x=\"309\" y=\"-123.83\" font-family=\"Times,serif\" font-size=\"14.00\">*</text>\n",
       "</g>\n",
       "<!-- 132457743229632&#45;&gt;132457743233376* -->\n",
       "<g id=\"edge14\" class=\"edge\">\n",
       "<title>132457743229632&#45;&gt;132457743233376*</title>\n",
       "<path fill=\"none\" stroke=\"black\" d=\"M216.81,-165.07C226.74,-162.47 236.63,-159.61 246,-156.5 256.18,-153.12 266.94,-148.61 276.59,-144.2\"/>\n",
       "<polygon fill=\"black\" stroke=\"black\" points=\"277.99,-147.41 285.55,-139.98 275.01,-141.08 277.99,-147.41\"/>\n",
       "</g>\n",
       "<!-- 132457743230160 -->\n",
       "<g id=\"node10\" class=\"node\">\n",
       "<title>132457743230160</title>\n",
       "<polygon fill=\"none\" stroke=\"black\" points=\"1232.25,-54.5 1232.25,-90.5 1457.25,-90.5 1457.25,-54.5 1232.25,-54.5\"/>\n",
       "<text text-anchor=\"middle\" x=\"1242.5\" y=\"-68.2\" font-family=\"Times,serif\" font-size=\"14.00\"> </text>\n",
       "<polyline fill=\"none\" stroke=\"black\" points=\"1252.75,-55.25 1252.75,-90.5\"/>\n",
       "<text text-anchor=\"middle\" x=\"1303.5\" y=\"-68.2\" font-family=\"Times,serif\" font-size=\"14.00\">data 2.0000</text>\n",
       "<polyline fill=\"none\" stroke=\"black\" points=\"1354.25,-55.25 1354.25,-90.5\"/>\n",
       "<text text-anchor=\"middle\" x=\"1405.75\" y=\"-68.2\" font-family=\"Times,serif\" font-size=\"14.00\">grad 0.2203</text>\n",
       "</g>\n",
       "<!-- 132457743230160&#45;&gt;132457743236016* -->\n",
       "<g id=\"edge26\" class=\"edge\">\n",
       "<title>132457743230160&#45;&gt;132457743236016*</title>\n",
       "<path fill=\"none\" stroke=\"black\" d=\"M1457.55,-89.68C1467.1,-91.14 1476.25,-92.55 1484.48,-93.81\"/>\n",
       "<polygon fill=\"black\" stroke=\"black\" points=\"1483.93,-97.27 1494.34,-95.33 1484.99,-90.35 1483.93,-97.27\"/>\n",
       "</g>\n",
       "<!-- 132457743233232 -->\n",
       "<g id=\"node11\" class=\"node\">\n",
       "<title>132457743233232</title>\n",
       "<polygon fill=\"none\" stroke=\"black\" points=\"0,-55.5 0,-91.5 246,-91.5 246,-55.5 0,-55.5\"/>\n",
       "<text text-anchor=\"middle\" x=\"18.5\" y=\"-69.2\" font-family=\"Times,serif\" font-size=\"14.00\">w1</text>\n",
       "<polyline fill=\"none\" stroke=\"black\" points=\"37,-56.25 37,-91.5\"/>\n",
       "<text text-anchor=\"middle\" x=\"90\" y=\"-69.2\" font-family=\"Times,serif\" font-size=\"14.00\">data &#45;3.0000</text>\n",
       "<polyline fill=\"none\" stroke=\"black\" points=\"143,-56.25 143,-91.5\"/>\n",
       "<text text-anchor=\"middle\" x=\"194.5\" y=\"-69.2\" font-family=\"Times,serif\" font-size=\"14.00\">grad 1.0000</text>\n",
       "</g>\n",
       "<!-- 132457743230400* -->\n",
       "<g id=\"node28\" class=\"node\">\n",
       "<title>132457743230400*</title>\n",
       "<ellipse fill=\"none\" stroke=\"black\" cx=\"309\" cy=\"-73.5\" rx=\"27\" ry=\"18\"/>\n",
       "<text text-anchor=\"middle\" x=\"309\" y=\"-68.83\" font-family=\"Times,serif\" font-size=\"14.00\">*</text>\n",
       "</g>\n",
       "<!-- 132457743233232&#45;&gt;132457743230400* -->\n",
       "<g id=\"edge12\" class=\"edge\">\n",
       "<title>132457743233232&#45;&gt;132457743230400*</title>\n",
       "<path fill=\"none\" stroke=\"black\" d=\"M246.47,-73.5C254.97,-73.5 263.07,-73.5 270.44,-73.5\"/>\n",
       "<polygon fill=\"black\" stroke=\"black\" points=\"270.23,-77 280.23,-73.5 270.23,-70 270.23,-77\"/>\n",
       "</g>\n",
       "<!-- 132457743235824 -->\n",
       "<g id=\"node12\" class=\"node\">\n",
       "<title>132457743235824</title>\n",
       "<polygon fill=\"none\" stroke=\"black\" points=\"1.88,-0.5 1.88,-36.5 244.12,-36.5 244.12,-0.5 1.88,-0.5\"/>\n",
       "<text text-anchor=\"middle\" x=\"18.5\" y=\"-14.2\" font-family=\"Times,serif\" font-size=\"14.00\">x1</text>\n",
       "<polyline fill=\"none\" stroke=\"black\" points=\"35.12,-1.25 35.12,-36.5\"/>\n",
       "<text text-anchor=\"middle\" x=\"85.88\" y=\"-14.2\" font-family=\"Times,serif\" font-size=\"14.00\">data 2.0000</text>\n",
       "<polyline fill=\"none\" stroke=\"black\" points=\"136.62,-1.25 136.62,-36.5\"/>\n",
       "<text text-anchor=\"middle\" x=\"190.38\" y=\"-14.2\" font-family=\"Times,serif\" font-size=\"14.00\">grad &#45;1.5000</text>\n",
       "</g>\n",
       "<!-- 132457743235824&#45;&gt;132457743230400* -->\n",
       "<g id=\"edge19\" class=\"edge\">\n",
       "<title>132457743235824&#45;&gt;132457743230400*</title>\n",
       "<path fill=\"none\" stroke=\"black\" d=\"M216.81,-36.93C226.74,-39.53 236.63,-42.39 246,-45.5 256.18,-48.88 266.94,-53.39 276.59,-57.8\"/>\n",
       "<polygon fill=\"black\" stroke=\"black\" points=\"275.01,-60.92 285.55,-62.02 277.99,-54.59 275.01,-60.92\"/>\n",
       "</g>\n",
       "<!-- 132457743227088 -->\n",
       "<g id=\"node13\" class=\"node\">\n",
       "<title>132457743227088</title>\n",
       "<polygon fill=\"none\" stroke=\"black\" points=\"2561.72,-108.5 2561.72,-144.5 2786.72,-144.5 2786.72,-108.5 2561.72,-108.5\"/>\n",
       "<text text-anchor=\"middle\" x=\"2571.97\" y=\"-122.2\" font-family=\"Times,serif\" font-size=\"14.00\"> </text>\n",
       "<polyline fill=\"none\" stroke=\"black\" points=\"2582.22,-109.25 2582.22,-144.5\"/>\n",
       "<text text-anchor=\"middle\" x=\"2632.97\" y=\"-122.2\" font-family=\"Times,serif\" font-size=\"14.00\">data 4.8284</text>\n",
       "<polyline fill=\"none\" stroke=\"black\" points=\"2683.72,-109.25 2683.72,-144.5\"/>\n",
       "<text text-anchor=\"middle\" x=\"2735.22\" y=\"-122.2\" font-family=\"Times,serif\" font-size=\"14.00\">grad 0.1464</text>\n",
       "</g>\n",
       "<!-- 132457743233424* -->\n",
       "<g id=\"node23\" class=\"node\">\n",
       "<title>132457743233424*</title>\n",
       "<ellipse fill=\"none\" stroke=\"black\" cx=\"3110.72\" cy=\"-98.5\" rx=\"27\" ry=\"18\"/>\n",
       "<text text-anchor=\"middle\" x=\"3110.72\" y=\"-93.83\" font-family=\"Times,serif\" font-size=\"14.00\">*</text>\n",
       "</g>\n",
       "<!-- 132457743227088&#45;&gt;132457743233424* -->\n",
       "<g id=\"edge15\" class=\"edge\">\n",
       "<title>132457743227088&#45;&gt;132457743233424*</title>\n",
       "<path fill=\"none\" stroke=\"black\" d=\"M2786.88,-119.31C2860.87,-114.54 2960.1,-108.15 3047.72,-102.5 3055.61,-101.99 3064.05,-101.45 3072.1,-100.93\"/>\n",
       "<polygon fill=\"black\" stroke=\"black\" points=\"3072.21,-104.43 3081.97,-100.29 3071.76,-97.44 3072.21,-104.43\"/>\n",
       "</g>\n",
       "<!-- 132457743227088+&#45;&gt;132457743227088 -->\n",
       "<g id=\"edge4\" class=\"edge\">\n",
       "<title>132457743227088+&#45;&gt;132457743227088</title>\n",
       "<path fill=\"none\" stroke=\"black\" d=\"M2260.7,-126.5C2316.65,-126.5 2450.03,-126.5 2550.08,-126.5\"/>\n",
       "<polygon fill=\"black\" stroke=\"black\" points=\"2549.98,-130 2559.98,-126.5 2549.98,-123 2549.98,-130\"/>\n",
       "</g>\n",
       "<!-- 132457743227664 -->\n",
       "<g id=\"node15\" class=\"node\">\n",
       "<title>132457743227664</title>\n",
       "<polygon fill=\"none\" stroke=\"black\" points=\"1940.72,-26.5 1940.72,-62.5 2170.22,-62.5 2170.22,-26.5 1940.72,-26.5\"/>\n",
       "<text text-anchor=\"middle\" x=\"1950.97\" y=\"-40.2\" font-family=\"Times,serif\" font-size=\"14.00\"> </text>\n",
       "<polyline fill=\"none\" stroke=\"black\" points=\"1961.22,-27.25 1961.22,-62.5\"/>\n",
       "<text text-anchor=\"middle\" x=\"2011.97\" y=\"-40.2\" font-family=\"Times,serif\" font-size=\"14.00\">data 1.0000</text>\n",
       "<polyline fill=\"none\" stroke=\"black\" points=\"2062.72,-27.25 2062.72,-62.5\"/>\n",
       "<text text-anchor=\"middle\" x=\"2116.47\" y=\"-40.2\" font-family=\"Times,serif\" font-size=\"14.00\">grad &#45;0.1036</text>\n",
       "</g>\n",
       "<!-- 132457743227664&#45;&gt;132457743228432+ -->\n",
       "<g id=\"edge25\" class=\"edge\">\n",
       "<title>132457743227664&#45;&gt;132457743228432+</title>\n",
       "<path fill=\"none\" stroke=\"black\" d=\"M2170.26,-61.98C2179.09,-63.34 2187.55,-64.64 2195.21,-65.81\"/>\n",
       "<polygon fill=\"black\" stroke=\"black\" points=\"2194.64,-69.27 2205.05,-67.33 2195.7,-62.35 2194.64,-69.27\"/>\n",
       "</g>\n",
       "<!-- 132457743236880 -->\n",
       "<g id=\"node16\" class=\"node\">\n",
       "<title>132457743236880</title>\n",
       "<polygon fill=\"none\" stroke=\"black\" points=\"2822.72,-57.5 2822.72,-93.5 3047.72,-93.5 3047.72,-57.5 2822.72,-57.5\"/>\n",
       "<text text-anchor=\"middle\" x=\"2832.97\" y=\"-71.2\" font-family=\"Times,serif\" font-size=\"14.00\"> </text>\n",
       "<polyline fill=\"none\" stroke=\"black\" points=\"2843.22,-58.25 2843.22,-93.5\"/>\n",
       "<text text-anchor=\"middle\" x=\"2893.97\" y=\"-71.2\" font-family=\"Times,serif\" font-size=\"14.00\">data 0.1464</text>\n",
       "<polyline fill=\"none\" stroke=\"black\" points=\"2944.72,-58.25 2944.72,-93.5\"/>\n",
       "<text text-anchor=\"middle\" x=\"2996.22\" y=\"-71.2\" font-family=\"Times,serif\" font-size=\"14.00\">grad 4.8284</text>\n",
       "</g>\n",
       "<!-- 132457743236880&#45;&gt;132457743233424* -->\n",
       "<g id=\"edge23\" class=\"edge\">\n",
       "<title>132457743236880&#45;&gt;132457743233424*</title>\n",
       "<path fill=\"none\" stroke=\"black\" d=\"M3048.06,-90.33C3056.76,-91.48 3065.08,-92.58 3072.65,-93.58\"/>\n",
       "<polygon fill=\"black\" stroke=\"black\" points=\"3071.98,-97.03 3082.35,-94.87 3072.9,-90.09 3071.98,-97.03\"/>\n",
       "</g>\n",
       "<!-- 132457743236880**&#45;1&#45;&gt;132457743236880 -->\n",
       "<g id=\"edge5\" class=\"edge\">\n",
       "<title>132457743236880**&#45;1&#45;&gt;132457743236880</title>\n",
       "<path fill=\"none\" stroke=\"black\" d=\"M2704.68,-71.95C2730.98,-72.36 2771.37,-72.98 2810.97,-73.6\"/>\n",
       "<polygon fill=\"black\" stroke=\"black\" points=\"2810.81,-77.09 2820.87,-73.75 2810.92,-70.1 2810.81,-77.09\"/>\n",
       "</g>\n",
       "<!-- 132457743233328 -->\n",
       "<g id=\"node18\" class=\"node\">\n",
       "<title>132457743233328</title>\n",
       "<polygon fill=\"none\" stroke=\"black\" points=\"768,-82.5 768,-118.5 1104,-118.5 1104,-82.5 768,-82.5\"/>\n",
       "<text text-anchor=\"middle\" x=\"831.5\" y=\"-96.2\" font-family=\"Times,serif\" font-size=\"14.00\">x1*w1 + x2*w2</text>\n",
       "<polyline fill=\"none\" stroke=\"black\" points=\"895,-83.25 895,-118.5\"/>\n",
       "<text text-anchor=\"middle\" x=\"948\" y=\"-96.2\" font-family=\"Times,serif\" font-size=\"14.00\">data &#45;6.0000</text>\n",
       "<polyline fill=\"none\" stroke=\"black\" points=\"1001,-83.25 1001,-118.5\"/>\n",
       "<text text-anchor=\"middle\" x=\"1052.5\" y=\"-96.2\" font-family=\"Times,serif\" font-size=\"14.00\">grad 0.5000</text>\n",
       "</g>\n",
       "<!-- 132457743233328&#45;&gt;132457743236208+ -->\n",
       "<g id=\"edge11\" class=\"edge\">\n",
       "<title>132457743233328&#45;&gt;132457743236208+</title>\n",
       "<path fill=\"none\" stroke=\"black\" d=\"M1093.86,-118.99C1106.58,-120.49 1118.49,-121.9 1128.83,-123.12\"/>\n",
       "<polygon fill=\"black\" stroke=\"black\" points=\"1128.34,-126.58 1138.69,-124.28 1129.16,-119.63 1128.34,-126.58\"/>\n",
       "</g>\n",
       "<!-- 132457743233328+ -->\n",
       "<g id=\"node19\" class=\"node\">\n",
       "<title>132457743233328+</title>\n",
       "<ellipse fill=\"none\" stroke=\"black\" cx=\"705\" cy=\"-100.5\" rx=\"27\" ry=\"18\"/>\n",
       "<text text-anchor=\"middle\" x=\"705\" y=\"-95.83\" font-family=\"Times,serif\" font-size=\"14.00\">+</text>\n",
       "</g>\n",
       "<!-- 132457743233328+&#45;&gt;132457743233328 -->\n",
       "<g id=\"edge6\" class=\"edge\">\n",
       "<title>132457743233328+&#45;&gt;132457743233328</title>\n",
       "<path fill=\"none\" stroke=\"black\" d=\"M732.27,-100.5C739.21,-100.5 747.24,-100.5 756.03,-100.5\"/>\n",
       "<polygon fill=\"black\" stroke=\"black\" points=\"756.02,-104 766.02,-100.5 756.02,-97 756.02,-104\"/>\n",
       "</g>\n",
       "<!-- 132457743233376 -->\n",
       "<g id=\"node20\" class=\"node\">\n",
       "<title>132457743233376</title>\n",
       "<polygon fill=\"none\" stroke=\"black\" points=\"374.25,-110.5 374.25,-146.5 639.75,-146.5 639.75,-110.5 374.25,-110.5\"/>\n",
       "<text text-anchor=\"middle\" x=\"404.75\" y=\"-124.2\" font-family=\"Times,serif\" font-size=\"14.00\">x2*w2</text>\n",
       "<polyline fill=\"none\" stroke=\"black\" points=\"435.25,-111.25 435.25,-146.5\"/>\n",
       "<text text-anchor=\"middle\" x=\"486\" y=\"-124.2\" font-family=\"Times,serif\" font-size=\"14.00\">data 0.0000</text>\n",
       "<polyline fill=\"none\" stroke=\"black\" points=\"536.75,-111.25 536.75,-146.5\"/>\n",
       "<text text-anchor=\"middle\" x=\"588.25\" y=\"-124.2\" font-family=\"Times,serif\" font-size=\"14.00\">grad 0.5000</text>\n",
       "</g>\n",
       "<!-- 132457743233376&#45;&gt;132457743233328+ -->\n",
       "<g id=\"edge28\" class=\"edge\">\n",
       "<title>132457743233376&#45;&gt;132457743233328+</title>\n",
       "<path fill=\"none\" stroke=\"black\" d=\"M637.37,-110.02C647.88,-108.52 657.85,-107.09 666.73,-105.82\"/>\n",
       "<polygon fill=\"black\" stroke=\"black\" points=\"667.19,-109.29 676.6,-104.41 666.2,-102.36 667.19,-109.29\"/>\n",
       "</g>\n",
       "<!-- 132457743233376*&#45;&gt;132457743233376 -->\n",
       "<g id=\"edge7\" class=\"edge\">\n",
       "<title>132457743233376*&#45;&gt;132457743233376</title>\n",
       "<path fill=\"none\" stroke=\"black\" d=\"M336.43,-128.5C344.1,-128.5 353.05,-128.5 362.77,-128.5\"/>\n",
       "<polygon fill=\"black\" stroke=\"black\" points=\"362.51,-132 372.51,-128.5 362.51,-125 362.51,-132\"/>\n",
       "</g>\n",
       "<!-- 132457743233424 -->\n",
       "<g id=\"node22\" class=\"node\">\n",
       "<title>132457743233424</title>\n",
       "<polygon fill=\"none\" stroke=\"black\" points=\"3173.72,-80.5 3173.72,-116.5 3402.47,-116.5 3402.47,-80.5 3173.72,-80.5\"/>\n",
       "<text text-anchor=\"middle\" x=\"3185.85\" y=\"-94.2\" font-family=\"Times,serif\" font-size=\"14.00\">o</text>\n",
       "<polyline fill=\"none\" stroke=\"black\" points=\"3197.97,-81.25 3197.97,-116.5\"/>\n",
       "<text text-anchor=\"middle\" x=\"3248.72\" y=\"-94.2\" font-family=\"Times,serif\" font-size=\"14.00\">data 0.7071</text>\n",
       "<polyline fill=\"none\" stroke=\"black\" points=\"3299.47,-81.25 3299.47,-116.5\"/>\n",
       "<text text-anchor=\"middle\" x=\"3350.97\" y=\"-94.2\" font-family=\"Times,serif\" font-size=\"14.00\">grad 1.0000</text>\n",
       "</g>\n",
       "<!-- 132457743233424*&#45;&gt;132457743233424 -->\n",
       "<g id=\"edge8\" class=\"edge\">\n",
       "<title>132457743233424*&#45;&gt;132457743233424</title>\n",
       "<path fill=\"none\" stroke=\"black\" d=\"M3137.98,-98.5C3145.03,-98.5 3153.15,-98.5 3161.89,-98.5\"/>\n",
       "<polygon fill=\"black\" stroke=\"black\" points=\"3161.73,-102 3171.73,-98.5 3161.73,-95 3161.73,-102\"/>\n",
       "</g>\n",
       "<!-- 132457743233952 -->\n",
       "<g id=\"node24\" class=\"node\">\n",
       "<title>132457743233952</title>\n",
       "<polygon fill=\"none\" stroke=\"black\" points=\"2.25,-110.5 2.25,-146.5 243.75,-146.5 243.75,-110.5 2.25,-110.5\"/>\n",
       "<text text-anchor=\"middle\" x=\"20.75\" y=\"-124.2\" font-family=\"Times,serif\" font-size=\"14.00\">w2</text>\n",
       "<polyline fill=\"none\" stroke=\"black\" points=\"39.25,-111.25 39.25,-146.5\"/>\n",
       "<text text-anchor=\"middle\" x=\"90\" y=\"-124.2\" font-family=\"Times,serif\" font-size=\"14.00\">data 1.0000</text>\n",
       "<polyline fill=\"none\" stroke=\"black\" points=\"140.75,-111.25 140.75,-146.5\"/>\n",
       "<text text-anchor=\"middle\" x=\"192.25\" y=\"-124.2\" font-family=\"Times,serif\" font-size=\"14.00\">grad 0.0000</text>\n",
       "</g>\n",
       "<!-- 132457743233952&#45;&gt;132457743233376* -->\n",
       "<g id=\"edge20\" class=\"edge\">\n",
       "<title>132457743233952&#45;&gt;132457743233376*</title>\n",
       "<path fill=\"none\" stroke=\"black\" d=\"M244.16,-128.5C253.4,-128.5 262.22,-128.5 270.19,-128.5\"/>\n",
       "<polygon fill=\"black\" stroke=\"black\" points=\"270.08,-132 280.08,-128.5 270.08,-125 270.08,-132\"/>\n",
       "</g>\n",
       "<!-- 132457743236016 -->\n",
       "<g id=\"node25\" class=\"node\">\n",
       "<title>132457743236016</title>\n",
       "<polygon fill=\"none\" stroke=\"black\" points=\"1585.5,-81.5 1585.5,-117.5 1810.5,-117.5 1810.5,-81.5 1585.5,-81.5\"/>\n",
       "<text text-anchor=\"middle\" x=\"1595.75\" y=\"-95.2\" font-family=\"Times,serif\" font-size=\"14.00\"> </text>\n",
       "<polyline fill=\"none\" stroke=\"black\" points=\"1606,-82.25 1606,-117.5\"/>\n",
       "<text text-anchor=\"middle\" x=\"1656.75\" y=\"-95.2\" font-family=\"Times,serif\" font-size=\"14.00\">data 1.7627</text>\n",
       "<polyline fill=\"none\" stroke=\"black\" points=\"1707.5,-82.25 1707.5,-117.5\"/>\n",
       "<text text-anchor=\"middle\" x=\"1759\" y=\"-95.2\" font-family=\"Times,serif\" font-size=\"14.00\">grad 0.2500</text>\n",
       "</g>\n",
       "<!-- 132457743236016&#45;&gt;132457743235680exp -->\n",
       "<g id=\"edge18\" class=\"edge\">\n",
       "<title>132457743236016&#45;&gt;132457743235680exp</title>\n",
       "<path fill=\"none\" stroke=\"black\" d=\"M1810.71,-99.5C1819.14,-99.5 1827.24,-99.5 1834.68,-99.5\"/>\n",
       "<polygon fill=\"black\" stroke=\"black\" points=\"1834.64,-103 1844.64,-99.5 1834.64,-96 1834.64,-103\"/>\n",
       "</g>\n",
       "<!-- 132457743236016*&#45;&gt;132457743236016 -->\n",
       "<g id=\"edge9\" class=\"edge\">\n",
       "<title>132457743236016*&#45;&gt;132457743236016</title>\n",
       "<path fill=\"none\" stroke=\"black\" d=\"M1549.85,-99.5C1556.92,-99.5 1565.04,-99.5 1573.77,-99.5\"/>\n",
       "<polygon fill=\"black\" stroke=\"black\" points=\"1573.6,-103 1583.6,-99.5 1573.6,-96 1573.6,-103\"/>\n",
       "</g>\n",
       "<!-- 132457743230400 -->\n",
       "<g id=\"node27\" class=\"node\">\n",
       "<title>132457743230400</title>\n",
       "<polygon fill=\"none\" stroke=\"black\" points=\"372,-55.5 372,-91.5 642,-91.5 642,-55.5 372,-55.5\"/>\n",
       "<text text-anchor=\"middle\" x=\"402.5\" y=\"-69.2\" font-family=\"Times,serif\" font-size=\"14.00\">x1*w1</text>\n",
       "<polyline fill=\"none\" stroke=\"black\" points=\"433,-56.25 433,-91.5\"/>\n",
       "<text text-anchor=\"middle\" x=\"486\" y=\"-69.2\" font-family=\"Times,serif\" font-size=\"14.00\">data &#45;6.0000</text>\n",
       "<polyline fill=\"none\" stroke=\"black\" points=\"539,-56.25 539,-91.5\"/>\n",
       "<text text-anchor=\"middle\" x=\"590.5\" y=\"-69.2\" font-family=\"Times,serif\" font-size=\"14.00\">grad 0.5000</text>\n",
       "</g>\n",
       "<!-- 132457743230400&#45;&gt;132457743233328+ -->\n",
       "<g id=\"edge22\" class=\"edge\">\n",
       "<title>132457743230400&#45;&gt;132457743233328+</title>\n",
       "<path fill=\"none\" stroke=\"black\" d=\"M642.25,-91.99C651.05,-93.21 659.4,-94.36 666.95,-95.4\"/>\n",
       "<polygon fill=\"black\" stroke=\"black\" points=\"666.21,-98.83 676.6,-96.73 667.17,-91.89 666.21,-98.83\"/>\n",
       "</g>\n",
       "<!-- 132457743230400*&#45;&gt;132457743230400 -->\n",
       "<g id=\"edge10\" class=\"edge\">\n",
       "<title>132457743230400*&#45;&gt;132457743230400</title>\n",
       "<path fill=\"none\" stroke=\"black\" d=\"M336.43,-73.5C343.41,-73.5 351.46,-73.5 360.17,-73.5\"/>\n",
       "<polygon fill=\"black\" stroke=\"black\" points=\"360.02,-77 370.02,-73.5 360.02,-70 360.02,-77\"/>\n",
       "</g>\n",
       "</g>\n",
       "</svg>\n"
      ],
      "text/plain": [
       "<graphviz.graphs.Digraph at 0x787838bb99c0>"
      ]
     },
     "execution_count": 28,
     "metadata": {},
     "output_type": "execute_result"
    }
   ],
   "source": [
    "# inputs x1,x2\n",
    "x1 = Value(2.0, label='x1')\n",
    "x2 = Value(0.0, label='x2')\n",
    "# weights w1,w2\n",
    "w1 = Value(-3.0, label='w1')\n",
    "w2 = Value(1.0, label='w2')\n",
    "# bias of the neuron\n",
    "b = Value(6.8813735870195432, label='b')\n",
    "# x1*w1 + x2*w2 + b\n",
    "x1w1 = x1*w1; x1w1.label = 'x1*w1'\n",
    "x2w2 = x2*w2; x2w2.label = 'x2*w2'\n",
    "x1w1x2w2 = x1w1 + x2w2; x1w1x2w2.label = 'x1*w1 + x2*w2'\n",
    "n = x1w1x2w2 + b; n.label = 'n'\n",
    "# -------\n",
    "e = (2*n).exp(); e.label = 'e'\n",
    "o = (e - 1)/(e + 1)\n",
    "# -------\n",
    "o.label = 'o'\n",
    "o.backward()\n",
    "draw_dot(o)"
   ]
  },
  {
   "cell_type": "code",
   "execution_count": null,
   "id": "52603f68",
   "metadata": {
    "papermill": {
     "duration": 0.015156,
     "end_time": "2024-05-15T11:14:09.036027",
     "exception": false,
     "start_time": "2024-05-15T11:14:09.020871",
     "status": "completed"
    },
    "tags": []
   },
   "outputs": [],
   "source": []
  }
 ],
 "metadata": {
  "kaggle": {
   "accelerator": "none",
   "dataSources": [],
   "dockerImageVersionId": 30698,
   "isGpuEnabled": false,
   "isInternetEnabled": false,
   "language": "python",
   "sourceType": "notebook"
  },
  "kernelspec": {
   "display_name": "Python 3",
   "language": "python",
   "name": "python3"
  },
  "language_info": {
   "codemirror_mode": {
    "name": "ipython",
    "version": 3
   },
   "file_extension": ".py",
   "mimetype": "text/x-python",
   "name": "python",
   "nbconvert_exporter": "python",
   "pygments_lexer": "ipython3",
   "version": "3.10.13"
  },
  "papermill": {
   "default_parameters": {},
   "duration": 5.543731,
   "end_time": "2024-05-15T11:14:09.473705",
   "environment_variables": {},
   "exception": null,
   "input_path": "__notebook__.ipynb",
   "output_path": "__notebook__.ipynb",
   "parameters": {},
   "start_time": "2024-05-15T11:14:03.929974",
   "version": "2.5.0"
  }
 },
 "nbformat": 4,
 "nbformat_minor": 5
}
