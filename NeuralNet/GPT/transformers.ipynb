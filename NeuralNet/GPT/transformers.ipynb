{
 "cells": [
  {
   "cell_type": "code",
   "execution_count": 1,
   "id": "d1fdb18c",
   "metadata": {
    "_cell_guid": "b1076dfc-b9ad-4769-8c92-a6c4dae69d19",
    "_uuid": "8f2839f25d086af736a60e9eeb907d3b93b6e0e5",
    "execution": {
     "iopub.execute_input": "2024-05-26T18:23:07.090928Z",
     "iopub.status.busy": "2024-05-26T18:23:07.090496Z",
     "iopub.status.idle": "2024-05-26T18:23:10.491104Z",
     "shell.execute_reply": "2024-05-26T18:23:10.489894Z"
    },
    "papermill": {
     "duration": 3.41793,
     "end_time": "2024-05-26T18:23:10.493923",
     "exception": false,
     "start_time": "2024-05-26T18:23:07.075993",
     "status": "completed"
    },
    "tags": []
   },
   "outputs": [],
   "source": [
    "import torch\n",
    "import torch.nn as nn\n",
    "import torch.nn.functional as F"
   ]
  },
  {
   "cell_type": "code",
   "execution_count": 2,
   "id": "f5fdb307",
   "metadata": {
    "execution": {
     "iopub.execute_input": "2024-05-26T18:23:10.519342Z",
     "iopub.status.busy": "2024-05-26T18:23:10.518351Z",
     "iopub.status.idle": "2024-05-26T18:23:12.058596Z",
     "shell.execute_reply": "2024-05-26T18:23:12.056670Z"
    },
    "papermill": {
     "duration": 1.55584,
     "end_time": "2024-05-26T18:23:12.061515",
     "exception": false,
     "start_time": "2024-05-26T18:23:10.505675",
     "status": "completed"
    },
    "tags": []
   },
   "outputs": [
    {
     "name": "stdout",
     "output_type": "stream",
     "text": [
      "--2024-05-26 18:23:11--  https://raw.githubusercontent.com/karpathy/char-rnn/master/data/tinyshakespeare/input.txt\r\n",
      "Resolving raw.githubusercontent.com (raw.githubusercontent.com)... 185.199.108.133, 185.199.110.133, 185.199.111.133, ...\r\n",
      "Connecting to raw.githubusercontent.com (raw.githubusercontent.com)|185.199.108.133|:443... connected.\r\n",
      "HTTP request sent, awaiting response... 200 OK\r\n",
      "Length: 1115394 (1.1M) [text/plain]\r\n",
      "Saving to: 'input.txt'\r\n",
      "\r\n",
      "input.txt           100%[===================>]   1.06M  5.17MB/s    in 0.2s    \r\n",
      "\r\n",
      "2024-05-26 18:23:11 (5.17 MB/s) - 'input.txt' saved [1115394/1115394]\r\n",
      "\r\n"
     ]
    }
   ],
   "source": [
    "# We always start with a dataset to train on. Let's download the tiny shakespeare dataset\n",
    "!wget https://raw.githubusercontent.com/karpathy/char-rnn/master/data/tinyshakespeare/input.txt"
   ]
  },
  {
   "cell_type": "code",
   "execution_count": 3,
   "id": "e1adc6aa",
   "metadata": {
    "execution": {
     "iopub.execute_input": "2024-05-26T18:23:12.088350Z",
     "iopub.status.busy": "2024-05-26T18:23:12.087918Z",
     "iopub.status.idle": "2024-05-26T18:23:12.095534Z",
     "shell.execute_reply": "2024-05-26T18:23:12.094519Z"
    },
    "papermill": {
     "duration": 0.024053,
     "end_time": "2024-05-26T18:23:12.098217",
     "exception": false,
     "start_time": "2024-05-26T18:23:12.074164",
     "status": "completed"
    },
    "tags": []
   },
   "outputs": [],
   "source": [
    "with open('input.txt', 'r', encoding='utf-8') as f:\n",
    "    text = f.read()"
   ]
  },
  {
   "cell_type": "code",
   "execution_count": 4,
   "id": "36d2ad84",
   "metadata": {
    "execution": {
     "iopub.execute_input": "2024-05-26T18:23:12.125056Z",
     "iopub.status.busy": "2024-05-26T18:23:12.124598Z",
     "iopub.status.idle": "2024-05-26T18:23:12.130350Z",
     "shell.execute_reply": "2024-05-26T18:23:12.129275Z"
    },
    "papermill": {
     "duration": 0.023278,
     "end_time": "2024-05-26T18:23:12.133918",
     "exception": false,
     "start_time": "2024-05-26T18:23:12.110640",
     "status": "completed"
    },
    "tags": []
   },
   "outputs": [
    {
     "name": "stdout",
     "output_type": "stream",
     "text": [
      "length fo dataset in characters:  1115394\n"
     ]
    }
   ],
   "source": [
    "print('length fo dataset in characters: ', len(text))"
   ]
  },
  {
   "cell_type": "code",
   "execution_count": 5,
   "id": "e68a25b4",
   "metadata": {
    "execution": {
     "iopub.execute_input": "2024-05-26T18:23:12.161366Z",
     "iopub.status.busy": "2024-05-26T18:23:12.160947Z",
     "iopub.status.idle": "2024-05-26T18:23:12.166799Z",
     "shell.execute_reply": "2024-05-26T18:23:12.165710Z"
    },
    "papermill": {
     "duration": 0.023101,
     "end_time": "2024-05-26T18:23:12.169923",
     "exception": false,
     "start_time": "2024-05-26T18:23:12.146822",
     "status": "completed"
    },
    "tags": []
   },
   "outputs": [
    {
     "name": "stdout",
     "output_type": "stream",
     "text": [
      "First Citizen:\n",
      "Before we proceed any further, hear me speak.\n",
      "\n",
      "All:\n",
      "Speak, speak.\n",
      "\n",
      "First Citizen:\n",
      "You are all resolved rather to die than to famish?\n",
      "\n",
      "All:\n",
      "Resolved. resolved.\n",
      "\n",
      "First Citizen:\n",
      "First, you know Caius Marcius is chief enemy to the people.\n",
      "\n",
      "All:\n",
      "We know't, we know't.\n",
      "\n",
      "First Citizen:\n",
      "Let us kill him, and we'll have corn at our own price.\n",
      "Is't a verdict?\n",
      "\n",
      "All:\n",
      "No more talking on't; let it be done: away, away!\n",
      "\n",
      "Second Citizen:\n",
      "One word, good citizens.\n",
      "\n",
      "First Citizen:\n",
      "We are accounted poor citizens, the patricians good.\n",
      "What authority surfeits on would relieve us: if they\n",
      "would yield us but the superfluity, while it were\n",
      "wholesome, we might guess they relieved us humanely;\n",
      "but they think we are too dear: the leanness that\n",
      "afflicts us, the object of our misery, is as an\n",
      "inventory to particularise their abundance; our\n",
      "sufferance is a gain to them Let us revenge this with\n",
      "our pikes, ere we become rakes: for the gods know I\n",
      "speak this in hunger for bread, not in thirst for revenge.\n",
      "\n",
      "\n"
     ]
    }
   ],
   "source": [
    "print(text[:1000])"
   ]
  },
  {
   "cell_type": "markdown",
   "id": "17fac837",
   "metadata": {
    "papermill": {
     "duration": 0.011751,
     "end_time": "2024-05-26T18:23:12.193800",
     "exception": false,
     "start_time": "2024-05-26T18:23:12.182049",
     "status": "completed"
    },
    "tags": []
   },
   "source": [
    "### Populating the vocabulary"
   ]
  },
  {
   "cell_type": "code",
   "execution_count": 6,
   "id": "55759f9e",
   "metadata": {
    "execution": {
     "iopub.execute_input": "2024-05-26T18:23:12.220902Z",
     "iopub.status.busy": "2024-05-26T18:23:12.220492Z",
     "iopub.status.idle": "2024-05-26T18:23:12.245829Z",
     "shell.execute_reply": "2024-05-26T18:23:12.244803Z"
    },
    "papermill": {
     "duration": 0.041272,
     "end_time": "2024-05-26T18:23:12.248433",
     "exception": false,
     "start_time": "2024-05-26T18:23:12.207161",
     "status": "completed"
    },
    "tags": []
   },
   "outputs": [
    {
     "name": "stdout",
     "output_type": "stream",
     "text": [
      "\n",
      " !$&',-.3:;?ABCDEFGHIJKLMNOPQRSTUVWXYZabcdefghijklmnopqrstuvwxyz\n",
      "65\n"
     ]
    }
   ],
   "source": [
    "chars = sorted(list(set(text)))\n",
    "vocab_size = len(chars)\n",
    "print(''.join(chars))\n",
    "print(vocab_size)"
   ]
  },
  {
   "cell_type": "markdown",
   "id": "086d3c2e",
   "metadata": {
    "papermill": {
     "duration": 0.011822,
     "end_time": "2024-05-26T18:23:12.273423",
     "exception": false,
     "start_time": "2024-05-26T18:23:12.261601",
     "status": "completed"
    },
    "tags": []
   },
   "source": [
    "### Tokenization"
   ]
  },
  {
   "cell_type": "code",
   "execution_count": 7,
   "id": "142d2b57",
   "metadata": {
    "execution": {
     "iopub.execute_input": "2024-05-26T18:23:12.300745Z",
     "iopub.status.busy": "2024-05-26T18:23:12.299989Z",
     "iopub.status.idle": "2024-05-26T18:23:12.308276Z",
     "shell.execute_reply": "2024-05-26T18:23:12.307122Z"
    },
    "papermill": {
     "duration": 0.024889,
     "end_time": "2024-05-26T18:23:12.311067",
     "exception": false,
     "start_time": "2024-05-26T18:23:12.286178",
     "status": "completed"
    },
    "tags": []
   },
   "outputs": [
    {
     "name": "stdout",
     "output_type": "stream",
     "text": [
      "[46, 47, 47, 1, 58, 46, 43, 56, 43, 56]\n",
      "hii therer\n"
     ]
    }
   ],
   "source": [
    "stoi = {ch:i for i, ch in enumerate(chars)}\n",
    "itos = {i:ch for i, ch in enumerate(chars)}\n",
    "encode = lambda s: [stoi[c] for c in s] # encoder: taking a string and outputting a list of integers\n",
    "decode = lambda l : ''.join([itos[i] for i in l]) # decoder: take a list of integers and outputs a string\n",
    "\n",
    "print(encode(\"hii therer\"))\n",
    "print(decode(encode(\"hii therer\")))"
   ]
  },
  {
   "cell_type": "markdown",
   "id": "5e31bd39",
   "metadata": {
    "papermill": {
     "duration": 0.012063,
     "end_time": "2024-05-26T18:23:12.335669",
     "exception": false,
     "start_time": "2024-05-26T18:23:12.323606",
     "status": "completed"
    },
    "tags": []
   },
   "source": [
    "### Tokenizing the input corpus"
   ]
  },
  {
   "cell_type": "code",
   "execution_count": 8,
   "id": "5159337c",
   "metadata": {
    "execution": {
     "iopub.execute_input": "2024-05-26T18:23:12.362702Z",
     "iopub.status.busy": "2024-05-26T18:23:12.362287Z",
     "iopub.status.idle": "2024-05-26T18:23:12.710922Z",
     "shell.execute_reply": "2024-05-26T18:23:12.709581Z"
    },
    "papermill": {
     "duration": 0.3652,
     "end_time": "2024-05-26T18:23:12.713650",
     "exception": false,
     "start_time": "2024-05-26T18:23:12.348450",
     "status": "completed"
    },
    "tags": []
   },
   "outputs": [
    {
     "name": "stdout",
     "output_type": "stream",
     "text": [
      "torch.Size([1115394]) torch.int64\n",
      "tensor([18, 47, 56, 57, 58,  1, 15, 47, 58, 47, 64, 43, 52, 10,  0, 14, 43, 44,\n",
      "        53, 56, 43,  1, 61, 43,  1, 54, 56, 53, 41, 43, 43, 42,  1, 39, 52, 63,\n",
      "         1, 44, 59, 56, 58, 46, 43, 56,  6,  1, 46, 43, 39, 56,  1, 51, 43,  1,\n",
      "        57, 54, 43, 39, 49,  8,  0,  0, 13, 50, 50, 10,  0, 31, 54, 43, 39, 49,\n",
      "         6,  1, 57, 54, 43, 39, 49,  8,  0,  0, 18, 47, 56, 57, 58,  1, 15, 47,\n",
      "        58, 47, 64, 43, 52, 10,  0, 37, 53, 59])\n"
     ]
    }
   ],
   "source": [
    "data = torch.tensor(encode(text), dtype = torch.long)\n",
    "print(data.shape, data.dtype)\n",
    "print(data[:100])"
   ]
  },
  {
   "cell_type": "markdown",
   "id": "f482b26d",
   "metadata": {
    "papermill": {
     "duration": 0.012168,
     "end_time": "2024-05-26T18:23:12.738487",
     "exception": false,
     "start_time": "2024-05-26T18:23:12.726319",
     "status": "completed"
    },
    "tags": []
   },
   "source": [
    "### Train/Dev/Test split"
   ]
  },
  {
   "cell_type": "code",
   "execution_count": 9,
   "id": "7c4e50db",
   "metadata": {
    "execution": {
     "iopub.execute_input": "2024-05-26T18:23:12.765180Z",
     "iopub.status.busy": "2024-05-26T18:23:12.764752Z",
     "iopub.status.idle": "2024-05-26T18:23:12.770249Z",
     "shell.execute_reply": "2024-05-26T18:23:12.769119Z"
    },
    "papermill": {
     "duration": 0.021592,
     "end_time": "2024-05-26T18:23:12.772712",
     "exception": false,
     "start_time": "2024-05-26T18:23:12.751120",
     "status": "completed"
    },
    "tags": []
   },
   "outputs": [],
   "source": [
    "n = int(0.9*len(data))\n",
    "train_data = data[:n]\n",
    "val_data = data[n:]"
   ]
  },
  {
   "cell_type": "code",
   "execution_count": 10,
   "id": "a122bacc",
   "metadata": {
    "execution": {
     "iopub.execute_input": "2024-05-26T18:23:12.799353Z",
     "iopub.status.busy": "2024-05-26T18:23:12.798965Z",
     "iopub.status.idle": "2024-05-26T18:23:12.808329Z",
     "shell.execute_reply": "2024-05-26T18:23:12.807235Z"
    },
    "papermill": {
     "duration": 0.02556,
     "end_time": "2024-05-26T18:23:12.810864",
     "exception": false,
     "start_time": "2024-05-26T18:23:12.785304",
     "status": "completed"
    },
    "tags": []
   },
   "outputs": [
    {
     "data": {
      "text/plain": [
       "tensor([18, 47, 56, 57, 58,  1, 15, 47])"
      ]
     },
     "execution_count": 10,
     "metadata": {},
     "output_type": "execute_result"
    }
   ],
   "source": [
    "block_size = 8\n",
    "train_data[:block_size]"
   ]
  },
  {
   "cell_type": "code",
   "execution_count": 11,
   "id": "c5270404",
   "metadata": {
    "execution": {
     "iopub.execute_input": "2024-05-26T18:23:12.838113Z",
     "iopub.status.busy": "2024-05-26T18:23:12.837673Z",
     "iopub.status.idle": "2024-05-26T18:23:12.845623Z",
     "shell.execute_reply": "2024-05-26T18:23:12.844180Z"
    },
    "papermill": {
     "duration": 0.024085,
     "end_time": "2024-05-26T18:23:12.847956",
     "exception": false,
     "start_time": "2024-05-26T18:23:12.823871",
     "status": "completed"
    },
    "tags": []
   },
   "outputs": [
    {
     "name": "stdout",
     "output_type": "stream",
     "text": [
      "when the input is F the target is: i\n",
      "when the input is Fi the target is: r\n",
      "when the input is Fir the target is: s\n",
      "when the input is Firs the target is: t\n",
      "when the input is First the target is:  \n",
      "when the input is First  the target is: C\n",
      "when the input is First C the target is: i\n",
      "when the input is First Ci the target is: t\n"
     ]
    }
   ],
   "source": [
    "x = train_data[:block_size]\n",
    "y = train_data[1:block_size+1]\n",
    "for t in range(block_size):\n",
    "    context = x[:t+1]\n",
    "    target = y[t]\n",
    "    print(f\"when the input is {decode(context.tolist())} the target is: {decode([target.item()])}\")"
   ]
  },
  {
   "cell_type": "markdown",
   "id": "695651f0",
   "metadata": {
    "papermill": {
     "duration": 0.012217,
     "end_time": "2024-05-26T18:23:12.872798",
     "exception": false,
     "start_time": "2024-05-26T18:23:12.860581",
     "status": "completed"
    },
    "tags": []
   },
   "source": [
    "### Generalising Batch Dimension"
   ]
  },
  {
   "cell_type": "code",
   "execution_count": 12,
   "id": "45332c99",
   "metadata": {
    "execution": {
     "iopub.execute_input": "2024-05-26T18:23:12.900305Z",
     "iopub.status.busy": "2024-05-26T18:23:12.899447Z",
     "iopub.status.idle": "2024-05-26T18:23:12.941865Z",
     "shell.execute_reply": "2024-05-26T18:23:12.940717Z"
    },
    "papermill": {
     "duration": 0.059192,
     "end_time": "2024-05-26T18:23:12.944667",
     "exception": false,
     "start_time": "2024-05-26T18:23:12.885475",
     "status": "completed"
    },
    "tags": []
   },
   "outputs": [
    {
     "name": "stdout",
     "output_type": "stream",
     "text": [
      "inputs:\n",
      "torch.Size([4, 8])\n",
      "tensor([[24, 43, 58,  5, 57,  1, 46, 43],\n",
      "        [44, 53, 56,  1, 58, 46, 39, 58],\n",
      "        [52, 58,  1, 58, 46, 39, 58,  1],\n",
      "        [25, 17, 27, 10,  0, 21,  1, 54]])\n",
      "targets:\n",
      "torch.Size([4, 8])\n",
      "tensor([[43, 58,  5, 57,  1, 46, 43, 39],\n",
      "        [53, 56,  1, 58, 46, 39, 58,  1],\n",
      "        [58,  1, 58, 46, 39, 58,  1, 46],\n",
      "        [17, 27, 10,  0, 21,  1, 54, 39]])\n",
      "---------------\n",
      "when the input is L the target is: e\n",
      "when the input is Le the target is: t\n",
      "when the input is Let the target is: '\n",
      "when the input is Let' the target is: s\n",
      "when the input is Let's the target is:  \n",
      "when the input is Let's  the target is: h\n",
      "when the input is Let's h the target is: e\n",
      "when the input is Let's he the target is: a\n",
      "when the input is f the target is: o\n",
      "when the input is fo the target is: r\n",
      "when the input is for the target is:  \n",
      "when the input is for  the target is: t\n",
      "when the input is for t the target is: h\n",
      "when the input is for th the target is: a\n",
      "when the input is for tha the target is: t\n",
      "when the input is for that the target is:  \n",
      "when the input is n the target is: t\n",
      "when the input is nt the target is:  \n",
      "when the input is nt  the target is: t\n",
      "when the input is nt t the target is: h\n",
      "when the input is nt th the target is: a\n",
      "when the input is nt tha the target is: t\n",
      "when the input is nt that the target is:  \n",
      "when the input is nt that  the target is: h\n",
      "when the input is M the target is: E\n",
      "when the input is ME the target is: O\n",
      "when the input is MEO the target is: :\n",
      "when the input is MEO: the target is: \n",
      "\n",
      "when the input is MEO:\n",
      " the target is: I\n",
      "when the input is MEO:\n",
      "I the target is:  \n",
      "when the input is MEO:\n",
      "I  the target is: p\n",
      "when the input is MEO:\n",
      "I p the target is: a\n"
     ]
    }
   ],
   "source": [
    "torch.manual_seed(1337)\n",
    "batch_size = 4\n",
    "block_size = 8\n",
    "\n",
    "def get_batch(split):\n",
    "    # generate a small batch of data of inputs x and targets y\n",
    "    data = train_data if split == 'train' else val_data\n",
    "    ix = torch.randint(len(data) - block_size, (batch_size,))\n",
    "    x = torch.stack([data[i:i+block_size] for i in ix])\n",
    "    y = torch.stack([data[i+1:i+block_size+1] for i in ix])\n",
    "    return x, y\n",
    "\n",
    "xb, yb = get_batch('train')\n",
    "print('inputs:')\n",
    "print(xb.shape)\n",
    "print(xb)\n",
    "print('targets:')\n",
    "print(yb.shape)\n",
    "print(yb)\n",
    "print('---------------')\n",
    "\n",
    "for b in range(batch_size):\n",
    "    for t in range(block_size):\n",
    "        context = xb[b, :t+1]\n",
    "        target = yb[b, t]\n",
    "        print(f\"when the input is {decode(context.tolist())} the target is: {decode([target.item()])}\")"
   ]
  },
  {
   "cell_type": "markdown",
   "id": "0afbb1bb",
   "metadata": {
    "papermill": {
     "duration": 0.012324,
     "end_time": "2024-05-26T18:23:12.969811",
     "exception": false,
     "start_time": "2024-05-26T18:23:12.957487",
     "status": "completed"
    },
    "tags": []
   },
   "source": [
    "# Bigram Model"
   ]
  },
  {
   "cell_type": "code",
   "execution_count": 13,
   "id": "e1d69f87",
   "metadata": {
    "execution": {
     "iopub.execute_input": "2024-05-26T18:23:12.998006Z",
     "iopub.status.busy": "2024-05-26T18:23:12.996986Z",
     "iopub.status.idle": "2024-05-26T18:23:13.070104Z",
     "shell.execute_reply": "2024-05-26T18:23:13.068901Z"
    },
    "papermill": {
     "duration": 0.090196,
     "end_time": "2024-05-26T18:23:13.072830",
     "exception": false,
     "start_time": "2024-05-26T18:23:12.982634",
     "status": "completed"
    },
    "tags": []
   },
   "outputs": [
    {
     "name": "stdout",
     "output_type": "stream",
     "text": [
      "torch.Size([32, 65]) tensor(4.8786, grad_fn=<NllLossBackward0>)\n"
     ]
    }
   ],
   "source": [
    "torch.manual_seed(1337)\n",
    "\n",
    "class BigramLanguageModel(nn.Module):\n",
    "    \n",
    "    def __init__(self, vocab_size):\n",
    "        super().__init__()\n",
    "        self.token_embedding_table = nn.Embedding(vocab_size, vocab_size)\n",
    "    \n",
    "    def forward(self, idx, targets = None):\n",
    "        logits = self.token_embedding_table(idx)\n",
    "\n",
    "        if targets is None:\n",
    "            loss = None\n",
    "        else:\n",
    "            B, T, C = logits.shape\n",
    "            logits = logits.view(B*T, C)\n",
    "            targets = targets.view(B*T)\n",
    "            loss = F.cross_entropy(logits, targets)\n",
    "        \n",
    "        return logits, loss\n",
    "    \n",
    "    def generate(self, idx, max_new_tokens):\n",
    "        # idx is (B, T) array of indices in the current context\n",
    "        for _ in range(max_new_tokens):\n",
    "            # get ther predictions\n",
    "            logits, loss = self(idx)\n",
    "            # focus only on the last time step\n",
    "            logits = logits[:, -1, :] # becomes (B, C)\n",
    "            # apply softmax to get probabilities\n",
    "            probs = F.softmax(logits, dim = 1)\n",
    "            # sample from the distribution\n",
    "            idx_next = torch.multinomial(probs, num_samples = 1) # (B, 1)\n",
    "            # append sampled index to the running sequence\n",
    "            idx = torch.cat((idx, idx_next), dim = 1) # (B, T+1)\n",
    "        return idx\n",
    "    \n",
    "m = BigramLanguageModel(vocab_size)\n",
    "out, loss = m(xb, yb)\n",
    "print(out.shape, loss) # (batch, context, embeddings)"
   ]
  },
  {
   "cell_type": "code",
   "execution_count": 14,
   "id": "2834c64c",
   "metadata": {
    "execution": {
     "iopub.execute_input": "2024-05-26T18:23:13.101669Z",
     "iopub.status.busy": "2024-05-26T18:23:13.101244Z",
     "iopub.status.idle": "2024-05-26T18:23:13.142386Z",
     "shell.execute_reply": "2024-05-26T18:23:13.141200Z"
    },
    "papermill": {
     "duration": 0.058253,
     "end_time": "2024-05-26T18:23:13.144803",
     "exception": false,
     "start_time": "2024-05-26T18:23:13.086550",
     "status": "completed"
    },
    "tags": []
   },
   "outputs": [
    {
     "name": "stdout",
     "output_type": "stream",
     "text": [
      "\n",
      "Sr?qP-QWktXoL&jLDJgOLVz'RIoDqHdhsV&vLLxatjscMpwLERSPyao.qfzs$Ys$zF-w,;eEkzxjgCKFChs!iWW.ObzDnxA Ms$3\n"
     ]
    }
   ],
   "source": [
    "idx = torch.zeros((1, 1), dtype = torch.long)\n",
    "print(decode(m.generate(idx, max_new_tokens = 100)[0].tolist()))"
   ]
  },
  {
   "cell_type": "markdown",
   "id": "b16b5d5b",
   "metadata": {
    "papermill": {
     "duration": 0.013356,
     "end_time": "2024-05-26T18:23:13.171456",
     "exception": false,
     "start_time": "2024-05-26T18:23:13.158100",
     "status": "completed"
    },
    "tags": []
   },
   "source": [
    "## Pytorch Optimization Object "
   ]
  },
  {
   "cell_type": "code",
   "execution_count": 15,
   "id": "3aac9922",
   "metadata": {
    "execution": {
     "iopub.execute_input": "2024-05-26T18:23:13.199888Z",
     "iopub.status.busy": "2024-05-26T18:23:13.198905Z",
     "iopub.status.idle": "2024-05-26T18:23:16.026901Z",
     "shell.execute_reply": "2024-05-26T18:23:16.025833Z"
    },
    "papermill": {
     "duration": 2.845062,
     "end_time": "2024-05-26T18:23:16.029698",
     "exception": false,
     "start_time": "2024-05-26T18:23:13.184636",
     "status": "completed"
    },
    "tags": []
   },
   "outputs": [],
   "source": [
    "optimizer = torch.optim.AdamW(m.parameters(), lr = 1e-3)"
   ]
  },
  {
   "cell_type": "code",
   "execution_count": 16,
   "id": "1999ff46",
   "metadata": {
    "execution": {
     "iopub.execute_input": "2024-05-26T18:23:16.058589Z",
     "iopub.status.busy": "2024-05-26T18:23:16.058066Z",
     "iopub.status.idle": "2024-05-26T18:23:35.346784Z",
     "shell.execute_reply": "2024-05-26T18:23:35.345638Z"
    },
    "papermill": {
     "duration": 19.306444,
     "end_time": "2024-05-26T18:23:35.349652",
     "exception": false,
     "start_time": "2024-05-26T18:23:16.043208",
     "status": "completed"
    },
    "tags": []
   },
   "outputs": [
    {
     "name": "stdout",
     "output_type": "stream",
     "text": [
      "2.5727508068084717\n"
     ]
    }
   ],
   "source": [
    "batch_size = 32\n",
    "for steps in range(10_000):\n",
    "    # sample a batch of data\n",
    "    xb, yb = get_batch('train')\n",
    "    \n",
    "    # evaluate the loss\n",
    "    logits, loss = m(xb, yb)\n",
    "    optimizer.zero_grad(set_to_none = True)\n",
    "    loss.backward()\n",
    "    optimizer.step()\n",
    "    \n",
    "print(loss.item())"
   ]
  },
  {
   "cell_type": "code",
   "execution_count": 17,
   "id": "4b862ea8",
   "metadata": {
    "execution": {
     "iopub.execute_input": "2024-05-26T18:23:35.379362Z",
     "iopub.status.busy": "2024-05-26T18:23:35.378945Z",
     "iopub.status.idle": "2024-05-26T18:23:35.401705Z",
     "shell.execute_reply": "2024-05-26T18:23:35.400013Z"
    },
    "papermill": {
     "duration": 0.04007,
     "end_time": "2024-05-26T18:23:35.404381",
     "exception": false,
     "start_time": "2024-05-26T18:23:35.364311",
     "status": "completed"
    },
    "tags": []
   },
   "outputs": [
    {
     "name": "stdout",
     "output_type": "stream",
     "text": [
      "\n",
      "Iyoteng h hasbe pave pirance\n",
      "Rie hicomyonthar's\n",
      "Plinseard ith henoure wounonthioneir thondy, y helti\n"
     ]
    }
   ],
   "source": [
    "idx = torch.zeros((1, 1), dtype = torch.long)\n",
    "print(decode(m.generate(idx, max_new_tokens = 100)[0].tolist()))"
   ]
  },
  {
   "cell_type": "markdown",
   "id": "faeee89d",
   "metadata": {
    "papermill": {
     "duration": 0.012915,
     "end_time": "2024-05-26T18:23:35.430734",
     "exception": false,
     "start_time": "2024-05-26T18:23:35.417819",
     "status": "completed"
    },
    "tags": []
   },
   "source": [
    "## The mathematical trick in self-attention"
   ]
  },
  {
   "cell_type": "code",
   "execution_count": 18,
   "id": "df77b8a6",
   "metadata": {
    "execution": {
     "iopub.execute_input": "2024-05-26T18:23:35.458999Z",
     "iopub.status.busy": "2024-05-26T18:23:35.458466Z",
     "iopub.status.idle": "2024-05-26T18:23:35.467973Z",
     "shell.execute_reply": "2024-05-26T18:23:35.466916Z"
    },
    "papermill": {
     "duration": 0.026292,
     "end_time": "2024-05-26T18:23:35.470319",
     "exception": false,
     "start_time": "2024-05-26T18:23:35.444027",
     "status": "completed"
    },
    "tags": []
   },
   "outputs": [
    {
     "data": {
      "text/plain": [
       "torch.Size([4, 8, 2])"
      ]
     },
     "execution_count": 18,
     "metadata": {},
     "output_type": "execute_result"
    }
   ],
   "source": [
    "torch.manual_seed(1337)\n",
    "B, T, C = 4, 8, 2 # batch, time, channels\n",
    "x = torch.randn(B, T, C)\n",
    "x.shape"
   ]
  },
  {
   "cell_type": "code",
   "execution_count": 19,
   "id": "a615a3e0",
   "metadata": {
    "execution": {
     "iopub.execute_input": "2024-05-26T18:23:35.500620Z",
     "iopub.status.busy": "2024-05-26T18:23:35.499675Z",
     "iopub.status.idle": "2024-05-26T18:23:35.510910Z",
     "shell.execute_reply": "2024-05-26T18:23:35.510010Z"
    },
    "papermill": {
     "duration": 0.029184,
     "end_time": "2024-05-26T18:23:35.513436",
     "exception": false,
     "start_time": "2024-05-26T18:23:35.484252",
     "status": "completed"
    },
    "tags": []
   },
   "outputs": [],
   "source": [
    "# We want x[b, t] = mean_{i <= t} x[b, i]\n",
    "xbow = torch.zeros((B, T, C)) # bow -> bag of words\n",
    "for b in range(B):\n",
    "    for t in range(T):\n",
    "        xprev = x[b, :t+1] # (t, C)\n",
    "        xbow[b, t] = torch.mean(xprev, 0)"
   ]
  },
  {
   "cell_type": "code",
   "execution_count": 20,
   "id": "aa962ac1",
   "metadata": {
    "execution": {
     "iopub.execute_input": "2024-05-26T18:23:35.542918Z",
     "iopub.status.busy": "2024-05-26T18:23:35.541669Z",
     "iopub.status.idle": "2024-05-26T18:23:35.550567Z",
     "shell.execute_reply": "2024-05-26T18:23:35.549486Z"
    },
    "papermill": {
     "duration": 0.02614,
     "end_time": "2024-05-26T18:23:35.553124",
     "exception": false,
     "start_time": "2024-05-26T18:23:35.526984",
     "status": "completed"
    },
    "tags": []
   },
   "outputs": [],
   "source": [
    "wei = torch.tril(torch.ones(T, T))\n",
    "wei = wei / wei.sum(1, keepdims = True)\n",
    "xbow2 = wei @ x # (T, T) @ (B, T, C) -> (B, T, C) @ (T, T, C) -> (B, T, C)"
   ]
  },
  {
   "cell_type": "markdown",
   "id": "8d43a725",
   "metadata": {
    "papermill": {
     "duration": 0.013298,
     "end_time": "2024-05-26T18:23:35.579972",
     "exception": false,
     "start_time": "2024-05-26T18:23:35.566674",
     "status": "completed"
    },
    "tags": []
   },
   "source": [
    "## Using Softmax"
   ]
  },
  {
   "cell_type": "code",
   "execution_count": 21,
   "id": "d780159e",
   "metadata": {
    "execution": {
     "iopub.execute_input": "2024-05-26T18:23:35.608436Z",
     "iopub.status.busy": "2024-05-26T18:23:35.608064Z",
     "iopub.status.idle": "2024-05-26T18:23:35.616805Z",
     "shell.execute_reply": "2024-05-26T18:23:35.615768Z"
    },
    "papermill": {
     "duration": 0.025973,
     "end_time": "2024-05-26T18:23:35.619316",
     "exception": false,
     "start_time": "2024-05-26T18:23:35.593343",
     "status": "completed"
    },
    "tags": []
   },
   "outputs": [],
   "source": [
    "tril = torch.tril(torch.ones(T, T))\n",
    "wei = torch.zeros((T, T))\n",
    "wei = wei.masked_fill(tril == 0, float('-inf'))\n",
    "wei = F.softmax(wei, dim = 1) # on each row\n",
    "xbow3 = wei @ x"
   ]
  },
  {
   "cell_type": "markdown",
   "id": "c1db7620",
   "metadata": {
    "papermill": {
     "duration": 0.012974,
     "end_time": "2024-05-26T18:23:35.645795",
     "exception": false,
     "start_time": "2024-05-26T18:23:35.632821",
     "status": "completed"
    },
    "tags": []
   },
   "source": [
    "#### The trick"
   ]
  },
  {
   "cell_type": "code",
   "execution_count": 22,
   "id": "58c0e240",
   "metadata": {
    "execution": {
     "iopub.execute_input": "2024-05-26T18:23:35.674401Z",
     "iopub.status.busy": "2024-05-26T18:23:35.674005Z",
     "iopub.status.idle": "2024-05-26T18:23:35.692627Z",
     "shell.execute_reply": "2024-05-26T18:23:35.691391Z"
    },
    "papermill": {
     "duration": 0.0358,
     "end_time": "2024-05-26T18:23:35.695240",
     "exception": false,
     "start_time": "2024-05-26T18:23:35.659440",
     "status": "completed"
    },
    "tags": []
   },
   "outputs": [
    {
     "name": "stdout",
     "output_type": "stream",
     "text": [
      "tensor([[1., 0., 0.],\n",
      "        [1., 1., 0.],\n",
      "        [1., 1., 1.]])\n",
      "tensor([[5., 7.],\n",
      "        [2., 0.],\n",
      "        [5., 3.]])\n"
     ]
    },
    {
     "data": {
      "text/plain": [
       "tensor([[ 5.,  7.],\n",
       "        [ 7.,  7.],\n",
       "        [12., 10.]])"
      ]
     },
     "execution_count": 22,
     "metadata": {},
     "output_type": "execute_result"
    }
   ],
   "source": [
    "torch.manual_seed(1337)\n",
    "a = torch.tril(torch.ones(3, 3))\n",
    "print(a)\n",
    "b = torch.randint(0, 10, (3, 2)).float()\n",
    "print(b)\n",
    "c = a @ b\n",
    "c # sum of the numbers"
   ]
  },
  {
   "cell_type": "code",
   "execution_count": 23,
   "id": "398babc6",
   "metadata": {
    "execution": {
     "iopub.execute_input": "2024-05-26T18:23:35.725580Z",
     "iopub.status.busy": "2024-05-26T18:23:35.725192Z",
     "iopub.status.idle": "2024-05-26T18:23:35.737331Z",
     "shell.execute_reply": "2024-05-26T18:23:35.736154Z"
    },
    "papermill": {
     "duration": 0.030613,
     "end_time": "2024-05-26T18:23:35.739571",
     "exception": false,
     "start_time": "2024-05-26T18:23:35.708958",
     "status": "completed"
    },
    "tags": []
   },
   "outputs": [
    {
     "name": "stdout",
     "output_type": "stream",
     "text": [
      "tensor([[5., 7.],\n",
      "        [2., 0.],\n",
      "        [5., 3.]])\n"
     ]
    },
    {
     "data": {
      "text/plain": [
       "tensor([[5.0000, 7.0000],\n",
       "        [3.5000, 3.5000],\n",
       "        [4.0000, 3.3333]])"
      ]
     },
     "execution_count": 23,
     "metadata": {},
     "output_type": "execute_result"
    }
   ],
   "source": [
    "torch.manual_seed(1337)\n",
    "a = torch.tril(torch.ones(3, 3))\n",
    "a = a/torch.sum(a, 1, keepdim = True)\n",
    "b = torch.randint(0, 10, (3, 2)).float()\n",
    "print(b)\n",
    "c = a@b\n",
    "c"
   ]
  },
  {
   "cell_type": "markdown",
   "id": "97aa28f2",
   "metadata": {
    "papermill": {
     "duration": 0.013726,
     "end_time": "2024-05-26T18:23:35.767389",
     "exception": false,
     "start_time": "2024-05-26T18:23:35.753663",
     "status": "completed"
    },
    "tags": []
   },
   "source": [
    "## Self Attention"
   ]
  },
  {
   "cell_type": "code",
   "execution_count": 24,
   "id": "c3616b62",
   "metadata": {
    "execution": {
     "iopub.execute_input": "2024-05-26T18:23:35.797878Z",
     "iopub.status.busy": "2024-05-26T18:23:35.796969Z",
     "iopub.status.idle": "2024-05-26T18:23:35.810565Z",
     "shell.execute_reply": "2024-05-26T18:23:35.809489Z"
    },
    "papermill": {
     "duration": 0.031975,
     "end_time": "2024-05-26T18:23:35.813439",
     "exception": false,
     "start_time": "2024-05-26T18:23:35.781464",
     "status": "completed"
    },
    "tags": []
   },
   "outputs": [
    {
     "data": {
      "text/plain": [
       "torch.Size([4, 8, 32])"
      ]
     },
     "execution_count": 24,
     "metadata": {},
     "output_type": "execute_result"
    }
   ],
   "source": [
    "torch.manual_seed(1337)\n",
    "B, T, C = 4, 8, 32 # batch, context, embeddings\n",
    "x = torch.randn(B, T, C)\n",
    "\n",
    "tril = torch.tril(torch.ones(T, T))\n",
    "wei = torch.zeros((T, T))\n",
    "wei = wei.masked_fill(tril == 0, float('-inf')) # decoder blocks have this, encoder blocks, we delete these\n",
    "wei = F.softmax(wei, dim = 1)\n",
    "out = wei @ x\n",
    "\n",
    "out.shape"
   ]
  },
  {
   "cell_type": "code",
   "execution_count": 25,
   "id": "8df2580f",
   "metadata": {
    "execution": {
     "iopub.execute_input": "2024-05-26T18:23:35.843810Z",
     "iopub.status.busy": "2024-05-26T18:23:35.843413Z",
     "iopub.status.idle": "2024-05-26T18:23:35.862957Z",
     "shell.execute_reply": "2024-05-26T18:23:35.861892Z"
    },
    "papermill": {
     "duration": 0.037209,
     "end_time": "2024-05-26T18:23:35.865326",
     "exception": false,
     "start_time": "2024-05-26T18:23:35.828117",
     "status": "completed"
    },
    "tags": []
   },
   "outputs": [
    {
     "data": {
      "text/plain": [
       "torch.Size([4, 8, 16])"
      ]
     },
     "execution_count": 25,
     "metadata": {},
     "output_type": "execute_result"
    }
   ],
   "source": [
    "torch.manual_seed(1337)\n",
    "B, T, C = 4, 8, 32 # batch, context, embeddings\n",
    "x = torch.randn(B, T, C)\n",
    "\n",
    "# let's see a single Head perform self-attention\n",
    "head_size = 16 # hyperparameter\n",
    "key = nn.Linear(C, head_size, bias = False) # W_k (embeddings, head_size)\n",
    "query = nn.Linear(C, head_size, bias = False) # W_b (embeddings, head_size)\n",
    "value = nn.Linear(C, head_size, bias = False) # W_b (embeddings, head_size)\n",
    "\n",
    "# Attention(Q, K, V) = softmax(QK.T / sqrt(d_k))V\n",
    "Q = query(x) # (batch, context, head_size)\n",
    "K = key(x) # (batch, context, head_size)\n",
    "V = value(x) # (batch, context, head_size)\n",
    "\n",
    "wei = Q @ K.transpose(-2, -1) # (batch, context, context)\n",
    "# now if our Q and K are unit gaussian, then our wei will have a var of off the order of headsize\n",
    "# hence we divide by *head_size**-0.5 to preserve this variance\n",
    "wei /= head_size**0.5\n",
    "tril = torch.tril(torch.ones(T, T)) # (context, context)\n",
    "wei = wei.masked_fill(tril == 0, float('-inf'))\n",
    "# this is important because wei feeds into softmax\n",
    "wei = F.softmax(wei, dim = -1)\n",
    "out = wei @ V\n",
    "# out = wei @ x\n",
    "\n",
    "out.shape"
   ]
  },
  {
   "cell_type": "code",
   "execution_count": 26,
   "id": "0b8f5607",
   "metadata": {
    "execution": {
     "iopub.execute_input": "2024-05-26T18:23:35.895813Z",
     "iopub.status.busy": "2024-05-26T18:23:35.895430Z",
     "iopub.status.idle": "2024-05-26T18:23:35.904901Z",
     "shell.execute_reply": "2024-05-26T18:23:35.903896Z"
    },
    "papermill": {
     "duration": 0.027246,
     "end_time": "2024-05-26T18:23:35.907148",
     "exception": false,
     "start_time": "2024-05-26T18:23:35.879902",
     "status": "completed"
    },
    "tags": []
   },
   "outputs": [
    {
     "data": {
      "text/plain": [
       "tensor([[[1.0000, 0.0000, 0.0000, 0.0000, 0.0000, 0.0000, 0.0000, 0.0000],\n",
       "         [0.3966, 0.6034, 0.0000, 0.0000, 0.0000, 0.0000, 0.0000, 0.0000],\n",
       "         [0.3069, 0.2892, 0.4039, 0.0000, 0.0000, 0.0000, 0.0000, 0.0000],\n",
       "         [0.3233, 0.2175, 0.2443, 0.2149, 0.0000, 0.0000, 0.0000, 0.0000],\n",
       "         [0.1479, 0.2034, 0.1663, 0.1455, 0.3369, 0.0000, 0.0000, 0.0000],\n",
       "         [0.1259, 0.2490, 0.1324, 0.1062, 0.3141, 0.0724, 0.0000, 0.0000],\n",
       "         [0.1598, 0.1990, 0.1140, 0.1125, 0.1418, 0.1669, 0.1061, 0.0000],\n",
       "         [0.0845, 0.1197, 0.1078, 0.1537, 0.1086, 0.1146, 0.1558, 0.1553]],\n",
       "\n",
       "        [[1.0000, 0.0000, 0.0000, 0.0000, 0.0000, 0.0000, 0.0000, 0.0000],\n",
       "         [0.4016, 0.5984, 0.0000, 0.0000, 0.0000, 0.0000, 0.0000, 0.0000],\n",
       "         [0.3365, 0.2271, 0.4364, 0.0000, 0.0000, 0.0000, 0.0000, 0.0000],\n",
       "         [0.3019, 0.2060, 0.2899, 0.2022, 0.0000, 0.0000, 0.0000, 0.0000],\n",
       "         [0.1058, 0.1700, 0.1530, 0.3451, 0.2261, 0.0000, 0.0000, 0.0000],\n",
       "         [0.1526, 0.1645, 0.1357, 0.2684, 0.1919, 0.0869, 0.0000, 0.0000],\n",
       "         [0.1103, 0.1711, 0.0761, 0.1654, 0.1667, 0.1643, 0.1461, 0.0000],\n",
       "         [0.1770, 0.1063, 0.1198, 0.0943, 0.1697, 0.1205, 0.1052, 0.1073]],\n",
       "\n",
       "        [[1.0000, 0.0000, 0.0000, 0.0000, 0.0000, 0.0000, 0.0000, 0.0000],\n",
       "         [0.4955, 0.5045, 0.0000, 0.0000, 0.0000, 0.0000, 0.0000, 0.0000],\n",
       "         [0.2861, 0.3657, 0.3483, 0.0000, 0.0000, 0.0000, 0.0000, 0.0000],\n",
       "         [0.1242, 0.3939, 0.1981, 0.2838, 0.0000, 0.0000, 0.0000, 0.0000],\n",
       "         [0.3531, 0.1668, 0.1768, 0.1813, 0.1220, 0.0000, 0.0000, 0.0000],\n",
       "         [0.1553, 0.1779, 0.1492, 0.1539, 0.1723, 0.1914, 0.0000, 0.0000],\n",
       "         [0.0722, 0.1255, 0.1119, 0.1896, 0.1537, 0.1918, 0.1552, 0.0000],\n",
       "         [0.1344, 0.1368, 0.0970, 0.1395, 0.1292, 0.1304, 0.0790, 0.1535]],\n",
       "\n",
       "        [[1.0000, 0.0000, 0.0000, 0.0000, 0.0000, 0.0000, 0.0000, 0.0000],\n",
       "         [0.5351, 0.4649, 0.0000, 0.0000, 0.0000, 0.0000, 0.0000, 0.0000],\n",
       "         [0.3776, 0.4907, 0.1317, 0.0000, 0.0000, 0.0000, 0.0000, 0.0000],\n",
       "         [0.3079, 0.2849, 0.2206, 0.1865, 0.0000, 0.0000, 0.0000, 0.0000],\n",
       "         [0.2074, 0.2611, 0.1368, 0.2071, 0.1876, 0.0000, 0.0000, 0.0000],\n",
       "         [0.1733, 0.3004, 0.0656, 0.1682, 0.1669, 0.1255, 0.0000, 0.0000],\n",
       "         [0.1216, 0.1213, 0.1416, 0.1119, 0.1439, 0.2213, 0.1383, 0.0000],\n",
       "         [0.0925, 0.1598, 0.0945, 0.1355, 0.1356, 0.1086, 0.1185, 0.1548]]],\n",
       "       grad_fn=<SoftmaxBackward0>)"
      ]
     },
     "execution_count": 26,
     "metadata": {},
     "output_type": "execute_result"
    }
   ],
   "source": [
    "wei"
   ]
  },
  {
   "cell_type": "code",
   "execution_count": null,
   "id": "ec7c5655",
   "metadata": {
    "papermill": {
     "duration": 0.014049,
     "end_time": "2024-05-26T18:23:35.935809",
     "exception": false,
     "start_time": "2024-05-26T18:23:35.921760",
     "status": "completed"
    },
    "tags": []
   },
   "outputs": [],
   "source": []
  },
  {
   "cell_type": "code",
   "execution_count": null,
   "id": "1e9be8b7",
   "metadata": {
    "papermill": {
     "duration": 0.014149,
     "end_time": "2024-05-26T18:23:35.964673",
     "exception": false,
     "start_time": "2024-05-26T18:23:35.950524",
     "status": "completed"
    },
    "tags": []
   },
   "outputs": [],
   "source": []
  }
 ],
 "metadata": {
  "kaggle": {
   "accelerator": "none",
   "dataSources": [],
   "dockerImageVersionId": 30698,
   "isGpuEnabled": false,
   "isInternetEnabled": true,
   "language": "python",
   "sourceType": "notebook"
  },
  "kernelspec": {
   "display_name": "Python 3",
   "language": "python",
   "name": "python3"
  },
  "language_info": {
   "codemirror_mode": {
    "name": "ipython",
    "version": 3
   },
   "file_extension": ".py",
   "mimetype": "text/x-python",
   "name": "python",
   "nbconvert_exporter": "python",
   "pygments_lexer": "ipython3",
   "version": "3.10.13"
  },
  "papermill": {
   "default_parameters": {},
   "duration": 34.179475,
   "end_time": "2024-05-26T18:23:38.186467",
   "environment_variables": {},
   "exception": null,
   "input_path": "__notebook__.ipynb",
   "output_path": "__notebook__.ipynb",
   "parameters": {},
   "start_time": "2024-05-26T18:23:04.006992",
   "version": "2.5.0"
  }
 },
 "nbformat": 4,
 "nbformat_minor": 5
}
