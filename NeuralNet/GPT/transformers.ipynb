{
 "cells": [
  {
   "cell_type": "code",
   "execution_count": 1,
   "id": "993473aa",
   "metadata": {
    "_cell_guid": "b1076dfc-b9ad-4769-8c92-a6c4dae69d19",
    "_uuid": "8f2839f25d086af736a60e9eeb907d3b93b6e0e5",
    "execution": {
     "iopub.execute_input": "2024-05-24T10:15:17.389878Z",
     "iopub.status.busy": "2024-05-24T10:15:17.389095Z",
     "iopub.status.idle": "2024-05-24T10:15:18.761582Z",
     "shell.execute_reply": "2024-05-24T10:15:18.760351Z"
    },
    "papermill": {
     "duration": 1.38225,
     "end_time": "2024-05-24T10:15:18.764745",
     "exception": false,
     "start_time": "2024-05-24T10:15:17.382495",
     "status": "completed"
    },
    "tags": []
   },
   "outputs": [
    {
     "name": "stdout",
     "output_type": "stream",
     "text": [
      "--2024-05-24 10:15:18--  https://raw.githubusercontent.com/karpathy/char-rnn/master/data/tinyshakespeare/input.txt\r\n",
      "Resolving raw.githubusercontent.com (raw.githubusercontent.com)... 185.199.108.133, 185.199.111.133, 185.199.110.133, ...\r\n",
      "Connecting to raw.githubusercontent.com (raw.githubusercontent.com)|185.199.108.133|:443... connected.\r\n",
      "HTTP request sent, awaiting response... 200 OK\r\n",
      "Length: 1115394 (1.1M) [text/plain]\r\n",
      "Saving to: 'input.txt'\r\n",
      "\r\n",
      "input.txt           100%[===================>]   1.06M  --.-KB/s    in 0.04s   \r\n",
      "\r\n",
      "2024-05-24 10:15:18 (28.4 MB/s) - 'input.txt' saved [1115394/1115394]\r\n",
      "\r\n"
     ]
    }
   ],
   "source": [
    "# We always start with a dataset to train on. Let's download the tiny shakespeare dataset\n",
    "!wget https://raw.githubusercontent.com/karpathy/char-rnn/master/data/tinyshakespeare/input.txt"
   ]
  },
  {
   "cell_type": "code",
   "execution_count": 2,
   "id": "6fce82dd",
   "metadata": {
    "execution": {
     "iopub.execute_input": "2024-05-24T10:15:18.776407Z",
     "iopub.status.busy": "2024-05-24T10:15:18.775966Z",
     "iopub.status.idle": "2024-05-24T10:15:18.785048Z",
     "shell.execute_reply": "2024-05-24T10:15:18.783478Z"
    },
    "papermill": {
     "duration": 0.01809,
     "end_time": "2024-05-24T10:15:18.787652",
     "exception": false,
     "start_time": "2024-05-24T10:15:18.769562",
     "status": "completed"
    },
    "tags": []
   },
   "outputs": [],
   "source": [
    "with open('input.txt', 'r', encoding='utf-8') as f:\n",
    "    text = f.read()"
   ]
  },
  {
   "cell_type": "code",
   "execution_count": 3,
   "id": "4365b420",
   "metadata": {
    "execution": {
     "iopub.execute_input": "2024-05-24T10:15:18.798477Z",
     "iopub.status.busy": "2024-05-24T10:15:18.798022Z",
     "iopub.status.idle": "2024-05-24T10:15:18.804616Z",
     "shell.execute_reply": "2024-05-24T10:15:18.803313Z"
    },
    "papermill": {
     "duration": 0.014815,
     "end_time": "2024-05-24T10:15:18.807169",
     "exception": false,
     "start_time": "2024-05-24T10:15:18.792354",
     "status": "completed"
    },
    "tags": []
   },
   "outputs": [
    {
     "name": "stdout",
     "output_type": "stream",
     "text": [
      "length fo dataset in characters:  1115394\n"
     ]
    }
   ],
   "source": [
    "print('length fo dataset in characters: ', len(text))"
   ]
  },
  {
   "cell_type": "code",
   "execution_count": 4,
   "id": "51c067d2",
   "metadata": {
    "execution": {
     "iopub.execute_input": "2024-05-24T10:15:18.817369Z",
     "iopub.status.busy": "2024-05-24T10:15:18.817008Z",
     "iopub.status.idle": "2024-05-24T10:15:18.822661Z",
     "shell.execute_reply": "2024-05-24T10:15:18.821220Z"
    },
    "papermill": {
     "duration": 0.014058,
     "end_time": "2024-05-24T10:15:18.825424",
     "exception": false,
     "start_time": "2024-05-24T10:15:18.811366",
     "status": "completed"
    },
    "tags": []
   },
   "outputs": [
    {
     "name": "stdout",
     "output_type": "stream",
     "text": [
      "First Citizen:\n",
      "Before we proceed any further, hear me speak.\n",
      "\n",
      "All:\n",
      "Speak, speak.\n",
      "\n",
      "First Citizen:\n",
      "You are all resolved rather to die than to famish?\n",
      "\n",
      "All:\n",
      "Resolved. resolved.\n",
      "\n",
      "First Citizen:\n",
      "First, you know Caius Marcius is chief enemy to the people.\n",
      "\n",
      "All:\n",
      "We know't, we know't.\n",
      "\n",
      "First Citizen:\n",
      "Let us kill him, and we'll have corn at our own price.\n",
      "Is't a verdict?\n",
      "\n",
      "All:\n",
      "No more talking on't; let it be done: away, away!\n",
      "\n",
      "Second Citizen:\n",
      "One word, good citizens.\n",
      "\n",
      "First Citizen:\n",
      "We are accounted poor citizens, the patricians good.\n",
      "What authority surfeits on would relieve us: if they\n",
      "would yield us but the superfluity, while it were\n",
      "wholesome, we might guess they relieved us humanely;\n",
      "but they think we are too dear: the leanness that\n",
      "afflicts us, the object of our misery, is as an\n",
      "inventory to particularise their abundance; our\n",
      "sufferance is a gain to them Let us revenge this with\n",
      "our pikes, ere we become rakes: for the gods know I\n",
      "speak this in hunger for bread, not in thirst for revenge.\n",
      "\n",
      "\n"
     ]
    }
   ],
   "source": [
    "print(text[:1000])"
   ]
  },
  {
   "cell_type": "markdown",
   "id": "a75a6254",
   "metadata": {
    "papermill": {
     "duration": 0.004026,
     "end_time": "2024-05-24T10:15:18.833862",
     "exception": false,
     "start_time": "2024-05-24T10:15:18.829836",
     "status": "completed"
    },
    "tags": []
   },
   "source": [
    "### Populating the vocabulary"
   ]
  },
  {
   "cell_type": "code",
   "execution_count": 5,
   "id": "83b1b6db",
   "metadata": {
    "execution": {
     "iopub.execute_input": "2024-05-24T10:15:18.844194Z",
     "iopub.status.busy": "2024-05-24T10:15:18.843818Z",
     "iopub.status.idle": "2024-05-24T10:15:18.869210Z",
     "shell.execute_reply": "2024-05-24T10:15:18.867706Z"
    },
    "papermill": {
     "duration": 0.03361,
     "end_time": "2024-05-24T10:15:18.871751",
     "exception": false,
     "start_time": "2024-05-24T10:15:18.838141",
     "status": "completed"
    },
    "tags": []
   },
   "outputs": [
    {
     "name": "stdout",
     "output_type": "stream",
     "text": [
      "\n",
      " !$&',-.3:;?ABCDEFGHIJKLMNOPQRSTUVWXYZabcdefghijklmnopqrstuvwxyz\n",
      "65\n"
     ]
    }
   ],
   "source": [
    "chars = sorted(list(set(text)))\n",
    "vocab_size = len(chars)\n",
    "print(''.join(chars))\n",
    "print(vocab_size)"
   ]
  },
  {
   "cell_type": "markdown",
   "id": "5286fba7",
   "metadata": {
    "papermill": {
     "duration": 0.004145,
     "end_time": "2024-05-24T10:15:18.880366",
     "exception": false,
     "start_time": "2024-05-24T10:15:18.876221",
     "status": "completed"
    },
    "tags": []
   },
   "source": [
    "### Tokenization"
   ]
  },
  {
   "cell_type": "code",
   "execution_count": 6,
   "id": "7bcc16d6",
   "metadata": {
    "execution": {
     "iopub.execute_input": "2024-05-24T10:15:18.891456Z",
     "iopub.status.busy": "2024-05-24T10:15:18.890988Z",
     "iopub.status.idle": "2024-05-24T10:15:18.899947Z",
     "shell.execute_reply": "2024-05-24T10:15:18.898242Z"
    },
    "papermill": {
     "duration": 0.017862,
     "end_time": "2024-05-24T10:15:18.902754",
     "exception": false,
     "start_time": "2024-05-24T10:15:18.884892",
     "status": "completed"
    },
    "tags": []
   },
   "outputs": [
    {
     "name": "stdout",
     "output_type": "stream",
     "text": [
      "[46, 47, 47, 1, 58, 46, 43, 56, 43, 56]\n",
      "hii therer\n"
     ]
    }
   ],
   "source": [
    "stoi = {ch:i for i, ch in enumerate(chars)}\n",
    "itos = {i:ch for i, ch in enumerate(chars)}\n",
    "encode = lambda s: [stoi[c] for c in s] # encoder: taking a string and outputting a list of integers\n",
    "decode = lambda l : ''.join([itos[i] for i in l]) # decoder: take a list of integers and outputs a string\n",
    "\n",
    "print(encode(\"hii therer\"))\n",
    "print(decode(encode(\"hii therer\")))"
   ]
  },
  {
   "cell_type": "code",
   "execution_count": null,
   "id": "ae71b1a4",
   "metadata": {
    "papermill": {
     "duration": 0.004619,
     "end_time": "2024-05-24T10:15:18.912404",
     "exception": false,
     "start_time": "2024-05-24T10:15:18.907785",
     "status": "completed"
    },
    "tags": []
   },
   "outputs": [],
   "source": [
    " "
   ]
  }
 ],
 "metadata": {
  "kaggle": {
   "accelerator": "none",
   "dataSources": [],
   "dockerImageVersionId": 30698,
   "isGpuEnabled": false,
   "isInternetEnabled": true,
   "language": "python",
   "sourceType": "notebook"
  },
  "kernelspec": {
   "display_name": "Python 3",
   "language": "python",
   "name": "python3"
  },
  "language_info": {
   "codemirror_mode": {
    "name": "ipython",
    "version": 3
   },
   "file_extension": ".py",
   "mimetype": "text/x-python",
   "name": "python",
   "nbconvert_exporter": "python",
   "pygments_lexer": "ipython3",
   "version": "3.10.13"
  },
  "papermill": {
   "default_parameters": {},
   "duration": 5.320644,
   "end_time": "2024-05-24T10:15:19.339663",
   "environment_variables": {},
   "exception": null,
   "input_path": "__notebook__.ipynb",
   "output_path": "__notebook__.ipynb",
   "parameters": {},
   "start_time": "2024-05-24T10:15:14.019019",
   "version": "2.5.0"
  }
 },
 "nbformat": 4,
 "nbformat_minor": 5
}
