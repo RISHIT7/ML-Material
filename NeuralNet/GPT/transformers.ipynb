{
 "cells": [
  {
   "cell_type": "code",
   "execution_count": 1,
   "id": "ae40e06e",
   "metadata": {
    "_cell_guid": "b1076dfc-b9ad-4769-8c92-a6c4dae69d19",
    "_uuid": "8f2839f25d086af736a60e9eeb907d3b93b6e0e5",
    "execution": {
     "iopub.execute_input": "2024-05-24T12:16:13.558433Z",
     "iopub.status.busy": "2024-05-24T12:16:13.557915Z",
     "iopub.status.idle": "2024-05-24T12:16:17.417203Z",
     "shell.execute_reply": "2024-05-24T12:16:17.416177Z"
    },
    "papermill": {
     "duration": 3.875216,
     "end_time": "2024-05-24T12:16:17.420006",
     "exception": false,
     "start_time": "2024-05-24T12:16:13.544790",
     "status": "completed"
    },
    "tags": []
   },
   "outputs": [],
   "source": [
    "import torch\n",
    "import torch.nn as nn\n",
    "import torch.nn.functional as F"
   ]
  },
  {
   "cell_type": "code",
   "execution_count": 2,
   "id": "5b315e23",
   "metadata": {
    "execution": {
     "iopub.execute_input": "2024-05-24T12:16:17.443632Z",
     "iopub.status.busy": "2024-05-24T12:16:17.443124Z",
     "iopub.status.idle": "2024-05-24T12:16:18.704839Z",
     "shell.execute_reply": "2024-05-24T12:16:18.703468Z"
    },
    "papermill": {
     "duration": 1.276592,
     "end_time": "2024-05-24T12:16:18.707662",
     "exception": false,
     "start_time": "2024-05-24T12:16:17.431070",
     "status": "completed"
    },
    "tags": []
   },
   "outputs": [
    {
     "name": "stdout",
     "output_type": "stream",
     "text": [
      "--2024-05-24 12:16:18--  https://raw.githubusercontent.com/karpathy/char-rnn/master/data/tinyshakespeare/input.txt\r\n",
      "Resolving raw.githubusercontent.com (raw.githubusercontent.com)... 185.199.108.133, 185.199.109.133, 185.199.110.133, ...\r\n",
      "Connecting to raw.githubusercontent.com (raw.githubusercontent.com)|185.199.108.133|:443... connected.\r\n",
      "HTTP request sent, awaiting response... 200 OK\r\n",
      "Length: 1115394 (1.1M) [text/plain]\r\n",
      "Saving to: 'input.txt'\r\n",
      "\r\n",
      "input.txt           100%[===================>]   1.06M  --.-KB/s    in 0.03s   \r\n",
      "\r\n",
      "2024-05-24 12:16:18 (31.4 MB/s) - 'input.txt' saved [1115394/1115394]\r\n",
      "\r\n"
     ]
    }
   ],
   "source": [
    "# We always start with a dataset to train on. Let's download the tiny shakespeare dataset\n",
    "!wget https://raw.githubusercontent.com/karpathy/char-rnn/master/data/tinyshakespeare/input.txt"
   ]
  },
  {
   "cell_type": "code",
   "execution_count": 3,
   "id": "47e0edc0",
   "metadata": {
    "execution": {
     "iopub.execute_input": "2024-05-24T12:16:18.733538Z",
     "iopub.status.busy": "2024-05-24T12:16:18.732682Z",
     "iopub.status.idle": "2024-05-24T12:16:18.739871Z",
     "shell.execute_reply": "2024-05-24T12:16:18.738983Z"
    },
    "papermill": {
     "duration": 0.02316,
     "end_time": "2024-05-24T12:16:18.742221",
     "exception": false,
     "start_time": "2024-05-24T12:16:18.719061",
     "status": "completed"
    },
    "tags": []
   },
   "outputs": [],
   "source": [
    "with open('input.txt', 'r', encoding='utf-8') as f:\n",
    "    text = f.read()"
   ]
  },
  {
   "cell_type": "code",
   "execution_count": 4,
   "id": "48be2d5d",
   "metadata": {
    "execution": {
     "iopub.execute_input": "2024-05-24T12:16:18.767138Z",
     "iopub.status.busy": "2024-05-24T12:16:18.766083Z",
     "iopub.status.idle": "2024-05-24T12:16:18.773391Z",
     "shell.execute_reply": "2024-05-24T12:16:18.772296Z"
    },
    "papermill": {
     "duration": 0.022156,
     "end_time": "2024-05-24T12:16:18.775713",
     "exception": false,
     "start_time": "2024-05-24T12:16:18.753557",
     "status": "completed"
    },
    "tags": []
   },
   "outputs": [
    {
     "name": "stdout",
     "output_type": "stream",
     "text": [
      "length fo dataset in characters:  1115394\n"
     ]
    }
   ],
   "source": [
    "print('length fo dataset in characters: ', len(text))"
   ]
  },
  {
   "cell_type": "code",
   "execution_count": 5,
   "id": "0d330566",
   "metadata": {
    "execution": {
     "iopub.execute_input": "2024-05-24T12:16:18.804633Z",
     "iopub.status.busy": "2024-05-24T12:16:18.803076Z",
     "iopub.status.idle": "2024-05-24T12:16:18.809753Z",
     "shell.execute_reply": "2024-05-24T12:16:18.808748Z"
    },
    "papermill": {
     "duration": 0.02573,
     "end_time": "2024-05-24T12:16:18.812844",
     "exception": false,
     "start_time": "2024-05-24T12:16:18.787114",
     "status": "completed"
    },
    "tags": []
   },
   "outputs": [
    {
     "name": "stdout",
     "output_type": "stream",
     "text": [
      "First Citizen:\n",
      "Before we proceed any further, hear me speak.\n",
      "\n",
      "All:\n",
      "Speak, speak.\n",
      "\n",
      "First Citizen:\n",
      "You are all resolved rather to die than to famish?\n",
      "\n",
      "All:\n",
      "Resolved. resolved.\n",
      "\n",
      "First Citizen:\n",
      "First, you know Caius Marcius is chief enemy to the people.\n",
      "\n",
      "All:\n",
      "We know't, we know't.\n",
      "\n",
      "First Citizen:\n",
      "Let us kill him, and we'll have corn at our own price.\n",
      "Is't a verdict?\n",
      "\n",
      "All:\n",
      "No more talking on't; let it be done: away, away!\n",
      "\n",
      "Second Citizen:\n",
      "One word, good citizens.\n",
      "\n",
      "First Citizen:\n",
      "We are accounted poor citizens, the patricians good.\n",
      "What authority surfeits on would relieve us: if they\n",
      "would yield us but the superfluity, while it were\n",
      "wholesome, we might guess they relieved us humanely;\n",
      "but they think we are too dear: the leanness that\n",
      "afflicts us, the object of our misery, is as an\n",
      "inventory to particularise their abundance; our\n",
      "sufferance is a gain to them Let us revenge this with\n",
      "our pikes, ere we become rakes: for the gods know I\n",
      "speak this in hunger for bread, not in thirst for revenge.\n",
      "\n",
      "\n"
     ]
    }
   ],
   "source": [
    "print(text[:1000])"
   ]
  },
  {
   "cell_type": "markdown",
   "id": "19d5755d",
   "metadata": {
    "papermill": {
     "duration": 0.01388,
     "end_time": "2024-05-24T12:16:18.845034",
     "exception": false,
     "start_time": "2024-05-24T12:16:18.831154",
     "status": "completed"
    },
    "tags": []
   },
   "source": [
    "### Populating the vocabulary"
   ]
  },
  {
   "cell_type": "code",
   "execution_count": 6,
   "id": "5ec0e02d",
   "metadata": {
    "execution": {
     "iopub.execute_input": "2024-05-24T12:16:18.881876Z",
     "iopub.status.busy": "2024-05-24T12:16:18.881011Z",
     "iopub.status.idle": "2024-05-24T12:16:18.915353Z",
     "shell.execute_reply": "2024-05-24T12:16:18.913611Z"
    },
    "papermill": {
     "duration": 0.055078,
     "end_time": "2024-05-24T12:16:18.918065",
     "exception": false,
     "start_time": "2024-05-24T12:16:18.862987",
     "status": "completed"
    },
    "tags": []
   },
   "outputs": [
    {
     "name": "stdout",
     "output_type": "stream",
     "text": [
      "\n",
      " !$&',-.3:;?ABCDEFGHIJKLMNOPQRSTUVWXYZabcdefghijklmnopqrstuvwxyz\n",
      "65\n"
     ]
    }
   ],
   "source": [
    "chars = sorted(list(set(text)))\n",
    "vocab_size = len(chars)\n",
    "print(''.join(chars))\n",
    "print(vocab_size)"
   ]
  },
  {
   "cell_type": "markdown",
   "id": "d8b3b136",
   "metadata": {
    "papermill": {
     "duration": 0.011866,
     "end_time": "2024-05-24T12:16:18.942095",
     "exception": false,
     "start_time": "2024-05-24T12:16:18.930229",
     "status": "completed"
    },
    "tags": []
   },
   "source": [
    "### Tokenization"
   ]
  },
  {
   "cell_type": "code",
   "execution_count": 7,
   "id": "deef8e35",
   "metadata": {
    "execution": {
     "iopub.execute_input": "2024-05-24T12:16:18.970634Z",
     "iopub.status.busy": "2024-05-24T12:16:18.969826Z",
     "iopub.status.idle": "2024-05-24T12:16:18.979253Z",
     "shell.execute_reply": "2024-05-24T12:16:18.977663Z"
    },
    "papermill": {
     "duration": 0.025184,
     "end_time": "2024-05-24T12:16:18.981813",
     "exception": false,
     "start_time": "2024-05-24T12:16:18.956629",
     "status": "completed"
    },
    "tags": []
   },
   "outputs": [
    {
     "name": "stdout",
     "output_type": "stream",
     "text": [
      "[46, 47, 47, 1, 58, 46, 43, 56, 43, 56]\n",
      "hii therer\n"
     ]
    }
   ],
   "source": [
    "stoi = {ch:i for i, ch in enumerate(chars)}\n",
    "itos = {i:ch for i, ch in enumerate(chars)}\n",
    "encode = lambda s: [stoi[c] for c in s] # encoder: taking a string and outputting a list of integers\n",
    "decode = lambda l : ''.join([itos[i] for i in l]) # decoder: take a list of integers and outputs a string\n",
    "\n",
    "print(encode(\"hii therer\"))\n",
    "print(decode(encode(\"hii therer\")))"
   ]
  },
  {
   "cell_type": "markdown",
   "id": "957f9c51",
   "metadata": {
    "papermill": {
     "duration": 0.011229,
     "end_time": "2024-05-24T12:16:19.004745",
     "exception": false,
     "start_time": "2024-05-24T12:16:18.993516",
     "status": "completed"
    },
    "tags": []
   },
   "source": [
    "### Tokenizing the input corpus"
   ]
  },
  {
   "cell_type": "code",
   "execution_count": 8,
   "id": "f3f64542",
   "metadata": {
    "execution": {
     "iopub.execute_input": "2024-05-24T12:16:19.030379Z",
     "iopub.status.busy": "2024-05-24T12:16:19.029551Z",
     "iopub.status.idle": "2024-05-24T12:16:19.398580Z",
     "shell.execute_reply": "2024-05-24T12:16:19.397167Z"
    },
    "papermill": {
     "duration": 0.384538,
     "end_time": "2024-05-24T12:16:19.400980",
     "exception": false,
     "start_time": "2024-05-24T12:16:19.016442",
     "status": "completed"
    },
    "tags": []
   },
   "outputs": [
    {
     "name": "stdout",
     "output_type": "stream",
     "text": [
      "torch.Size([1115394]) torch.int64\n",
      "tensor([18, 47, 56, 57, 58,  1, 15, 47, 58, 47, 64, 43, 52, 10,  0, 14, 43, 44,\n",
      "        53, 56, 43,  1, 61, 43,  1, 54, 56, 53, 41, 43, 43, 42,  1, 39, 52, 63,\n",
      "         1, 44, 59, 56, 58, 46, 43, 56,  6,  1, 46, 43, 39, 56,  1, 51, 43,  1,\n",
      "        57, 54, 43, 39, 49,  8,  0,  0, 13, 50, 50, 10,  0, 31, 54, 43, 39, 49,\n",
      "         6,  1, 57, 54, 43, 39, 49,  8,  0,  0, 18, 47, 56, 57, 58,  1, 15, 47,\n",
      "        58, 47, 64, 43, 52, 10,  0, 37, 53, 59])\n"
     ]
    }
   ],
   "source": [
    "data = torch.tensor(encode(text), dtype = torch.long)\n",
    "print(data.shape, data.dtype)\n",
    "print(data[:100])"
   ]
  },
  {
   "cell_type": "markdown",
   "id": "182dc753",
   "metadata": {
    "papermill": {
     "duration": 0.011434,
     "end_time": "2024-05-24T12:16:19.424051",
     "exception": false,
     "start_time": "2024-05-24T12:16:19.412617",
     "status": "completed"
    },
    "tags": []
   },
   "source": [
    "### Train/Dev/Test split"
   ]
  },
  {
   "cell_type": "code",
   "execution_count": 9,
   "id": "9f5647a7",
   "metadata": {
    "execution": {
     "iopub.execute_input": "2024-05-24T12:16:19.448872Z",
     "iopub.status.busy": "2024-05-24T12:16:19.448436Z",
     "iopub.status.idle": "2024-05-24T12:16:19.454655Z",
     "shell.execute_reply": "2024-05-24T12:16:19.453394Z"
    },
    "papermill": {
     "duration": 0.021497,
     "end_time": "2024-05-24T12:16:19.457146",
     "exception": false,
     "start_time": "2024-05-24T12:16:19.435649",
     "status": "completed"
    },
    "tags": []
   },
   "outputs": [],
   "source": [
    "n = int(0.9*len(data))\n",
    "train_data = data[:n]\n",
    "val_data = data[n:]"
   ]
  },
  {
   "cell_type": "code",
   "execution_count": 10,
   "id": "d5a46735",
   "metadata": {
    "execution": {
     "iopub.execute_input": "2024-05-24T12:16:19.484272Z",
     "iopub.status.busy": "2024-05-24T12:16:19.483124Z",
     "iopub.status.idle": "2024-05-24T12:16:19.492606Z",
     "shell.execute_reply": "2024-05-24T12:16:19.491472Z"
    },
    "papermill": {
     "duration": 0.02517,
     "end_time": "2024-05-24T12:16:19.494922",
     "exception": false,
     "start_time": "2024-05-24T12:16:19.469752",
     "status": "completed"
    },
    "tags": []
   },
   "outputs": [
    {
     "data": {
      "text/plain": [
       "tensor([18, 47, 56, 57, 58,  1, 15, 47])"
      ]
     },
     "execution_count": 10,
     "metadata": {},
     "output_type": "execute_result"
    }
   ],
   "source": [
    "block_size = 8\n",
    "train_data[:block_size]"
   ]
  },
  {
   "cell_type": "code",
   "execution_count": 11,
   "id": "ccaee4a6",
   "metadata": {
    "execution": {
     "iopub.execute_input": "2024-05-24T12:16:19.521247Z",
     "iopub.status.busy": "2024-05-24T12:16:19.520459Z",
     "iopub.status.idle": "2024-05-24T12:16:19.528325Z",
     "shell.execute_reply": "2024-05-24T12:16:19.527027Z"
    },
    "papermill": {
     "duration": 0.023825,
     "end_time": "2024-05-24T12:16:19.530759",
     "exception": false,
     "start_time": "2024-05-24T12:16:19.506934",
     "status": "completed"
    },
    "tags": []
   },
   "outputs": [
    {
     "name": "stdout",
     "output_type": "stream",
     "text": [
      "when the input is F the target is: i\n",
      "when the input is Fi the target is: r\n",
      "when the input is Fir the target is: s\n",
      "when the input is Firs the target is: t\n",
      "when the input is First the target is:  \n",
      "when the input is First  the target is: C\n",
      "when the input is First C the target is: i\n",
      "when the input is First Ci the target is: t\n"
     ]
    }
   ],
   "source": [
    "x = train_data[:block_size]\n",
    "y = train_data[1:block_size+1]\n",
    "for t in range(block_size):\n",
    "    context = x[:t+1]\n",
    "    target = y[t]\n",
    "    print(f\"when the input is {decode(context.tolist())} the target is: {decode([target.item()])}\")"
   ]
  },
  {
   "cell_type": "markdown",
   "id": "b9e96a94",
   "metadata": {
    "papermill": {
     "duration": 0.011487,
     "end_time": "2024-05-24T12:16:19.554109",
     "exception": false,
     "start_time": "2024-05-24T12:16:19.542622",
     "status": "completed"
    },
    "tags": []
   },
   "source": [
    "### Generalising Batch Dimension"
   ]
  },
  {
   "cell_type": "code",
   "execution_count": 12,
   "id": "329ef907",
   "metadata": {
    "execution": {
     "iopub.execute_input": "2024-05-24T12:16:19.580569Z",
     "iopub.status.busy": "2024-05-24T12:16:19.579777Z",
     "iopub.status.idle": "2024-05-24T12:16:19.622852Z",
     "shell.execute_reply": "2024-05-24T12:16:19.621754Z"
    },
    "papermill": {
     "duration": 0.059769,
     "end_time": "2024-05-24T12:16:19.625963",
     "exception": false,
     "start_time": "2024-05-24T12:16:19.566194",
     "status": "completed"
    },
    "tags": []
   },
   "outputs": [
    {
     "name": "stdout",
     "output_type": "stream",
     "text": [
      "inputs:\n",
      "torch.Size([4, 8])\n",
      "tensor([[24, 43, 58,  5, 57,  1, 46, 43],\n",
      "        [44, 53, 56,  1, 58, 46, 39, 58],\n",
      "        [52, 58,  1, 58, 46, 39, 58,  1],\n",
      "        [25, 17, 27, 10,  0, 21,  1, 54]])\n",
      "targets:\n",
      "torch.Size([4, 8])\n",
      "tensor([[43, 58,  5, 57,  1, 46, 43, 39],\n",
      "        [53, 56,  1, 58, 46, 39, 58,  1],\n",
      "        [58,  1, 58, 46, 39, 58,  1, 46],\n",
      "        [17, 27, 10,  0, 21,  1, 54, 39]])\n",
      "---------------\n",
      "when the input is L the target is: e\n",
      "when the input is Le the target is: t\n",
      "when the input is Let the target is: '\n",
      "when the input is Let' the target is: s\n",
      "when the input is Let's the target is:  \n",
      "when the input is Let's  the target is: h\n",
      "when the input is Let's h the target is: e\n",
      "when the input is Let's he the target is: a\n",
      "when the input is f the target is: o\n",
      "when the input is fo the target is: r\n",
      "when the input is for the target is:  \n",
      "when the input is for  the target is: t\n",
      "when the input is for t the target is: h\n",
      "when the input is for th the target is: a\n",
      "when the input is for tha the target is: t\n",
      "when the input is for that the target is:  \n",
      "when the input is n the target is: t\n",
      "when the input is nt the target is:  \n",
      "when the input is nt  the target is: t\n",
      "when the input is nt t the target is: h\n",
      "when the input is nt th the target is: a\n",
      "when the input is nt tha the target is: t\n",
      "when the input is nt that the target is:  \n",
      "when the input is nt that  the target is: h\n",
      "when the input is M the target is: E\n",
      "when the input is ME the target is: O\n",
      "when the input is MEO the target is: :\n",
      "when the input is MEO: the target is: \n",
      "\n",
      "when the input is MEO:\n",
      " the target is: I\n",
      "when the input is MEO:\n",
      "I the target is:  \n",
      "when the input is MEO:\n",
      "I  the target is: p\n",
      "when the input is MEO:\n",
      "I p the target is: a\n"
     ]
    }
   ],
   "source": [
    "torch.manual_seed(1337)\n",
    "batch_size = 4\n",
    "block_size = 8\n",
    "\n",
    "def get_batch(split):\n",
    "    # generate a small batch of data of inputs x and targets y\n",
    "    data = train_data if split == 'train' else val_data\n",
    "    ix = torch.randint(len(data) - block_size, (batch_size,))\n",
    "    x = torch.stack([data[i:i+block_size] for i in ix])\n",
    "    y = torch.stack([data[i+1:i+block_size+1] for i in ix])\n",
    "    return x, y\n",
    "\n",
    "xb, yb = get_batch('train')\n",
    "print('inputs:')\n",
    "print(xb.shape)\n",
    "print(xb)\n",
    "print('targets:')\n",
    "print(yb.shape)\n",
    "print(yb)\n",
    "print('---------------')\n",
    "\n",
    "for b in range(batch_size):\n",
    "    for t in range(block_size):\n",
    "        context = xb[b, :t+1]\n",
    "        target = yb[b, t]\n",
    "        print(f\"when the input is {decode(context.tolist())} the target is: {decode([target.item()])}\")"
   ]
  },
  {
   "cell_type": "markdown",
   "id": "c5bc826e",
   "metadata": {
    "papermill": {
     "duration": 0.012074,
     "end_time": "2024-05-24T12:16:19.650249",
     "exception": false,
     "start_time": "2024-05-24T12:16:19.638175",
     "status": "completed"
    },
    "tags": []
   },
   "source": [
    "# Bigram Model"
   ]
  },
  {
   "cell_type": "code",
   "execution_count": 13,
   "id": "7b5c9232",
   "metadata": {
    "execution": {
     "iopub.execute_input": "2024-05-24T12:16:19.678054Z",
     "iopub.status.busy": "2024-05-24T12:16:19.677644Z",
     "iopub.status.idle": "2024-05-24T12:16:19.752169Z",
     "shell.execute_reply": "2024-05-24T12:16:19.751364Z"
    },
    "papermill": {
     "duration": 0.091068,
     "end_time": "2024-05-24T12:16:19.755001",
     "exception": false,
     "start_time": "2024-05-24T12:16:19.663933",
     "status": "completed"
    },
    "tags": []
   },
   "outputs": [
    {
     "name": "stdout",
     "output_type": "stream",
     "text": [
      "torch.Size([32, 65]) tensor(4.8786, grad_fn=<NllLossBackward0>)\n"
     ]
    }
   ],
   "source": [
    "torch.manual_seed(1337)\n",
    "\n",
    "class BigramLanguageModel(nn.Module):\n",
    "    \n",
    "    def __init__(self, vocab_size):\n",
    "        super().__init__()\n",
    "        self.token_embedding_table = nn.Embedding(vocab_size, vocab_size)\n",
    "    \n",
    "    def forward(self, idx, targets = None):\n",
    "        logits = self.token_embedding_table(idx)\n",
    "        \n",
    "        if targets is None:\n",
    "            loss = None\n",
    "        else:\n",
    "            B, T, C = logits.shape\n",
    "            logits = logits.view(B*T, C)\n",
    "            targets = targets.view(B*T)\n",
    "            loss = F.cross_entropy(logits, targets)\n",
    "        \n",
    "        return logits, loss\n",
    "    \n",
    "    def generate(self, idx, max_new_tokens):\n",
    "        # idx is (B, T) array of indices in the current context\n",
    "        for _ in range(max_new_tokens):\n",
    "            # get ther predictions\n",
    "            logits, loss = self(idx)\n",
    "            # focus only on the last time step\n",
    "            logits = logits[:, -1, :] # becomes (B, C)\n",
    "            # apply softmax to get probabilities\n",
    "            probs = F.softmax(logits, dim = 1)\n",
    "            # sample from the distribution\n",
    "            idx_next = torch.multinomial(probs, num_samples = 1) # (B, 1)\n",
    "            # append sampled index to the running sequence\n",
    "            idx = torch.cat((idx, idx_next), dim = 1) # (B, T+1)\n",
    "        return idx\n",
    "    \n",
    "m = BigramLanguageModel(vocab_size)\n",
    "out, loss = m(xb, yb)\n",
    "print(out.shape, loss) # (batch, context, embeddings)"
   ]
  },
  {
   "cell_type": "code",
   "execution_count": 14,
   "id": "c3dd2067",
   "metadata": {
    "execution": {
     "iopub.execute_input": "2024-05-24T12:16:19.781795Z",
     "iopub.status.busy": "2024-05-24T12:16:19.780812Z",
     "iopub.status.idle": "2024-05-24T12:16:19.799647Z",
     "shell.execute_reply": "2024-05-24T12:16:19.798633Z"
    },
    "papermill": {
     "duration": 0.03508,
     "end_time": "2024-05-24T12:16:19.802276",
     "exception": false,
     "start_time": "2024-05-24T12:16:19.767196",
     "status": "completed"
    },
    "tags": []
   },
   "outputs": [
    {
     "name": "stdout",
     "output_type": "stream",
     "text": [
      "torch.Size([32, 65]) tensor(4.8786, grad_fn=<NllLossBackward0>)\n"
     ]
    }
   ],
   "source": [
    "torch.manual_seed(1337)\n",
    "\n",
    "class BigramLanguageModel(nn.Module):\n",
    "    \n",
    "    def __init__(self, vocab_size):\n",
    "        super().__init__()\n",
    "        self.token_embedding_table = nn.Embedding(vocab_size, vocab_size)\n",
    "    \n",
    "    def forward(self, idx, targets = None):\n",
    "        logits = self.token_embedding_table(idx)\n",
    "        \n",
    "        if targets is None:\n",
    "            loss = None\n",
    "        else:\n",
    "            B, T, C = logits.shape\n",
    "            logits = logits.view(B*T, C)\n",
    "            targets = targets.view(B*T)\n",
    "            loss = F.cross_entropy(logits, targets)\n",
    "        \n",
    "        return logits, loss\n",
    "    \n",
    "    def generate(self, idx, max_new_tokens):\n",
    "        # idx is (B, T) array of indices in the current context\n",
    "        for _ in range(max_new_tokens):\n",
    "            # get ther predictions\n",
    "            logits, loss = self(idx)\n",
    "            # focus only on the last time step\n",
    "            logits = logits[:, -1, :] # becomes (B, C)\n",
    "            # apply softmax to get probabilities\n",
    "            probs = F.softmax(logits, dim = 1)\n",
    "            # sample from the distribution\n",
    "            idx_next = torch.multinomial(probs, num_samples = 1) # (B, 1)\n",
    "            # append sampled index to the running sequence\n",
    "            idx = torch.cat((idx, idx_next), dim = 1) # (B, T+1)\n",
    "        return idx\n",
    "    \n",
    "m = BigramLanguageModel(vocab_size)\n",
    "out, loss = m(xb, yb)\n",
    "print(out.shape, loss) # (batch, context, embeddings)"
   ]
  },
  {
   "cell_type": "code",
   "execution_count": 15,
   "id": "c1208dbd",
   "metadata": {
    "execution": {
     "iopub.execute_input": "2024-05-24T12:16:19.829883Z",
     "iopub.status.busy": "2024-05-24T12:16:19.829014Z",
     "iopub.status.idle": "2024-05-24T12:16:19.843470Z",
     "shell.execute_reply": "2024-05-24T12:16:19.842548Z"
    },
    "papermill": {
     "duration": 0.030868,
     "end_time": "2024-05-24T12:16:19.845799",
     "exception": false,
     "start_time": "2024-05-24T12:16:19.814931",
     "status": "completed"
    },
    "tags": []
   },
   "outputs": [
    {
     "name": "stdout",
     "output_type": "stream",
     "text": [
      "torch.Size([32, 65]) tensor(4.8786, grad_fn=<NllLossBackward0>)\n"
     ]
    }
   ],
   "source": [
    "torch.manual_seed(1337)\n",
    "\n",
    "class BigramLanguageModel(nn.Module):\n",
    "    \n",
    "    def __init__(self, vocab_size):\n",
    "        super().__init__()\n",
    "        self.token_embedding_table = nn.Embedding(vocab_size, vocab_size)\n",
    "    \n",
    "    def forward(self, idx, targets = None):\n",
    "        logits = self.token_embedding_table(idx)\n",
    "        \n",
    "        if targets is None:\n",
    "            loss = None\n",
    "        else:\n",
    "            B, T, C = logits.shape\n",
    "            logits = logits.view(B*T, C)\n",
    "            targets = targets.view(B*T)\n",
    "            loss = F.cross_entropy(logits, targets)\n",
    "        \n",
    "        return logits, loss\n",
    "    \n",
    "    def generate(self, idx, max_new_tokens):\n",
    "        # idx is (B, T) array of indices in the current context\n",
    "        for _ in range(max_new_tokens):\n",
    "            # get ther predictions\n",
    "            logits, loss = self(idx)\n",
    "            # focus only on the last time step\n",
    "            logits = logits[:, -1, :] # becomes (B, C)\n",
    "            # apply softmax to get probabilities\n",
    "            probs = F.softmax(logits, dim = 1)\n",
    "            # sample from the distribution\n",
    "            idx_next = torch.multinomial(probs, num_samples = 1) # (B, 1)\n",
    "            # append sampled index to the running sequence\n",
    "            idx = torch.cat((idx, idx_next), dim = 1) # (B, T+1)\n",
    "        return idx\n",
    "    \n",
    "m = BigramLanguageModel(vocab_size)\n",
    "out, loss = m(xb, yb)\n",
    "print(out.shape, loss) # (batch, context, embeddings)"
   ]
  },
  {
   "cell_type": "code",
   "execution_count": 16,
   "id": "d9ecb7dc",
   "metadata": {
    "execution": {
     "iopub.execute_input": "2024-05-24T12:16:19.874109Z",
     "iopub.status.busy": "2024-05-24T12:16:19.872932Z",
     "iopub.status.idle": "2024-05-24T12:16:19.922149Z",
     "shell.execute_reply": "2024-05-24T12:16:19.920859Z"
    },
    "papermill": {
     "duration": 0.066421,
     "end_time": "2024-05-24T12:16:19.924990",
     "exception": false,
     "start_time": "2024-05-24T12:16:19.858569",
     "status": "completed"
    },
    "tags": []
   },
   "outputs": [
    {
     "name": "stdout",
     "output_type": "stream",
     "text": [
      "\n",
      "Sr?qP-QWktXoL&jLDJgOLVz'RIoDqHdhsV&vLLxatjscMpwLERSPyao.qfzs$Ys$zF-w,;eEkzxjgCKFChs!iWW.ObzDnxA Ms$3\n"
     ]
    }
   ],
   "source": [
    "idx = torch.zeros((1, 1), dtype = torch.long)\n",
    "print(decode(m.generate(idx, max_new_tokens = 100)[0].tolist()))"
   ]
  },
  {
   "cell_type": "markdown",
   "id": "9a49d50c",
   "metadata": {
    "papermill": {
     "duration": 0.012443,
     "end_time": "2024-05-24T12:16:19.950046",
     "exception": false,
     "start_time": "2024-05-24T12:16:19.937603",
     "status": "completed"
    },
    "tags": []
   },
   "source": [
    "## Pytorch Optimization Object "
   ]
  },
  {
   "cell_type": "code",
   "execution_count": 17,
   "id": "9707b857",
   "metadata": {
    "execution": {
     "iopub.execute_input": "2024-05-24T12:16:19.977420Z",
     "iopub.status.busy": "2024-05-24T12:16:19.976990Z",
     "iopub.status.idle": "2024-05-24T12:16:23.061925Z",
     "shell.execute_reply": "2024-05-24T12:16:23.060626Z"
    },
    "papermill": {
     "duration": 3.103517,
     "end_time": "2024-05-24T12:16:23.066258",
     "exception": false,
     "start_time": "2024-05-24T12:16:19.962741",
     "status": "completed"
    },
    "tags": []
   },
   "outputs": [],
   "source": [
    "optimizer = torch.optim.AdamW(m.parameters(), lr = 1e-3)"
   ]
  },
  {
   "cell_type": "code",
   "execution_count": 18,
   "id": "fa185bf5",
   "metadata": {
    "execution": {
     "iopub.execute_input": "2024-05-24T12:16:23.094150Z",
     "iopub.status.busy": "2024-05-24T12:16:23.093616Z",
     "iopub.status.idle": "2024-05-24T12:16:43.241110Z",
     "shell.execute_reply": "2024-05-24T12:16:43.240213Z"
    },
    "papermill": {
     "duration": 20.163866,
     "end_time": "2024-05-24T12:16:43.243463",
     "exception": false,
     "start_time": "2024-05-24T12:16:23.079597",
     "status": "completed"
    },
    "tags": []
   },
   "outputs": [
    {
     "name": "stdout",
     "output_type": "stream",
     "text": [
      "2.5727508068084717\n"
     ]
    }
   ],
   "source": [
    "batch_size = 32\n",
    "for steps in range(10000):\n",
    "    # sample a batch of data\n",
    "    xb, yb = get_batch('train')\n",
    "    \n",
    "    # evaluate the loss\n",
    "    logits, loss = m(xb, yb)\n",
    "    optimizer.zero_grad(set_to_none = True)\n",
    "    loss.backward()\n",
    "    optimizer.step()\n",
    "    \n",
    "print(loss.item())"
   ]
  },
  {
   "cell_type": "code",
   "execution_count": 19,
   "id": "5b05a8f4",
   "metadata": {
    "execution": {
     "iopub.execute_input": "2024-05-24T12:16:43.273102Z",
     "iopub.status.busy": "2024-05-24T12:16:43.271927Z",
     "iopub.status.idle": "2024-05-24T12:16:43.291649Z",
     "shell.execute_reply": "2024-05-24T12:16:43.290744Z"
    },
    "papermill": {
     "duration": 0.0359,
     "end_time": "2024-05-24T12:16:43.293962",
     "exception": false,
     "start_time": "2024-05-24T12:16:43.258062",
     "status": "completed"
    },
    "tags": []
   },
   "outputs": [
    {
     "name": "stdout",
     "output_type": "stream",
     "text": [
      "\n",
      "Iyoteng h hasbe pave pirance\n",
      "Rie hicomyonthar's\n",
      "Plinseard ith henoure wounonthioneir thondy, y helti\n"
     ]
    }
   ],
   "source": [
    "idx = torch.zeros((1, 1), dtype = torch.long)\n",
    "print(decode(m.generate(idx, max_new_tokens = 100)[0].tolist()))"
   ]
  },
  {
   "cell_type": "markdown",
   "id": "6a0530fd",
   "metadata": {
    "papermill": {
     "duration": 0.012445,
     "end_time": "2024-05-24T12:16:43.319561",
     "exception": false,
     "start_time": "2024-05-24T12:16:43.307116",
     "status": "completed"
    },
    "tags": []
   },
   "source": [
    "## The mathematical trick in self-attention"
   ]
  },
  {
   "cell_type": "code",
   "execution_count": 20,
   "id": "ceeab052",
   "metadata": {
    "execution": {
     "iopub.execute_input": "2024-05-24T12:16:43.347467Z",
     "iopub.status.busy": "2024-05-24T12:16:43.346257Z",
     "iopub.status.idle": "2024-05-24T12:16:43.355481Z",
     "shell.execute_reply": "2024-05-24T12:16:43.354104Z"
    },
    "papermill": {
     "duration": 0.025598,
     "end_time": "2024-05-24T12:16:43.357852",
     "exception": false,
     "start_time": "2024-05-24T12:16:43.332254",
     "status": "completed"
    },
    "tags": []
   },
   "outputs": [
    {
     "data": {
      "text/plain": [
       "torch.Size([4, 8, 2])"
      ]
     },
     "execution_count": 20,
     "metadata": {},
     "output_type": "execute_result"
    }
   ],
   "source": [
    "torch.manual_seed(1337)\n",
    "B, T, C = 4, 8, 2 # batch, time, channels\n",
    "x = torch.randn(B, T, C)\n",
    "x.shape"
   ]
  },
  {
   "cell_type": "code",
   "execution_count": 21,
   "id": "876097b9",
   "metadata": {
    "execution": {
     "iopub.execute_input": "2024-05-24T12:16:43.385658Z",
     "iopub.status.busy": "2024-05-24T12:16:43.385240Z",
     "iopub.status.idle": "2024-05-24T12:16:43.395376Z",
     "shell.execute_reply": "2024-05-24T12:16:43.394205Z"
    },
    "papermill": {
     "duration": 0.02705,
     "end_time": "2024-05-24T12:16:43.397776",
     "exception": false,
     "start_time": "2024-05-24T12:16:43.370726",
     "status": "completed"
    },
    "tags": []
   },
   "outputs": [],
   "source": [
    "# We want x[b, t] = mean_{i <= t} x[b, i]\n",
    "xbow = torch.zeros((B, T, C)) # bow -> bag of words\n",
    "for b in range(B):\n",
    "    for t in range(T):\n",
    "        xprev = x[b, :t+1] # (t, C)\n",
    "        xbow[b, t] = torch.mean(xprev, 0)"
   ]
  },
  {
   "cell_type": "code",
   "execution_count": 22,
   "id": "6f1550d4",
   "metadata": {
    "execution": {
     "iopub.execute_input": "2024-05-24T12:16:43.426675Z",
     "iopub.status.busy": "2024-05-24T12:16:43.425043Z",
     "iopub.status.idle": "2024-05-24T12:16:43.436603Z",
     "shell.execute_reply": "2024-05-24T12:16:43.435162Z"
    },
    "papermill": {
     "duration": 0.028678,
     "end_time": "2024-05-24T12:16:43.439525",
     "exception": false,
     "start_time": "2024-05-24T12:16:43.410847",
     "status": "completed"
    },
    "tags": []
   },
   "outputs": [],
   "source": [
    "wei = torch.tril(torch.ones(T, T))\n",
    "wei = wei / wei.sum(1, keepdims = True)\n",
    "xbow2 = wei @ x # (T, T) @ (B, T, C) -> (B, T, C) @ (T, T, C) -> (B, T, C)"
   ]
  },
  {
   "cell_type": "markdown",
   "id": "3320d8c9",
   "metadata": {
    "papermill": {
     "duration": 0.012754,
     "end_time": "2024-05-24T12:16:43.466740",
     "exception": false,
     "start_time": "2024-05-24T12:16:43.453986",
     "status": "completed"
    },
    "tags": []
   },
   "source": [
    "## Using Softmax"
   ]
  },
  {
   "cell_type": "code",
   "execution_count": 23,
   "id": "a7215419",
   "metadata": {
    "execution": {
     "iopub.execute_input": "2024-05-24T12:16:43.494502Z",
     "iopub.status.busy": "2024-05-24T12:16:43.494052Z",
     "iopub.status.idle": "2024-05-24T12:16:43.504114Z",
     "shell.execute_reply": "2024-05-24T12:16:43.502920Z"
    },
    "papermill": {
     "duration": 0.026945,
     "end_time": "2024-05-24T12:16:43.506597",
     "exception": false,
     "start_time": "2024-05-24T12:16:43.479652",
     "status": "completed"
    },
    "tags": []
   },
   "outputs": [],
   "source": [
    "tril = torch.tril(torch.ones(T, T))\n",
    "wei = torch.zeros((T, T))\n",
    "wei = wei.masked_fill(tril == 0, float('-inf'))\n",
    "wei = F.softmax(wei, dim = 1) # on each row\n",
    "xbow3 = wei @ x"
   ]
  },
  {
   "cell_type": "markdown",
   "id": "dfabef10",
   "metadata": {
    "papermill": {
     "duration": 0.012502,
     "end_time": "2024-05-24T12:16:43.533124",
     "exception": false,
     "start_time": "2024-05-24T12:16:43.520622",
     "status": "completed"
    },
    "tags": []
   },
   "source": [
    "#### The trick"
   ]
  },
  {
   "cell_type": "code",
   "execution_count": 24,
   "id": "3d3e0a2e",
   "metadata": {
    "execution": {
     "iopub.execute_input": "2024-05-24T12:16:43.561346Z",
     "iopub.status.busy": "2024-05-24T12:16:43.560873Z",
     "iopub.status.idle": "2024-05-24T12:16:43.580803Z",
     "shell.execute_reply": "2024-05-24T12:16:43.579819Z"
    },
    "papermill": {
     "duration": 0.036695,
     "end_time": "2024-05-24T12:16:43.583196",
     "exception": false,
     "start_time": "2024-05-24T12:16:43.546501",
     "status": "completed"
    },
    "tags": []
   },
   "outputs": [
    {
     "name": "stdout",
     "output_type": "stream",
     "text": [
      "tensor([[1., 0., 0.],\n",
      "        [1., 1., 0.],\n",
      "        [1., 1., 1.]])\n",
      "tensor([[5., 7.],\n",
      "        [2., 0.],\n",
      "        [5., 3.]])\n"
     ]
    },
    {
     "data": {
      "text/plain": [
       "tensor([[ 5.,  7.],\n",
       "        [ 7.,  7.],\n",
       "        [12., 10.]])"
      ]
     },
     "execution_count": 24,
     "metadata": {},
     "output_type": "execute_result"
    }
   ],
   "source": [
    "torch.manual_seed(1337)\n",
    "a = torch.tril(torch.ones(3, 3))\n",
    "print(a)\n",
    "b = torch.randint(0, 10, (3, 2)).float()\n",
    "print(b)\n",
    "c = a @ b\n",
    "c # sum of the numbers"
   ]
  },
  {
   "cell_type": "code",
   "execution_count": 25,
   "id": "f3264929",
   "metadata": {
    "execution": {
     "iopub.execute_input": "2024-05-24T12:16:43.612082Z",
     "iopub.status.busy": "2024-05-24T12:16:43.611627Z",
     "iopub.status.idle": "2024-05-24T12:16:43.628409Z",
     "shell.execute_reply": "2024-05-24T12:16:43.627242Z"
    },
    "papermill": {
     "duration": 0.034156,
     "end_time": "2024-05-24T12:16:43.630988",
     "exception": false,
     "start_time": "2024-05-24T12:16:43.596832",
     "status": "completed"
    },
    "tags": []
   },
   "outputs": [
    {
     "name": "stdout",
     "output_type": "stream",
     "text": [
      "tensor([[5., 7.],\n",
      "        [2., 0.],\n",
      "        [5., 3.]])\n"
     ]
    },
    {
     "data": {
      "text/plain": [
       "tensor([[5.0000, 7.0000],\n",
       "        [3.5000, 3.5000],\n",
       "        [4.0000, 3.3333]])"
      ]
     },
     "execution_count": 25,
     "metadata": {},
     "output_type": "execute_result"
    }
   ],
   "source": [
    "torch.manual_seed(1337)\n",
    "a = torch.tril(torch.ones(3, 3))\n",
    "a = a/torch.sum(a, 1, keepdim = True)\n",
    "b = torch.randint(0, 10, (3, 2)).float()\n",
    "print(b)\n",
    "c = a@b\n",
    "c"
   ]
  },
  {
   "cell_type": "code",
   "execution_count": null,
   "id": "ee2d8ef1",
   "metadata": {
    "papermill": {
     "duration": 0.013821,
     "end_time": "2024-05-24T12:16:43.658747",
     "exception": false,
     "start_time": "2024-05-24T12:16:43.644926",
     "status": "completed"
    },
    "tags": []
   },
   "outputs": [],
   "source": []
  }
 ],
 "metadata": {
  "kaggle": {
   "accelerator": "none",
   "dataSources": [],
   "dockerImageVersionId": 30698,
   "isGpuEnabled": false,
   "isInternetEnabled": true,
   "language": "python",
   "sourceType": "notebook"
  },
  "kernelspec": {
   "display_name": "Python 3",
   "language": "python",
   "name": "python3"
  },
  "language_info": {
   "codemirror_mode": {
    "name": "ipython",
    "version": 3
   },
   "file_extension": ".py",
   "mimetype": "text/x-python",
   "name": "python",
   "nbconvert_exporter": "python",
   "pygments_lexer": "ipython3",
   "version": "3.10.13"
  },
  "papermill": {
   "default_parameters": {},
   "duration": 34.662247,
   "end_time": "2024-05-24T12:16:44.999915",
   "environment_variables": {},
   "exception": null,
   "input_path": "__notebook__.ipynb",
   "output_path": "__notebook__.ipynb",
   "parameters": {},
   "start_time": "2024-05-24T12:16:10.337668",
   "version": "2.5.0"
  }
 },
 "nbformat": 4,
 "nbformat_minor": 5
}
