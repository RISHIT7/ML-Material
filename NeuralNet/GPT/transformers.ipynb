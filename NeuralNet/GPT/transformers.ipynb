{
 "cells": [
  {
   "cell_type": "code",
   "execution_count": 1,
   "id": "e65542e0",
   "metadata": {
    "_cell_guid": "b1076dfc-b9ad-4769-8c92-a6c4dae69d19",
    "_uuid": "8f2839f25d086af736a60e9eeb907d3b93b6e0e5",
    "execution": {
     "iopub.execute_input": "2024-05-24T11:13:51.322499Z",
     "iopub.status.busy": "2024-05-24T11:13:51.321762Z",
     "iopub.status.idle": "2024-05-24T11:13:55.122821Z",
     "shell.execute_reply": "2024-05-24T11:13:55.121411Z"
    },
    "papermill": {
     "duration": 3.81599,
     "end_time": "2024-05-24T11:13:55.126152",
     "exception": false,
     "start_time": "2024-05-24T11:13:51.310162",
     "status": "completed"
    },
    "tags": []
   },
   "outputs": [],
   "source": [
    "import torch\n",
    "import torch.nn as nn\n",
    "import torch.nn.functional as F"
   ]
  },
  {
   "cell_type": "code",
   "execution_count": 2,
   "id": "b46d1521",
   "metadata": {
    "execution": {
     "iopub.execute_input": "2024-05-24T11:13:55.146841Z",
     "iopub.status.busy": "2024-05-24T11:13:55.146171Z",
     "iopub.status.idle": "2024-05-24T11:13:56.492902Z",
     "shell.execute_reply": "2024-05-24T11:13:56.491542Z"
    },
    "papermill": {
     "duration": 1.360616,
     "end_time": "2024-05-24T11:13:56.495729",
     "exception": false,
     "start_time": "2024-05-24T11:13:55.135113",
     "status": "completed"
    },
    "tags": []
   },
   "outputs": [
    {
     "name": "stdout",
     "output_type": "stream",
     "text": [
      "--2024-05-24 11:13:56--  https://raw.githubusercontent.com/karpathy/char-rnn/master/data/tinyshakespeare/input.txt\r\n",
      "Resolving raw.githubusercontent.com (raw.githubusercontent.com)... 185.199.108.133, 185.199.109.133, 185.199.110.133, ...\r\n",
      "Connecting to raw.githubusercontent.com (raw.githubusercontent.com)|185.199.108.133|:443... connected.\r\n",
      "HTTP request sent, awaiting response... 200 OK\r\n",
      "Length: 1115394 (1.1M) [text/plain]\r\n",
      "Saving to: 'input.txt'\r\n",
      "\r\n",
      "input.txt           100%[===================>]   1.06M  --.-KB/s    in 0.04s   \r\n",
      "\r\n",
      "2024-05-24 11:13:56 (30.0 MB/s) - 'input.txt' saved [1115394/1115394]\r\n",
      "\r\n"
     ]
    }
   ],
   "source": [
    "# We always start with a dataset to train on. Let's download the tiny shakespeare dataset\n",
    "!wget https://raw.githubusercontent.com/karpathy/char-rnn/master/data/tinyshakespeare/input.txt"
   ]
  },
  {
   "cell_type": "code",
   "execution_count": 3,
   "id": "6395a7d3",
   "metadata": {
    "execution": {
     "iopub.execute_input": "2024-05-24T11:13:56.517573Z",
     "iopub.status.busy": "2024-05-24T11:13:56.516175Z",
     "iopub.status.idle": "2024-05-24T11:13:56.524977Z",
     "shell.execute_reply": "2024-05-24T11:13:56.523862Z"
    },
    "papermill": {
     "duration": 0.022855,
     "end_time": "2024-05-24T11:13:56.527806",
     "exception": false,
     "start_time": "2024-05-24T11:13:56.504951",
     "status": "completed"
    },
    "tags": []
   },
   "outputs": [],
   "source": [
    "with open('input.txt', 'r', encoding='utf-8') as f:\n",
    "    text = f.read()"
   ]
  },
  {
   "cell_type": "code",
   "execution_count": 4,
   "id": "04ddffed",
   "metadata": {
    "execution": {
     "iopub.execute_input": "2024-05-24T11:13:56.548159Z",
     "iopub.status.busy": "2024-05-24T11:13:56.547719Z",
     "iopub.status.idle": "2024-05-24T11:13:56.554814Z",
     "shell.execute_reply": "2024-05-24T11:13:56.552960Z"
    },
    "papermill": {
     "duration": 0.022629,
     "end_time": "2024-05-24T11:13:56.559493",
     "exception": false,
     "start_time": "2024-05-24T11:13:56.536864",
     "status": "completed"
    },
    "tags": []
   },
   "outputs": [
    {
     "name": "stdout",
     "output_type": "stream",
     "text": [
      "length fo dataset in characters:  1115394\n"
     ]
    }
   ],
   "source": [
    "print('length fo dataset in characters: ', len(text))"
   ]
  },
  {
   "cell_type": "code",
   "execution_count": 5,
   "id": "86cc7b34",
   "metadata": {
    "execution": {
     "iopub.execute_input": "2024-05-24T11:13:56.588580Z",
     "iopub.status.busy": "2024-05-24T11:13:56.587206Z",
     "iopub.status.idle": "2024-05-24T11:13:56.595780Z",
     "shell.execute_reply": "2024-05-24T11:13:56.594438Z"
    },
    "papermill": {
     "duration": 0.026756,
     "end_time": "2024-05-24T11:13:56.599218",
     "exception": false,
     "start_time": "2024-05-24T11:13:56.572462",
     "status": "completed"
    },
    "tags": []
   },
   "outputs": [
    {
     "name": "stdout",
     "output_type": "stream",
     "text": [
      "First Citizen:\n",
      "Before we proceed any further, hear me speak.\n",
      "\n",
      "All:\n",
      "Speak, speak.\n",
      "\n",
      "First Citizen:\n",
      "You are all resolved rather to die than to famish?\n",
      "\n",
      "All:\n",
      "Resolved. resolved.\n",
      "\n",
      "First Citizen:\n",
      "First, you know Caius Marcius is chief enemy to the people.\n",
      "\n",
      "All:\n",
      "We know't, we know't.\n",
      "\n",
      "First Citizen:\n",
      "Let us kill him, and we'll have corn at our own price.\n",
      "Is't a verdict?\n",
      "\n",
      "All:\n",
      "No more talking on't; let it be done: away, away!\n",
      "\n",
      "Second Citizen:\n",
      "One word, good citizens.\n",
      "\n",
      "First Citizen:\n",
      "We are accounted poor citizens, the patricians good.\n",
      "What authority surfeits on would relieve us: if they\n",
      "would yield us but the superfluity, while it were\n",
      "wholesome, we might guess they relieved us humanely;\n",
      "but they think we are too dear: the leanness that\n",
      "afflicts us, the object of our misery, is as an\n",
      "inventory to particularise their abundance; our\n",
      "sufferance is a gain to them Let us revenge this with\n",
      "our pikes, ere we become rakes: for the gods know I\n",
      "speak this in hunger for bread, not in thirst for revenge.\n",
      "\n",
      "\n"
     ]
    }
   ],
   "source": [
    "print(text[:1000])"
   ]
  },
  {
   "cell_type": "markdown",
   "id": "8618abab",
   "metadata": {
    "papermill": {
     "duration": 0.010771,
     "end_time": "2024-05-24T11:13:56.621471",
     "exception": false,
     "start_time": "2024-05-24T11:13:56.610700",
     "status": "completed"
    },
    "tags": []
   },
   "source": [
    "### Populating the vocabulary"
   ]
  },
  {
   "cell_type": "code",
   "execution_count": 6,
   "id": "45c88b87",
   "metadata": {
    "execution": {
     "iopub.execute_input": "2024-05-24T11:13:56.644712Z",
     "iopub.status.busy": "2024-05-24T11:13:56.644251Z",
     "iopub.status.idle": "2024-05-24T11:13:56.672982Z",
     "shell.execute_reply": "2024-05-24T11:13:56.671393Z"
    },
    "papermill": {
     "duration": 0.042574,
     "end_time": "2024-05-24T11:13:56.675825",
     "exception": false,
     "start_time": "2024-05-24T11:13:56.633251",
     "status": "completed"
    },
    "tags": []
   },
   "outputs": [
    {
     "name": "stdout",
     "output_type": "stream",
     "text": [
      "\n",
      " !$&',-.3:;?ABCDEFGHIJKLMNOPQRSTUVWXYZabcdefghijklmnopqrstuvwxyz\n",
      "65\n"
     ]
    }
   ],
   "source": [
    "chars = sorted(list(set(text)))\n",
    "vocab_size = len(chars)\n",
    "print(''.join(chars))\n",
    "print(vocab_size)"
   ]
  },
  {
   "cell_type": "markdown",
   "id": "73fe267f",
   "metadata": {
    "papermill": {
     "duration": 0.008946,
     "end_time": "2024-05-24T11:13:56.694156",
     "exception": false,
     "start_time": "2024-05-24T11:13:56.685210",
     "status": "completed"
    },
    "tags": []
   },
   "source": [
    "### Tokenization"
   ]
  },
  {
   "cell_type": "code",
   "execution_count": 7,
   "id": "614bb0bd",
   "metadata": {
    "execution": {
     "iopub.execute_input": "2024-05-24T11:13:56.717296Z",
     "iopub.status.busy": "2024-05-24T11:13:56.716839Z",
     "iopub.status.idle": "2024-05-24T11:13:56.726079Z",
     "shell.execute_reply": "2024-05-24T11:13:56.724521Z"
    },
    "papermill": {
     "duration": 0.024833,
     "end_time": "2024-05-24T11:13:56.729229",
     "exception": false,
     "start_time": "2024-05-24T11:13:56.704396",
     "status": "completed"
    },
    "tags": []
   },
   "outputs": [
    {
     "name": "stdout",
     "output_type": "stream",
     "text": [
      "[46, 47, 47, 1, 58, 46, 43, 56, 43, 56]\n",
      "hii therer\n"
     ]
    }
   ],
   "source": [
    "stoi = {ch:i for i, ch in enumerate(chars)}\n",
    "itos = {i:ch for i, ch in enumerate(chars)}\n",
    "encode = lambda s: [stoi[c] for c in s] # encoder: taking a string and outputting a list of integers\n",
    "decode = lambda l : ''.join([itos[i] for i in l]) # decoder: take a list of integers and outputs a string\n",
    "\n",
    "print(encode(\"hii therer\"))\n",
    "print(decode(encode(\"hii therer\")))"
   ]
  },
  {
   "cell_type": "markdown",
   "id": "95782a6c",
   "metadata": {
    "papermill": {
     "duration": 0.011201,
     "end_time": "2024-05-24T11:13:56.749937",
     "exception": false,
     "start_time": "2024-05-24T11:13:56.738736",
     "status": "completed"
    },
    "tags": []
   },
   "source": [
    "### Tokenizing the input corpus"
   ]
  },
  {
   "cell_type": "code",
   "execution_count": 8,
   "id": "79890f72",
   "metadata": {
    "execution": {
     "iopub.execute_input": "2024-05-24T11:13:56.774071Z",
     "iopub.status.busy": "2024-05-24T11:13:56.773658Z",
     "iopub.status.idle": "2024-05-24T11:13:57.169310Z",
     "shell.execute_reply": "2024-05-24T11:13:57.167654Z"
    },
    "papermill": {
     "duration": 0.412168,
     "end_time": "2024-05-24T11:13:57.173226",
     "exception": false,
     "start_time": "2024-05-24T11:13:56.761058",
     "status": "completed"
    },
    "tags": []
   },
   "outputs": [
    {
     "name": "stdout",
     "output_type": "stream",
     "text": [
      "torch.Size([1115394]) torch.int64\n",
      "tensor([18, 47, 56, 57, 58,  1, 15, 47, 58, 47, 64, 43, 52, 10,  0, 14, 43, 44,\n",
      "        53, 56, 43,  1, 61, 43,  1, 54, 56, 53, 41, 43, 43, 42,  1, 39, 52, 63,\n",
      "         1, 44, 59, 56, 58, 46, 43, 56,  6,  1, 46, 43, 39, 56,  1, 51, 43,  1,\n",
      "        57, 54, 43, 39, 49,  8,  0,  0, 13, 50, 50, 10,  0, 31, 54, 43, 39, 49,\n",
      "         6,  1, 57, 54, 43, 39, 49,  8,  0,  0, 18, 47, 56, 57, 58,  1, 15, 47,\n",
      "        58, 47, 64, 43, 52, 10,  0, 37, 53, 59])\n"
     ]
    }
   ],
   "source": [
    "data = torch.tensor(encode(text), dtype = torch.long)\n",
    "print(data.shape, data.dtype)\n",
    "print(data[:100])"
   ]
  },
  {
   "cell_type": "markdown",
   "id": "9095990a",
   "metadata": {
    "papermill": {
     "duration": 0.009603,
     "end_time": "2024-05-24T11:13:57.193054",
     "exception": false,
     "start_time": "2024-05-24T11:13:57.183451",
     "status": "completed"
    },
    "tags": []
   },
   "source": [
    "### Train/Dev/Test split"
   ]
  },
  {
   "cell_type": "code",
   "execution_count": 9,
   "id": "e43f90e0",
   "metadata": {
    "execution": {
     "iopub.execute_input": "2024-05-24T11:13:57.215511Z",
     "iopub.status.busy": "2024-05-24T11:13:57.215077Z",
     "iopub.status.idle": "2024-05-24T11:13:57.221123Z",
     "shell.execute_reply": "2024-05-24T11:13:57.219633Z"
    },
    "papermill": {
     "duration": 0.02066,
     "end_time": "2024-05-24T11:13:57.223755",
     "exception": false,
     "start_time": "2024-05-24T11:13:57.203095",
     "status": "completed"
    },
    "tags": []
   },
   "outputs": [],
   "source": [
    "n = int(0.9*len(data))\n",
    "train_data = data[:n]\n",
    "val_data = data[n:]"
   ]
  },
  {
   "cell_type": "code",
   "execution_count": 10,
   "id": "3241d9f4",
   "metadata": {
    "execution": {
     "iopub.execute_input": "2024-05-24T11:13:57.245493Z",
     "iopub.status.busy": "2024-05-24T11:13:57.244978Z",
     "iopub.status.idle": "2024-05-24T11:13:57.256007Z",
     "shell.execute_reply": "2024-05-24T11:13:57.254855Z"
    },
    "papermill": {
     "duration": 0.024741,
     "end_time": "2024-05-24T11:13:57.258422",
     "exception": false,
     "start_time": "2024-05-24T11:13:57.233681",
     "status": "completed"
    },
    "tags": []
   },
   "outputs": [
    {
     "data": {
      "text/plain": [
       "tensor([18, 47, 56, 57, 58,  1, 15, 47])"
      ]
     },
     "execution_count": 10,
     "metadata": {},
     "output_type": "execute_result"
    }
   ],
   "source": [
    "block_size = 8\n",
    "train_data[:block_size]"
   ]
  },
  {
   "cell_type": "code",
   "execution_count": 11,
   "id": "ba06f00d",
   "metadata": {
    "execution": {
     "iopub.execute_input": "2024-05-24T11:13:57.281221Z",
     "iopub.status.busy": "2024-05-24T11:13:57.280777Z",
     "iopub.status.idle": "2024-05-24T11:13:57.288912Z",
     "shell.execute_reply": "2024-05-24T11:13:57.287740Z"
    },
    "papermill": {
     "duration": 0.023347,
     "end_time": "2024-05-24T11:13:57.292489",
     "exception": false,
     "start_time": "2024-05-24T11:13:57.269142",
     "status": "completed"
    },
    "tags": []
   },
   "outputs": [
    {
     "name": "stdout",
     "output_type": "stream",
     "text": [
      "when the input is F the target is: i\n",
      "when the input is Fi the target is: r\n",
      "when the input is Fir the target is: s\n",
      "when the input is Firs the target is: t\n",
      "when the input is First the target is:  \n",
      "when the input is First  the target is: C\n",
      "when the input is First C the target is: i\n",
      "when the input is First Ci the target is: t\n"
     ]
    }
   ],
   "source": [
    "x = train_data[:block_size]\n",
    "y = train_data[1:block_size+1]\n",
    "for t in range(block_size):\n",
    "    context = x[:t+1]\n",
    "    target = y[t]\n",
    "    print(f\"when the input is {decode(context.tolist())} the target is: {decode([target.item()])}\")"
   ]
  },
  {
   "cell_type": "markdown",
   "id": "624e4a97",
   "metadata": {
    "papermill": {
     "duration": 0.009928,
     "end_time": "2024-05-24T11:13:57.312308",
     "exception": false,
     "start_time": "2024-05-24T11:13:57.302380",
     "status": "completed"
    },
    "tags": []
   },
   "source": [
    "### Generalising Batch Dimension"
   ]
  },
  {
   "cell_type": "code",
   "execution_count": 12,
   "id": "fbe40dd8",
   "metadata": {
    "execution": {
     "iopub.execute_input": "2024-05-24T11:13:57.333999Z",
     "iopub.status.busy": "2024-05-24T11:13:57.333609Z",
     "iopub.status.idle": "2024-05-24T11:13:57.377135Z",
     "shell.execute_reply": "2024-05-24T11:13:57.375804Z"
    },
    "papermill": {
     "duration": 0.058342,
     "end_time": "2024-05-24T11:13:57.380493",
     "exception": false,
     "start_time": "2024-05-24T11:13:57.322151",
     "status": "completed"
    },
    "tags": []
   },
   "outputs": [
    {
     "name": "stdout",
     "output_type": "stream",
     "text": [
      "inputs:\n",
      "torch.Size([4, 8])\n",
      "tensor([[24, 43, 58,  5, 57,  1, 46, 43],\n",
      "        [44, 53, 56,  1, 58, 46, 39, 58],\n",
      "        [52, 58,  1, 58, 46, 39, 58,  1],\n",
      "        [25, 17, 27, 10,  0, 21,  1, 54]])\n",
      "targets:\n",
      "torch.Size([4, 8])\n",
      "tensor([[43, 58,  5, 57,  1, 46, 43, 39],\n",
      "        [53, 56,  1, 58, 46, 39, 58,  1],\n",
      "        [58,  1, 58, 46, 39, 58,  1, 46],\n",
      "        [17, 27, 10,  0, 21,  1, 54, 39]])\n",
      "---------------\n",
      "when the input is L the target is: e\n",
      "when the input is Le the target is: t\n",
      "when the input is Let the target is: '\n",
      "when the input is Let' the target is: s\n",
      "when the input is Let's the target is:  \n",
      "when the input is Let's  the target is: h\n",
      "when the input is Let's h the target is: e\n",
      "when the input is Let's he the target is: a\n",
      "when the input is f the target is: o\n",
      "when the input is fo the target is: r\n",
      "when the input is for the target is:  \n",
      "when the input is for  the target is: t\n",
      "when the input is for t the target is: h\n",
      "when the input is for th the target is: a\n",
      "when the input is for tha the target is: t\n",
      "when the input is for that the target is:  \n",
      "when the input is n the target is: t\n",
      "when the input is nt the target is:  \n",
      "when the input is nt  the target is: t\n",
      "when the input is nt t the target is: h\n",
      "when the input is nt th the target is: a\n",
      "when the input is nt tha the target is: t\n",
      "when the input is nt that the target is:  \n",
      "when the input is nt that  the target is: h\n",
      "when the input is M the target is: E\n",
      "when the input is ME the target is: O\n",
      "when the input is MEO the target is: :\n",
      "when the input is MEO: the target is: \n",
      "\n",
      "when the input is MEO:\n",
      " the target is: I\n",
      "when the input is MEO:\n",
      "I the target is:  \n",
      "when the input is MEO:\n",
      "I  the target is: p\n",
      "when the input is MEO:\n",
      "I p the target is: a\n"
     ]
    }
   ],
   "source": [
    "torch.manual_seed(1337)\n",
    "batch_size = 4\n",
    "block_size = 8\n",
    "\n",
    "def get_batch(split):\n",
    "    # generate a small batch of data of inputs x and targets y\n",
    "    data = train_data if split == 'train' else val_data\n",
    "    ix = torch.randint(len(data) - block_size, (batch_size,))\n",
    "    x = torch.stack([data[i:i+block_size] for i in ix])\n",
    "    y = torch.stack([data[i+1:i+block_size+1] for i in ix])\n",
    "    return x, y\n",
    "\n",
    "xb, yb = get_batch('train')\n",
    "print('inputs:')\n",
    "print(xb.shape)\n",
    "print(xb)\n",
    "print('targets:')\n",
    "print(yb.shape)\n",
    "print(yb)\n",
    "print('---------------')\n",
    "\n",
    "for b in range(batch_size):\n",
    "    for t in range(block_size):\n",
    "        context = xb[b, :t+1]\n",
    "        target = yb[b, t]\n",
    "        print(f\"when the input is {decode(context.tolist())} the target is: {decode([target.item()])}\")"
   ]
  },
  {
   "cell_type": "markdown",
   "id": "17a4a4e9",
   "metadata": {
    "papermill": {
     "duration": 0.009919,
     "end_time": "2024-05-24T11:13:57.400841",
     "exception": false,
     "start_time": "2024-05-24T11:13:57.390922",
     "status": "completed"
    },
    "tags": []
   },
   "source": [
    "# Bigram Model"
   ]
  },
  {
   "cell_type": "code",
   "execution_count": 13,
   "id": "95ee529d",
   "metadata": {
    "execution": {
     "iopub.execute_input": "2024-05-24T11:13:57.423644Z",
     "iopub.status.busy": "2024-05-24T11:13:57.423154Z",
     "iopub.status.idle": "2024-05-24T11:13:57.496524Z",
     "shell.execute_reply": "2024-05-24T11:13:57.494973Z"
    },
    "papermill": {
     "duration": 0.087809,
     "end_time": "2024-05-24T11:13:57.498934",
     "exception": false,
     "start_time": "2024-05-24T11:13:57.411125",
     "status": "completed"
    },
    "tags": []
   },
   "outputs": [
    {
     "name": "stdout",
     "output_type": "stream",
     "text": [
      "torch.Size([32, 65]) tensor(4.8786, grad_fn=<NllLossBackward0>)\n"
     ]
    }
   ],
   "source": [
    "torch.manual_seed(1337)\n",
    "\n",
    "class BigramLanguageModel(nn.Module):\n",
    "    \n",
    "    def __init__(self, vocab_size):\n",
    "        super().__init__()\n",
    "        self.token_embedding_table = nn.Embedding(vocab_size, vocab_size)\n",
    "    \n",
    "    def forward(self, idx, targets = None):\n",
    "        logits = self.token_embedding_table(idx)\n",
    "        \n",
    "        if targets is None:\n",
    "            loss = None\n",
    "        else:\n",
    "            B, T, C = logits.shape\n",
    "            logits = logits.view(B*T, C)\n",
    "            targets = targets.view(B*T)\n",
    "            loss = F.cross_entropy(logits, targets)\n",
    "        \n",
    "        return logits, loss\n",
    "    \n",
    "    def generate(self, idx, max_new_tokens):\n",
    "        # idx is (B, T) array of indices in the current context\n",
    "        for _ in range(max_new_tokens):\n",
    "            # get ther predictions\n",
    "            logits, loss = self(idx)\n",
    "            # focus only on the last time step\n",
    "            logits = logits[:, -1, :] # becomes (B, C)\n",
    "            # apply softmax to get probabilities\n",
    "            probs = F.softmax(logits, dim = 1)\n",
    "            # sample from the distribution\n",
    "            idx_next = torch.multinomial(probs, num_samples = 1) # (B, 1)\n",
    "            # append sampled index to the running sequence\n",
    "            idx = torch.cat((idx, idx_next), dim = 1) # (B, T+1)\n",
    "        return idx\n",
    "    \n",
    "m = BigramLanguageModel(vocab_size)\n",
    "out, loss = m(xb, yb)\n",
    "print(out.shape, loss) # (batch, context, embeddings)"
   ]
  },
  {
   "cell_type": "code",
   "execution_count": 14,
   "id": "a464fb40",
   "metadata": {
    "execution": {
     "iopub.execute_input": "2024-05-24T11:13:57.521832Z",
     "iopub.status.busy": "2024-05-24T11:13:57.521189Z",
     "iopub.status.idle": "2024-05-24T11:13:57.539819Z",
     "shell.execute_reply": "2024-05-24T11:13:57.538936Z"
    },
    "papermill": {
     "duration": 0.032979,
     "end_time": "2024-05-24T11:13:57.542270",
     "exception": false,
     "start_time": "2024-05-24T11:13:57.509291",
     "status": "completed"
    },
    "tags": []
   },
   "outputs": [
    {
     "name": "stdout",
     "output_type": "stream",
     "text": [
      "torch.Size([32, 65]) tensor(4.8786, grad_fn=<NllLossBackward0>)\n"
     ]
    }
   ],
   "source": [
    "torch.manual_seed(1337)\n",
    "\n",
    "class BigramLanguageModel(nn.Module):\n",
    "    \n",
    "    def __init__(self, vocab_size):\n",
    "        super().__init__()\n",
    "        self.token_embedding_table = nn.Embedding(vocab_size, vocab_size)\n",
    "    \n",
    "    def forward(self, idx, targets = None):\n",
    "        logits = self.token_embedding_table(idx)\n",
    "        \n",
    "        if targets is None:\n",
    "            loss = None\n",
    "        else:\n",
    "            B, T, C = logits.shape\n",
    "            logits = logits.view(B*T, C)\n",
    "            targets = targets.view(B*T)\n",
    "            loss = F.cross_entropy(logits, targets)\n",
    "        \n",
    "        return logits, loss\n",
    "    \n",
    "    def generate(self, idx, max_new_tokens):\n",
    "        # idx is (B, T) array of indices in the current context\n",
    "        for _ in range(max_new_tokens):\n",
    "            # get ther predictions\n",
    "            logits, loss = self(idx)\n",
    "            # focus only on the last time step\n",
    "            logits = logits[:, -1, :] # becomes (B, C)\n",
    "            # apply softmax to get probabilities\n",
    "            probs = F.softmax(logits, dim = 1)\n",
    "            # sample from the distribution\n",
    "            idx_next = torch.multinomial(probs, num_samples = 1) # (B, 1)\n",
    "            # append sampled index to the running sequence\n",
    "            idx = torch.cat((idx, idx_next), dim = 1) # (B, T+1)\n",
    "        return idx\n",
    "    \n",
    "m = BigramLanguageModel(vocab_size)\n",
    "out, loss = m(xb, yb)\n",
    "print(out.shape, loss) # (batch, context, embeddings)"
   ]
  },
  {
   "cell_type": "code",
   "execution_count": 15,
   "id": "50c5a356",
   "metadata": {
    "execution": {
     "iopub.execute_input": "2024-05-24T11:13:57.566461Z",
     "iopub.status.busy": "2024-05-24T11:13:57.565784Z",
     "iopub.status.idle": "2024-05-24T11:13:57.583389Z",
     "shell.execute_reply": "2024-05-24T11:13:57.582336Z"
    },
    "papermill": {
     "duration": 0.032363,
     "end_time": "2024-05-24T11:13:57.586028",
     "exception": false,
     "start_time": "2024-05-24T11:13:57.553665",
     "status": "completed"
    },
    "tags": []
   },
   "outputs": [
    {
     "name": "stdout",
     "output_type": "stream",
     "text": [
      "torch.Size([32, 65]) tensor(4.8786, grad_fn=<NllLossBackward0>)\n"
     ]
    }
   ],
   "source": [
    "torch.manual_seed(1337)\n",
    "\n",
    "class BigramLanguageModel(nn.Module):\n",
    "    \n",
    "    def __init__(self, vocab_size):\n",
    "        super().__init__()\n",
    "        self.token_embedding_table = nn.Embedding(vocab_size, vocab_size)\n",
    "    \n",
    "    def forward(self, idx, targets = None):\n",
    "        logits = self.token_embedding_table(idx)\n",
    "        \n",
    "        if targets is None:\n",
    "            loss = None\n",
    "        else:\n",
    "            B, T, C = logits.shape\n",
    "            logits = logits.view(B*T, C)\n",
    "            targets = targets.view(B*T)\n",
    "            loss = F.cross_entropy(logits, targets)\n",
    "        \n",
    "        return logits, loss\n",
    "    \n",
    "    def generate(self, idx, max_new_tokens):\n",
    "        # idx is (B, T) array of indices in the current context\n",
    "        for _ in range(max_new_tokens):\n",
    "            # get ther predictions\n",
    "            logits, loss = self(idx)\n",
    "            # focus only on the last time step\n",
    "            logits = logits[:, -1, :] # becomes (B, C)\n",
    "            # apply softmax to get probabilities\n",
    "            probs = F.softmax(logits, dim = 1)\n",
    "            # sample from the distribution\n",
    "            idx_next = torch.multinomial(probs, num_samples = 1) # (B, 1)\n",
    "            # append sampled index to the running sequence\n",
    "            idx = torch.cat((idx, idx_next), dim = 1) # (B, T+1)\n",
    "        return idx\n",
    "    \n",
    "m = BigramLanguageModel(vocab_size)\n",
    "out, loss = m(xb, yb)\n",
    "print(out.shape, loss) # (batch, context, embeddings)"
   ]
  },
  {
   "cell_type": "code",
   "execution_count": 16,
   "id": "3cb9a770",
   "metadata": {
    "execution": {
     "iopub.execute_input": "2024-05-24T11:13:57.609728Z",
     "iopub.status.busy": "2024-05-24T11:13:57.608842Z",
     "iopub.status.idle": "2024-05-24T11:13:57.652070Z",
     "shell.execute_reply": "2024-05-24T11:13:57.650634Z"
    },
    "papermill": {
     "duration": 0.058418,
     "end_time": "2024-05-24T11:13:57.655017",
     "exception": false,
     "start_time": "2024-05-24T11:13:57.596599",
     "status": "completed"
    },
    "tags": []
   },
   "outputs": [
    {
     "name": "stdout",
     "output_type": "stream",
     "text": [
      "\n",
      "Sr?qP-QWktXoL&jLDJgOLVz'RIoDqHdhsV&vLLxatjscMpwLERSPyao.qfzs$Ys$zF-w,;eEkzxjgCKFChs!iWW.ObzDnxA Ms$3\n"
     ]
    }
   ],
   "source": [
    "idx = torch.zeros((1, 1), dtype = torch.long)\n",
    "print(decode(m.generate(idx, max_new_tokens = 100)[0].tolist()))"
   ]
  },
  {
   "cell_type": "markdown",
   "id": "c01ac811",
   "metadata": {
    "papermill": {
     "duration": 0.010388,
     "end_time": "2024-05-24T11:13:57.675714",
     "exception": false,
     "start_time": "2024-05-24T11:13:57.665326",
     "status": "completed"
    },
    "tags": []
   },
   "source": [
    "## Pytorch Optimization Object "
   ]
  },
  {
   "cell_type": "code",
   "execution_count": 17,
   "id": "5780ce24",
   "metadata": {
    "execution": {
     "iopub.execute_input": "2024-05-24T11:13:57.698410Z",
     "iopub.status.busy": "2024-05-24T11:13:57.698001Z",
     "iopub.status.idle": "2024-05-24T11:14:00.832443Z",
     "shell.execute_reply": "2024-05-24T11:14:00.831204Z"
    },
    "papermill": {
     "duration": 3.149208,
     "end_time": "2024-05-24T11:14:00.835275",
     "exception": false,
     "start_time": "2024-05-24T11:13:57.686067",
     "status": "completed"
    },
    "tags": []
   },
   "outputs": [],
   "source": [
    "optimizer = torch.optim.AdamW(m.parameters(), lr = 1e-3)"
   ]
  },
  {
   "cell_type": "code",
   "execution_count": 18,
   "id": "bdc4e208",
   "metadata": {
    "execution": {
     "iopub.execute_input": "2024-05-24T11:14:00.859109Z",
     "iopub.status.busy": "2024-05-24T11:14:00.858483Z",
     "iopub.status.idle": "2024-05-24T11:14:21.327535Z",
     "shell.execute_reply": "2024-05-24T11:14:21.326181Z"
    },
    "papermill": {
     "duration": 20.484683,
     "end_time": "2024-05-24T11:14:21.330367",
     "exception": false,
     "start_time": "2024-05-24T11:14:00.845684",
     "status": "completed"
    },
    "tags": []
   },
   "outputs": [
    {
     "name": "stdout",
     "output_type": "stream",
     "text": [
      "2.5727508068084717\n"
     ]
    }
   ],
   "source": [
    "batch_size = 32\n",
    "for steps in range(10000):\n",
    "    # sample a batch of data\n",
    "    xb, yb = get_batch('train')\n",
    "    \n",
    "    # evaluate the loss\n",
    "    logits, loss = m(xb, yb)\n",
    "    optimizer.zero_grad(set_to_none = True)\n",
    "    loss.backward()\n",
    "    optimizer.step()\n",
    "    \n",
    "print(loss.item())"
   ]
  },
  {
   "cell_type": "code",
   "execution_count": 19,
   "id": "95e72c7c",
   "metadata": {
    "execution": {
     "iopub.execute_input": "2024-05-24T11:14:21.354133Z",
     "iopub.status.busy": "2024-05-24T11:14:21.353688Z",
     "iopub.status.idle": "2024-05-24T11:14:21.375173Z",
     "shell.execute_reply": "2024-05-24T11:14:21.374189Z"
    },
    "papermill": {
     "duration": 0.036597,
     "end_time": "2024-05-24T11:14:21.377702",
     "exception": false,
     "start_time": "2024-05-24T11:14:21.341105",
     "status": "completed"
    },
    "tags": []
   },
   "outputs": [
    {
     "name": "stdout",
     "output_type": "stream",
     "text": [
      "\n",
      "Iyoteng h hasbe pave pirance\n",
      "Rie hicomyonthar's\n",
      "Plinseard ith henoure wounonthioneir thondy, y helti\n"
     ]
    }
   ],
   "source": [
    "idx = torch.zeros((1, 1), dtype = torch.long)\n",
    "print(decode(m.generate(idx, max_new_tokens = 100)[0].tolist()))"
   ]
  },
  {
   "cell_type": "code",
   "execution_count": null,
   "id": "f5ca763d",
   "metadata": {
    "papermill": {
     "duration": 0.010431,
     "end_time": "2024-05-24T11:14:21.399044",
     "exception": false,
     "start_time": "2024-05-24T11:14:21.388613",
     "status": "completed"
    },
    "tags": []
   },
   "outputs": [],
   "source": []
  }
 ],
 "metadata": {
  "kaggle": {
   "accelerator": "none",
   "dataSources": [],
   "dockerImageVersionId": 30698,
   "isGpuEnabled": false,
   "isInternetEnabled": true,
   "language": "python",
   "sourceType": "notebook"
  },
  "kernelspec": {
   "display_name": "Python 3",
   "language": "python",
   "name": "python3"
  },
  "language_info": {
   "codemirror_mode": {
    "name": "ipython",
    "version": 3
   },
   "file_extension": ".py",
   "mimetype": "text/x-python",
   "name": "python",
   "nbconvert_exporter": "python",
   "pygments_lexer": "ipython3",
   "version": "3.10.13"
  },
  "papermill": {
   "default_parameters": {},
   "duration": 34.747237,
   "end_time": "2024-05-24T11:14:22.835061",
   "environment_variables": {},
   "exception": null,
   "input_path": "__notebook__.ipynb",
   "output_path": "__notebook__.ipynb",
   "parameters": {},
   "start_time": "2024-05-24T11:13:48.087824",
   "version": "2.5.0"
  }
 },
 "nbformat": 4,
 "nbformat_minor": 5
}
