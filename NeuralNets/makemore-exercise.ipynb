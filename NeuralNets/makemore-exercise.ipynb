{
 "cells": [
  {
   "cell_type": "code",
   "execution_count": 1,
   "id": "7f8d2664",
   "metadata": {
    "_cell_guid": "b1076dfc-b9ad-4769-8c92-a6c4dae69d19",
    "_uuid": "8f2839f25d086af736a60e9eeb907d3b93b6e0e5",
    "execution": {
     "iopub.execute_input": "2024-05-19T10:16:36.807573Z",
     "iopub.status.busy": "2024-05-19T10:16:36.806299Z",
     "iopub.status.idle": "2024-05-19T10:16:41.514509Z",
     "shell.execute_reply": "2024-05-19T10:16:41.512863Z"
    },
    "papermill": {
     "duration": 4.722713,
     "end_time": "2024-05-19T10:16:41.517247",
     "exception": false,
     "start_time": "2024-05-19T10:16:36.794534",
     "status": "completed"
    },
    "tags": []
   },
   "outputs": [
    {
     "name": "stdout",
     "output_type": "stream",
     "text": [
      "/kaggle/input/names-txt/LICENSE\n",
      "/kaggle/input/names-txt/README.md\n",
      "/kaggle/input/names-txt/makemore.py\n",
      "/kaggle/input/names-txt/names.txt\n"
     ]
    }
   ],
   "source": [
    "import pandas as pd\n",
    "import torch\n",
    "\n",
    "import os\n",
    "for dirname, _, filenames in os.walk('/kaggle/input'):\n",
    "    for filename in filenames:\n",
    "        print(os.path.join(dirname, filename))"
   ]
  },
  {
   "cell_type": "code",
   "execution_count": 2,
   "id": "cb753583",
   "metadata": {
    "execution": {
     "iopub.execute_input": "2024-05-19T10:16:41.538141Z",
     "iopub.status.busy": "2024-05-19T10:16:41.537583Z",
     "iopub.status.idle": "2024-05-19T10:16:41.595166Z",
     "shell.execute_reply": "2024-05-19T10:16:41.593803Z"
    },
    "papermill": {
     "duration": 0.07078,
     "end_time": "2024-05-19T10:16:41.597947",
     "exception": false,
     "start_time": "2024-05-19T10:16:41.527167",
     "status": "completed"
    },
    "tags": []
   },
   "outputs": [],
   "source": [
    "words = pd.read_csv('/kaggle/input/names-txt/names.txt', header = None)\n",
    "words.columns = ['Names']"
   ]
  },
  {
   "cell_type": "code",
   "execution_count": 3,
   "id": "2489315a",
   "metadata": {
    "execution": {
     "iopub.execute_input": "2024-05-19T10:16:41.619765Z",
     "iopub.status.busy": "2024-05-19T10:16:41.619364Z",
     "iopub.status.idle": "2024-05-19T10:16:41.639824Z",
     "shell.execute_reply": "2024-05-19T10:16:41.638948Z"
    },
    "papermill": {
     "duration": 0.033805,
     "end_time": "2024-05-19T10:16:41.641928",
     "exception": false,
     "start_time": "2024-05-19T10:16:41.608123",
     "status": "completed"
    },
    "tags": []
   },
   "outputs": [
    {
     "data": {
      "text/html": [
       "<div>\n",
       "<style scoped>\n",
       "    .dataframe tbody tr th:only-of-type {\n",
       "        vertical-align: middle;\n",
       "    }\n",
       "\n",
       "    .dataframe tbody tr th {\n",
       "        vertical-align: top;\n",
       "    }\n",
       "\n",
       "    .dataframe thead th {\n",
       "        text-align: right;\n",
       "    }\n",
       "</style>\n",
       "<table border=\"1\" class=\"dataframe\">\n",
       "  <thead>\n",
       "    <tr style=\"text-align: right;\">\n",
       "      <th></th>\n",
       "      <th>Names</th>\n",
       "    </tr>\n",
       "  </thead>\n",
       "  <tbody>\n",
       "    <tr>\n",
       "      <th>0</th>\n",
       "      <td>emma</td>\n",
       "    </tr>\n",
       "    <tr>\n",
       "      <th>1</th>\n",
       "      <td>olivia</td>\n",
       "    </tr>\n",
       "    <tr>\n",
       "      <th>2</th>\n",
       "      <td>ava</td>\n",
       "    </tr>\n",
       "    <tr>\n",
       "      <th>3</th>\n",
       "      <td>isabella</td>\n",
       "    </tr>\n",
       "    <tr>\n",
       "      <th>4</th>\n",
       "      <td>sophia</td>\n",
       "    </tr>\n",
       "  </tbody>\n",
       "</table>\n",
       "</div>"
      ],
      "text/plain": [
       "      Names\n",
       "0      emma\n",
       "1    olivia\n",
       "2       ava\n",
       "3  isabella\n",
       "4    sophia"
      ]
     },
     "execution_count": 3,
     "metadata": {},
     "output_type": "execute_result"
    }
   ],
   "source": [
    "words.head()"
   ]
  },
  {
   "cell_type": "markdown",
   "id": "8c774738",
   "metadata": {
    "papermill": {
     "duration": 0.009083,
     "end_time": "2024-05-19T10:16:41.660579",
     "exception": false,
     "start_time": "2024-05-19T10:16:41.651496",
     "status": "completed"
    },
    "tags": []
   },
   "source": [
    "## Bigram vs Trigram langauge Model"
   ]
  },
  {
   "cell_type": "code",
   "execution_count": 4,
   "id": "390ab036",
   "metadata": {
    "execution": {
     "iopub.execute_input": "2024-05-19T10:16:41.681608Z",
     "iopub.status.busy": "2024-05-19T10:16:41.680847Z",
     "iopub.status.idle": "2024-05-19T10:16:41.731205Z",
     "shell.execute_reply": "2024-05-19T10:16:41.730364Z"
    },
    "papermill": {
     "duration": 0.063297,
     "end_time": "2024-05-19T10:16:41.733343",
     "exception": false,
     "start_time": "2024-05-19T10:16:41.670046",
     "status": "completed"
    },
    "tags": []
   },
   "outputs": [
    {
     "data": {
      "text/plain": [
       "{'a',\n",
       " 'b',\n",
       " 'c',\n",
       " 'd',\n",
       " 'e',\n",
       " 'f',\n",
       " 'g',\n",
       " 'h',\n",
       " 'i',\n",
       " 'j',\n",
       " 'k',\n",
       " 'l',\n",
       " 'm',\n",
       " 'n',\n",
       " 'o',\n",
       " 'p',\n",
       " 'q',\n",
       " 'r',\n",
       " 's',\n",
       " 't',\n",
       " 'u',\n",
       " 'v',\n",
       " 'w',\n",
       " 'x',\n",
       " 'y',\n",
       " 'z'}"
      ]
     },
     "execution_count": 4,
     "metadata": {},
     "output_type": "execute_result"
    }
   ],
   "source": [
    "chs = set()\n",
    "for w in words['Names']:\n",
    "    for char in w:\n",
    "        chs.add(char)\n",
    "chs"
   ]
  },
  {
   "cell_type": "code",
   "execution_count": 5,
   "id": "0971e5a5",
   "metadata": {
    "execution": {
     "iopub.execute_input": "2024-05-19T10:16:41.755336Z",
     "iopub.status.busy": "2024-05-19T10:16:41.754384Z",
     "iopub.status.idle": "2024-05-19T10:16:41.764126Z",
     "shell.execute_reply": "2024-05-19T10:16:41.762632Z"
    },
    "papermill": {
     "duration": 0.023535,
     "end_time": "2024-05-19T10:16:41.766606",
     "exception": false,
     "start_time": "2024-05-19T10:16:41.743071",
     "status": "completed"
    },
    "tags": []
   },
   "outputs": [
    {
     "data": {
      "text/plain": [
       "{'r': 1,\n",
       " 'n': 2,\n",
       " 'c': 3,\n",
       " 'k': 4,\n",
       " 'w': 5,\n",
       " 'x': 6,\n",
       " 'v': 7,\n",
       " 'a': 8,\n",
       " 'y': 9,\n",
       " 'm': 10,\n",
       " 'u': 11,\n",
       " 'q': 12,\n",
       " 'f': 13,\n",
       " 'z': 14,\n",
       " 'o': 15,\n",
       " 'h': 16,\n",
       " 'g': 17,\n",
       " 't': 18,\n",
       " 'd': 19,\n",
       " 's': 20,\n",
       " 'i': 21,\n",
       " 'p': 22,\n",
       " 'e': 23,\n",
       " 'b': 24,\n",
       " 'j': 25,\n",
       " 'l': 26,\n",
       " '.': 0}"
      ]
     },
     "execution_count": 5,
     "metadata": {},
     "output_type": "execute_result"
    }
   ],
   "source": [
    "idx = 1\n",
    "stoi = {}\n",
    "for char in chs:\n",
    "    stoi[char] = idx\n",
    "    idx += 1\n",
    "stoi['.'] = 0\n",
    "stoi"
   ]
  },
  {
   "cell_type": "code",
   "execution_count": 6,
   "id": "5e6c852f",
   "metadata": {
    "execution": {
     "iopub.execute_input": "2024-05-19T10:16:41.789589Z",
     "iopub.status.busy": "2024-05-19T10:16:41.789127Z",
     "iopub.status.idle": "2024-05-19T10:16:41.797624Z",
     "shell.execute_reply": "2024-05-19T10:16:41.796482Z"
    },
    "papermill": {
     "duration": 0.022745,
     "end_time": "2024-05-19T10:16:41.800147",
     "exception": false,
     "start_time": "2024-05-19T10:16:41.777402",
     "status": "completed"
    },
    "tags": []
   },
   "outputs": [
    {
     "data": {
      "text/plain": [
       "{1: 'r',\n",
       " 2: 'n',\n",
       " 3: 'c',\n",
       " 4: 'k',\n",
       " 5: 'w',\n",
       " 6: 'x',\n",
       " 7: 'v',\n",
       " 8: 'a',\n",
       " 9: 'y',\n",
       " 10: 'm',\n",
       " 11: 'u',\n",
       " 12: 'q',\n",
       " 13: 'f',\n",
       " 14: 'z',\n",
       " 15: 'o',\n",
       " 16: 'h',\n",
       " 17: 'g',\n",
       " 18: 't',\n",
       " 19: 'd',\n",
       " 20: 's',\n",
       " 21: 'i',\n",
       " 22: 'p',\n",
       " 23: 'e',\n",
       " 24: 'b',\n",
       " 25: 'j',\n",
       " 26: 'l',\n",
       " 0: '.'}"
      ]
     },
     "execution_count": 6,
     "metadata": {},
     "output_type": "execute_result"
    }
   ],
   "source": [
    "itos = {v: k for k, v in stoi.items()}\n",
    "itos"
   ]
  },
  {
   "cell_type": "markdown",
   "id": "9a94a746",
   "metadata": {
    "papermill": {
     "duration": 0.010144,
     "end_time": "2024-05-19T10:16:41.820757",
     "exception": false,
     "start_time": "2024-05-19T10:16:41.810613",
     "status": "completed"
    },
    "tags": []
   },
   "source": [
    "#### Bigram"
   ]
  },
  {
   "cell_type": "markdown",
   "id": "6e2ea058",
   "metadata": {
    "papermill": {
     "duration": 0.009508,
     "end_time": "2024-05-19T10:16:41.840224",
     "exception": false,
     "start_time": "2024-05-19T10:16:41.830716",
     "status": "completed"
    },
    "tags": []
   },
   "source": [
    "Populating Dataset"
   ]
  },
  {
   "cell_type": "code",
   "execution_count": 7,
   "id": "9e77e391",
   "metadata": {
    "execution": {
     "iopub.execute_input": "2024-05-19T10:16:41.862088Z",
     "iopub.status.busy": "2024-05-19T10:16:41.861441Z",
     "iopub.status.idle": "2024-05-19T10:16:42.300971Z",
     "shell.execute_reply": "2024-05-19T10:16:42.299758Z"
    },
    "papermill": {
     "duration": 0.454427,
     "end_time": "2024-05-19T10:16:42.304541",
     "exception": false,
     "start_time": "2024-05-19T10:16:41.850114",
     "status": "completed"
    },
    "tags": []
   },
   "outputs": [],
   "source": [
    "xs, ys = [], []\n",
    "for w in words['Names']:\n",
    "    chs = ['.'] + list(w) + ['.']\n",
    "    for ch1, ch2 in zip(chs, chs[1:]):\n",
    "        ix1 = stoi[ch1]\n",
    "        ix2 = stoi[ch2]\n",
    "        xs.append(ix1)\n",
    "        ys.append(ix2)\n",
    "xs = torch.tensor([xs])\n",
    "ys = torch.tensor([ys])"
   ]
  },
  {
   "cell_type": "code",
   "execution_count": 8,
   "id": "dcf62640",
   "metadata": {
    "execution": {
     "iopub.execute_input": "2024-05-19T10:16:42.328375Z",
     "iopub.status.busy": "2024-05-19T10:16:42.327748Z",
     "iopub.status.idle": "2024-05-19T10:16:42.334265Z",
     "shell.execute_reply": "2024-05-19T10:16:42.333146Z"
    },
    "papermill": {
     "duration": 0.020514,
     "end_time": "2024-05-19T10:16:42.336900",
     "exception": false,
     "start_time": "2024-05-19T10:16:42.316386",
     "status": "completed"
    },
    "tags": []
   },
   "outputs": [
    {
     "data": {
      "text/plain": [
       "torch.Size([1, 228146])"
      ]
     },
     "execution_count": 8,
     "metadata": {},
     "output_type": "execute_result"
    }
   ],
   "source": [
    "xs.shape"
   ]
  },
  {
   "cell_type": "markdown",
   "id": "3c156b3a",
   "metadata": {
    "papermill": {
     "duration": 0.009904,
     "end_time": "2024-05-19T10:16:42.356769",
     "exception": false,
     "start_time": "2024-05-19T10:16:42.346865",
     "status": "completed"
    },
    "tags": []
   },
   "source": [
    "Random Initialisation"
   ]
  },
  {
   "cell_type": "code",
   "execution_count": 9,
   "id": "a151c79f",
   "metadata": {
    "execution": {
     "iopub.execute_input": "2024-05-19T10:16:42.378160Z",
     "iopub.status.busy": "2024-05-19T10:16:42.377778Z",
     "iopub.status.idle": "2024-05-19T10:16:42.394778Z",
     "shell.execute_reply": "2024-05-19T10:16:42.393533Z"
    },
    "papermill": {
     "duration": 0.030995,
     "end_time": "2024-05-19T10:16:42.397692",
     "exception": false,
     "start_time": "2024-05-19T10:16:42.366697",
     "status": "completed"
    },
    "tags": []
   },
   "outputs": [],
   "source": [
    "g = torch.Generator().manual_seed(2**31 - 1)\n",
    "w = torch.randn((27, 27), generator = g, requires_grad = True)"
   ]
  },
  {
   "cell_type": "markdown",
   "id": "7590f11f",
   "metadata": {
    "papermill": {
     "duration": 0.009952,
     "end_time": "2024-05-19T10:16:42.417725",
     "exception": false,
     "start_time": "2024-05-19T10:16:42.407773",
     "status": "completed"
    },
    "tags": []
   },
   "source": [
    "Gradient Descent"
   ]
  },
  {
   "cell_type": "code",
   "execution_count": 10,
   "id": "056b4942",
   "metadata": {
    "execution": {
     "iopub.execute_input": "2024-05-19T10:16:42.439838Z",
     "iopub.status.busy": "2024-05-19T10:16:42.439395Z",
     "iopub.status.idle": "2024-05-19T10:17:14.583655Z",
     "shell.execute_reply": "2024-05-19T10:17:14.580345Z"
    },
    "papermill": {
     "duration": 32.166745,
     "end_time": "2024-05-19T10:17:14.594784",
     "exception": false,
     "start_time": "2024-05-19T10:16:42.428039",
     "status": "completed"
    },
    "tags": []
   },
   "outputs": [
    {
     "name": "stdout",
     "output_type": "stream",
     "text": [
      "epoch = 50\n",
      "----------\n",
      "epoch = 100\n",
      "----------\n",
      "epoch = 150\n",
      "----------\n",
      "epoch = 200\n",
      "----------\n"
     ]
    }
   ],
   "source": [
    "epoch = 200\n",
    "for k in range(1, epoch+1):\n",
    "    # forward pass\n",
    "    xenc = torch.nn.functional.one_hot(xs, num_classes = 27).float()\n",
    "    logits = xenc @ w\n",
    "    counts = logits.exp()\n",
    "    probs = counts / counts.sum(1, keepdims = True)\n",
    "    loss = -probs[torch.arange(len(ys)), ys].log().mean() + 0.01*(w**2).mean()\n",
    "    \n",
    "    # backward pass\n",
    "    w.grad = None\n",
    "    loss.backward()\n",
    "    \n",
    "    # update\n",
    "    w.data += -50*w.grad\n",
    "    \n",
    "    # print\n",
    "    if (k%50 == 0):\n",
    "        print(f\"epoch = {k}\\n----------\")"
   ]
  },
  {
   "cell_type": "code",
   "execution_count": 11,
   "id": "9288a984",
   "metadata": {
    "execution": {
     "iopub.execute_input": "2024-05-19T10:17:14.618411Z",
     "iopub.status.busy": "2024-05-19T10:17:14.618031Z",
     "iopub.status.idle": "2024-05-19T10:17:14.660469Z",
     "shell.execute_reply": "2024-05-19T10:17:14.658579Z"
    },
    "papermill": {
     "duration": 0.058015,
     "end_time": "2024-05-19T10:17:14.663498",
     "exception": false,
     "start_time": "2024-05-19T10:17:14.605483",
     "status": "completed"
    },
    "tags": []
   },
   "outputs": [
    {
     "name": "stdout",
     "output_type": "stream",
     "text": [
      "miemkfkyhurgrl.\n",
      "h.\n",
      "ixnjeoczeg.\n",
      "iyytqsolcovdxvellikqazhrijknyqwparmuknkiyzteynsqkdzmjywpjqrxsnlxxpfifsajxoksifm.\n",
      "hxjsdlemgtmrvg.\n"
     ]
    }
   ],
   "source": [
    "g = torch.Generator().manual_seed(2**31 - 1)\n",
    "for i in range(5):\n",
    "    out = []\n",
    "    ix = 0\n",
    "    while True:\n",
    "        xenc = torch.nn.functional.one_hot(torch.tensor([ix]), num_classes = 27).float()\n",
    "        logits = xenc @ w\n",
    "        counts = logits.exp()\n",
    "        p = counts / counts.sum(1, keepdims = True)\n",
    "        \n",
    "        ix = torch.multinomial(p, num_samples = 1, replacement = True, generator = g).item()\n",
    "        chs = itos[ix]\n",
    "        out.append(chs)\n",
    "        if (ix == 0):\n",
    "            break\n",
    "    print(''.join(out))"
   ]
  },
  {
   "cell_type": "markdown",
   "id": "2876fc67",
   "metadata": {
    "papermill": {
     "duration": 0.010852,
     "end_time": "2024-05-19T10:17:14.685189",
     "exception": false,
     "start_time": "2024-05-19T10:17:14.674337",
     "status": "completed"
    },
    "tags": []
   },
   "source": [
    "#### Trigram"
   ]
  },
  {
   "cell_type": "markdown",
   "id": "deb3938f",
   "metadata": {
    "papermill": {
     "duration": 0.010412,
     "end_time": "2024-05-19T10:17:14.706342",
     "exception": false,
     "start_time": "2024-05-19T10:17:14.695930",
     "status": "completed"
    },
    "tags": []
   },
   "source": [
    "Populating dataset"
   ]
  },
  {
   "cell_type": "code",
   "execution_count": 12,
   "id": "31927bbb",
   "metadata": {
    "execution": {
     "iopub.execute_input": "2024-05-19T10:17:14.729431Z",
     "iopub.status.busy": "2024-05-19T10:17:14.729026Z",
     "iopub.status.idle": "2024-05-19T10:17:15.307179Z",
     "shell.execute_reply": "2024-05-19T10:17:15.306064Z"
    },
    "papermill": {
     "duration": 0.593097,
     "end_time": "2024-05-19T10:17:15.310039",
     "exception": false,
     "start_time": "2024-05-19T10:17:14.716942",
     "status": "completed"
    },
    "tags": []
   },
   "outputs": [],
   "source": [
    "xs, ys = [], []\n",
    "for w in words['Names']:\n",
    "    chs = ['.', '.'] + list(w) + ['.']\n",
    "    for ch1, ch2, ch3 in zip(chs, chs[1:], chs[2:]):\n",
    "        ix1 = stoi[ch1]\n",
    "        ix2 = stoi[ch2]\n",
    "        ix3 = stoi[ch3]\n",
    "        xs.append([ix1, ix2])\n",
    "        ys.append(ix3)"
   ]
  },
  {
   "cell_type": "code",
   "execution_count": 13,
   "id": "328fabd6",
   "metadata": {
    "execution": {
     "iopub.execute_input": "2024-05-19T10:17:15.333513Z",
     "iopub.status.busy": "2024-05-19T10:17:15.333116Z",
     "iopub.status.idle": "2024-05-19T10:17:15.710038Z",
     "shell.execute_reply": "2024-05-19T10:17:15.708918Z"
    },
    "papermill": {
     "duration": 0.391988,
     "end_time": "2024-05-19T10:17:15.712720",
     "exception": false,
     "start_time": "2024-05-19T10:17:15.320732",
     "status": "completed"
    },
    "tags": []
   },
   "outputs": [],
   "source": [
    "xs = torch.tensor(xs)\n",
    "ys = torch.tensor(ys).reshape(len(ys), -1)"
   ]
  },
  {
   "cell_type": "code",
   "execution_count": 14,
   "id": "2f8a4621",
   "metadata": {
    "execution": {
     "iopub.execute_input": "2024-05-19T10:17:15.736084Z",
     "iopub.status.busy": "2024-05-19T10:17:15.735679Z",
     "iopub.status.idle": "2024-05-19T10:17:15.747771Z",
     "shell.execute_reply": "2024-05-19T10:17:15.746201Z"
    },
    "papermill": {
     "duration": 0.027611,
     "end_time": "2024-05-19T10:17:15.750897",
     "exception": false,
     "start_time": "2024-05-19T10:17:15.723286",
     "status": "completed"
    },
    "tags": []
   },
   "outputs": [
    {
     "data": {
      "text/plain": [
       "(tensor([[ 0,  0],\n",
       "         [ 0, 23],\n",
       "         [23, 10],\n",
       "         ...,\n",
       "         [14,  9],\n",
       "         [ 9, 14],\n",
       "         [14,  6]]),\n",
       " tensor([[23],\n",
       "         [10],\n",
       "         [10],\n",
       "         ...,\n",
       "         [14],\n",
       "         [ 6],\n",
       "         [ 0]]))"
      ]
     },
     "execution_count": 14,
     "metadata": {},
     "output_type": "execute_result"
    }
   ],
   "source": [
    "xs, ys"
   ]
  },
  {
   "cell_type": "markdown",
   "id": "3772f40b",
   "metadata": {
    "papermill": {
     "duration": 0.010391,
     "end_time": "2024-05-19T10:17:15.772800",
     "exception": false,
     "start_time": "2024-05-19T10:17:15.762409",
     "status": "completed"
    },
    "tags": []
   },
   "source": [
    "Random Initialisation"
   ]
  },
  {
   "cell_type": "code",
   "execution_count": 15,
   "id": "29e35b5b",
   "metadata": {
    "execution": {
     "iopub.execute_input": "2024-05-19T10:17:15.796739Z",
     "iopub.status.busy": "2024-05-19T10:17:15.796254Z",
     "iopub.status.idle": "2024-05-19T10:17:15.801706Z",
     "shell.execute_reply": "2024-05-19T10:17:15.800853Z"
    },
    "papermill": {
     "duration": 0.020496,
     "end_time": "2024-05-19T10:17:15.803979",
     "exception": false,
     "start_time": "2024-05-19T10:17:15.783483",
     "status": "completed"
    },
    "tags": []
   },
   "outputs": [],
   "source": [
    "g = torch.Generator().manual_seed(2**31 - 1)\n",
    "w = torch.randn((27*2, 27), generator = g, requires_grad = True)"
   ]
  },
  {
   "cell_type": "markdown",
   "id": "c544faf8",
   "metadata": {
    "papermill": {
     "duration": 0.010554,
     "end_time": "2024-05-19T10:17:15.825218",
     "exception": false,
     "start_time": "2024-05-19T10:17:15.814664",
     "status": "completed"
    },
    "tags": []
   },
   "source": [
    "Gradient Descent"
   ]
  },
  {
   "cell_type": "code",
   "execution_count": 16,
   "id": "2dbf5ed4",
   "metadata": {
    "execution": {
     "iopub.execute_input": "2024-05-19T10:17:15.850545Z",
     "iopub.status.busy": "2024-05-19T10:17:15.850081Z",
     "iopub.status.idle": "2024-05-19T10:17:15.868268Z",
     "shell.execute_reply": "2024-05-19T10:17:15.866433Z"
    },
    "papermill": {
     "duration": 0.03404,
     "end_time": "2024-05-19T10:17:15.870814",
     "exception": false,
     "start_time": "2024-05-19T10:17:15.836774",
     "status": "completed"
    },
    "tags": []
   },
   "outputs": [
    {
     "name": "stdout",
     "output_type": "stream",
     "text": [
      "tensor([[1, 0],\n",
      "        [0, 1],\n",
      "        [1, 1]])\n",
      "tensor([[0., 1., 0., 0., 0., 0., 0., 0., 0., 0., 0., 0., 0., 0., 0., 0., 0., 0.,\n",
      "         0., 0., 0., 0., 0., 0., 0., 0., 0., 1., 0., 0., 0., 0., 0., 0., 0., 0.,\n",
      "         0., 0., 0., 0., 0., 0., 0., 0., 0., 0., 0., 0., 0., 0., 0., 0., 0., 0.],\n",
      "        [1., 0., 0., 0., 0., 0., 0., 0., 0., 0., 0., 0., 0., 0., 0., 0., 0., 0.,\n",
      "         0., 0., 0., 0., 0., 0., 0., 0., 0., 0., 1., 0., 0., 0., 0., 0., 0., 0.,\n",
      "         0., 0., 0., 0., 0., 0., 0., 0., 0., 0., 0., 0., 0., 0., 0., 0., 0., 0.],\n",
      "        [0., 1., 0., 0., 0., 0., 0., 0., 0., 0., 0., 0., 0., 0., 0., 0., 0., 0.,\n",
      "         0., 0., 0., 0., 0., 0., 0., 0., 0., 0., 1., 0., 0., 0., 0., 0., 0., 0.,\n",
      "         0., 0., 0., 0., 0., 0., 0., 0., 0., 0., 0., 0., 0., 0., 0., 0., 0., 0.]])\n",
      "torch.Size([3, 54])\n"
     ]
    }
   ],
   "source": [
    "x = torch.tensor([[1, 0, 1], [0, 1, 1]]).T\n",
    "print(x)\n",
    "xenc = torch.nn.functional.one_hot(x, num_classes = 27).float().reshape(3, 54)\n",
    "print(xenc)\n",
    "print(xenc.shape)"
   ]
  },
  {
   "cell_type": "code",
   "execution_count": 17,
   "id": "3ba3ca2b",
   "metadata": {
    "execution": {
     "iopub.execute_input": "2024-05-19T10:17:15.894802Z",
     "iopub.status.busy": "2024-05-19T10:17:15.894351Z",
     "iopub.status.idle": "2024-05-19T10:25:17.855173Z",
     "shell.execute_reply": "2024-05-19T10:25:17.853979Z"
    },
    "papermill": {
     "duration": 481.988377,
     "end_time": "2024-05-19T10:25:17.870317",
     "exception": false,
     "start_time": "2024-05-19T10:17:15.881940",
     "status": "completed"
    },
    "tags": []
   },
   "outputs": [
    {
     "name": "stdout",
     "output_type": "stream",
     "text": [
      "epoch = 50, loss = 3.0078113079071045\n",
      "epoch = 100, loss = 3.2045493125915527\n",
      "epoch = 150, loss = 2.9018166065216064\n",
      "epoch = 200, loss = 3.0016345977783203\n"
     ]
    }
   ],
   "source": [
    "batch_size = 64\n",
    "epoch = 200\n",
    "learning_rate = 50\n",
    "reg_strength = 0.01\n",
    "\n",
    "for k in range(1, epoch + 1):\n",
    "    # Shuffle the data\n",
    "    perm = torch.randperm(xs.size(0))\n",
    "    xs_shuffled = xs[perm]\n",
    "    ys_shuffled = ys[perm]\n",
    "    \n",
    "    for i in range(0, xs.size(0), batch_size):\n",
    "        x_batch = xs_shuffled[i:i + batch_size]\n",
    "        y_batch = ys_shuffled[i:i + batch_size]\n",
    "        \n",
    "        # Forward pass\n",
    "        x1 = x_batch[:, 0]\n",
    "        x2 = x_batch[:, 1]\n",
    "        x_enc = torch.cat((torch.nn.functional.one_hot(x1, num_classes=27), torch.nn.functional.one_hot(x2, num_classes=27)), dim=1).float()\n",
    "        logits = x_enc @ w\n",
    "        counts = logits.exp()\n",
    "        probs = counts / counts.sum(1, keepdims=True)\n",
    "        loss = -probs[torch.arange(x_batch.size(0)), y_batch].log().mean() + reg_strength * (w**2).mean()\n",
    "        \n",
    "        # Backward pass\n",
    "        w.grad = None\n",
    "        loss.backward()\n",
    "        \n",
    "        # Update\n",
    "        w.data -= learning_rate * w.grad\n",
    "    \n",
    "    # Print\n",
    "    if k % 50 == 0:\n",
    "        print(f\"epoch = {k}, loss = {loss.item()}\")"
   ]
  },
  {
   "cell_type": "markdown",
   "id": "384cef85",
   "metadata": {
    "papermill": {
     "duration": 0.011299,
     "end_time": "2024-05-19T10:25:17.893289",
     "exception": false,
     "start_time": "2024-05-19T10:25:17.881990",
     "status": "completed"
    },
    "tags": []
   },
   "source": [
    "Sampling"
   ]
  },
  {
   "cell_type": "code",
   "execution_count": 18,
   "id": "9b5ae045",
   "metadata": {
    "execution": {
     "iopub.execute_input": "2024-05-19T10:25:17.918716Z",
     "iopub.status.busy": "2024-05-19T10:25:17.918266Z",
     "iopub.status.idle": "2024-05-19T10:25:17.927775Z",
     "shell.execute_reply": "2024-05-19T10:25:17.926636Z"
    },
    "papermill": {
     "duration": 0.025047,
     "end_time": "2024-05-19T10:25:17.930354",
     "exception": false,
     "start_time": "2024-05-19T10:25:17.905307",
     "status": "completed"
    },
    "tags": []
   },
   "outputs": [
    {
     "data": {
      "text/plain": [
       "tensor([[1., 0., 0., 0., 0., 0., 0., 0., 0., 0., 0., 0., 0., 0., 0., 0., 0., 0.,\n",
       "         0., 0., 0., 0., 0., 0., 0., 0., 0., 0., 1., 0., 0., 0., 0., 0., 0., 0.,\n",
       "         0., 0., 0., 0., 0., 0., 0., 0., 0., 0., 0., 0., 0., 0., 0., 0., 0., 0.]])"
      ]
     },
     "execution_count": 18,
     "metadata": {},
     "output_type": "execute_result"
    }
   ],
   "source": [
    "torch.nn.functional.one_hot(torch.tensor([[0], [1]]), num_classes = 27).float().reshape(1, 54)"
   ]
  },
  {
   "cell_type": "code",
   "execution_count": 19,
   "id": "2a0e4469",
   "metadata": {
    "execution": {
     "iopub.execute_input": "2024-05-19T10:25:17.956007Z",
     "iopub.status.busy": "2024-05-19T10:25:17.955606Z",
     "iopub.status.idle": "2024-05-19T10:25:17.979443Z",
     "shell.execute_reply": "2024-05-19T10:25:17.977613Z"
    },
    "papermill": {
     "duration": 0.040068,
     "end_time": "2024-05-19T10:25:17.982477",
     "exception": false,
     "start_time": "2024-05-19T10:25:17.942409",
     "status": "completed"
    },
    "tags": []
   },
   "outputs": [
    {
     "name": "stdout",
     "output_type": "stream",
     "text": [
      "miemkaayrergrlai.\n",
      "axrjerynee.\n",
      "iayaesoaaaea.\n",
      "vellieeazyriernnnaparm.\n",
      "ankiyateynnald.\n"
     ]
    }
   ],
   "source": [
    "g = torch.Generator().manual_seed(2**31 - 1)\n",
    "for i in range(5):\n",
    "    out = []\n",
    "    ix = 0\n",
    "    while True:\n",
    "        # incase of ix+1 == 27, we round it down to 0, using mod\n",
    "        xenc = torch.nn.functional.one_hot(torch.tensor([[ix], [(ix+1)%27]]), num_classes = 27).float().reshape(1, 54)\n",
    "        logits = xenc @ w\n",
    "        counts = logits.exp()\n",
    "        p = counts / counts.sum(1, keepdims = True)\n",
    "        \n",
    "        ix = torch.multinomial(p, num_samples = 1, replacement = True, generator = g).item()\n",
    "        chs = itos[ix]\n",
    "        out.append(chs)\n",
    "        if (ix == 0):\n",
    "            break\n",
    "    print(''.join(out))"
   ]
  },
  {
   "cell_type": "code",
   "execution_count": null,
   "id": "c9550860",
   "metadata": {
    "papermill": {
     "duration": 0.011704,
     "end_time": "2024-05-19T10:25:18.005816",
     "exception": false,
     "start_time": "2024-05-19T10:25:17.994112",
     "status": "completed"
    },
    "tags": []
   },
   "outputs": [],
   "source": []
  }
 ],
 "metadata": {
  "kaggle": {
   "accelerator": "none",
   "dataSources": [
    {
     "datasetId": 5025218,
     "sourceId": 8436798,
     "sourceType": "datasetVersion"
    }
   ],
   "dockerImageVersionId": 30698,
   "isGpuEnabled": false,
   "isInternetEnabled": true,
   "language": "python",
   "sourceType": "notebook"
  },
  "kernelspec": {
   "display_name": "Python 3",
   "language": "python",
   "name": "python3"
  },
  "language_info": {
   "codemirror_mode": {
    "name": "ipython",
    "version": 3
   },
   "file_extension": ".py",
   "mimetype": "text/x-python",
   "name": "python",
   "nbconvert_exporter": "python",
   "pygments_lexer": "ipython3",
   "version": "3.10.13"
  },
  "papermill": {
   "default_parameters": {},
   "duration": 525.408951,
   "end_time": "2024-05-19T10:25:19.043402",
   "environment_variables": {},
   "exception": null,
   "input_path": "__notebook__.ipynb",
   "output_path": "__notebook__.ipynb",
   "parameters": {},
   "start_time": "2024-05-19T10:16:33.634451",
   "version": "2.5.0"
  }
 },
 "nbformat": 4,
 "nbformat_minor": 5
}
