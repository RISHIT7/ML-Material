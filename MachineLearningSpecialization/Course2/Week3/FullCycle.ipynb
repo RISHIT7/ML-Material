{
 "cells": [
  {
   "attachments": {},
   "cell_type": "markdown",
   "metadata": {},
   "source": [
    "# Full Cycle"
   ]
  },
  {
   "attachments": {},
   "cell_type": "markdown",
   "metadata": {},
   "source": [
    "1) Scope project (define project)\n",
    "2) Collect data (define and collect data)\n",
    "3) Train model (training, error analysis, and iterative improvement)\n",
    "4) Deploy monitor and maintain system"
   ]
  },
  {
   "attachments": {},
   "cell_type": "markdown",
   "metadata": {},
   "source": [
    "Some software engineering maybe needed for the deployment of the project which is done on the inference server which returns the inference\n",
    "\n",
    "1) Ensure reliable and efficient predictions\n",
    "2) Scaling\n",
    "3) Logging\n",
    "4) System monitoring\n",
    "5) Model updates\n",
    "(MLOps)"
   ]
  },
  {
   "attachments": {},
   "cell_type": "markdown",
   "metadata": {},
   "source": []
  }
 ],
 "metadata": {
  "language_info": {
   "name": "python"
  },
  "orig_nbformat": 4
 },
 "nbformat": 4,
 "nbformat_minor": 2
}
