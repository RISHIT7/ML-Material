{
 "cells": [
  {
   "cell_type": "markdown",
   "metadata": {},
   "source": [
    "## Making recommendations"
   ]
  },
  {
   "cell_type": "markdown",
   "metadata": {},
   "source": [
    "### Predicting movie ratings"
   ]
  },
  {
   "cell_type": "markdown",
   "metadata": {},
   "source": [
    "__Notation:__\n",
    "$n_m$ is the number of movies let's say, for an example and $n_u$ is the number of users/watchers of the movie, and n is the genre rating <br>\n",
    "And we can calculate the predicton quite similar to linear regression as $w \\cdot x^{(i)} + b$"
   ]
  },
  {
   "cell_type": "markdown",
   "metadata": {},
   "source": [
    "##### Using per-item features"
   ]
  },
  {
   "cell_type": "markdown",
   "metadata": {},
   "source": [
    "__Final Notation:__\n",
    "$r(i, j) = 1$ if user j has rated movie $i$ (0 otherwise) <br>\n",
    "$y^{(i,j)} = $ rating given by user $j$ on movie $i$ (if defined) <br>\n",
    "$w^{(i)}, b^{(j)} =$ paramters for user $j$  <br>\n",
    "$x^{(i)} =$ feature vector for movie $i$\n",
    "\n",
    "For user $j$ and movie $i$, predict rating: $w^{(j)} \\cdot x^{(i)} + b^{(j)}$ <br>\n",
    "$m^{(j)} =$ no. of movies rated by user $j$ <br>\n",
    "To learn $w^{(j)}, b^{(j)}$"
   ]
  },
  {
   "cell_type": "markdown",
   "metadata": {},
   "source": [
    "### Cost function\n",
    "$$\\frac{1}{2} \\sum_{i:r(i,j)=1} \\big( w^{(j)} \\cdot x^{(i)} + b^{(j)} - y^{(i,j)} \\big)^2 + \\frac{\\lambda}{2} \\sum_{k=1}^{n} \\big( w_k^{(j)} \\big)^2$$"
   ]
  },
  {
   "cell_type": "markdown",
   "metadata": {},
   "source": [
    "To learn parameters $w^{(1)}, b^{(1)}, w^{(2)}, b^{(2)}, ..., w^{(n_u)}, b^{(n_u)}$"
   ]
  },
  {
   "cell_type": "markdown",
   "metadata": {},
   "source": [
    "$$\\frac{1}{2} \\sum_{j=1}^{n_u} \\sum_{i:r(i,j)=1} \\big( w^{(j)} \\cdot x^{(i)} + b^{(j)} - y^{(i,j)} \\big)^2 + \\frac{\\lambda}{2} \\sum_{j=1}^{n_u} \\sum_{k=1}^{n} \\big( w_k^{(j)} \\big)^2$$"
   ]
  },
  {
   "cell_type": "markdown",
   "metadata": {},
   "source": [
    "This becomes the cost of learning all the parameters for all the users of the model"
   ]
  },
  {
   "cell_type": "markdown",
   "metadata": {},
   "source": [
    "## Collaborative Filtering algorithm"
   ]
  },
  {
   "cell_type": "markdown",
   "metadata": {},
   "source": [
    "Let's say we had the value of w, and b but did not have the x_1 and x_2, we can learn the value of x_1 and x_2, through parameters w's and b's since we have rating from multiple people for the same item"
   ]
  },
  {
   "cell_type": "markdown",
   "metadata": {},
   "source": [
    "$$J(x^{(i)}) = \\frac{1}{2} \\sum_{i=1}^{n_m} \\sum_{j:r(i,j)=1} \\big( w^{(j)} \\cdot x^{(i)} + b^{(j)} - y^{(i,j)} \\big)^2 + \\frac{\\lambda}{2} \\sum_{i=1}^{n_m} \\sum_{k=1}^{n} \\big( x_k^{(j)} \\big)^2$$\n",
    "\n",
    "This works to find the value of x_i, __mark that the regualrisation and the bounds do change!!__"
   ]
  },
  {
   "cell_type": "markdown",
   "metadata": {},
   "source": [
    "__But__ where do we get w and b??\n",
    "\n",
    "Here we take a leaf out of clustering algorithm, where we were updating two things that werer the centroids and the groups simultaneously and that is what we do here, we update the paramteres and the features at the same time"
   ]
  },
  {
   "cell_type": "markdown",
   "metadata": {},
   "source": [
    "Looking at both the cost functions we can sum them up and use..."
   ]
  },
  {
   "cell_type": "markdown",
   "metadata": {},
   "source": [
    "$$\\frac{1}{2}\\sum_{(i,j):r(i,j)=1} \\big( w^{(j)} \\cdot x^{(i)} + b^{(j)} - y^{(i,j)} \\big)^2 + \\frac{\\lambda}{2} \\sum_{j=1}^{n_u} \\sum_{k=1}^{n} \\big( w_k^{(j)} \\big)^2 + \\frac{\\lambda}{2} \\sum_{i=1}^{n_m} \\sum_{k=1}^{n} \\big( x_k^{(j)} \\big)^2$$"
   ]
  },
  {
   "cell_type": "markdown",
   "metadata": {},
   "source": [
    "And it turns out, if we minimise this cost function then the algorithm just works!"
   ]
  },
  {
   "cell_type": "markdown",
   "metadata": {},
   "source": [
    "### Gradient Descent\n",
    "With collaborative filtering, now the function is for w, b, and x, and now we can take the partial derivatives and then update the paramters as we did earlier as given below"
   ]
  },
  {
   "cell_type": "markdown",
   "metadata": {},
   "source": [
    "$$w_i^{(j)} = w_i^{(j)} - \\alpha \\frac{\\partial}{\\partial w_i^{(j)}} J(w, b, x)$$\n",
    "$$b^{(j)} = b^{(j)} - \\alpha \\frac{\\partial}{\\partial b^{(j)}} J(w, b, x)$$\n",
    "$$x_k^{(i)} = x_k^{(i)} - \\alpha \\frac{\\partial}{\\partial x_k^{(i)}} J(w, b, x)$$"
   ]
  },
  {
   "cell_type": "markdown",
   "metadata": {},
   "source": [
    "## Binary Labels"
   ]
  },
  {
   "cell_type": "markdown",
   "metadata": {},
   "source": [
    "Very similar to going from linear regression to logistic regression"
   ]
  },
  {
   "cell_type": "markdown",
   "metadata": {},
   "source": [
    "Here we will again use the sigmoid function to turn something that was much like linear regression model, to something that is more of a logistic regression model\n",
    "\n",
    "hence the cost function will go from MSE, to similar to binarycrossentropy cost function, hence now the function becomes:\n",
    "\n",
    "$$\\frac{1}{2}\\sum_{(i,j):r(i,j)=1} L(f_{w, b, x}(x), y^{(i,j)}) + \\frac{\\lambda}{2} \\sum_{j=1}^{n_u} \\sum_{k=1}^{n} \\big( w_k^{(j)} \\big)^2 + \\frac{\\lambda}{2} \\sum_{i=1}^{n_m} \\sum_{k=1}^{n} \\big( x_k^{(j)} \\big)^2$$"
   ]
  },
  {
   "cell_type": "markdown",
   "metadata": {},
   "source": [
    "## Mean Normalization"
   ]
  },
  {
   "cell_type": "markdown",
   "metadata": {},
   "source": [
    "let's say for a training set we have the following matrix, ...\n",
    "$$\\begin{bmatrix} 5 & 5 & 0 & 0 & ? \\\\ \n",
    "                  5 & ? & ? & 0 & ? \\\\\n",
    "                  ? & 4 & 0 & ? & ? \\\\\n",
    "                  0 & 0 & 5 & 4 & ? \\\\\n",
    "                  0 & 0 & 5 & 0 & ? \\\\ \\end{bmatrix}$$ \n",
    "then the value of mean becomes\n",
    "$$\\mu = \\begin{bmatrix} 2.5 \\\\ 2.5 \\\\ 2 \\\\ 2.25 \\\\ 1.25 \\\\ \\end{bmatrix}$$"
   ]
  },
  {
   "cell_type": "markdown",
   "metadata": {},
   "source": []
  }
 ],
 "metadata": {
  "language_info": {
   "name": "python"
  },
  "orig_nbformat": 4
 },
 "nbformat": 4,
 "nbformat_minor": 2
}
