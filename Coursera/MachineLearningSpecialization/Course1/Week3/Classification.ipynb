{
 "cells": [
  {
   "attachments": {},
   "cell_type": "markdown",
   "metadata": {},
   "source": [
    "# Classification"
   ]
  },
  {
   "attachments": {},
   "cell_type": "markdown",
   "metadata": {},
   "source": [
    "*Binary Classification*\n",
    "\n",
    "Where the target is binary, \"no\" or \"yes\", \"false\" or \"true\", 0 or 1.\n",
    "\n",
    "Commonly, the 0 class is called the \"negative class\", and the 1 class is called the \"positive class\""
   ]
  },
  {
   "attachments": {},
   "cell_type": "markdown",
   "metadata": {},
   "source": [
    "## How to build a classification model?"
   ]
  },
  {
   "attachments": {},
   "cell_type": "markdown",
   "metadata": {},
   "source": [
    "Clearly linear regression is not the right way to approach the classification problems"
   ]
  },
  {
   "attachments": {},
   "cell_type": "markdown",
   "metadata": {},
   "source": [
    "For example if we add a data point waaay to the right of the graph, it may lead the linear regression line to go to the right and subsequently the _decision boundry_ to shift to the right as well, giving us a missfit."
   ]
  },
  {
   "attachments": {},
   "cell_type": "markdown",
   "metadata": {},
   "source": [
    "# Logistic Regression\n",
    "(Not actually regression)"
   ]
  },
  {
   "attachments": {},
   "cell_type": "markdown",
   "metadata": {},
   "source": [
    "__Logistic or the sigmoid function__\n",
    "$$g(z) = \\frac{1}{1+e^{-z}}$$"
   ]
  },
  {
   "attachments": {},
   "cell_type": "markdown",
   "metadata": {},
   "source": [
    "Now our function becomes of the type of a sigmoid function, which can be written as:-\n",
    "$$f_{\\vec{w}, b}(\\vec{x}) = g(\\vec{w} \\cdot \\vec{x} + b) = \\frac{1}{1+e^{-(\\vec{w} \\cdot \\vec{x} + b)}}$$"
   ]
  },
  {
   "attachments": {},
   "cell_type": "markdown",
   "metadata": {},
   "source": [
    "## How to interpret this ?"
   ]
  },
  {
   "attachments": {},
   "cell_type": "markdown",
   "metadata": {},
   "source": [
    "Outputting the probability that the class is 1\n",
    "\n",
    "That is, if the model output's 0.7, then there is a 70% chance for this tumor"
   ]
  },
  {
   "attachments": {},
   "cell_type": "markdown",
   "metadata": {},
   "source": [
    "## Logistic Boundry"
   ]
  },
  {
   "attachments": {},
   "cell_type": "markdown",
   "metadata": {},
   "source": [
    "First we find the linear regression's w and b, and then we feed it to the sigmoid function which can be interpretted as $P(y = 1 | x; \\vec{w}, b)$\n",
    "\n",
    "__What if we want a 0 or 1?__ <br>\n",
    "A common practice is to set a threshold to 0.5\n",
    "\n",
    "By this we get, whenever $z = \\vec{x} \\cdot \\vec{w} + b$, $z < 0$, we get the output as 0, and for $z > 0$ we get 1, and $z = 0$ is the Decision Boundry"
   ]
  },
  {
   "attachments": {},
   "cell_type": "markdown",
   "metadata": {},
   "source": [
    "## Cost function for logistic regression\n",
    "## And why the squared error function is not a good choice"
   ]
  },
  {
   "attachments": {},
   "cell_type": "markdown",
   "metadata": {},
   "source": [
    "We will use $m$ for number of training examples and each example as $n$ features, and the target/output is either 0 or 1, given by sigmoid function\n",
    "\n",
    "__Recall:__ That for a linear regression problem, the cost function is a bow shaped function with the squared error cost function\n",
    "\n",
    "__However:__ For the sigmoid function, the cost squred error cost function becomes a non convex function, and thus gradient descent would not give the best output, and hence we used difference cost function"
   ]
  },
  {
   "attachments": {},
   "cell_type": "markdown",
   "metadata": {},
   "source": [
    "Let as of now the cost be,\n",
    "$$J(\\vec{w}, b) = \\frac{1}{m}\\sum_{i=1}^{m}\\frac{1}{2}(f_{\\vec{w}, b}(\\vec{x}^{(i)})  - y^{(i)})^2$$\n",
    "\n",
    "Now, we will define a new loss function as,\n",
    "$$L(f_{\\vec{w}, b}(\\vec{x}^{(i)}), y^{(i)}) = \\frac{1}{2}(f_{\\vec{w}, b}(\\vec{x}^{(i)})  - y^{(i)})^2$$"
   ]
  },
  {
   "attachments": {},
   "cell_type": "markdown",
   "metadata": {},
   "source": [
    "Let The new Loss function be \n",
    "$$L(f_{\\vec{w}, b}(\\vec{x}^{(i)}), y^{(i)}) = \n",
    "    \\begin{cases}\n",
    "        -log(f_{\\vec{w}, b}(\\vec{x}^{(i)})) & \\text{if } y^{(i)} = 1\\\\\n",
    "        -log(1-f_{\\vec{w}, b}(\\vec{x}^{(i)})) & \\text{if } y^{(i)} = 0\n",
    "    \\end{cases}$$"
   ]
  },
  {
   "attachments": {},
   "cell_type": "markdown",
   "metadata": {},
   "source": [
    "## Simplified Loss and Cost Function"
   ]
  },
  {
   "attachments": {},
   "cell_type": "markdown",
   "metadata": {},
   "source": [
    "$$L(f_{\\vec{w}, b}(\\vec{x}^{(i)}), y^{(i)}) = -y^{(i)}log(f_{\\vec{w}, b}(\\vec{x}^{(i)}))-(1-y^{(i)})log(1-f_{\\vec{w}, b}(\\vec{x}^{(i)}))$$\n",
    "\n",
    "And Hence the Cost function becomes\n",
    "$$J(\\vec{w}, b) = -\\frac{1}{m}\\sum_{i=1}^{m}[y^{(i)}log(f_{\\vec{w}, b}(\\vec{x}^{(i)}))+(1-y^{(i)})log(1-f_{\\vec{w}, b}(\\vec{x}^{(i)}))]$$\n",
    "\n",
    "Derived by using maximum likely hood priciple in statistics"
   ]
  },
  {
   "attachments": {},
   "cell_type": "markdown",
   "metadata": {},
   "source": [
    "## Gradient Descent Implementation"
   ]
  },
  {
   "attachments": {},
   "cell_type": "markdown",
   "metadata": {},
   "source": [
    "Miraculously the definition of the derivatives of the parameters come out to be the same, only that now, the definition of \"f_wb\" changes."
   ]
  },
  {
   "cell_type": "code",
   "execution_count": 1,
   "metadata": {},
   "outputs": [],
   "source": [
    "import copy, math\n",
    "import numpy as np\n",
    "import matplotlib.pyplot as plt"
   ]
  },
  {
   "cell_type": "code",
   "execution_count": 2,
   "metadata": {},
   "outputs": [],
   "source": [
    "x_train = np.array([[0.5, 1.5], [1, 1], [1.5, 0.5], [3, 0.5], [2, 2], [1, 2.5]])\n",
    "y_train = np.array([0, 0, 0, 1, 1, 1])"
   ]
  },
  {
   "cell_type": "code",
   "execution_count": 3,
   "metadata": {},
   "outputs": [
    {
     "data": {
      "text/plain": [
       "<matplotlib.legend.Legend at 0x117bd7234c0>"
      ]
     },
     "execution_count": 3,
     "metadata": {},
     "output_type": "execute_result"
    },
    {
     "data": {
      "image/png": "[encoded data removed]",
      "text/plain": [
       "<Figure size 400x400 with 1 Axes>"
      ]
     },
     "metadata": {},
     "output_type": "display_data"
    }
   ],
   "source": [
    "fig, axes = plt.subplots(1, 1, figsize = (4, 4))\n",
    "\n",
    "axes.axis([0, 4, 0, 3.5])\n",
    "axes.set_ylabel('$x_1$', fontsize=12)\n",
    "axes.set_xlabel('$x_0$', fontsize=12)\n",
    "axes.scatter(np.transpose(x_train)[0][:3], np.transpose(x_train)[1][:3], marker = 'o', label=\"y=1\")\n",
    "axes.scatter(np.transpose(x_train)[0][3:], np.transpose(x_train)[1][3:], marker = 'x', c='r', label = \"y=0\")\n",
    "axes.legend()"
   ]
  },
  {
   "cell_type": "code",
   "execution_count": 4,
   "metadata": {},
   "outputs": [
    {
     "name": "stdout",
     "output_type": "stream",
     "text": [
      "Number of training examples is: 6\n"
     ]
    }
   ],
   "source": [
    "m = len(x_train)\n",
    "print(f\"Number of training examples is: {m}\")"
   ]
  },
  {
   "cell_type": "code",
   "execution_count": 5,
   "metadata": {},
   "outputs": [
    {
     "name": "stdout",
     "output_type": "stream",
     "text": [
      "For example the first input feature and output feature is: \n",
      "    (x^(0)), y^(0)) = ([0.5 1.5], 0)\n"
     ]
    }
   ],
   "source": [
    "i = 0\n",
    "\n",
    "x_i = x_train[i]\n",
    "y_i = y_train[i]\n",
    "print(\"For example the first input feature and output feature is: \")\n",
    "print(f\"    (x^({i})), y^({i})) = ({x_i}, {y_i})\")"
   ]
  },
  {
   "attachments": {},
   "cell_type": "markdown",
   "metadata": {},
   "source": [
    "Normalization of Features"
   ]
  },
  {
   "cell_type": "code",
   "execution_count": 6,
   "metadata": {},
   "outputs": [],
   "source": [
    "# for input feature\n",
    "\n",
    "temp = np.transpose(x_train)\n",
    "for i in range(len(temp)):\n",
    "    mu = np.mean(temp[i])\n",
    "    temp[i] = (temp[i]-mu)/(np.max(temp[i])-np.min(temp[i]))\n",
    "x_train = np.transpose(temp)\n",
    "\n",
    "# for output feature\n",
    "\n",
    "mu = np.mean(y_train)\n",
    "y_train = (y_train-mu)/(np.max(y_train)-np.min(y_train))"
   ]
  },
  {
   "cell_type": "code",
   "execution_count": 7,
   "metadata": {},
   "outputs": [
    {
     "name": "stdout",
     "output_type": "stream",
     "text": [
      "For example: \n",
      "    w: [ 0.1 -0.1]\n",
      "    b: 2.5\n"
     ]
    }
   ],
   "source": [
    "w = np.array([0.1, -0.1])\n",
    "b = 2.5\n",
    "print(\"For example: \")\n",
    "print(f\"    w: {w}\")\n",
    "print(f\"    b: {b}\")"
   ]
  },
  {
   "cell_type": "code",
   "execution_count": 8,
   "metadata": {},
   "outputs": [],
   "source": [
    "def compute_model_output(x, w, b):\n",
    "    m = x.shape[0]\n",
    "    f_wb = np.zeros(m)\n",
    "    for i in range(m):\n",
    "        temp = np.dot(w,x[i])+b\n",
    "        f_wb[i] = 1/(1+np.exp(-temp))\n",
    "    return f_wb"
   ]
  },
  {
   "cell_type": "code",
   "execution_count": 9,
   "metadata": {},
   "outputs": [
    {
     "data": {
      "text/plain": [
       "array([0.92068325, 0.92390781, 0.92701168, 0.93096877, 0.9232018 ,\n",
       "       0.91846464])"
      ]
     },
     "execution_count": 9,
     "metadata": {},
     "output_type": "execute_result"
    }
   ],
   "source": [
    "compute_model_output(x_train, w, b)"
   ]
  },
  {
   "cell_type": "code",
   "execution_count": 10,
   "metadata": {},
   "outputs": [],
   "source": [
    "def compute_cost_logistic(X, y, w, b):\n",
    "    m = len(y)\n",
    "    Loss = -y*(np.log(compute_model_output(X, w, b)))-(1-y)*(np.log(1-compute_model_output(X, w, b)))\n",
    "    Cost = np.sum(Loss)/m\n",
    "    return Cost"
   ]
  },
  {
   "cell_type": "code",
   "execution_count": 11,
   "metadata": {},
   "outputs": [],
   "source": [
    "def compute_gradient_logistic(X, y, w, b): \n",
    "    m,n = X.shape\n",
    "    dj_dw = np.zeros((n,))\n",
    "    dj_db = 0.\n",
    "\n",
    "    for i in range(m):\n",
    "        f_wb_i = 1/(1+np.exp(-(np.dot(w,X[i])+b)))\n",
    "        err_i  = f_wb_i  - y[i]\n",
    "        for j in range(n):\n",
    "            dj_dw[j] = dj_dw[j] + err_i * X[i,j]\n",
    "        dj_db = dj_db + err_i\n",
    "    dj_dw = dj_dw/m\n",
    "    dj_db = dj_db/m\n",
    "        \n",
    "    return dj_db, dj_dw "
   ]
  },
  {
   "cell_type": "code",
   "execution_count": 12,
   "metadata": {},
   "outputs": [
    {
     "name": "stdout",
     "output_type": "stream",
     "text": [
      "dj_db: 0.49861806546328574\n",
      "dj_dw: [0.498333393278696, 0.49883942983996693]\n"
     ]
    }
   ],
   "source": [
    "X_tmp = np.array([[0.5, 1.5], [1,1], [1.5, 0.5], [3, 0.5], [2, 2], [1, 2.5]])\n",
    "y_tmp = np.array([0, 0, 0, 1, 1, 1])\n",
    "w_tmp = np.array([2.,3.])\n",
    "b_tmp = 1.\n",
    "dj_db_tmp, dj_dw_tmp = compute_gradient_logistic(X_tmp, y_tmp, w_tmp, b_tmp)\n",
    "print(f\"dj_db: {dj_db_tmp}\" )\n",
    "print(f\"dj_dw: {dj_dw_tmp.tolist()}\" )"
   ]
  },
  {
   "cell_type": "code",
   "execution_count": 13,
   "metadata": {},
   "outputs": [],
   "source": [
    "def gradient_descent(X, y, w_in, b_in, alpha, num_iters): \n",
    "    J_history = []\n",
    "    w = copy.deepcopy(w_in)\n",
    "    b = b_in\n",
    "    \n",
    "    for i in range(num_iters):\n",
    "        dj_db, dj_dw = compute_gradient_logistic(X, y, w, b)   \n",
    "\n",
    "        w = w - alpha * dj_dw               \n",
    "        b = b - alpha * dj_db               \n",
    "      \n",
    "        if i<100000:\n",
    "            J_history.append(compute_cost_logistic(X, y, w, b) )\n",
    "\n",
    "        if i% math.ceil(num_iters / 10) == 0:\n",
    "            print(f\"Iteration {i:4d}: Cost {J_history[-1]}   \")\n",
    "        \n",
    "    return w, b, J_history"
   ]
  },
  {
   "cell_type": "code",
   "execution_count": 14,
   "metadata": {},
   "outputs": [
    {
     "name": "stdout",
     "output_type": "stream",
     "text": [
      "Iteration    0: Cost 0.684610468560574   \n",
      "Iteration 1000: Cost 0.1590977666870456   \n",
      "Iteration 2000: Cost 0.08460064176930081   \n",
      "Iteration 3000: Cost 0.05705327279402531   \n",
      "Iteration 4000: Cost 0.042907594216820076   \n",
      "Iteration 5000: Cost 0.034338477298845684   \n",
      "Iteration 6000: Cost 0.028603798022120097   \n",
      "Iteration 7000: Cost 0.024501569608793   \n",
      "Iteration 8000: Cost 0.02142370332569295   \n",
      "Iteration 9000: Cost 0.019030137124109114   \n",
      "\n",
      "updated parameters: w:[5.28123029 5.07815608], b:-14.222409982019837\n"
     ]
    }
   ],
   "source": [
    "w_tmp  = np.zeros_like(x_train[0])\n",
    "b_tmp  = 0.\n",
    "alph = 0.1\n",
    "iters = 10000\n",
    "\n",
    "w_out, b_out, _ = gradient_descent(X_tmp, y_tmp, w_tmp, b_tmp, alph, iters) \n",
    "print(f\"\\nupdated parameters: w:{w_out}, b:{b_out}\")"
   ]
  },
  {
   "cell_type": "code",
   "execution_count": 15,
   "metadata": {},
   "outputs": [],
   "source": [
    "def simulation_cost_function(x, y, w, b):\n",
    "    return 1/(1+np.exp(-(w[0]*x+w[1]*y+b)))"
   ]
  },
  {
   "cell_type": "code",
   "execution_count": 16,
   "metadata": {},
   "outputs": [
    {
     "data": {
      "image/png": "[encoded data removed]",
      "text/plain": [
       "<Figure size 500x400 with 1 Axes>"
      ]
     },
     "metadata": {},
     "output_type": "display_data"
    }
   ],
   "source": [
    "fig,ax = plt.subplots(1,1,figsize=(5,4))\n",
    "\n",
    "x_ = np.linspace(0, 4, 100)\n",
    "y_ = np.linspace(0, 3.5, 100)\n",
    "x, y = np.meshgrid(x_, y_)\n",
    "z = simulation_cost_function(x, y, w_out, b_out)\n",
    "ax.contourf(x, y, z, cmap=\"Blues\", levels=100, vmax = 2)\n",
    "\n",
    "ax.set_ylabel(r'$x_1$')\n",
    "ax.set_xlabel(r'$x_0$')   \n",
    "ax.axis([0, 4, 0, 3.5])\n",
    "ax.scatter(np.transpose(X_tmp)[0][:3], np.transpose(X_tmp)[1][:3], marker = 'o', label=\"y=1\")\n",
    "ax.scatter(np.transpose(X_tmp)[0][3:], np.transpose(X_tmp)[1][3:], marker = 'x', c='r', label = \"y=0\")\n",
    "\n",
    "x0 = -b_out/w_out[0]\n",
    "x1 = -b_out/w_out[1]\n",
    "ax.plot([0,x0],[x1,0], lw=1)\n",
    "\n",
    "plt.show()"
   ]
  },
  {
   "cell_type": "code",
   "execution_count": null,
   "metadata": {},
   "outputs": [],
   "source": []
  }
 ],
 "metadata": {
  "kernelspec": {
   "display_name": "base",
   "language": "python",
   "name": "python3"
  },
  "language_info": {
   "codemirror_mode": {
    "name": "ipython",
    "version": 3
   },
   "file_extension": ".py",
   "mimetype": "text/x-python",
   "name": "python",
   "nbconvert_exporter": "python",
   "pygments_lexer": "ipython3",
   "version": "3.9.13"
  },
  "orig_nbformat": 4
 },
 "nbformat": 4,
 "nbformat_minor": 2
}
