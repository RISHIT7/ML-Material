{
 "cells": [
  {
   "attachments": {},
   "cell_type": "markdown",
   "metadata": {},
   "source": [
    "## Backpropogation"
   ]
  },
  {
   "attachments": {},
   "cell_type": "markdown",
   "metadata": {},
   "source": [
    "From calculus we know, that if we add a very small value $\\epsilon$ to the cost function $J(w)$'s parammeter $w$, then the value of $J$ goes up by roughly $\\frac{d}{dw} J(w)$"
   ]
  },
  {
   "attachments": {},
   "cell_type": "markdown",
   "metadata": {},
   "source": [
    "#### Computation Graphs\n",
    "And how tensorflow calculates derivatives"
   ]
  },
  {
   "attachments": {},
   "cell_type": "markdown",
   "metadata": {},
   "source": [
    "$$w \\longrightarrow c=wx \\longrightarrow a=c+b \\longrightarrow d = a-y \\longrightarrow J=\\frac{1}{2}d^2$$\n",
    "\n",
    "is a computation graph, this shows the froward prop and cost function J"
   ]
  },
  {
   "attachments": {},
   "cell_type": "markdown",
   "metadata": {},
   "source": [
    "So now, for backprop\n",
    "$$\\frac{\\partial J}{\\partial w} = \\frac{\\partial J}{\\partial c}\\frac{\\partial c}{\\partial w} = \\frac{\\partial J}{\\partial a}\\frac{\\partial a}{\\partial c}\\frac{\\partial c}{\\partial w} = \\frac{d J}{d d}\\frac{\\partial d}{\\partial a}\\frac{\\partial a}{\\partial c}\\frac{\\partial c}{\\partial w}$$\n",
    "\n",
    "hence this is a right to left computation, since we already know the function for which we calculate the derivatives, backpropogation is a better algorithm than finding drivatives as done before, thus all the derivatives can be calculated in $O(N + P)$ steps where $N$ is nodes and $P$ is parameters rather than $O(N \\times P)$"
   ]
  },
  {
   "cell_type": "code",
   "execution_count": null,
   "metadata": {},
   "outputs": [],
   "source": []
  }
 ],
 "metadata": {
  "language_info": {
   "name": "python"
  },
  "orig_nbformat": 4
 },
 "nbformat": 4,
 "nbformat_minor": 2
}
