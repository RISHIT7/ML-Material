{
 "cells": [
  {
   "attachments": {},
   "cell_type": "markdown",
   "metadata": {},
   "source": [
    "## TensorFlow"
   ]
  },
  {
   "attachments": {},
   "cell_type": "markdown",
   "metadata": {},
   "source": [
    "#### Coffee Example"
   ]
  },
  {
   "cell_type": "code",
   "execution_count": 28,
   "metadata": {},
   "outputs": [],
   "source": [
    "import numpy as np\n",
    "import tensorflow as tf\n",
    "from tensorflow.keras.layers import Dense, Input\n",
    "from tensorflow.keras import Sequential"
   ]
  },
  {
   "cell_type": "code",
   "execution_count": 29,
   "metadata": {},
   "outputs": [
    {
     "data": {
      "text/plain": [
       "<tf.Tensor: shape=(1, 1), dtype=float32, numpy=array([[0.75779516]], dtype=float32)>"
      ]
     },
     "execution_count": 29,
     "metadata": {},
     "output_type": "execute_result"
    }
   ],
   "source": [
    "x = np.array([[200.0, 17.0]]) # [temp, duration]\n",
    "layer_1 = Dense(units = 3, activation=\"sigmoid\") # Creating a layer_1\n",
    "a1 = layer_1(x)\n",
    "layer_2 = Dense(units=1, activation = \"sigmoid\")\n",
    "a2 = layer_2(a1)\n",
    "a2"
   ]
  },
  {
   "attachments": {},
   "cell_type": "markdown",
   "metadata": {},
   "source": [
    "#### A better one"
   ]
  },
  {
   "cell_type": "code",
   "execution_count": 30,
   "metadata": {},
   "outputs": [
    {
     "data": {
      "text/plain": [
       "array([[0.35405773]], dtype=float32)"
      ]
     },
     "execution_count": 30,
     "metadata": {},
     "output_type": "execute_result"
    }
   ],
   "source": [
    "x = np.array([np.arange(240)])\n",
    "layer_1 = Dense(units=25, activation='sigmoid')\n",
    "a1 = layer_1(x) # here a1 is 1*25 matrix\n",
    "layer_2 = Dense(units = 15, activation = 'sigmoid')\n",
    "a2 = layer_2(a1)\n",
    "layer_3 = Dense(units = 1, activation = 'sigmoid')\n",
    "a3 = layer_3(a2)\n",
    "a3.numpy()"
   ]
  },
  {
   "attachments": {},
   "cell_type": "markdown",
   "metadata": {},
   "source": [
    "## How data is implemented in Tensorflow vs Numpy"
   ]
  },
  {
   "attachments": {},
   "cell_type": "markdown",
   "metadata": {},
   "source": [
    "With Tensorflow the convention is to use matrices rather than 1D vectors to represent data, and hence $[200, 17]$ is rather written as $[[200, 17]]$"
   ]
  },
  {
   "attachments": {},
   "cell_type": "markdown",
   "metadata": {},
   "source": [
    "## Building a Neural Network"
   ]
  },
  {
   "attachments": {},
   "cell_type": "markdown",
   "metadata": {},
   "source": [
    "We can do all the hardwork with tensorflow, and not need to hardcode it, as..."
   ]
  },
  {
   "cell_type": "code",
   "execution_count": null,
   "metadata": {},
   "outputs": [],
   "source": [
    "x = np.array([[200.0, 17.0],\n",
    "              [120.0, 5.0],\n",
    "              [425.0, 20.0],\n",
    "              [212.0, 18.0]])\n",
    "y = np.array([1, 0, 0, 1])\n",
    "layer_1 = Dense(units=3, activation=\"sigmoid\"),\n",
    "layer_2 = Dense(units=1, activation=\"sigmoid\")\n",
    "# model = Sequential([layer_1, layer_2])\n",
    "# model.compile()\n",
    "# model.fit(x, y)\n",
    "# model.predict(x_new)"
   ]
  },
  {
   "attachments": {},
   "cell_type": "markdown",
   "metadata": {},
   "source": [
    "By Convention, we write"
   ]
  },
  {
   "cell_type": "code",
   "execution_count": 33,
   "metadata": {},
   "outputs": [],
   "source": [
    "model = Sequential([Dense(units=3, activation=\"sigmoid\"), Dense(units=1, activation=\"sigmoid\")])"
   ]
  },
  {
   "cell_type": "code",
   "execution_count": null,
   "metadata": {},
   "outputs": [],
   "source": []
  }
 ],
 "metadata": {
  "kernelspec": {
   "display_name": "base",
   "language": "python",
   "name": "python3"
  },
  "language_info": {
   "codemirror_mode": {
    "name": "ipython",
    "version": 3
   },
   "file_extension": ".py",
   "mimetype": "text/x-python",
   "name": "python",
   "nbconvert_exporter": "python",
   "pygments_lexer": "ipython3",
   "version": "3.9.13"
  },
  "orig_nbformat": 4
 },
 "nbformat": 4,
 "nbformat_minor": 2
}
