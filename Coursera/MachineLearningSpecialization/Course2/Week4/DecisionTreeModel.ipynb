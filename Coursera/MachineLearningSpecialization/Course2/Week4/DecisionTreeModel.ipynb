{
 "cells": [
  {
   "cell_type": "code",
   "execution_count": 9,
   "metadata": {},
   "outputs": [],
   "source": [
    "import numpy as np\n",
    "import matplotlib.pyplot as plt\n",
    "import pandas as pd"
   ]
  },
  {
   "attachments": {},
   "cell_type": "markdown",
   "metadata": {},
   "source": [
    "# Decision Trees"
   ]
  },
  {
   "attachments": {},
   "cell_type": "markdown",
   "metadata": {},
   "source": [
    "Used to win competetions! "
   ]
  },
  {
   "attachments": {},
   "cell_type": "markdown",
   "metadata": {},
   "source": [
    "The root node is the parent of decision nodes and the last nodes, that do not give childs are the leaf nodes"
   ]
  },
  {
   "attachments": {},
   "cell_type": "markdown",
   "metadata": {},
   "source": [
    "## Learning Process"
   ]
  },
  {
   "attachments": {},
   "cell_type": "markdown",
   "metadata": {},
   "source": [
    "__Decision 1:__ How to choose what feaature to split on at each node?\n",
    "Maximize purity ( or minimize impurity )\n",
    "\n",
    "__Decision 2:__ When do you stop splitting?\n",
    "1) When a node is 100% one class\n",
    "2) When splitting a node will result in the tree exceeding a maximum depth\n",
    "3) When improvements in purity score are below a threshold\n",
    "4) When number of examples in a node is below a threshold"
   ]
  },
  {
   "attachments": {},
   "cell_type": "markdown",
   "metadata": {},
   "source": [
    "## Measuring Purity"
   ]
  },
  {
   "attachments": {},
   "cell_type": "markdown",
   "metadata": {},
   "source": [
    "__Entropy:__\n",
    "The entropy function is the highest when the set of examples is 50-50 and the value is 1, and lowest the is 0 at the input 0, and 1, denoted conventionally by $\\text{H}$\n",
    "\n",
    "Here, the larger tha value the more impure the set is..."
   ]
  },
  {
   "attachments": {},
   "cell_type": "markdown",
   "metadata": {},
   "source": [
    "If,\n",
    "$$p_0 = 1 - p_1$$\n",
    "Then, \n",
    "$$H(p_1) = -p_1 log_2(p_1) - p_0 log_2(p_0)$$\n",
    "\n",
    "Substituting,\n",
    "$$H(p_1) = -p_1 log_2(p_1) - (1-p_1) log_2(1-p_1)$$"
   ]
  },
  {
   "cell_type": "code",
   "execution_count": 8,
   "metadata": {},
   "outputs": [
    {
     "data": {
      "text/plain": [
       "[<matplotlib.lines.Line2D at 0x1e1dedd0250>]"
      ]
     },
     "execution_count": 8,
     "metadata": {},
     "output_type": "execute_result"
    },
    {
     "data": {
      "image/png": "[encoded data removed]",
      "text/plain": [
       "<Figure size 640x480 with 1 Axes>"
      ]
     },
     "metadata": {},
     "output_type": "display_data"
    }
   ],
   "source": [
    "# the equation of the entropy function is\n",
    "x = np.linspace(1e-12, 1 - 1e-12, 100)\n",
    "H = -x*np.log2(x) - (1-x)*np.log2(1-x)\n",
    "plt.xlabel('$p_1$')\n",
    "plt.ylabel('$H(p_1)$')\n",
    "plt.plot(x, H, c='r')"
   ]
  },
  {
   "attachments": {},
   "cell_type": "markdown",
   "metadata": {},
   "source": [
    "## Choosing a split: Information Gain"
   ]
  },
  {
   "attachments": {},
   "cell_type": "markdown",
   "metadata": {},
   "source": [
    "We try to use that feature which reduces the loos of information the most, that is, it has the least value of the weighted mean of the entropy function and not just the entropy!\n",
    "\n",
    "let's say, we have the following split... which one do we choose?\n",
    "1) 5 animals, H = 0.72 and 5 animals, H = 0.72\n",
    "2) 7 animals, H = 0.99 and 3 animals, H = 0.92\n",
    "3) 4 animals, H = 0.81 and 6 animals, H = 0.92\n",
    "\n",
    "For the first example we have:\n",
    "$$\\frac{5}{10}(0.72)+\\frac{5}{10}(0.72)=0.72$$\n",
    "For the second example we have:\n",
    "$$\\frac{7}{10}(0.99)+\\frac{3}{10}(0.92)=0.969$$\n",
    "For the third example we have:\n",
    "$$\\frac{4}{10}(0.81)+\\frac{6}{10}(0.92)=0.876$$\n",
    "For the root node:\n",
    "$$H(0.5) = 1$$\n",
    "\n",
    "So as to stick to the convention what we calculate is:\n",
    "$$H(\\text{root node})-(\\text{weight mean})$$\n",
    "So, we get...\n",
    "1) 0.28\n",
    "2) 0.03\n",
    "3) 0.12\n",
    "\n",
    "These numebers are the information gain/reduction in entropy <br>\n",
    "and hence we want the most reduction in entropy"
   ]
  },
  {
   "attachments": {},
   "cell_type": "markdown",
   "metadata": {},
   "source": [
    "## General Formula"
   ]
  },
  {
   "attachments": {},
   "cell_type": "markdown",
   "metadata": {},
   "source": [
    "#### Information Gain\n",
    "$\\text{Information Gain}:= H(p_1^{\\text{root}}) - \\bigg(w^{\\text{left}}H(p_1^{\\text{left}})+w^{\\text{right}}H(p_1^{\\text{right}})\\bigg)$"
   ]
  },
  {
   "attachments": {},
   "cell_type": "markdown",
   "metadata": {},
   "source": [
    "## Putting it Together\n",
    "1) Start with all examples at the root node\n",
    "2) Calculate information gain for all possible features, and pick the one with the highest information gain\n",
    "3) Split dataset according to selected feature, and create left, and right branches of the tree\n",
    "4) Keep doing this untill the stopping criteria is met (the ones that were discussed above)\n",
    "\n",
    "This is a recursive algorithm, and it is obvious so think yourself"
   ]
  },
  {
   "attachments": {},
   "cell_type": "markdown",
   "metadata": {},
   "source": [
    "## Using one-hot encoding of categorical features"
   ]
  },
  {
   "attachments": {},
   "cell_type": "markdown",
   "metadata": {},
   "source": [
    "Features that can take on more than two values, can intuitively and wasily be used as a path/root to 3 children nodes, but here we will look at one-hot encoding"
   ]
  },
  {
   "attachments": {},
   "cell_type": "markdown",
   "metadata": {},
   "source": [
    "Instead of one feature, that could take 4 values, we will take four boolean features"
   ]
  },
  {
   "attachments": {},
   "cell_type": "markdown",
   "metadata": {},
   "source": [
    "This also works for Neural networks and what we've done till now"
   ]
  },
  {
   "attachments": {},
   "cell_type": "markdown",
   "metadata": {},
   "source": [
    "## Continuous valued functions"
   ]
  },
  {
   "attachments": {},
   "cell_type": "markdown",
   "metadata": {},
   "source": [
    "### Splitting on a continuous variable\n",
    "We will split the data set into two subsets in the way that gives the most information gain"
   ]
  },
  {
   "attachments": {},
   "cell_type": "markdown",
   "metadata": {},
   "source": [
    "A conventional way to do this is to sort the values on the basis of the feature, say there are 10 training sets for that particualar feature, we will check at every mid point between two features for the best information gain, that is we will check 9 times..."
   ]
  },
  {
   "attachments": {},
   "cell_type": "markdown",
   "metadata": {},
   "source": [
    "# Regression Trees"
   ]
  },
  {
   "attachments": {},
   "cell_type": "markdown",
   "metadata": {},
   "source": [
    "It'll first calssify based on the input features, untill it get's to a leaf node, and then outputs the avg value of the elements in the node"
   ]
  },
  {
   "attachments": {},
   "cell_type": "markdown",
   "metadata": {},
   "source": [
    "### Choosing a split"
   ]
  },
  {
   "attachments": {},
   "cell_type": "markdown",
   "metadata": {},
   "source": [
    "while building a regression we, rather than reducing the entropy, we reduce the variance of the weights while calculating about what feature to choose"
   ]
  },
  {
   "attachments": {},
   "cell_type": "markdown",
   "metadata": {},
   "source": [
    "1) First we compute $w^{\\text{left}}$ and $w^{\\text{right}}$ like we did earlier and then\n",
    "2) we take the weighted mean of the variances this time, rather than the entropy\n",
    "\n",
    "Just as the classification problem, we will measure the reduction in variance rather than the variance"
   ]
  },
  {
   "attachments": {},
   "cell_type": "markdown",
   "metadata": {},
   "source": [
    "# Code Implementation"
   ]
  },
  {
   "attachments": {},
   "cell_type": "markdown",
   "metadata": {},
   "source": [
    ". X_train: for each example, contains 3 features:\n",
    "\n",
    "      - Ear Shape (1 if pointy, 0 otherwise)\n",
    "      - Face Shape (1 if round, 0 otherwise)\n",
    "      - Whiskers (1 if present, 0 otherwise)\n",
    "\n",
    ". y_train: whether the animal is a cat\n",
    "\n",
    "      - 1 if the animal is a cat\n",
    "      - 0 otherwise"
   ]
  },
  {
   "cell_type": "code",
   "execution_count": 10,
   "metadata": {},
   "outputs": [],
   "source": [
    "X_train = np.array(\n",
    "    [[1, 1, 1],\n",
    "     [0, 0, 1],\n",
    "     [0, 1, 0],\n",
    "     [1, 0, 1],\n",
    "     [1, 1, 1],\n",
    "     [1, 1, 0],\n",
    "     [0, 0, 0],\n",
    "     [1, 1, 0],\n",
    "     [0, 1, 0],\n",
    "     [0, 1, 0]])\n",
    "\n",
    "y_train = np.array([1, 1, 0, 0, 1, 1, 0, 1, 0, 0])\n"
   ]
  },
  {
   "cell_type": "code",
   "execution_count": 12,
   "metadata": {},
   "outputs": [
    {
     "data": {
      "text/plain": [
       "1.0"
      ]
     },
     "execution_count": 12,
     "metadata": {},
     "output_type": "execute_result"
    }
   ],
   "source": [
    "def entropy(p):\n",
    "    if p==0 or p==1:\n",
    "        return 0\n",
    "    else:\n",
    "        return -p * np.log2(p) - (1- p)*np.log2(1 - p)\n",
    "    \n",
    "entropy(0.5)"
   ]
  },
  {
   "cell_type": "code",
   "execution_count": 13,
   "metadata": {},
   "outputs": [],
   "source": [
    "def split_indices(X, index_feature):\n",
    "    left_indices = []\n",
    "    righit_indices = []\n",
    "    for  i, x in enumerate(X):\n",
    "        if x[index_feature] == 1:\n",
    "            left_indices.append(i)\n",
    "        else:\n",
    "            righit_indices.append(i)\n",
    "    return left_indices, righit_indices"
   ]
  },
  {
   "cell_type": "code",
   "execution_count": 14,
   "metadata": {},
   "outputs": [
    {
     "data": {
      "text/plain": [
       "([0, 3, 4, 5, 7], [1, 2, 6, 8, 9])"
      ]
     },
     "execution_count": 14,
     "metadata": {},
     "output_type": "execute_result"
    }
   ],
   "source": [
    "split_indices(X_train, 0)"
   ]
  },
  {
   "cell_type": "code",
   "execution_count": 15,
   "metadata": {},
   "outputs": [],
   "source": [
    "def weighted_entropy(X, y, left_indices, right_indices):\n",
    "    w_left = len(left_indices)/len(X)\n",
    "    w_right = len(right_indices)/len(X)\n",
    "    p_left = sum(y[left_indices])/len(left_indices)\n",
    "    p_right = sum(y[right_indices])/len(right_indices)\n",
    "\n",
    "    weighted_entropy = w_left*entropy(p_left) + w_right*entropy(p_right)\n",
    "    return weighted_entropy"
   ]
  },
  {
   "cell_type": "code",
   "execution_count": 16,
   "metadata": {},
   "outputs": [
    {
     "data": {
      "text/plain": [
       "0.7219280948873623"
      ]
     },
     "execution_count": 16,
     "metadata": {},
     "output_type": "execute_result"
    }
   ],
   "source": [
    "left_indices, right_indices = split_indices(X_train, 0)\n",
    "weighted_entropy(X_train, y_train, left_indices, right_indices)"
   ]
  },
  {
   "cell_type": "code",
   "execution_count": 17,
   "metadata": {},
   "outputs": [],
   "source": [
    "def information_gain(X, y, left_indices, right_indices):\n",
    "    p_node = sum(y)/len(y)\n",
    "    h_node = entropy(p_node)\n",
    "    w_entropy = weighted_entropy(X, y, left_indices, right_indices)\n",
    "\n",
    "    return h_node - w_entropy"
   ]
  },
  {
   "cell_type": "code",
   "execution_count": 18,
   "metadata": {},
   "outputs": [
    {
     "data": {
      "text/plain": [
       "0.2780719051126377"
      ]
     },
     "execution_count": 18,
     "metadata": {},
     "output_type": "execute_result"
    }
   ],
   "source": [
    "information_gain(X_train, y_train, left_indices, right_indices)"
   ]
  },
  {
   "cell_type": "code",
   "execution_count": 20,
   "metadata": {},
   "outputs": [
    {
     "name": "stdout",
     "output_type": "stream",
     "text": [
      "Feature: Ear Shape, information gain if we split the root node using this feature: 0.28\n",
      "Feature: Face Shape, information gain if we split the root node using this feature: 0.03\n",
      "Feature: Whiskers, information gain if we split the root node using this feature: 0.12\n"
     ]
    }
   ],
   "source": [
    "for i, feature_name in enumerate(['Ear Shape', 'Face Shape', 'Whiskers']):\n",
    "    left_indices, right_indices = split_indices(X_train, i)\n",
    "    i_gain = information_gain(X_train, y_train, left_indices, right_indices)\n",
    "    print(f\"Feature: {feature_name}, information gain if we split the root node using this feature: {i_gain:.2f}\")"
   ]
  },
  {
   "attachments": {},
   "cell_type": "markdown",
   "metadata": {},
   "source": [
    "And do this over and over again"
   ]
  }
 ],
 "metadata": {
  "kernelspec": {
   "display_name": "base",
   "language": "python",
   "name": "python3"
  },
  "language_info": {
   "codemirror_mode": {
    "name": "ipython",
    "version": 3
   },
   "file_extension": ".py",
   "mimetype": "text/x-python",
   "name": "python",
   "nbconvert_exporter": "python",
   "pygments_lexer": "ipython3",
   "version": "3.9.13"
  },
  "orig_nbformat": 4
 },
 "nbformat": 4,
 "nbformat_minor": 2
}
