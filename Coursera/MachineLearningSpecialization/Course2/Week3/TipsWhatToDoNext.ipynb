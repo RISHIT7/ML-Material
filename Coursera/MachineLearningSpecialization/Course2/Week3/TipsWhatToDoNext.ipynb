{
 "cells": [
  {
   "attachments": {},
   "cell_type": "markdown",
   "metadata": {},
   "source": [
    "## Timps"
   ]
  },
  {
   "attachments": {},
   "cell_type": "markdown",
   "metadata": {},
   "source": [
    "#### Debugging a learning algorithm\n",
    "Let's say we have built a regualrised linear regression system for the house costs, but still gives huge errors, what to do next?\n",
    "1) Get more training examples\n",
    "2) Try smaller sets of features\n",
    "3) Try getting additional features\n",
    "4) Try adding polynomial features\n",
    "5) Try decreasing $\\lambda$\n",
    "6) Try increasing $\\lambda$\n",
    "\n",
    "How to choose better options <br>\n",
    "How to run diagnostics in order to find the best algorithm, and this will tell what is important and what is not..."
   ]
  },
  {
   "attachments": {},
   "cell_type": "markdown",
   "metadata": {},
   "source": [
    "## Evaluating and choosing model"
   ]
  },
  {
   "attachments": {},
   "cell_type": "markdown",
   "metadata": {},
   "source": [
    "To evaluate the model, you can split  the training set into two subsets and use one of them for training and other for testing the model\n",
    "\n",
    "Now, <br>\n",
    "$m_{train}$ will be used for the training set and <br>\n",
    "$m_{test}$ will be used for the testing set"
   ]
  },
  {
   "attachments": {},
   "cell_type": "markdown",
   "metadata": {},
   "source": [
    "The way to calculate accuracy is, after fitting the model with the training data, we calculate the cost using the testing data as the input, and it is also good to calculate the training error, mind it, these do not include the regularisation term"
   ]
  },
  {
   "attachments": {},
   "cell_type": "markdown",
   "metadata": {},
   "source": [
    "For classification error calculation we may very well use the same definition as the binary cross entropy definition but there is a better algorithm , and that is to __calculate the fraction of the test set and the fraction of the training set that the model has misclassified__"
   ]
  },
  {
   "attachments": {},
   "cell_type": "markdown",
   "metadata": {},
   "source": [
    "## Refinement about model selection and cross validation and test sets"
   ]
  },
  {
   "attachments": {},
   "cell_type": "markdown",
   "metadata": {},
   "source": [
    "#### Choosing a model\n",
    "you could consider, a first order, second order, or any n order polynomial \n",
    "\n",
    "One thing we could try is doing all the tests by hard coding and find the error, but this is __flaud__, as the test error is likely to be lower than the generelization error"
   ]
  },
  {
   "attachments": {},
   "cell_type": "markdown",
   "metadata": {},
   "source": [
    "### A better way of choosing a model\n",
    "Rather than splitting the training set into just subsets we will split them into three subsets, training, cross validation and test sets, as 60/20/20 percents where:\n",
    "$$m_{cv} \\text{ is for the cross validation, aka dev set or development set or  validation set}$$"
   ]
  },
  {
   "attachments": {},
   "cell_type": "markdown",
   "metadata": {},
   "source": [
    "#### Model selection\n",
    "We will calculate the cross validation error, and then choose the model according to the least cross validation error, and then we will estimate the generelization error as the test set.\n",
    "\n",
    "similarly works for neural network architecture as well"
   ]
  },
  {
   "cell_type": "code",
   "execution_count": 1,
   "metadata": {},
   "outputs": [],
   "source": [
    "# for the arrays and stuff\n",
    "import numpy as np\n",
    "\n",
    "# for building linear regression models and preparing the data\n",
    "from sklearn.linear_model import LinearRegression\n",
    "from sklearn.preprocessing import StandardScaler, PolynomialFeatures\n",
    "from sklearn.model_selection import train_test_split\n",
    "from sklearn.metrics import mean_squared_error\n",
    "\n",
    "# fro building and training neural networks\n",
    "import tensorflow as tf\n",
    "\n",
    "# for plotting the curves\n",
    "import matplotlib.pyplot as plt\n",
    "\n",
    "# reduce display precision on numpy arrays\n",
    "np.set_printoptions(precision=2)\n",
    "\n",
    "# suppress warnings\n",
    "tf.get_logger().setLevel('ERROR')\n",
    "tf.autograph.set_verbosity(0)"
   ]
  },
  {
   "cell_type": "code",
   "execution_count": 2,
   "metadata": {},
   "outputs": [
    {
     "name": "stdout",
     "output_type": "stream",
     "text": [
      "the shape of the input x is (50, 1)\n",
      "the shape of the output y is (50, 1)\n"
     ]
    }
   ],
   "source": [
    "# creating some data\n",
    "np.random.seed(1000)\n",
    "x = np.random.randint(1700, 3750, 50)\n",
    "y = 15*np.sqrt(x) + np.random.randint(-7, 7, 50)\n",
    "\n",
    "# Convert the 1D arrays into 2D arrays as we will be using tensorflow later\n",
    "x = np.expand_dims(x, axis=1)\n",
    "y = np.expand_dims(y, axis=1)\n",
    "\n",
    "print(f\"the shape of the input x is {x.shape}\")\n",
    "print(f\"the shape of the output y is {y.shape}\")"
   ]
  },
  {
   "cell_type": "code",
   "execution_count": 3,
   "metadata": {},
   "outputs": [
    {
     "name": "stdout",
     "output_type": "stream",
     "text": [
      "the first 5 values of the input look like \n",
      "[[3159]\n",
      " [2299]\n",
      " [3072]\n",
      " [2469]\n",
      " [2252]]\n",
      "the first 5 values of the output look like \n",
      "[[840.07]\n",
      " [713.22]\n",
      " [824.38]\n",
      " [747.34]\n",
      " [705.83]]\n"
     ]
    }
   ],
   "source": [
    "# good to check some values\n",
    "print(f\"the first 5 values of the input look like \\n{x[:5]}\")\n",
    "print(f\"the first 5 values of the output look like \\n{y[:5]}\")"
   ]
  },
  {
   "cell_type": "code",
   "execution_count": 4,
   "metadata": {},
   "outputs": [
    {
     "data": {
      "text/plain": [
       "<matplotlib.collections.PathCollection at 0x251a6f293a0>"
      ]
     },
     "execution_count": 4,
     "metadata": {},
     "output_type": "execute_result"
    },
    {
     "data": {
      "image/png": "[encoded data removed]",
      "text/plain": [
       "<Figure size 900x600 with 1 Axes>"
      ]
     },
     "metadata": {},
     "output_type": "display_data"
    }
   ],
   "source": [
    "# plotting the entire function \n",
    "fig, ax = plt.subplots(1, 1, figsize =(9, 6))\n",
    "ax.set_title(\"input vs. target\")\n",
    "ax.set_xlabel(\"x\")\n",
    "ax.set_ylabel(\"y\")\n",
    "ax.scatter(x, y, marker='x', c='r')"
   ]
  },
  {
   "cell_type": "code",
   "execution_count": 5,
   "metadata": {},
   "outputs": [
    {
     "name": "stdout",
     "output_type": "stream",
     "text": [
      "the shape of the training set (input) is: (30, 1)\n",
      "the shape of the training set (target) is: (30, 1)\n",
      "\n",
      "the shape of the cross validation set (input) is: (10, 1)\n",
      "the shape of the cross validation set (target) is: (10, 1)\n",
      "\n",
      "the shape of the test set (input) is: (10, 1)\n",
      "the shape of the test set (target) is: (10, 1)\n"
     ]
    }
   ],
   "source": [
    "# splitting the dataset into three parts\n",
    "x_train, x_, y_train, y_ = train_test_split(x, y, test_size=0.4, random_state=1)\n",
    "x_cv, x_test, y_cv, y_test = train_test_split(x_, y_, test_size=0.5, random_state=1)\n",
    "\n",
    "del x_, y_\n",
    "\n",
    "print(f\"the shape of the training set (input) is: {x_train.shape}\")\n",
    "print(f\"the shape of the training set (target) is: {y_train.shape}\\n\")\n",
    "print(f\"the shape of the cross validation set (input) is: {x_cv.shape}\")\n",
    "print(f\"the shape of the cross validation set (target) is: {y_cv.shape}\\n\")\n",
    "print(f\"the shape of the test set (input) is: {x_test.shape}\")\n",
    "print(f\"the shape of the test set (target) is: {y_test.shape}\")"
   ]
  },
  {
   "cell_type": "code",
   "execution_count": 6,
   "metadata": {},
   "outputs": [
    {
     "data": {
      "text/plain": [
       "<matplotlib.legend.Legend at 0x251a67d4040>"
      ]
     },
     "execution_count": 6,
     "metadata": {},
     "output_type": "execute_result"
    },
    {
     "data": {
      "image/png": "[encoded data removed]",
      "text/plain": [
       "<Figure size 900x600 with 1 Axes>"
      ]
     },
     "metadata": {},
     "output_type": "display_data"
    }
   ],
   "source": [
    "fig, ax = plt.subplots(1, 1, figsize=(9, 6))\n",
    "ax.set_label(\"input vs. target\")\n",
    "ax.set_xlabel(\"x\")\n",
    "ax.set_ylabel(\"y\")\n",
    "\n",
    "ax.scatter(x_train, y_train, marker='x', c='r', s=100, label='training')\n",
    "ax.scatter(x_cv, y_cv, marker='.', c='b', s = 100, label='cross validation')\n",
    "ax.scatter(x_test, y_test, marker='^', c='g', s=100, label='test')\n",
    "ax.legend()"
   ]
  },
  {
   "cell_type": "code",
   "execution_count": 7,
   "metadata": {},
   "outputs": [
    {
     "name": "stdout",
     "output_type": "stream",
     "text": [
      "Computed mean of the training set: 2654.27\n",
      "Computed standard deviation of the training set: 598.47\n"
     ]
    }
   ],
   "source": [
    "# initialize the class\n",
    "scaler_linear = StandardScaler()\n",
    "\n",
    "# compute the mean and standard deviation of the training set then transform it\n",
    "x_train_scaled = scaler_linear.fit_transform(x_train)\n",
    "\n",
    "print(f\"Computed mean of the training set: {scaler_linear.mean_.squeeze():.2f}\")\n",
    "print(f\"Computed standard deviation of the training set: {scaler_linear.scale_.squeeze():.2f}\")"
   ]
  },
  {
   "cell_type": "code",
   "execution_count": 8,
   "metadata": {},
   "outputs": [
    {
     "data": {
      "text/plain": [
       "<matplotlib.collections.PathCollection at 0x251a6fcfdf0>"
      ]
     },
     "execution_count": 8,
     "metadata": {},
     "output_type": "execute_result"
    },
    {
     "data": {
      "image/png": "[encoded data removed]",
      "text/plain": [
       "<Figure size 900x600 with 1 Axes>"
      ]
     },
     "metadata": {},
     "output_type": "display_data"
    }
   ],
   "source": [
    "fig, ax = plt.subplots(1, 1, figsize=(9, 6))\n",
    "ax.set_label('scaled input vs. target')\n",
    "ax.set_xlabel('x')\n",
    "ax.set_ylabel('y')\n",
    "ax.scatter(x_train_scaled, y_train, s=100, marker='x', c='r')"
   ]
  },
  {
   "cell_type": "code",
   "execution_count": 9,
   "metadata": {},
   "outputs": [
    {
     "data": {
      "text/plain": [
       "LinearRegression()"
      ]
     },
     "execution_count": 9,
     "metadata": {},
     "output_type": "execute_result"
    }
   ],
   "source": [
    "# initialize the class\n",
    "linear_model = LinearRegression()\n",
    "\n",
    "# train your model\n",
    "linear_model.fit(x_train_scaled, y_train)"
   ]
  },
  {
   "cell_type": "code",
   "execution_count": 10,
   "metadata": {},
   "outputs": [
    {
     "name": "stdout",
     "output_type": "stream",
     "text": [
      "training MSE (using sklearn function): 18.879989083201256\n",
      "training MSE (for-loop implementation): 18.87998908320125\n"
     ]
    }
   ],
   "source": [
    "# Feed the scaled training set and get the predictions\n",
    "yhat = linear_model.predict(x_train_scaled)\n",
    "\n",
    "# Use scikit-learn's utility funtion and divid by 2\n",
    "print(f\"training MSE (using sklearn function): {mean_squared_error(y_train, yhat)/2}\")\n",
    "\n",
    "# for-loop implementation\n",
    "total_squared_error = 0\n",
    "\n",
    "for i in range(len(yhat)):\n",
    "    squared_error_i = (yhat[i]-y_train[i])**2\n",
    "    total_squared_error += squared_error_i\n",
    "mse = total_squared_error / (2*len(yhat))\n",
    "\n",
    "print(f\"training MSE (for-loop implementation): {mse.squeeze()}\")"
   ]
  },
  {
   "cell_type": "code",
   "execution_count": 11,
   "metadata": {},
   "outputs": [
    {
     "name": "stdout",
     "output_type": "stream",
     "text": [
      "Mean used to scale the CV set: 2654.27\n",
      "Standard deviation used to scale the CV set: 598.47\n",
      "Cross validation MSE: 25.313483492084863\n"
     ]
    }
   ],
   "source": [
    "# Scale the cross validation set using the mean and standard deviation of the training set\n",
    "x_cv_scaled = scaler_linear.transform(x_cv)\n",
    "\n",
    "print(f\"Mean used to scale the CV set: {scaler_linear.mean_.squeeze():.2f}\")\n",
    "print(f\"Standard deviation used to scale the CV set: {scaler_linear.scale_.squeeze():.2f}\")\n",
    "\n",
    "# Feed the scaled cross validation set\n",
    "yhat = linear_model.predict(x_cv_scaled)\n",
    "\n",
    "# calculating the error using scikit-learn's utility function\n",
    "print(f\"Cross validation MSE: {mean_squared_error(y_cv, yhat)/2}\")"
   ]
  },
  {
   "attachments": {},
   "cell_type": "markdown",
   "metadata": {},
   "source": [
    "## Adding Polynomial Features"
   ]
  },
  {
   "attachments": {},
   "cell_type": "markdown",
   "metadata": {},
   "source": [
    "#### Create teh additional features"
   ]
  },
  {
   "cell_type": "code",
   "execution_count": 12,
   "metadata": {},
   "outputs": [
    {
     "name": "stdout",
     "output_type": "stream",
     "text": [
      "[[2.14e+03 4.58e+06]\n",
      " [3.65e+03 1.33e+07]\n",
      " [1.70e+03 2.90e+06]\n",
      " [1.80e+03 3.24e+06]\n",
      " [1.98e+03 3.91e+06]]\n"
     ]
    }
   ],
   "source": [
    "# Instantiate the class to make polynomial features\n",
    "poly = PolynomialFeatures(degree=2, include_bias=False)\n",
    "\n",
    "# compute the number of features and transform the training set\n",
    "x_train_mapped = poly.fit_transform(x_train)\n",
    "\n",
    "# Preview the first 5 elements of the new training set. Left column is `x` and right column is `x^2`\n",
    "# Note: The `e+<number>` in the output denotes how many places the decimal point should \n",
    "# be moved. For example, `3.24e+03` is equal to `3240`\n",
    "print(x_train_mapped[:5])"
   ]
  },
  {
   "cell_type": "code",
   "execution_count": 13,
   "metadata": {},
   "outputs": [
    {
     "name": "stdout",
     "output_type": "stream",
     "text": [
      "[[-0.86 -0.87]\n",
      " [ 1.66  1.83]\n",
      " [-1.59 -1.39]\n",
      " [-1.43 -1.29]\n",
      " [-1.13 -1.08]]\n"
     ]
    }
   ],
   "source": [
    "# Instantiate the class\n",
    "scaler_poly = StandardScaler()\n",
    "\n",
    "# Compute the mean and standard deviation of the training set then transfor it\n",
    "x_train_mapped_scaled = scaler_poly.fit_transform(x_train_mapped)\n",
    "\n",
    "# Preview the first 5 elements of the scaled training set\n",
    "print(x_train_mapped_scaled[:5])"
   ]
  },
  {
   "cell_type": "code",
   "execution_count": 14,
   "metadata": {},
   "outputs": [
    {
     "name": "stdout",
     "output_type": "stream",
     "text": [
      "Training MSE: 7.390855205762089\n",
      "Cross validation MSE: 8.507062755485519\n"
     ]
    }
   ],
   "source": [
    "# Initialize the class\n",
    "model = LinearRegression()\n",
    "\n",
    "# Train the model\n",
    "model.fit(x_train_mapped_scaled, y_train)\n",
    "\n",
    "# Compute the training MSE\n",
    "yhat = model.predict(x_train_mapped_scaled)\n",
    "print(f\"Training MSE: {mean_squared_error(y_train, yhat)/2}\")\n",
    "\n",
    "# Add the polynomial features to the cross validation set\n",
    "x_cv_mapped = poly.transform(x_cv)\n",
    "\n",
    "# Scale the cross validation set using the mean and standard deviation of the training set\n",
    "x_cv_mapped_scaled = scaler_poly.transform(x_cv_mapped)\n",
    "\n",
    "# compute the cross validation MSE\n",
    "yhat = model.predict(x_cv_mapped_scaled)\n",
    "print(f\"Cross validation MSE: {mean_squared_error(y_cv, yhat)/2}\")"
   ]
  },
  {
   "cell_type": "code",
   "execution_count": 15,
   "metadata": {},
   "outputs": [],
   "source": [
    "# initialize lists containing the lists, models, and scalars\n",
    "train_mses = []\n",
    "cv_mses = []\n",
    "models = []\n",
    "scalers = []\n",
    "\n",
    "for degree in range(1, 11):\n",
    "    # Add polynomial feature to the training set\n",
    "    poly = PolynomialFeatures(degree, include_bias=False)\n",
    "    x_train_mapped = poly.fit_transform(x_train)\n",
    "\n",
    "    # Scale the training set\n",
    "    scaler_poly = StandardScaler()\n",
    "    x_train_mapped_scaled = scaler_poly.fit_transform(x_train_mapped)\n",
    "    scalers.append(scaler_poly)\n",
    "\n",
    "    # Create and train the model\n",
    "    model = LinearRegression()\n",
    "    model.fit(x_train_mapped_scaled, y_train)\n",
    "    models.append(model)\n",
    "    \n",
    "    # Compute the training MSE\n",
    "    yhat = model.predict(x_train_mapped_scaled)\n",
    "    train_mse = mean_squared_error(y_train, yhat)/2\n",
    "    train_mses.append(train_mse)\n",
    "\n",
    "    # Add polynomial features and scale the cross validation set\n",
    "    poly = PolynomialFeatures(degree, include_bias=False)\n",
    "    x_cv_mapped = poly.fit_transform(x_cv)\n",
    "    x_cv_mapped_scaled = scaler_poly.transform(x_cv_mapped)\n",
    "\n",
    "    # Compute the cross validation MSE\n",
    "    yhat = model.predict(x_cv_mapped_scaled)\n",
    "    cv_mse = mean_squared_error(y_cv, yhat)/2\n",
    "    cv_mses.append(cv_mse)"
   ]
  },
  {
   "cell_type": "code",
   "execution_count": 16,
   "metadata": {},
   "outputs": [
    {
     "name": "stdout",
     "output_type": "stream",
     "text": [
      "The MSEs for the training set are : [18.879989083201256, 7.390855205762089, 7.370878650531098, 7.354587548491163, 7.0503689539688095, 6.213774463569319, 6.197683010140142, 5.546379718757839, 5.544785412394862, 5.516335903356048]\n",
      "The MSEs for the cross validation set are : [25.313483492084863, 8.507062755485519, 8.653623264461848, 8.457112430055542, 9.567539202475075, 9.329371136785902, 9.577666788673637, 9.984532873808522, 10.258959138604233, 9.868774167093274]\n"
     ]
    }
   ],
   "source": [
    "print(f\"The MSEs for the training set are : {train_mses}\")\n",
    "print(f\"The MSEs for the cross validation set are : {cv_mses}\")"
   ]
  },
  {
   "cell_type": "code",
   "execution_count": 17,
   "metadata": {},
   "outputs": [
    {
     "data": {
      "text/plain": [
       "[<matplotlib.lines.Line2D at 0x251a94a1cd0>]"
      ]
     },
     "execution_count": 17,
     "metadata": {},
     "output_type": "execute_result"
    },
    {
     "data": {
      "image/png": "[encoded data removed]",
      "text/plain": [
       "<Figure size 900x600 with 1 Axes>"
      ]
     },
     "metadata": {},
     "output_type": "display_data"
    }
   ],
   "source": [
    "fig, ax = plt.subplots(1, 1, figsize=(9, 6))\n",
    "degree = range(1, 11)\n",
    "ax.set_label('degree of polynomial vs. train and CV MSEs')\n",
    "ax.set_xlabel('degree')\n",
    "ax.set_ylabel('MSE')\n",
    "ax.plot(degree, cv_mses, '-o', c='b', markersize=5)\n",
    "ax.plot(degree, train_mses, '-o', c='r', markersize=5)"
   ]
  },
  {
   "cell_type": "code",
   "execution_count": 18,
   "metadata": {},
   "outputs": [
    {
     "name": "stdout",
     "output_type": "stream",
     "text": [
      "Lowest CV MSE is found in the model with degree=4\n"
     ]
    }
   ],
   "source": [
    "# Get the model with the lowest CV MSE (add 1 because list indices start at 0)\n",
    "# This also corresponds to the degree of the polynomial added\n",
    "degree = np.argmin(cv_mses) + 1\n",
    "print(f\"Lowest CV MSE is found in the model with degree={degree}\")"
   ]
  },
  {
   "cell_type": "code",
   "execution_count": 19,
   "metadata": {},
   "outputs": [
    {
     "name": "stdout",
     "output_type": "stream",
     "text": [
      "Training MSE: 7.35\n",
      "Cross Validation MSE: 8.46\n",
      "Test MSE: 21.34\n"
     ]
    }
   ],
   "source": [
    "# Adding polynomial features to run test set\n",
    "poly = PolynomialFeatures(degree = 4, include_bias=False)\n",
    "x_test_mapped = poly.fit_transform(x_test)\n",
    "\n",
    "# Scaling the features using the training set\n",
    "x_test_mapped_scaled = scalers[degree-1].transform(x_test_mapped)\n",
    "\n",
    "# Compute the test MSE\n",
    "yhat = models[degree-1].predict(x_test_mapped_scaled)\n",
    "test_mse = mean_squared_error(y_test, yhat)\n",
    "\n",
    "print(f\"Training MSE: {train_mses[degree-1]:.2f}\")\n",
    "print(f\"Cross Validation MSE: {cv_mses[degree-1]:.2f}\")\n",
    "print(f\"Test MSE: {test_mse:.2f}\")"
   ]
  },
  {
   "attachments": {},
   "cell_type": "markdown",
   "metadata": {},
   "source": [
    "## Neural Networks"
   ]
  },
  {
   "attachments": {},
   "cell_type": "markdown",
   "metadata": {},
   "source": [
    "You will use the same training, cross validation, and test sets you generated in the previous section. From earlier lectures in this course, you may have known that neural networks can learn non-linear relationships so you can opt to skip adding polynomial features. The code is still included below in case you want to try later and see what effect it will have on your results. The default degree is set to 1 to indicate that it will just use x_train, x_cv, and x_test as is (i.e. without any additional polynomial features)."
   ]
  },
  {
   "cell_type": "code",
   "execution_count": 20,
   "metadata": {},
   "outputs": [],
   "source": [
    "# Add polynomial features\n",
    "degree = 1\n",
    "poly = PolynomialFeatures(degree, include_bias=False)\n",
    "x_train_mapped = poly.fit_transform(x_train)\n",
    "x_cv_mapped = poly.transform(x_cv)\n",
    "x_test_mapped = poly.transform(x_test)"
   ]
  },
  {
   "cell_type": "code",
   "execution_count": 21,
   "metadata": {},
   "outputs": [],
   "source": [
    "# Scale the features using the z-score\n",
    "\n",
    "scaler = StandardScaler()\n",
    "x_train_mapped_scaled = scaler.fit_transform(x_train_mapped)\n",
    "x_cv_mapped_scaled = scaler.transform(x_cv_mapped)\n",
    "x_test_mapped_scaled = scaler.transform(x_test_mapped)"
   ]
  },
  {
   "cell_type": "code",
   "execution_count": 22,
   "metadata": {},
   "outputs": [],
   "source": [
    "# The models to be used\n",
    "from tensorflow.keras import Sequential\n",
    "from tensorflow.keras.layers import Dense\n",
    "def build_models():\n",
    "    \n",
    "    tf.random.set_seed(20)\n",
    "    \n",
    "    model_1 = Sequential(\n",
    "        [\n",
    "            Dense(25, activation = 'relu'),\n",
    "            Dense(15, activation = 'relu'),\n",
    "            Dense(1, activation = 'linear')\n",
    "        ],\n",
    "        name='model_1'\n",
    "    )\n",
    "\n",
    "    model_2 = Sequential(\n",
    "        [\n",
    "            Dense(20, activation = 'relu'),\n",
    "            Dense(12, activation = 'relu'),\n",
    "            Dense(12, activation = 'relu'),\n",
    "            Dense(20, activation = 'relu'),\n",
    "            Dense(1, activation = 'linear')\n",
    "        ],\n",
    "        name='model_2'\n",
    "    )\n",
    "\n",
    "    model_3 = Sequential(\n",
    "        [\n",
    "            Dense(32, activation = 'relu'),\n",
    "            Dense(16, activation = 'relu'),\n",
    "            Dense(8, activation = 'relu'),\n",
    "            Dense(4, activation = 'relu'),\n",
    "            Dense(12, activation = 'relu'),\n",
    "            Dense(1, activation = 'linear')\n",
    "        ],\n",
    "        name='model_3'\n",
    "    )\n",
    "    \n",
    "    model_list = [model_1, model_2, model_3]\n",
    "    \n",
    "    return model_list"
   ]
  },
  {
   "cell_type": "code",
   "execution_count": 23,
   "metadata": {},
   "outputs": [
    {
     "name": "stdout",
     "output_type": "stream",
     "text": [
      "Training model_1...\n"
     ]
    },
    {
     "name": "stdout",
     "output_type": "stream",
     "text": [
      "Done!\n",
      "\n",
      "1/1 [==============================] - 0s 96ms/step\n",
      "1/1 [==============================] - 0s 25ms/step\n",
      "Training model_2...\n",
      "Done!\n",
      "\n",
      "1/1 [==============================] - 0s 245ms/step\n",
      "1/1 [==============================] - 0s 44ms/step\n",
      "Training model_3...\n",
      "Done!\n",
      "\n",
      "1/1 [==============================] - 0s 157ms/step\n",
      "1/1 [==============================] - 0s 44ms/step\n",
      "RESULTS:\n",
      "Model 1: Training MSE: 19.20, CV MSE: 25.78\n",
      "Model 2: Training MSE: 18.88, CV MSE: 25.73\n",
      "Model 3: Training MSE: 18.88, CV MSE: 25.32\n"
     ]
    }
   ],
   "source": [
    "# Initialize lists that will contain the errors for each model\n",
    "nn_train_mses = []\n",
    "nn_cv_mses = []\n",
    "\n",
    "# Build the models\n",
    "nn_models = build_models()\n",
    "\n",
    "# Loop over the models\n",
    "for model in nn_models:\n",
    "\n",
    "    # Setup the loss and optimizer\n",
    "    model.compile(\n",
    "        loss = 'mse',\n",
    "        optimizer = tf.keras.optimizers.Adam(learning_rate=0.1),\n",
    "    )\n",
    "\n",
    "    print(f\"Training {model.name}...\")\n",
    "\n",
    "    # Train the model\n",
    "    model.fit(\n",
    "        x_train_mapped_scaled, y_train,\n",
    "        epochs = 300,\n",
    "        verbose = 0,\n",
    "    )\n",
    "\n",
    "    print(\"Done!\\n\")\n",
    "\n",
    "    # Record the training MSEs\n",
    "    yhat = model.predict(x_train_mapped_scaled)\n",
    "    train_mse = mean_squared_error(y_train, yhat)/2\n",
    "    nn_train_mses.append(train_mse)\n",
    "\n",
    "    # Record the cross validation MSEs\n",
    "    yhat = model.predict(x_cv_mapped_scaled)\n",
    "    cv_mse = mean_squared_error(y_cv, yhat)/2\n",
    "    nn_cv_mses.append(cv_mse)\n",
    "\n",
    "# print results\n",
    "print(\"RESULTS:\")\n",
    "for model_num in range(len(nn_train_mses)):\n",
    "    print(\n",
    "        f\"Model {model_num+1}: Training MSE: {nn_train_mses[model_num]:.2f}, \" +\n",
    "        f\"CV MSE: {nn_cv_mses[model_num]:.2f}\"\n",
    "    )"
   ]
  },
  {
   "cell_type": "code",
   "execution_count": 24,
   "metadata": {},
   "outputs": [
    {
     "name": "stdout",
     "output_type": "stream",
     "text": [
      "1/1 [==============================] - 0s 39ms/step\n",
      "Selected Model: 1\n",
      "Training MSE: 19.20\n",
      "Cross Validation MSE: 25.78\n",
      "Test MSE: 21.72\n"
     ]
    }
   ],
   "source": [
    "# Select the model with lowest CV MSE\n",
    "model_num = 1\n",
    "\n",
    "# Compute the test MSE\n",
    "yhat = nn_models[model_num-1].predict(x_test_mapped_scaled)\n",
    "test_mse = mean_squared_error(y_test, yhat)/2\n",
    "\n",
    "print(f\"Selected Model: {model_num}\")\n",
    "print(f\"Training MSE: {nn_train_mses[model_num-1]:.2f}\")\n",
    "print(f\"Cross Validation MSE: {nn_cv_mses[model_num-1]:.2f}\")\n",
    "print(f\"Test MSE: {test_mse:.2f}\")"
   ]
  }
 ],
 "metadata": {
  "kernelspec": {
   "display_name": "base",
   "language": "python",
   "name": "python3"
  },
  "language_info": {
   "codemirror_mode": {
    "name": "ipython",
    "version": 3
   },
   "file_extension": ".py",
   "mimetype": "text/x-python",
   "name": "python",
   "nbconvert_exporter": "python",
   "pygments_lexer": "ipython3",
   "version": "3.9.13"
  },
  "orig_nbformat": 4
 },
 "nbformat": 4,
 "nbformat_minor": 2
}
