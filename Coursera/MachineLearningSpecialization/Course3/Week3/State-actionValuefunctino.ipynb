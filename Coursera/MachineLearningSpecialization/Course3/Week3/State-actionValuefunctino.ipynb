{
 "cells": [
  {
   "cell_type": "markdown",
   "metadata": {},
   "source": [
    "# State-action value function(Q-function)"
   ]
  },
  {
   "cell_type": "markdown",
   "metadata": {},
   "source": [
    "__Q(s, a)__ = Return if you\n",
    "- start in state s\n",
    "- take action a\n",
    "- then behave optimally after that"
   ]
  },
  {
   "cell_type": "markdown",
   "metadata": {},
   "source": [
    "First we compute this, and then take the best possible output with refeerence to the reward"
   ]
  },
  {
   "cell_type": "markdown",
   "metadata": {},
   "source": [
    "## Bellman Equation"
   ]
  },
  {
   "cell_type": "markdown",
   "metadata": {},
   "source": [
    "__s__: current state <br>\n",
    "__R(s)__: reward of current state <br>\n",
    "__a__: current action <br>\n",
    "__s'__: state you get to after taking action a <br>\n",
    "__a'__: action that you take in state s' <br>\n",
    "$$Q(s, a) = R(s) + \\gamma \\max_{a'}Q(s', a')$$\n",
    "R(s) is sometimes called the immediate reward"
   ]
  },
  {
   "cell_type": "markdown",
   "metadata": {},
   "source": [
    "## Random (stochastic) environment"
   ]
  },
  {
   "cell_type": "markdown",
   "metadata": {},
   "source": [
    "Let's say that out of the 100%, there is a 10% chance of going to the left, as it slips up and shifts the direction, this is an example of a stochastic environment"
   ]
  },
  {
   "cell_type": "markdown",
   "metadata": {},
   "source": [
    "There is an element of luck, or probability added here"
   ]
  },
  {
   "cell_type": "markdown",
   "metadata": {},
   "source": [
    "There is not one sequence of rewards, but we see a sequence of sequence of rewards\n",
    "\n",
    "So in stochastic method, we us the expected return, that is we want to maximize not the return, but the average over all the return values\n",
    "\n",
    "Written by $E[R_1 + \\gamma R_2 + \\gamma^2 R_3 + ...]$\n",
    "\n",
    "So now the bell man equation becomes\n",
    "$$Q(s, a) = R(s) + \\gamma E[\\max_{a'}Q(s',a')]$$"
   ]
  },
  {
   "cell_type": "code",
   "execution_count": null,
   "metadata": {},
   "outputs": [],
   "source": []
  }
 ],
 "metadata": {
  "language_info": {
   "name": "python"
  },
  "orig_nbformat": 4
 },
 "nbformat": 4,
 "nbformat_minor": 2
}
