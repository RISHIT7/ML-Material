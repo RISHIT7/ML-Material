{
 "cells": [
  {
   "cell_type": "markdown",
   "metadata": {},
   "source": [
    "# Content based filtering"
   ]
  },
  {
   "cell_type": "markdown",
   "metadata": {},
   "source": [
    "Recommend items to you based on feature of user and item to find good match"
   ]
  },
  {
   "cell_type": "markdown",
   "metadata": {},
   "source": [
    "__User features:__\n",
    "- Age\n",
    "- Gender ( 1 hot )\n",
    "- Country ( 1 hot, 200 )\n",
    "- Movies watched ( similarly )\n",
    "- Average rating per game\n",
    "- ...\n",
    "\n",
    "__Movie feature:__\n",
    "- Year\n",
    "- Genre/Genres\n",
    "- Reviews\n",
    "- Average rating\n",
    "- ..."
   ]
  },
  {
   "cell_type": "markdown",
   "metadata": {},
   "source": [
    "#### Predicting rating of user $j$ on movie $i$ as"
   ]
  },
  {
   "cell_type": "markdown",
   "metadata": {},
   "source": [
    "the expression\n",
    "$$w^{(j)} \\cdot x^{(i)}$$\n",
    "to the expression,\n",
    "$$v_u^{(j)} \\cdot v_m^{(i)}$$\n",
    "\n",
    "Note that the feature vectors $x_u^{(i)}$ and $x_m^{(j)}$ may  have compeletely different dimensions, but the v vector made from these feature vector must have the same size, in order to be take dot product of"
   ]
  },
  {
   "cell_type": "markdown",
   "metadata": {},
   "source": [
    "## Deep learning for content-based filtering"
   ]
  },
  {
   "cell_type": "markdown",
   "metadata": {},
   "source": [
    "### Neural network architecture"
   ]
  },
  {
   "cell_type": "markdown",
   "metadata": {},
   "source": [
    "1) To convert $v_u$ from the input $x_u$ we will use a neural network and get it to output n numbers of values, that we desire we call this the __User Network__\n",
    "2) To convert $v_m$ from the input $x_m$ we will use a Movie network and get it to output the same number of values, and we call this the __Movie network__"
   ]
  },
  {
   "cell_type": "markdown",
   "metadata": {},
   "source": [
    "#### How to compute all the parameters???"
   ]
  },
  {
   "cell_type": "markdown",
   "metadata": {},
   "source": [
    "#### Cost function\n",
    "$$J = \\sum_{(i, j):r(i, j) = 1} \\big( v_u^{(j)} \\cdot v_m^{(i)} - y^{(i,j)} \\big)^2 + \\text{NN redularisation terms}$$"
   ]
  },
  {
   "cell_type": "markdown",
   "metadata": {},
   "source": [
    "Now,\n",
    "1) $v_u^{(j)}$ is a vector of length n that describes user $j$ with features $x_u^{(j)}$\n",
    "2) $v_m^{(i)}$ is a vector of length n that describes user $i$ with features $x_m^{(i)}$\n",
    "\n",
    "To find dimilar movies: $||v_m^{(k)}-v_m^{(i)}||^2$"
   ]
  },
  {
   "cell_type": "markdown",
   "metadata": {},
   "source": [
    "## Efficiently find recommendation from a large set of items"
   ]
  },
  {
   "cell_type": "markdown",
   "metadata": {},
   "source": [
    "#### Two steps: Retrieval and Ranking\n",
    "__Retrieval:__\n",
    "- Generate large list of plausible item candidates for example\n",
    "    1) For each of the last 10 movies watched by the user, find 10 most similar movies\n",
    "    2) For most viewed 3 genres, find the 10 movies\n",
    "    3) Top 20 movies in the country \n",
    "\n",
    "- Combine retrieved itmes into a list, removing duplicates  and items already watched/ purchased\n",
    "\n",
    "__Ranking:__\n",
    "- Take list retrieved and rank using learned model\n",
    "- Display ranked items to user"
   ]
  }
 ],
 "metadata": {
  "language_info": {
   "name": "python"
  },
  "orig_nbformat": 4
 },
 "nbformat": 4,
 "nbformat_minor": 2
}
