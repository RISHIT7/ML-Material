{
 "cells": [
  {
   "cell_type": "code",
   "execution_count": 24,
   "metadata": {},
   "outputs": [],
   "source": [
    "import yahooquery as yq\n",
    "import pandas as pd"
   ]
  },
  {
   "cell_type": "code",
   "execution_count": 35,
   "metadata": {},
   "outputs": [],
   "source": [
    "def get_PE(symbol):\n",
    "    symbol += \".NS\"\n",
    "    stock_data = yq.Ticker(symbol)\n",
    "    PE = stock_data.history(period='1d')['close'].iloc[0]\n",
    "    return PE\n"
   ]
  },
  {
   "cell_type": "code",
   "execution_count": 36,
   "metadata": {},
   "outputs": [
    {
     "name": "stdout",
     "output_type": "stream",
     "text": [
      "[('ADANIENT', 3168.60009765625), ('ADANIPORTS', 1245.199951171875), ('APOLLOHOSP', 6231.0)]\n"
     ]
    }
   ],
   "source": [
    "result = []\n",
    "NIFTY50 = [\"ADANIENT\",\"ADANIPORTS\",\"APOLLOHOSP\"]\n",
    "for symbol in NIFTY50:\n",
    "    result.append((symbol, get_PE(symbol)))\n",
    "print(result)"
   ]
  },
  {
   "cell_type": "code",
   "execution_count": 75,
   "metadata": {},
   "outputs": [],
   "source": [
    "NIFTY50 = [\n",
    "    # \"ADANIENT\",\n",
    "    # \"ADANIPORTS\",\n",
    "    # \"APOLLOHOSP\",\n",
    "    # \"ASIANPAINT\",\n",
    "    # \"AXISBANK\",\n",
    "    # \"BAJAJ-AUTO\",\n",
    "    # \"BAJFINANCE\",\n",
    "    # \"BAJAJFINSV\",\n",
    "    # \"BPCL\",\n",
    "    # \"BHARTIARTL\",\n",
    "    # \"BRITANNIA\",\n",
    "    # \"CIPLA\",\n",
    "    # \"COALINDIA\"\n",
    "    # \"DIVISLAB\",\n",
    "    # \"DRREDDY\",\n",
    "    # \"EICHERMOT\",\n",
    "    # \"GRASIM\",\n",
    "    # \"HCLTECH\",\n",
    "    # \"HDFCBANK\",\n",
    "    # \"HEROMOTOCO\",\n",
    "    # \"HDFCLIFE\",\n",
    "    # \"HINDALCO\",\n",
    "    # \"HINDUNILVR\",\n",
    "    # \"ICICIBANK\",\n",
    "    # \"ITC\",\n",
    "    # \"INDUSINDBK\",\n",
    "    # \"INFY\",\n",
    "    # \"JSWSTEEL\",\n",
    "    # \"KOTAKBANK\",\n",
    "    # \"LTIM\"\n",
    "    # \"LT\",\n",
    "    # \"MARUTI\",\n",
    "    # \"NTPC\",\n",
    "    # \"NESTLEIND\"\n",
    "    # \"ONGC\",\n",
    "    # \"POWERGRID\",\n",
    "    # \"RELIANCE\",\n",
    "    # \"SBIN\",\n",
    "    # \"SUNPHARMA\",\n",
    "    # \"TCS\",\n",
    "    # \"TATACONSUM\",\n",
    "    # \"TATAMOTORS\",\n",
    "    # \"TATASTEEL\", \n",
    "    # \"TECHM\",\n",
    "    # \"TITAN\",\n",
    "    # \"UPL\",\n",
    "    # \"ULTRACEMCO\",\n",
    "    # \"WIPRO\",\n",
    "]\n",
    "for symbol in NIFTY50:\n",
    "    print(symbol + \" \" + str(get_MC(symbol)))"
   ]
  }
 ],
 "metadata": {
  "kernelspec": {
   "display_name": "Python 3",
   "language": "python",
   "name": "python3"
  },
  "language_info": {
   "codemirror_mode": {
    "name": "ipython",
    "version": 3
   },
   "file_extension": ".py",
   "mimetype": "text/x-python",
   "name": "python",
   "nbconvert_exporter": "python",
   "pygments_lexer": "ipython3",
   "version": "3.10.11"
  }
 },
 "nbformat": 4,
 "nbformat_minor": 2
}
