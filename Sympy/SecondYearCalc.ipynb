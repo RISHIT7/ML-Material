{
 "cells": [
  {
   "cell_type": "code",
   "execution_count": 3,
   "metadata": {},
   "outputs": [],
   "source": [
    "import numpy as np\n",
    "import sympy as smp\n",
    "from sympy.vector import *\n",
    "import matplotlib.pyplot as plt\n",
    "from scipy.integrate import quad\n",
    "from scipy.integrate import quad_vec"
   ]
  },
  {
   "cell_type": "code",
   "execution_count": 4,
   "metadata": {},
   "outputs": [],
   "source": [
    "x, y, z, u1, u2, u3, v1, v2, v3, t = smp.symbols('x y z u_1 u_2 u_3 v_1 v_2 v_3 t')"
   ]
  },
  {
   "cell_type": "markdown",
   "metadata": {},
   "source": [
    "# Vectors and Geometry"
   ]
  },
  {
   "cell_type": "markdown",
   "metadata": {},
   "source": [
    "Numericals or symbols"
   ]
  },
  {
   "cell_type": "code",
   "execution_count": 5,
   "metadata": {},
   "outputs": [],
   "source": [
    "a = np.array([1, 2, 3])\n",
    "b = np.array([7, 8, 9])\n",
    "u = smp.Matrix([u1, u2, u3]) # symbolic expressions\n",
    "v = smp.Matrix([v1, v2, v3])"
   ]
  },
  {
   "cell_type": "code",
   "execution_count": 6,
   "metadata": {},
   "outputs": [
    {
     "data": {
      "text/plain": [
       "array([ 9, 12, 15])"
      ]
     },
     "execution_count": 6,
     "metadata": {},
     "output_type": "execute_result"
    }
   ],
   "source": [
    "2*a+b"
   ]
  },
  {
   "cell_type": "code",
   "execution_count": 7,
   "metadata": {},
   "outputs": [
    {
     "data": {
      "text/latex": [
       "$\\displaystyle \\left[\\begin{matrix}2 u_{1} + v_{1}\\\\2 u_{2} + v_{2}\\\\2 u_{3} + v_{3}\\end{matrix}\\right]$"
      ],
      "text/plain": [
       "Matrix([\n",
       "[2*u_1 + v_1],\n",
       "[2*u_2 + v_2],\n",
       "[2*u_3 + v_3]])"
      ]
     },
     "execution_count": 7,
     "metadata": {},
     "output_type": "execute_result"
    }
   ],
   "source": [
    "2*u+v"
   ]
  },
  {
   "cell_type": "markdown",
   "metadata": {},
   "source": [
    "## Dot products"
   ]
  },
  {
   "cell_type": "code",
   "execution_count": 8,
   "metadata": {},
   "outputs": [
    {
     "data": {
      "text/plain": [
       "50"
      ]
     },
     "execution_count": 8,
     "metadata": {},
     "output_type": "execute_result"
    }
   ],
   "source": [
    "np.dot(a, b)"
   ]
  },
  {
   "cell_type": "code",
   "execution_count": 9,
   "metadata": {},
   "outputs": [
    {
     "data": {
      "text/latex": [
       "$\\displaystyle u_{1} v_{1} + u_{2} v_{2} + u_{3} v_{3}$"
      ],
      "text/plain": [
       "u_1*v_1 + u_2*v_2 + u_3*v_3"
      ]
     },
     "execution_count": 9,
     "metadata": {},
     "output_type": "execute_result"
    }
   ],
   "source": [
    "u.dot(v)"
   ]
  },
  {
   "cell_type": "markdown",
   "metadata": {},
   "source": [
    "## Cross Products"
   ]
  },
  {
   "cell_type": "code",
   "execution_count": 10,
   "metadata": {},
   "outputs": [
    {
     "data": {
      "text/plain": [
       "array([-6, 12, -6])"
      ]
     },
     "execution_count": 10,
     "metadata": {},
     "output_type": "execute_result"
    }
   ],
   "source": [
    "np.cross(a, b)\n"
   ]
  },
  {
   "cell_type": "code",
   "execution_count": 11,
   "metadata": {},
   "outputs": [
    {
     "data": {
      "text/latex": [
       "$\\displaystyle \\left[\\begin{matrix}u_{2} v_{3} - u_{3} v_{2}\\\\- u_{1} v_{3} + u_{3} v_{1}\\\\u_{1} v_{2} - u_{2} v_{1}\\end{matrix}\\right]$"
      ],
      "text/plain": [
       "Matrix([\n",
       "[ u_2*v_3 - u_3*v_2],\n",
       "[-u_1*v_3 + u_3*v_1],\n",
       "[ u_1*v_2 - u_2*v_1]])"
      ]
     },
     "execution_count": 11,
     "metadata": {},
     "output_type": "execute_result"
    }
   ],
   "source": [
    "u.cross(v)"
   ]
  },
  {
   "cell_type": "markdown",
   "metadata": {},
   "source": [
    "## Length of vector"
   ]
  },
  {
   "cell_type": "code",
   "execution_count": 12,
   "metadata": {},
   "outputs": [
    {
     "data": {
      "text/plain": [
       "3.7416573867739413"
      ]
     },
     "execution_count": 12,
     "metadata": {},
     "output_type": "execute_result"
    }
   ],
   "source": [
    "np.linalg.norm(a)"
   ]
  },
  {
   "cell_type": "code",
   "execution_count": 13,
   "metadata": {},
   "outputs": [
    {
     "data": {
      "text/latex": [
       "$\\displaystyle \\sqrt{\\left|{u_{1}}\\right|^{2} + \\left|{u_{2}}\\right|^{2} + \\left|{u_{3}}\\right|^{2}}$"
      ],
      "text/plain": [
       "sqrt(Abs(u_1)**2 + Abs(u_2)**2 + Abs(u_3)**2)"
      ]
     },
     "execution_count": 13,
     "metadata": {},
     "output_type": "execute_result"
    }
   ],
   "source": [
    "u.norm()"
   ]
  },
  {
   "cell_type": "markdown",
   "metadata": {},
   "source": [
    "## Vector Projection\n",
    "$$proj_v(u) = \\frac{\\vec{u} \\cdot \\vec{v}}{|\\vec{v}|} \\hat{v}$$"
   ]
  },
  {
   "cell_type": "code",
   "execution_count": 14,
   "metadata": {},
   "outputs": [
    {
     "data": {
      "text/plain": [
       "array([ 3.57142857,  7.14285714, 10.71428571])"
      ]
     },
     "execution_count": 14,
     "metadata": {},
     "output_type": "execute_result"
    }
   ],
   "source": [
    "proj_b_a = (np.dot(b, a)/(np.linalg.norm(a)**2))*a\n",
    "proj_b_a"
   ]
  },
  {
   "cell_type": "code",
   "execution_count": 15,
   "metadata": {},
   "outputs": [
    {
     "data": {
      "text/latex": [
       "$\\displaystyle \\left[\\begin{matrix}\\frac{u_{1} \\left(u_{1} v_{1} + u_{2} v_{2} + u_{3} v_{3}\\right)}{\\left|{u_{1}}\\right|^{2} + \\left|{u_{2}}\\right|^{2} + \\left|{u_{3}}\\right|^{2}}\\\\\\frac{u_{2} \\left(u_{1} v_{1} + u_{2} v_{2} + u_{3} v_{3}\\right)}{\\left|{u_{1}}\\right|^{2} + \\left|{u_{2}}\\right|^{2} + \\left|{u_{3}}\\right|^{2}}\\\\\\frac{u_{3} \\left(u_{1} v_{1} + u_{2} v_{2} + u_{3} v_{3}\\right)}{\\left|{u_{1}}\\right|^{2} + \\left|{u_{2}}\\right|^{2} + \\left|{u_{3}}\\right|^{2}}\\end{matrix}\\right]$"
      ],
      "text/plain": [
       "Matrix([\n",
       "[u_1*(u_1*v_1 + u_2*v_2 + u_3*v_3)/(Abs(u_1)**2 + Abs(u_2)**2 + Abs(u_3)**2)],\n",
       "[u_2*(u_1*v_1 + u_2*v_2 + u_3*v_3)/(Abs(u_1)**2 + Abs(u_2)**2 + Abs(u_3)**2)],\n",
       "[u_3*(u_1*v_1 + u_2*v_2 + u_3*v_3)/(Abs(u_1)**2 + Abs(u_2)**2 + Abs(u_3)**2)]])"
      ]
     },
     "execution_count": 15,
     "metadata": {},
     "output_type": "execute_result"
    }
   ],
   "source": [
    "proj_v_u = u.dot(v)/u.norm()**2 * u\n",
    "proj_v_u"
   ]
  },
  {
   "cell_type": "markdown",
   "metadata": {},
   "source": [
    "## Lines/Planes in Space"
   ]
  },
  {
   "cell_type": "markdown",
   "metadata": {},
   "source": [
    "All a line in vector form needs is a starting point and a parallel vector\n",
    "\n",
    "$$\\vec{r} = \\vec{r}_0 + \\lambda \\vec{v}$$"
   ]
  },
  {
   "cell_type": "code",
   "execution_count": 16,
   "metadata": {},
   "outputs": [
    {
     "data": {
      "text/latex": [
       "$\\displaystyle \\left[\\begin{matrix}t + 1\\\\3 t + 1\\\\1 - t\\end{matrix}\\right]$"
      ],
      "text/plain": [
       "Matrix([\n",
       "[  t + 1],\n",
       "[3*t + 1],\n",
       "[  1 - t]])"
      ]
     },
     "execution_count": 16,
     "metadata": {},
     "output_type": "execute_result"
    }
   ],
   "source": [
    "r0 = smp.Matrix([1, 1, 1])\n",
    "v = smp.Matrix([1, 3, -1])\n",
    "r = r0 + t*v\n",
    "r"
   ]
  },
  {
   "cell_type": "markdown",
   "metadata": {},
   "source": [
    "All a plane in vector form needs is a point and normal vector\n",
    "\n",
    "$$\\vec{n} \\cdot (P_0 - \\langle x, y, z \\rangle) = 0$$"
   ]
  },
  {
   "cell_type": "code",
   "execution_count": 17,
   "metadata": {},
   "outputs": [
    {
     "data": {
      "text/latex": [
       "$\\displaystyle - 2 x - 3 y - z + 12$"
      ],
      "text/plain": [
       "-2*x - 3*y - z + 12"
      ]
     },
     "execution_count": 17,
     "metadata": {},
     "output_type": "execute_result"
    }
   ],
   "source": [
    "n = smp.Matrix([2, 3, 1])\n",
    "r0 = smp.Matrix([x, y, z])\n",
    "P0 = smp.Matrix([2, 2, 2])\n",
    "n.dot(P0 - r0)"
   ]
  },
  {
   "cell_type": "markdown",
   "metadata": {},
   "source": [
    "__Example__ Find vector parallel to the line of intersection of the two planes $3x-6y-2z=15$ and $2x+y-2z=5$. (It's going to be perpendicular to both normal vectors)."
   ]
  },
  {
   "cell_type": "code",
   "execution_count": 18,
   "metadata": {},
   "outputs": [
    {
     "data": {
      "text/latex": [
       "$\\displaystyle \\left[\\begin{matrix}14\\\\2\\\\15\\end{matrix}\\right]$"
      ],
      "text/plain": [
       "Matrix([\n",
       "[14],\n",
       "[ 2],\n",
       "[15]])"
      ]
     },
     "execution_count": 18,
     "metadata": {},
     "output_type": "execute_result"
    }
   ],
   "source": [
    "n1 = smp.Matrix([3, -6, -2])\n",
    "n2 = smp.Matrix([2, 1, -2])\n",
    "n1.cross(n2)"
   ]
  },
  {
   "cell_type": "markdown",
   "metadata": {},
   "source": [
    "# Vector Calculus\n",
    "## Vector Derivatives"
   ]
  },
  {
   "cell_type": "code",
   "execution_count": 19,
   "metadata": {},
   "outputs": [
    {
     "data": {
      "text/latex": [
       "$\\displaystyle \\left[\\begin{matrix}3 t\\\\\\sin{\\left(t \\right)}\\\\t^{2}\\end{matrix}\\right]$"
      ],
      "text/plain": [
       "Matrix([\n",
       "[   3*t],\n",
       "[sin(t)],\n",
       "[  t**2]])"
      ]
     },
     "execution_count": 19,
     "metadata": {},
     "output_type": "execute_result"
    }
   ],
   "source": [
    "r = smp.Matrix([3*t, smp.sin(t), t**2])\n",
    "r"
   ]
  },
  {
   "cell_type": "code",
   "execution_count": 20,
   "metadata": {},
   "outputs": [
    {
     "data": {
      "text/latex": [
       "$\\displaystyle \\left[\\begin{matrix}3\\\\\\cos{\\left(t \\right)}\\\\2 t\\end{matrix}\\right]$"
      ],
      "text/plain": [
       "Matrix([\n",
       "[     3],\n",
       "[cos(t)],\n",
       "[   2*t]])"
      ]
     },
     "execution_count": 20,
     "metadata": {},
     "output_type": "execute_result"
    }
   ],
   "source": [
    "smp.diff(r, t)"
   ]
  },
  {
   "cell_type": "markdown",
   "metadata": {},
   "source": [
    "__Example__: Find the angle between the velocity and acceleration as a function of time $\\theta(t)$"
   ]
  },
  {
   "cell_type": "code",
   "execution_count": 21,
   "metadata": {},
   "outputs": [],
   "source": [
    "v = smp.Matrix([5, 10*t, 10])\n",
    "a = smp.Matrix([0, 10, 0])"
   ]
  },
  {
   "cell_type": "markdown",
   "metadata": {},
   "source": [
    "We know, \n",
    "$$\\theta = cos^{-1}\\bigg(\\frac{\\vec{v} \\cdot \\vec{a}}{|\\vec{v}||\\vec{a}|}\\bigg)$$"
   ]
  },
  {
   "cell_type": "code",
   "execution_count": 22,
   "metadata": {},
   "outputs": [
    {
     "data": {
      "text/latex": [
       "$\\displaystyle \\operatorname{acos}{\\left(\\frac{10 t}{\\sqrt{100 \\left|{t}\\right|^{2} + 125}} \\right)}$"
      ],
      "text/plain": [
       "acos(10*t/sqrt(100*Abs(t)**2 + 125))"
      ]
     },
     "execution_count": 22,
     "metadata": {},
     "output_type": "execute_result"
    }
   ],
   "source": [
    "cos_of_theta = v.dot(a)/(v.norm()*a.norm())\n",
    "theta = smp.acos(cos_of_theta)\n",
    "theta"
   ]
  },
  {
   "cell_type": "markdown",
   "metadata": {},
   "source": [
    "## Vector Integrals"
   ]
  },
  {
   "cell_type": "markdown",
   "metadata": {},
   "source": [
    "__NOTE__: Will not add the +C"
   ]
  },
  {
   "cell_type": "code",
   "execution_count": 23,
   "metadata": {},
   "outputs": [
    {
     "data": {
      "text/latex": [
       "$\\displaystyle \\left[\\begin{matrix}e^{t} \\cos{\\left(t \\right)}\\\\t^{4}\\\\\\frac{1}{t^{2} + 1}\\end{matrix}\\right]$"
      ],
      "text/plain": [
       "Matrix([\n",
       "[exp(t)*cos(t)],\n",
       "[         t**4],\n",
       "[ 1/(t**2 + 1)]])"
      ]
     },
     "execution_count": 23,
     "metadata": {},
     "output_type": "execute_result"
    }
   ],
   "source": [
    "r = smp.Matrix([smp.exp(t)*smp.cos(t), t**4, 1/(1+t**2)])\n",
    "r"
   ]
  },
  {
   "cell_type": "code",
   "execution_count": 24,
   "metadata": {},
   "outputs": [
    {
     "data": {
      "text/latex": [
       "$\\displaystyle \\left[\\begin{matrix}\\frac{e^{t} \\sin{\\left(t \\right)}}{2} + \\frac{e^{t} \\cos{\\left(t \\right)}}{2}\\\\\\frac{t^{5}}{5}\\\\\\operatorname{atan}{\\left(t \\right)}\\end{matrix}\\right]$"
      ],
      "text/plain": [
       "Matrix([\n",
       "[exp(t)*sin(t)/2 + exp(t)*cos(t)/2],\n",
       "[                           t**5/5],\n",
       "[                          atan(t)]])"
      ]
     },
     "execution_count": 24,
     "metadata": {},
     "output_type": "execute_result"
    }
   ],
   "source": [
    "smp.Integral(r).doit()"
   ]
  },
  {
   "cell_type": "markdown",
   "metadata": {},
   "source": [
    "In some cases integral cannot be solved symbolically: must solve definite integrals numerically."
   ]
  },
  {
   "cell_type": "code",
   "execution_count": 25,
   "metadata": {},
   "outputs": [
    {
     "data": {
      "text/latex": [
       "$\\displaystyle \\left[\\begin{matrix}e^{t^{2}} \\cos^{3}{\\left(t \\right)}\\\\e^{- t^{4}}\\\\\\frac{1}{t^{2} + 3}\\end{matrix}\\right]$"
      ],
      "text/plain": [
       "Matrix([\n",
       "[exp(t**2)*cos(t)**3],\n",
       "[         exp(-t**4)],\n",
       "[       1/(t**2 + 3)]])"
      ]
     },
     "execution_count": 25,
     "metadata": {},
     "output_type": "execute_result"
    }
   ],
   "source": [
    "r = smp.Matrix([smp.exp(t**2)*smp.cos(t)**3, smp.exp(-t**4), 1/(3+t**2)])\n",
    "r"
   ]
  },
  {
   "cell_type": "markdown",
   "metadata": {},
   "source": [
    "Integrate from $t=0$ to $t=4$"
   ]
  },
  {
   "cell_type": "code",
   "execution_count": 26,
   "metadata": {},
   "outputs": [
    {
     "data": {
      "text/plain": [
       "array([[-4.83559254e+05],\n",
       "       [ 9.06402477e-01],\n",
       "       [ 6.70972506e-01]])"
      ]
     },
     "execution_count": 26,
     "metadata": {},
     "output_type": "execute_result"
    }
   ],
   "source": [
    "r_num = smp.lambdify([t], r)\n",
    "quad_vec(r_num, 0, 4)[0]"
   ]
  },
  {
   "cell_type": "markdown",
   "metadata": {},
   "source": [
    "## Arclength\n",
    "$$L = \\int_a^b \\sqrt{dx^2 + dy^2 + dz^2} = \\int_a^b \\sqrt{(dx/dt)^2 + (dy/dt)^2 + (dz/dt)^2}dt$$"
   ]
  },
  {
   "cell_type": "markdown",
   "metadata": {},
   "source": [
    "Rare Cases can be done symbolically, Find arclength of $\\langle 0, t, t^2 \\rangle$ from $t=0$ to $t=1$"
   ]
  },
  {
   "cell_type": "code",
   "execution_count": 27,
   "metadata": {},
   "outputs": [
    {
     "data": {
      "text/latex": [
       "$\\displaystyle \\frac{\\operatorname{asinh}{\\left(2 \\right)}}{4} + \\frac{\\sqrt{5}}{2}$"
      ],
      "text/plain": [
       "asinh(2)/4 + sqrt(5)/2"
      ]
     },
     "execution_count": 27,
     "metadata": {},
     "output_type": "execute_result"
    }
   ],
   "source": [
    "r = smp.Matrix([0, t, t**2])\n",
    "r_d = smp.diff(r, t).norm()\n",
    "smp.integrate(r_d, (t, 0, 1))"
   ]
  },
  {
   "cell_type": "code",
   "execution_count": 28,
   "metadata": {},
   "outputs": [
    {
     "data": {
      "text/plain": [
       "1.4789428575445973"
      ]
     },
     "execution_count": 28,
     "metadata": {},
     "output_type": "execute_result"
    }
   ],
   "source": [
    "r_num = smp.lambdify([t], r_d)\n",
    "quad(r_num, 0, 1)[0]"
   ]
  },
  {
   "cell_type": "markdown",
   "metadata": {},
   "source": [
    "In most cases needs to be done numerically. Find arclength of $\\langle e^t, sin(t), t^4 \\rangle$ from $t=0$ to $t=1$"
   ]
  },
  {
   "cell_type": "code",
   "execution_count": 29,
   "metadata": {},
   "outputs": [],
   "source": [
    "r = smp.Matrix([smp.exp(t), smp.sin(t), t**4])\n",
    "r_d = smp.diff(r, t).norm()"
   ]
  },
  {
   "cell_type": "code",
   "execution_count": 30,
   "metadata": {},
   "outputs": [
    {
     "data": {
      "text/plain": [
       "2.316977146444862"
      ]
     },
     "execution_count": 30,
     "metadata": {},
     "output_type": "execute_result"
    }
   ],
   "source": [
    "r_num = smp.lambdify([t], r_d)\n",
    "quad(r_num, 0, 1)[0]"
   ]
  },
  {
   "cell_type": "markdown",
   "metadata": {},
   "source": [
    "## Other Ralavent Quantities\n",
    "If $ds = \\sqrt{dx^2 + dy^2 + dz^2}$ is the arclength element \\\n",
    "$ds/dt = \\sqrt{(dx/dt)^2 + (dy/dt)^2 + (dz/dt)^2} = | d\\vec{r}/dt| = |\\vec{v}|$ then the other quantities of importance are"
   ]
  },
  {
   "cell_type": "markdown",
   "metadata": {},
   "source": [
    "- Unit Tangent vector: $\\vec{T} = \\frac{d\\vec{r}}{dt} \\frac{1}{|d\\vec{r}/dt|} = \\vec{v}/|\\vec{v}|$\n",
    "- Curvature: $\\kappa = |\\frac{d\\vec{T}}{dt}|\\frac{1}{|\\vec{v}|}$\n",
    "- Unit normal vector to Curve: $\\vec{N} = \\frac{{d\\vec{T}}/{dt}}{|{d\\vec{T}}/{dt}|}$"
   ]
  },
  {
   "cell_type": "markdown",
   "metadata": {},
   "source": [
    "__Example__ Find all these for $\\vec{r}(t) = \\langle acos(t)e^t, bsin(t), ct \\rangle$"
   ]
  },
  {
   "cell_type": "code",
   "execution_count": 31,
   "metadata": {},
   "outputs": [],
   "source": [
    "t, t1, t2, a, b, c = smp.symbols('t t1 t2 a b c', pos=True, real=True)"
   ]
  },
  {
   "cell_type": "code",
   "execution_count": 32,
   "metadata": {},
   "outputs": [
    {
     "data": {
      "text/latex": [
       "$\\displaystyle \\left[\\begin{matrix}a e^{t} \\cos{\\left(t \\right)}\\\\b \\sin{\\left(t \\right)}\\\\c t\\end{matrix}\\right]$"
      ],
      "text/plain": [
       "Matrix([\n",
       "[a*exp(t)*cos(t)],\n",
       "[       b*sin(t)],\n",
       "[            c*t]])"
      ]
     },
     "execution_count": 32,
     "metadata": {},
     "output_type": "execute_result"
    }
   ],
   "source": [
    "r = smp.Matrix([a*smp.cos(t)*smp.exp(t), b*smp.sin(t), c*t])\n",
    "r"
   ]
  },
  {
   "cell_type": "markdown",
   "metadata": {},
   "source": [
    "1. To find the arclength"
   ]
  },
  {
   "cell_type": "code",
   "execution_count": 33,
   "metadata": {},
   "outputs": [
    {
     "data": {
      "text/latex": [
       "$\\displaystyle \\int\\limits_{t_{1}}^{t_{2}} \\sqrt{b^{2} \\cos^{2}{\\left(t \\right)} + c^{2} + \\left(a e^{t} \\sin{\\left(t \\right)} - a e^{t} \\cos{\\left(t \\right)}\\right)^{2}}\\, dt$"
      ],
      "text/plain": [
       "Integral(sqrt(b**2*cos(t)**2 + c**2 + (a*exp(t)*sin(t) - a*exp(t)*cos(t))**2), (t, t1, t2))"
      ]
     },
     "execution_count": 33,
     "metadata": {},
     "output_type": "execute_result"
    }
   ],
   "source": [
    "smp.integrate(smp.diff(r, t).norm(), (t, t1, t2)) # s as a function of time"
   ]
  },
  {
   "cell_type": "markdown",
   "metadata": {},
   "source": [
    "2. To find tangent vector"
   ]
  },
  {
   "cell_type": "code",
   "execution_count": 34,
   "metadata": {},
   "outputs": [
    {
     "data": {
      "text/latex": [
       "$\\displaystyle \\left[\\begin{matrix}\\frac{- a e^{t} \\sin{\\left(t \\right)} + a e^{t} \\cos{\\left(t \\right)}}{\\sqrt{b^{2} \\cos^{2}{\\left(t \\right)} + c^{2} + \\left(a e^{t} \\sin{\\left(t \\right)} - a e^{t} \\cos{\\left(t \\right)}\\right)^{2}}}\\\\\\frac{b \\cos{\\left(t \\right)}}{\\sqrt{b^{2} \\cos^{2}{\\left(t \\right)} + c^{2} + \\left(a e^{t} \\sin{\\left(t \\right)} - a e^{t} \\cos{\\left(t \\right)}\\right)^{2}}}\\\\\\frac{c}{\\sqrt{b^{2} \\cos^{2}{\\left(t \\right)} + c^{2} + \\left(a e^{t} \\sin{\\left(t \\right)} - a e^{t} \\cos{\\left(t \\right)}\\right)^{2}}}\\end{matrix}\\right]$"
      ],
      "text/plain": [
       "Matrix([\n",
       "[(-a*exp(t)*sin(t) + a*exp(t)*cos(t))/sqrt(b**2*cos(t)**2 + c**2 + (a*exp(t)*sin(t) - a*exp(t)*cos(t))**2)],\n",
       "[                            b*cos(t)/sqrt(b**2*cos(t)**2 + c**2 + (a*exp(t)*sin(t) - a*exp(t)*cos(t))**2)],\n",
       "[                                   c/sqrt(b**2*cos(t)**2 + c**2 + (a*exp(t)*sin(t) - a*exp(t)*cos(t))**2)]])"
      ]
     },
     "execution_count": 34,
     "metadata": {},
     "output_type": "execute_result"
    }
   ],
   "source": [
    "smp.diff(r, t)/smp.diff(r, t).norm()"
   ]
  },
  {
   "cell_type": "markdown",
   "metadata": {},
   "source": [
    "3. To find the curvature\n",
    "$$\\kappa = \\frac{a}{v^2}$$\n",
    "and, we know, $\\vec{T} = \\vec{v}/|\\vec{v}|$\n",
    "hence we can say\n",
    "$$\\frac{d\\vec{T}}{dt} = \\frac{\\vec{a}}{|\\vec{v}|}$$\n",
    "OR,\n",
    "$$\\bigg|\\frac{d\\vec{T}}{dt}\\bigg| = \\frac{{a}}{|\\vec{v}|}$$\n",
    "Hence finally,\n",
    "$$\\kappa = \\bigg|\\frac{d\\vec{T}}{dt}\\bigg| \\frac{1}{|\\vec{v}|}$$"
   ]
  },
  {
   "cell_type": "code",
   "execution_count": 35,
   "metadata": {},
   "outputs": [],
   "source": [
    "T = (smp.diff(r, t)/smp.diff(r, t).norm())\n",
    "dTdt = smp.diff(T, t)\n",
    "dTdt_mag = dTdt.norm()\n",
    "v_mag = smp.diff(r, t).norm()"
   ]
  },
  {
   "cell_type": "code",
   "execution_count": 36,
   "metadata": {},
   "outputs": [
    {
     "data": {
      "text/latex": [
       "$\\displaystyle \\frac{\\sqrt{\\frac{c^{2} \\left(2 a \\left(a e^{t} \\sin{\\left(t \\right)} - a e^{t} \\cos{\\left(t \\right)}\\right) e^{t} \\sin{\\left(t \\right)} - b^{2} \\sin{\\left(t \\right)} \\cos{\\left(t \\right)}\\right)^{2}}{\\left(b^{2} \\cos^{2}{\\left(t \\right)} + c^{2} + \\left(a e^{t} \\sin{\\left(t \\right)} - a e^{t} \\cos{\\left(t \\right)}\\right)^{2}\\right)^{3}} + \\left|{\\frac{2 a e^{t} \\sin{\\left(t \\right)}}{\\sqrt{b^{2} \\cos^{2}{\\left(t \\right)} + c^{2} + \\left(a e^{t} \\sin{\\left(t \\right)} - a e^{t} \\cos{\\left(t \\right)}\\right)^{2}}} - \\frac{\\left(a e^{t} \\sin{\\left(t \\right)} - a e^{t} \\cos{\\left(t \\right)}\\right) \\left(2 a \\left(a e^{t} \\sin{\\left(t \\right)} - a e^{t} \\cos{\\left(t \\right)}\\right) e^{t} \\sin{\\left(t \\right)} - b^{2} \\sin{\\left(t \\right)} \\cos{\\left(t \\right)}\\right)}{\\left(b^{2} \\cos^{2}{\\left(t \\right)} + c^{2} + \\left(a e^{t} \\sin{\\left(t \\right)} - a e^{t} \\cos{\\left(t \\right)}\\right)^{2}\\right)^{\\frac{3}{2}}}}\\right|^{2} + \\left|{\\frac{b \\left(2 a \\left(a e^{t} \\sin{\\left(t \\right)} - a e^{t} \\cos{\\left(t \\right)}\\right) e^{t} \\sin{\\left(t \\right)} - b^{2} \\sin{\\left(t \\right)} \\cos{\\left(t \\right)}\\right) \\cos{\\left(t \\right)}}{\\left(b^{2} \\cos^{2}{\\left(t \\right)} + c^{2} + \\left(a e^{t} \\sin{\\left(t \\right)} - a e^{t} \\cos{\\left(t \\right)}\\right)^{2}\\right)^{\\frac{3}{2}}} + \\frac{b \\sin{\\left(t \\right)}}{\\sqrt{b^{2} \\cos^{2}{\\left(t \\right)} + c^{2} + \\left(a e^{t} \\sin{\\left(t \\right)} - a e^{t} \\cos{\\left(t \\right)}\\right)^{2}}}}\\right|^{2}}}{\\sqrt{b^{2} \\cos^{2}{\\left(t \\right)} + c^{2} + \\left(a e^{t} \\sin{\\left(t \\right)} - a e^{t} \\cos{\\left(t \\right)}\\right)^{2}}}$"
      ],
      "text/plain": [
       "sqrt(c**2*(2*a*(a*exp(t)*sin(t) - a*exp(t)*cos(t))*exp(t)*sin(t) - b**2*sin(t)*cos(t))**2/(b**2*cos(t)**2 + c**2 + (a*exp(t)*sin(t) - a*exp(t)*cos(t))**2)**3 + Abs(2*a*exp(t)*sin(t)/sqrt(b**2*cos(t)**2 + c**2 + (a*exp(t)*sin(t) - a*exp(t)*cos(t))**2) - (a*exp(t)*sin(t) - a*exp(t)*cos(t))*(2*a*(a*exp(t)*sin(t) - a*exp(t)*cos(t))*exp(t)*sin(t) - b**2*sin(t)*cos(t))/(b**2*cos(t)**2 + c**2 + (a*exp(t)*sin(t) - a*exp(t)*cos(t))**2)**(3/2))**2 + Abs(b*(2*a*(a*exp(t)*sin(t) - a*exp(t)*cos(t))*exp(t)*sin(t) - b**2*sin(t)*cos(t))*cos(t)/(b**2*cos(t)**2 + c**2 + (a*exp(t)*sin(t) - a*exp(t)*cos(t))**2)**(3/2) + b*sin(t)/sqrt(b**2*cos(t)**2 + c**2 + (a*exp(t)*sin(t) - a*exp(t)*cos(t))**2))**2)/sqrt(b**2*cos(t)**2 + c**2 + (a*exp(t)*sin(t) - a*exp(t)*cos(t))**2)"
      ]
     },
     "execution_count": 36,
     "metadata": {},
     "output_type": "execute_result"
    }
   ],
   "source": [
    "\n",
    "kappa = dTdt_mag/v_mag\n",
    "dTdt_mag/v_mag\n"
   ]
  },
  {
   "cell_type": "code",
   "execution_count": 37,
   "metadata": {},
   "outputs": [
    {
     "data": {
      "text/latex": [
       "$\\displaystyle 0.00775458595406284$"
      ],
      "text/plain": [
       "0.00775458595406284"
      ]
     },
     "execution_count": 37,
     "metadata": {},
     "output_type": "execute_result"
    }
   ],
   "source": [
    "kappa.subs([(t,2),(a,3),(b,4),(c,5)]).evalf()"
   ]
  },
  {
   "cell_type": "markdown",
   "metadata": {},
   "source": [
    "Making continuous plot"
   ]
  },
  {
   "cell_type": "code",
   "execution_count": 38,
   "metadata": {},
   "outputs": [],
   "source": [
    "kappa_num = smp.lambdify([t,a,b,c], kappa)"
   ]
  },
  {
   "cell_type": "code",
   "execution_count": 39,
   "metadata": {},
   "outputs": [
    {
     "data": {
      "image/png": "[encoded data removed]",
      "text/plain": [
       "<Figure size 640x480 with 1 Axes>"
      ]
     },
     "metadata": {},
     "output_type": "display_data"
    }
   ],
   "source": [
    "tt = np.linspace(0, 2, 100)\n",
    "kk = kappa_num(tt, 1, 2, 3)\n",
    "plt.plot(tt, kk)\n",
    "plt.xlabel('$t$', fontsize=20)\n",
    "plt.ylabel('$\\kappa(t)$', fontsize=20)\n",
    "plt.show()"
   ]
  },
  {
   "cell_type": "markdown",
   "metadata": {},
   "source": [
    "4. To find the normal vector"
   ]
  },
  {
   "cell_type": "code",
   "execution_count": 40,
   "metadata": {},
   "outputs": [],
   "source": [
    "N = dTdt/dTdt_mag"
   ]
  },
  {
   "cell_type": "code",
   "execution_count": 41,
   "metadata": {},
   "outputs": [
    {
     "data": {
      "text/latex": [
       "$\\displaystyle \\left[\\begin{matrix}\\frac{- \\frac{2 a e^{t} \\sin{\\left(t \\right)}}{\\sqrt{b^{2} \\cos^{2}{\\left(t \\right)} + c^{2} + \\left(a e^{t} \\sin{\\left(t \\right)} - a e^{t} \\cos{\\left(t \\right)}\\right)^{2}}} + \\frac{\\left(- a e^{t} \\sin{\\left(t \\right)} + a e^{t} \\cos{\\left(t \\right)}\\right) \\left(- 2 a \\left(a e^{t} \\sin{\\left(t \\right)} - a e^{t} \\cos{\\left(t \\right)}\\right) e^{t} \\sin{\\left(t \\right)} + b^{2} \\sin{\\left(t \\right)} \\cos{\\left(t \\right)}\\right)}{\\left(b^{2} \\cos^{2}{\\left(t \\right)} + c^{2} + \\left(a e^{t} \\sin{\\left(t \\right)} - a e^{t} \\cos{\\left(t \\right)}\\right)^{2}\\right)^{\\frac{3}{2}}}}{\\sqrt{\\frac{c^{2} \\left(2 a \\left(a e^{t} \\sin{\\left(t \\right)} - a e^{t} \\cos{\\left(t \\right)}\\right) e^{t} \\sin{\\left(t \\right)} - b^{2} \\sin{\\left(t \\right)} \\cos{\\left(t \\right)}\\right)^{2}}{\\left(b^{2} \\cos^{2}{\\left(t \\right)} + c^{2} + \\left(a e^{t} \\sin{\\left(t \\right)} - a e^{t} \\cos{\\left(t \\right)}\\right)^{2}\\right)^{3}} + \\left|{\\frac{2 a e^{t} \\sin{\\left(t \\right)}}{\\sqrt{b^{2} \\cos^{2}{\\left(t \\right)} + c^{2} + \\left(a e^{t} \\sin{\\left(t \\right)} - a e^{t} \\cos{\\left(t \\right)}\\right)^{2}}} - \\frac{\\left(a e^{t} \\sin{\\left(t \\right)} - a e^{t} \\cos{\\left(t \\right)}\\right) \\left(2 a \\left(a e^{t} \\sin{\\left(t \\right)} - a e^{t} \\cos{\\left(t \\right)}\\right) e^{t} \\sin{\\left(t \\right)} - b^{2} \\sin{\\left(t \\right)} \\cos{\\left(t \\right)}\\right)}{\\left(b^{2} \\cos^{2}{\\left(t \\right)} + c^{2} + \\left(a e^{t} \\sin{\\left(t \\right)} - a e^{t} \\cos{\\left(t \\right)}\\right)^{2}\\right)^{\\frac{3}{2}}}}\\right|^{2} + \\left|{\\frac{b \\left(2 a \\left(a e^{t} \\sin{\\left(t \\right)} - a e^{t} \\cos{\\left(t \\right)}\\right) e^{t} \\sin{\\left(t \\right)} - b^{2} \\sin{\\left(t \\right)} \\cos{\\left(t \\right)}\\right) \\cos{\\left(t \\right)}}{\\left(b^{2} \\cos^{2}{\\left(t \\right)} + c^{2} + \\left(a e^{t} \\sin{\\left(t \\right)} - a e^{t} \\cos{\\left(t \\right)}\\right)^{2}\\right)^{\\frac{3}{2}}} + \\frac{b \\sin{\\left(t \\right)}}{\\sqrt{b^{2} \\cos^{2}{\\left(t \\right)} + c^{2} + \\left(a e^{t} \\sin{\\left(t \\right)} - a e^{t} \\cos{\\left(t \\right)}\\right)^{2}}}}\\right|^{2}}}\\\\\\frac{\\frac{b \\left(- 2 a \\left(a e^{t} \\sin{\\left(t \\right)} - a e^{t} \\cos{\\left(t \\right)}\\right) e^{t} \\sin{\\left(t \\right)} + b^{2} \\sin{\\left(t \\right)} \\cos{\\left(t \\right)}\\right) \\cos{\\left(t \\right)}}{\\left(b^{2} \\cos^{2}{\\left(t \\right)} + c^{2} + \\left(a e^{t} \\sin{\\left(t \\right)} - a e^{t} \\cos{\\left(t \\right)}\\right)^{2}\\right)^{\\frac{3}{2}}} - \\frac{b \\sin{\\left(t \\right)}}{\\sqrt{b^{2} \\cos^{2}{\\left(t \\right)} + c^{2} + \\left(a e^{t} \\sin{\\left(t \\right)} - a e^{t} \\cos{\\left(t \\right)}\\right)^{2}}}}{\\sqrt{\\frac{c^{2} \\left(2 a \\left(a e^{t} \\sin{\\left(t \\right)} - a e^{t} \\cos{\\left(t \\right)}\\right) e^{t} \\sin{\\left(t \\right)} - b^{2} \\sin{\\left(t \\right)} \\cos{\\left(t \\right)}\\right)^{2}}{\\left(b^{2} \\cos^{2}{\\left(t \\right)} + c^{2} + \\left(a e^{t} \\sin{\\left(t \\right)} - a e^{t} \\cos{\\left(t \\right)}\\right)^{2}\\right)^{3}} + \\left|{\\frac{2 a e^{t} \\sin{\\left(t \\right)}}{\\sqrt{b^{2} \\cos^{2}{\\left(t \\right)} + c^{2} + \\left(a e^{t} \\sin{\\left(t \\right)} - a e^{t} \\cos{\\left(t \\right)}\\right)^{2}}} - \\frac{\\left(a e^{t} \\sin{\\left(t \\right)} - a e^{t} \\cos{\\left(t \\right)}\\right) \\left(2 a \\left(a e^{t} \\sin{\\left(t \\right)} - a e^{t} \\cos{\\left(t \\right)}\\right) e^{t} \\sin{\\left(t \\right)} - b^{2} \\sin{\\left(t \\right)} \\cos{\\left(t \\right)}\\right)}{\\left(b^{2} \\cos^{2}{\\left(t \\right)} + c^{2} + \\left(a e^{t} \\sin{\\left(t \\right)} - a e^{t} \\cos{\\left(t \\right)}\\right)^{2}\\right)^{\\frac{3}{2}}}}\\right|^{2} + \\left|{\\frac{b \\left(2 a \\left(a e^{t} \\sin{\\left(t \\right)} - a e^{t} \\cos{\\left(t \\right)}\\right) e^{t} \\sin{\\left(t \\right)} - b^{2} \\sin{\\left(t \\right)} \\cos{\\left(t \\right)}\\right) \\cos{\\left(t \\right)}}{\\left(b^{2} \\cos^{2}{\\left(t \\right)} + c^{2} + \\left(a e^{t} \\sin{\\left(t \\right)} - a e^{t} \\cos{\\left(t \\right)}\\right)^{2}\\right)^{\\frac{3}{2}}} + \\frac{b \\sin{\\left(t \\right)}}{\\sqrt{b^{2} \\cos^{2}{\\left(t \\right)} + c^{2} + \\left(a e^{t} \\sin{\\left(t \\right)} - a e^{t} \\cos{\\left(t \\right)}\\right)^{2}}}}\\right|^{2}}}\\\\\\frac{c \\left(- 2 a \\left(a e^{t} \\sin{\\left(t \\right)} - a e^{t} \\cos{\\left(t \\right)}\\right) e^{t} \\sin{\\left(t \\right)} + b^{2} \\sin{\\left(t \\right)} \\cos{\\left(t \\right)}\\right)}{\\left(b^{2} \\cos^{2}{\\left(t \\right)} + c^{2} + \\left(a e^{t} \\sin{\\left(t \\right)} - a e^{t} \\cos{\\left(t \\right)}\\right)^{2}\\right)^{\\frac{3}{2}} \\sqrt{\\frac{c^{2} \\left(2 a \\left(a e^{t} \\sin{\\left(t \\right)} - a e^{t} \\cos{\\left(t \\right)}\\right) e^{t} \\sin{\\left(t \\right)} - b^{2} \\sin{\\left(t \\right)} \\cos{\\left(t \\right)}\\right)^{2}}{\\left(b^{2} \\cos^{2}{\\left(t \\right)} + c^{2} + \\left(a e^{t} \\sin{\\left(t \\right)} - a e^{t} \\cos{\\left(t \\right)}\\right)^{2}\\right)^{3}} + \\left|{\\frac{2 a e^{t} \\sin{\\left(t \\right)}}{\\sqrt{b^{2} \\cos^{2}{\\left(t \\right)} + c^{2} + \\left(a e^{t} \\sin{\\left(t \\right)} - a e^{t} \\cos{\\left(t \\right)}\\right)^{2}}} - \\frac{\\left(a e^{t} \\sin{\\left(t \\right)} - a e^{t} \\cos{\\left(t \\right)}\\right) \\left(2 a \\left(a e^{t} \\sin{\\left(t \\right)} - a e^{t} \\cos{\\left(t \\right)}\\right) e^{t} \\sin{\\left(t \\right)} - b^{2} \\sin{\\left(t \\right)} \\cos{\\left(t \\right)}\\right)}{\\left(b^{2} \\cos^{2}{\\left(t \\right)} + c^{2} + \\left(a e^{t} \\sin{\\left(t \\right)} - a e^{t} \\cos{\\left(t \\right)}\\right)^{2}\\right)^{\\frac{3}{2}}}}\\right|^{2} + \\left|{\\frac{b \\left(2 a \\left(a e^{t} \\sin{\\left(t \\right)} - a e^{t} \\cos{\\left(t \\right)}\\right) e^{t} \\sin{\\left(t \\right)} - b^{2} \\sin{\\left(t \\right)} \\cos{\\left(t \\right)}\\right) \\cos{\\left(t \\right)}}{\\left(b^{2} \\cos^{2}{\\left(t \\right)} + c^{2} + \\left(a e^{t} \\sin{\\left(t \\right)} - a e^{t} \\cos{\\left(t \\right)}\\right)^{2}\\right)^{\\frac{3}{2}}} + \\frac{b \\sin{\\left(t \\right)}}{\\sqrt{b^{2} \\cos^{2}{\\left(t \\right)} + c^{2} + \\left(a e^{t} \\sin{\\left(t \\right)} - a e^{t} \\cos{\\left(t \\right)}\\right)^{2}}}}\\right|^{2}}}\\end{matrix}\\right]$"
      ],
      "text/plain": [
       "Matrix([\n",
       "[(-2*a*exp(t)*sin(t)/sqrt(b**2*cos(t)**2 + c**2 + (a*exp(t)*sin(t) - a*exp(t)*cos(t))**2) + (-a*exp(t)*sin(t) + a*exp(t)*cos(t))*(-2*a*(a*exp(t)*sin(t) - a*exp(t)*cos(t))*exp(t)*sin(t) + b**2*sin(t)*cos(t))/(b**2*cos(t)**2 + c**2 + (a*exp(t)*sin(t) - a*exp(t)*cos(t))**2)**(3/2))/sqrt(c**2*(2*a*(a*exp(t)*sin(t) - a*exp(t)*cos(t))*exp(t)*sin(t) - b**2*sin(t)*cos(t))**2/(b**2*cos(t)**2 + c**2 + (a*exp(t)*sin(t) - a*exp(t)*cos(t))**2)**3 + Abs(2*a*exp(t)*sin(t)/sqrt(b**2*cos(t)**2 + c**2 + (a*exp(t)*sin(t) - a*exp(t)*cos(t))**2) - (a*exp(t)*sin(t) - a*exp(t)*cos(t))*(2*a*(a*exp(t)*sin(t) - a*exp(t)*cos(t))*exp(t)*sin(t) - b**2*sin(t)*cos(t))/(b**2*cos(t)**2 + c**2 + (a*exp(t)*sin(t) - a*exp(t)*cos(t))**2)**(3/2))**2 + Abs(b*(2*a*(a*exp(t)*sin(t) - a*exp(t)*cos(t))*exp(t)*sin(t) - b**2*sin(t)*cos(t))*cos(t)/(b**2*cos(t)**2 + c**2 + (a*exp(t)*sin(t) - a*exp(t)*cos(t))**2)**(3/2) + b*sin(t)/sqrt(b**2*cos(t)**2 + c**2 + (a*exp(t)*sin(t) - a*exp(t)*cos(t))**2))**2)],\n",
       "[                                      (b*(-2*a*(a*exp(t)*sin(t) - a*exp(t)*cos(t))*exp(t)*sin(t) + b**2*sin(t)*cos(t))*cos(t)/(b**2*cos(t)**2 + c**2 + (a*exp(t)*sin(t) - a*exp(t)*cos(t))**2)**(3/2) - b*sin(t)/sqrt(b**2*cos(t)**2 + c**2 + (a*exp(t)*sin(t) - a*exp(t)*cos(t))**2))/sqrt(c**2*(2*a*(a*exp(t)*sin(t) - a*exp(t)*cos(t))*exp(t)*sin(t) - b**2*sin(t)*cos(t))**2/(b**2*cos(t)**2 + c**2 + (a*exp(t)*sin(t) - a*exp(t)*cos(t))**2)**3 + Abs(2*a*exp(t)*sin(t)/sqrt(b**2*cos(t)**2 + c**2 + (a*exp(t)*sin(t) - a*exp(t)*cos(t))**2) - (a*exp(t)*sin(t) - a*exp(t)*cos(t))*(2*a*(a*exp(t)*sin(t) - a*exp(t)*cos(t))*exp(t)*sin(t) - b**2*sin(t)*cos(t))/(b**2*cos(t)**2 + c**2 + (a*exp(t)*sin(t) - a*exp(t)*cos(t))**2)**(3/2))**2 + Abs(b*(2*a*(a*exp(t)*sin(t) - a*exp(t)*cos(t))*exp(t)*sin(t) - b**2*sin(t)*cos(t))*cos(t)/(b**2*cos(t)**2 + c**2 + (a*exp(t)*sin(t) - a*exp(t)*cos(t))**2)**(3/2) + b*sin(t)/sqrt(b**2*cos(t)**2 + c**2 + (a*exp(t)*sin(t) - a*exp(t)*cos(t))**2))**2)],\n",
       "[                                                                                                                             c*(-2*a*(a*exp(t)*sin(t) - a*exp(t)*cos(t))*exp(t)*sin(t) + b**2*sin(t)*cos(t))/((b**2*cos(t)**2 + c**2 + (a*exp(t)*sin(t) - a*exp(t)*cos(t))**2)**(3/2)*sqrt(c**2*(2*a*(a*exp(t)*sin(t) - a*exp(t)*cos(t))*exp(t)*sin(t) - b**2*sin(t)*cos(t))**2/(b**2*cos(t)**2 + c**2 + (a*exp(t)*sin(t) - a*exp(t)*cos(t))**2)**3 + Abs(2*a*exp(t)*sin(t)/sqrt(b**2*cos(t)**2 + c**2 + (a*exp(t)*sin(t) - a*exp(t)*cos(t))**2) - (a*exp(t)*sin(t) - a*exp(t)*cos(t))*(2*a*(a*exp(t)*sin(t) - a*exp(t)*cos(t))*exp(t)*sin(t) - b**2*sin(t)*cos(t))/(b**2*cos(t)**2 + c**2 + (a*exp(t)*sin(t) - a*exp(t)*cos(t))**2)**(3/2))**2 + Abs(b*(2*a*(a*exp(t)*sin(t) - a*exp(t)*cos(t))*exp(t)*sin(t) - b**2*sin(t)*cos(t))*cos(t)/(b**2*cos(t)**2 + c**2 + (a*exp(t)*sin(t) - a*exp(t)*cos(t))**2)**(3/2) + b*sin(t)/sqrt(b**2*cos(t)**2 + c**2 + (a*exp(t)*sin(t) - a*exp(t)*cos(t))**2))**2))]])"
      ]
     },
     "execution_count": 41,
     "metadata": {},
     "output_type": "execute_result"
    }
   ],
   "source": [
    "N"
   ]
  },
  {
   "cell_type": "code",
   "execution_count": 42,
   "metadata": {},
   "outputs": [
    {
     "data": {
      "text/latex": [
       "$\\displaystyle \\left[\\begin{matrix}-0.152946073876551\\\\-0.204518432770271\\\\-0.966840063890063\\end{matrix}\\right]$"
      ],
      "text/plain": [
       "Matrix([\n",
       "[-0.152946073876551],\n",
       "[-0.204518432770271],\n",
       "[-0.966840063890063]])"
      ]
     },
     "execution_count": 42,
     "metadata": {},
     "output_type": "execute_result"
    }
   ],
   "source": [
    "N.subs([(t,2),(a,3),(b,4),(c,5)]).evalf()"
   ]
  },
  {
   "cell_type": "markdown",
   "metadata": {},
   "source": [
    "# Partial/Direcrional Derivatives"
   ]
  },
  {
   "cell_type": "code",
   "execution_count": 43,
   "metadata": {},
   "outputs": [],
   "source": [
    "x, y, z = smp.symbols('x y z')"
   ]
  },
  {
   "cell_type": "markdown",
   "metadata": {},
   "source": [
    "## Basics"
   ]
  },
  {
   "cell_type": "markdown",
   "metadata": {},
   "source": [
    "Partial Derivatives $\\partial{f}/\\partial{x}$ and $\\partial{f}/\\partial{y}$ of $f(x, y) = y^2sin(x+y)$"
   ]
  },
  {
   "cell_type": "code",
   "execution_count": 44,
   "metadata": {},
   "outputs": [
    {
     "data": {
      "text/latex": [
       "$\\displaystyle y^{2} \\sin{\\left(x + y \\right)}$"
      ],
      "text/plain": [
       "y**2*sin(x + y)"
      ]
     },
     "execution_count": 44,
     "metadata": {},
     "output_type": "execute_result"
    }
   ],
   "source": [
    "f = (y**2)*(smp.sin(x+y))\n",
    "f"
   ]
  },
  {
   "cell_type": "code",
   "execution_count": 45,
   "metadata": {},
   "outputs": [
    {
     "data": {
      "text/latex": [
       "$\\displaystyle y^{2} \\cos{\\left(x + y \\right)}$"
      ],
      "text/plain": [
       "y**2*cos(x + y)"
      ]
     },
     "execution_count": 45,
     "metadata": {},
     "output_type": "execute_result"
    }
   ],
   "source": [
    "smp.diff(f, x)"
   ]
  },
  {
   "cell_type": "code",
   "execution_count": 46,
   "metadata": {},
   "outputs": [
    {
     "data": {
      "text/latex": [
       "$\\displaystyle y^{2} \\cos{\\left(x + y \\right)} + 2 y \\sin{\\left(x + y \\right)}$"
      ],
      "text/plain": [
       "y**2*cos(x + y) + 2*y*sin(x + y)"
      ]
     },
     "execution_count": 46,
     "metadata": {},
     "output_type": "execute_result"
    }
   ],
   "source": [
    "smp.diff(f, y)"
   ]
  },
  {
   "cell_type": "markdown",
   "metadata": {},
   "source": [
    "## The Chain Rule"
   ]
  },
  {
   "cell_type": "code",
   "execution_count": 47,
   "metadata": {},
   "outputs": [],
   "source": [
    "t = smp.symbols('t')\n",
    "x, y, z, w, v =smp.symbols('x, y, z w v', cls=smp.Function)"
   ]
  },
  {
   "cell_type": "markdown",
   "metadata": {},
   "source": [
    "- Suppose $x$, $y$, and $z$ are functions of $t$\n",
    "- $w$ is a function of $x$, $y$, and $z$ i.e. $w$ = $w(x, y, z)$ \n",
    "\n",
    "Find $dw/dt$"
   ]
  },
  {
   "cell_type": "code",
   "execution_count": 48,
   "metadata": {},
   "outputs": [],
   "source": [
    "x = x(t)\n",
    "y = y(t)\n",
    "z = z(t)\n",
    "w = w(x, y, z)"
   ]
  },
  {
   "cell_type": "markdown",
   "metadata": {},
   "source": [
    "Can keep things in a more functional form:"
   ]
  },
  {
   "cell_type": "code",
   "execution_count": 49,
   "metadata": {},
   "outputs": [
    {
     "data": {
      "text/latex": [
       "$\\displaystyle \\frac{d}{d x{\\left(t \\right)}} w{\\left(x{\\left(t \\right)},y{\\left(t \\right)},z{\\left(t \\right)} \\right)} \\frac{d}{d t} x{\\left(t \\right)} + \\frac{d}{d y{\\left(t \\right)}} w{\\left(x{\\left(t \\right)},y{\\left(t \\right)},z{\\left(t \\right)} \\right)} \\frac{d}{d t} y{\\left(t \\right)} + \\frac{d}{d z{\\left(t \\right)}} w{\\left(x{\\left(t \\right)},y{\\left(t \\right)},z{\\left(t \\right)} \\right)} \\frac{d}{d t} z{\\left(t \\right)}$"
      ],
      "text/plain": [
       "Derivative(w(x(t), y(t), z(t)), x(t))*Derivative(x(t), t) + Derivative(w(x(t), y(t), z(t)), y(t))*Derivative(y(t), t) + Derivative(w(x(t), y(t), z(t)), z(t))*Derivative(z(t), t)"
      ]
     },
     "execution_count": 49,
     "metadata": {},
     "output_type": "execute_result"
    }
   ],
   "source": [
    "smp.diff(w,t)"
   ]
  },
  {
   "cell_type": "markdown",
   "metadata": {},
   "source": [
    "\n",
    " \n",
    " \n",
    " \n",
    " \n",
    " \n",
    " \n",
    "Or put in specific functions:"
   ]
  },
  {
   "cell_type": "code",
   "execution_count": 50,
   "metadata": {},
   "outputs": [
    {
     "data": {
      "text/latex": [
       "$\\displaystyle 2 t e^{\\cos{\\left(t \\right)}} \\cos{\\left(t^{2} \\right)} - e^{\\cos{\\left(t \\right)}} \\sin{\\left(t \\right)} \\sin{\\left(t^{2} \\right)} + 2 \\sin{\\left(t \\right)} \\cos{\\left(t \\right)}$"
      ],
      "text/plain": [
       "2*t*exp(cos(t))*cos(t**2) - exp(cos(t))*sin(t)*sin(t**2) + 2*sin(t)*cos(t)"
      ]
     },
     "execution_count": 50,
     "metadata": {},
     "output_type": "execute_result"
    }
   ],
   "source": [
    "w1 = x**2+smp.exp(y)*smp.sin(z)\n",
    "smp.diff(w1,t).subs([(x, smp.sin(t)),\n",
    "                    (y, smp.cos(t)),\n",
    "                    (z, t**2)]).doit()"
   ]
  },
  {
   "cell_type": "markdown",
   "metadata": {},
   "source": [
    "## Gradients\n",
    "Gradients: $\\nabla f$. Now we are dealing with particular coordinate system, so we must be careful."
   ]
  },
  {
   "cell_type": "code",
   "execution_count": 51,
   "metadata": {},
   "outputs": [],
   "source": [
    "C = CoordSys3D('')"
   ]
  },
  {
   "cell_type": "code",
   "execution_count": 52,
   "metadata": {},
   "outputs": [
    {
     "data": {
      "text/latex": [
       "$\\displaystyle \\operatorname{CoordSys3D}\\left(, \\left( \\left[\\begin{matrix}1 & 0 & 0\\\\0 & 1 & 0\\\\0 & 0 & 1\\end{matrix}\\right], \\  \\mathbf{\\hat{0}}\\right)\\right)$"
      ],
      "text/plain": []
     },
     "execution_count": 52,
     "metadata": {},
     "output_type": "execute_result"
    }
   ],
   "source": [
    "C"
   ]
  },
  {
   "cell_type": "code",
   "execution_count": 53,
   "metadata": {},
   "outputs": [
    {
     "data": {
      "text/latex": [
       "$\\displaystyle \\mathbf{{x}_{}} \\sin{\\left(\\mathbf{{y}_{}} \\right)}$"
      ],
      "text/plain": [
       ".x*sin(.y)"
      ]
     },
     "execution_count": 53,
     "metadata": {},
     "output_type": "execute_result"
    }
   ],
   "source": [
    "f = C.x*smp.sin(C.y)\n",
    "f"
   ]
  },
  {
   "cell_type": "code",
   "execution_count": 54,
   "metadata": {},
   "outputs": [
    {
     "data": {
      "text/latex": [
       "$\\displaystyle \\left(\\sin{\\left(\\mathbf{{y}_{}} \\right)}\\right)\\mathbf{\\hat{i}_{}} + \\left(\\mathbf{{x}_{}} \\cos{\\left(\\mathbf{{y}_{}} \\right)}\\right)\\mathbf{\\hat{j}_{}}$"
      ],
      "text/plain": [
       "(sin(.y))*.i + (.x*cos(.y))*.j"
      ]
     },
     "execution_count": 54,
     "metadata": {},
     "output_type": "execute_result"
    }
   ],
   "source": [
    "gradient(f)"
   ]
  },
  {
   "cell_type": "code",
   "execution_count": 55,
   "metadata": {},
   "outputs": [
    {
     "data": {
      "text/latex": [
       "$\\displaystyle \\left[\\begin{matrix}\\sin{\\left(\\mathbf{{y}_{}} \\right)}\\\\\\mathbf{{x}_{}} \\cos{\\left(\\mathbf{{y}_{}} \\right)}\\\\0\\end{matrix}\\right]$"
      ],
      "text/plain": [
       "Matrix([\n",
       "[   sin(.y)],\n",
       "[.x*cos(.y)],\n",
       "[         0]])"
      ]
     },
     "execution_count": 55,
     "metadata": {},
     "output_type": "execute_result"
    }
   ],
   "source": [
    "gradient(f).to_matrix(C)"
   ]
  },
  {
   "cell_type": "code",
   "execution_count": 56,
   "metadata": {},
   "outputs": [
    {
     "data": {
      "text/latex": [
       "$\\displaystyle \\left[\\begin{matrix}\\sin{\\left(1 \\right)}\\\\\\mathbf{{x}_{}} \\cos{\\left(1 \\right)}\\\\0\\end{matrix}\\right]$"
      ],
      "text/plain": [
       "Matrix([\n",
       "[   sin(1)],\n",
       "[.x*cos(1)],\n",
       "[        0]])"
      ]
     },
     "execution_count": 56,
     "metadata": {},
     "output_type": "execute_result"
    }
   ],
   "source": [
    "gradient(f).to_matrix(C).subs([(C.y, 1)])"
   ]
  },
  {
   "cell_type": "markdown",
   "metadata": {},
   "source": [
    "## Directional Derivatives\n",
    "Directional derivatives $D_uf = \\nabla f \\cdot u$"
   ]
  },
  {
   "cell_type": "code",
   "execution_count": 57,
   "metadata": {},
   "outputs": [
    {
     "data": {
      "text/latex": [
       "$\\displaystyle \\left(4\\right)\\mathbf{\\hat{i}_{}} + \\left(-3\\right)\\mathbf{\\hat{j}_{}} + \\left(2\\right)\\mathbf{\\hat{k}_{}}$"
      ],
      "text/plain": [
       "4*.i + (-3)*.j + 2*.k"
      ]
     },
     "execution_count": 57,
     "metadata": {},
     "output_type": "execute_result"
    }
   ],
   "source": [
    "u = 4*C.i - 3*C.j + 2*C.k\n",
    "u"
   ]
  },
  {
   "cell_type": "code",
   "execution_count": 58,
   "metadata": {},
   "outputs": [
    {
     "data": {
      "text/latex": [
       "$\\displaystyle \\left(\\frac{4 \\sqrt{29}}{29}\\right)\\mathbf{\\hat{i}_{}} + \\left(- \\frac{3 \\sqrt{29}}{29}\\right)\\mathbf{\\hat{j}_{}} + \\left(\\frac{2 \\sqrt{29}}{29}\\right)\\mathbf{\\hat{k}_{}}$"
      ],
      "text/plain": [
       "(4*sqrt(29)/29)*.i + (-3*sqrt(29)/29)*.j + (2*sqrt(29)/29)*.k"
      ]
     },
     "execution_count": 58,
     "metadata": {},
     "output_type": "execute_result"
    }
   ],
   "source": [
    "u = u.normalize()\n",
    "u"
   ]
  },
  {
   "cell_type": "code",
   "execution_count": 59,
   "metadata": {},
   "outputs": [
    {
     "data": {
      "text/latex": [
       "$\\displaystyle - \\frac{3 \\sqrt{29} \\mathbf{{x}_{}} \\cos{\\left(\\mathbf{{y}_{}} \\right)}}{29} + \\frac{4 \\sqrt{29} \\sin{\\left(\\mathbf{{y}_{}} \\right)}}{29}$"
      ],
      "text/plain": [
       "-3*sqrt(29)*.x*cos(.y)/29 + 4*sqrt(29)*sin(.y)/29"
      ]
     },
     "execution_count": 59,
     "metadata": {},
     "output_type": "execute_result"
    }
   ],
   "source": [
    "gradient(f).dot(u)"
   ]
  },
  {
   "cell_type": "markdown",
   "metadata": {},
   "source": [
    "## Extreme Values and Saddle Points"
   ]
  },
  {
   "cell_type": "markdown",
   "metadata": {},
   "source": [
    "Extreme values of $f(x, y)$ can occur of $f$\n",
    "- 1.Boundary points of the domain of $f$\n",
    "- 1.Critical Points $(f_x=f_y=0)$ \n",
    "\n",
    "If\n",
    "\n",
    "- (i) $f_{xx} < 0$ and $f_{xx}f_{yy}-f_{xy}^2>0$ at (a, b) then __local maximum__\n",
    "- (ii) $f_{xx} > 0$ and $f_{xx}f_{yy}-f_{xy}^2>0$ at (a, b) then __local minimum__\n",
    "- (iii) $f_{xx}f_{yy}-f_{xy}^2<0$ at (a, b) then __saddle point__\n",
    "- (iv) $f_{xx}f_{yy}-f_{xy}^2=0$ at (a, b) then __inconclusive__"
   ]
  },
  {
   "cell_type": "code",
   "execution_count": 60,
   "metadata": {},
   "outputs": [
    {
     "data": {
      "text/latex": [
       "$\\displaystyle x^{3} + 3 x y + y^{3}$"
      ],
      "text/plain": [
       "x**3 + 3*x*y + y**3"
      ]
     },
     "execution_count": 60,
     "metadata": {},
     "output_type": "execute_result"
    }
   ],
   "source": [
    "x, y = smp.symbols('x y', real=True)\n",
    "f = x**3 + 3*x*y + y**3\n",
    "f"
   ]
  },
  {
   "cell_type": "code",
   "execution_count": 61,
   "metadata": {},
   "outputs": [
    {
     "data": {
      "text/plain": [
       "[{x: -1, y: -1}, {x: 0, y: 0}]"
      ]
     },
     "execution_count": 61,
     "metadata": {},
     "output_type": "execute_result"
    }
   ],
   "source": [
    "smp.solve([smp.diff(f, x), smp.diff(f, y)])"
   ]
  },
  {
   "cell_type": "code",
   "execution_count": 62,
   "metadata": {},
   "outputs": [],
   "source": [
    "fxx = smp.diff(f, x, x)\n",
    "fyy = smp.diff(f, y, y)\n",
    "fxy = smp.diff(f, x, y)"
   ]
  },
  {
   "cell_type": "markdown",
   "metadata": {},
   "source": [
    "Testing the first point"
   ]
  },
  {
   "cell_type": "code",
   "execution_count": 63,
   "metadata": {},
   "outputs": [
    {
     "data": {
      "text/latex": [
       "$\\displaystyle -6$"
      ],
      "text/plain": [
       "-6"
      ]
     },
     "execution_count": 63,
     "metadata": {},
     "output_type": "execute_result"
    }
   ],
   "source": [
    "fxx.subs([(x, -1), (y, -1)])"
   ]
  },
  {
   "cell_type": "code",
   "execution_count": 64,
   "metadata": {},
   "outputs": [
    {
     "data": {
      "text/latex": [
       "$\\displaystyle 36 x y - 9$"
      ],
      "text/plain": [
       "36*x*y - 9"
      ]
     },
     "execution_count": 64,
     "metadata": {},
     "output_type": "execute_result"
    }
   ],
   "source": [
    "test = fxx*fyy - fxy**2\n",
    "test"
   ]
  },
  {
   "cell_type": "code",
   "execution_count": 65,
   "metadata": {},
   "outputs": [
    {
     "data": {
      "text/latex": [
       "$\\displaystyle 27$"
      ],
      "text/plain": [
       "27"
      ]
     },
     "execution_count": 65,
     "metadata": {},
     "output_type": "execute_result"
    }
   ],
   "source": [
    "test.subs([(x, -1), (y, -1)])"
   ]
  },
  {
   "cell_type": "markdown",
   "metadata": {},
   "source": [
    "Thus the first point is a local maximum!"
   ]
  },
  {
   "cell_type": "markdown",
   "metadata": {},
   "source": [
    "## Lagrange Multiplier\n",
    "Extremize $f(x, y, z)$ subject to the constraint $g(x,y,z)=0$\n",
    "- Requires solving the two equations $\\nabla f = \\lambda \\nabla g$ and $g(x, y, z) = 0$\n",
    "\n",
    "__Example__: A space probe has the shape of an ellipsoid $4x^2+y^2+4z^2=16$ and after sitting in the sun for an hour, the temperature on its surface is given by $T(x, y, z) = 8x^2+4yz-16z+600$. Find the hottest point on the surface\n",
    "\n",
    "Note that $g=4x^2+y^2+4z^2-16=0$ and $f=T=8x^2+4yz-16z+600$ here"
   ]
  },
  {
   "cell_type": "code",
   "execution_count": 66,
   "metadata": {},
   "outputs": [],
   "source": [
    "C = CoordSys3D('')"
   ]
  },
  {
   "cell_type": "code",
   "execution_count": 67,
   "metadata": {},
   "outputs": [],
   "source": [
    "lam = smp.symbols('\\lambda')"
   ]
  },
  {
   "cell_type": "code",
   "execution_count": 68,
   "metadata": {},
   "outputs": [
    {
     "data": {
      "text/latex": [
       "$\\displaystyle \\left[\\begin{matrix}- 8 \\mathbf{{x}_{}} \\lambda + 16 \\mathbf{{x}_{}}\\\\- 2 \\mathbf{{y}_{}} \\lambda + 4 \\mathbf{{z}_{}}\\\\4 \\mathbf{{y}_{}} - 8 \\mathbf{{z}_{}} \\lambda - 16\\end{matrix}\\right]$"
      ],
      "text/plain": [
       "Matrix([\n",
       "[   -8*.x*\\lambda + 16*.x],\n",
       "[    -2*.y*\\lambda + 4*.z],\n",
       "[4*.y - 8*.z*\\lambda - 16]])"
      ]
     },
     "execution_count": 68,
     "metadata": {},
     "output_type": "execute_result"
    }
   ],
   "source": [
    "g = 4*C.x**2 + C.y**2 + 4*C.z**2 - 16\n",
    "f = 8*C.x**2 + 4*C.y*C.z-16*C.z+600\n",
    "eq1 = gradient(f) - lam*gradient(g)\n",
    "eq1 = eq1.to_matrix(C)\n",
    "eq2 = g\n",
    "sols = smp.solve([eq1, eq2])\n",
    "sols\n",
    "eq1"
   ]
  },
  {
   "cell_type": "code",
   "execution_count": 69,
   "metadata": {},
   "outputs": [
    {
     "name": "stdout",
     "output_type": "stream",
     "text": [
      "642.666666666667\n",
      "641.569219381653\n",
      "558.430780618347\n",
      "600.000000000000\n",
      "642.666666666667\n"
     ]
    }
   ],
   "source": [
    "for sol in sols:\n",
    "    print(f.subs(sol).evalf())"
   ]
  },
  {
   "cell_type": "markdown",
   "metadata": {},
   "source": [
    "## Multiple Integrals\n",
    "In rare cases these can be done symbolically"
   ]
  },
  {
   "cell_type": "markdown",
   "metadata": {},
   "source": [
    "$$\\int_0^1 \\int_0^{1-x^2} \\int_3^{4-x^2-y^2} x dz dy dx$$"
   ]
  },
  {
   "cell_type": "code",
   "execution_count": 70,
   "metadata": {},
   "outputs": [
    {
     "data": {
      "text/latex": [
       "$\\displaystyle \\frac{1}{8}$"
      ],
      "text/plain": [
       "1/8"
      ]
     },
     "execution_count": 70,
     "metadata": {},
     "output_type": "execute_result"
    }
   ],
   "source": [
    "x, y, z = smp.symbols('x y z')\n",
    "f = x\n",
    "smp.integrate(f, (z, 3, 4-x**2-y**2), (y, 0, 1-x**2), (x, 0, 1))"
   ]
  },
  {
   "cell_type": "markdown",
   "metadata": {},
   "source": [
    "But most of the time they need to be done numerically, such as in this example\n",
    "$$\\int_0^1 \\int_0^{1-x^2} \\int_3^{4-x^2-y^2} xe^{-y}cos(z)dzdydx$$"
   ]
  },
  {
   "cell_type": "markdown",
   "metadata": {},
   "source": [
    "We need scipy to solve such function, sympy wont run!!"
   ]
  },
  {
   "cell_type": "code",
   "execution_count": 71,
   "metadata": {},
   "outputs": [
    {
     "data": {
      "text/plain": [
       "-0.09109526451447894"
      ]
     },
     "execution_count": 71,
     "metadata": {},
     "output_type": "execute_result"
    }
   ],
   "source": [
    "from scipy.integrate import tplquad\n",
    "f = lambda z, y, x: x*np.exp(-y)*np.cos(z)\n",
    "tplquad(f, 0, 1,\n",
    "        lambda x: 0, lambda x: 1-x**2,\n",
    "        lambda x, y: 3, lambda x, y: 4-x**2-y**2)[0]"
   ]
  },
  {
   "cell_type": "markdown",
   "metadata": {},
   "source": [
    "## Integrals and Vector Fields\n",
    "### Line Integrals (Scalar)\n",
    "Given $\\vec{r}(t) = \\langle g(t), h(t), k(t) \\rangle$ the line integral of $f(x, y, z)$ along the curve is \n",
    "$$\\int_Cf(x, y, z)ds=\\int^b_a f(g(t), h(t), k(t))|d\\vec{r}/dt|dt$$"
   ]
  },
  {
   "cell_type": "code",
   "execution_count": 72,
   "metadata": {},
   "outputs": [],
   "source": [
    "t = smp.Symbol('t')\n",
    "x, y, z, f = smp.symbols('x y z f', cls=smp.Function, real=True)\n",
    "x = x(t)\n",
    "y = y(t)\n",
    "z = z(t)\n",
    "r = smp.Matrix([x, y, z])\n",
    "f = f(x, y, z)"
   ]
  },
  {
   "cell_type": "code",
   "execution_count": 73,
   "metadata": {},
   "outputs": [
    {
     "data": {
      "text/latex": [
       "$\\displaystyle \\sqrt{\\left|{\\frac{d}{d t} x{\\left(t \\right)}}\\right|^{2} + \\left|{\\frac{d}{d t} y{\\left(t \\right)}}\\right|^{2} + \\left|{\\frac{d}{d t} z{\\left(t \\right)}}\\right|^{2}} f{\\left(x{\\left(t \\right)},y{\\left(t \\right)},z{\\left(t \\right)} \\right)}$"
      ],
      "text/plain": [
       "sqrt(Abs(Derivative(x(t), t))**2 + Abs(Derivative(y(t), t))**2 + Abs(Derivative(z(t), t))**2)*f(x(t), y(t), z(t))"
      ]
     },
     "execution_count": 73,
     "metadata": {},
     "output_type": "execute_result"
    }
   ],
   "source": [
    "integrand = f*smp.diff(r, t).norm()\n",
    "integrand"
   ]
  },
  {
   "cell_type": "markdown",
   "metadata": {},
   "source": [
    "Suppose\n",
    "- $\\vec{r}(t) = \\langle cos(t), sin(t), t \\rangle$\n",
    "- $f(x, y, z) = 2xy + \\sqrt z$\n",
    "\n",
    "and we are gooing from $t=0$ t0 $t=2\\pi$.In this case it can be solved symbolically"
   ]
  },
  {
   "cell_type": "code",
   "execution_count": 74,
   "metadata": {},
   "outputs": [
    {
     "data": {
      "text/latex": [
       "$\\displaystyle \\frac{8 \\pi^{\\frac{3}{2}}}{3}$"
      ],
      "text/plain": [
       "8*pi**(3/2)/3"
      ]
     },
     "execution_count": 74,
     "metadata": {},
     "output_type": "execute_result"
    }
   ],
   "source": [
    "integrand1 = integrand.subs([(f, 2*x*y+smp.sqrt(z)),\n",
    "                            (x, smp.cos(t)),\n",
    "                            (y, smp.sin(t)),\n",
    "                            (z, t)]).doit().simplify()\n",
    "smp.integrate(integrand1, (t, 0, 2*smp.pi))"
   ]
  },
  {
   "cell_type": "markdown",
   "metadata": {},
   "source": [
    "In general can't be done symbolically. Consider now\n",
    "- $\\vec{r}(t) = \\langle 3cos(t), 2sin(t), e^{t/4} \\rangle$\n",
    "- $f(x, y, z) = 2xy + \\sqrt z$\n",
    "\n",
    "and we are going from $t=0$ to $t=2\\pi$"
   ]
  },
  {
   "cell_type": "code",
   "execution_count": 75,
   "metadata": {},
   "outputs": [],
   "source": [
    "\n",
    "integrand2 = integrand.subs([(f, 2*x*y+smp.sqrt(z)),\n",
    "                            (x, 3*smp.cos(t)),\n",
    "                            (y, smp.sin(t)),\n",
    "                            (z, smp.exp(t/4))]).doit().simplify()\n",
    "# Wont run !!"
   ]
  },
  {
   "cell_type": "code",
   "execution_count": 76,
   "metadata": {},
   "outputs": [
    {
     "data": {
      "text/latex": [
       "$\\displaystyle \\frac{\\left(\\sqrt{e^{\\frac{t}{4}}} + 3 \\sin{\\left(2 t \\right)}\\right) \\sqrt{e^{\\frac{\\operatorname{re}{\\left(t\\right)}}{2}} + 144 \\left|{\\sin{\\left(t \\right)}}\\right|^{2} + 16 \\left|{\\cos{\\left(t \\right)}}\\right|^{2}}}{4}$"
      ],
      "text/plain": [
       "(sqrt(exp(t/4)) + 3*sin(2*t))*sqrt(exp(re(t)/2) + 144*Abs(sin(t))**2 + 16*Abs(cos(t))**2)/4"
      ]
     },
     "execution_count": 76,
     "metadata": {},
     "output_type": "execute_result"
    }
   ],
   "source": [
    "integrand2"
   ]
  },
  {
   "cell_type": "markdown",
   "metadata": {},
   "source": [
    "Do it numerically using scipy quad function"
   ]
  },
  {
   "cell_type": "code",
   "execution_count": 77,
   "metadata": {},
   "outputs": [
    {
     "data": {
      "text/plain": [
       "21.05530045675979"
      ]
     },
     "execution_count": 77,
     "metadata": {},
     "output_type": "execute_result"
    }
   ],
   "source": [
    "from sympy import lambdify\n",
    "integrand2_num = lambdify([t], integrand2)\n",
    "quad(integrand2_num, 0, 2*np.pi)[0]"
   ]
  },
  {
   "cell_type": "markdown",
   "metadata": {},
   "source": [
    "### Line Integrals (Vector)\n",
    "Given $\\vec{r}(t) = \\langle g(t), h(t), k(t) \\rangle$ the line integral of $\\vec{F}(x, y, z)$ along the curve is\n",
    "$$\\int_C \\vec{F}(x, y, z) \\cdot d\\vec{r} = \\int_a^b \\vec{F}(g(t), h(t), k(t))\\cdot \\frac{d\\vec{r}}{dt}dt$$"
   ]
  },
  {
   "cell_type": "code",
   "execution_count": 78,
   "metadata": {},
   "outputs": [],
   "source": [
    "t = smp.symbols('t', real=True)\n",
    "x, y, z, F1, F2, F3 = smp.symbols('x y z F_1, F_2, F_3', cls=smp.Function, real=True)\n",
    "x = x(t)\n",
    "y = y(t)\n",
    "z = z(t)\n",
    "F1 = F1(x,y,z)\n",
    "F2 = F2(x,y,z)\n",
    "F3 = F3(x,y,z)\n",
    "r = smp.Matrix([x, y, z])\n",
    "F = smp.Matrix([F1, F2, F3])"
   ]
  },
  {
   "cell_type": "code",
   "execution_count": 79,
   "metadata": {},
   "outputs": [
    {
     "data": {
      "text/latex": [
       "$\\displaystyle F_{1}{\\left(x{\\left(t \\right)},y{\\left(t \\right)},z{\\left(t \\right)} \\right)} \\frac{d}{d t} x{\\left(t \\right)} + F_{2}{\\left(x{\\left(t \\right)},y{\\left(t \\right)},z{\\left(t \\right)} \\right)} \\frac{d}{d t} y{\\left(t \\right)} + F_{3}{\\left(x{\\left(t \\right)},y{\\left(t \\right)},z{\\left(t \\right)} \\right)} \\frac{d}{d t} z{\\left(t \\right)}$"
      ],
      "text/plain": [
       "F_1(x(t), y(t), z(t))*Derivative(x(t), t) + F_2(x(t), y(t), z(t))*Derivative(y(t), t) + F_3(x(t), y(t), z(t))*Derivative(z(t), t)"
      ]
     },
     "execution_count": 79,
     "metadata": {},
     "output_type": "execute_result"
    }
   ],
   "source": [
    "integrand = F.dot(smp.diff(r, t))\n",
    "integrand"
   ]
  },
  {
   "cell_type": "markdown",
   "metadata": {},
   "source": [
    "Now similar to scalar line integrals we can subs the values to check the results"
   ]
  },
  {
   "cell_type": "markdown",
   "metadata": {},
   "source": [
    "### Surface Integrals (Scalar)\n",
    "Area of a surface parameterized by $\\vec{r}(u,v)$ is given by\n",
    "$$A = \\iint_S \\bigg| \\frac{d\\vec{r}}{du} \\times \\frac{d\\vec{r}}{dv} \\bigg| dudv$$\n",
    "The surface integral of a scalar function $G(\\vec{r})$ is given by\n",
    "$$\\iint_S G(\\vec{r}(u, v))\\bigg|\\frac{d\\vec{r}}{du} \\times \\frac{d\\vec{r}}{dv} \\bigg| dudv$$"
   ]
  },
  {
   "cell_type": "markdown",
   "metadata": {},
   "source": [
    "2D parabola: $\\vec{r}(x, y) = \\langle x, y, x^2+y^2 \\rangle$ and thus $\\vec{r}(\\rho, \\theta) = \\langle \\rho cos\\theta, \\rho sin\\theta, \\rho^2 \\rangle$. Suppose the surface density is given by $G(x, y, z) = x^2+y^2$. Find the surface integral for $0<\\rho<1$ and $0<\\theta<2\\pi$"
   ]
  },
  {
   "cell_type": "code",
   "execution_count": 80,
   "metadata": {},
   "outputs": [],
   "source": [
    "rho, the = smp.symbols(r'\\rho \\theta', pos=True, real=True)\n",
    "x, y, z, G = smp.symbols('x y z G', cls=smp.Function, real=True)\n",
    "x = x(rho, the)\n",
    "y = y(rho, the)\n",
    "z = z(rho, the)\n",
    "G = G(x, y, z)\n",
    "r = smp.Matrix([x, y, z])"
   ]
  },
  {
   "cell_type": "code",
   "execution_count": 81,
   "metadata": {},
   "outputs": [
    {
     "data": {
      "text/latex": [
       "$\\displaystyle \\sqrt{\\left|{\\frac{\\partial}{\\partial \\rho} x{\\left(\\rho,\\theta \\right)} \\frac{\\partial}{\\partial \\theta} y{\\left(\\rho,\\theta \\right)} - \\frac{\\partial}{\\partial \\theta} x{\\left(\\rho,\\theta \\right)} \\frac{\\partial}{\\partial \\rho} y{\\left(\\rho,\\theta \\right)}}\\right|^{2} + \\left|{\\frac{\\partial}{\\partial \\rho} x{\\left(\\rho,\\theta \\right)} \\frac{\\partial}{\\partial \\theta} z{\\left(\\rho,\\theta \\right)} - \\frac{\\partial}{\\partial \\theta} x{\\left(\\rho,\\theta \\right)} \\frac{\\partial}{\\partial \\rho} z{\\left(\\rho,\\theta \\right)}}\\right|^{2} + \\left|{\\frac{\\partial}{\\partial \\rho} y{\\left(\\rho,\\theta \\right)} \\frac{\\partial}{\\partial \\theta} z{\\left(\\rho,\\theta \\right)} - \\frac{\\partial}{\\partial \\theta} y{\\left(\\rho,\\theta \\right)} \\frac{\\partial}{\\partial \\rho} z{\\left(\\rho,\\theta \\right)}}\\right|^{2}} G{\\left(x{\\left(\\rho,\\theta \\right)},y{\\left(\\rho,\\theta \\right)},z{\\left(\\rho,\\theta \\right)} \\right)}$"
      ],
      "text/plain": [
       "sqrt(Abs(Derivative(x(\\rho, \\theta), \\rho)*Derivative(y(\\rho, \\theta), \\theta) - Derivative(x(\\rho, \\theta), \\theta)*Derivative(y(\\rho, \\theta), \\rho))**2 + Abs(Derivative(x(\\rho, \\theta), \\rho)*Derivative(z(\\rho, \\theta), \\theta) - Derivative(x(\\rho, \\theta), \\theta)*Derivative(z(\\rho, \\theta), \\rho))**2 + Abs(Derivative(y(\\rho, \\theta), \\rho)*Derivative(z(\\rho, \\theta), \\theta) - Derivative(y(\\rho, \\theta), \\theta)*Derivative(z(\\rho, \\theta), \\rho))**2)*G(x(\\rho, \\theta), y(\\rho, \\theta), z(\\rho, \\theta))"
      ]
     },
     "execution_count": 81,
     "metadata": {},
     "output_type": "execute_result"
    }
   ],
   "source": [
    "integrand = G*smp.diff(r, rho).cross(smp.diff(r, the)).norm()\n",
    "integrand"
   ]
  },
  {
   "cell_type": "code",
   "execution_count": 82,
   "metadata": {},
   "outputs": [
    {
     "data": {
      "text/latex": [
       "$\\displaystyle \\rho^{2} \\sqrt{4 \\rho^{2} + 1} \\left|{\\rho}\\right|$"
      ],
      "text/plain": [
       "\\rho**2*sqrt(4*\\rho**2 + 1)*Abs(\\rho)"
      ]
     },
     "execution_count": 82,
     "metadata": {},
     "output_type": "execute_result"
    }
   ],
   "source": [
    "integrand1 = integrand.subs([(G, x**2+y**2),\n",
    "                             (x, rho*smp.cos(the)),\n",
    "                             (y, rho*smp.sin(the)),\n",
    "                             (z, rho**2)]).doit().simplify()\n",
    "integrand1"
   ]
  },
  {
   "cell_type": "code",
   "execution_count": 83,
   "metadata": {},
   "outputs": [
    {
     "data": {
      "text/latex": [
       "$\\displaystyle \\frac{\\pi}{60} + \\frac{5 \\sqrt{5} \\pi}{12}$"
      ],
      "text/plain": [
       "pi/60 + 5*sqrt(5)*pi/12"
      ]
     },
     "execution_count": 83,
     "metadata": {},
     "output_type": "execute_result"
    }
   ],
   "source": [
    "smp.integrate(integrand1, (the, 0, 2*smp.pi), (rho, 0, 1))"
   ]
  },
  {
   "cell_type": "markdown",
   "metadata": {},
   "source": [
    "As before, if this integral can't be done symbolically, we need to use scipy to convert to numerical function"
   ]
  },
  {
   "cell_type": "markdown",
   "metadata": {},
   "source": [
    "### Surface Integrals (Vector)\n",
    "The surface integral of a vector function $\\vec{G}(\\vec{r})$ is given by\n",
    "$$\\iint_S \\vec{G}(\\vec{r}(u, v))\\cdot \\bigg(\\frac{d\\vec{r}}{du} \\times \\frac{d\\vec{r}}{dv} \\bigg) dudv$$\n",
    "This is also known as the flux of the vector field $\\vec{G}$ through the surface\n",
    "\n",
    "2D parabola: $\\vec{r}(x, y) = \\langle x, y, x^2+y^2 \\rangle$ and thus $\\vec{r}(\\rho, \\theta) = \\langle \\rho cos\\theta, \\rho sin\\theta, \\rho^2 \\rangle$.Suppose a vector field is given by $\\vec{G}(x, y, z) = \\langle y^2, z, 0 \\rangle$. Find the flux of $\\vec{G}$ through half the surface for $0 < \\rho < 1$ and $0<\\theta<\\pi$"
   ]
  },
  {
   "cell_type": "code",
   "execution_count": 84,
   "metadata": {},
   "outputs": [],
   "source": [
    "rho, the = smp.symbols(r'\\rho \\theta', pos=True, real=True)\n",
    "x, y, z, G1, G2, G3 = smp.symbols('x y z G_1 G_2 G_3', cls=smp.Function, real=True)\n",
    "x = x(rho, the)\n",
    "y = y(rho, the)\n",
    "z = z(rho, the)\n",
    "G1 = G1(x, y, z)\n",
    "G2 = G2(x, y, z)\n",
    "G3 = G3(x, y, z)\n",
    "r = smp.Matrix([x, y, z])\n",
    "G = smp.Matrix([G1, G2, G3])"
   ]
  },
  {
   "cell_type": "code",
   "execution_count": 85,
   "metadata": {},
   "outputs": [
    {
     "data": {
      "text/latex": [
       "$\\displaystyle \\left(\\frac{\\partial}{\\partial \\rho} x{\\left(\\rho,\\theta \\right)} \\frac{\\partial}{\\partial \\theta} y{\\left(\\rho,\\theta \\right)} - \\frac{\\partial}{\\partial \\theta} x{\\left(\\rho,\\theta \\right)} \\frac{\\partial}{\\partial \\rho} y{\\left(\\rho,\\theta \\right)}\\right) G_{3}{\\left(x{\\left(\\rho,\\theta \\right)},y{\\left(\\rho,\\theta \\right)},z{\\left(\\rho,\\theta \\right)} \\right)} + \\left(- \\frac{\\partial}{\\partial \\rho} x{\\left(\\rho,\\theta \\right)} \\frac{\\partial}{\\partial \\theta} z{\\left(\\rho,\\theta \\right)} + \\frac{\\partial}{\\partial \\theta} x{\\left(\\rho,\\theta \\right)} \\frac{\\partial}{\\partial \\rho} z{\\left(\\rho,\\theta \\right)}\\right) G_{2}{\\left(x{\\left(\\rho,\\theta \\right)},y{\\left(\\rho,\\theta \\right)},z{\\left(\\rho,\\theta \\right)} \\right)} + \\left(\\frac{\\partial}{\\partial \\rho} y{\\left(\\rho,\\theta \\right)} \\frac{\\partial}{\\partial \\theta} z{\\left(\\rho,\\theta \\right)} - \\frac{\\partial}{\\partial \\theta} y{\\left(\\rho,\\theta \\right)} \\frac{\\partial}{\\partial \\rho} z{\\left(\\rho,\\theta \\right)}\\right) G_{1}{\\left(x{\\left(\\rho,\\theta \\right)},y{\\left(\\rho,\\theta \\right)},z{\\left(\\rho,\\theta \\right)} \\right)}$"
      ],
      "text/plain": [
       "(Derivative(x(\\rho, \\theta), \\rho)*Derivative(y(\\rho, \\theta), \\theta) - Derivative(x(\\rho, \\theta), \\theta)*Derivative(y(\\rho, \\theta), \\rho))*G_3(x(\\rho, \\theta), y(\\rho, \\theta), z(\\rho, \\theta)) + (-Derivative(x(\\rho, \\theta), \\rho)*Derivative(z(\\rho, \\theta), \\theta) + Derivative(x(\\rho, \\theta), \\theta)*Derivative(z(\\rho, \\theta), \\rho))*G_2(x(\\rho, \\theta), y(\\rho, \\theta), z(\\rho, \\theta)) + (Derivative(y(\\rho, \\theta), \\rho)*Derivative(z(\\rho, \\theta), \\theta) - Derivative(y(\\rho, \\theta), \\theta)*Derivative(z(\\rho, \\theta), \\rho))*G_1(x(\\rho, \\theta), y(\\rho, \\theta), z(\\rho, \\theta))"
      ]
     },
     "execution_count": 85,
     "metadata": {},
     "output_type": "execute_result"
    }
   ],
   "source": [
    "integrand = G.dot(smp.diff(r, rho).cross(smp.diff(r, the)))\n",
    "integrand"
   ]
  },
  {
   "cell_type": "code",
   "execution_count": 86,
   "metadata": {},
   "outputs": [
    {
     "data": {
      "text/latex": [
       "$\\displaystyle - 2 \\rho^{4} \\left(\\frac{\\sin{\\left(2 \\theta \\right)}}{2} + 1\\right) \\sin{\\left(\\theta \\right)}$"
      ],
      "text/plain": [
       "-2*\\rho**4*(sin(2*\\theta)/2 + 1)*sin(\\theta)"
      ]
     },
     "execution_count": 86,
     "metadata": {},
     "output_type": "execute_result"
    }
   ],
   "source": [
    "integrand1 = integrand.subs([(G1, y**2),\n",
    "                             (G2, z),\n",
    "                             (G3, 0),\n",
    "                             (x, rho*smp.cos(the)),\n",
    "                             (y, rho*smp.sin(the)),\n",
    "                             (z, rho**2)]).doit().simplify()\n",
    "integrand1"
   ]
  },
  {
   "cell_type": "code",
   "execution_count": 87,
   "metadata": {},
   "outputs": [
    {
     "data": {
      "text/latex": [
       "$\\displaystyle - \\frac{4}{5}$"
      ],
      "text/plain": [
       "-4/5"
      ]
     },
     "execution_count": 87,
     "metadata": {},
     "output_type": "execute_result"
    }
   ],
   "source": [
    "smp.integrate(integrand1, (the, 0, smp.pi), (rho, 0, 1))"
   ]
  },
  {
   "cell_type": "markdown",
   "metadata": {},
   "source": [
    "Again, if this could not be done symbolically, one would need to convert the integrand into a numpy function and integrate using scipys quad function, like in previous examples."
   ]
  }
 ],
 "metadata": {
  "kernelspec": {
   "display_name": "Python 3.10.8 64-bit (microsoft store)",
   "language": "python",
   "name": "python3"
  },
  "language_info": {
   "codemirror_mode": {
    "name": "ipython",
    "version": 3
   },
   "file_extension": ".py",
   "mimetype": "text/x-python",
   "name": "python",
   "nbconvert_exporter": "python",
   "pygments_lexer": "ipython3",
   "version": "3.10.9 (tags/v3.10.9:1dd9be6, Dec  6 2022, 20:01:21) [MSC v.1934 64 bit (AMD64)]"
  },
  "orig_nbformat": 4,
  "vscode": {
   "interpreter": {
    "hash": "02574bea12815e0b9afd0ecc13f0c7c2150d38e5da6563144d2b59b5961010a9"
   }
  }
 },
 "nbformat": 4,
 "nbformat_minor": 2
}
