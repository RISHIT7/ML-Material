{
 "cells": [
  {
   "cell_type": "code",
   "execution_count": 1,
   "id": "2030522b",
   "metadata": {
    "_cell_guid": "b1076dfc-b9ad-4769-8c92-a6c4dae69d19",
    "_uuid": "8f2839f25d086af736a60e9eeb907d3b93b6e0e5",
    "execution": {
     "iopub.execute_input": "2024-05-18T09:58:56.947909Z",
     "iopub.status.busy": "2024-05-18T09:58:56.947355Z",
     "iopub.status.idle": "2024-05-18T09:58:57.947627Z",
     "shell.execute_reply": "2024-05-18T09:58:57.946364Z"
    },
    "papermill": {
     "duration": 1.013057,
     "end_time": "2024-05-18T09:58:57.950396",
     "exception": false,
     "start_time": "2024-05-18T09:58:56.937339",
     "status": "completed"
    },
    "tags": []
   },
   "outputs": [],
   "source": [
    "import numpy as np # linear algebra\n",
    "import pandas as pd # data processing, CSV file I/O (e.g. pd.read_csv)"
   ]
  },
  {
   "cell_type": "code",
   "execution_count": 2,
   "id": "29b2afbb",
   "metadata": {
    "execution": {
     "iopub.execute_input": "2024-05-18T09:58:57.966475Z",
     "iopub.status.busy": "2024-05-18T09:58:57.965945Z",
     "iopub.status.idle": "2024-05-18T09:58:57.976133Z",
     "shell.execute_reply": "2024-05-18T09:58:57.974892Z"
    },
    "papermill": {
     "duration": 0.020911,
     "end_time": "2024-05-18T09:58:57.978484",
     "exception": false,
     "start_time": "2024-05-18T09:58:57.957573",
     "status": "completed"
    },
    "tags": []
   },
   "outputs": [
    {
     "data": {
      "text/plain": [
       "array([1, 2, 3])"
      ]
     },
     "execution_count": 2,
     "metadata": {},
     "output_type": "execute_result"
    }
   ],
   "source": [
    "a = np.array([1, 2, 3])\n",
    "a"
   ]
  },
  {
   "cell_type": "code",
   "execution_count": 3,
   "id": "ed6e2468",
   "metadata": {
    "execution": {
     "iopub.execute_input": "2024-05-18T09:58:57.994815Z",
     "iopub.status.busy": "2024-05-18T09:58:57.994426Z",
     "iopub.status.idle": "2024-05-18T09:58:57.998758Z",
     "shell.execute_reply": "2024-05-18T09:58:57.997887Z"
    },
    "papermill": {
     "duration": 0.01544,
     "end_time": "2024-05-18T09:58:58.001161",
     "exception": false,
     "start_time": "2024-05-18T09:58:57.985721",
     "status": "completed"
    },
    "tags": []
   },
   "outputs": [],
   "source": [
    "import time"
   ]
  },
  {
   "cell_type": "code",
   "execution_count": 4,
   "id": "383d242f",
   "metadata": {
    "execution": {
     "iopub.execute_input": "2024-05-18T09:58:58.018067Z",
     "iopub.status.busy": "2024-05-18T09:58:58.016911Z",
     "iopub.status.idle": "2024-05-18T09:58:58.056483Z",
     "shell.execute_reply": "2024-05-18T09:58:58.054694Z"
    },
    "papermill": {
     "duration": 0.052739,
     "end_time": "2024-05-18T09:58:58.061069",
     "exception": false,
     "start_time": "2024-05-18T09:58:58.008330",
     "status": "completed"
    },
    "tags": []
   },
   "outputs": [
    {
     "name": "stdout",
     "output_type": "stream",
     "text": [
      "Vectorized time: 1.027822494506836ms\n"
     ]
    }
   ],
   "source": [
    "a = np.random.rand(1000000)\n",
    "b = np.random.rand(1000000)\n",
    "\n",
    "tic = time.time()\n",
    "c = np.dot(a, b)\n",
    "toc = time.time()\n",
    "\n",
    "print(f\"Vectorized time: {str(1000*(toc-tic))}ms\")"
   ]
  },
  {
   "cell_type": "code",
   "execution_count": 5,
   "id": "2e565101",
   "metadata": {
    "execution": {
     "iopub.execute_input": "2024-05-18T09:58:58.095498Z",
     "iopub.status.busy": "2024-05-18T09:58:58.094590Z",
     "iopub.status.idle": "2024-05-18T09:58:58.975574Z",
     "shell.execute_reply": "2024-05-18T09:58:58.974404Z"
    },
    "papermill": {
     "duration": 0.90121,
     "end_time": "2024-05-18T09:58:58.977989",
     "exception": false,
     "start_time": "2024-05-18T09:58:58.076779",
     "status": "completed"
    },
    "tags": []
   },
   "outputs": [
    {
     "name": "stdout",
     "output_type": "stream",
     "text": [
      "Non Vectorized: 872.2748756408691ms\n"
     ]
    }
   ],
   "source": [
    "c = 0\n",
    "tic = time.time()\n",
    "for i in range(1000000):\n",
    "    c += a[i]*b[i]\n",
    "toc = time.time()\n",
    "\n",
    "print(f\"Non Vectorized: {str(1000*(toc-tic))}ms\")"
   ]
  },
  {
   "cell_type": "markdown",
   "id": "305db606",
   "metadata": {
    "papermill": {
     "duration": 0.006918,
     "end_time": "2024-05-18T09:58:58.992243",
     "exception": false,
     "start_time": "2024-05-18T09:58:58.985325",
     "status": "completed"
    },
    "tags": []
   },
   "source": [
    "Hence Vectorisation does a lot good 👍"
   ]
  },
  {
   "cell_type": "markdown",
   "id": "1c0407f2",
   "metadata": {
    "papermill": {
     "duration": 0.006998,
     "end_time": "2024-05-18T09:58:59.006389",
     "exception": false,
     "start_time": "2024-05-18T09:58:58.999391",
     "status": "completed"
    },
    "tags": []
   },
   "source": [
    "## Vectorizing Examples"
   ]
  },
  {
   "cell_type": "markdown",
   "id": "132bf3f2",
   "metadata": {
    "papermill": {
     "duration": 0.007197,
     "end_time": "2024-05-18T09:58:59.020744",
     "exception": false,
     "start_time": "2024-05-18T09:58:59.013547",
     "status": "completed"
    },
    "tags": []
   },
   "source": [
    "Avoid explicit for loops !"
   ]
  },
  {
   "cell_type": "markdown",
   "id": "9aa40567",
   "metadata": {
    "papermill": {
     "duration": 0.007201,
     "end_time": "2024-05-18T09:58:59.035233",
     "exception": false,
     "start_time": "2024-05-18T09:58:59.028032",
     "status": "completed"
    },
    "tags": []
   },
   "source": [
    "### Logistic Regression"
   ]
  },
  {
   "cell_type": "code",
   "execution_count": 6,
   "id": "2bee0ff9",
   "metadata": {
    "execution": {
     "iopub.execute_input": "2024-05-18T09:58:59.052555Z",
     "iopub.status.busy": "2024-05-18T09:58:59.052176Z",
     "iopub.status.idle": "2024-05-18T09:58:59.057998Z",
     "shell.execute_reply": "2024-05-18T09:58:59.056612Z"
    },
    "papermill": {
     "duration": 0.017876,
     "end_time": "2024-05-18T09:58:59.060346",
     "exception": false,
     "start_time": "2024-05-18T09:58:59.042470",
     "status": "completed"
    },
    "tags": []
   },
   "outputs": [],
   "source": [
    "# x[:][0] is one training set, x[:][1] begin other, x[0], x[1], x[2] are different features\n",
    "x = np.array([[1, 2, 3], [4, 5, 6], [7, 8, 9]])\n",
    "y = np.array([1, 0, 1])"
   ]
  },
  {
   "cell_type": "code",
   "execution_count": 7,
   "id": "42200e98",
   "metadata": {
    "execution": {
     "iopub.execute_input": "2024-05-18T09:58:59.076429Z",
     "iopub.status.busy": "2024-05-18T09:58:59.076003Z",
     "iopub.status.idle": "2024-05-18T09:58:59.082031Z",
     "shell.execute_reply": "2024-05-18T09:58:59.080843Z"
    },
    "papermill": {
     "duration": 0.017151,
     "end_time": "2024-05-18T09:58:59.084763",
     "exception": false,
     "start_time": "2024-05-18T09:58:59.067612",
     "status": "completed"
    },
    "tags": []
   },
   "outputs": [
    {
     "name": "stdout",
     "output_type": "stream",
     "text": [
      "x.shape = (3, 3)\n",
      "y.shape = (3,)\n"
     ]
    }
   ],
   "source": [
    "print(f\"x.shape = {x.shape}\")\n",
    "print(f\"y.shape = {y.shape}\")"
   ]
  },
  {
   "cell_type": "markdown",
   "id": "0cf6766f",
   "metadata": {
    "papermill": {
     "duration": 0.007063,
     "end_time": "2024-05-18T09:58:59.099359",
     "exception": false,
     "start_time": "2024-05-18T09:58:59.092296",
     "status": "completed"
    },
    "tags": []
   },
   "source": [
    "Since one of our training example is a three dimensional vector, our weights vector will be a 1*3 dimensional vector, and bias 'b' will be a one dimensional vector or a scalar"
   ]
  },
  {
   "cell_type": "code",
   "execution_count": 8,
   "id": "315ef34a",
   "metadata": {
    "execution": {
     "iopub.execute_input": "2024-05-18T09:58:59.116404Z",
     "iopub.status.busy": "2024-05-18T09:58:59.115975Z",
     "iopub.status.idle": "2024-05-18T09:58:59.122137Z",
     "shell.execute_reply": "2024-05-18T09:58:59.120712Z"
    },
    "papermill": {
     "duration": 0.017545,
     "end_time": "2024-05-18T09:58:59.124731",
     "exception": false,
     "start_time": "2024-05-18T09:58:59.107186",
     "status": "completed"
    },
    "tags": []
   },
   "outputs": [],
   "source": [
    "w = np.random.rand(3)\n",
    "b = np.random.rand(1)"
   ]
  },
  {
   "cell_type": "code",
   "execution_count": 9,
   "id": "34bbde05",
   "metadata": {
    "execution": {
     "iopub.execute_input": "2024-05-18T09:58:59.141516Z",
     "iopub.status.busy": "2024-05-18T09:58:59.141067Z",
     "iopub.status.idle": "2024-05-18T09:58:59.146900Z",
     "shell.execute_reply": "2024-05-18T09:58:59.145805Z"
    },
    "papermill": {
     "duration": 0.017421,
     "end_time": "2024-05-18T09:58:59.149639",
     "exception": false,
     "start_time": "2024-05-18T09:58:59.132218",
     "status": "completed"
    },
    "tags": []
   },
   "outputs": [
    {
     "name": "stdout",
     "output_type": "stream",
     "text": [
      "w.shape = (3,)\n",
      "b.shape = (1,)\n"
     ]
    }
   ],
   "source": [
    "print(f\"w.shape = {w.shape}\")\n",
    "print(f\"b.shape = {b.shape}\")"
   ]
  },
  {
   "cell_type": "markdown",
   "id": "1db53769",
   "metadata": {
    "papermill": {
     "duration": 0.007181,
     "end_time": "2024-05-18T09:58:59.164256",
     "exception": false,
     "start_time": "2024-05-18T09:58:59.157075",
     "status": "completed"
    },
    "tags": []
   },
   "source": [
    "Calculating the function $f(x)$ given by,\n",
    "$$f_{\\vec{w}, b}(\\vec{x}) = \\vec{w}^{T} \\cdot \\vec{x} + b$$"
   ]
  },
  {
   "cell_type": "code",
   "execution_count": 10,
   "id": "9cfdfe1b",
   "metadata": {
    "execution": {
     "iopub.execute_input": "2024-05-18T09:58:59.180828Z",
     "iopub.status.busy": "2024-05-18T09:58:59.180437Z",
     "iopub.status.idle": "2024-05-18T09:58:59.188653Z",
     "shell.execute_reply": "2024-05-18T09:58:59.187452Z"
    },
    "papermill": {
     "duration": 0.019916,
     "end_time": "2024-05-18T09:58:59.191492",
     "exception": false,
     "start_time": "2024-05-18T09:58:59.171576",
     "status": "completed"
    },
    "tags": []
   },
   "outputs": [
    {
     "data": {
      "text/plain": [
       "array([4.74218496, 6.02756978, 7.3129546 ])"
      ]
     },
     "execution_count": 10,
     "metadata": {},
     "output_type": "execute_result"
    }
   ],
   "source": [
    "f = np.transpose(w) @ x + b\n",
    "f"
   ]
  },
  {
   "cell_type": "markdown",
   "id": "6cb3964e",
   "metadata": {
    "papermill": {
     "duration": 0.007428,
     "end_time": "2024-05-18T09:58:59.206781",
     "exception": false,
     "start_time": "2024-05-18T09:58:59.199353",
     "status": "completed"
    },
    "tags": []
   },
   "source": [
    "Calculating $\\hat{y}$\n",
    "$$\\hat{y} = \\sigma(f_{\\vec{w}, b}(\\vec{x}))$$ \\\n",
    "$$\\hat{y} = \\frac{1}{1+e^{-(f_{\\vec{w}, b}(\\vec{x}))}}$$"
   ]
  },
  {
   "cell_type": "code",
   "execution_count": 11,
   "id": "fbe72efa",
   "metadata": {
    "execution": {
     "iopub.execute_input": "2024-05-18T09:58:59.223930Z",
     "iopub.status.busy": "2024-05-18T09:58:59.223554Z",
     "iopub.status.idle": "2024-05-18T09:58:59.230590Z",
     "shell.execute_reply": "2024-05-18T09:58:59.229455Z"
    },
    "papermill": {
     "duration": 0.018645,
     "end_time": "2024-05-18T09:58:59.233062",
     "exception": false,
     "start_time": "2024-05-18T09:58:59.214417",
     "status": "completed"
    },
    "tags": []
   },
   "outputs": [
    {
     "data": {
      "text/plain": [
       "array([0.0086442 , 0.00240555, 0.0006664 ])"
      ]
     },
     "execution_count": 11,
     "metadata": {},
     "output_type": "execute_result"
    }
   ],
   "source": [
    "y_pred = 1/(1+np.exp(f))\n",
    "y_pred"
   ]
  },
  {
   "cell_type": "markdown",
   "id": "b63ef1b0",
   "metadata": {
    "papermill": {
     "duration": 0.007518,
     "end_time": "2024-05-18T09:58:59.248218",
     "exception": false,
     "start_time": "2024-05-18T09:58:59.240700",
     "status": "completed"
    },
    "tags": []
   },
   "source": [
    "Calculating the cost\n",
    "$$J(\\vec{w}, b) = \\frac{1}{m} \\sum_{i=1}^{m}\\big[ -y*log(\\hat{y}) - (1-y)*log(1-\\hat{y}) \\big]$$"
   ]
  },
  {
   "cell_type": "code",
   "execution_count": 12,
   "id": "cb7eebb0",
   "metadata": {
    "execution": {
     "iopub.execute_input": "2024-05-18T09:58:59.265473Z",
     "iopub.status.busy": "2024-05-18T09:58:59.265089Z",
     "iopub.status.idle": "2024-05-18T09:58:59.274776Z",
     "shell.execute_reply": "2024-05-18T09:58:59.273657Z"
    },
    "papermill": {
     "duration": 0.021154,
     "end_time": "2024-05-18T09:58:59.277104",
     "exception": false,
     "start_time": "2024-05-18T09:58:59.255950",
     "status": "completed"
    },
    "tags": []
   },
   "outputs": [
    {
     "data": {
      "text/plain": [
       "array([4.75086674e+00, 2.40844433e-03, 7.31362122e+00])"
      ]
     },
     "execution_count": 12,
     "metadata": {},
     "output_type": "execute_result"
    }
   ],
   "source": [
    "Loss = -(y*np.log(y_pred)) - ((1-y)*np.log(1-y_pred))\n",
    "Loss"
   ]
  },
  {
   "cell_type": "code",
   "execution_count": 13,
   "id": "d9b77a13",
   "metadata": {
    "execution": {
     "iopub.execute_input": "2024-05-18T09:58:59.294891Z",
     "iopub.status.busy": "2024-05-18T09:58:59.294473Z",
     "iopub.status.idle": "2024-05-18T09:58:59.301879Z",
     "shell.execute_reply": "2024-05-18T09:58:59.300624Z"
    },
    "papermill": {
     "duration": 0.019093,
     "end_time": "2024-05-18T09:58:59.304280",
     "exception": false,
     "start_time": "2024-05-18T09:58:59.285187",
     "status": "completed"
    },
    "tags": []
   },
   "outputs": [
    {
     "data": {
      "text/plain": [
       "4.022298801565044"
      ]
     },
     "execution_count": 13,
     "metadata": {},
     "output_type": "execute_result"
    }
   ],
   "source": [
    "Cost = np.sum(Loss)/Loss.shape[0]\n",
    "Cost"
   ]
  },
  {
   "cell_type": "code",
   "execution_count": null,
   "id": "d1d6c7d9",
   "metadata": {
    "papermill": {
     "duration": 0.007723,
     "end_time": "2024-05-18T09:58:59.320259",
     "exception": false,
     "start_time": "2024-05-18T09:58:59.312536",
     "status": "completed"
    },
    "tags": []
   },
   "outputs": [],
   "source": []
  }
 ],
 "metadata": {
  "kaggle": {
   "accelerator": "none",
   "dataSources": [],
   "dockerImageVersionId": 30698,
   "isGpuEnabled": false,
   "isInternetEnabled": false,
   "language": "python",
   "sourceType": "notebook"
  },
  "kernelspec": {
   "display_name": "Python 3",
   "language": "python",
   "name": "python3"
  },
  "language_info": {
   "codemirror_mode": {
    "name": "ipython",
    "version": 3
   },
   "file_extension": ".py",
   "mimetype": "text/x-python",
   "name": "python",
   "nbconvert_exporter": "python",
   "pygments_lexer": "ipython3",
   "version": "3.10.13"
  },
  "papermill": {
   "default_parameters": {},
   "duration": 5.93887,
   "end_time": "2024-05-18T09:58:59.748752",
   "environment_variables": {},
   "exception": null,
   "input_path": "__notebook__.ipynb",
   "output_path": "__notebook__.ipynb",
   "parameters": {},
   "start_time": "2024-05-18T09:58:53.809882",
   "version": "2.5.0"
  }
 },
 "nbformat": 4,
 "nbformat_minor": 5
}
