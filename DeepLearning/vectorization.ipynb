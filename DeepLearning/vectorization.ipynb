{
 "cells": [
  {
   "cell_type": "code",
   "execution_count": 1,
   "id": "930c83ff",
   "metadata": {
    "_cell_guid": "b1076dfc-b9ad-4769-8c92-a6c4dae69d19",
    "_uuid": "8f2839f25d086af736a60e9eeb907d3b93b6e0e5",
    "execution": {
     "iopub.execute_input": "2024-05-18T10:18:47.592814Z",
     "iopub.status.busy": "2024-05-18T10:18:47.592336Z",
     "iopub.status.idle": "2024-05-18T10:18:48.520876Z",
     "shell.execute_reply": "2024-05-18T10:18:48.519604Z"
    },
    "papermill": {
     "duration": 0.93965,
     "end_time": "2024-05-18T10:18:48.523560",
     "exception": false,
     "start_time": "2024-05-18T10:18:47.583910",
     "status": "completed"
    },
    "tags": []
   },
   "outputs": [],
   "source": [
    "import numpy as np # linear algebra\n",
    "import pandas as pd # data processing, CSV file I/O (e.g. pd.read_csv)"
   ]
  },
  {
   "cell_type": "code",
   "execution_count": 2,
   "id": "324ac5c3",
   "metadata": {
    "execution": {
     "iopub.execute_input": "2024-05-18T10:18:48.540860Z",
     "iopub.status.busy": "2024-05-18T10:18:48.540329Z",
     "iopub.status.idle": "2024-05-18T10:18:48.550161Z",
     "shell.execute_reply": "2024-05-18T10:18:48.548923Z"
    },
    "papermill": {
     "duration": 0.020227,
     "end_time": "2024-05-18T10:18:48.552849",
     "exception": false,
     "start_time": "2024-05-18T10:18:48.532622",
     "status": "completed"
    },
    "tags": []
   },
   "outputs": [
    {
     "data": {
      "text/plain": [
       "array([1, 2, 3])"
      ]
     },
     "execution_count": 2,
     "metadata": {},
     "output_type": "execute_result"
    }
   ],
   "source": [
    "a = np.array([1, 2, 3])\n",
    "a"
   ]
  },
  {
   "cell_type": "code",
   "execution_count": 3,
   "id": "4bf657a4",
   "metadata": {
    "execution": {
     "iopub.execute_input": "2024-05-18T10:18:48.568025Z",
     "iopub.status.busy": "2024-05-18T10:18:48.567239Z",
     "iopub.status.idle": "2024-05-18T10:18:48.572238Z",
     "shell.execute_reply": "2024-05-18T10:18:48.571186Z"
    },
    "papermill": {
     "duration": 0.01521,
     "end_time": "2024-05-18T10:18:48.574533",
     "exception": false,
     "start_time": "2024-05-18T10:18:48.559323",
     "status": "completed"
    },
    "tags": []
   },
   "outputs": [],
   "source": [
    "import time"
   ]
  },
  {
   "cell_type": "code",
   "execution_count": 4,
   "id": "055c4681",
   "metadata": {
    "execution": {
     "iopub.execute_input": "2024-05-18T10:18:48.588565Z",
     "iopub.status.busy": "2024-05-18T10:18:48.587857Z",
     "iopub.status.idle": "2024-05-18T10:18:48.623048Z",
     "shell.execute_reply": "2024-05-18T10:18:48.621754Z"
    },
    "papermill": {
     "duration": 0.046222,
     "end_time": "2024-05-18T10:18:48.626885",
     "exception": false,
     "start_time": "2024-05-18T10:18:48.580663",
     "status": "completed"
    },
    "tags": []
   },
   "outputs": [
    {
     "name": "stdout",
     "output_type": "stream",
     "text": [
      "Vectorized time: 0.9443759918212891ms\n"
     ]
    }
   ],
   "source": [
    "a = np.random.rand(1000000)\n",
    "b = np.random.rand(1000000)\n",
    "\n",
    "tic = time.time()\n",
    "c = np.dot(a, b)\n",
    "toc = time.time()\n",
    "\n",
    "print(f\"Vectorized time: {str(1000*(toc-tic))}ms\")"
   ]
  },
  {
   "cell_type": "code",
   "execution_count": 5,
   "id": "750b273e",
   "metadata": {
    "execution": {
     "iopub.execute_input": "2024-05-18T10:18:48.649662Z",
     "iopub.status.busy": "2024-05-18T10:18:48.648849Z",
     "iopub.status.idle": "2024-05-18T10:18:49.152307Z",
     "shell.execute_reply": "2024-05-18T10:18:49.150999Z"
    },
    "papermill": {
     "duration": 0.51804,
     "end_time": "2024-05-18T10:18:49.155116",
     "exception": false,
     "start_time": "2024-05-18T10:18:48.637076",
     "status": "completed"
    },
    "tags": []
   },
   "outputs": [
    {
     "name": "stdout",
     "output_type": "stream",
     "text": [
      "Non Vectorized: 496.17862701416016ms\n"
     ]
    }
   ],
   "source": [
    "c = 0\n",
    "tic = time.time()\n",
    "for i in range(1000000):\n",
    "    c += a[i]*b[i]\n",
    "toc = time.time()\n",
    "\n",
    "print(f\"Non Vectorized: {str(1000*(toc-tic))}ms\")"
   ]
  },
  {
   "cell_type": "markdown",
   "id": "2821fa6a",
   "metadata": {
    "papermill": {
     "duration": 0.006101,
     "end_time": "2024-05-18T10:18:49.167647",
     "exception": false,
     "start_time": "2024-05-18T10:18:49.161546",
     "status": "completed"
    },
    "tags": []
   },
   "source": [
    "Hence Vectorisation does a lot good 👍"
   ]
  },
  {
   "cell_type": "markdown",
   "id": "645f8a5c",
   "metadata": {
    "papermill": {
     "duration": 0.005862,
     "end_time": "2024-05-18T10:18:49.179667",
     "exception": false,
     "start_time": "2024-05-18T10:18:49.173805",
     "status": "completed"
    },
    "tags": []
   },
   "source": [
    "## Vectorizing Examples"
   ]
  },
  {
   "cell_type": "markdown",
   "id": "f174d8fb",
   "metadata": {
    "papermill": {
     "duration": 0.005885,
     "end_time": "2024-05-18T10:18:49.191757",
     "exception": false,
     "start_time": "2024-05-18T10:18:49.185872",
     "status": "completed"
    },
    "tags": []
   },
   "source": [
    "Avoid explicit for loops !"
   ]
  },
  {
   "cell_type": "markdown",
   "id": "e2d411dc",
   "metadata": {
    "papermill": {
     "duration": 0.007554,
     "end_time": "2024-05-18T10:18:49.205511",
     "exception": false,
     "start_time": "2024-05-18T10:18:49.197957",
     "status": "completed"
    },
    "tags": []
   },
   "source": [
    "### Logistic Regression"
   ]
  },
  {
   "cell_type": "code",
   "execution_count": 6,
   "id": "bd6e2fc3",
   "metadata": {
    "execution": {
     "iopub.execute_input": "2024-05-18T10:18:49.220029Z",
     "iopub.status.busy": "2024-05-18T10:18:49.219621Z",
     "iopub.status.idle": "2024-05-18T10:18:49.225308Z",
     "shell.execute_reply": "2024-05-18T10:18:49.223952Z"
    },
    "papermill": {
     "duration": 0.015675,
     "end_time": "2024-05-18T10:18:49.227711",
     "exception": false,
     "start_time": "2024-05-18T10:18:49.212036",
     "status": "completed"
    },
    "tags": []
   },
   "outputs": [],
   "source": [
    "# x[:][0] is one training set, x[:][1] begin other, x[0], x[1], x[2] are different features\n",
    "x = np.array([[1, 2, 3], [4, 5, 6], [7, 8, 9]])\n",
    "y = np.array([1, 0, 1])"
   ]
  },
  {
   "cell_type": "code",
   "execution_count": 7,
   "id": "d5375315",
   "metadata": {
    "execution": {
     "iopub.execute_input": "2024-05-18T10:18:49.241783Z",
     "iopub.status.busy": "2024-05-18T10:18:49.241373Z",
     "iopub.status.idle": "2024-05-18T10:18:49.247052Z",
     "shell.execute_reply": "2024-05-18T10:18:49.245866Z"
    },
    "papermill": {
     "duration": 0.015541,
     "end_time": "2024-05-18T10:18:49.249604",
     "exception": false,
     "start_time": "2024-05-18T10:18:49.234063",
     "status": "completed"
    },
    "tags": []
   },
   "outputs": [
    {
     "name": "stdout",
     "output_type": "stream",
     "text": [
      "x.shape = (3, 3)\n",
      "y.shape = (3,)\n"
     ]
    }
   ],
   "source": [
    "print(f\"x.shape = {x.shape}\")\n",
    "print(f\"y.shape = {y.shape}\")"
   ]
  },
  {
   "cell_type": "markdown",
   "id": "f4d0352e",
   "metadata": {
    "papermill": {
     "duration": 0.00593,
     "end_time": "2024-05-18T10:18:49.261735",
     "exception": false,
     "start_time": "2024-05-18T10:18:49.255805",
     "status": "completed"
    },
    "tags": []
   },
   "source": [
    "Since one of our training example is a three dimensional vector, our weights vector will be a 1*3 dimensional vector, and bias 'b' will be a one dimensional vector or a scalar"
   ]
  },
  {
   "cell_type": "code",
   "execution_count": 8,
   "id": "c29cc5f1",
   "metadata": {
    "execution": {
     "iopub.execute_input": "2024-05-18T10:18:49.275862Z",
     "iopub.status.busy": "2024-05-18T10:18:49.275488Z",
     "iopub.status.idle": "2024-05-18T10:18:49.281064Z",
     "shell.execute_reply": "2024-05-18T10:18:49.280018Z"
    },
    "papermill": {
     "duration": 0.01564,
     "end_time": "2024-05-18T10:18:49.283677",
     "exception": false,
     "start_time": "2024-05-18T10:18:49.268037",
     "status": "completed"
    },
    "tags": []
   },
   "outputs": [],
   "source": [
    "w = np.random.rand(3)\n",
    "b = np.random.rand(1)"
   ]
  },
  {
   "cell_type": "code",
   "execution_count": 9,
   "id": "e51e63e7",
   "metadata": {
    "execution": {
     "iopub.execute_input": "2024-05-18T10:18:49.298288Z",
     "iopub.status.busy": "2024-05-18T10:18:49.297871Z",
     "iopub.status.idle": "2024-05-18T10:18:49.304197Z",
     "shell.execute_reply": "2024-05-18T10:18:49.302499Z"
    },
    "papermill": {
     "duration": 0.016359,
     "end_time": "2024-05-18T10:18:49.306391",
     "exception": false,
     "start_time": "2024-05-18T10:18:49.290032",
     "status": "completed"
    },
    "tags": []
   },
   "outputs": [
    {
     "name": "stdout",
     "output_type": "stream",
     "text": [
      "w.shape = (3,)\n",
      "b.shape = (1,)\n"
     ]
    }
   ],
   "source": [
    "print(f\"w.shape = {w.shape}\")\n",
    "print(f\"b.shape = {b.shape}\")"
   ]
  },
  {
   "cell_type": "markdown",
   "id": "3a827d05",
   "metadata": {
    "papermill": {
     "duration": 0.006497,
     "end_time": "2024-05-18T10:18:49.320978",
     "exception": false,
     "start_time": "2024-05-18T10:18:49.314481",
     "status": "completed"
    },
    "tags": []
   },
   "source": [
    "Calculating the function $f(x)$ given by,\n",
    "$$f_{\\vec{w}, b}(\\vec{x}) = \\vec{w}^{T} \\cdot \\vec{x} + b$$"
   ]
  },
  {
   "cell_type": "code",
   "execution_count": 10,
   "id": "c269f241",
   "metadata": {
    "execution": {
     "iopub.execute_input": "2024-05-18T10:18:49.336351Z",
     "iopub.status.busy": "2024-05-18T10:18:49.335292Z",
     "iopub.status.idle": "2024-05-18T10:18:49.343104Z",
     "shell.execute_reply": "2024-05-18T10:18:49.341725Z"
    },
    "papermill": {
     "duration": 0.01843,
     "end_time": "2024-05-18T10:18:49.345972",
     "exception": false,
     "start_time": "2024-05-18T10:18:49.327542",
     "status": "completed"
    },
    "tags": []
   },
   "outputs": [
    {
     "data": {
      "text/plain": [
       "array([10.28446072, 12.78829606, 15.2921314 ])"
      ]
     },
     "execution_count": 10,
     "metadata": {},
     "output_type": "execute_result"
    }
   ],
   "source": [
    "f = np.transpose(w) @ x + b\n",
    "f"
   ]
  },
  {
   "cell_type": "markdown",
   "id": "b72a3b97",
   "metadata": {
    "papermill": {
     "duration": 0.008278,
     "end_time": "2024-05-18T10:18:49.360950",
     "exception": false,
     "start_time": "2024-05-18T10:18:49.352672",
     "status": "completed"
    },
    "tags": []
   },
   "source": [
    "Calculating $\\hat{y}$\n",
    "$$\\hat{y} = \\sigma(f_{\\vec{w}, b}(\\vec{x}))$$ \\\n",
    "$$\\hat{y} = \\frac{1}{1+e^{-(f_{\\vec{w}, b}(\\vec{x}))}}$$"
   ]
  },
  {
   "cell_type": "code",
   "execution_count": 11,
   "id": "a40e4955",
   "metadata": {
    "execution": {
     "iopub.execute_input": "2024-05-18T10:18:49.376615Z",
     "iopub.status.busy": "2024-05-18T10:18:49.376220Z",
     "iopub.status.idle": "2024-05-18T10:18:49.383371Z",
     "shell.execute_reply": "2024-05-18T10:18:49.382269Z"
    },
    "papermill": {
     "duration": 0.017551,
     "end_time": "2024-05-18T10:18:49.385704",
     "exception": false,
     "start_time": "2024-05-18T10:18:49.368153",
     "status": "completed"
    },
    "tags": []
   },
   "outputs": [
    {
     "data": {
      "text/plain": [
       "array([3.41586443e-05, 2.79326652e-06, 2.28408161e-07])"
      ]
     },
     "execution_count": 11,
     "metadata": {},
     "output_type": "execute_result"
    }
   ],
   "source": [
    "y_pred = 1/(1+np.exp(f))\n",
    "y_pred"
   ]
  },
  {
   "cell_type": "markdown",
   "id": "35ecb88b",
   "metadata": {
    "papermill": {
     "duration": 0.006246,
     "end_time": "2024-05-18T10:18:49.398596",
     "exception": false,
     "start_time": "2024-05-18T10:18:49.392350",
     "status": "completed"
    },
    "tags": []
   },
   "source": [
    "Calculating the cost\n",
    "$$J(\\vec{w}, b) = \\frac{1}{m} \\sum_{i=1}^{m}\\big[ -y*log(\\hat{y}) - (1-y)*log(1-\\hat{y}) \\big]$$"
   ]
  },
  {
   "cell_type": "code",
   "execution_count": 12,
   "id": "1bd46aa3",
   "metadata": {
    "execution": {
     "iopub.execute_input": "2024-05-18T10:18:49.414434Z",
     "iopub.status.busy": "2024-05-18T10:18:49.414039Z",
     "iopub.status.idle": "2024-05-18T10:18:49.423988Z",
     "shell.execute_reply": "2024-05-18T10:18:49.422768Z"
    },
    "papermill": {
     "duration": 0.020951,
     "end_time": "2024-05-18T10:18:49.426426",
     "exception": false,
     "start_time": "2024-05-18T10:18:49.405475",
     "status": "completed"
    },
    "tags": []
   },
   "outputs": [
    {
     "data": {
      "text/plain": [
       "array([1.02844949e+01, 2.79327042e-06, 1.52921316e+01])"
      ]
     },
     "execution_count": 12,
     "metadata": {},
     "output_type": "execute_result"
    }
   ],
   "source": [
    "Loss = -(y*np.log(y_pred)) - ((1-y)*np.log(1-y_pred))\n",
    "Loss"
   ]
  },
  {
   "cell_type": "code",
   "execution_count": 13,
   "id": "79116021",
   "metadata": {
    "execution": {
     "iopub.execute_input": "2024-05-18T10:18:49.442898Z",
     "iopub.status.busy": "2024-05-18T10:18:49.441981Z",
     "iopub.status.idle": "2024-05-18T10:18:49.449201Z",
     "shell.execute_reply": "2024-05-18T10:18:49.448359Z"
    },
    "papermill": {
     "duration": 0.018136,
     "end_time": "2024-05-18T10:18:49.451487",
     "exception": false,
     "start_time": "2024-05-18T10:18:49.433351",
     "status": "completed"
    },
    "tags": []
   },
   "outputs": [
    {
     "data": {
      "text/plain": [
       "8.525543099605764"
      ]
     },
     "execution_count": 13,
     "metadata": {},
     "output_type": "execute_result"
    }
   ],
   "source": [
    "Cost = np.sum(Loss)/Loss.shape[0]\n",
    "Cost"
   ]
  },
  {
   "cell_type": "markdown",
   "id": "c4117a4d",
   "metadata": {
    "papermill": {
     "duration": 0.007052,
     "end_time": "2024-05-18T10:18:49.465865",
     "exception": false,
     "start_time": "2024-05-18T10:18:49.458813",
     "status": "completed"
    },
    "tags": []
   },
   "source": [
    "Now, for gradient descent\n",
    "$$d\\vec{z} = \\hat{y} - \\vec{y}$$"
   ]
  },
  {
   "cell_type": "code",
   "execution_count": 14,
   "id": "d913321e",
   "metadata": {
    "execution": {
     "iopub.execute_input": "2024-05-18T10:18:49.481301Z",
     "iopub.status.busy": "2024-05-18T10:18:49.480879Z",
     "iopub.status.idle": "2024-05-18T10:18:49.487606Z",
     "shell.execute_reply": "2024-05-18T10:18:49.486605Z"
    },
    "papermill": {
     "duration": 0.01736,
     "end_time": "2024-05-18T10:18:49.490100",
     "exception": false,
     "start_time": "2024-05-18T10:18:49.472740",
     "status": "completed"
    },
    "tags": []
   },
   "outputs": [
    {
     "data": {
      "text/plain": [
       "array([-9.99965841e-01,  2.79326652e-06, -9.99999772e-01])"
      ]
     },
     "execution_count": 14,
     "metadata": {},
     "output_type": "execute_result"
    }
   ],
   "source": [
    "dz = y_pred - y\n",
    "dz"
   ]
  },
  {
   "cell_type": "markdown",
   "id": "0ec0976f",
   "metadata": {
    "papermill": {
     "duration": 0.006772,
     "end_time": "2024-05-18T10:18:49.503742",
     "exception": false,
     "start_time": "2024-05-18T10:18:49.496970",
     "status": "completed"
    },
    "tags": []
   },
   "source": [
    "Update\n",
    "$$d\\vec{w} = \\frac{d\\vec{x} \\cdot d\\vec{z}^{T}}{m}$$ \\\n",
    "$$d\\vec{b} = \\frac{1}{m}\\sum_{i=1}^{m}dz^{(i)}$$"
   ]
  },
  {
   "cell_type": "code",
   "execution_count": 15,
   "id": "41bb9914",
   "metadata": {
    "execution": {
     "iopub.execute_input": "2024-05-18T10:18:49.519426Z",
     "iopub.status.busy": "2024-05-18T10:18:49.519008Z",
     "iopub.status.idle": "2024-05-18T10:18:49.525589Z",
     "shell.execute_reply": "2024-05-18T10:18:49.524345Z"
    },
    "papermill": {
     "duration": 0.017057,
     "end_time": "2024-05-18T10:18:49.527810",
     "exception": false,
     "start_time": "2024-05-18T10:18:49.510753",
     "status": "completed"
    },
    "tags": []
   },
   "outputs": [],
   "source": [
    "dw = np.dot(x, np.transpose(dz))/dz.shape[0]\n",
    "db = np.sum(dz)/dz.shape[0]"
   ]
  },
  {
   "cell_type": "markdown",
   "id": "414f6af1",
   "metadata": {
    "papermill": {
     "duration": 0.006675,
     "end_time": "2024-05-18T10:18:49.541828",
     "exception": false,
     "start_time": "2024-05-18T10:18:49.535153",
     "status": "completed"
    },
    "tags": []
   },
   "source": [
    "### Broadcasting"
   ]
  },
  {
   "cell_type": "code",
   "execution_count": null,
   "id": "19421f9d",
   "metadata": {
    "papermill": {
     "duration": 0.006633,
     "end_time": "2024-05-18T10:18:49.555478",
     "exception": false,
     "start_time": "2024-05-18T10:18:49.548845",
     "status": "completed"
    },
    "tags": []
   },
   "outputs": [],
   "source": []
  }
 ],
 "metadata": {
  "kaggle": {
   "accelerator": "none",
   "dataSources": [],
   "dockerImageVersionId": 30698,
   "isGpuEnabled": false,
   "isInternetEnabled": false,
   "language": "python",
   "sourceType": "notebook"
  },
  "kernelspec": {
   "display_name": "Python 3",
   "language": "python",
   "name": "python3"
  },
  "language_info": {
   "codemirror_mode": {
    "name": "ipython",
    "version": 3
   },
   "file_extension": ".py",
   "mimetype": "text/x-python",
   "name": "python",
   "nbconvert_exporter": "python",
   "pygments_lexer": "ipython3",
   "version": "3.10.13"
  },
  "papermill": {
   "default_parameters": {},
   "duration": 5.336687,
   "end_time": "2024-05-18T10:18:50.083453",
   "environment_variables": {},
   "exception": null,
   "input_path": "__notebook__.ipynb",
   "output_path": "__notebook__.ipynb",
   "parameters": {},
   "start_time": "2024-05-18T10:18:44.746766",
   "version": "2.5.0"
  }
 },
 "nbformat": 4,
 "nbformat_minor": 5
}
